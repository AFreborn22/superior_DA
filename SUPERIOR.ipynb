{
  "cells": [
    {
      "cell_type": "code",
      "execution_count": null,
      "metadata": {
        "id": "2D7mxTB1mgCA"
      },
      "outputs": [],
      "source": [
        "import pandas as pd\n",
        "import numpy as np\n",
        "import  matplotlib.pyplot as plt\n",
        "import seaborn as sns\n",
        "from scipy import interpolate\n",
        "\n",
        "from scipy.interpolate import CubicSpline"
      ]
    },
    {
      "cell_type": "code",
      "execution_count": null,
      "metadata": {
        "id": "bEo06P7Sm8sH"
      },
      "outputs": [],
      "source": [
        "trainFeatures = pd.read_csv('data/train_features.csv')\n",
        "testFeatures = pd.read_csv('data/test_features.csv')\n",
        "trainLabels = pd.read_csv('data/train_labels.csv')\n",
        "example = pd.read_csv('data/submission_format.csv')"
      ]
    },
    {
      "cell_type": "code",
      "execution_count": null,
      "metadata": {
        "colab": {
          "base_uri": "https://localhost:8080/",
          "height": 226
        },
        "id": "mMKQlPZyoteI",
        "outputId": "b6cca7e9-3b28-48e3-8a91-9c112fedd5b6"
      },
      "outputs": [],
      "source": [
        "trainFeatures.head()"
      ]
    },
    {
      "cell_type": "code",
      "execution_count": null,
      "metadata": {
        "colab": {
          "base_uri": "https://localhost:8080/"
        },
        "id": "PX_jsOen7hko",
        "outputId": "199b9b47-e232-41ea-922f-c99ab04c3f17"
      },
      "outputs": [],
      "source": [
        "trainFeatures.shape"
      ]
    },
    {
      "cell_type": "code",
      "execution_count": null,
      "metadata": {
        "colab": {
          "base_uri": "https://localhost:8080/",
          "height": 226
        },
        "id": "av96Aqkgos7F",
        "outputId": "03050a5a-5de7-42fc-df79-cc00bb630477"
      },
      "outputs": [],
      "source": [
        "testFeatures.head()"
      ]
    },
    {
      "cell_type": "code",
      "execution_count": null,
      "metadata": {
        "colab": {
          "base_uri": "https://localhost:8080/",
          "height": 206
        },
        "id": "pWRc1BDlpUHx",
        "outputId": "1c2478c6-7b7d-498d-d22e-3d2cf904f341"
      },
      "outputs": [],
      "source": [
        "example.head()"
      ]
    },
    {
      "cell_type": "markdown",
      "metadata": {
        "id": "dkK_vAFruPiE"
      },
      "source": [
        "# Data Assessing"
      ]
    },
    {
      "cell_type": "markdown",
      "metadata": {
        "id": "Psp6W-2Lu32X"
      },
      "source": [
        "## Informasi Umum Dataset Train Features"
      ]
    },
    {
      "cell_type": "code",
      "execution_count": null,
      "metadata": {
        "colab": {
          "base_uri": "https://localhost:8080/"
        },
        "id": "feTYV5VzM03a",
        "outputId": "6d39a225-aad1-47a6-c7a7-1803774902c2"
      },
      "outputs": [],
      "source": [
        "trainFeatures.info()"
      ]
    },
    {
      "cell_type": "code",
      "execution_count": null,
      "metadata": {
        "colab": {
          "base_uri": "https://localhost:8080/",
          "height": 320
        },
        "id": "z4DIuVNpdXo6",
        "outputId": "5f27646e-851a-4fde-85d7-6ffd77f9417a"
      },
      "outputs": [],
      "source": [
        "trainFeatures.describe()"
      ]
    },
    {
      "cell_type": "markdown",
      "metadata": {
        "id": "1piJJr4eu8-R"
      },
      "source": [
        "## Cek Nilai Null Dataset Train Features"
      ]
    },
    {
      "cell_type": "code",
      "execution_count": null,
      "metadata": {
        "colab": {
          "base_uri": "https://localhost:8080/"
        },
        "id": "L_9QDPvxddmr",
        "outputId": "7cc888d5-91b6-4bda-d3af-954e6ba86045"
      },
      "outputs": [],
      "source": [
        "trainFeatures.isnull().sum()"
      ]
    },
    {
      "cell_type": "markdown",
      "metadata": {
        "id": "Jq1rp2vrvFDp"
      },
      "source": [
        "## Cek Nilai Duplikat Dataset Train Features"
      ]
    },
    {
      "cell_type": "code",
      "execution_count": null,
      "metadata": {
        "colab": {
          "base_uri": "https://localhost:8080/"
        },
        "id": "1n3lMmbAvRL-",
        "outputId": "43dd9afb-28a7-425e-f999-50cba6336a88"
      },
      "outputs": [],
      "source": [
        "trainFeatures.duplicated().sum()"
      ]
    },
    {
      "cell_type": "markdown",
      "metadata": {
        "id": "74ciVYpkv2Q3"
      },
      "source": [
        "# Data Cleaning"
      ]
    },
    {
      "cell_type": "markdown",
      "metadata": {
        "id": "iUo5NxV4v7XB"
      },
      "source": [
        "## Kolom Pendidikan"
      ]
    },
    {
      "cell_type": "code",
      "execution_count": null,
      "metadata": {
        "colab": {
          "base_uri": "https://localhost:8080/"
        },
        "id": "L5Ii6sBSivmn",
        "outputId": "b35a14fc-6a7f-4cba-bf17-6be74d29c478"
      },
      "outputs": [],
      "source": [
        "# Cek Nilai Unique\n",
        "trainFeatures['pendidikan'].unique()"
      ]
    },
    {
      "cell_type": "markdown",
      "metadata": {
        "id": "fR7L7DXOwZgX"
      },
      "source": [
        "Terdapat dua nilai salah yaitu nan dan '5'. Maka perlu dibersihkan pada dua nilai tersebut."
      ]
    },
    {
      "cell_type": "markdown",
      "metadata": {
        "id": "fETtVqmz9HRq"
      },
      "source": [
        "### Olah Data dengan Nilai Unique '5'"
      ]
    },
    {
      "cell_type": "code",
      "execution_count": null,
      "metadata": {
        "colab": {
          "base_uri": "https://localhost:8080/",
          "height": 132
        },
        "id": "_biw-YdWkAMy",
        "outputId": "f841f601-52c7-472d-f452-a65849b7e8b6"
      },
      "outputs": [],
      "source": [
        "# Ambil contoh nilai pada kolom pendidikan dengan nilai '5'\n",
        "trainFeatures[trainFeatures['pendidikan'] == '5'].head()"
      ]
    },
    {
      "cell_type": "code",
      "execution_count": null,
      "metadata": {
        "id": "TR8SH47equIy"
      },
      "outputs": [],
      "source": [
        "# Mengambil indeks data dengan nilai unique '5'\n",
        "dropPendidikan = trainFeatures[trainFeatures['pendidikan'] == '5'].index\n",
        "# Menghapus nilai dengan indeks tersebut\n",
        "trainFeatures.drop(dropPendidikan, inplace=True)"
      ]
    },
    {
      "cell_type": "markdown",
      "metadata": {
        "id": "407u4fIXxP39"
      },
      "source": [
        "Saat ini nilai dengan inputan '5' sudah terhapus, karena hanya terdapat 2 data saja maka dapat dikatakan aman untuk dihapus.\n",
        "\n",
        "Selanjutnya yaitu menangani data dengan inputan nan. Untuk langkah yang diambil yaitu mengecek seberapa banyak nilai nan yang ada. Jika jumlah terbilang sedikit, langkah yang diambil adalah menghapus nilai tersebut (seperti pada inputan '5' sebelumnya). Namun, jika jumlahnya terbilang cukup banyak, maka langkah yang diambil yaitu mengubah setiap nilai nan menjadi nilai modus pada kolom **pendidikan**."
      ]
    },
    {
      "cell_type": "markdown",
      "metadata": {
        "id": "gKREKga39fxO"
      },
      "source": [
        "### Olah Data dengan Nilai Unique NaN"
      ]
    },
    {
      "cell_type": "code",
      "execution_count": null,
      "metadata": {
        "colab": {
          "base_uri": "https://localhost:8080/",
          "height": 435
        },
        "id": "G9u__T4IyUTa",
        "outputId": "d210030f-e739-4c49-9672-d5e24de5917b"
      },
      "outputs": [],
      "source": [
        "# Mengambil sample data dengan inputan nan\n",
        "dataNanPendidikan = trainFeatures[trainFeatures['pendidikan'].isnull()]\n",
        "\n",
        "# Mengecek Banyak Baris Data\n",
        "print('Banyak Data dengan inputan nan:', dataNanPendidikan.shape[0], '\\n')\n",
        "print('Dengan sample data sebagai berikut: ')\n",
        "dataNanPendidikan.sample(10)"
      ]
    },
    {
      "cell_type": "markdown",
      "metadata": {
        "id": "YjtiVdDAzLWv"
      },
      "source": [
        "Dikarenakan jumlah dari data nan cukup banyak, maka akan dilakukan pengubahan isi dengan data modus pada kolom **pendidikan**."
      ]
    },
    {
      "cell_type": "code",
      "execution_count": null,
      "metadata": {
        "colab": {
          "base_uri": "https://localhost:8080/"
        },
        "id": "mH9PAQ4PkCgA",
        "outputId": "0f75da69-a62b-45e3-a724-af9fca5ba2b7"
      },
      "outputs": [],
      "source": [
        "# Mengambil jumlah isi terbanyak pada kolom pendidikan\n",
        "modePendidikan = trainFeatures['pendidikan'].mode()[0]\n",
        "print('Nilai dengan modus terbanyak adalah', modePendidikan)"
      ]
    },
    {
      "cell_type": "code",
      "execution_count": null,
      "metadata": {
        "id": "_KeArtf4re5S"
      },
      "outputs": [],
      "source": [
        "# Mengubah nilai nan menjadi nilai modus\n",
        "trainFeatures['pendidikan'] = trainFeatures['pendidikan'].fillna(modePendidikan)"
      ]
    },
    {
      "cell_type": "code",
      "execution_count": null,
      "metadata": {
        "colab": {
          "base_uri": "https://localhost:8080/"
        },
        "id": "eFJ0YxDX5WZU",
        "outputId": "4219d5fe-6d66-4f01-a163-40e269e4b325"
      },
      "outputs": [],
      "source": [
        "# Cek ulang nilai unique\n",
        "trainFeatures['pendidikan'].unique()"
      ]
    },
    {
      "cell_type": "markdown",
      "metadata": {
        "id": "-3QumGrJ5mKU"
      },
      "source": [
        "Pada saat ini, kondisi kolom **pendidikan** sudah normal."
      ]
    },
    {
      "cell_type": "markdown",
      "metadata": {
        "id": "teUdIuuj6R5y"
      },
      "source": [
        "## Kolom Status Pernikahan"
      ]
    },
    {
      "cell_type": "code",
      "execution_count": null,
      "metadata": {
        "colab": {
          "base_uri": "https://localhost:8080/"
        },
        "id": "zhKEJXMtsP-O",
        "outputId": "9f5e00a2-84d3-47fb-a8ae-5658b4cba8f5"
      },
      "outputs": [],
      "source": [
        "# Cek Nilai Unique\n",
        "trainFeatures['status_pernikahan'].unique()"
      ]
    },
    {
      "cell_type": "markdown",
      "metadata": {
        "id": "FqaG_Vjw6fft"
      },
      "source": [
        "Mirip dengan kolom Pendidikan, terdapat dua nilai tidak sesuai pada kolom **Status Pernikahan** yaitu '5' dan nan. Maka perlu dilakukan proses yang sama dengan kolom Pendidikan yaitu meninjau setiap invalid value yang ada untuk dilakukan langkah lebih lanjut."
      ]
    },
    {
      "cell_type": "markdown",
      "metadata": {
        "id": "GQ_PRzbK8DYq"
      },
      "source": [
        "### Olah Data dengan Nilai Unique '5'"
      ]
    },
    {
      "cell_type": "code",
      "execution_count": null,
      "metadata": {
        "colab": {
          "base_uri": "https://localhost:8080/",
          "height": 100
        },
        "id": "SfD3wvS2secX",
        "outputId": "8e311b39-b7bb-4f09-ccb1-b95abf99b094"
      },
      "outputs": [],
      "source": [
        "# Mengambil sample data dengan nilai unique '5'\n",
        "trainFeatures[trainFeatures['status_pernikahan'] == '5']"
      ]
    },
    {
      "cell_type": "markdown",
      "metadata": {
        "id": "ZRWQD7hZ7Ktq"
      },
      "source": [
        "Dikarenakan hanya terdapat satu nilai saja dengan value '5', maka dapat dihapus saja karena tidak terlalu berpengaruh terhadap keseluruhan data."
      ]
    },
    {
      "cell_type": "code",
      "execution_count": null,
      "metadata": {
        "id": "aHpuBdSYtVgq"
      },
      "outputs": [],
      "source": [
        "# Mengambil data dengan nilai unique '5'\n",
        "dropStatusNikah = trainFeatures[trainFeatures['status_pernikahan'] == '5'].index\n",
        "# Menghapus data\n",
        "trainFeatures.drop(dropStatusNikah, inplace=True)"
      ]
    },
    {
      "cell_type": "markdown",
      "metadata": {
        "id": "SdmFGK8X8KdZ"
      },
      "source": [
        "### Olah Data dengan Nilai Unique NaN"
      ]
    },
    {
      "cell_type": "code",
      "execution_count": null,
      "metadata": {
        "colab": {
          "base_uri": "https://localhost:8080/",
          "height": 435
        },
        "id": "rluuHrfF7-6W",
        "outputId": "a363f983-5ca0-4f8f-8bcd-a7da034e7729"
      },
      "outputs": [],
      "source": [
        "# Mengambil sample data dengan inputan nan\n",
        "dataNanPernikahan = trainFeatures[trainFeatures['status_pernikahan'].isnull()]\n",
        "\n",
        "# Mengecek Banyak Baris Data\n",
        "print('Banyak Data dengan inputan nan:', dataNanPernikahan.shape[0], '\\n')\n",
        "print('Dengan sample data sebagai berikut: ')\n",
        "dataNanPernikahan.sample(10)"
      ]
    },
    {
      "cell_type": "markdown",
      "metadata": {
        "id": "0u4wcG9W9QDb"
      },
      "source": [
        "Dikarenakan jumlah dari data nan cukup banyak, maka akan dilakukan pengubahan isi data nan dengan analisis lebih lanjut pada kolom-kolom yang berpotensi memiliki korelasi dengan kolom **status pernikahan**. \n",
        "\n",
        "Yaitu dengan melihat kolom **jumlah anak balita** dan **jumlah anak remaja** dengan asumsi jika memiliki nilai lebih dari 0 dari kedua kolom tersebut, maka akan diubah menjadi \"Menikah\"."
      ]
    },
    {
      "cell_type": "code",
      "execution_count": null,
      "metadata": {
        "colab": {
          "base_uri": "https://localhost:8080/",
          "height": 35
        },
        "id": "TEKrzHFDtj0s",
        "outputId": "67f69d26-c8fb-434a-bdc2-db2d232af2c5"
      },
      "outputs": [],
      "source": [
        "# Ubah NaN menjadi String Terlebih Dahulu\n",
        "trainFeatures['status_pernikahan'].fillna('kosong', inplace=True)\n",
        "\n",
        "# Buat Fungsi\n",
        "def ubahPernikahan(row):\n",
        "    if row['status_pernikahan'] == 'kosong':\n",
        "        if row['jumlah_anak_balita'] > 0 or row['jumlah_anak_remaja'] > 0:\n",
        "            return 'Menikah'\n",
        "        else:\n",
        "            return 'Sendiri'\n",
        "    else:\n",
        "        return row['status_pernikahan']\n",
        "\n",
        "trainFeatures['status_pernikahan'] = trainFeatures.apply(ubahPernikahan, axis=1)"
      ]
    },
    {
      "cell_type": "code",
      "execution_count": null,
      "metadata": {},
      "outputs": [],
      "source": [
        "trainFeatures['status_pernikahan'].unique()"
      ]
    },
    {
      "cell_type": "markdown",
      "metadata": {},
      "source": [
        "Saat ini nilai unique pada kolom **status pernikahan** sudah normal dan tidak ada nilai nan."
      ]
    },
    {
      "cell_type": "markdown",
      "metadata": {},
      "source": [
        "## Kolom Pendapatan"
      ]
    },
    {
      "cell_type": "code",
      "execution_count": null,
      "metadata": {},
      "outputs": [],
      "source": [
        "trainFeatures.pendapatan.sample(5)"
      ]
    },
    {
      "cell_type": "markdown",
      "metadata": {},
      "source": [
        "### Cek Nilai Statistik "
      ]
    },
    {
      "cell_type": "code",
      "execution_count": null,
      "metadata": {
        "colab": {
          "base_uri": "https://localhost:8080/"
        },
        "id": "FODbWMiTy760",
        "outputId": "417a5dfb-6f53-42c9-f7b3-2760993b97e7"
      },
      "outputs": [],
      "source": [
        "trainFeatures.describe()"
      ]
    },
    {
      "cell_type": "markdown",
      "metadata": {},
      "source": [
        "### Pengecekan Nilai Null\n",
        "\n",
        "Dari hasil analisis sebelumnya, terlihat bahwa terdapat nilai null pada kolom ini."
      ]
    },
    {
      "cell_type": "code",
      "execution_count": null,
      "metadata": {},
      "outputs": [],
      "source": [
        "nullPendapatan = trainFeatures[trainFeatures['pendapatan'].isnull()]\n",
        "nullPendapatan"
      ]
    },
    {
      "cell_type": "markdown",
      "metadata": {},
      "source": [
        "Yang dilakukan adalah menggunakan interpolasi untuk menutup setiap nilai NaN yang ada dengan titik terdekat data ke data lainnya secara linear."
      ]
    },
    {
      "cell_type": "code",
      "execution_count": null,
      "metadata": {
        "id": "jyT87u3auQ5c"
      },
      "outputs": [],
      "source": [
        "# Data x pendapatan tidak null\n",
        "xKnown = trainFeatures.index[~trainFeatures['pendapatan'].isnull()]\n",
        "# Data y yang diketahui\n",
        "yKnown = trainFeatures.loc[xKnown, 'pendapatan']\n",
        "# Inisialisasi Cubic Spline\n",
        "spline = CubicSpline(xKnown, yKnown)\n",
        "# Memasang Indeks titik data yang akan diisi yaitu null\n",
        "fillIndices = trainFeatures.index[trainFeatures['pendapatan'].isnull()] \n",
        "# Eksekusi spline\n",
        "trainFeatures.loc[fillIndices, 'pendapatan'] = spline(fillIndices)\n",
        "\n",
        "#trainFeatures['pendapatan'].interpolate(method='linear', inplace=True)"
      ]
    },
    {
      "cell_type": "code",
      "execution_count": null,
      "metadata": {
        "colab": {
          "base_uri": "https://localhost:8080/"
        },
        "id": "GmuRwwYyywOd",
        "outputId": "b0529ad7-0319-4c38-fdd3-540039772287"
      },
      "outputs": [],
      "source": [
        "trainFeatures.head(20)"
      ]
    },
    {
      "cell_type": "markdown",
      "metadata": {},
      "source": [
        "Pada saat ini sudah tidak terdapat nilai NaN lagi pada kolom **pendapatan**, sehingga dapat dilanjutkan pada proses analisis selanjutnya."
      ]
    },
    {
      "cell_type": "markdown",
      "metadata": {},
      "source": [
        "## Kolom Jumlah Anak Balita"
      ]
    },
    {
      "cell_type": "markdown",
      "metadata": {},
      "source": [
        "### Cek Nilai Unique"
      ]
    },
    {
      "cell_type": "code",
      "execution_count": null,
      "metadata": {},
      "outputs": [],
      "source": [
        "trainFeatures['jumlah_anak_balita'].unique()"
      ]
    },
    {
      "cell_type": "markdown",
      "metadata": {},
      "source": [
        "Pada pengecekan nilai unique di atas, ditemukan nilai NaN yang perlu diganti dengan nilai lain."
      ]
    },
    {
      "cell_type": "markdown",
      "metadata": {},
      "source": [
        "### Hapus Nilai Null"
      ]
    },
    {
      "cell_type": "code",
      "execution_count": null,
      "metadata": {},
      "outputs": [],
      "source": [
        "trainFeatures['jumlah_anak_balita'].fillna(0, inplace=True)\n",
        "trainFeatures['jumlah_anak_balita'] = trainFeatures['jumlah_anak_balita'].astype(int)\n",
        "print(trainFeatures['jumlah_anak_balita'].dtype)"
      ]
    },
    {
      "cell_type": "code",
      "execution_count": null,
      "metadata": {},
      "outputs": [],
      "source": [
        "# Cek Nilai Unique Ulang\n",
        "trainFeatures['jumlah_anak_balita'].unique()"
      ]
    },
    {
      "cell_type": "markdown",
      "metadata": {},
      "source": [
        "Pada proses ini, langkah yang diambil adalah mengubah nilai NaN menjadi **0** dengan asumsi setiap nilai NaN diartikan baris data penduduk tersebut memiliki jumlah anak balita sebanyak **0**."
      ]
    },
    {
      "cell_type": "markdown",
      "metadata": {},
      "source": [
        "## Kolom Jumlah Anak Remaja"
      ]
    },
    {
      "cell_type": "markdown",
      "metadata": {},
      "source": [
        "### Cek Nilai Unique"
      ]
    },
    {
      "cell_type": "code",
      "execution_count": null,
      "metadata": {},
      "outputs": [],
      "source": [
        "trainFeatures['jumlah_anak_remaja'].unique()"
      ]
    },
    {
      "cell_type": "markdown",
      "metadata": {},
      "source": [
        "Sama seperti pada kasus kolom *jumlah anak balita*, terdapat nilai NaN pada kolom *jumlah anak remaja* yang perlu diubah dengan nilai lainnya."
      ]
    },
    {
      "cell_type": "markdown",
      "metadata": {},
      "source": [
        "### Hapus Nilai Null"
      ]
    },
    {
      "cell_type": "code",
      "execution_count": null,
      "metadata": {},
      "outputs": [],
      "source": [
        "trainFeatures['jumlah_anak_remaja'].fillna(0, inplace=True)\n",
        "trainFeatures['jumlah_anak_remaja'] = trainFeatures['jumlah_anak_remaja'].astype(int)\n",
        "print(trainFeatures['jumlah_anak_remaja'].dtype)"
      ]
    },
    {
      "cell_type": "code",
      "execution_count": null,
      "metadata": {},
      "outputs": [],
      "source": [
        "# Cek Nilai Unique Ulang\n",
        "trainFeatures['jumlah_anak_remaja'].unique()"
      ]
    },
    {
      "cell_type": "markdown",
      "metadata": {},
      "source": [
        "Hasil pada kolom *jumlah anak remaja* juga mirip dengan hasil kolom *jumlah anak balita*, yaitu dengan mengubah nilai NaN dengan nilai **0**. Sebagai asumsi bahwa nilai NaN berarti baris data penduduk tersebut tidak memiliki anak remaja."
      ]
    },
    {
      "cell_type": "markdown",
      "metadata": {},
      "source": [
        "## Kolom Terakhir Belanja"
      ]
    },
    {
      "cell_type": "markdown",
      "metadata": {},
      "source": [
        "### Cek Nilai Unique"
      ]
    },
    {
      "cell_type": "code",
      "execution_count": null,
      "metadata": {},
      "outputs": [],
      "source": [
        "trainFeatures['terakhir_belanja'].unique()"
      ]
    },
    {
      "cell_type": "markdown",
      "metadata": {},
      "source": [
        "Pada pengecekan nilai unique, hasilnya terdapat nilai NaN yang terkandung didalam kolom *terakhir belanja*. Maka perlu dilakukan pengecekan batas minimum dan maksimum data serta nilai statistik lainnya seperti rata-rata untuk mengubah nilai NaN ini dengan sajian nilai Unique yang lebih rapi."
      ]
    },
    {
      "cell_type": "markdown",
      "metadata": {},
      "source": [
        "### Cek Nilai Min dan Max"
      ]
    },
    {
      "cell_type": "code",
      "execution_count": null,
      "metadata": {},
      "outputs": [],
      "source": [
        "nilaiMax = trainFeatures.terakhir_belanja.max()\n",
        "nilaiMin = trainFeatures.terakhir_belanja.min()\n",
        "\n",
        "print('Nilai maksimal dari kolom terakhir belanja adalah', nilaiMax)\n",
        "print('Nilai minimal dari kolom terakhir belanja adalah', nilaiMin)"
      ]
    },
    {
      "cell_type": "markdown",
      "metadata": {},
      "source": [
        "Dikarenakan tidak adanya acuan data tambahan dari kolom *terakhir belanja*, maka langkah yang diambil adalah mengubah setiap nilai NaN menjadi nilai rata-rata."
      ]
    },
    {
      "cell_type": "markdown",
      "metadata": {},
      "source": [
        "### Ubah Nilai Null dengan Rata-Rata"
      ]
    },
    {
      "cell_type": "code",
      "execution_count": null,
      "metadata": {},
      "outputs": [],
      "source": [
        "rata2 = trainFeatures['terakhir_belanja'].mean()\n",
        "rata2"
      ]
    },
    {
      "cell_type": "markdown",
      "metadata": {},
      "source": [
        "Didapatkan nilai **47.23338824821526** yang perlu dibulatkan, untuk mengubah nilai NaN dengan nilai ini."
      ]
    },
    {
      "cell_type": "code",
      "execution_count": null,
      "metadata": {},
      "outputs": [],
      "source": [
        "trainFeatures['terakhir_belanja'] = trainFeatures['terakhir_belanja'].fillna(rata2)\n",
        "trainFeatures['terakhir_belanja'] = trainFeatures['terakhir_belanja'].astype(int)\n",
        "print(trainFeatures['terakhir_belanja'].dtype)"
      ]
    },
    {
      "cell_type": "markdown",
      "metadata": {},
      "source": [
        "Pembulatan nilai pada kolom *terakhir belanja* dilakukan dengan cara pengubahan tipe data dari float menjadi integer."
      ]
    },
    {
      "cell_type": "code",
      "execution_count": null,
      "metadata": {},
      "outputs": [],
      "source": [
        "# Cek Ulang Nilai Unique\n",
        "nilaiTerurut = np.sort(trainFeatures['terakhir_belanja'].unique())\n",
        "nilaiTerurut"
      ]
    },
    {
      "cell_type": "markdown",
      "metadata": {},
      "source": [
        "## Kolom Belanja Buah"
      ]
    },
    {
      "cell_type": "code",
      "execution_count": null,
      "metadata": {},
      "outputs": [],
      "source": [
        "trainFeatures['belanja_buah'].sample(5)"
      ]
    },
    {
      "cell_type": "code",
      "execution_count": null,
      "metadata": {},
      "outputs": [],
      "source": [
        "null_buah_rows = trainFeatures[trainFeatures['belanja_buah'].isnull()]\n",
        "\n",
        "# Menghitung nilai maksimum pendapatan dari baris dengan 'belanja_buah' null\n",
        "nilai_maks_pendapatan = null_buah_rows['pendapatan'].max()\n",
        "\n",
        "# Mengonversi nilai pendapatan menjadi persentase\n",
        "null_buah_rows['pendapatan_persen'] = (null_buah_rows['pendapatan'] / nilai_maks_pendapatan) * 100\n",
        "\n",
        "# Membuat line chart untuk kolom 'pendapatan_persen'\n",
        "plt.figure(figsize=(10, 6))\n",
        "plt.plot(null_buah_rows.index, null_buah_rows['pendapatan_persen'], label='Pendapatan (%)')\n",
        "plt.xlabel('Index Baris')\n",
        "plt.ylabel('Pendapatan (%)')\n",
        "plt.title('Persentase Pendapatan dari Baris dengan Nilai Null di Kolom \"belanja_buah\"')\n",
        "plt.legend()\n",
        "plt.grid(True)\n",
        "plt.xticks(rotation=45)\n",
        "plt.tight_layout()\n",
        "plt.show()"
      ]
    },
    {
      "cell_type": "code",
      "execution_count": null,
      "metadata": {},
      "outputs": [],
      "source": [
        "null_buah_rows['pendapatan'].mean()"
      ]
    },
    {
      "cell_type": "code",
      "execution_count": null,
      "metadata": {},
      "outputs": [],
      "source": [
        "null_buah_rows['pendapatan_persen'].mean()"
      ]
    },
    {
      "cell_type": "code",
      "execution_count": null,
      "metadata": {},
      "outputs": [],
      "source": [
        "print(trainFeatures['belanja_buah'].max())\n",
        "print(trainFeatures['belanja_buah'].mean())"
      ]
    },
    {
      "cell_type": "code",
      "execution_count": null,
      "metadata": {},
      "outputs": [],
      "source": [
        "top3 = trainFeatures['belanja_buah'].nlargest(3)  \n",
        "top3_max = trainFeatures.loc[trainFeatures['belanja_buah'].isin(top3)]  \n",
        "top3_max"
      ]
    },
    {
      "cell_type": "code",
      "execution_count": null,
      "metadata": {},
      "outputs": [],
      "source": [
        "quantile_25 = null_buah_rows['pendapatan'].quantile(0.25)\n",
        "quantile_50 = null_buah_rows['pendapatan'].quantile(0.50)  \n",
        "quantile_75 = null_buah_rows['pendapatan'].quantile(0.75)  \n",
        "\n",
        "# Interpolasi untuk menangani nilai yang hilang\n",
        "def interpolate_values(x, y, x_new):\n",
        "    f = interpolate.interp1d(x, y, fill_value=\"extrapolate\")\n",
        "    return f(x_new)\n",
        "\n",
        "# Isi nilai null pada 'belanja_buah' dengan interpolasi\n",
        "for batu, row in null_buah_rows.iterrows():\n",
        "    if pd.notnull(row['belanja_buah']):  \n",
        "        continue  \n",
        "    if row['pendapatan'] <= quantile_25:  \n",
        "        interpolated_value = interpolate_values(trainFeatures['pendapatan'], trainFeatures['belanja_buah'], row['pendapatan'])\n",
        "        trainFeatures.loc[batu, 'belanja_buah'] = interpolated_value\n",
        "    elif row['pendapatan'] <= quantile_50:  \n",
        "        trainFeatures.loc[batu, 'belanja_buah'] = trainFeatures['belanja_buah'].median()\n",
        "    elif row['pendapatan'] <= quantile_75:  \n",
        "        trainFeatures.loc[batu, 'belanja_buah'] = trainFeatures['belanja_buah'].mean()\n",
        "    else:\n",
        "        trainFeatures.loc[batu, 'belanja_buah'] = row['pendapatan'] * 0.01\n"
      ]
    },
    {
      "cell_type": "code",
      "execution_count": null,
      "metadata": {},
      "outputs": [],
      "source": [
        "trainFeatures['belanja_buah'].isnull().sum()"
      ]
    },
    {
      "cell_type": "code",
      "execution_count": null,
      "metadata": {},
      "outputs": [],
      "source": [
        "# Filter data dengan kondisi belanja_buah bernilai null\n",
        "data_belanja_buah_null = trainFeatures[trainFeatures['belanja_buah'].isnull()]\n",
        "\n",
        "# Cari nilai maksimum dari kolom pendapatan pada data yang sudah difilter\n",
        "nilai_maks_pendapatan_belanja_buah_null = data_belanja_buah_null['pendapatan'].max()\n",
        "\n",
        "print(\"Nilai maksimum pendapatan dengan belanja_buah null adalah:\", nilai_maks_pendapatan_belanja_buah_null)\n"
      ]
    },
    {
      "cell_type": "markdown",
      "metadata": {},
      "source": [
        "# Exploratory Data Analysis (EDA)"
      ]
    },
    {
      "cell_type": "markdown",
      "metadata": {},
      "source": [
        "## Analisis Outliers"
      ]
    },
    {
      "cell_type": "code",
      "execution_count": null,
      "metadata": {},
      "outputs": [],
      "source": [
        "while True:\n",
        "    Q1 = trainFeatures['pendapatan'].quantile(0.25)\n",
        "    Q3 = trainFeatures['pendapatan'].quantile(0.75)\n",
        "    IQR = Q3 - Q1\n",
        "\n",
        "    Upper_Fence = Q3 + 1.5 * IQR\n",
        "    Lower_Fence = Q1 - 1.5 * IQR\n",
        "\n",
        "    outliers = trainFeatures[(trainFeatures['pendapatan'] < Lower_Fence) | (trainFeatures['pendapatan'] > Upper_Fence)]['pendapatan']\n",
        "\n",
        "    if outliers.empty:\n",
        "        print(\"Tidak ada outlier lagi.\")\n",
        "        break\n",
        "    else:\n",
        "        trainFeatures = trainFeatures[(trainFeatures['pendapatan'] >= Lower_Fence) & (trainFeatures['pendapatan'] <= Upper_Fence)]"
      ]
    },
    {
      "cell_type": "code",
      "execution_count": null,
      "metadata": {},
      "outputs": [],
      "source": [
        "plt.figure(figsize=(10, 6))\n",
        "plt.boxplot(trainFeatures['pendapatan'])\n",
        "plt.ylabel('Nilai Pendapatan')\n",
        "plt.title('Boxplot Pendapatan setelah Penanganan Outlier')\n",
        "plt.xticks([1], ['Pendapatan'])\n",
        "plt.show()"
      ]
    }
  ],
  "metadata": {
    "colab": {
      "provenance": []
    },
    "kernelspec": {
      "display_name": "Python 3",
      "name": "python3"
    },
    "language_info": {
      "codemirror_mode": {
        "name": "ipython",
        "version": 3
      },
      "file_extension": ".py",
      "mimetype": "text/x-python",
      "name": "python",
      "nbconvert_exporter": "python",
      "pygments_lexer": "ipython3",
      "version": "3.11.4"
    }
  },
  "nbformat": 4,
  "nbformat_minor": 0
}
