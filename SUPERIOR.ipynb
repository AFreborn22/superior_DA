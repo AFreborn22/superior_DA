{
  "cells": [
    {
      "cell_type": "code",
      "execution_count": null,
      "metadata": {
        "id": "2D7mxTB1mgCA"
      },
      "outputs": [],
      "source": [
        "import pandas as pd\n",
        "import numpy as np\n",
        "import  matplotlib.pyplot as plt\n",
        "import seaborn as sns\n",
        "\n",
        "from datetime import datetime\n",
        "from numpy.polynomial.polynomial import Polynomial\n",
        "from sklearn.ensemble import RandomForestRegressor"
      ]
    },
    {
      "cell_type": "markdown",
      "metadata": {},
      "source": [
        "# Pertanyaan Bisnis\n",
        "\n",
        "1. Bagaimana latar belakang demografis pada setiap pengguna?\n",
        "2. Bagaimana kesimpulan kebiasaan pengguna dalam berbelanja?\n",
        "3. Dari data-data yang sudah dikumpulkan, berapa banyak promosi yang efektif dilakukan untuk setiap pengguna? (Pertanyaan Target)"
      ]
    },
    {
      "cell_type": "markdown",
      "metadata": {},
      "source": [
        "# Data Wrangling"
      ]
    },
    {
      "cell_type": "markdown",
      "metadata": {},
      "source": [
        "## Import Data"
      ]
    },
    {
      "cell_type": "code",
      "execution_count": null,
      "metadata": {
        "id": "bEo06P7Sm8sH"
      },
      "outputs": [],
      "source": [
        "trainFeatures = pd.read_csv('data/train_features.csv')\n",
        "testFeatures = pd.read_csv('data/test_features.csv')\n",
        "trainLabels = pd.read_csv('data/train_labels.csv')\n",
        "example = pd.read_csv('data/submission_format.csv')"
      ]
    },
    {
      "cell_type": "markdown",
      "metadata": {},
      "source": [
        "## Display Data"
      ]
    },
    {
      "cell_type": "markdown",
      "metadata": {},
      "source": [
        "### Data Train Features"
      ]
    },
    {
      "cell_type": "code",
      "execution_count": null,
      "metadata": {
        "colab": {
          "base_uri": "https://localhost:8080/",
          "height": 226
        },
        "id": "mMKQlPZyoteI",
        "outputId": "b6cca7e9-3b28-48e3-8a91-9c112fedd5b6"
      },
      "outputs": [],
      "source": [
        "trainFeatures.head()"
      ]
    },
    {
      "cell_type": "code",
      "execution_count": null,
      "metadata": {
        "colab": {
          "base_uri": "https://localhost:8080/"
        },
        "id": "PX_jsOen7hko",
        "outputId": "199b9b47-e232-41ea-922f-c99ab04c3f17"
      },
      "outputs": [],
      "source": [
        "trainFeatures.shape"
      ]
    },
    {
      "cell_type": "markdown",
      "metadata": {},
      "source": [
        "### Data Train Labels"
      ]
    },
    {
      "cell_type": "code",
      "execution_count": null,
      "metadata": {},
      "outputs": [],
      "source": [
        "trainLabels.head()"
      ]
    },
    {
      "cell_type": "code",
      "execution_count": null,
      "metadata": {},
      "outputs": [],
      "source": [
        "trainLabels.shape"
      ]
    },
    {
      "cell_type": "markdown",
      "metadata": {},
      "source": [
        "### Data Test Features"
      ]
    },
    {
      "cell_type": "code",
      "execution_count": null,
      "metadata": {
        "colab": {
          "base_uri": "https://localhost:8080/",
          "height": 226
        },
        "id": "av96Aqkgos7F",
        "outputId": "03050a5a-5de7-42fc-df79-cc00bb630477"
      },
      "outputs": [],
      "source": [
        "testFeatures.head()"
      ]
    },
    {
      "cell_type": "code",
      "execution_count": null,
      "metadata": {
        "colab": {
          "base_uri": "https://localhost:8080/",
          "height": 206
        },
        "id": "pWRc1BDlpUHx",
        "outputId": "1c2478c6-7b7d-498d-d22e-3d2cf904f341"
      },
      "outputs": [],
      "source": [
        "example.head()"
      ]
    },
    {
      "cell_type": "markdown",
      "metadata": {},
      "source": [
        "## Concatenate Data Training\n",
        "\n",
        "Dari data training yang tersedia, perlu dilakukan penggabungan dari kedua data yaitu **Train Features** dan **Train Labels**."
      ]
    },
    {
      "cell_type": "code",
      "execution_count": null,
      "metadata": {},
      "outputs": [],
      "source": [
        "dataTraining = pd.concat([trainFeatures, trainLabels], axis=1)"
      ]
    },
    {
      "cell_type": "code",
      "execution_count": null,
      "metadata": {},
      "outputs": [],
      "source": [
        "print(\"Banyak Data Training:\", dataTraining.shape[0])\n",
        "dataTraining.head()"
      ]
    },
    {
      "cell_type": "markdown",
      "metadata": {
        "id": "dkK_vAFruPiE"
      },
      "source": [
        "# Data Assessing"
      ]
    },
    {
      "cell_type": "markdown",
      "metadata": {
        "id": "Psp6W-2Lu32X"
      },
      "source": [
        "## Informasi Umum Data Training"
      ]
    },
    {
      "cell_type": "code",
      "execution_count": null,
      "metadata": {
        "colab": {
          "base_uri": "https://localhost:8080/"
        },
        "id": "feTYV5VzM03a",
        "outputId": "6d39a225-aad1-47a6-c7a7-1803774902c2"
      },
      "outputs": [],
      "source": [
        "dataTraining.info()"
      ]
    },
    {
      "cell_type": "code",
      "execution_count": null,
      "metadata": {
        "colab": {
          "base_uri": "https://localhost:8080/",
          "height": 320
        },
        "id": "z4DIuVNpdXo6",
        "outputId": "5f27646e-851a-4fde-85d7-6ffd77f9417a"
      },
      "outputs": [],
      "source": [
        "dataTraining.describe()"
      ]
    },
    {
      "cell_type": "markdown",
      "metadata": {
        "id": "1piJJr4eu8-R"
      },
      "source": [
        "## Cek Nilai Null Data Training"
      ]
    },
    {
      "cell_type": "code",
      "execution_count": null,
      "metadata": {
        "colab": {
          "base_uri": "https://localhost:8080/"
        },
        "id": "L_9QDPvxddmr",
        "outputId": "7cc888d5-91b6-4bda-d3af-954e6ba86045"
      },
      "outputs": [],
      "source": [
        "dataTraining.isnull().sum()"
      ]
    },
    {
      "cell_type": "markdown",
      "metadata": {
        "id": "Jq1rp2vrvFDp"
      },
      "source": [
        "## Cek Nilai Duplikat Dataset Train Features"
      ]
    },
    {
      "cell_type": "code",
      "execution_count": null,
      "metadata": {
        "colab": {
          "base_uri": "https://localhost:8080/"
        },
        "id": "1n3lMmbAvRL-",
        "outputId": "43dd9afb-28a7-425e-f999-50cba6336a88"
      },
      "outputs": [],
      "source": [
        "dataTraining.duplicated().sum()"
      ]
    },
    {
      "cell_type": "markdown",
      "metadata": {
        "id": "74ciVYpkv2Q3"
      },
      "source": [
        "# Data Cleaning"
      ]
    },
    {
      "cell_type": "markdown",
      "metadata": {
        "id": "iUo5NxV4v7XB"
      },
      "source": [
        "## Kolom Pendidikan"
      ]
    },
    {
      "cell_type": "code",
      "execution_count": null,
      "metadata": {
        "colab": {
          "base_uri": "https://localhost:8080/"
        },
        "id": "L5Ii6sBSivmn",
        "outputId": "b35a14fc-6a7f-4cba-bf17-6be74d29c478"
      },
      "outputs": [],
      "source": [
        "# Cek Nilai Unique\n",
        "dataTraining['pendidikan'].unique()"
      ]
    },
    {
      "cell_type": "markdown",
      "metadata": {
        "id": "fR7L7DXOwZgX"
      },
      "source": [
        "Terdapat dua nilai salah yaitu nan dan '5'. Maka perlu dibersihkan pada dua nilai tersebut."
      ]
    },
    {
      "cell_type": "markdown",
      "metadata": {
        "id": "fETtVqmz9HRq"
      },
      "source": [
        "### Olah Data dengan Nilai Unique '5'"
      ]
    },
    {
      "cell_type": "code",
      "execution_count": null,
      "metadata": {
        "colab": {
          "base_uri": "https://localhost:8080/",
          "height": 132
        },
        "id": "_biw-YdWkAMy",
        "outputId": "f841f601-52c7-472d-f452-a65849b7e8b6"
      },
      "outputs": [],
      "source": [
        "# Ambil contoh nilai pada kolom pendidikan dengan nilai '5'\n",
        "dataTraining[dataTraining['pendidikan'] == '5'].head()"
      ]
    },
    {
      "cell_type": "code",
      "execution_count": null,
      "metadata": {
        "id": "TR8SH47equIy"
      },
      "outputs": [],
      "source": [
        "# Mengambil indeks data dengan nilai unique '5'\n",
        "dropPendidikan = dataTraining[dataTraining['pendidikan'] == '5'].index\n",
        "# Menghapus nilai dengan indeks tersebut\n",
        "dataTraining.drop(dropPendidikan, inplace=True)"
      ]
    },
    {
      "cell_type": "markdown",
      "metadata": {
        "id": "407u4fIXxP39"
      },
      "source": [
        "Saat ini nilai dengan inputan '5' sudah terhapus, karena hanya terdapat 2 data saja maka dapat dikatakan aman untuk dihapus.\n",
        "\n",
        "Selanjutnya yaitu menangani data dengan inputan nan. Untuk langkah yang diambil yaitu mengecek seberapa banyak nilai nan yang ada. Jika jumlah terbilang sedikit, langkah yang diambil adalah menghapus nilai tersebut (seperti pada inputan '5' sebelumnya). Namun, jika jumlahnya terbilang cukup banyak, maka langkah yang diambil yaitu mengubah setiap nilai nan menjadi nilai modus pada kolom **pendidikan**."
      ]
    },
    {
      "cell_type": "markdown",
      "metadata": {
        "id": "gKREKga39fxO"
      },
      "source": [
        "### Olah Data dengan Nilai Unique NaN"
      ]
    },
    {
      "cell_type": "code",
      "execution_count": null,
      "metadata": {
        "colab": {
          "base_uri": "https://localhost:8080/",
          "height": 435
        },
        "id": "G9u__T4IyUTa",
        "outputId": "d210030f-e739-4c49-9672-d5e24de5917b"
      },
      "outputs": [],
      "source": [
        "# Mengambil sample data dengan inputan nan\n",
        "dataNanPendidikan = dataTraining[dataTraining['pendidikan'].isnull()]\n",
        "\n",
        "# Mengecek Banyak Baris Data\n",
        "print('Banyak Data dengan inputan nan:', dataNanPendidikan.shape[0], '\\n')\n",
        "print('Dengan sample data sebagai berikut: ')\n",
        "dataNanPendidikan.sample(10)"
      ]
    },
    {
      "cell_type": "markdown",
      "metadata": {
        "id": "YjtiVdDAzLWv"
      },
      "source": [
        "Dikarenakan jumlah dari data nan cukup banyak, maka akan dilakukan pengubahan isi dengan data modus pada kolom **pendidikan**."
      ]
    },
    {
      "cell_type": "code",
      "execution_count": null,
      "metadata": {
        "colab": {
          "base_uri": "https://localhost:8080/"
        },
        "id": "mH9PAQ4PkCgA",
        "outputId": "0f75da69-a62b-45e3-a724-af9fca5ba2b7"
      },
      "outputs": [],
      "source": [
        "# Mengambil jumlah isi terbanyak pada kolom pendidikan\n",
        "modePendidikan = dataTraining['pendidikan'].mode()[0]\n",
        "print('Nilai dengan modus terbanyak adalah', modePendidikan)"
      ]
    },
    {
      "cell_type": "code",
      "execution_count": null,
      "metadata": {
        "id": "_KeArtf4re5S"
      },
      "outputs": [],
      "source": [
        "# Mengubah nilai nan menjadi nilai modus\n",
        "dataTraining['pendidikan'] = dataTraining['pendidikan'].fillna(modePendidikan)"
      ]
    },
    {
      "cell_type": "code",
      "execution_count": null,
      "metadata": {
        "colab": {
          "base_uri": "https://localhost:8080/"
        },
        "id": "eFJ0YxDX5WZU",
        "outputId": "4219d5fe-6d66-4f01-a163-40e269e4b325"
      },
      "outputs": [],
      "source": [
        "# Cek ulang nilai unique\n",
        "dataTraining['pendidikan'].unique()"
      ]
    },
    {
      "cell_type": "markdown",
      "metadata": {
        "id": "-3QumGrJ5mKU"
      },
      "source": [
        "Pada saat ini, kondisi kolom **pendidikan** sudah normal."
      ]
    },
    {
      "cell_type": "markdown",
      "metadata": {
        "id": "teUdIuuj6R5y"
      },
      "source": [
        "## Kolom Status Pernikahan"
      ]
    },
    {
      "cell_type": "code",
      "execution_count": null,
      "metadata": {
        "colab": {
          "base_uri": "https://localhost:8080/"
        },
        "id": "zhKEJXMtsP-O",
        "outputId": "9f5e00a2-84d3-47fb-a8ae-5658b4cba8f5"
      },
      "outputs": [],
      "source": [
        "# Cek Nilai Unique\n",
        "dataTraining['status_pernikahan'].unique()"
      ]
    },
    {
      "cell_type": "markdown",
      "metadata": {
        "id": "FqaG_Vjw6fft"
      },
      "source": [
        "Mirip dengan kolom Pendidikan, terdapat dua nilai tidak sesuai pada kolom **Status Pernikahan** yaitu '5' dan nan. Maka perlu dilakukan proses yang sama dengan kolom Pendidikan yaitu meninjau setiap invalid value yang ada untuk dilakukan langkah lebih lanjut."
      ]
    },
    {
      "cell_type": "markdown",
      "metadata": {
        "id": "GQ_PRzbK8DYq"
      },
      "source": [
        "### Olah Data dengan Nilai Unique '5'"
      ]
    },
    {
      "cell_type": "code",
      "execution_count": null,
      "metadata": {
        "colab": {
          "base_uri": "https://localhost:8080/",
          "height": 100
        },
        "id": "SfD3wvS2secX",
        "outputId": "8e311b39-b7bb-4f09-ccb1-b95abf99b094"
      },
      "outputs": [],
      "source": [
        "# Mengambil sample data dengan nilai unique '5'\n",
        "dataTraining[dataTraining['status_pernikahan'] == '5']"
      ]
    },
    {
      "cell_type": "markdown",
      "metadata": {
        "id": "ZRWQD7hZ7Ktq"
      },
      "source": [
        "Dikarenakan hanya terdapat satu nilai saja dengan value '5', maka dapat dihapus saja karena tidak terlalu berpengaruh terhadap keseluruhan data."
      ]
    },
    {
      "cell_type": "code",
      "execution_count": null,
      "metadata": {
        "id": "aHpuBdSYtVgq"
      },
      "outputs": [],
      "source": [
        "# Mengambil data dengan nilai unique '5'\n",
        "dropStatusNikah = dataTraining[dataTraining['status_pernikahan'] == '5'].index\n",
        "# Menghapus data\n",
        "dataTraining.drop(dropStatusNikah, inplace=True)"
      ]
    },
    {
      "cell_type": "markdown",
      "metadata": {
        "id": "SdmFGK8X8KdZ"
      },
      "source": [
        "\n",
        "### Olah Data dengan Nilai Unique NaN"
      ]
    },
    {
      "cell_type": "code",
      "execution_count": null,
      "metadata": {
        "colab": {
          "base_uri": "https://localhost:8080/",
          "height": 435
        },
        "id": "rluuHrfF7-6W",
        "outputId": "a363f983-5ca0-4f8f-8bcd-a7da034e7729"
      },
      "outputs": [],
      "source": [
        "# Mengambil sample data dengan inputan nan\n",
        "dataNanPernikahan = dataTraining[dataTraining['status_pernikahan'].isnull()]\n",
        "\n",
        "# Mengecek Banyak Baris Data\n",
        "print('Banyak Data dengan inputan nan:', dataNanPernikahan.shape[0], '\\n')\n",
        "print('Dengan sample data sebagai berikut: ')\n",
        "dataNanPernikahan.sample(10)"
      ]
    },
    {
      "cell_type": "markdown",
      "metadata": {
        "id": "0u4wcG9W9QDb"
      },
      "source": [
        "Dikarenakan jumlah dari data nan cukup banyak, maka akan dilakukan pengubahan isi data nan dengan analisis lebih lanjut pada kolom-kolom yang berpotensi memiliki korelasi dengan kolom **status pernikahan**. \n",
        "\n",
        "Yaitu dengan melihat kolom **jumlah anak balita** dan **jumlah anak remaja** dengan asumsi jika memiliki nilai lebih dari 0 dari kedua kolom tersebut, maka akan diubah menjadi \"Menikah\"."
      ]
    },
    {
      "cell_type": "code",
      "execution_count": null,
      "metadata": {
        "colab": {
          "base_uri": "https://localhost:8080/",
          "height": 35
        },
        "id": "TEKrzHFDtj0s",
        "outputId": "67f69d26-c8fb-434a-bdc2-db2d232af2c5"
      },
      "outputs": [],
      "source": [
        "# Ubah NaN menjadi String Terlebih Dahulu\n",
        "dataTraining['status_pernikahan'].fillna('kosong', inplace=True)\n",
        "\n",
        "# Buat Fungsi\n",
        "def ubahPernikahan(row):\n",
        "    if row['status_pernikahan'] == 'kosong':\n",
        "        if row['jumlah_anak_balita'] > 0 or row['jumlah_anak_remaja'] > 0:\n",
        "            return 'Menikah'\n",
        "        else:\n",
        "            return 'Sendiri'\n",
        "    else:\n",
        "        return row['status_pernikahan']\n",
        "\n",
        "dataTraining['status_pernikahan'] = dataTraining.apply(ubahPernikahan, axis=1)"
      ]
    },
    {
      "cell_type": "code",
      "execution_count": null,
      "metadata": {},
      "outputs": [],
      "source": [
        "dataTraining['status_pernikahan'].unique()"
      ]
    },
    {
      "cell_type": "markdown",
      "metadata": {},
      "source": [
        "Saat ini nilai unique pada kolom **status pernikahan** sudah normal dan tidak ada nilai nan."
      ]
    },
    {
      "cell_type": "markdown",
      "metadata": {},
      "source": [
        "## Kolom Pendapatan"
      ]
    },
    {
      "cell_type": "code",
      "execution_count": null,
      "metadata": {},
      "outputs": [],
      "source": [
        "dataTraining.pendapatan.sample(5)"
      ]
    },
    {
      "cell_type": "markdown",
      "metadata": {},
      "source": [
        "### Cek Nilai Statistik "
      ]
    },
    {
      "cell_type": "code",
      "execution_count": null,
      "metadata": {
        "colab": {
          "base_uri": "https://localhost:8080/"
        },
        "id": "FODbWMiTy760",
        "outputId": "417a5dfb-6f53-42c9-f7b3-2760993b97e7"
      },
      "outputs": [],
      "source": [
        "dataTraining.describe()"
      ]
    },
    {
      "cell_type": "markdown",
      "metadata": {},
      "source": [
        "### Pengecekan Nilai Null\n",
        "\n",
        "Dari hasil analisis sebelumnya, terlihat bahwa terdapat nilai null pada kolom ini."
      ]
    },
    {
      "cell_type": "code",
      "execution_count": null,
      "metadata": {},
      "outputs": [],
      "source": [
        "nullPendapatan = dataTraining[dataTraining['pendapatan'].isnull()]\n",
        "nullPendapatan.head(10)"
      ]
    },
    {
      "cell_type": "code",
      "execution_count": null,
      "metadata": {},
      "outputs": [],
      "source": [
        "dataTraining.sample(10)"
      ]
    },
    {
      "cell_type": "markdown",
      "metadata": {},
      "source": [
        "Yang dilakukan adalah menggunakan interpolasi polinomial untuk menutup setiap nilai NaN yang ada dengan titik terdekat data ke data lainnya secara linear."
      ]
    },
    {
      "cell_type": "code",
      "execution_count": null,
      "metadata": {
        "id": "jyT87u3auQ5c"
      },
      "outputs": [],
      "source": [
        "# Data x dan y yang tidak null\n",
        "x_known = dataTraining.index[~dataTraining['pendapatan'].isnull()]\n",
        "y_known = dataTraining.loc[x_known, 'pendapatan']\n",
        "\n",
        "# Buat objek interpolasi polinomial orde rendah (misalnya, orde 2)\n",
        "poly_interp = Polynomial.fit(x_known, y_known, deg=2)\n",
        "\n",
        "# Memasang indeks titik data yang akan diisi (NaN)\n",
        "fill_indices = dataTraining.index[dataTraining['pendapatan'].isnull()]\n",
        "\n",
        "# Isi nilai-nilai NaN dengan hasil interpolasi polinomial\n",
        "dataTraining.loc[fill_indices, 'pendapatan'] = poly_interp(fill_indices)\n"
      ]
    },
    {
      "cell_type": "markdown",
      "metadata": {},
      "source": [
        "Pada saat ini sudah tidak terdapat nilai NaN lagi pada kolom **pendapatan**, sehingga dapat dilanjutkan pada proses analisis selanjutnya."
      ]
    },
    {
      "cell_type": "code",
      "execution_count": null,
      "metadata": {},
      "outputs": [],
      "source": [
        "# Tampilan statistik kolom pendapatan\n",
        "dataTraining.pendapatan.describe()"
      ]
    },
    {
      "cell_type": "markdown",
      "metadata": {},
      "source": [
        "## Kolom Jumlah Anak Balita"
      ]
    },
    {
      "cell_type": "markdown",
      "metadata": {},
      "source": [
        "### Cek Nilai Unique"
      ]
    },
    {
      "cell_type": "code",
      "execution_count": null,
      "metadata": {},
      "outputs": [],
      "source": [
        "dataTraining['jumlah_anak_balita'].unique()"
      ]
    },
    {
      "cell_type": "markdown",
      "metadata": {},
      "source": [
        "Pada pengecekan nilai unique di atas, ditemukan nilai NaN yang perlu diganti dengan nilai lain."
      ]
    },
    {
      "cell_type": "markdown",
      "metadata": {},
      "source": [
        "### Hapus Nilai Null"
      ]
    },
    {
      "cell_type": "code",
      "execution_count": null,
      "metadata": {},
      "outputs": [],
      "source": [
        "dataTraining['jumlah_anak_balita'].fillna(0, inplace=True)\n",
        "dataTraining['jumlah_anak_balita'] = dataTraining['jumlah_anak_balita'].astype(int)\n",
        "print(dataTraining['jumlah_anak_balita'].dtype)"
      ]
    },
    {
      "cell_type": "code",
      "execution_count": null,
      "metadata": {},
      "outputs": [],
      "source": [
        "# Cek Nilai Unique Ulang\n",
        "dataTraining['jumlah_anak_balita'].unique()"
      ]
    },
    {
      "cell_type": "markdown",
      "metadata": {},
      "source": [
        "Pada proses ini, langkah yang diambil adalah mengubah nilai NaN menjadi **0** dengan asumsi setiap nilai NaN diartikan baris data penduduk tersebut memiliki jumlah anak balita sebanyak **0**."
      ]
    },
    {
      "cell_type": "markdown",
      "metadata": {},
      "source": [
        "## Kolom Jumlah Anak Remaja"
      ]
    },
    {
      "cell_type": "markdown",
      "metadata": {},
      "source": [
        "### Cek Nilai Unique"
      ]
    },
    {
      "cell_type": "code",
      "execution_count": null,
      "metadata": {},
      "outputs": [],
      "source": [
        "dataTraining['jumlah_anak_remaja'].unique()"
      ]
    },
    {
      "cell_type": "markdown",
      "metadata": {},
      "source": [
        "Sama seperti pada kasus kolom *jumlah anak balita*, terdapat nilai NaN pada kolom *jumlah anak remaja* yang perlu diubah dengan nilai lainnya."
      ]
    },
    {
      "cell_type": "markdown",
      "metadata": {},
      "source": [
        "### Hapus Nilai Null"
      ]
    },
    {
      "cell_type": "code",
      "execution_count": null,
      "metadata": {},
      "outputs": [],
      "source": [
        "dataTraining['jumlah_anak_remaja'].fillna(0, inplace=True)\n",
        "dataTraining['jumlah_anak_remaja'] = dataTraining['jumlah_anak_remaja'].astype(int)\n",
        "print(dataTraining['jumlah_anak_remaja'].dtype)"
      ]
    },
    {
      "cell_type": "code",
      "execution_count": null,
      "metadata": {},
      "outputs": [],
      "source": [
        "# Cek Nilai Unique Ulang\n",
        "dataTraining['jumlah_anak_remaja'].unique()"
      ]
    },
    {
      "cell_type": "markdown",
      "metadata": {},
      "source": [
        "Hasil pada kolom *jumlah anak remaja* juga mirip dengan hasil kolom *jumlah anak balita*, yaitu dengan mengubah nilai NaN dengan nilai **0**. Sebagai asumsi bahwa nilai NaN berarti baris data penduduk tersebut tidak memiliki anak remaja."
      ]
    },
    {
      "cell_type": "markdown",
      "metadata": {},
      "source": [
        "## Kolom Terakhir Belanja"
      ]
    },
    {
      "cell_type": "markdown",
      "metadata": {},
      "source": [
        "### Cek Nilai Unique"
      ]
    },
    {
      "cell_type": "code",
      "execution_count": null,
      "metadata": {},
      "outputs": [],
      "source": [
        "dataTraining['terakhir_belanja'].unique()"
      ]
    },
    {
      "cell_type": "markdown",
      "metadata": {},
      "source": [
        "Pada pengecekan nilai unique, hasilnya terdapat nilai NaN yang terkandung didalam kolom *terakhir belanja*. Maka perlu dilakukan pengecekan batas minimum dan maksimum data serta nilai statistik lainnya seperti rata-rata untuk mengubah nilai NaN ini dengan sajian nilai Unique yang lebih rapi."
      ]
    },
    {
      "cell_type": "markdown",
      "metadata": {},
      "source": [
        "### Cek Nilai Min dan Max"
      ]
    },
    {
      "cell_type": "code",
      "execution_count": null,
      "metadata": {},
      "outputs": [],
      "source": [
        "nilaiMax = dataTraining.terakhir_belanja.max()\n",
        "nilaiMin = dataTraining.terakhir_belanja.min()\n",
        "\n",
        "print('Nilai maksimal dari kolom terakhir belanja adalah', nilaiMax)\n",
        "print('Nilai minimal dari kolom terakhir belanja adalah', nilaiMin)"
      ]
    },
    {
      "cell_type": "markdown",
      "metadata": {},
      "source": [
        "Dikarenakan tidak adanya acuan data tambahan dari kolom *terakhir belanja*, maka langkah yang diambil adalah mengubah setiap nilai NaN menjadi nilai rata-rata."
      ]
    },
    {
      "cell_type": "markdown",
      "metadata": {},
      "source": [
        "### Ubah Nilai Null dengan Rata-Rata"
      ]
    },
    {
      "cell_type": "code",
      "execution_count": null,
      "metadata": {},
      "outputs": [],
      "source": [
        "rata2 = dataTraining['terakhir_belanja'].mean()\n",
        "rata2"
      ]
    },
    {
      "cell_type": "markdown",
      "metadata": {},
      "source": [
        "Didapatkan nilai **47.23338824821526** yang perlu dibulatkan, untuk mengubah nilai NaN dengan nilai ini."
      ]
    },
    {
      "cell_type": "code",
      "execution_count": null,
      "metadata": {},
      "outputs": [],
      "source": [
        "dataTraining['terakhir_belanja'] = dataTraining['terakhir_belanja'].fillna(rata2)\n",
        "dataTraining['terakhir_belanja'] = dataTraining['terakhir_belanja'].astype(int)\n",
        "print(dataTraining['terakhir_belanja'].dtype)"
      ]
    },
    {
      "cell_type": "markdown",
      "metadata": {},
      "source": [
        "Pembulatan nilai pada kolom *terakhir belanja* dilakukan dengan cara pengubahan tipe data dari float menjadi integer."
      ]
    },
    {
      "cell_type": "code",
      "execution_count": null,
      "metadata": {},
      "outputs": [],
      "source": [
        "# Cek Ulang Nilai Unique\n",
        "nilaiTerurut = np.sort(dataTraining['terakhir_belanja'].unique())\n",
        "nilaiTerurut"
      ]
    },
    {
      "cell_type": "markdown",
      "metadata": {},
      "source": [
        "## Kolom Belanja Buah\n",
        "\n",
        "Pada kolom **belanja buah**, juga masih terdapat nilai NaN yang harus dipenuhi. Untuk langkah yang diambil yaitu mengisi dengan mempertimbangkan kolom lain yang secara logis masih memiliki hubungan dengan kolom **belanja_buah**. Hal ini bertujuan agar pengisian data bervariasi tetapi masih memiliki alasan yang masuk jelas. Kolom yang dipilih adalah **pendapatan**."
      ]
    },
    {
      "cell_type": "code",
      "execution_count": null,
      "metadata": {},
      "outputs": [],
      "source": [
        "dataTraining.head()"
      ]
    },
    {
      "cell_type": "code",
      "execution_count": null,
      "metadata": {},
      "outputs": [],
      "source": [
        "dataTraining.belanja_buah.isna().sum()"
      ]
    },
    {
      "cell_type": "markdown",
      "metadata": {},
      "source": [
        "### Pengisian Nilai NaN\n",
        "\n",
        "Pengisian nilai NaN dilakukan dengan cara mengambil sampel nilai pendapatan pada kolom **pendapatan** berdasarkan segmentasi pendapatan pada kolom **segmen_pendapatan**. Setelah itu, dilakukan prediksi yang hasilnya akan dimasukkan sebagai pengganti nilai NaN. \n",
        "\n",
        "Untuk fitur x diambil dari kolom **pendapatan** (non null) dan fitur y diambil dari kolom **belanja buah** hanya nilai yang non null saja. Prediksi dilakukan menggunakan *Random Forest*."
      ]
    },
    {
      "cell_type": "code",
      "execution_count": null,
      "metadata": {},
      "outputs": [],
      "source": [
        "# Data x dan y yang tidak null\n",
        "x_known = dataTraining.index[~dataTraining['belanja_buah'].isnull()]\n",
        "y_known = dataTraining.loc[x_known, 'belanja_buah']\n",
        "\n",
        "# Buat objek interpolasi polinomial orde rendah (misalnya, orde 2)\n",
        "poly_interp = Polynomial.fit(x_known, y_known, deg=2)\n",
        "\n",
        "# Memasang indeks titik data yang akan diisi (NaN)\n",
        "fill_indices = dataTraining.index[dataTraining['belanja_buah'].isnull()]\n",
        "\n",
        "# Isi nilai-nilai NaN dengan hasil interpolasi polinomial\n",
        "dataTraining.loc[fill_indices, 'belanja_buah'] = poly_interp(fill_indices)"
      ]
    },
    {
      "cell_type": "code",
      "execution_count": null,
      "metadata": {},
      "outputs": [],
      "source": [
        "dataTraining.belanja_buah.isna().sum()"
      ]
    },
    {
      "cell_type": "markdown",
      "metadata": {},
      "source": [
        "## Kolom Belanja Daging"
      ]
    },
    {
      "cell_type": "code",
      "execution_count": null,
      "metadata": {},
      "outputs": [],
      "source": [
        "# Data x dan y yang tidak null\n",
        "x_known = dataTraining.index[~dataTraining['belanja_daging'].isnull()]\n",
        "y_known = dataTraining.loc[x_known, 'belanja_daging']\n",
        "\n",
        "# Buat objek interpolasi polinomial orde rendah (misalnya, orde 2)\n",
        "poly_interp = Polynomial.fit(x_known, y_known, deg=2)\n",
        "\n",
        "# Memasang indeks titik data yang akan diisi (NaN)\n",
        "fill_indices = dataTraining.index[dataTraining['belanja_daging'].isnull()]\n",
        "\n",
        "# Isi nilai-nilai NaN dengan hasil interpolasi polinomial\n",
        "dataTraining.loc[fill_indices, 'belanja_daging'] = poly_interp(fill_indices)"
      ]
    },
    {
      "cell_type": "code",
      "execution_count": null,
      "metadata": {},
      "outputs": [],
      "source": [
        "dataTraining.belanja_daging.isna().sum()"
      ]
    },
    {
      "cell_type": "markdown",
      "metadata": {},
      "source": [
        "## Kolom Belanja Ikan"
      ]
    },
    {
      "cell_type": "code",
      "execution_count": null,
      "metadata": {},
      "outputs": [],
      "source": [
        "# Data x dan y yang tidak null\n",
        "x_known = dataTraining.index[~dataTraining['belanja_buah'].isnull()]\n",
        "y_known = dataTraining.loc[x_known, 'belanja_buah']\n",
        "\n",
        "# Buat objek interpolasi polinomial orde rendah (misalnya, orde 2)\n",
        "poly_interp = Polynomial.fit(x_known, y_known, deg=2)\n",
        "\n",
        "# Memasang indeks titik data yang akan diisi (NaN)\n",
        "fill_indices = dataTraining.index[dataTraining['belanja_buah'].isnull()]\n",
        "\n",
        "# Isi nilai-nilai NaN dengan hasil interpolasi polinomial\n",
        "dataTraining.loc[fill_indices, 'belanja_buah'] = poly_interp(fill_indices)"
      ]
    },
    {
      "cell_type": "code",
      "execution_count": null,
      "metadata": {},
      "outputs": [],
      "source": [
        "trainFeatures.belanja_ikan.isna().sum()"
      ]
    },
    {
      "cell_type": "markdown",
      "metadata": {},
      "source": [
        "## Kolom Belanja Kue"
      ]
    },
    {
      "cell_type": "code",
      "execution_count": null,
      "metadata": {},
      "outputs": [],
      "source": [
        "# Data x dan y yang tidak null\n",
        "x_known = dataTraining.index[~dataTraining['belanja_kue'].isnull()]\n",
        "y_known = dataTraining.loc[x_known, 'belanja_kue']\n",
        "\n",
        "# Buat objek interpolasi polinomial orde rendah (misalnya, orde 2)\n",
        "poly_interp = Polynomial.fit(x_known, y_known, deg=2)\n",
        "\n",
        "# Memasang indeks titik data yang akan diisi (NaN)\n",
        "fill_indices = dataTraining.index[dataTraining['belanja_kue'].isnull()]\n",
        "\n",
        "# Isi nilai-nilai NaN dengan hasil interpolasi polinomial\n",
        "dataTraining.loc[fill_indices, 'belanja_kue'] = poly_interp(fill_indices)"
      ]
    },
    {
      "cell_type": "code",
      "execution_count": null,
      "metadata": {},
      "outputs": [],
      "source": [
        "dataTraining.belanja_ikan.isna().sum()"
      ]
    },
    {
      "cell_type": "markdown",
      "metadata": {},
      "source": [
        "## Kolom Pembelian Diskon"
      ]
    },
    {
      "cell_type": "code",
      "execution_count": null,
      "metadata": {},
      "outputs": [],
      "source": [
        "dataTraining.pembelian_diskon.isna().sum()"
      ]
    },
    {
      "cell_type": "code",
      "execution_count": null,
      "metadata": {},
      "outputs": [],
      "source": [
        "dataTraining.pembelian_diskon.describe()"
      ]
    },
    {
      "cell_type": "code",
      "execution_count": null,
      "metadata": {},
      "outputs": [],
      "source": [
        "kuartilPendapatan = dataTraining['pendapatan'].quantile([0.25, 0.5, 0.75])\n",
        "\n",
        "dataTraining['segmentasi_pendapatan'] = pd.cut(dataTraining['pendapatan'], \n",
        "                                                bins=[0, kuartilPendapatan.iloc[0], kuartilPendapatan.iloc[1], \n",
        "                                                      kuartilPendapatan.iloc[2], dataTraining['pendapatan'].max()],\n",
        "                                                labels=['Rendah', 'Sedang', 'Tinggi', 'Sangat Tinggi'])\n",
        "\n",
        "dataTraining"
      ]
    },
    {
      "cell_type": "code",
      "execution_count": null,
      "metadata": {},
      "outputs": [],
      "source": [
        "for segmen in dataTraining['segmentasi_pendapatan'].unique():\n",
        "    # Filter DataFrame berdasarkan segmen pendapatan\n",
        "    df_segmen = dataTraining[dataTraining['segmentasi_pendapatan'] == segmen]\n",
        "    \n",
        "    # Mengambil nilai modus dari kolom 'pembelian_diskon' pada segmen saat ini\n",
        "    mayorSegmen = df_segmen['pembelian_diskon'].mean()\n",
        "\n",
        "    # Mengisi nilai null di kolom 'pembelian_diskon' berdasarkan segmentasi pendapatan dengan nilai modus\n",
        "    dataTraining.loc[dataTraining['segmentasi_pendapatan'] == segmen, 'pembelian_diskon'] = dataTraining.loc[dataTraining['segmentasi_pendapatan'] == segmen, 'pembelian_diskon'].fillna(mayorSegmen)"
      ]
    },
    {
      "cell_type": "code",
      "execution_count": null,
      "metadata": {},
      "outputs": [],
      "source": [
        "dataTraining.pembelian_diskon.isna().sum()"
      ]
    },
    {
      "cell_type": "code",
      "execution_count": null,
      "metadata": {},
      "outputs": [],
      "source": [
        "Q1 = dataTraining['pembelian_diskon'].quantile(0.25)\n",
        "Q3 = dataTraining['pembelian_diskon'].quantile(0.75)\n",
        "IQR = Q3 - Q1\n",
        "\n",
        "Upper_Fence = Q3 + 1.5 * IQR\n",
        "Lower_Fence = Q1 - 1.5 * IQR\n",
        "\n",
        "outliers = dataTraining[(dataTraining['pembelian_diskon'] < Lower_Fence) | (dataTraining['pembelian_diskon'] > Upper_Fence)]['pembelian_diskon']\n",
        "len(outliers)\n"
      ]
    },
    {
      "cell_type": "code",
      "execution_count": null,
      "metadata": {},
      "outputs": [],
      "source": [
        "plt.boxplot(dataTraining['pembelian_diskon'], vert=False)\n",
        "plt.xlabel('Belanja Buah')\n",
        "plt.ylabel('Jumlah')\n",
        "plt.title('Diagram Boxplot pembelian_diskon')\n",
        "plt.show()"
      ]
    },
    {
      "cell_type": "code",
      "execution_count": null,
      "metadata": {},
      "outputs": [],
      "source": [
        "# Plot histogram\n",
        "plt.hist(dataTraining['pembelian_diskon'], bins=10, color='skyblue', edgecolor='black')\n",
        "\n",
        "# Label sumbu dan judul\n",
        "plt.xlabel('pembelian_diskon')\n",
        "plt.ylabel('Frekuensi')\n",
        "plt.title('Histogram pembelian_diskon')"
      ]
    },
    {
      "cell_type": "markdown",
      "metadata": {},
      "source": [
        "Saat ini kolom **belanja buah** sudah tidak ada nilai null lagi"
      ]
    },
    {
      "cell_type": "markdown",
      "metadata": {},
      "source": [
        "## Kolom Pembelian Web"
      ]
    },
    {
      "cell_type": "code",
      "execution_count": null,
      "metadata": {},
      "outputs": [],
      "source": [
        "for segmen in dataTraining['segmentasi_pendapatan'].unique():\n",
        "    # Filter DataFrame berdasarkan segmen pendapatan\n",
        "    df_segmen = dataTraining[dataTraining['segmentasi_pendapatan'] == segmen]\n",
        "    \n",
        "    # Mengambil nilai modus dari kolom 'pembelian_diskon' pada segmen saat ini\n",
        "    mayorSegmen = df_segmen['pembelian_web'].mean()\n",
        "\n",
        "    # Mengisi nilai null di kolom 'pembelian_diskon' berdasarkan segmentasi pendapatan dengan nilai modus\n",
        "    dataTraining.loc[dataTraining['segmentasi_pendapatan'] == segmen, 'pembelian_web'] = dataTraining.loc[dataTraining['segmentasi_pendapatan'] == segmen, 'pembelian_web'].fillna(mayorSegmen)"
      ]
    },
    {
      "cell_type": "code",
      "execution_count": null,
      "metadata": {},
      "outputs": [],
      "source": [
        "Q1 = dataTraining['pembelian_web'].quantile(0.25)\n",
        "Q3 = dataTraining['pembelian_web'].quantile(0.75)\n",
        "IQR = Q3 - Q1\n",
        "\n",
        "Upper_Fence = Q3 + 1.5 * IQR\n",
        "Lower_Fence = Q1 - 1.5 * IQR\n",
        "\n",
        "outliers = dataTraining[(dataTraining['pembelian_web'] < Lower_Fence) | (dataTraining['pembelian_web'] > Upper_Fence)]['pembelian_web']\n",
        "len(outliers)"
      ]
    },
    {
      "cell_type": "code",
      "execution_count": null,
      "metadata": {},
      "outputs": [],
      "source": [
        "plt.boxplot(dataTraining['pembelian_web'], vert=False)\n",
        "plt.xlabel('Belanja Buah')\n",
        "plt.ylabel('Jumlah')\n",
        "plt.title('Diagram Boxplot pembelian_diskon')\n",
        "plt.show()"
      ]
    },
    {
      "cell_type": "code",
      "execution_count": null,
      "metadata": {},
      "outputs": [],
      "source": [
        "# Plot histogram\n",
        "plt.hist(dataTraining['pembelian_web'], bins=10, color='skyblue', edgecolor='black')\n",
        "\n",
        "# Label sumbu dan judul\n",
        "plt.xlabel('pembelian_diskon')\n",
        "plt.ylabel('Frekuensi')\n",
        "plt.title('Histogram pembelian_diskon')"
      ]
    },
    {
      "cell_type": "markdown",
      "metadata": {},
      "source": [
        "## Kolom Pembelian Toko"
      ]
    },
    {
      "cell_type": "code",
      "execution_count": null,
      "metadata": {},
      "outputs": [],
      "source": [
        "for segmen in dataTraining['segmentasi_pendapatan'].unique():\n",
        "    # Filter DataFrame berdasarkan segmen pendapatan\n",
        "    df_segmen = dataTraining[dataTraining['segmentasi_pendapatan'] == segmen]\n",
        "    \n",
        "    # Mengambil nilai modus dari kolom 'pembelian_diskon' pada segmen saat ini\n",
        "    mayorSegmen = df_segmen['pembelian_toko'].mean()\n",
        "\n",
        "    # Mengisi nilai null di kolom 'pembelian_diskon' berdasarkan segmentasi pendapatan dengan nilai modus\n",
        "    dataTraining.loc[dataTraining['segmentasi_pendapatan'] == segmen, 'pembelian_toko'] = dataTraining.loc[dataTraining['segmentasi_pendapatan'] == segmen, 'pembelian_toko'].fillna(mayorSegmen)"
      ]
    },
    {
      "cell_type": "code",
      "execution_count": null,
      "metadata": {},
      "outputs": [],
      "source": [
        "Q1 = dataTraining['pembelian_toko'].quantile(0.25)\n",
        "Q3 = dataTraining['pembelian_toko'].quantile(0.75)\n",
        "IQR = Q3 - Q1\n",
        "\n",
        "Upper_Fence = Q3 + 1.5 * IQR\n",
        "Lower_Fence = Q1 - 1.5 * IQR\n",
        "\n",
        "outliers = dataTraining[(dataTraining['pembelian_toko'] < Lower_Fence) | (dataTraining['pembelian_toko'] > Upper_Fence)]['pembelian_toko']\n",
        "len(outliers)"
      ]
    },
    {
      "cell_type": "code",
      "execution_count": null,
      "metadata": {},
      "outputs": [],
      "source": [
        "plt.boxplot(dataTraining['pembelian_toko'], vert=False)\n",
        "plt.xlabel('Belanja Buah')\n",
        "plt.ylabel('Jumlah')\n",
        "plt.title('Diagram Boxplot pembelian_diskon')\n",
        "plt.show()"
      ]
    },
    {
      "cell_type": "code",
      "execution_count": null,
      "metadata": {},
      "outputs": [],
      "source": [
        "# Plot histogram\n",
        "plt.hist(dataTraining['pembelian_toko'], bins=10, color='skyblue', edgecolor='black')\n",
        "\n",
        "# Label sumbu dan judul\n",
        "plt.xlabel('pembelian_diskon')\n",
        "plt.ylabel('Frekuensi')\n",
        "plt.title('Histogram pembelian_diskon')"
      ]
    },
    {
      "cell_type": "markdown",
      "metadata": {},
      "source": [
        "## Kolom Keluhan"
      ]
    },
    {
      "cell_type": "code",
      "execution_count": null,
      "metadata": {},
      "outputs": [],
      "source": [
        "dataTraining.keluhan.isna().sum()"
      ]
    },
    {
      "cell_type": "code",
      "execution_count": null,
      "metadata": {},
      "outputs": [],
      "source": [
        "dataTraining['keluhan'].fillna(0, inplace=True)"
      ]
    },
    {
      "cell_type": "code",
      "execution_count": null,
      "metadata": {},
      "outputs": [],
      "source": [
        "dataTraining.keluhan.isna().sum()"
      ]
    },
    {
      "cell_type": "markdown",
      "metadata": {},
      "source": [
        "## Kolom Tanggal Menjadi Anggota"
      ]
    },
    {
      "cell_type": "code",
      "execution_count": null,
      "metadata": {},
      "outputs": [],
      "source": [
        "dataTraining.tanggal_menjadi_anggota.isna().sum()"
      ]
    },
    {
      "cell_type": "code",
      "execution_count": null,
      "metadata": {},
      "outputs": [],
      "source": [
        "dataTraining['tanggal_menjadi_anggota'].fillna(\"Unknown\", inplace=True)"
      ]
    },
    {
      "cell_type": "code",
      "execution_count": null,
      "metadata": {},
      "outputs": [],
      "source": [
        "dataTraining.tanggal_menjadi_anggota.isna().sum()"
      ]
    },
    {
      "cell_type": "code",
      "execution_count": null,
      "metadata": {},
      "outputs": [],
      "source": [
        "dataTraining = round(dataTraining)\n",
        "dataTraining.head()"
      ]
    },
    {
      "cell_type": "markdown",
      "metadata": {},
      "source": [
        "## Kolom Segmentasi Pendapatan"
      ]
    },
    {
      "cell_type": "code",
      "execution_count": null,
      "metadata": {},
      "outputs": [],
      "source": [
        "dataTraining.segmentasi_pendapatan.isna().sum()"
      ]
    },
    {
      "cell_type": "markdown",
      "metadata": {},
      "source": [
        "Sebab tidak terdapat nilai NaN, maka tidak perlu adanya penghapusan nilai outliers di kolom ini."
      ]
    },
    {
      "cell_type": "markdown",
      "metadata": {},
      "source": [
        "## Kolom Jumlah Promosi"
      ]
    },
    {
      "cell_type": "code",
      "execution_count": null,
      "metadata": {},
      "outputs": [],
      "source": [
        "dataTraining.jumlah_promosi.isna().sum()"
      ]
    },
    {
      "cell_type": "markdown",
      "metadata": {},
      "source": [
        "Sebab tidak terdapat nilai NaN, maka tidak perlu adanya penghapusan nilai outliers di kolom ini."
      ]
    },
    {
      "cell_type": "markdown",
      "metadata": {},
      "source": [
        "# Exploratory Data Analysis (EDA)"
      ]
    },
    {
      "cell_type": "markdown",
      "metadata": {},
      "source": [
        "## Pertanyaan Analisis\n",
        "Dari pertanyaan-pertanyaan bisnis yang sudah didefinisikan, berikut adalah pertanyaan-pertanyaan guna menganalisis setiap pertanyaan bisnis yang ada:\n",
        "\n",
        "1. Rentang usia berapa saja pengguna yang terdata pada dataset?\n",
        "2. Berapa porsi berdasarkan pendidikan terakhir pengguna?\n",
        "3. Status pernikahan apa saja pengguna yang terdata pada dataset?\n",
        "4. Berapa rata-rata pengguna yang sudah memiliki anak dan berapa jumlah rata-rata anak yang dimiliki?\n",
        "5. Berapa rata-rata pendapatan dari segmentasi pendapatan yang ada?\n",
        "6. Dari segmentasi pendapatan, berapa rata-rata pengeluaran pengguna untuk belanja?\n",
        "7. Bagaimana hubungan keluhan pengguna berdasarkan cara pembelian yang dilakukan?\n",
        "8. Bagaimana distribusi pendaftaran anggota dari hasil analisis statistik dan demografis yang sudah dilakukan?\n",
        "9. Bagaimana kesimpulan jumlah promosi yang sudah dilakukan pada setiap pengguna untuk dilakukan promosi ke pengguna baru?"
      ]
    },
    {
      "cell_type": "markdown",
      "metadata": {},
      "source": [
        "## Analisis Outliers\n",
        "\n",
        "Sebelum melakukan analisis lebih lanjut, dilakukan analisis outliers untuk menghilangkan nilai-nilai diluar rentang yang dapat mempengaruhi hasil dari analisis."
      ]
    },
    {
      "cell_type": "markdown",
      "metadata": {},
      "source": [
        "### Cek Nilai Outliers dengan Box Plot"
      ]
    },
    {
      "cell_type": "code",
      "execution_count": null,
      "metadata": {},
      "outputs": [],
      "source": [
        "numFeatures = dataTraining.select_dtypes(include='number').columns\n",
        "\n",
        "# Tentukan ukuran kanvas subplot\n",
        "numPlots = len(numFeatures)\n",
        "numRows = numPlots // 2 + numPlots % 2  # Hitung jumlah baris\n",
        "fig, axes = plt.subplots(nrows=numRows, ncols=2, figsize=(12, 20), \n",
        "                         gridspec_kw={'height_ratios': [1]*numRows})  # Set tinggi setiap baris sama\n",
        "\n",
        "# Looping melalui kolom numerik\n",
        "for i, column in enumerate(numFeatures):\n",
        "    row = i // 2\n",
        "    col = i % 2\n",
        "    sns.boxplot(x=dataTraining[column], ax=axes[row, col])\n",
        "    axes[row, col].set_title(column)\n",
        "\n",
        "# Menghapus subplot yang tidak digunakan jika jumlah kolom ganjil\n",
        "if numPlots % 2 != 0:\n",
        "    fig.delaxes(axes[numRows-1, 1])\n",
        "\n",
        "plt.tight_layout()\n",
        "plt.show()"
      ]
    },
    {
      "cell_type": "markdown",
      "metadata": {},
      "source": [
        "Dari hasil analisis banyak outliers di atas, terlihat bahwa ada beberapa kolom yang masih terdapat nilai outliers yang perlu ditangani. Namun juga perlu adanya seleksi lagi kolom-kolom yang perlu ditangani dan juga yang tidak. \n",
        "\n",
        "Untuk kolom yang tidak perlu yaitu kolom-kolom numerik dengan nilai terbilang sedikit variasinya."
      ]
    },
    {
      "cell_type": "code",
      "execution_count": null,
      "metadata": {},
      "outputs": [],
      "source": [
        "ignoredColumn = ['keluhan', 'jumlah_anak_balita', 'jumlah_anak_remaja', 'tahun_kelahiran']\n",
        "interpolateColumn = ['belanja_buah', 'belanja_ikan', 'belanja_daging', 'belanja_kue']\n",
        "\n",
        "# Fungsi untuk menghapus outlier menggunakan pendekatan IQR\n",
        "def replace_outliers_with_interpolation(df):\n",
        "    cleaned_data = df.copy()  # Salin dataframe asli untuk dimodifikasi\n",
        "    \n",
        "    # Loop melalui setiap kolom numerik\n",
        "    for column in df.select_dtypes(include='number').columns:\n",
        "        if column not in ignoredColumn:  # Lewati kolom yang diabaikan\n",
        "            Q1 = df[column].quantile(0.25)\n",
        "            Q3 = df[column].quantile(0.75)\n",
        "            IQR = Q3 - Q1\n",
        "            lower_bound = Q1 - 1.5 * IQR\n",
        "            upper_bound = Q3 + 1.5 * IQR\n",
        "            \n",
        "            if column in interpolateColumn:\n",
        "                # Interpolasi nilai outliers\n",
        "                outliers = df[(df[column] < lower_bound) | (df[column] > upper_bound)]\n",
        "                interpolated_values = (outliers[column] - lower_bound) / (upper_bound - lower_bound) * (Q3 - Q1) + Q1\n",
        "                cleaned_data.loc[outliers.index, column] = interpolated_values\n",
        "            cleaned_data[column] = cleaned_data[column].apply(lambda x: lower_bound if x < lower_bound else (upper_bound if x > upper_bound else x))\n",
        "    return cleaned_data\n",
        "\n",
        "# Hapus outlier menggunakan pendekatan IQR untuk setiap kolom (kecuali yang diabaikan)\n",
        "cleanedTraining = replace_outliers_with_interpolation(dataTraining)"
      ]
    },
    {
      "cell_type": "code",
      "execution_count": null,
      "metadata": {},
      "outputs": [],
      "source": [
        "cleanedTraining.shape[0]"
      ]
    },
    {
      "cell_type": "code",
      "execution_count": null,
      "metadata": {},
      "outputs": [],
      "source": [
        "numFeatures = cleanedTraining.select_dtypes(include='number').columns\n",
        "\n",
        "# Tentukan ukuran kanvas subplot\n",
        "numPlots = len(numFeatures)\n",
        "numRows = numPlots // 2 + numPlots % 2  # Hitung jumlah baris\n",
        "fig, axes = plt.subplots(nrows=numRows, ncols=2, figsize=(12, 20), \n",
        "                         gridspec_kw={'height_ratios': [1]*numRows})  # Set tinggi setiap baris sama\n",
        "\n",
        "# Looping melalui kolom numerik\n",
        "for i, column in enumerate(numFeatures):\n",
        "    row = i // 2\n",
        "    col = i % 2\n",
        "    sns.boxplot(x=cleanedTraining[column], ax=axes[row, col])\n",
        "    axes[row, col].set_title(column)\n",
        "\n",
        "# Menghapus subplot yang tidak digunakan jika jumlah kolom ganjil\n",
        "if numPlots % 2 != 0:\n",
        "    fig.delaxes(axes[numRows-1, 1])\n",
        "\n",
        "plt.tight_layout()\n",
        "plt.show()"
      ]
    },
    {
      "cell_type": "code",
      "execution_count": null,
      "metadata": {},
      "outputs": [],
      "source": [
        "cleanedTraining.sample(10)"
      ]
    },
    {
      "cell_type": "markdown",
      "metadata": {},
      "source": [
        "Setelah dilakukan proses penghapusan outliers, saat ini sudah tidak ada outliers pada setiap kolom di data training."
      ]
    },
    {
      "cell_type": "markdown",
      "metadata": {},
      "source": [
        "## Jawab Pertanyaan Analisis dan Univariate Analysis\n",
        "\n",
        "Pada sesi ini, menjawab pertanyaan analisis dengan berbagai langkah analisis disertai dengan Univariate Analysis"
      ]
    },
    {
      "cell_type": "markdown",
      "metadata": {},
      "source": [
        "### Pertanyaan 1\n",
        "\n",
        "Pada pertanyaan 1, perlu melakukan analisa pada kolom **Tahun Kelahiran** untuk mengetahui usia berapa saja setiap pengguna yang terdata pada dataset."
      ]
    },
    {
      "cell_type": "code",
      "execution_count": null,
      "metadata": {},
      "outputs": [],
      "source": [
        "# Mengambil nilai tahun sekarang\n",
        "yearNow = datetime.now().year\n",
        "# Mengurangi tahun kelahiran dengan tahun sekarang, masukkan dalam kolom baru\n",
        "cleanedTraining['usia'] = yearNow - cleanedTraining['tahun_kelahiran']"
      ]
    },
    {
      "cell_type": "markdown",
      "metadata": {},
      "source": [
        "Setelah mendapatkan angka usia pada setiap pengguna, selanjutnya adalah membuat rentang usia."
      ]
    },
    {
      "cell_type": "code",
      "execution_count": null,
      "metadata": {},
      "outputs": [],
      "source": [
        "# Membuat batas rentang usia\n",
        "limitAges = [24, 30, 70, float('inf')]\n",
        "\n",
        "# Membuat label rentang usia\n",
        "labelAges = ['Remaja', 'Dewasa', 'Lanjut Usia']\n",
        "\n",
        "# Membuat kolom baru rentang usia\n",
        "cleanedTraining['rentang_usia'] = pd.cut(cleanedTraining['usia'], bins=limitAges, labels=labelAges)"
      ]
    },
    {
      "cell_type": "markdown",
      "metadata": {},
      "source": [
        "Setelah dilakukan pembuatan rentang usia, maka perlu dilakukan proses validasi pada nilai-nilai yang ada dan berkaitan dengan pertanyaan 1."
      ]
    },
    {
      "cell_type": "code",
      "execution_count": null,
      "metadata": {},
      "outputs": [],
      "source": [
        "print('Usia paling muda adalah', cleanedTraining.usia.min())\n",
        "print('Usia paling tua adalah', cleanedTraining.usia.max())"
      ]
    },
    {
      "cell_type": "markdown",
      "metadata": {},
      "source": [
        "Disini terdeteksi terdapat ketidaktepatan pada data yang sudah ada, yaitu adanya usia yang tidak logis. Maka perlu dilakukan analisis lebih lanjut pada data kolom Tahun **Kelahiran**, **Usia**, dan **Rentang Usia**."
      ]
    },
    {
      "cell_type": "code",
      "execution_count": null,
      "metadata": {},
      "outputs": [],
      "source": [
        "# Grouping berdasarkan rentang usia\n",
        "grpAgeRange = cleanedTraining[cleanedTraining['rentang_usia'] == 'Lanjut Usia']\n",
        "\n",
        "# Mengurutkan setiap nilai unik di kolom usia untuk menentukan batas maksimal usia\n",
        "print(np.sort(grpAgeRange['usia'].unique()))\n",
        "\n",
        "# Menampilkan banyak data di atas batas maksimal\n",
        "print(\"Banyak data di atas batas maksimal\", len(cleanedTraining[cleanedTraining['usia'] > 84]))"
      ]
    },
    {
      "cell_type": "markdown",
      "metadata": {},
      "source": [
        "Dari hasil analisis di atas, dari penentuan batas maksimal usia lansia adalah **84** dengan banyak data di atas batas maksimal (Invalid Value) adalah **16**. Maka dapat dilakukan penghapusan data di atas batas maksimal."
      ]
    },
    {
      "cell_type": "code",
      "execution_count": null,
      "metadata": {},
      "outputs": [],
      "source": [
        "cleanedTraining = cleanedTraining[cleanedTraining['usia'] <= 84]"
      ]
    },
    {
      "cell_type": "markdown",
      "metadata": {},
      "source": [
        "Setelah dilakukan pembersihan, dapat disimpulkan rentang usia berdasarkan usia pengguna adalah sebagai berikut:"
      ]
    },
    {
      "cell_type": "code",
      "execution_count": null,
      "metadata": {},
      "outputs": [],
      "source": [
        "grpAges = cleanedTraining.groupby('rentang_usia').agg({\n",
        "    'usia': ['count', 'min', 'max']\n",
        "})\n",
        "\n",
        "for rentang, nilai in grpAges.iterrows():\n",
        "    print(f\"Pada rentang usia {rentang} yaitu usia {nilai['usia']['min']}-{nilai['usia']['max']}, terdapat {nilai['usia']['count']} pengguna.\")"
      ]
    },
    {
      "cell_type": "code",
      "execution_count": null,
      "metadata": {},
      "outputs": [],
      "source": [
        "# Plotting bar chart\n",
        "plt.figure(figsize=(13, 6))\n",
        "bars = grpAges['usia', 'count'].plot(kind='barh')\n",
        "plt.xlabel('Jumlah Pengguna')\n",
        "plt.ylabel('Rentang Usia')\n",
        "plt.title('Jumlah Pengguna berdasarkan Rentang Usia')\n",
        "plt.legend().remove()  # Menghapus legend\n",
        "\n",
        "# Menambahkan persentase pada setiap bar\n",
        "for bar in bars.patches:\n",
        "    plt.text(bar.get_width(), bar.get_y() + bar.get_height() / 2,\n",
        "             f'{bar.get_width() / sum(grpAges[\"usia\", \"count\"]) * 100:.2f}%',\n",
        "             va='center')\n",
        "\n",
        "plt.show()"
      ]
    },
    {
      "cell_type": "markdown",
      "metadata": {},
      "source": [
        "Dari hasil visualisasi data pada analisis univarian di atas dapat disimpulkan bahwa pengguna terbanyak yang terdata adalah golongan rentang usia "
      ]
    },
    {
      "cell_type": "markdown",
      "metadata": {},
      "source": [
        "### Pertanyaan 2\n",
        "\n",
        "Pada sesi ini akan menjawab pertanyaan 2, dengan menganalisa nilai-nilai yang ada di kolom **Pendidikan**. Tujuannya yaitu untuk mengetahui banyak porsi presentase setiap jenis pendidikan terakhir."
      ]
    },
    {
      "cell_type": "code",
      "execution_count": null,
      "metadata": {},
      "outputs": [],
      "source": [
        "# Nilai unique kolom pendidikan\n",
        "cleanedTraining.pendidikan.unique()"
      ]
    },
    {
      "cell_type": "code",
      "execution_count": null,
      "metadata": {},
      "outputs": [],
      "source": [
        "count = cleanedTraining['pendidikan'].value_counts()\n",
        "df = pd.DataFrame({\n",
        "    'Jumlah sampel':count, \n",
        "})\n",
        "print(df)\n",
        "\n",
        "# Plotting bar chart vertikal\n",
        "plt.figure(figsize=(13, 6))\n",
        "bars = count.plot(kind='bar', rot=0)\n",
        "plt.xlabel('Pendidikan Terakhir')\n",
        "plt.ylabel('Jumlah Pengguna')\n",
        "plt.title('Jumlah Pengguna berdasarkan Pendidikan Terakhir')\n",
        "plt.legend().remove()  # Menghapus legend\n",
        "\n",
        "# Menambahkan persentase pada setiap bar\n",
        "for bar in bars.patches:\n",
        "    plt.text(bar.get_x() + bar.get_width() / 2, bar.get_height(),\n",
        "             f'{bar.get_height() / sum(count) * 100:.2f}%',\n",
        "             ha='center', va='bottom')\n",
        "\n",
        "plt.show()"
      ]
    },
    {
      "cell_type": "markdown",
      "metadata": {},
      "source": [
        "Dari hasil visualisasi data pada analisis univarian di atas dapat disimpulkan bahwa pengguna mayoritas memiliki pendidikan terakhir **Sarjana**."
      ]
    },
    {
      "cell_type": "markdown",
      "metadata": {},
      "source": [
        "### Pertanyaan 3\n",
        "\n",
        "Pada sesi ini akan dilakukan analisis latar belakang pengguna berdasarkan status pernikahan"
      ]
    },
    {
      "cell_type": "code",
      "execution_count": null,
      "metadata": {},
      "outputs": [],
      "source": [
        "# Nilai unique status pernikahan\n",
        "cleanedTraining.status_pernikahan.unique()"
      ]
    },
    {
      "cell_type": "code",
      "execution_count": null,
      "metadata": {},
      "outputs": [],
      "source": [
        "count = cleanedTraining['status_pernikahan'].value_counts()\n",
        "df = pd.DataFrame({\n",
        "    'Jumlah sampel':count, \n",
        "})\n",
        "print(df)\n",
        "\n",
        "# Plotting bar chart vertikal\n",
        "plt.figure(figsize=(13, 6))\n",
        "bars = count.plot(kind='bar', rot=0)\n",
        "plt.xlabel('Status Pernikahan')\n",
        "plt.ylabel('Jumlah Pengguna')\n",
        "plt.title('Jumlah Pengguna Berdasarkan Status Pernikahan')\n",
        "plt.legend().remove()  # Menghapus legend\n",
        "\n",
        "# Menambahkan persentase pada setiap bar\n",
        "for bar in bars.patches:\n",
        "    plt.text(bar.get_x() + bar.get_width() / 2, bar.get_height(),\n",
        "             f'{bar.get_height() / sum(count) * 100:.2f}%',\n",
        "             ha='center', va='bottom')\n",
        "\n",
        "plt.show()"
      ]
    },
    {
      "cell_type": "markdown",
      "metadata": {},
      "source": [
        "Dari hasil visualisasi data pada analisis univarian di atas dapat disimpulkan bahwa pengguna mayoritas memiliki status pernikahan **Rencana Menikah**, yang berbeda tipis dengan status pernikahan **Menikah**."
      ]
    },
    {
      "cell_type": "markdown",
      "metadata": {},
      "source": [
        "### Pertanyaan 4\n",
        "\n",
        "Pada sesi ini akan dilakukan analisis latar belakang pengguna berdasarkan kepemilikan anak, dengan menganalisis kolom **Jumlah Anak Balita** dan **Jumlah Anak Remaja**"
      ]
    },
    {
      "cell_type": "code",
      "execution_count": null,
      "metadata": {},
      "outputs": [],
      "source": [
        "# Buat Kolom Baru, yaitu memiliki anak\n",
        "for index, row in cleanedTraining.iterrows():\n",
        "    # Kondisi penentuan nilai kepemilikan anak\n",
        "    if row['jumlah_anak_balita'] > 0 or row['jumlah_anak_remaja'] > 0:\n",
        "        cleanedTraining.at[index, 'memiliki_anak'] = 'Memiliki'\n",
        "    else:\n",
        "        cleanedTraining.at[index, 'memiliki_anak'] = 'Tidak Memiliki'"
      ]
    },
    {
      "cell_type": "markdown",
      "metadata": {},
      "source": [
        "Saat ini dataframe utama sudah memiliki kolom kepemilikan anak. Selanjutnya adalah melakukan visualisasi data berdasarkan kolom tersebut."
      ]
    },
    {
      "cell_type": "code",
      "execution_count": null,
      "metadata": {},
      "outputs": [],
      "source": [
        "# Hitung jumlah masing-masing nilai unik dalam kolom 'memiliki_anak'\n",
        "count = cleanedTraining['memiliki_anak'].value_counts()\n",
        "\n",
        "# Plotting pie chart\n",
        "plt.figure(figsize=(8, 6))\n",
        "labels = count.index\n",
        "sizes = count.values\n",
        "plt.pie(sizes, labels=labels, autopct='%1.1f%%', startangle=140)\n",
        "plt.axis('equal')\n",
        "plt.title('Jumlah Pengguna berdasarkan Kepemilikan Anak')\n",
        "plt.show()"
      ]
    },
    {
      "cell_type": "markdown",
      "metadata": {},
      "source": [
        "Terlihat bahwa mayoritas pengguna sudah memiliki anak, Selanjutnya adalah mencari rata-rata banyak anak yang dimiliki oleh pengguna yang memiliki anak."
      ]
    },
    {
      "cell_type": "code",
      "execution_count": null,
      "metadata": {},
      "outputs": [],
      "source": [
        "# Seleksi data yang memiliki anak\n",
        "haveChild = cleanedTraining[cleanedTraining['memiliki_anak'] == 'Memiliki']\n",
        "\n",
        "# Penghitungan rata-rata anak remaja yang dimiliki\n",
        "teenageChild = haveChild['jumlah_anak_remaja'].mean()\n",
        "\n",
        "# Penghitungan rata-rata anak balita yang dimiliki\n",
        "babyChild = haveChild['jumlah_anak_balita'].mean()\n",
        "\n",
        "# Penghitungan rata-rata anak yang dimiliki\n",
        "meanChild = (haveChild['jumlah_anak_balita'] + haveChild['jumlah_anak_remaja']).mean()\n",
        "\n",
        "print('Rata-rata anak remaja yang dimiliki setiap pengguna yang memiliki anak adalah', round(teenageChild), \"anak.\")\n",
        "print('Rata-rata anak balita yang dimiliki setiap pengguna yang memiliki anak adalah', round(babyChild), \"anak.\")\n",
        "print('Rata-rata anak yang dimiliki setiap pengguna yang memiliki anak adalah', round(meanChild), \"anak.\")"
      ]
    },
    {
      "cell_type": "markdown",
      "metadata": {},
      "source": [
        "### Pertanyaan 5\n",
        "\n",
        "Pada sesi ini akan dilakukan analisis pendapatan pengguna berdasarkan segmentasi pendapatan, dengan menganalisis kolom **Pendapatan** dan **Segmentasi Pendapatan**"
      ]
    },
    {
      "cell_type": "code",
      "execution_count": null,
      "metadata": {},
      "outputs": [],
      "source": [
        "# Grouping berdasarkan segmentasi pendapatan\n",
        "grpBySegment = cleanedTraining.groupby('segmentasi_pendapatan')['pendapatan'].mean()\n",
        "\n",
        "# Membulatkan hingga format puluhan juta\n",
        "grpBySegment = round(grpBySegment / 1000000, 1)\n"
      ]
    },
    {
      "cell_type": "markdown",
      "metadata": {},
      "source": [
        "Setelah mendapatkan nilai rata-rata pada setiap segmentasi, berikut adalah hasil visualisasi data beserta nilai aktualnya:"
      ]
    },
    {
      "cell_type": "code",
      "execution_count": null,
      "metadata": {},
      "outputs": [],
      "source": [
        "# Plotting bar chart vertikal\n",
        "plt.figure(figsize=(13, 6))\n",
        "bars = grpBySegment.plot(kind='bar', rot=0)\n",
        "plt.xlabel('Segmentasi Pendapatan')\n",
        "plt.ylabel('Pendapatan (Juta)')\n",
        "plt.title('Pendapatan Rata-rata Berdasarkan Segmentasi Pendapatan')\n",
        "plt.legend().remove()  # Menghapus legend\n",
        "\n",
        "# Menambahkan nilai aktual pada setiap bar\n",
        "for bar, nilai in zip(bars.patches, grpBySegment):\n",
        "    plt.text(bar.get_x() + bar.get_width() / 2, bar.get_height(),\n",
        "             f'{nilai} Juta',\n",
        "             ha='center', va='bottom')\n",
        "\n",
        "plt.show()"
      ]
    },
    {
      "cell_type": "markdown",
      "metadata": {},
      "source": [
        "### Pertanyaan 6\n",
        "\n",
        "Pada sesi ini akan dilakukan proses analisis statistik pembelian pengguna berdasarkan pendapatan. Kolom yang dilakukan analisis yaitu Kolom **Segmentasi Pendapatan**, **Pendapatan**, **Belanja Buah**, **Belanja Daging**, **Belanja Ikan**, dan **Belanja Kue**."
      ]
    },
    {
      "cell_type": "code",
      "execution_count": null,
      "metadata": {},
      "outputs": [],
      "source": [
        "# Mengambil kolom-kolom yang digunakan\n",
        "buyingDf = cleanedTraining[['segmentasi_pendapatan','pendapatan', 'belanja_buah', 'belanja_daging', 'belanja_ikan', 'belanja_kue']]\n",
        "buyingDf.head()"
      ]
    },
    {
      "cell_type": "code",
      "execution_count": null,
      "metadata": {},
      "outputs": [],
      "source": [
        "# Mengambil angka kuartil setiap segmen pendapatan\n",
        "# Grouping berdasarkan segmentasi\n",
        "grpBySegment = buyingDf.groupby('segmentasi_pendapatan')['pendapatan']\n",
        "\n",
        "# Hitung angka kuartil\n",
        "quartiles = grpBySegment.quantile([0.25, 0.5, 1])\n",
        "\n",
        "# Mengubah menjadi dataframe\n",
        "quartilesDf = pd.DataFrame(round(quartiles))\n",
        "\n",
        "quartilesDf"
      ]
    },
    {
      "cell_type": "markdown",
      "metadata": {},
      "source": [
        "Setelah mengetahui nilai di setiap kuartil segmentasi, maka selanjutnya membuat label untuk membuat sub segmentasi pada setiap kuartil yang ada. Hal ini bertujuan untuk mengetahui kebiasaan pengguna dalam berbelanja berdasarkan rentang pendapatannya."
      ]
    },
    {
      "cell_type": "code",
      "execution_count": null,
      "metadata": {},
      "outputs": [],
      "source": [
        "# Membuat sub-segmentasi berdasarkan kuartil per segmentasi pendapatan\n",
        "# Buat dictionary kuartil\n",
        "quartilesDict = {\n",
        "    'Rendah': {'25%': quartilesDf.loc['Rendah', 0.25][0], '50%': quartilesDf.loc['Rendah', 0.50][0], '100%': quartilesDf.loc['Rendah', 1.0][0]},\n",
        "    'Sedang': {'25%': quartilesDf.loc['Sedang', 0.25][0], '50%': quartilesDf.loc['Sedang', 0.50][0], '100%': quartilesDf.loc['Sedang', 1.0][0]},\n",
        "    'Tinggi': {'25%': quartilesDf.loc['Tinggi', 0.25][0], '50%': quartilesDf.loc['Tinggi', 0.50][0], '100%': quartilesDf.loc['Tinggi', 1.0][0]},\n",
        "    'Sangat Tinggi': {'25%': quartilesDf.loc['Sangat Tinggi', 0.25][0], '50%': quartilesDf.loc['Sangat Tinggi', 0.50][0], \n",
        "                      '100%': quartilesDf.loc['Sangat Tinggi', 1.0][0]}\n",
        "}\n",
        "\n",
        "# Buat fungsi transformasi sub-segmentasi\n",
        "def subSegment(row):\n",
        "    if row['pendapatan'] <= quartilesDict[row['segmentasi_pendapatan']]['25%']:\n",
        "        return 'Bawah'\n",
        "    elif row['pendapatan'] > quartilesDict[row['segmentasi_pendapatan']]['25%'] and row['pendapatan'] <= quartilesDict[row['segmentasi_pendapatan']]['50%']:\n",
        "        return 'Menengah'\n",
        "    elif row['pendapatan'] > quartilesDict[row['segmentasi_pendapatan']]['50%'] and row['pendapatan'] <= quartilesDict[row['segmentasi_pendapatan']]['100%']:\n",
        "        return 'Atas'"
      ]
    },
    {
      "cell_type": "code",
      "execution_count": null,
      "metadata": {},
      "outputs": [],
      "source": [
        "# Aplikasikan fungsi ke dataframe\n",
        "buyingDf['sub_segmentasi'] = buyingDf.apply(subSegment, axis=1)\n",
        "buyingDf.head()"
      ]
    },
    {
      "cell_type": "markdown",
      "metadata": {},
      "source": [
        "Setelah membuat sub segmentasi, maka selanjutnya adalah melihat hubungan sub segmentasi dengan belanja yang dilakukan."
      ]
    },
    {
      "cell_type": "code",
      "execution_count": null,
      "metadata": {},
      "outputs": [],
      "source": [
        "# Membuat list kolom belanja\n",
        "kolomBelanja = ['belanja_buah', 'belanja_daging', 'belanja_ikan', 'belanja_kue']\n",
        "\n",
        "# Membuat dictionary untuk menyimpan nilai mean dan std\n",
        "nilai_statistik = {}\n",
        "\n",
        "# Loop untuk setiap segmentasi pendapatan\n",
        "for segmen in buyingDf['segmentasi_pendapatan'].unique():\n",
        "    # Loop untuk setiap sub-segmentasi\n",
        "    for subsegmen in buyingDf['sub_segmentasi'].unique():\n",
        "        # Membuat kunci untuk dictionary\n",
        "        kunci = f\"{segmen}-{subsegmen}\"\n",
        "        \n",
        "        # Membuat kondisi untuk filtering data\n",
        "        kondisi = (buyingDf['segmentasi_pendapatan'] == segmen) & (buyingDf['sub_segmentasi'] == subsegmen)\n",
        "        \n",
        "        # Membuat dictionary untuk menyimpan nilai mean dan std dari setiap kolom belanja\n",
        "        nilai_statistik[kunci] = {}\n",
        "        for kolom in kolomBelanja:\n",
        "            # Menghitung mean dan std\n",
        "            mean = buyingDf[kondisi][kolom].mean()\n",
        "            std = buyingDf[kondisi][kolom].std()\n",
        "            # Menyimpan nilai mean dan std ke dalam dictionary\n",
        "            nilai_statistik[kunci][f\"mean_{kolom}\"] = mean\n",
        "            nilai_statistik[kunci][f\"std_{kolom}\"] = std\n",
        "\n",
        "# Menampilkan nilai statistik\n",
        "# for kunci, nilai in nilai_statistik.items():\n",
        "#     print(f\"Segmentasi: {kunci}\")\n",
        "#     for kolom in kolomBelanja:\n",
        "#         print(f\"  {kolom}:\")\n",
        "#         print(f\"    Mean: {nilai[f'mean_{kolom}']}\")\n",
        "#         print(f\"    Std: {nilai[f'std_{kolom}']}\")\n"
      ]
    },
    {
      "cell_type": "code",
      "execution_count": 157,
      "metadata": {},
      "outputs": [],
      "source": [
        "# Membuat list segmentasi pendapatan dan sub-segmentasi\n",
        "segmentasi_pendapatan = ['Rendah', 'Sedang', 'Tinggi', 'Sangat Tinggi']\n",
        "sub_segmentasi = ['Bawah', 'Menengah', 'Atas']\n",
        "\n",
        "# Buat Fungsi Plot \n",
        "def plotStats(data, colBuying, incomeSegment, subSegment, stats):\n",
        "    # Mengatur lebar bar\n",
        "    bar_width = 0.2\n",
        "\n",
        "    # Membuat posisi untuk setiap segmentasi pendapatan dan sub-segmentasi\n",
        "    index = np.arange(len(incomeSegment))\n",
        "    index_sub = [index - bar_width, index, index + bar_width]\n",
        "\n",
        "    # Membuat bar chart\n",
        "    plt.figure(figsize=(10, 6))\n",
        "\n",
        "    # Loop untuk setiap sub-segmentasi\n",
        "    for i, subsegmen in enumerate(subSegment):\n",
        "        # Membuat bar untuk setiap segmentasi pendapatan\n",
        "        plt.bar(index_sub[i], [data[f'{pendapatan}-{subsegmen}'][f'{stats}_{colBuying}'] for pendapatan in incomeSegment], \n",
        "                bar_width, label=subsegmen)\n",
        "\n",
        "    # Mengatur label pada sumbu x\n",
        "    plt.xticks(index, incomeSegment)\n",
        "\n",
        "    # Mengatur label pada sumbu y\n",
        "    plt.ylabel('Mean')\n",
        "\n",
        "    if stats == 'mean':\n",
        "        statsTitle = 'Rata-Rata'\n",
        "    else:\n",
        "        statsTitle = 'Standar Deviasi'\n",
        "    # Menambahkan judul\n",
        "    plt.title(f'{statsTitle} {colBuying} Berdasarkan Segmentasi Pendapatan dan Sub-Segmentasi')\n",
        "\n",
        "    # Menambahkan legenda\n",
        "    plt.legend()\n",
        "\n",
        "    # Menampilkan plot\n",
        "    plt.show()"
      ]
    },
    {
      "cell_type": "markdown",
      "metadata": {},
      "source": [
        "Setelah mendapatkan setiap nilai statistik yang dibutuhkan yaitu standar deviasi dan rata-rata, untuk mengetahui pola datanya perlu dilakukan visualisasi data. Berikut adalah visualisasinya:"
      ]
    },
    {
      "cell_type": "markdown",
      "metadata": {},
      "source": [
        "1. Kolom Belanja Buah"
      ]
    },
    {
      "cell_type": "code",
      "execution_count": 158,
      "metadata": {},
      "outputs": [
        {
          "data": {
            "image/png": "[encoded data removed]",
            "text/plain": [
              "<Figure size 1000x600 with 1 Axes>"
            ]
          },
          "metadata": {},
          "output_type": "display_data"
        }
      ],
      "source": [
        "# Kolom Belanja Buah (Mean)\n",
        "jenis_kolom_belanja = 'belanja_buah'\n",
        "jenis_statistik = 'mean'\n",
        "# Plot\n",
        "plotStats(nilai_statistik, jenis_kolom_belanja, segmentasi_pendapatan, sub_segmentasi, jenis_statistik)\n"
      ]
    },
    {
      "cell_type": "code",
      "execution_count": 159,
      "metadata": {},
      "outputs": [
        {
          "data": {
            "image/png": "[encoded data removed]",
            "text/plain": [
              "<Figure size 1000x600 with 1 Axes>"
            ]
          },
          "metadata": {},
          "output_type": "display_data"
        }
      ],
      "source": [
        "# Kolom Belanja Buah (Std)\n",
        "jenis_kolom_belanja = 'belanja_buah'\n",
        "jenis_statistik = 'std'\n",
        "# Plot\n",
        "plotStats(nilai_statistik, jenis_kolom_belanja, segmentasi_pendapatan, sub_segmentasi, jenis_statistik)\n"
      ]
    },
    {
      "cell_type": "markdown",
      "metadata": {},
      "source": [
        "2. Kolom Belanja Daging"
      ]
    },
    {
      "cell_type": "code",
      "execution_count": 160,
      "metadata": {},
      "outputs": [
        {
          "data": {
            "image/png": "[encoded data removed]",
            "text/plain": [
              "<Figure size 1000x600 with 1 Axes>"
            ]
          },
          "metadata": {},
          "output_type": "display_data"
        }
      ],
      "source": [
        "# Kolom Belanja Daging (Mean)\n",
        "jenis_kolom_belanja = 'belanja_daging'\n",
        "jenis_statistik = 'mean'\n",
        "# Plot\n",
        "plotStats(nilai_statistik, jenis_kolom_belanja, segmentasi_pendapatan, sub_segmentasi, jenis_statistik)\n"
      ]
    },
    {
      "cell_type": "code",
      "execution_count": 161,
      "metadata": {},
      "outputs": [
        {
          "data": {
            "image/png": "[encoded data removed]",
            "text/plain": [
              "<Figure size 1000x600 with 1 Axes>"
            ]
          },
          "metadata": {},
          "output_type": "display_data"
        }
      ],
      "source": [
        "# Kolom Belanja Daging (Std)\n",
        "jenis_kolom_belanja = 'belanja_daging'\n",
        "jenis_statistik = 'std'\n",
        "# Plot\n",
        "plotStats(nilai_statistik, jenis_kolom_belanja, segmentasi_pendapatan, sub_segmentasi, jenis_statistik)\n"
      ]
    },
    {
      "cell_type": "markdown",
      "metadata": {},
      "source": [
        "3. Kolom Belanja Ikan"
      ]
    },
    {
      "cell_type": "code",
      "execution_count": 162,
      "metadata": {},
      "outputs": [
        {
          "data": {
            "image/png": "[encoded data removed]",
            "text/plain": [
              "<Figure size 1000x600 with 1 Axes>"
            ]
          },
          "metadata": {},
          "output_type": "display_data"
        }
      ],
      "source": [
        "# Kolom Belanja Ikan (Mean)\n",
        "jenis_kolom_belanja = 'belanja_ikan'\n",
        "jenis_statistik = 'mean'\n",
        "# Plot\n",
        "plotStats(nilai_statistik, jenis_kolom_belanja, segmentasi_pendapatan, sub_segmentasi, jenis_statistik)\n"
      ]
    },
    {
      "cell_type": "code",
      "execution_count": 163,
      "metadata": {},
      "outputs": [
        {
          "data": {
            "image/png": "[encoded data removed]",
            "text/plain": [
              "<Figure size 1000x600 with 1 Axes>"
            ]
          },
          "metadata": {},
          "output_type": "display_data"
        }
      ],
      "source": [
        "# Kolom Belanja Ikan (Std)\n",
        "jenis_kolom_belanja = 'belanja_ikan'\n",
        "jenis_statistik = 'std'\n",
        "# Plot\n",
        "plotStats(nilai_statistik, jenis_kolom_belanja, segmentasi_pendapatan, sub_segmentasi, jenis_statistik)\n"
      ]
    },
    {
      "cell_type": "markdown",
      "metadata": {},
      "source": [
        "4. Kolom Belanja Kue"
      ]
    },
    {
      "cell_type": "code",
      "execution_count": 164,
      "metadata": {},
      "outputs": [
        {
          "data": {
            "image/png": "[encoded data removed]",
            "text/plain": [
              "<Figure size 1000x600 with 1 Axes>"
            ]
          },
          "metadata": {},
          "output_type": "display_data"
        }
      ],
      "source": [
        "# Kolom Belanja Kue (Mean)\n",
        "jenis_kolom_belanja = 'belanja_kue'\n",
        "jenis_statistik = 'mean'\n",
        "# Plot\n",
        "plotStats(nilai_statistik, jenis_kolom_belanja, segmentasi_pendapatan, sub_segmentasi, jenis_statistik)\n"
      ]
    },
    {
      "cell_type": "code",
      "execution_count": 165,
      "metadata": {},
      "outputs": [
        {
          "data": {
            "image/png": "[encoded data removed]",
            "text/plain": [
              "<Figure size 1000x600 with 1 Axes>"
            ]
          },
          "metadata": {},
          "output_type": "display_data"
        }
      ],
      "source": [
        "# Kolom Belanja Kue (Std)\n",
        "jenis_kolom_belanja = 'belanja_kue'\n",
        "jenis_statistik = 'std'\n",
        "# Plot\n",
        "plotStats(nilai_statistik, jenis_kolom_belanja, segmentasi_pendapatan, sub_segmentasi, jenis_statistik)\n"
      ]
    }
  ],
  "metadata": {
    "colab": {
      "provenance": []
    },
    "kernelspec": {
      "display_name": "Python 3",
      "name": "python3"
    },
    "language_info": {
      "codemirror_mode": {
        "name": "ipython",
        "version": 3
      },
      "file_extension": ".py",
      "mimetype": "text/x-python",
      "name": "python",
      "nbconvert_exporter": "python",
      "pygments_lexer": "ipython3",
      "version": "3.11.5"
    }
  },
  "nbformat": 4,
  "nbformat_minor": 0
}
