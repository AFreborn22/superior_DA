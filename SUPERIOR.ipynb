{
  "cells": [
    {
      "cell_type": "code",
      "execution_count": 106,
      "metadata": {
        "id": "2D7mxTB1mgCA"
      },
      "outputs": [],
      "source": [
        "import pandas as pd\n",
        "import numpy as np\n",
        "import  matplotlib.pyplot as plt\n",
        "import seaborn as sns\n",
        "from scipy import interpolate\n",
        "\n",
        "from scipy.interpolate import interp1d\n",
        "from numpy.polynomial.polynomial import Polynomial\n",
        "from sklearn.ensemble import RandomForestRegressor"
      ]
    },
    {
      "cell_type": "code",
      "execution_count": 107,
      "metadata": {
        "id": "bEo06P7Sm8sH"
      },
      "outputs": [],
      "source": [
        "trainFeatures = pd.read_csv('data/train_features.csv')\n",
        "testFeatures = pd.read_csv('data/test_features.csv')\n",
        "trainLabels = pd.read_csv('data/train_labels.csv')\n",
        "example = pd.read_csv('data/submission_format.csv')"
      ]
    },
    {
      "cell_type": "code",
      "execution_count": 108,
      "metadata": {
        "colab": {
          "base_uri": "https://localhost:8080/",
          "height": 226
        },
        "id": "mMKQlPZyoteI",
        "outputId": "b6cca7e9-3b28-48e3-8a91-9c112fedd5b6"
      },
      "outputs": [
        {
          "data": {
            "text/html": [
              "<div>\n",
              "<style scoped>\n",
              "    .dataframe tbody tr th:only-of-type {\n",
              "        vertical-align: middle;\n",
              "    }\n",
              "\n",
              "    .dataframe tbody tr th {\n",
              "        vertical-align: top;\n",
              "    }\n",
              "\n",
              "    .dataframe thead th {\n",
              "        text-align: right;\n",
              "    }\n",
              "</style>\n",
              "<table border=\"1\" class=\"dataframe\">\n",
              "  <thead>\n",
              "    <tr style=\"text-align: right;\">\n",
              "      <th></th>\n",
              "      <th>tahun_kelahiran</th>\n",
              "      <th>pendidikan</th>\n",
              "      <th>status_pernikahan</th>\n",
              "      <th>pendapatan</th>\n",
              "      <th>jumlah_anak_balita</th>\n",
              "      <th>jumlah_anak_remaja</th>\n",
              "      <th>terakhir_belanja</th>\n",
              "      <th>belanja_buah</th>\n",
              "      <th>belanja_daging</th>\n",
              "      <th>belanja_ikan</th>\n",
              "      <th>belanja_kue</th>\n",
              "      <th>pembelian_diskon</th>\n",
              "      <th>pembelian_web</th>\n",
              "      <th>pembelian_toko</th>\n",
              "      <th>keluhan</th>\n",
              "      <th>tanggal_menjadi_anggota</th>\n",
              "    </tr>\n",
              "  </thead>\n",
              "  <tbody>\n",
              "    <tr>\n",
              "      <th>0</th>\n",
              "      <td>1979</td>\n",
              "      <td>Sarjana</td>\n",
              "      <td>Rencana Menikah</td>\n",
              "      <td>NaN</td>\n",
              "      <td>0.0</td>\n",
              "      <td>1.0</td>\n",
              "      <td>NaN</td>\n",
              "      <td>50575.0</td>\n",
              "      <td>260967.0</td>\n",
              "      <td>50575.0</td>\n",
              "      <td>20230.0</td>\n",
              "      <td>2.0</td>\n",
              "      <td>2.0</td>\n",
              "      <td>5.0</td>\n",
              "      <td>0.0</td>\n",
              "      <td>2014-05-05</td>\n",
              "    </tr>\n",
              "    <tr>\n",
              "      <th>1</th>\n",
              "      <td>1950</td>\n",
              "      <td>Sarjana</td>\n",
              "      <td>Rencana Menikah</td>\n",
              "      <td>84063000.0</td>\n",
              "      <td>NaN</td>\n",
              "      <td>NaN</td>\n",
              "      <td>70.0</td>\n",
              "      <td>6069.0</td>\n",
              "      <td>44506.0</td>\n",
              "      <td>80920.0</td>\n",
              "      <td>20230.0</td>\n",
              "      <td>9.0</td>\n",
              "      <td>6.0</td>\n",
              "      <td>4.0</td>\n",
              "      <td>0.0</td>\n",
              "      <td>2013-03-17</td>\n",
              "    </tr>\n",
              "    <tr>\n",
              "      <th>2</th>\n",
              "      <td>1966</td>\n",
              "      <td>Sarjana</td>\n",
              "      <td>Menikah</td>\n",
              "      <td>127532564.0</td>\n",
              "      <td>0.0</td>\n",
              "      <td>0.0</td>\n",
              "      <td>45.0</td>\n",
              "      <td>117611.0</td>\n",
              "      <td>265460.0</td>\n",
              "      <td>96341.0</td>\n",
              "      <td>145573.0</td>\n",
              "      <td>1.0</td>\n",
              "      <td>1.0</td>\n",
              "      <td>7.0</td>\n",
              "      <td>0.0</td>\n",
              "      <td>NaN</td>\n",
              "    </tr>\n",
              "    <tr>\n",
              "      <th>3</th>\n",
              "      <td>1961</td>\n",
              "      <td>Magister</td>\n",
              "      <td>Rencana Menikah</td>\n",
              "      <td>165579620.0</td>\n",
              "      <td>0.0</td>\n",
              "      <td>0.0</td>\n",
              "      <td>90.0</td>\n",
              "      <td>206346.0</td>\n",
              "      <td>1613901.0</td>\n",
              "      <td>27725.0</td>\n",
              "      <td>125868.0</td>\n",
              "      <td>0.0</td>\n",
              "      <td>7.0</td>\n",
              "      <td>8.0</td>\n",
              "      <td>0.0</td>\n",
              "      <td>NaN</td>\n",
              "    </tr>\n",
              "    <tr>\n",
              "      <th>4</th>\n",
              "      <td>1970</td>\n",
              "      <td>Sarjana</td>\n",
              "      <td>Rencana Menikah</td>\n",
              "      <td>117703159.0</td>\n",
              "      <td>1.0</td>\n",
              "      <td>1.0</td>\n",
              "      <td>78.0</td>\n",
              "      <td>90563.0</td>\n",
              "      <td>311757.0</td>\n",
              "      <td>40358.0</td>\n",
              "      <td>33875.0</td>\n",
              "      <td>7.0</td>\n",
              "      <td>6.0</td>\n",
              "      <td>5.0</td>\n",
              "      <td>0.0</td>\n",
              "      <td>NaN</td>\n",
              "    </tr>\n",
              "  </tbody>\n",
              "</table>\n",
              "</div>"
            ],
            "text/plain": [
              "   tahun_kelahiran pendidikan status_pernikahan   pendapatan  \\\n",
              "0             1979    Sarjana   Rencana Menikah          NaN   \n",
              "1             1950    Sarjana   Rencana Menikah   84063000.0   \n",
              "2             1966    Sarjana           Menikah  127532564.0   \n",
              "3             1961   Magister   Rencana Menikah  165579620.0   \n",
              "4             1970    Sarjana   Rencana Menikah  117703159.0   \n",
              "\n",
              "   jumlah_anak_balita  jumlah_anak_remaja  terakhir_belanja  belanja_buah  \\\n",
              "0                 0.0                 1.0               NaN       50575.0   \n",
              "1                 NaN                 NaN              70.0        6069.0   \n",
              "2                 0.0                 0.0              45.0      117611.0   \n",
              "3                 0.0                 0.0              90.0      206346.0   \n",
              "4                 1.0                 1.0              78.0       90563.0   \n",
              "\n",
              "   belanja_daging  belanja_ikan  belanja_kue  pembelian_diskon  pembelian_web  \\\n",
              "0        260967.0       50575.0      20230.0               2.0            2.0   \n",
              "1         44506.0       80920.0      20230.0               9.0            6.0   \n",
              "2        265460.0       96341.0     145573.0               1.0            1.0   \n",
              "3       1613901.0       27725.0     125868.0               0.0            7.0   \n",
              "4        311757.0       40358.0      33875.0               7.0            6.0   \n",
              "\n",
              "   pembelian_toko  keluhan tanggal_menjadi_anggota  \n",
              "0             5.0      0.0              2014-05-05  \n",
              "1             4.0      0.0              2013-03-17  \n",
              "2             7.0      0.0                     NaN  \n",
              "3             8.0      0.0                     NaN  \n",
              "4             5.0      0.0                     NaN  "
            ]
          },
          "execution_count": 108,
          "metadata": {},
          "output_type": "execute_result"
        }
      ],
      "source": [
        "trainFeatures.head()"
      ]
    },
    {
      "cell_type": "code",
      "execution_count": 109,
      "metadata": {
        "colab": {
          "base_uri": "https://localhost:8080/"
        },
        "id": "PX_jsOen7hko",
        "outputId": "199b9b47-e232-41ea-922f-c99ab04c3f17"
      },
      "outputs": [
        {
          "data": {
            "text/plain": [
              "(3817, 16)"
            ]
          },
          "execution_count": 109,
          "metadata": {},
          "output_type": "execute_result"
        }
      ],
      "source": [
        "trainFeatures.shape"
      ]
    },
    {
      "cell_type": "code",
      "execution_count": 110,
      "metadata": {
        "colab": {
          "base_uri": "https://localhost:8080/",
          "height": 226
        },
        "id": "av96Aqkgos7F",
        "outputId": "03050a5a-5de7-42fc-df79-cc00bb630477"
      },
      "outputs": [
        {
          "data": {
            "text/html": [
              "<div>\n",
              "<style scoped>\n",
              "    .dataframe tbody tr th:only-of-type {\n",
              "        vertical-align: middle;\n",
              "    }\n",
              "\n",
              "    .dataframe tbody tr th {\n",
              "        vertical-align: top;\n",
              "    }\n",
              "\n",
              "    .dataframe thead th {\n",
              "        text-align: right;\n",
              "    }\n",
              "</style>\n",
              "<table border=\"1\" class=\"dataframe\">\n",
              "  <thead>\n",
              "    <tr style=\"text-align: right;\">\n",
              "      <th></th>\n",
              "      <th>ID</th>\n",
              "      <th>tahun_kelahiran</th>\n",
              "      <th>pendidikan</th>\n",
              "      <th>status_pernikahan</th>\n",
              "      <th>pendapatan</th>\n",
              "      <th>jumlah_anak_balita</th>\n",
              "      <th>jumlah_anak_remaja</th>\n",
              "      <th>terakhir_belanja</th>\n",
              "      <th>belanja_buah</th>\n",
              "      <th>belanja_daging</th>\n",
              "      <th>belanja_ikan</th>\n",
              "      <th>belanja_kue</th>\n",
              "      <th>pembelian_diskon</th>\n",
              "      <th>pembelian_web</th>\n",
              "      <th>pembelian_toko</th>\n",
              "      <th>keluhan</th>\n",
              "      <th>tanggal_menjadi_anggota</th>\n",
              "    </tr>\n",
              "  </thead>\n",
              "  <tbody>\n",
              "    <tr>\n",
              "      <th>0</th>\n",
              "      <td>2241</td>\n",
              "      <td>1957</td>\n",
              "      <td>Sarjana</td>\n",
              "      <td>NaN</td>\n",
              "      <td>120660151.0</td>\n",
              "      <td>0.0</td>\n",
              "      <td>1.0</td>\n",
              "      <td>63.0</td>\n",
              "      <td>122277.0</td>\n",
              "      <td>541399.0</td>\n",
              "      <td>214192.0</td>\n",
              "      <td>84305.0</td>\n",
              "      <td>4.0</td>\n",
              "      <td>6.0</td>\n",
              "      <td>10.0</td>\n",
              "      <td>0.0</td>\n",
              "      <td>NaN</td>\n",
              "    </tr>\n",
              "    <tr>\n",
              "      <th>1</th>\n",
              "      <td>2274</td>\n",
              "      <td>1968</td>\n",
              "      <td>Doktor</td>\n",
              "      <td>Menikah</td>\n",
              "      <td>163551821.0</td>\n",
              "      <td>0.0</td>\n",
              "      <td>1.0</td>\n",
              "      <td>58.0</td>\n",
              "      <td>35761.0</td>\n",
              "      <td>353335.0</td>\n",
              "      <td>63365.0</td>\n",
              "      <td>41112.0</td>\n",
              "      <td>2.0</td>\n",
              "      <td>5.0</td>\n",
              "      <td>10.0</td>\n",
              "      <td>0.0</td>\n",
              "      <td>NaN</td>\n",
              "    </tr>\n",
              "    <tr>\n",
              "      <th>2</th>\n",
              "      <td>1107</td>\n",
              "      <td>1968</td>\n",
              "      <td>SMA</td>\n",
              "      <td>Menikah</td>\n",
              "      <td>29857000.0</td>\n",
              "      <td>0.0</td>\n",
              "      <td>0.0</td>\n",
              "      <td>34.0</td>\n",
              "      <td>8092.0</td>\n",
              "      <td>22253.0</td>\n",
              "      <td>30345.0</td>\n",
              "      <td>26299.0</td>\n",
              "      <td>2.0</td>\n",
              "      <td>0.0</td>\n",
              "      <td>5.0</td>\n",
              "      <td>0.0</td>\n",
              "      <td>2013-08-06</td>\n",
              "    </tr>\n",
              "    <tr>\n",
              "      <th>3</th>\n",
              "      <td>4478</td>\n",
              "      <td>1971</td>\n",
              "      <td>Doktor</td>\n",
              "      <td>Menikah</td>\n",
              "      <td>117949098.0</td>\n",
              "      <td>0.0</td>\n",
              "      <td>1.0</td>\n",
              "      <td>82.0</td>\n",
              "      <td>4872.0</td>\n",
              "      <td>126061.0</td>\n",
              "      <td>0.0</td>\n",
              "      <td>9745.0</td>\n",
              "      <td>3.0</td>\n",
              "      <td>5.0</td>\n",
              "      <td>7.0</td>\n",
              "      <td>0.0</td>\n",
              "      <td>NaN</td>\n",
              "    </tr>\n",
              "    <tr>\n",
              "      <th>4</th>\n",
              "      <td>5080</td>\n",
              "      <td>1974</td>\n",
              "      <td>Sarjana</td>\n",
              "      <td>Rencana Menikah</td>\n",
              "      <td>164761134.0</td>\n",
              "      <td>0.0</td>\n",
              "      <td>0.0</td>\n",
              "      <td>28.0</td>\n",
              "      <td>343208.0</td>\n",
              "      <td>1416462.0</td>\n",
              "      <td>236196.0</td>\n",
              "      <td>107776.0</td>\n",
              "      <td>0.0</td>\n",
              "      <td>1.0</td>\n",
              "      <td>8.0</td>\n",
              "      <td>0.0</td>\n",
              "      <td>NaN</td>\n",
              "    </tr>\n",
              "  </tbody>\n",
              "</table>\n",
              "</div>"
            ],
            "text/plain": [
              "     ID  tahun_kelahiran pendidikan status_pernikahan   pendapatan  \\\n",
              "0  2241             1957    Sarjana               NaN  120660151.0   \n",
              "1  2274             1968     Doktor           Menikah  163551821.0   \n",
              "2  1107             1968        SMA           Menikah   29857000.0   \n",
              "3  4478             1971     Doktor           Menikah  117949098.0   \n",
              "4  5080             1974    Sarjana   Rencana Menikah  164761134.0   \n",
              "\n",
              "   jumlah_anak_balita  jumlah_anak_remaja  terakhir_belanja  belanja_buah  \\\n",
              "0                 0.0                 1.0              63.0      122277.0   \n",
              "1                 0.0                 1.0              58.0       35761.0   \n",
              "2                 0.0                 0.0              34.0        8092.0   \n",
              "3                 0.0                 1.0              82.0        4872.0   \n",
              "4                 0.0                 0.0              28.0      343208.0   \n",
              "\n",
              "   belanja_daging  belanja_ikan  belanja_kue  pembelian_diskon  pembelian_web  \\\n",
              "0        541399.0      214192.0      84305.0               4.0            6.0   \n",
              "1        353335.0       63365.0      41112.0               2.0            5.0   \n",
              "2         22253.0       30345.0      26299.0               2.0            0.0   \n",
              "3        126061.0           0.0       9745.0               3.0            5.0   \n",
              "4       1416462.0      236196.0     107776.0               0.0            1.0   \n",
              "\n",
              "   pembelian_toko  keluhan tanggal_menjadi_anggota  \n",
              "0            10.0      0.0                     NaN  \n",
              "1            10.0      0.0                     NaN  \n",
              "2             5.0      0.0              2013-08-06  \n",
              "3             7.0      0.0                     NaN  \n",
              "4             8.0      0.0                     NaN  "
            ]
          },
          "execution_count": 110,
          "metadata": {},
          "output_type": "execute_result"
        }
      ],
      "source": [
        "testFeatures.head()"
      ]
    },
    {
      "cell_type": "code",
      "execution_count": 111,
      "metadata": {
        "colab": {
          "base_uri": "https://localhost:8080/",
          "height": 206
        },
        "id": "pWRc1BDlpUHx",
        "outputId": "1c2478c6-7b7d-498d-d22e-3d2cf904f341"
      },
      "outputs": [
        {
          "data": {
            "text/html": [
              "<div>\n",
              "<style scoped>\n",
              "    .dataframe tbody tr th:only-of-type {\n",
              "        vertical-align: middle;\n",
              "    }\n",
              "\n",
              "    .dataframe tbody tr th {\n",
              "        vertical-align: top;\n",
              "    }\n",
              "\n",
              "    .dataframe thead th {\n",
              "        text-align: right;\n",
              "    }\n",
              "</style>\n",
              "<table border=\"1\" class=\"dataframe\">\n",
              "  <thead>\n",
              "    <tr style=\"text-align: right;\">\n",
              "      <th></th>\n",
              "      <th>ID</th>\n",
              "      <th>jumlah_promosi</th>\n",
              "    </tr>\n",
              "  </thead>\n",
              "  <tbody>\n",
              "    <tr>\n",
              "      <th>0</th>\n",
              "      <td>2241</td>\n",
              "      <td>6</td>\n",
              "    </tr>\n",
              "    <tr>\n",
              "      <th>1</th>\n",
              "      <td>2274</td>\n",
              "      <td>6</td>\n",
              "    </tr>\n",
              "    <tr>\n",
              "      <th>2</th>\n",
              "      <td>1107</td>\n",
              "      <td>6</td>\n",
              "    </tr>\n",
              "    <tr>\n",
              "      <th>3</th>\n",
              "      <td>4478</td>\n",
              "      <td>6</td>\n",
              "    </tr>\n",
              "    <tr>\n",
              "      <th>4</th>\n",
              "      <td>5080</td>\n",
              "      <td>6</td>\n",
              "    </tr>\n",
              "  </tbody>\n",
              "</table>\n",
              "</div>"
            ],
            "text/plain": [
              "     ID  jumlah_promosi\n",
              "0  2241               6\n",
              "1  2274               6\n",
              "2  1107               6\n",
              "3  4478               6\n",
              "4  5080               6"
            ]
          },
          "execution_count": 111,
          "metadata": {},
          "output_type": "execute_result"
        }
      ],
      "source": [
        "example.head()"
      ]
    },
    {
      "cell_type": "markdown",
      "metadata": {
        "id": "dkK_vAFruPiE"
      },
      "source": [
        "# Data Assessing"
      ]
    },
    {
      "cell_type": "markdown",
      "metadata": {
        "id": "Psp6W-2Lu32X"
      },
      "source": [
        "## Informasi Umum Dataset Train Features"
      ]
    },
    {
      "cell_type": "code",
      "execution_count": 112,
      "metadata": {
        "colab": {
          "base_uri": "https://localhost:8080/"
        },
        "id": "feTYV5VzM03a",
        "outputId": "6d39a225-aad1-47a6-c7a7-1803774902c2"
      },
      "outputs": [
        {
          "name": "stdout",
          "output_type": "stream",
          "text": [
            "<class 'pandas.core.frame.DataFrame'>\n",
            "RangeIndex: 3817 entries, 0 to 3816\n",
            "Data columns (total 16 columns):\n",
            " #   Column                   Non-Null Count  Dtype  \n",
            "---  ------                   --------------  -----  \n",
            " 0   tahun_kelahiran          3817 non-null   int64  \n",
            " 1   pendidikan               3628 non-null   object \n",
            " 2   status_pernikahan        3605 non-null   object \n",
            " 3   pendapatan               3627 non-null   float64\n",
            " 4   jumlah_anak_balita       3627 non-null   float64\n",
            " 5   jumlah_anak_remaja       3613 non-null   float64\n",
            " 6   terakhir_belanja         3645 non-null   float64\n",
            " 7   belanja_buah             3636 non-null   float64\n",
            " 8   belanja_daging           3639 non-null   float64\n",
            " 9   belanja_ikan             3624 non-null   float64\n",
            " 10  belanja_kue              3603 non-null   float64\n",
            " 11  pembelian_diskon         3639 non-null   float64\n",
            " 12  pembelian_web            3652 non-null   float64\n",
            " 13  pembelian_toko           3648 non-null   float64\n",
            " 14  keluhan                  3621 non-null   float64\n",
            " 15  tanggal_menjadi_anggota  1065 non-null   object \n",
            "dtypes: float64(12), int64(1), object(3)\n",
            "memory usage: 477.3+ KB\n"
          ]
        }
      ],
      "source": [
        "trainFeatures.info()"
      ]
    },
    {
      "cell_type": "code",
      "execution_count": 113,
      "metadata": {
        "colab": {
          "base_uri": "https://localhost:8080/",
          "height": 320
        },
        "id": "z4DIuVNpdXo6",
        "outputId": "5f27646e-851a-4fde-85d7-6ffd77f9417a"
      },
      "outputs": [
        {
          "data": {
            "text/html": [
              "<div>\n",
              "<style scoped>\n",
              "    .dataframe tbody tr th:only-of-type {\n",
              "        vertical-align: middle;\n",
              "    }\n",
              "\n",
              "    .dataframe tbody tr th {\n",
              "        vertical-align: top;\n",
              "    }\n",
              "\n",
              "    .dataframe thead th {\n",
              "        text-align: right;\n",
              "    }\n",
              "</style>\n",
              "<table border=\"1\" class=\"dataframe\">\n",
              "  <thead>\n",
              "    <tr style=\"text-align: right;\">\n",
              "      <th></th>\n",
              "      <th>tahun_kelahiran</th>\n",
              "      <th>pendapatan</th>\n",
              "      <th>jumlah_anak_balita</th>\n",
              "      <th>jumlah_anak_remaja</th>\n",
              "      <th>terakhir_belanja</th>\n",
              "      <th>belanja_buah</th>\n",
              "      <th>belanja_daging</th>\n",
              "      <th>belanja_ikan</th>\n",
              "      <th>belanja_kue</th>\n",
              "      <th>pembelian_diskon</th>\n",
              "      <th>pembelian_web</th>\n",
              "      <th>pembelian_toko</th>\n",
              "      <th>keluhan</th>\n",
              "    </tr>\n",
              "  </thead>\n",
              "  <tbody>\n",
              "    <tr>\n",
              "      <th>count</th>\n",
              "      <td>3817.000000</td>\n",
              "      <td>3.627000e+03</td>\n",
              "      <td>3627.000000</td>\n",
              "      <td>3613.000000</td>\n",
              "      <td>3645.000000</td>\n",
              "      <td>3636.000000</td>\n",
              "      <td>3.639000e+03</td>\n",
              "      <td>3624.000000</td>\n",
              "      <td>3603.000000</td>\n",
              "      <td>3639.000000</td>\n",
              "      <td>3652.000000</td>\n",
              "      <td>3648.000000</td>\n",
              "      <td>3621.000000</td>\n",
              "    </tr>\n",
              "    <tr>\n",
              "      <th>mean</th>\n",
              "      <td>1967.823946</td>\n",
              "      <td>1.144832e+08</td>\n",
              "      <td>0.293080</td>\n",
              "      <td>0.353723</td>\n",
              "      <td>47.231550</td>\n",
              "      <td>59804.239824</td>\n",
              "      <td>4.385748e+05</td>\n",
              "      <td>81428.997792</td>\n",
              "      <td>63377.970580</td>\n",
              "      <td>2.125584</td>\n",
              "      <td>4.436473</td>\n",
              "      <td>5.767818</td>\n",
              "      <td>0.004971</td>\n",
              "    </tr>\n",
              "    <tr>\n",
              "      <th>std</th>\n",
              "      <td>11.768131</td>\n",
              "      <td>4.346042e+07</td>\n",
              "      <td>0.473063</td>\n",
              "      <td>0.493014</td>\n",
              "      <td>27.068512</td>\n",
              "      <td>74024.976109</td>\n",
              "      <td>5.120427e+05</td>\n",
              "      <td>99976.226855</td>\n",
              "      <td>79435.457282</td>\n",
              "      <td>2.100133</td>\n",
              "      <td>3.002522</td>\n",
              "      <td>3.210738</td>\n",
              "      <td>0.070340</td>\n",
              "    </tr>\n",
              "    <tr>\n",
              "      <th>min</th>\n",
              "      <td>1899.000000</td>\n",
              "      <td>5.073000e+06</td>\n",
              "      <td>0.000000</td>\n",
              "      <td>0.000000</td>\n",
              "      <td>0.000000</td>\n",
              "      <td>0.000000</td>\n",
              "      <td>0.000000e+00</td>\n",
              "      <td>0.000000</td>\n",
              "      <td>0.000000</td>\n",
              "      <td>0.000000</td>\n",
              "      <td>0.000000</td>\n",
              "      <td>0.000000</td>\n",
              "      <td>0.000000</td>\n",
              "    </tr>\n",
              "    <tr>\n",
              "      <th>25%</th>\n",
              "      <td>1959.000000</td>\n",
              "      <td>8.112512e+07</td>\n",
              "      <td>0.000000</td>\n",
              "      <td>0.000000</td>\n",
              "      <td>25.000000</td>\n",
              "      <td>7907.000000</td>\n",
              "      <td>4.947950e+04</td>\n",
              "      <td>10115.000000</td>\n",
              "      <td>7947.000000</td>\n",
              "      <td>0.000000</td>\n",
              "      <td>2.000000</td>\n",
              "      <td>3.000000</td>\n",
              "      <td>0.000000</td>\n",
              "    </tr>\n",
              "    <tr>\n",
              "      <th>50%</th>\n",
              "      <td>1968.000000</td>\n",
              "      <td>1.156214e+08</td>\n",
              "      <td>0.000000</td>\n",
              "      <td>0.000000</td>\n",
              "      <td>47.000000</td>\n",
              "      <td>26456.000000</td>\n",
              "      <td>2.219930e+05</td>\n",
              "      <td>36054.500000</td>\n",
              "      <td>27795.000000</td>\n",
              "      <td>2.000000</td>\n",
              "      <td>4.000000</td>\n",
              "      <td>5.000000</td>\n",
              "      <td>0.000000</td>\n",
              "    </tr>\n",
              "    <tr>\n",
              "      <th>75%</th>\n",
              "      <td>1976.000000</td>\n",
              "      <td>1.504960e+08</td>\n",
              "      <td>1.000000</td>\n",
              "      <td>1.000000</td>\n",
              "      <td>69.000000</td>\n",
              "      <td>86162.000000</td>\n",
              "      <td>6.863555e+05</td>\n",
              "      <td>121380.000000</td>\n",
              "      <td>89502.500000</td>\n",
              "      <td>3.000000</td>\n",
              "      <td>7.000000</td>\n",
              "      <td>8.000000</td>\n",
              "      <td>0.000000</td>\n",
              "    </tr>\n",
              "    <tr>\n",
              "      <th>max</th>\n",
              "      <td>2000.000000</td>\n",
              "      <td>3.328840e+08</td>\n",
              "      <td>2.000000</td>\n",
              "      <td>2.000000</td>\n",
              "      <td>128.000000</td>\n",
              "      <td>396508.000000</td>\n",
              "      <td>3.489675e+06</td>\n",
              "      <td>621600.000000</td>\n",
              "      <td>542164.000000</td>\n",
              "      <td>20.000000</td>\n",
              "      <td>30.000000</td>\n",
              "      <td>17.000000</td>\n",
              "      <td>1.000000</td>\n",
              "    </tr>\n",
              "  </tbody>\n",
              "</table>\n",
              "</div>"
            ],
            "text/plain": [
              "       tahun_kelahiran    pendapatan  jumlah_anak_balita  jumlah_anak_remaja  \\\n",
              "count      3817.000000  3.627000e+03         3627.000000         3613.000000   \n",
              "mean       1967.823946  1.144832e+08            0.293080            0.353723   \n",
              "std          11.768131  4.346042e+07            0.473063            0.493014   \n",
              "min        1899.000000  5.073000e+06            0.000000            0.000000   \n",
              "25%        1959.000000  8.112512e+07            0.000000            0.000000   \n",
              "50%        1968.000000  1.156214e+08            0.000000            0.000000   \n",
              "75%        1976.000000  1.504960e+08            1.000000            1.000000   \n",
              "max        2000.000000  3.328840e+08            2.000000            2.000000   \n",
              "\n",
              "       terakhir_belanja   belanja_buah  belanja_daging   belanja_ikan  \\\n",
              "count       3645.000000    3636.000000    3.639000e+03    3624.000000   \n",
              "mean          47.231550   59804.239824    4.385748e+05   81428.997792   \n",
              "std           27.068512   74024.976109    5.120427e+05   99976.226855   \n",
              "min            0.000000       0.000000    0.000000e+00       0.000000   \n",
              "25%           25.000000    7907.000000    4.947950e+04   10115.000000   \n",
              "50%           47.000000   26456.000000    2.219930e+05   36054.500000   \n",
              "75%           69.000000   86162.000000    6.863555e+05  121380.000000   \n",
              "max          128.000000  396508.000000    3.489675e+06  621600.000000   \n",
              "\n",
              "         belanja_kue  pembelian_diskon  pembelian_web  pembelian_toko  \\\n",
              "count    3603.000000       3639.000000    3652.000000     3648.000000   \n",
              "mean    63377.970580          2.125584       4.436473        5.767818   \n",
              "std     79435.457282          2.100133       3.002522        3.210738   \n",
              "min         0.000000          0.000000       0.000000        0.000000   \n",
              "25%      7947.000000          0.000000       2.000000        3.000000   \n",
              "50%     27795.000000          2.000000       4.000000        5.000000   \n",
              "75%     89502.500000          3.000000       7.000000        8.000000   \n",
              "max    542164.000000         20.000000      30.000000       17.000000   \n",
              "\n",
              "           keluhan  \n",
              "count  3621.000000  \n",
              "mean      0.004971  \n",
              "std       0.070340  \n",
              "min       0.000000  \n",
              "25%       0.000000  \n",
              "50%       0.000000  \n",
              "75%       0.000000  \n",
              "max       1.000000  "
            ]
          },
          "execution_count": 113,
          "metadata": {},
          "output_type": "execute_result"
        }
      ],
      "source": [
        "trainFeatures.describe()"
      ]
    },
    {
      "cell_type": "markdown",
      "metadata": {
        "id": "1piJJr4eu8-R"
      },
      "source": [
        "## Cek Nilai Null Dataset Train Features"
      ]
    },
    {
      "cell_type": "code",
      "execution_count": 114,
      "metadata": {
        "colab": {
          "base_uri": "https://localhost:8080/"
        },
        "id": "L_9QDPvxddmr",
        "outputId": "7cc888d5-91b6-4bda-d3af-954e6ba86045"
      },
      "outputs": [
        {
          "data": {
            "text/plain": [
              "tahun_kelahiran               0\n",
              "pendidikan                  189\n",
              "status_pernikahan           212\n",
              "pendapatan                  190\n",
              "jumlah_anak_balita          190\n",
              "jumlah_anak_remaja          204\n",
              "terakhir_belanja            172\n",
              "belanja_buah                181\n",
              "belanja_daging              178\n",
              "belanja_ikan                193\n",
              "belanja_kue                 214\n",
              "pembelian_diskon            178\n",
              "pembelian_web               165\n",
              "pembelian_toko              169\n",
              "keluhan                     196\n",
              "tanggal_menjadi_anggota    2752\n",
              "dtype: int64"
            ]
          },
          "execution_count": 114,
          "metadata": {},
          "output_type": "execute_result"
        }
      ],
      "source": [
        "trainFeatures.isnull().sum()"
      ]
    },
    {
      "cell_type": "markdown",
      "metadata": {
        "id": "Jq1rp2vrvFDp"
      },
      "source": [
        "## Cek Nilai Duplikat Dataset Train Features"
      ]
    },
    {
      "cell_type": "code",
      "execution_count": 115,
      "metadata": {
        "colab": {
          "base_uri": "https://localhost:8080/"
        },
        "id": "1n3lMmbAvRL-",
        "outputId": "43dd9afb-28a7-425e-f999-50cba6336a88"
      },
      "outputs": [
        {
          "data": {
            "text/plain": [
              "0"
            ]
          },
          "execution_count": 115,
          "metadata": {},
          "output_type": "execute_result"
        }
      ],
      "source": [
        "trainFeatures.duplicated().sum()"
      ]
    },
    {
      "cell_type": "markdown",
      "metadata": {
        "id": "74ciVYpkv2Q3"
      },
      "source": [
        "# Data Cleaning"
      ]
    },
    {
      "cell_type": "markdown",
      "metadata": {
        "id": "iUo5NxV4v7XB"
      },
      "source": [
        "## Kolom Pendidikan"
      ]
    },
    {
      "cell_type": "code",
      "execution_count": 117,
      "metadata": {
        "colab": {
          "base_uri": "https://localhost:8080/"
        },
        "id": "L5Ii6sBSivmn",
        "outputId": "b35a14fc-6a7f-4cba-bf17-6be74d29c478"
      },
      "outputs": [
        {
          "data": {
            "text/plain": [
              "array(['Sarjana', 'Magister', 'SMA', 'SMP', 'Doktor', nan, '5'],\n",
              "      dtype=object)"
            ]
          },
          "execution_count": 117,
          "metadata": {},
          "output_type": "execute_result"
        }
      ],
      "source": [
        "# Cek Nilai Unique\n",
        "trainFeatures['pendidikan'].unique()"
      ]
    },
    {
      "cell_type": "markdown",
      "metadata": {
        "id": "fR7L7DXOwZgX"
      },
      "source": [
        "Terdapat dua nilai salah yaitu nan dan '5'. Maka perlu dibersihkan pada dua nilai tersebut."
      ]
    },
    {
      "cell_type": "markdown",
      "metadata": {
        "id": "fETtVqmz9HRq"
      },
      "source": [
        "### Olah Data dengan Nilai Unique '5'"
      ]
    },
    {
      "cell_type": "code",
      "execution_count": 118,
      "metadata": {
        "colab": {
          "base_uri": "https://localhost:8080/",
          "height": 132
        },
        "id": "_biw-YdWkAMy",
        "outputId": "f841f601-52c7-472d-f452-a65849b7e8b6"
      },
      "outputs": [
        {
          "data": {
            "text/html": [
              "<div>\n",
              "<style scoped>\n",
              "    .dataframe tbody tr th:only-of-type {\n",
              "        vertical-align: middle;\n",
              "    }\n",
              "\n",
              "    .dataframe tbody tr th {\n",
              "        vertical-align: top;\n",
              "    }\n",
              "\n",
              "    .dataframe thead th {\n",
              "        text-align: right;\n",
              "    }\n",
              "</style>\n",
              "<table border=\"1\" class=\"dataframe\">\n",
              "  <thead>\n",
              "    <tr style=\"text-align: right;\">\n",
              "      <th></th>\n",
              "      <th>tahun_kelahiran</th>\n",
              "      <th>pendidikan</th>\n",
              "      <th>status_pernikahan</th>\n",
              "      <th>pendapatan</th>\n",
              "      <th>jumlah_anak_balita</th>\n",
              "      <th>jumlah_anak_remaja</th>\n",
              "      <th>terakhir_belanja</th>\n",
              "      <th>belanja_buah</th>\n",
              "      <th>belanja_daging</th>\n",
              "      <th>belanja_ikan</th>\n",
              "      <th>belanja_kue</th>\n",
              "      <th>pembelian_diskon</th>\n",
              "      <th>pembelian_web</th>\n",
              "      <th>pembelian_toko</th>\n",
              "      <th>keluhan</th>\n",
              "      <th>tanggal_menjadi_anggota</th>\n",
              "    </tr>\n",
              "  </thead>\n",
              "  <tbody>\n",
              "    <tr>\n",
              "      <th>309</th>\n",
              "      <td>1958</td>\n",
              "      <td>5</td>\n",
              "      <td>Sendiri</td>\n",
              "      <td>64570844.0</td>\n",
              "      <td>1.0</td>\n",
              "      <td>1.0</td>\n",
              "      <td>7.0</td>\n",
              "      <td>4810.0</td>\n",
              "      <td>6113.0</td>\n",
              "      <td>4359.0</td>\n",
              "      <td>7597.0</td>\n",
              "      <td>3.0</td>\n",
              "      <td>1.0</td>\n",
              "      <td>4.0</td>\n",
              "      <td>0.0</td>\n",
              "      <td>NaN</td>\n",
              "    </tr>\n",
              "    <tr>\n",
              "      <th>1596</th>\n",
              "      <td>1977</td>\n",
              "      <td>5</td>\n",
              "      <td>Menikah</td>\n",
              "      <td>136702741.0</td>\n",
              "      <td>0.0</td>\n",
              "      <td>0.0</td>\n",
              "      <td>86.0</td>\n",
              "      <td>51072.0</td>\n",
              "      <td>1477175.0</td>\n",
              "      <td>211531.0</td>\n",
              "      <td>86926.0</td>\n",
              "      <td>3.0</td>\n",
              "      <td>3.0</td>\n",
              "      <td>13.0</td>\n",
              "      <td>0.0</td>\n",
              "      <td>NaN</td>\n",
              "    </tr>\n",
              "  </tbody>\n",
              "</table>\n",
              "</div>"
            ],
            "text/plain": [
              "      tahun_kelahiran pendidikan status_pernikahan   pendapatan  \\\n",
              "309              1958          5           Sendiri   64570844.0   \n",
              "1596             1977          5           Menikah  136702741.0   \n",
              "\n",
              "      jumlah_anak_balita  jumlah_anak_remaja  terakhir_belanja  belanja_buah  \\\n",
              "309                  1.0                 1.0               7.0        4810.0   \n",
              "1596                 0.0                 0.0              86.0       51072.0   \n",
              "\n",
              "      belanja_daging  belanja_ikan  belanja_kue  pembelian_diskon  \\\n",
              "309           6113.0        4359.0       7597.0               3.0   \n",
              "1596       1477175.0      211531.0      86926.0               3.0   \n",
              "\n",
              "      pembelian_web  pembelian_toko  keluhan tanggal_menjadi_anggota  \n",
              "309             1.0             4.0      0.0                     NaN  \n",
              "1596            3.0            13.0      0.0                     NaN  "
            ]
          },
          "execution_count": 118,
          "metadata": {},
          "output_type": "execute_result"
        }
      ],
      "source": [
        "# Ambil contoh nilai pada kolom pendidikan dengan nilai '5'\n",
        "trainFeatures[trainFeatures['pendidikan'] == '5'].head()"
      ]
    },
    {
      "cell_type": "code",
      "execution_count": 119,
      "metadata": {
        "id": "TR8SH47equIy"
      },
      "outputs": [],
      "source": [
        "# Mengambil indeks data dengan nilai unique '5'\n",
        "dropPendidikan = trainFeatures[trainFeatures['pendidikan'] == '5'].index\n",
        "# Menghapus nilai dengan indeks tersebut\n",
        "trainFeatures.drop(dropPendidikan, inplace=True)"
      ]
    },
    {
      "cell_type": "markdown",
      "metadata": {
        "id": "407u4fIXxP39"
      },
      "source": [
        "Saat ini nilai dengan inputan '5' sudah terhapus, karena hanya terdapat 2 data saja maka dapat dikatakan aman untuk dihapus.\n",
        "\n",
        "Selanjutnya yaitu menangani data dengan inputan nan. Untuk langkah yang diambil yaitu mengecek seberapa banyak nilai nan yang ada. Jika jumlah terbilang sedikit, langkah yang diambil adalah menghapus nilai tersebut (seperti pada inputan '5' sebelumnya). Namun, jika jumlahnya terbilang cukup banyak, maka langkah yang diambil yaitu mengubah setiap nilai nan menjadi nilai modus pada kolom **pendidikan**."
      ]
    },
    {
      "cell_type": "markdown",
      "metadata": {
        "id": "gKREKga39fxO"
      },
      "source": [
        "### Olah Data dengan Nilai Unique NaN"
      ]
    },
    {
      "cell_type": "code",
      "execution_count": 120,
      "metadata": {
        "colab": {
          "base_uri": "https://localhost:8080/",
          "height": 435
        },
        "id": "G9u__T4IyUTa",
        "outputId": "d210030f-e739-4c49-9672-d5e24de5917b"
      },
      "outputs": [
        {
          "name": "stdout",
          "output_type": "stream",
          "text": [
            "Banyak Data dengan inputan nan: 189 \n",
            "\n",
            "Dengan sample data sebagai berikut: \n"
          ]
        },
        {
          "data": {
            "text/html": [
              "<div>\n",
              "<style scoped>\n",
              "    .dataframe tbody tr th:only-of-type {\n",
              "        vertical-align: middle;\n",
              "    }\n",
              "\n",
              "    .dataframe tbody tr th {\n",
              "        vertical-align: top;\n",
              "    }\n",
              "\n",
              "    .dataframe thead th {\n",
              "        text-align: right;\n",
              "    }\n",
              "</style>\n",
              "<table border=\"1\" class=\"dataframe\">\n",
              "  <thead>\n",
              "    <tr style=\"text-align: right;\">\n",
              "      <th></th>\n",
              "      <th>tahun_kelahiran</th>\n",
              "      <th>pendidikan</th>\n",
              "      <th>status_pernikahan</th>\n",
              "      <th>pendapatan</th>\n",
              "      <th>jumlah_anak_balita</th>\n",
              "      <th>jumlah_anak_remaja</th>\n",
              "      <th>terakhir_belanja</th>\n",
              "      <th>belanja_buah</th>\n",
              "      <th>belanja_daging</th>\n",
              "      <th>belanja_ikan</th>\n",
              "      <th>belanja_kue</th>\n",
              "      <th>pembelian_diskon</th>\n",
              "      <th>pembelian_web</th>\n",
              "      <th>pembelian_toko</th>\n",
              "      <th>keluhan</th>\n",
              "      <th>tanggal_menjadi_anggota</th>\n",
              "    </tr>\n",
              "  </thead>\n",
              "  <tbody>\n",
              "    <tr>\n",
              "      <th>3553</th>\n",
              "      <td>1970</td>\n",
              "      <td>NaN</td>\n",
              "      <td>Cerai</td>\n",
              "      <td>109580925.0</td>\n",
              "      <td>0.0</td>\n",
              "      <td>NaN</td>\n",
              "      <td>NaN</td>\n",
              "      <td>4427.0</td>\n",
              "      <td>1521.0</td>\n",
              "      <td>2655.0</td>\n",
              "      <td>3035.0</td>\n",
              "      <td>4.0</td>\n",
              "      <td>5.0</td>\n",
              "      <td>6.0</td>\n",
              "      <td>0.0</td>\n",
              "      <td>NaN</td>\n",
              "    </tr>\n",
              "    <tr>\n",
              "      <th>2474</th>\n",
              "      <td>1961</td>\n",
              "      <td>NaN</td>\n",
              "      <td>Sendiri</td>\n",
              "      <td>107405293.0</td>\n",
              "      <td>1.0</td>\n",
              "      <td>1.0</td>\n",
              "      <td>60.0</td>\n",
              "      <td>13642.0</td>\n",
              "      <td>169310.0</td>\n",
              "      <td>7997.0</td>\n",
              "      <td>NaN</td>\n",
              "      <td>8.0</td>\n",
              "      <td>4.0</td>\n",
              "      <td>5.0</td>\n",
              "      <td>0.0</td>\n",
              "      <td>NaN</td>\n",
              "    </tr>\n",
              "    <tr>\n",
              "      <th>385</th>\n",
              "      <td>1958</td>\n",
              "      <td>NaN</td>\n",
              "      <td>Sendiri</td>\n",
              "      <td>104646000.0</td>\n",
              "      <td>1.0</td>\n",
              "      <td>1.0</td>\n",
              "      <td>40.0</td>\n",
              "      <td>0.0</td>\n",
              "      <td>18207.0</td>\n",
              "      <td>0.0</td>\n",
              "      <td>0.0</td>\n",
              "      <td>3.0</td>\n",
              "      <td>1.0</td>\n",
              "      <td>4.0</td>\n",
              "      <td>0.0</td>\n",
              "      <td>2014-05-28</td>\n",
              "    </tr>\n",
              "    <tr>\n",
              "      <th>3797</th>\n",
              "      <td>1982</td>\n",
              "      <td>NaN</td>\n",
              "      <td>Sendiri</td>\n",
              "      <td>120689156.0</td>\n",
              "      <td>0.0</td>\n",
              "      <td>0.0</td>\n",
              "      <td>74.0</td>\n",
              "      <td>NaN</td>\n",
              "      <td>350942.0</td>\n",
              "      <td>44583.0</td>\n",
              "      <td>17614.0</td>\n",
              "      <td>2.0</td>\n",
              "      <td>5.0</td>\n",
              "      <td>12.0</td>\n",
              "      <td>0.0</td>\n",
              "      <td>NaN</td>\n",
              "    </tr>\n",
              "    <tr>\n",
              "      <th>1563</th>\n",
              "      <td>1953</td>\n",
              "      <td>NaN</td>\n",
              "      <td>Rencana Menikah</td>\n",
              "      <td>127866581.0</td>\n",
              "      <td>0.0</td>\n",
              "      <td>0.0</td>\n",
              "      <td>52.0</td>\n",
              "      <td>218695.0</td>\n",
              "      <td>520091.0</td>\n",
              "      <td>146669.0</td>\n",
              "      <td>131336.0</td>\n",
              "      <td>3.0</td>\n",
              "      <td>8.0</td>\n",
              "      <td>9.0</td>\n",
              "      <td>0.0</td>\n",
              "      <td>NaN</td>\n",
              "    </tr>\n",
              "    <tr>\n",
              "      <th>2895</th>\n",
              "      <td>1968</td>\n",
              "      <td>NaN</td>\n",
              "      <td>Rencana Menikah</td>\n",
              "      <td>139070048.0</td>\n",
              "      <td>0.0</td>\n",
              "      <td>1.0</td>\n",
              "      <td>69.0</td>\n",
              "      <td>25355.0</td>\n",
              "      <td>93084.0</td>\n",
              "      <td>42066.0</td>\n",
              "      <td>21836.0</td>\n",
              "      <td>3.0</td>\n",
              "      <td>7.0</td>\n",
              "      <td>6.0</td>\n",
              "      <td>NaN</td>\n",
              "      <td>NaN</td>\n",
              "    </tr>\n",
              "    <tr>\n",
              "      <th>1083</th>\n",
              "      <td>1981</td>\n",
              "      <td>NaN</td>\n",
              "      <td>Menikah</td>\n",
              "      <td>25301000.0</td>\n",
              "      <td>0.0</td>\n",
              "      <td>0.0</td>\n",
              "      <td>35.0</td>\n",
              "      <td>NaN</td>\n",
              "      <td>22253.0</td>\n",
              "      <td>20230.0</td>\n",
              "      <td>22253.0</td>\n",
              "      <td>2.0</td>\n",
              "      <td>1.0</td>\n",
              "      <td>2.0</td>\n",
              "      <td>0.0</td>\n",
              "      <td>2012-12-02</td>\n",
              "    </tr>\n",
              "    <tr>\n",
              "      <th>590</th>\n",
              "      <td>1973</td>\n",
              "      <td>NaN</td>\n",
              "      <td>Rencana Menikah</td>\n",
              "      <td>92281916.0</td>\n",
              "      <td>0.0</td>\n",
              "      <td>1.0</td>\n",
              "      <td>57.0</td>\n",
              "      <td>137375.0</td>\n",
              "      <td>287506.0</td>\n",
              "      <td>249047.0</td>\n",
              "      <td>198114.0</td>\n",
              "      <td>5.0</td>\n",
              "      <td>8.0</td>\n",
              "      <td>4.0</td>\n",
              "      <td>0.0</td>\n",
              "      <td>NaN</td>\n",
              "    </tr>\n",
              "    <tr>\n",
              "      <th>619</th>\n",
              "      <td>1973</td>\n",
              "      <td>NaN</td>\n",
              "      <td>Menikah</td>\n",
              "      <td>80621000.0</td>\n",
              "      <td>0.0</td>\n",
              "      <td>1.0</td>\n",
              "      <td>46.0</td>\n",
              "      <td>0.0</td>\n",
              "      <td>4046.0</td>\n",
              "      <td>4046.0</td>\n",
              "      <td>NaN</td>\n",
              "      <td>3.0</td>\n",
              "      <td>3.0</td>\n",
              "      <td>7.0</td>\n",
              "      <td>0.0</td>\n",
              "      <td>2013-10-11</td>\n",
              "    </tr>\n",
              "    <tr>\n",
              "      <th>2154</th>\n",
              "      <td>1980</td>\n",
              "      <td>NaN</td>\n",
              "      <td>Rencana Menikah</td>\n",
              "      <td>118224028.0</td>\n",
              "      <td>0.0</td>\n",
              "      <td>0.0</td>\n",
              "      <td>13.0</td>\n",
              "      <td>56346.0</td>\n",
              "      <td>147083.0</td>\n",
              "      <td>103746.0</td>\n",
              "      <td>13381.0</td>\n",
              "      <td>0.0</td>\n",
              "      <td>0.0</td>\n",
              "      <td>6.0</td>\n",
              "      <td>0.0</td>\n",
              "      <td>NaN</td>\n",
              "    </tr>\n",
              "  </tbody>\n",
              "</table>\n",
              "</div>"
            ],
            "text/plain": [
              "      tahun_kelahiran pendidikan status_pernikahan   pendapatan  \\\n",
              "3553             1970        NaN             Cerai  109580925.0   \n",
              "2474             1961        NaN           Sendiri  107405293.0   \n",
              "385              1958        NaN           Sendiri  104646000.0   \n",
              "3797             1982        NaN           Sendiri  120689156.0   \n",
              "1563             1953        NaN   Rencana Menikah  127866581.0   \n",
              "2895             1968        NaN   Rencana Menikah  139070048.0   \n",
              "1083             1981        NaN           Menikah   25301000.0   \n",
              "590              1973        NaN   Rencana Menikah   92281916.0   \n",
              "619              1973        NaN           Menikah   80621000.0   \n",
              "2154             1980        NaN   Rencana Menikah  118224028.0   \n",
              "\n",
              "      jumlah_anak_balita  jumlah_anak_remaja  terakhir_belanja  belanja_buah  \\\n",
              "3553                 0.0                 NaN               NaN        4427.0   \n",
              "2474                 1.0                 1.0              60.0       13642.0   \n",
              "385                  1.0                 1.0              40.0           0.0   \n",
              "3797                 0.0                 0.0              74.0           NaN   \n",
              "1563                 0.0                 0.0              52.0      218695.0   \n",
              "2895                 0.0                 1.0              69.0       25355.0   \n",
              "1083                 0.0                 0.0              35.0           NaN   \n",
              "590                  0.0                 1.0              57.0      137375.0   \n",
              "619                  0.0                 1.0              46.0           0.0   \n",
              "2154                 0.0                 0.0              13.0       56346.0   \n",
              "\n",
              "      belanja_daging  belanja_ikan  belanja_kue  pembelian_diskon  \\\n",
              "3553          1521.0        2655.0       3035.0               4.0   \n",
              "2474        169310.0        7997.0          NaN               8.0   \n",
              "385          18207.0           0.0          0.0               3.0   \n",
              "3797        350942.0       44583.0      17614.0               2.0   \n",
              "1563        520091.0      146669.0     131336.0               3.0   \n",
              "2895         93084.0       42066.0      21836.0               3.0   \n",
              "1083         22253.0       20230.0      22253.0               2.0   \n",
              "590         287506.0      249047.0     198114.0               5.0   \n",
              "619           4046.0        4046.0          NaN               3.0   \n",
              "2154        147083.0      103746.0      13381.0               0.0   \n",
              "\n",
              "      pembelian_web  pembelian_toko  keluhan tanggal_menjadi_anggota  \n",
              "3553            5.0             6.0      0.0                     NaN  \n",
              "2474            4.0             5.0      0.0                     NaN  \n",
              "385             1.0             4.0      0.0              2014-05-28  \n",
              "3797            5.0            12.0      0.0                     NaN  \n",
              "1563            8.0             9.0      0.0                     NaN  \n",
              "2895            7.0             6.0      NaN                     NaN  \n",
              "1083            1.0             2.0      0.0              2012-12-02  \n",
              "590             8.0             4.0      0.0                     NaN  \n",
              "619             3.0             7.0      0.0              2013-10-11  \n",
              "2154            0.0             6.0      0.0                     NaN  "
            ]
          },
          "execution_count": 120,
          "metadata": {},
          "output_type": "execute_result"
        }
      ],
      "source": [
        "# Mengambil sample data dengan inputan nan\n",
        "dataNanPendidikan = trainFeatures[trainFeatures['pendidikan'].isnull()]\n",
        "\n",
        "# Mengecek Banyak Baris Data\n",
        "print('Banyak Data dengan inputan nan:', dataNanPendidikan.shape[0], '\\n')\n",
        "print('Dengan sample data sebagai berikut: ')\n",
        "dataNanPendidikan.sample(10)"
      ]
    },
    {
      "cell_type": "markdown",
      "metadata": {
        "id": "YjtiVdDAzLWv"
      },
      "source": [
        "Dikarenakan jumlah dari data nan cukup banyak, maka akan dilakukan pengubahan isi dengan data modus pada kolom **pendidikan**."
      ]
    },
    {
      "cell_type": "code",
      "execution_count": 121,
      "metadata": {
        "colab": {
          "base_uri": "https://localhost:8080/"
        },
        "id": "mH9PAQ4PkCgA",
        "outputId": "0f75da69-a62b-45e3-a724-af9fca5ba2b7"
      },
      "outputs": [
        {
          "name": "stdout",
          "output_type": "stream",
          "text": [
            "Nilai dengan modus terbanyak adalah Sarjana\n"
          ]
        }
      ],
      "source": [
        "# Mengambil jumlah isi terbanyak pada kolom pendidikan\n",
        "modePendidikan = trainFeatures['pendidikan'].mode()[0]\n",
        "print('Nilai dengan modus terbanyak adalah', modePendidikan)"
      ]
    },
    {
      "cell_type": "code",
      "execution_count": 122,
      "metadata": {
        "id": "_KeArtf4re5S"
      },
      "outputs": [],
      "source": [
        "# Mengubah nilai nan menjadi nilai modus\n",
        "trainFeatures['pendidikan'] = trainFeatures['pendidikan'].fillna(modePendidikan)"
      ]
    },
    {
      "cell_type": "code",
      "execution_count": 123,
      "metadata": {
        "colab": {
          "base_uri": "https://localhost:8080/"
        },
        "id": "eFJ0YxDX5WZU",
        "outputId": "4219d5fe-6d66-4f01-a163-40e269e4b325"
      },
      "outputs": [
        {
          "data": {
            "text/plain": [
              "array(['Sarjana', 'Magister', 'SMA', 'SMP', 'Doktor'], dtype=object)"
            ]
          },
          "execution_count": 123,
          "metadata": {},
          "output_type": "execute_result"
        }
      ],
      "source": [
        "# Cek ulang nilai unique\n",
        "trainFeatures['pendidikan'].unique()"
      ]
    },
    {
      "cell_type": "markdown",
      "metadata": {
        "id": "-3QumGrJ5mKU"
      },
      "source": [
        "Pada saat ini, kondisi kolom **pendidikan** sudah normal."
      ]
    },
    {
      "cell_type": "markdown",
      "metadata": {
        "id": "teUdIuuj6R5y"
      },
      "source": [
        "## Kolom Status Pernikahan"
      ]
    },
    {
      "cell_type": "code",
      "execution_count": 124,
      "metadata": {
        "colab": {
          "base_uri": "https://localhost:8080/"
        },
        "id": "zhKEJXMtsP-O",
        "outputId": "9f5e00a2-84d3-47fb-a8ae-5658b4cba8f5"
      },
      "outputs": [
        {
          "data": {
            "text/plain": [
              "array(['Rencana Menikah', 'Menikah', 'Sendiri', 'Cerai', nan,\n",
              "       'Cerai Mati', '5'], dtype=object)"
            ]
          },
          "execution_count": 124,
          "metadata": {},
          "output_type": "execute_result"
        }
      ],
      "source": [
        "# Cek Nilai Unique\n",
        "trainFeatures['status_pernikahan'].unique()"
      ]
    },
    {
      "cell_type": "markdown",
      "metadata": {
        "id": "FqaG_Vjw6fft"
      },
      "source": [
        "Mirip dengan kolom Pendidikan, terdapat dua nilai tidak sesuai pada kolom **Status Pernikahan** yaitu '5' dan nan. Maka perlu dilakukan proses yang sama dengan kolom Pendidikan yaitu meninjau setiap invalid value yang ada untuk dilakukan langkah lebih lanjut."
      ]
    },
    {
      "cell_type": "markdown",
      "metadata": {
        "id": "GQ_PRzbK8DYq"
      },
      "source": [
        "### Olah Data dengan Nilai Unique '5'"
      ]
    },
    {
      "cell_type": "code",
      "execution_count": 125,
      "metadata": {
        "colab": {
          "base_uri": "https://localhost:8080/",
          "height": 100
        },
        "id": "SfD3wvS2secX",
        "outputId": "8e311b39-b7bb-4f09-ccb1-b95abf99b094"
      },
      "outputs": [
        {
          "data": {
            "text/html": [
              "<div>\n",
              "<style scoped>\n",
              "    .dataframe tbody tr th:only-of-type {\n",
              "        vertical-align: middle;\n",
              "    }\n",
              "\n",
              "    .dataframe tbody tr th {\n",
              "        vertical-align: top;\n",
              "    }\n",
              "\n",
              "    .dataframe thead th {\n",
              "        text-align: right;\n",
              "    }\n",
              "</style>\n",
              "<table border=\"1\" class=\"dataframe\">\n",
              "  <thead>\n",
              "    <tr style=\"text-align: right;\">\n",
              "      <th></th>\n",
              "      <th>tahun_kelahiran</th>\n",
              "      <th>pendidikan</th>\n",
              "      <th>status_pernikahan</th>\n",
              "      <th>pendapatan</th>\n",
              "      <th>jumlah_anak_balita</th>\n",
              "      <th>jumlah_anak_remaja</th>\n",
              "      <th>terakhir_belanja</th>\n",
              "      <th>belanja_buah</th>\n",
              "      <th>belanja_daging</th>\n",
              "      <th>belanja_ikan</th>\n",
              "      <th>belanja_kue</th>\n",
              "      <th>pembelian_diskon</th>\n",
              "      <th>pembelian_web</th>\n",
              "      <th>pembelian_toko</th>\n",
              "      <th>keluhan</th>\n",
              "      <th>tanggal_menjadi_anggota</th>\n",
              "    </tr>\n",
              "  </thead>\n",
              "  <tbody>\n",
              "    <tr>\n",
              "      <th>522</th>\n",
              "      <td>1944</td>\n",
              "      <td>Doktor</td>\n",
              "      <td>5</td>\n",
              "      <td>113851181.0</td>\n",
              "      <td>1.0</td>\n",
              "      <td>0.0</td>\n",
              "      <td>42.0</td>\n",
              "      <td>14161.0</td>\n",
              "      <td>27044.0</td>\n",
              "      <td>NaN</td>\n",
              "      <td>7791.0</td>\n",
              "      <td>1.0</td>\n",
              "      <td>0.0</td>\n",
              "      <td>0.0</td>\n",
              "      <td>0.0</td>\n",
              "      <td>NaN</td>\n",
              "    </tr>\n",
              "  </tbody>\n",
              "</table>\n",
              "</div>"
            ],
            "text/plain": [
              "     tahun_kelahiran pendidikan status_pernikahan   pendapatan  \\\n",
              "522             1944     Doktor                 5  113851181.0   \n",
              "\n",
              "     jumlah_anak_balita  jumlah_anak_remaja  terakhir_belanja  belanja_buah  \\\n",
              "522                 1.0                 0.0              42.0       14161.0   \n",
              "\n",
              "     belanja_daging  belanja_ikan  belanja_kue  pembelian_diskon  \\\n",
              "522         27044.0           NaN       7791.0               1.0   \n",
              "\n",
              "     pembelian_web  pembelian_toko  keluhan tanggal_menjadi_anggota  \n",
              "522            0.0             0.0      0.0                     NaN  "
            ]
          },
          "execution_count": 125,
          "metadata": {},
          "output_type": "execute_result"
        }
      ],
      "source": [
        "# Mengambil sample data dengan nilai unique '5'\n",
        "trainFeatures[trainFeatures['status_pernikahan'] == '5']"
      ]
    },
    {
      "cell_type": "markdown",
      "metadata": {
        "id": "ZRWQD7hZ7Ktq"
      },
      "source": [
        "Dikarenakan hanya terdapat satu nilai saja dengan value '5', maka dapat dihapus saja karena tidak terlalu berpengaruh terhadap keseluruhan data."
      ]
    },
    {
      "cell_type": "code",
      "execution_count": 126,
      "metadata": {
        "id": "aHpuBdSYtVgq"
      },
      "outputs": [],
      "source": [
        "# Mengambil data dengan nilai unique '5'\n",
        "dropStatusNikah = trainFeatures[trainFeatures['status_pernikahan'] == '5'].index\n",
        "# Menghapus data\n",
        "trainFeatures.drop(dropStatusNikah, inplace=True)"
      ]
    },
    {
      "cell_type": "markdown",
      "metadata": {
        "id": "SdmFGK8X8KdZ"
      },
      "source": [
        "\n",
        "### Olah Data dengan Nilai Unique NaN"
      ]
    },
    {
      "cell_type": "code",
      "execution_count": 127,
      "metadata": {
        "colab": {
          "base_uri": "https://localhost:8080/",
          "height": 435
        },
        "id": "rluuHrfF7-6W",
        "outputId": "a363f983-5ca0-4f8f-8bcd-a7da034e7729"
      },
      "outputs": [
        {
          "name": "stdout",
          "output_type": "stream",
          "text": [
            "Banyak Data dengan inputan nan: 212 \n",
            "\n",
            "Dengan sample data sebagai berikut: \n"
          ]
        },
        {
          "data": {
            "text/html": [
              "<div>\n",
              "<style scoped>\n",
              "    .dataframe tbody tr th:only-of-type {\n",
              "        vertical-align: middle;\n",
              "    }\n",
              "\n",
              "    .dataframe tbody tr th {\n",
              "        vertical-align: top;\n",
              "    }\n",
              "\n",
              "    .dataframe thead th {\n",
              "        text-align: right;\n",
              "    }\n",
              "</style>\n",
              "<table border=\"1\" class=\"dataframe\">\n",
              "  <thead>\n",
              "    <tr style=\"text-align: right;\">\n",
              "      <th></th>\n",
              "      <th>tahun_kelahiran</th>\n",
              "      <th>pendidikan</th>\n",
              "      <th>status_pernikahan</th>\n",
              "      <th>pendapatan</th>\n",
              "      <th>jumlah_anak_balita</th>\n",
              "      <th>jumlah_anak_remaja</th>\n",
              "      <th>terakhir_belanja</th>\n",
              "      <th>belanja_buah</th>\n",
              "      <th>belanja_daging</th>\n",
              "      <th>belanja_ikan</th>\n",
              "      <th>belanja_kue</th>\n",
              "      <th>pembelian_diskon</th>\n",
              "      <th>pembelian_web</th>\n",
              "      <th>pembelian_toko</th>\n",
              "      <th>keluhan</th>\n",
              "      <th>tanggal_menjadi_anggota</th>\n",
              "    </tr>\n",
              "  </thead>\n",
              "  <tbody>\n",
              "    <tr>\n",
              "      <th>499</th>\n",
              "      <td>1970</td>\n",
              "      <td>Magister</td>\n",
              "      <td>NaN</td>\n",
              "      <td>65522000.0</td>\n",
              "      <td>1.0</td>\n",
              "      <td>1.0</td>\n",
              "      <td>75.0</td>\n",
              "      <td>6069.0</td>\n",
              "      <td>34391.0</td>\n",
              "      <td>2023.0</td>\n",
              "      <td>8092.0</td>\n",
              "      <td>2.0</td>\n",
              "      <td>0.0</td>\n",
              "      <td>5.0</td>\n",
              "      <td>0.0</td>\n",
              "      <td>2013-09-08</td>\n",
              "    </tr>\n",
              "    <tr>\n",
              "      <th>2358</th>\n",
              "      <td>1971</td>\n",
              "      <td>Doktor</td>\n",
              "      <td>NaN</td>\n",
              "      <td>123744087.0</td>\n",
              "      <td>0.0</td>\n",
              "      <td>1.0</td>\n",
              "      <td>23.0</td>\n",
              "      <td>70620.0</td>\n",
              "      <td>653709.0</td>\n",
              "      <td>NaN</td>\n",
              "      <td>73632.0</td>\n",
              "      <td>10.0</td>\n",
              "      <td>9.0</td>\n",
              "      <td>6.0</td>\n",
              "      <td>0.0</td>\n",
              "      <td>NaN</td>\n",
              "    </tr>\n",
              "    <tr>\n",
              "      <th>36</th>\n",
              "      <td>1967</td>\n",
              "      <td>SMA</td>\n",
              "      <td>NaN</td>\n",
              "      <td>126562374.0</td>\n",
              "      <td>0.0</td>\n",
              "      <td>0.0</td>\n",
              "      <td>62.0</td>\n",
              "      <td>31146.0</td>\n",
              "      <td>298531.0</td>\n",
              "      <td>84134.0</td>\n",
              "      <td>102742.0</td>\n",
              "      <td>3.0</td>\n",
              "      <td>NaN</td>\n",
              "      <td>6.0</td>\n",
              "      <td>0.0</td>\n",
              "      <td>NaN</td>\n",
              "    </tr>\n",
              "    <tr>\n",
              "      <th>1403</th>\n",
              "      <td>1974</td>\n",
              "      <td>Doktor</td>\n",
              "      <td>NaN</td>\n",
              "      <td>115185000.0</td>\n",
              "      <td>0.0</td>\n",
              "      <td>1.0</td>\n",
              "      <td>9.0</td>\n",
              "      <td>121380.0</td>\n",
              "      <td>362117.0</td>\n",
              "      <td>12138.0</td>\n",
              "      <td>105196.0</td>\n",
              "      <td>2.0</td>\n",
              "      <td>6.0</td>\n",
              "      <td>7.0</td>\n",
              "      <td>0.0</td>\n",
              "      <td>2012-11-23</td>\n",
              "    </tr>\n",
              "    <tr>\n",
              "      <th>1151</th>\n",
              "      <td>1976</td>\n",
              "      <td>Sarjana</td>\n",
              "      <td>NaN</td>\n",
              "      <td>69520776.0</td>\n",
              "      <td>1.0</td>\n",
              "      <td>0.0</td>\n",
              "      <td>41.0</td>\n",
              "      <td>7809.0</td>\n",
              "      <td>38641.0</td>\n",
              "      <td>41967.0</td>\n",
              "      <td>3841.0</td>\n",
              "      <td>1.0</td>\n",
              "      <td>4.0</td>\n",
              "      <td>2.0</td>\n",
              "      <td>NaN</td>\n",
              "      <td>NaN</td>\n",
              "    </tr>\n",
              "    <tr>\n",
              "      <th>3808</th>\n",
              "      <td>1963</td>\n",
              "      <td>Magister</td>\n",
              "      <td>NaN</td>\n",
              "      <td>117190625.0</td>\n",
              "      <td>0.0</td>\n",
              "      <td>1.0</td>\n",
              "      <td>69.0</td>\n",
              "      <td>2545.0</td>\n",
              "      <td>106247.0</td>\n",
              "      <td>1044.0</td>\n",
              "      <td>11880.0</td>\n",
              "      <td>1.0</td>\n",
              "      <td>3.0</td>\n",
              "      <td>11.0</td>\n",
              "      <td>0.0</td>\n",
              "      <td>NaN</td>\n",
              "    </tr>\n",
              "    <tr>\n",
              "      <th>694</th>\n",
              "      <td>1973</td>\n",
              "      <td>SMA</td>\n",
              "      <td>NaN</td>\n",
              "      <td>54600000.0</td>\n",
              "      <td>1.0</td>\n",
              "      <td>1.0</td>\n",
              "      <td>17.0</td>\n",
              "      <td>0.0</td>\n",
              "      <td>16184.0</td>\n",
              "      <td>24276.0</td>\n",
              "      <td>6069.0</td>\n",
              "      <td>5.0</td>\n",
              "      <td>5.0</td>\n",
              "      <td>4.0</td>\n",
              "      <td>0.0</td>\n",
              "      <td>2014-04-21</td>\n",
              "    </tr>\n",
              "    <tr>\n",
              "      <th>495</th>\n",
              "      <td>1963</td>\n",
              "      <td>Sarjana</td>\n",
              "      <td>NaN</td>\n",
              "      <td>149004544.0</td>\n",
              "      <td>0.0</td>\n",
              "      <td>0.0</td>\n",
              "      <td>24.0</td>\n",
              "      <td>94222.0</td>\n",
              "      <td>288842.0</td>\n",
              "      <td>54604.0</td>\n",
              "      <td>21770.0</td>\n",
              "      <td>1.0</td>\n",
              "      <td>6.0</td>\n",
              "      <td>10.0</td>\n",
              "      <td>0.0</td>\n",
              "      <td>NaN</td>\n",
              "    </tr>\n",
              "    <tr>\n",
              "      <th>1517</th>\n",
              "      <td>1982</td>\n",
              "      <td>Doktor</td>\n",
              "      <td>NaN</td>\n",
              "      <td>37936000.0</td>\n",
              "      <td>1.0</td>\n",
              "      <td>0.0</td>\n",
              "      <td>48.0</td>\n",
              "      <td>0.0</td>\n",
              "      <td>NaN</td>\n",
              "      <td>NaN</td>\n",
              "      <td>2023.0</td>\n",
              "      <td>2.0</td>\n",
              "      <td>2.0</td>\n",
              "      <td>1.0</td>\n",
              "      <td>0.0</td>\n",
              "      <td>2014-05-22</td>\n",
              "    </tr>\n",
              "    <tr>\n",
              "      <th>2213</th>\n",
              "      <td>1966</td>\n",
              "      <td>SMA</td>\n",
              "      <td>NaN</td>\n",
              "      <td>138914147.0</td>\n",
              "      <td>0.0</td>\n",
              "      <td>0.0</td>\n",
              "      <td>66.0</td>\n",
              "      <td>128336.0</td>\n",
              "      <td>304058.0</td>\n",
              "      <td>NaN</td>\n",
              "      <td>164810.0</td>\n",
              "      <td>2.0</td>\n",
              "      <td>7.0</td>\n",
              "      <td>6.0</td>\n",
              "      <td>0.0</td>\n",
              "      <td>NaN</td>\n",
              "    </tr>\n",
              "  </tbody>\n",
              "</table>\n",
              "</div>"
            ],
            "text/plain": [
              "      tahun_kelahiran pendidikan status_pernikahan   pendapatan  \\\n",
              "499              1970   Magister               NaN   65522000.0   \n",
              "2358             1971     Doktor               NaN  123744087.0   \n",
              "36               1967        SMA               NaN  126562374.0   \n",
              "1403             1974     Doktor               NaN  115185000.0   \n",
              "1151             1976    Sarjana               NaN   69520776.0   \n",
              "3808             1963   Magister               NaN  117190625.0   \n",
              "694              1973        SMA               NaN   54600000.0   \n",
              "495              1963    Sarjana               NaN  149004544.0   \n",
              "1517             1982     Doktor               NaN   37936000.0   \n",
              "2213             1966        SMA               NaN  138914147.0   \n",
              "\n",
              "      jumlah_anak_balita  jumlah_anak_remaja  terakhir_belanja  belanja_buah  \\\n",
              "499                  1.0                 1.0              75.0        6069.0   \n",
              "2358                 0.0                 1.0              23.0       70620.0   \n",
              "36                   0.0                 0.0              62.0       31146.0   \n",
              "1403                 0.0                 1.0               9.0      121380.0   \n",
              "1151                 1.0                 0.0              41.0        7809.0   \n",
              "3808                 0.0                 1.0              69.0        2545.0   \n",
              "694                  1.0                 1.0              17.0           0.0   \n",
              "495                  0.0                 0.0              24.0       94222.0   \n",
              "1517                 1.0                 0.0              48.0           0.0   \n",
              "2213                 0.0                 0.0              66.0      128336.0   \n",
              "\n",
              "      belanja_daging  belanja_ikan  belanja_kue  pembelian_diskon  \\\n",
              "499          34391.0        2023.0       8092.0               2.0   \n",
              "2358        653709.0           NaN      73632.0              10.0   \n",
              "36          298531.0       84134.0     102742.0               3.0   \n",
              "1403        362117.0       12138.0     105196.0               2.0   \n",
              "1151         38641.0       41967.0       3841.0               1.0   \n",
              "3808        106247.0        1044.0      11880.0               1.0   \n",
              "694          16184.0       24276.0       6069.0               5.0   \n",
              "495         288842.0       54604.0      21770.0               1.0   \n",
              "1517             NaN           NaN       2023.0               2.0   \n",
              "2213        304058.0           NaN     164810.0               2.0   \n",
              "\n",
              "      pembelian_web  pembelian_toko  keluhan tanggal_menjadi_anggota  \n",
              "499             0.0             5.0      0.0              2013-09-08  \n",
              "2358            9.0             6.0      0.0                     NaN  \n",
              "36              NaN             6.0      0.0                     NaN  \n",
              "1403            6.0             7.0      0.0              2012-11-23  \n",
              "1151            4.0             2.0      NaN                     NaN  \n",
              "3808            3.0            11.0      0.0                     NaN  \n",
              "694             5.0             4.0      0.0              2014-04-21  \n",
              "495             6.0            10.0      0.0                     NaN  \n",
              "1517            2.0             1.0      0.0              2014-05-22  \n",
              "2213            7.0             6.0      0.0                     NaN  "
            ]
          },
          "execution_count": 127,
          "metadata": {},
          "output_type": "execute_result"
        }
      ],
      "source": [
        "# Mengambil sample data dengan inputan nan\n",
        "dataNanPernikahan = trainFeatures[trainFeatures['status_pernikahan'].isnull()]\n",
        "\n",
        "# Mengecek Banyak Baris Data\n",
        "print('Banyak Data dengan inputan nan:', dataNanPernikahan.shape[0], '\\n')\n",
        "print('Dengan sample data sebagai berikut: ')\n",
        "dataNanPernikahan.sample(10)"
      ]
    },
    {
      "cell_type": "markdown",
      "metadata": {
        "id": "0u4wcG9W9QDb"
      },
      "source": [
        "Dikarenakan jumlah dari data nan cukup banyak, maka akan dilakukan pengubahan isi data nan dengan analisis lebih lanjut pada kolom-kolom yang berpotensi memiliki korelasi dengan kolom **status pernikahan**. \n",
        "\n",
        "Yaitu dengan melihat kolom **jumlah anak balita** dan **jumlah anak remaja** dengan asumsi jika memiliki nilai lebih dari 0 dari kedua kolom tersebut, maka akan diubah menjadi \"Menikah\"."
      ]
    },
    {
      "cell_type": "code",
      "execution_count": 128,
      "metadata": {
        "colab": {
          "base_uri": "https://localhost:8080/",
          "height": 35
        },
        "id": "TEKrzHFDtj0s",
        "outputId": "67f69d26-c8fb-434a-bdc2-db2d232af2c5"
      },
      "outputs": [
        {
          "name": "stderr",
          "output_type": "stream",
          "text": [
            "C:\\Users\\legion\\AppData\\Local\\Temp\\ipykernel_154016\\2693765881.py:2: FutureWarning: A value is trying to be set on a copy of a DataFrame or Series through chained assignment using an inplace method.\n",
            "The behavior will change in pandas 3.0. This inplace method will never work because the intermediate object on which we are setting values always behaves as a copy.\n",
            "\n",
            "For example, when doing 'df[col].method(value, inplace=True)', try using 'df.method({col: value}, inplace=True)' or df[col] = df[col].method(value) instead, to perform the operation inplace on the original object.\n",
            "\n",
            "\n",
            "  trainFeatures['status_pernikahan'].fillna('kosong', inplace=True)\n"
          ]
        }
      ],
      "source": [
        "# Ubah NaN menjadi String Terlebih Dahulu\n",
        "trainFeatures['status_pernikahan'].fillna('kosong', inplace=True)\n",
        "\n",
        "# Buat Fungsi\n",
        "def ubahPernikahan(row):\n",
        "    if row['status_pernikahan'] == 'kosong':\n",
        "        if row['jumlah_anak_balita'] > 0 or row['jumlah_anak_remaja'] > 0:\n",
        "            return 'Menikah'\n",
        "        else:\n",
        "            return 'Sendiri'\n",
        "    else:\n",
        "        return row['status_pernikahan']\n",
        "\n",
        "trainFeatures['status_pernikahan'] = trainFeatures.apply(ubahPernikahan, axis=1)"
      ]
    },
    {
      "cell_type": "code",
      "execution_count": 129,
      "metadata": {},
      "outputs": [
        {
          "data": {
            "text/plain": [
              "array(['Rencana Menikah', 'Menikah', 'Sendiri', 'Cerai', 'Cerai Mati'],\n",
              "      dtype=object)"
            ]
          },
          "execution_count": 129,
          "metadata": {},
          "output_type": "execute_result"
        }
      ],
      "source": [
        "trainFeatures['status_pernikahan'].unique()"
      ]
    },
    {
      "cell_type": "markdown",
      "metadata": {},
      "source": [
        "Saat ini nilai unique pada kolom **status pernikahan** sudah normal dan tidak ada nilai nan."
      ]
    },
    {
      "cell_type": "markdown",
      "metadata": {},
      "source": [
        "## Kolom Pendapatan"
      ]
    },
    {
      "cell_type": "code",
      "execution_count": 130,
      "metadata": {},
      "outputs": [
        {
          "data": {
            "text/plain": [
              "2139            NaN\n",
              "527      56477750.0\n",
              "772     139484462.0\n",
              "2026    133108000.0\n",
              "386     125681761.0\n",
              "Name: pendapatan, dtype: float64"
            ]
          },
          "execution_count": 130,
          "metadata": {},
          "output_type": "execute_result"
        }
      ],
      "source": [
        "trainFeatures.pendapatan.sample(5)"
      ]
    },
    {
      "cell_type": "markdown",
      "metadata": {},
      "source": [
        "### Cek Nilai Statistik "
      ]
    },
    {
      "cell_type": "code",
      "execution_count": 131,
      "metadata": {
        "colab": {
          "base_uri": "https://localhost:8080/"
        },
        "id": "FODbWMiTy760",
        "outputId": "417a5dfb-6f53-42c9-f7b3-2760993b97e7"
      },
      "outputs": [
        {
          "data": {
            "text/html": [
              "<div>\n",
              "<style scoped>\n",
              "    .dataframe tbody tr th:only-of-type {\n",
              "        vertical-align: middle;\n",
              "    }\n",
              "\n",
              "    .dataframe tbody tr th {\n",
              "        vertical-align: top;\n",
              "    }\n",
              "\n",
              "    .dataframe thead th {\n",
              "        text-align: right;\n",
              "    }\n",
              "</style>\n",
              "<table border=\"1\" class=\"dataframe\">\n",
              "  <thead>\n",
              "    <tr style=\"text-align: right;\">\n",
              "      <th></th>\n",
              "      <th>tahun_kelahiran</th>\n",
              "      <th>pendapatan</th>\n",
              "      <th>jumlah_anak_balita</th>\n",
              "      <th>jumlah_anak_remaja</th>\n",
              "      <th>terakhir_belanja</th>\n",
              "      <th>belanja_buah</th>\n",
              "      <th>belanja_daging</th>\n",
              "      <th>belanja_ikan</th>\n",
              "      <th>belanja_kue</th>\n",
              "      <th>pembelian_diskon</th>\n",
              "      <th>pembelian_web</th>\n",
              "      <th>pembelian_toko</th>\n",
              "      <th>keluhan</th>\n",
              "    </tr>\n",
              "  </thead>\n",
              "  <tbody>\n",
              "    <tr>\n",
              "      <th>count</th>\n",
              "      <td>3814.000000</td>\n",
              "      <td>3.624000e+03</td>\n",
              "      <td>3624.000000</td>\n",
              "      <td>3610.000000</td>\n",
              "      <td>3642.000000</td>\n",
              "      <td>3633.000000</td>\n",
              "      <td>3.636000e+03</td>\n",
              "      <td>3622.000000</td>\n",
              "      <td>3600.000000</td>\n",
              "      <td>3636.000000</td>\n",
              "      <td>3649.000000</td>\n",
              "      <td>3645.000000</td>\n",
              "      <td>3618.000000</td>\n",
              "    </tr>\n",
              "    <tr>\n",
              "      <th>mean</th>\n",
              "      <td>1967.830362</td>\n",
              "      <td>1.144910e+08</td>\n",
              "      <td>0.292770</td>\n",
              "      <td>0.353740</td>\n",
              "      <td>47.233388</td>\n",
              "      <td>59834.344344</td>\n",
              "      <td>4.385213e+05</td>\n",
              "      <td>81414.356157</td>\n",
              "      <td>63402.365000</td>\n",
              "      <td>2.125413</td>\n",
              "      <td>4.439024</td>\n",
              "      <td>5.767901</td>\n",
              "      <td>0.004975</td>\n",
              "    </tr>\n",
              "    <tr>\n",
              "      <th>std</th>\n",
              "      <td>11.764420</td>\n",
              "      <td>4.346894e+07</td>\n",
              "      <td>0.472942</td>\n",
              "      <td>0.493031</td>\n",
              "      <td>27.063687</td>\n",
              "      <td>74045.898408</td>\n",
              "      <td>5.118685e+05</td>\n",
              "      <td>99972.253724</td>\n",
              "      <td>79456.742289</td>\n",
              "      <td>2.100816</td>\n",
              "      <td>3.002223</td>\n",
              "      <td>3.208269</td>\n",
              "      <td>0.070369</td>\n",
              "    </tr>\n",
              "    <tr>\n",
              "      <th>min</th>\n",
              "      <td>1899.000000</td>\n",
              "      <td>5.073000e+06</td>\n",
              "      <td>0.000000</td>\n",
              "      <td>0.000000</td>\n",
              "      <td>0.000000</td>\n",
              "      <td>0.000000</td>\n",
              "      <td>0.000000e+00</td>\n",
              "      <td>0.000000</td>\n",
              "      <td>0.000000</td>\n",
              "      <td>0.000000</td>\n",
              "      <td>0.000000</td>\n",
              "      <td>0.000000</td>\n",
              "      <td>0.000000</td>\n",
              "    </tr>\n",
              "    <tr>\n",
              "      <th>25%</th>\n",
              "      <td>1959.000000</td>\n",
              "      <td>8.112568e+07</td>\n",
              "      <td>0.000000</td>\n",
              "      <td>0.000000</td>\n",
              "      <td>25.000000</td>\n",
              "      <td>7908.000000</td>\n",
              "      <td>4.955925e+04</td>\n",
              "      <td>10115.000000</td>\n",
              "      <td>7953.250000</td>\n",
              "      <td>0.000000</td>\n",
              "      <td>2.000000</td>\n",
              "      <td>3.000000</td>\n",
              "      <td>0.000000</td>\n",
              "    </tr>\n",
              "    <tr>\n",
              "      <th>50%</th>\n",
              "      <td>1968.000000</td>\n",
              "      <td>1.156252e+08</td>\n",
              "      <td>0.000000</td>\n",
              "      <td>0.000000</td>\n",
              "      <td>47.000000</td>\n",
              "      <td>26465.000000</td>\n",
              "      <td>2.221065e+05</td>\n",
              "      <td>36054.500000</td>\n",
              "      <td>27804.500000</td>\n",
              "      <td>2.000000</td>\n",
              "      <td>4.000000</td>\n",
              "      <td>5.000000</td>\n",
              "      <td>0.000000</td>\n",
              "    </tr>\n",
              "    <tr>\n",
              "      <th>75%</th>\n",
              "      <td>1976.000000</td>\n",
              "      <td>1.505037e+08</td>\n",
              "      <td>1.000000</td>\n",
              "      <td>1.000000</td>\n",
              "      <td>69.000000</td>\n",
              "      <td>86201.000000</td>\n",
              "      <td>6.860762e+05</td>\n",
              "      <td>121309.500000</td>\n",
              "      <td>89677.000000</td>\n",
              "      <td>3.000000</td>\n",
              "      <td>7.000000</td>\n",
              "      <td>8.000000</td>\n",
              "      <td>0.000000</td>\n",
              "    </tr>\n",
              "    <tr>\n",
              "      <th>max</th>\n",
              "      <td>2000.000000</td>\n",
              "      <td>3.328840e+08</td>\n",
              "      <td>2.000000</td>\n",
              "      <td>2.000000</td>\n",
              "      <td>128.000000</td>\n",
              "      <td>396508.000000</td>\n",
              "      <td>3.489675e+06</td>\n",
              "      <td>621600.000000</td>\n",
              "      <td>542164.000000</td>\n",
              "      <td>20.000000</td>\n",
              "      <td>30.000000</td>\n",
              "      <td>17.000000</td>\n",
              "      <td>1.000000</td>\n",
              "    </tr>\n",
              "  </tbody>\n",
              "</table>\n",
              "</div>"
            ],
            "text/plain": [
              "       tahun_kelahiran    pendapatan  jumlah_anak_balita  jumlah_anak_remaja  \\\n",
              "count      3814.000000  3.624000e+03         3624.000000         3610.000000   \n",
              "mean       1967.830362  1.144910e+08            0.292770            0.353740   \n",
              "std          11.764420  4.346894e+07            0.472942            0.493031   \n",
              "min        1899.000000  5.073000e+06            0.000000            0.000000   \n",
              "25%        1959.000000  8.112568e+07            0.000000            0.000000   \n",
              "50%        1968.000000  1.156252e+08            0.000000            0.000000   \n",
              "75%        1976.000000  1.505037e+08            1.000000            1.000000   \n",
              "max        2000.000000  3.328840e+08            2.000000            2.000000   \n",
              "\n",
              "       terakhir_belanja   belanja_buah  belanja_daging   belanja_ikan  \\\n",
              "count       3642.000000    3633.000000    3.636000e+03    3622.000000   \n",
              "mean          47.233388   59834.344344    4.385213e+05   81414.356157   \n",
              "std           27.063687   74045.898408    5.118685e+05   99972.253724   \n",
              "min            0.000000       0.000000    0.000000e+00       0.000000   \n",
              "25%           25.000000    7908.000000    4.955925e+04   10115.000000   \n",
              "50%           47.000000   26465.000000    2.221065e+05   36054.500000   \n",
              "75%           69.000000   86201.000000    6.860762e+05  121309.500000   \n",
              "max          128.000000  396508.000000    3.489675e+06  621600.000000   \n",
              "\n",
              "         belanja_kue  pembelian_diskon  pembelian_web  pembelian_toko  \\\n",
              "count    3600.000000       3636.000000    3649.000000     3645.000000   \n",
              "mean    63402.365000          2.125413       4.439024        5.767901   \n",
              "std     79456.742289          2.100816       3.002223        3.208269   \n",
              "min         0.000000          0.000000       0.000000        0.000000   \n",
              "25%      7953.250000          0.000000       2.000000        3.000000   \n",
              "50%     27804.500000          2.000000       4.000000        5.000000   \n",
              "75%     89677.000000          3.000000       7.000000        8.000000   \n",
              "max    542164.000000         20.000000      30.000000       17.000000   \n",
              "\n",
              "           keluhan  \n",
              "count  3618.000000  \n",
              "mean      0.004975  \n",
              "std       0.070369  \n",
              "min       0.000000  \n",
              "25%       0.000000  \n",
              "50%       0.000000  \n",
              "75%       0.000000  \n",
              "max       1.000000  "
            ]
          },
          "execution_count": 131,
          "metadata": {},
          "output_type": "execute_result"
        }
      ],
      "source": [
        "trainFeatures.describe()"
      ]
    },
    {
      "cell_type": "markdown",
      "metadata": {},
      "source": [
        "### Pengecekan Nilai Null\n",
        "\n",
        "Dari hasil analisis sebelumnya, terlihat bahwa terdapat nilai null pada kolom ini."
      ]
    },
    {
      "cell_type": "code",
      "execution_count": 132,
      "metadata": {},
      "outputs": [
        {
          "data": {
            "text/html": [
              "<div>\n",
              "<style scoped>\n",
              "    .dataframe tbody tr th:only-of-type {\n",
              "        vertical-align: middle;\n",
              "    }\n",
              "\n",
              "    .dataframe tbody tr th {\n",
              "        vertical-align: top;\n",
              "    }\n",
              "\n",
              "    .dataframe thead th {\n",
              "        text-align: right;\n",
              "    }\n",
              "</style>\n",
              "<table border=\"1\" class=\"dataframe\">\n",
              "  <thead>\n",
              "    <tr style=\"text-align: right;\">\n",
              "      <th></th>\n",
              "      <th>tahun_kelahiran</th>\n",
              "      <th>pendidikan</th>\n",
              "      <th>status_pernikahan</th>\n",
              "      <th>pendapatan</th>\n",
              "      <th>jumlah_anak_balita</th>\n",
              "      <th>jumlah_anak_remaja</th>\n",
              "      <th>terakhir_belanja</th>\n",
              "      <th>belanja_buah</th>\n",
              "      <th>belanja_daging</th>\n",
              "      <th>belanja_ikan</th>\n",
              "      <th>belanja_kue</th>\n",
              "      <th>pembelian_diskon</th>\n",
              "      <th>pembelian_web</th>\n",
              "      <th>pembelian_toko</th>\n",
              "      <th>keluhan</th>\n",
              "      <th>tanggal_menjadi_anggota</th>\n",
              "    </tr>\n",
              "  </thead>\n",
              "  <tbody>\n",
              "    <tr>\n",
              "      <th>0</th>\n",
              "      <td>1979</td>\n",
              "      <td>Sarjana</td>\n",
              "      <td>Rencana Menikah</td>\n",
              "      <td>NaN</td>\n",
              "      <td>0.0</td>\n",
              "      <td>1.0</td>\n",
              "      <td>NaN</td>\n",
              "      <td>50575.0</td>\n",
              "      <td>260967.0</td>\n",
              "      <td>50575.0</td>\n",
              "      <td>20230.0</td>\n",
              "      <td>2.0</td>\n",
              "      <td>2.0</td>\n",
              "      <td>5.0</td>\n",
              "      <td>0.0</td>\n",
              "      <td>2014-05-05</td>\n",
              "    </tr>\n",
              "    <tr>\n",
              "      <th>23</th>\n",
              "      <td>1982</td>\n",
              "      <td>SMA</td>\n",
              "      <td>Rencana Menikah</td>\n",
              "      <td>NaN</td>\n",
              "      <td>1.0</td>\n",
              "      <td>0.0</td>\n",
              "      <td>54.0</td>\n",
              "      <td>8742.0</td>\n",
              "      <td>26206.0</td>\n",
              "      <td>4231.0</td>\n",
              "      <td>836.0</td>\n",
              "      <td>3.0</td>\n",
              "      <td>2.0</td>\n",
              "      <td>2.0</td>\n",
              "      <td>0.0</td>\n",
              "      <td>NaN</td>\n",
              "    </tr>\n",
              "    <tr>\n",
              "      <th>53</th>\n",
              "      <td>1975</td>\n",
              "      <td>Doktor</td>\n",
              "      <td>Menikah</td>\n",
              "      <td>NaN</td>\n",
              "      <td>0.0</td>\n",
              "      <td>0.0</td>\n",
              "      <td>65.0</td>\n",
              "      <td>180047.0</td>\n",
              "      <td>1488928.0</td>\n",
              "      <td>145656.0</td>\n",
              "      <td>105196.0</td>\n",
              "      <td>1.0</td>\n",
              "      <td>1.0</td>\n",
              "      <td>7.0</td>\n",
              "      <td>0.0</td>\n",
              "      <td>NaN</td>\n",
              "    </tr>\n",
              "    <tr>\n",
              "      <th>116</th>\n",
              "      <td>1957</td>\n",
              "      <td>SMA</td>\n",
              "      <td>Rencana Menikah</td>\n",
              "      <td>NaN</td>\n",
              "      <td>0.0</td>\n",
              "      <td>1.0</td>\n",
              "      <td>30.0</td>\n",
              "      <td>15143.0</td>\n",
              "      <td>61788.0</td>\n",
              "      <td>4104.0</td>\n",
              "      <td>0.0</td>\n",
              "      <td>4.0</td>\n",
              "      <td>5.0</td>\n",
              "      <td>8.0</td>\n",
              "      <td>0.0</td>\n",
              "      <td>NaN</td>\n",
              "    </tr>\n",
              "    <tr>\n",
              "      <th>135</th>\n",
              "      <td>1976</td>\n",
              "      <td>Sarjana</td>\n",
              "      <td>Menikah</td>\n",
              "      <td>NaN</td>\n",
              "      <td>0.0</td>\n",
              "      <td>NaN</td>\n",
              "      <td>66.0</td>\n",
              "      <td>115311.0</td>\n",
              "      <td>1145018.0</td>\n",
              "      <td>226576.0</td>\n",
              "      <td>260967.0</td>\n",
              "      <td>2.0</td>\n",
              "      <td>6.0</td>\n",
              "      <td>7.0</td>\n",
              "      <td>0.0</td>\n",
              "      <td>2014-05-14</td>\n",
              "    </tr>\n",
              "    <tr>\n",
              "      <th>141</th>\n",
              "      <td>1963</td>\n",
              "      <td>Sarjana</td>\n",
              "      <td>Sendiri</td>\n",
              "      <td>NaN</td>\n",
              "      <td>0.0</td>\n",
              "      <td>1.0</td>\n",
              "      <td>14.0</td>\n",
              "      <td>15436.0</td>\n",
              "      <td>112814.0</td>\n",
              "      <td>NaN</td>\n",
              "      <td>20120.0</td>\n",
              "      <td>0.0</td>\n",
              "      <td>8.0</td>\n",
              "      <td>5.0</td>\n",
              "      <td>0.0</td>\n",
              "      <td>NaN</td>\n",
              "    </tr>\n",
              "    <tr>\n",
              "      <th>145</th>\n",
              "      <td>1967</td>\n",
              "      <td>Sarjana</td>\n",
              "      <td>Rencana Menikah</td>\n",
              "      <td>NaN</td>\n",
              "      <td>1.0</td>\n",
              "      <td>1.0</td>\n",
              "      <td>22.0</td>\n",
              "      <td>4046.0</td>\n",
              "      <td>12138.0</td>\n",
              "      <td>0.0</td>\n",
              "      <td>0.0</td>\n",
              "      <td>2.0</td>\n",
              "      <td>1.0</td>\n",
              "      <td>NaN</td>\n",
              "      <td>0.0</td>\n",
              "      <td>2012-12-10</td>\n",
              "    </tr>\n",
              "    <tr>\n",
              "      <th>150</th>\n",
              "      <td>1972</td>\n",
              "      <td>Magister</td>\n",
              "      <td>Rencana Menikah</td>\n",
              "      <td>NaN</td>\n",
              "      <td>0.0</td>\n",
              "      <td>1.0</td>\n",
              "      <td>85.0</td>\n",
              "      <td>55231.0</td>\n",
              "      <td>475405.0</td>\n",
              "      <td>36006.0</td>\n",
              "      <td>NaN</td>\n",
              "      <td>1.0</td>\n",
              "      <td>10.0</td>\n",
              "      <td>4.0</td>\n",
              "      <td>0.0</td>\n",
              "      <td>NaN</td>\n",
              "    </tr>\n",
              "    <tr>\n",
              "      <th>180</th>\n",
              "      <td>1980</td>\n",
              "      <td>Sarjana</td>\n",
              "      <td>Rencana Menikah</td>\n",
              "      <td>NaN</td>\n",
              "      <td>0.0</td>\n",
              "      <td>0.0</td>\n",
              "      <td>7.0</td>\n",
              "      <td>NaN</td>\n",
              "      <td>36475.0</td>\n",
              "      <td>22978.0</td>\n",
              "      <td>34337.0</td>\n",
              "      <td>1.0</td>\n",
              "      <td>3.0</td>\n",
              "      <td>0.0</td>\n",
              "      <td>0.0</td>\n",
              "      <td>NaN</td>\n",
              "    </tr>\n",
              "    <tr>\n",
              "      <th>190</th>\n",
              "      <td>1981</td>\n",
              "      <td>Doktor</td>\n",
              "      <td>Rencana Menikah</td>\n",
              "      <td>NaN</td>\n",
              "      <td>1.0</td>\n",
              "      <td>0.0</td>\n",
              "      <td>61.0</td>\n",
              "      <td>2023.0</td>\n",
              "      <td>105196.0</td>\n",
              "      <td>0.0</td>\n",
              "      <td>12138.0</td>\n",
              "      <td>1.0</td>\n",
              "      <td>7.0</td>\n",
              "      <td>4.0</td>\n",
              "      <td>0.0</td>\n",
              "      <td>2013-02-10</td>\n",
              "    </tr>\n",
              "  </tbody>\n",
              "</table>\n",
              "</div>"
            ],
            "text/plain": [
              "     tahun_kelahiran pendidikan status_pernikahan  pendapatan  \\\n",
              "0               1979    Sarjana   Rencana Menikah         NaN   \n",
              "23              1982        SMA   Rencana Menikah         NaN   \n",
              "53              1975     Doktor           Menikah         NaN   \n",
              "116             1957        SMA   Rencana Menikah         NaN   \n",
              "135             1976    Sarjana           Menikah         NaN   \n",
              "141             1963    Sarjana           Sendiri         NaN   \n",
              "145             1967    Sarjana   Rencana Menikah         NaN   \n",
              "150             1972   Magister   Rencana Menikah         NaN   \n",
              "180             1980    Sarjana   Rencana Menikah         NaN   \n",
              "190             1981     Doktor   Rencana Menikah         NaN   \n",
              "\n",
              "     jumlah_anak_balita  jumlah_anak_remaja  terakhir_belanja  belanja_buah  \\\n",
              "0                   0.0                 1.0               NaN       50575.0   \n",
              "23                  1.0                 0.0              54.0        8742.0   \n",
              "53                  0.0                 0.0              65.0      180047.0   \n",
              "116                 0.0                 1.0              30.0       15143.0   \n",
              "135                 0.0                 NaN              66.0      115311.0   \n",
              "141                 0.0                 1.0              14.0       15436.0   \n",
              "145                 1.0                 1.0              22.0        4046.0   \n",
              "150                 0.0                 1.0              85.0       55231.0   \n",
              "180                 0.0                 0.0               7.0           NaN   \n",
              "190                 1.0                 0.0              61.0        2023.0   \n",
              "\n",
              "     belanja_daging  belanja_ikan  belanja_kue  pembelian_diskon  \\\n",
              "0          260967.0       50575.0      20230.0               2.0   \n",
              "23          26206.0        4231.0        836.0               3.0   \n",
              "53        1488928.0      145656.0     105196.0               1.0   \n",
              "116         61788.0        4104.0          0.0               4.0   \n",
              "135       1145018.0      226576.0     260967.0               2.0   \n",
              "141        112814.0           NaN      20120.0               0.0   \n",
              "145         12138.0           0.0          0.0               2.0   \n",
              "150        475405.0       36006.0          NaN               1.0   \n",
              "180         36475.0       22978.0      34337.0               1.0   \n",
              "190        105196.0           0.0      12138.0               1.0   \n",
              "\n",
              "     pembelian_web  pembelian_toko  keluhan tanggal_menjadi_anggota  \n",
              "0              2.0             5.0      0.0              2014-05-05  \n",
              "23             2.0             2.0      0.0                     NaN  \n",
              "53             1.0             7.0      0.0                     NaN  \n",
              "116            5.0             8.0      0.0                     NaN  \n",
              "135            6.0             7.0      0.0              2014-05-14  \n",
              "141            8.0             5.0      0.0                     NaN  \n",
              "145            1.0             NaN      0.0              2012-12-10  \n",
              "150           10.0             4.0      0.0                     NaN  \n",
              "180            3.0             0.0      0.0                     NaN  \n",
              "190            7.0             4.0      0.0              2013-02-10  "
            ]
          },
          "execution_count": 132,
          "metadata": {},
          "output_type": "execute_result"
        }
      ],
      "source": [
        "nullPendapatan = trainFeatures[trainFeatures['pendapatan'].isnull()]\n",
        "nullPendapatan.head(10)"
      ]
    },
    {
      "cell_type": "code",
      "execution_count": 133,
      "metadata": {},
      "outputs": [
        {
          "data": {
            "text/html": [
              "<div>\n",
              "<style scoped>\n",
              "    .dataframe tbody tr th:only-of-type {\n",
              "        vertical-align: middle;\n",
              "    }\n",
              "\n",
              "    .dataframe tbody tr th {\n",
              "        vertical-align: top;\n",
              "    }\n",
              "\n",
              "    .dataframe thead th {\n",
              "        text-align: right;\n",
              "    }\n",
              "</style>\n",
              "<table border=\"1\" class=\"dataframe\">\n",
              "  <thead>\n",
              "    <tr style=\"text-align: right;\">\n",
              "      <th></th>\n",
              "      <th>tahun_kelahiran</th>\n",
              "      <th>pendidikan</th>\n",
              "      <th>status_pernikahan</th>\n",
              "      <th>pendapatan</th>\n",
              "      <th>jumlah_anak_balita</th>\n",
              "      <th>jumlah_anak_remaja</th>\n",
              "      <th>terakhir_belanja</th>\n",
              "      <th>belanja_buah</th>\n",
              "      <th>belanja_daging</th>\n",
              "      <th>belanja_ikan</th>\n",
              "      <th>belanja_kue</th>\n",
              "      <th>pembelian_diskon</th>\n",
              "      <th>pembelian_web</th>\n",
              "      <th>pembelian_toko</th>\n",
              "      <th>keluhan</th>\n",
              "      <th>tanggal_menjadi_anggota</th>\n",
              "    </tr>\n",
              "  </thead>\n",
              "  <tbody>\n",
              "    <tr>\n",
              "      <th>2998</th>\n",
              "      <td>1961</td>\n",
              "      <td>Magister</td>\n",
              "      <td>Sendiri</td>\n",
              "      <td>NaN</td>\n",
              "      <td>0.0</td>\n",
              "      <td>1.0</td>\n",
              "      <td>74.0</td>\n",
              "      <td>NaN</td>\n",
              "      <td>175212.0</td>\n",
              "      <td>18652.0</td>\n",
              "      <td>15806.0</td>\n",
              "      <td>5.0</td>\n",
              "      <td>6.0</td>\n",
              "      <td>5.0</td>\n",
              "      <td>0.0</td>\n",
              "      <td>NaN</td>\n",
              "    </tr>\n",
              "    <tr>\n",
              "      <th>1889</th>\n",
              "      <td>1954</td>\n",
              "      <td>Sarjana</td>\n",
              "      <td>Menikah</td>\n",
              "      <td>141199096.0</td>\n",
              "      <td>0.0</td>\n",
              "      <td>1.0</td>\n",
              "      <td>42.0</td>\n",
              "      <td>45737.0</td>\n",
              "      <td>503781.0</td>\n",
              "      <td>277004.0</td>\n",
              "      <td>31505.0</td>\n",
              "      <td>4.0</td>\n",
              "      <td>9.0</td>\n",
              "      <td>7.0</td>\n",
              "      <td>0.0</td>\n",
              "      <td>NaN</td>\n",
              "    </tr>\n",
              "    <tr>\n",
              "      <th>493</th>\n",
              "      <td>1979</td>\n",
              "      <td>Sarjana</td>\n",
              "      <td>Menikah</td>\n",
              "      <td>113032000.0</td>\n",
              "      <td>0.0</td>\n",
              "      <td>1.0</td>\n",
              "      <td>23.0</td>\n",
              "      <td>68782.0</td>\n",
              "      <td>216461.0</td>\n",
              "      <td>192185.0</td>\n",
              "      <td>68782.0</td>\n",
              "      <td>3.0</td>\n",
              "      <td>2.0</td>\n",
              "      <td>10.0</td>\n",
              "      <td>0.0</td>\n",
              "      <td>2013-09-21</td>\n",
              "    </tr>\n",
              "    <tr>\n",
              "      <th>217</th>\n",
              "      <td>1977</td>\n",
              "      <td>SMA</td>\n",
              "      <td>Menikah</td>\n",
              "      <td>46364100.0</td>\n",
              "      <td>1.0</td>\n",
              "      <td>0.0</td>\n",
              "      <td>59.0</td>\n",
              "      <td>4539.0</td>\n",
              "      <td>21743.0</td>\n",
              "      <td>23766.0</td>\n",
              "      <td>8832.0</td>\n",
              "      <td>1.0</td>\n",
              "      <td>3.0</td>\n",
              "      <td>2.0</td>\n",
              "      <td>0.0</td>\n",
              "      <td>NaN</td>\n",
              "    </tr>\n",
              "    <tr>\n",
              "      <th>546</th>\n",
              "      <td>1975</td>\n",
              "      <td>Sarjana</td>\n",
              "      <td>Rencana Menikah</td>\n",
              "      <td>78447419.0</td>\n",
              "      <td>1.0</td>\n",
              "      <td>0.0</td>\n",
              "      <td>10.0</td>\n",
              "      <td>3051.0</td>\n",
              "      <td>30571.0</td>\n",
              "      <td>610.0</td>\n",
              "      <td>0.0</td>\n",
              "      <td>1.0</td>\n",
              "      <td>3.0</td>\n",
              "      <td>2.0</td>\n",
              "      <td>0.0</td>\n",
              "      <td>NaN</td>\n",
              "    </tr>\n",
              "    <tr>\n",
              "      <th>909</th>\n",
              "      <td>1950</td>\n",
              "      <td>Magister</td>\n",
              "      <td>Cerai</td>\n",
              "      <td>134984477.0</td>\n",
              "      <td>0.0</td>\n",
              "      <td>NaN</td>\n",
              "      <td>8.0</td>\n",
              "      <td>14602.0</td>\n",
              "      <td>239819.0</td>\n",
              "      <td>26483.0</td>\n",
              "      <td>17513.0</td>\n",
              "      <td>4.0</td>\n",
              "      <td>5.0</td>\n",
              "      <td>8.0</td>\n",
              "      <td>0.0</td>\n",
              "      <td>NaN</td>\n",
              "    </tr>\n",
              "    <tr>\n",
              "      <th>3159</th>\n",
              "      <td>1956</td>\n",
              "      <td>Sarjana</td>\n",
              "      <td>Rencana Menikah</td>\n",
              "      <td>140859812.0</td>\n",
              "      <td>0.0</td>\n",
              "      <td>0.0</td>\n",
              "      <td>52.0</td>\n",
              "      <td>41358.0</td>\n",
              "      <td>299210.0</td>\n",
              "      <td>12372.0</td>\n",
              "      <td>42131.0</td>\n",
              "      <td>1.0</td>\n",
              "      <td>4.0</td>\n",
              "      <td>7.0</td>\n",
              "      <td>0.0</td>\n",
              "      <td>NaN</td>\n",
              "    </tr>\n",
              "    <tr>\n",
              "      <th>66</th>\n",
              "      <td>1958</td>\n",
              "      <td>Magister</td>\n",
              "      <td>Rencana Menikah</td>\n",
              "      <td>78870292.0</td>\n",
              "      <td>0.0</td>\n",
              "      <td>1.0</td>\n",
              "      <td>51.0</td>\n",
              "      <td>2433.0</td>\n",
              "      <td>11289.0</td>\n",
              "      <td>410.0</td>\n",
              "      <td>2051.0</td>\n",
              "      <td>0.0</td>\n",
              "      <td>2.0</td>\n",
              "      <td>0.0</td>\n",
              "      <td>0.0</td>\n",
              "      <td>NaN</td>\n",
              "    </tr>\n",
              "    <tr>\n",
              "      <th>3729</th>\n",
              "      <td>1975</td>\n",
              "      <td>Magister</td>\n",
              "      <td>Rencana Menikah</td>\n",
              "      <td>72537110.0</td>\n",
              "      <td>1.0</td>\n",
              "      <td>NaN</td>\n",
              "      <td>27.0</td>\n",
              "      <td>26465.0</td>\n",
              "      <td>43570.0</td>\n",
              "      <td>6555.0</td>\n",
              "      <td>755.0</td>\n",
              "      <td>2.0</td>\n",
              "      <td>2.0</td>\n",
              "      <td>4.0</td>\n",
              "      <td>0.0</td>\n",
              "      <td>NaN</td>\n",
              "    </tr>\n",
              "    <tr>\n",
              "      <th>72</th>\n",
              "      <td>1983</td>\n",
              "      <td>Doktor</td>\n",
              "      <td>Menikah</td>\n",
              "      <td>166606724.0</td>\n",
              "      <td>0.0</td>\n",
              "      <td>0.0</td>\n",
              "      <td>73.0</td>\n",
              "      <td>42264.0</td>\n",
              "      <td>304765.0</td>\n",
              "      <td>60438.0</td>\n",
              "      <td>52275.0</td>\n",
              "      <td>1.0</td>\n",
              "      <td>6.0</td>\n",
              "      <td>5.0</td>\n",
              "      <td>0.0</td>\n",
              "      <td>NaN</td>\n",
              "    </tr>\n",
              "  </tbody>\n",
              "</table>\n",
              "</div>"
            ],
            "text/plain": [
              "      tahun_kelahiran pendidikan status_pernikahan   pendapatan  \\\n",
              "2998             1961   Magister           Sendiri          NaN   \n",
              "1889             1954    Sarjana           Menikah  141199096.0   \n",
              "493              1979    Sarjana           Menikah  113032000.0   \n",
              "217              1977        SMA           Menikah   46364100.0   \n",
              "546              1975    Sarjana   Rencana Menikah   78447419.0   \n",
              "909              1950   Magister             Cerai  134984477.0   \n",
              "3159             1956    Sarjana   Rencana Menikah  140859812.0   \n",
              "66               1958   Magister   Rencana Menikah   78870292.0   \n",
              "3729             1975   Magister   Rencana Menikah   72537110.0   \n",
              "72               1983     Doktor           Menikah  166606724.0   \n",
              "\n",
              "      jumlah_anak_balita  jumlah_anak_remaja  terakhir_belanja  belanja_buah  \\\n",
              "2998                 0.0                 1.0              74.0           NaN   \n",
              "1889                 0.0                 1.0              42.0       45737.0   \n",
              "493                  0.0                 1.0              23.0       68782.0   \n",
              "217                  1.0                 0.0              59.0        4539.0   \n",
              "546                  1.0                 0.0              10.0        3051.0   \n",
              "909                  0.0                 NaN               8.0       14602.0   \n",
              "3159                 0.0                 0.0              52.0       41358.0   \n",
              "66                   0.0                 1.0              51.0        2433.0   \n",
              "3729                 1.0                 NaN              27.0       26465.0   \n",
              "72                   0.0                 0.0              73.0       42264.0   \n",
              "\n",
              "      belanja_daging  belanja_ikan  belanja_kue  pembelian_diskon  \\\n",
              "2998        175212.0       18652.0      15806.0               5.0   \n",
              "1889        503781.0      277004.0      31505.0               4.0   \n",
              "493         216461.0      192185.0      68782.0               3.0   \n",
              "217          21743.0       23766.0       8832.0               1.0   \n",
              "546          30571.0         610.0          0.0               1.0   \n",
              "909         239819.0       26483.0      17513.0               4.0   \n",
              "3159        299210.0       12372.0      42131.0               1.0   \n",
              "66           11289.0         410.0       2051.0               0.0   \n",
              "3729         43570.0        6555.0        755.0               2.0   \n",
              "72          304765.0       60438.0      52275.0               1.0   \n",
              "\n",
              "      pembelian_web  pembelian_toko  keluhan tanggal_menjadi_anggota  \n",
              "2998            6.0             5.0      0.0                     NaN  \n",
              "1889            9.0             7.0      0.0                     NaN  \n",
              "493             2.0            10.0      0.0              2013-09-21  \n",
              "217             3.0             2.0      0.0                     NaN  \n",
              "546             3.0             2.0      0.0                     NaN  \n",
              "909             5.0             8.0      0.0                     NaN  \n",
              "3159            4.0             7.0      0.0                     NaN  \n",
              "66              2.0             0.0      0.0                     NaN  \n",
              "3729            2.0             4.0      0.0                     NaN  \n",
              "72              6.0             5.0      0.0                     NaN  "
            ]
          },
          "execution_count": 133,
          "metadata": {},
          "output_type": "execute_result"
        }
      ],
      "source": [
        "trainFeatures.sample(10)"
      ]
    },
    {
      "cell_type": "markdown",
      "metadata": {},
      "source": [
        "Yang dilakukan adalah menggunakan interpolasi polinomial untuk menutup setiap nilai NaN yang ada dengan titik terdekat data ke data lainnya secara linear."
      ]
    },
    {
      "cell_type": "code",
      "execution_count": 134,
      "metadata": {
        "id": "jyT87u3auQ5c"
      },
      "outputs": [],
      "source": [
        "# Data x dan y yang tidak null\n",
        "x_known = trainFeatures.index[~trainFeatures['pendapatan'].isnull()]\n",
        "y_known = trainFeatures.loc[x_known, 'pendapatan']\n",
        "\n",
        "# Buat objek interpolasi polinomial orde rendah (misalnya, orde 2)\n",
        "poly_interp = Polynomial.fit(x_known, y_known, deg=3)\n",
        "\n",
        "# Memasang indeks titik data yang akan diisi (NaN)\n",
        "fill_indices = trainFeatures.index[trainFeatures['pendapatan'].isnull()]\n",
        "\n",
        "# Isi nilai-nilai NaN dengan hasil interpolasi polinomial\n",
        "trainFeatures.loc[fill_indices, 'pendapatan'] = poly_interp(fill_indices)\n"
      ]
    },
    {
      "cell_type": "markdown",
      "metadata": {},
      "source": [
        "Pada saat ini sudah tidak terdapat nilai NaN lagi pada kolom **pendapatan**, sehingga dapat dilanjutkan pada proses analisis selanjutnya."
      ]
    },
    {
      "cell_type": "code",
      "execution_count": 135,
      "metadata": {},
      "outputs": [
        {
          "data": {
            "text/plain": [
              "count    3.814000e+03\n",
              "mean     1.144867e+08\n",
              "std      4.237273e+07\n",
              "min      5.073000e+06\n",
              "25%      8.263290e+07\n",
              "50%      1.147079e+08\n",
              "75%      1.479561e+08\n",
              "max      3.328840e+08\n",
              "Name: pendapatan, dtype: float64"
            ]
          },
          "execution_count": 135,
          "metadata": {},
          "output_type": "execute_result"
        }
      ],
      "source": [
        "trainFeatures.pendapatan.describe()"
      ]
    },
    {
      "cell_type": "markdown",
      "metadata": {},
      "source": [
        "## Kolom Jumlah Anak Balita"
      ]
    },
    {
      "cell_type": "markdown",
      "metadata": {},
      "source": [
        "### Cek Nilai Unique"
      ]
    },
    {
      "cell_type": "code",
      "execution_count": 136,
      "metadata": {},
      "outputs": [
        {
          "data": {
            "text/plain": [
              "array([ 0., nan,  1.,  2.])"
            ]
          },
          "execution_count": 136,
          "metadata": {},
          "output_type": "execute_result"
        }
      ],
      "source": [
        "trainFeatures['jumlah_anak_balita'].unique()"
      ]
    },
    {
      "cell_type": "markdown",
      "metadata": {},
      "source": [
        "Pada pengecekan nilai unique di atas, ditemukan nilai NaN yang perlu diganti dengan nilai lain."
      ]
    },
    {
      "cell_type": "markdown",
      "metadata": {},
      "source": [
        "### Hapus Nilai Null"
      ]
    },
    {
      "cell_type": "code",
      "execution_count": 137,
      "metadata": {},
      "outputs": [
        {
          "name": "stdout",
          "output_type": "stream",
          "text": [
            "int32\n"
          ]
        },
        {
          "name": "stderr",
          "output_type": "stream",
          "text": [
            "C:\\Users\\legion\\AppData\\Local\\Temp\\ipykernel_154016\\1495098697.py:1: FutureWarning: A value is trying to be set on a copy of a DataFrame or Series through chained assignment using an inplace method.\n",
            "The behavior will change in pandas 3.0. This inplace method will never work because the intermediate object on which we are setting values always behaves as a copy.\n",
            "\n",
            "For example, when doing 'df[col].method(value, inplace=True)', try using 'df.method({col: value}, inplace=True)' or df[col] = df[col].method(value) instead, to perform the operation inplace on the original object.\n",
            "\n",
            "\n",
            "  trainFeatures['jumlah_anak_balita'].fillna(0, inplace=True)\n"
          ]
        }
      ],
      "source": [
        "trainFeatures['jumlah_anak_balita'].fillna(0, inplace=True)\n",
        "trainFeatures['jumlah_anak_balita'] = trainFeatures['jumlah_anak_balita'].astype(int)\n",
        "print(trainFeatures['jumlah_anak_balita'].dtype)"
      ]
    },
    {
      "cell_type": "code",
      "execution_count": 138,
      "metadata": {},
      "outputs": [
        {
          "data": {
            "text/plain": [
              "array([0, 1, 2])"
            ]
          },
          "execution_count": 138,
          "metadata": {},
          "output_type": "execute_result"
        }
      ],
      "source": [
        "# Cek Nilai Unique Ulang\n",
        "trainFeatures['jumlah_anak_balita'].unique()"
      ]
    },
    {
      "cell_type": "markdown",
      "metadata": {},
      "source": [
        "Pada proses ini, langkah yang diambil adalah mengubah nilai NaN menjadi **0** dengan asumsi setiap nilai NaN diartikan baris data penduduk tersebut memiliki jumlah anak balita sebanyak **0**."
      ]
    },
    {
      "cell_type": "markdown",
      "metadata": {},
      "source": [
        "## Kolom Jumlah Anak Remaja"
      ]
    },
    {
      "cell_type": "markdown",
      "metadata": {},
      "source": [
        "### Cek Nilai Unique"
      ]
    },
    {
      "cell_type": "code",
      "execution_count": 139,
      "metadata": {},
      "outputs": [
        {
          "data": {
            "text/plain": [
              "array([ 1., nan,  0.,  2.])"
            ]
          },
          "execution_count": 139,
          "metadata": {},
          "output_type": "execute_result"
        }
      ],
      "source": [
        "trainFeatures['jumlah_anak_remaja'].unique()"
      ]
    },
    {
      "cell_type": "markdown",
      "metadata": {},
      "source": [
        "Sama seperti pada kasus kolom *jumlah anak balita*, terdapat nilai NaN pada kolom *jumlah anak remaja* yang perlu diubah dengan nilai lainnya."
      ]
    },
    {
      "cell_type": "markdown",
      "metadata": {},
      "source": [
        "### Hapus Nilai Null"
      ]
    },
    {
      "cell_type": "code",
      "execution_count": 140,
      "metadata": {},
      "outputs": [
        {
          "name": "stdout",
          "output_type": "stream",
          "text": [
            "int32\n"
          ]
        },
        {
          "name": "stderr",
          "output_type": "stream",
          "text": [
            "C:\\Users\\legion\\AppData\\Local\\Temp\\ipykernel_154016\\1161122337.py:1: FutureWarning: A value is trying to be set on a copy of a DataFrame or Series through chained assignment using an inplace method.\n",
            "The behavior will change in pandas 3.0. This inplace method will never work because the intermediate object on which we are setting values always behaves as a copy.\n",
            "\n",
            "For example, when doing 'df[col].method(value, inplace=True)', try using 'df.method({col: value}, inplace=True)' or df[col] = df[col].method(value) instead, to perform the operation inplace on the original object.\n",
            "\n",
            "\n",
            "  trainFeatures['jumlah_anak_remaja'].fillna(0, inplace=True)\n"
          ]
        }
      ],
      "source": [
        "trainFeatures['jumlah_anak_remaja'].fillna(0, inplace=True)\n",
        "trainFeatures['jumlah_anak_remaja'] = trainFeatures['jumlah_anak_remaja'].astype(int)\n",
        "print(trainFeatures['jumlah_anak_remaja'].dtype)"
      ]
    },
    {
      "cell_type": "code",
      "execution_count": 141,
      "metadata": {},
      "outputs": [
        {
          "data": {
            "text/plain": [
              "array([1, 0, 2])"
            ]
          },
          "execution_count": 141,
          "metadata": {},
          "output_type": "execute_result"
        }
      ],
      "source": [
        "# Cek Nilai Unique Ulang\n",
        "trainFeatures['jumlah_anak_remaja'].unique()"
      ]
    },
    {
      "cell_type": "markdown",
      "metadata": {},
      "source": [
        "Hasil pada kolom *jumlah anak remaja* juga mirip dengan hasil kolom *jumlah anak balita*, yaitu dengan mengubah nilai NaN dengan nilai **0**. Sebagai asumsi bahwa nilai NaN berarti baris data penduduk tersebut tidak memiliki anak remaja."
      ]
    },
    {
      "cell_type": "markdown",
      "metadata": {},
      "source": [
        "## Kolom Terakhir Belanja"
      ]
    },
    {
      "cell_type": "markdown",
      "metadata": {},
      "source": [
        "### Cek Nilai Unique"
      ]
    },
    {
      "cell_type": "code",
      "execution_count": 142,
      "metadata": {},
      "outputs": [
        {
          "data": {
            "text/plain": [
              "array([ nan,  70.,  45.,  90.,  78.,   9.,  96.,  21.,  26.,  67.,  59.,\n",
              "        57.,   5.,  65.,  61.,  25.,  16.,   0.,  50.,  69.,  84.,  56.,\n",
              "        54.,  17.,  51.,  29.,  73.,  60.,  87.,  62.,  41.,  35.,   3.,\n",
              "        36.,  58.,  64.,  55.,  12.,  19.,  30.,  28.,  11., 114.,   4.,\n",
              "        76.,  85.,  15.,  80.,  81.,  37.,  47.,  18.,  20.,   6.,  77.,\n",
              "        22.,  32.,  75.,  43.,  31.,  23.,  44.,  66.,  68.,  79.,  99.,\n",
              "        39.,  46.,  33.,  27.,   8.,  14., 100.,  91.,  49.,  92.,  52.,\n",
              "         7.,  48.,  82.,  72.,  89.,  34.,  63.,  94.,  86.,  74.,  53.,\n",
              "        13.,  71.,  83.,  38.,   1.,  97.,  88.,  93.,  40.,   2.,  24.,\n",
              "       105.,  10., 102.,  42., 103.,  95., 101., 106., 128.,  98., 104.,\n",
              "       108., 122., 112., 124.])"
            ]
          },
          "execution_count": 142,
          "metadata": {},
          "output_type": "execute_result"
        }
      ],
      "source": [
        "trainFeatures['terakhir_belanja'].unique()"
      ]
    },
    {
      "cell_type": "markdown",
      "metadata": {},
      "source": [
        "Pada pengecekan nilai unique, hasilnya terdapat nilai NaN yang terkandung didalam kolom *terakhir belanja*. Maka perlu dilakukan pengecekan batas minimum dan maksimum data serta nilai statistik lainnya seperti rata-rata untuk mengubah nilai NaN ini dengan sajian nilai Unique yang lebih rapi."
      ]
    },
    {
      "cell_type": "markdown",
      "metadata": {},
      "source": [
        "### Cek Nilai Min dan Max"
      ]
    },
    {
      "cell_type": "code",
      "execution_count": 143,
      "metadata": {},
      "outputs": [
        {
          "name": "stdout",
          "output_type": "stream",
          "text": [
            "Nilai maksimal dari kolom terakhir belanja adalah 128.0\n",
            "Nilai minimal dari kolom terakhir belanja adalah 0.0\n"
          ]
        }
      ],
      "source": [
        "nilaiMax = trainFeatures.terakhir_belanja.max()\n",
        "nilaiMin = trainFeatures.terakhir_belanja.min()\n",
        "\n",
        "print('Nilai maksimal dari kolom terakhir belanja adalah', nilaiMax)\n",
        "print('Nilai minimal dari kolom terakhir belanja adalah', nilaiMin)"
      ]
    },
    {
      "cell_type": "markdown",
      "metadata": {},
      "source": [
        "Dikarenakan tidak adanya acuan data tambahan dari kolom *terakhir belanja*, maka langkah yang diambil adalah mengubah setiap nilai NaN menjadi nilai rata-rata."
      ]
    },
    {
      "cell_type": "markdown",
      "metadata": {},
      "source": [
        "### Ubah Nilai Null dengan Rata-Rata"
      ]
    },
    {
      "cell_type": "code",
      "execution_count": 144,
      "metadata": {},
      "outputs": [
        {
          "data": {
            "text/plain": [
              "47.23338824821526"
            ]
          },
          "execution_count": 144,
          "metadata": {},
          "output_type": "execute_result"
        }
      ],
      "source": [
        "rata2 = trainFeatures['terakhir_belanja'].mean()\n",
        "rata2"
      ]
    },
    {
      "cell_type": "markdown",
      "metadata": {},
      "source": [
        "Didapatkan nilai **47.23338824821526** yang perlu dibulatkan, untuk mengubah nilai NaN dengan nilai ini."
      ]
    },
    {
      "cell_type": "code",
      "execution_count": 145,
      "metadata": {},
      "outputs": [
        {
          "name": "stdout",
          "output_type": "stream",
          "text": [
            "int32\n"
          ]
        }
      ],
      "source": [
        "trainFeatures['terakhir_belanja'] = trainFeatures['terakhir_belanja'].fillna(rata2)\n",
        "trainFeatures['terakhir_belanja'] = trainFeatures['terakhir_belanja'].astype(int)\n",
        "print(trainFeatures['terakhir_belanja'].dtype)"
      ]
    },
    {
      "cell_type": "markdown",
      "metadata": {},
      "source": [
        "Pembulatan nilai pada kolom *terakhir belanja* dilakukan dengan cara pengubahan tipe data dari float menjadi integer."
      ]
    },
    {
      "cell_type": "code",
      "execution_count": 146,
      "metadata": {},
      "outputs": [
        {
          "data": {
            "text/plain": [
              "array([  0,   1,   2,   3,   4,   5,   6,   7,   8,   9,  10,  11,  12,\n",
              "        13,  14,  15,  16,  17,  18,  19,  20,  21,  22,  23,  24,  25,\n",
              "        26,  27,  28,  29,  30,  31,  32,  33,  34,  35,  36,  37,  38,\n",
              "        39,  40,  41,  42,  43,  44,  45,  46,  47,  48,  49,  50,  51,\n",
              "        52,  53,  54,  55,  56,  57,  58,  59,  60,  61,  62,  63,  64,\n",
              "        65,  66,  67,  68,  69,  70,  71,  72,  73,  74,  75,  76,  77,\n",
              "        78,  79,  80,  81,  82,  83,  84,  85,  86,  87,  88,  89,  90,\n",
              "        91,  92,  93,  94,  95,  96,  97,  98,  99, 100, 101, 102, 103,\n",
              "       104, 105, 106, 108, 112, 114, 122, 124, 128])"
            ]
          },
          "execution_count": 146,
          "metadata": {},
          "output_type": "execute_result"
        }
      ],
      "source": [
        "# Cek Ulang Nilai Unique\n",
        "nilaiTerurut = np.sort(trainFeatures['terakhir_belanja'].unique())\n",
        "nilaiTerurut"
      ]
    },
    {
      "cell_type": "markdown",
      "metadata": {},
      "source": [
        "## Kolom Belanja Buah\n",
        "\n",
        "Pada kolom **belanja buah**, juga masih terdapat nilai NaN yang harus dipenuhi. Untuk langkah yang diambil yaitu mengisi dengan mempertimbangkan kolom lain yang secara logis masih memiliki hubungan dengan kolom **belanja_buah**. Hal ini bertujuan agar pengisian data bervariasi tetapi masih memiliki alasan yang masuk jelas. Kolom yang dipilih adalah **pendapatan**."
      ]
    },
    {
      "cell_type": "code",
      "execution_count": 147,
      "metadata": {},
      "outputs": [
        {
          "data": {
            "text/html": [
              "<div>\n",
              "<style scoped>\n",
              "    .dataframe tbody tr th:only-of-type {\n",
              "        vertical-align: middle;\n",
              "    }\n",
              "\n",
              "    .dataframe tbody tr th {\n",
              "        vertical-align: top;\n",
              "    }\n",
              "\n",
              "    .dataframe thead th {\n",
              "        text-align: right;\n",
              "    }\n",
              "</style>\n",
              "<table border=\"1\" class=\"dataframe\">\n",
              "  <thead>\n",
              "    <tr style=\"text-align: right;\">\n",
              "      <th></th>\n",
              "      <th>tahun_kelahiran</th>\n",
              "      <th>pendidikan</th>\n",
              "      <th>status_pernikahan</th>\n",
              "      <th>pendapatan</th>\n",
              "      <th>jumlah_anak_balita</th>\n",
              "      <th>jumlah_anak_remaja</th>\n",
              "      <th>terakhir_belanja</th>\n",
              "      <th>belanja_buah</th>\n",
              "      <th>belanja_daging</th>\n",
              "      <th>belanja_ikan</th>\n",
              "      <th>belanja_kue</th>\n",
              "      <th>pembelian_diskon</th>\n",
              "      <th>pembelian_web</th>\n",
              "      <th>pembelian_toko</th>\n",
              "      <th>keluhan</th>\n",
              "      <th>tanggal_menjadi_anggota</th>\n",
              "    </tr>\n",
              "  </thead>\n",
              "  <tbody>\n",
              "    <tr>\n",
              "      <th>0</th>\n",
              "      <td>1979</td>\n",
              "      <td>Sarjana</td>\n",
              "      <td>Rencana Menikah</td>\n",
              "      <td>1.113772e+08</td>\n",
              "      <td>0</td>\n",
              "      <td>1</td>\n",
              "      <td>47</td>\n",
              "      <td>50575.0</td>\n",
              "      <td>260967.0</td>\n",
              "      <td>50575.0</td>\n",
              "      <td>20230.0</td>\n",
              "      <td>2.0</td>\n",
              "      <td>2.0</td>\n",
              "      <td>5.0</td>\n",
              "      <td>0.0</td>\n",
              "      <td>2014-05-05</td>\n",
              "    </tr>\n",
              "    <tr>\n",
              "      <th>1</th>\n",
              "      <td>1950</td>\n",
              "      <td>Sarjana</td>\n",
              "      <td>Rencana Menikah</td>\n",
              "      <td>8.406300e+07</td>\n",
              "      <td>0</td>\n",
              "      <td>0</td>\n",
              "      <td>70</td>\n",
              "      <td>6069.0</td>\n",
              "      <td>44506.0</td>\n",
              "      <td>80920.0</td>\n",
              "      <td>20230.0</td>\n",
              "      <td>9.0</td>\n",
              "      <td>6.0</td>\n",
              "      <td>4.0</td>\n",
              "      <td>0.0</td>\n",
              "      <td>2013-03-17</td>\n",
              "    </tr>\n",
              "    <tr>\n",
              "      <th>2</th>\n",
              "      <td>1966</td>\n",
              "      <td>Sarjana</td>\n",
              "      <td>Menikah</td>\n",
              "      <td>1.275326e+08</td>\n",
              "      <td>0</td>\n",
              "      <td>0</td>\n",
              "      <td>45</td>\n",
              "      <td>117611.0</td>\n",
              "      <td>265460.0</td>\n",
              "      <td>96341.0</td>\n",
              "      <td>145573.0</td>\n",
              "      <td>1.0</td>\n",
              "      <td>1.0</td>\n",
              "      <td>7.0</td>\n",
              "      <td>0.0</td>\n",
              "      <td>NaN</td>\n",
              "    </tr>\n",
              "    <tr>\n",
              "      <th>3</th>\n",
              "      <td>1961</td>\n",
              "      <td>Magister</td>\n",
              "      <td>Rencana Menikah</td>\n",
              "      <td>1.655796e+08</td>\n",
              "      <td>0</td>\n",
              "      <td>0</td>\n",
              "      <td>90</td>\n",
              "      <td>206346.0</td>\n",
              "      <td>1613901.0</td>\n",
              "      <td>27725.0</td>\n",
              "      <td>125868.0</td>\n",
              "      <td>0.0</td>\n",
              "      <td>7.0</td>\n",
              "      <td>8.0</td>\n",
              "      <td>0.0</td>\n",
              "      <td>NaN</td>\n",
              "    </tr>\n",
              "    <tr>\n",
              "      <th>4</th>\n",
              "      <td>1970</td>\n",
              "      <td>Sarjana</td>\n",
              "      <td>Rencana Menikah</td>\n",
              "      <td>1.177032e+08</td>\n",
              "      <td>1</td>\n",
              "      <td>1</td>\n",
              "      <td>78</td>\n",
              "      <td>90563.0</td>\n",
              "      <td>311757.0</td>\n",
              "      <td>40358.0</td>\n",
              "      <td>33875.0</td>\n",
              "      <td>7.0</td>\n",
              "      <td>6.0</td>\n",
              "      <td>5.0</td>\n",
              "      <td>0.0</td>\n",
              "      <td>NaN</td>\n",
              "    </tr>\n",
              "  </tbody>\n",
              "</table>\n",
              "</div>"
            ],
            "text/plain": [
              "   tahun_kelahiran pendidikan status_pernikahan    pendapatan  \\\n",
              "0             1979    Sarjana   Rencana Menikah  1.113772e+08   \n",
              "1             1950    Sarjana   Rencana Menikah  8.406300e+07   \n",
              "2             1966    Sarjana           Menikah  1.275326e+08   \n",
              "3             1961   Magister   Rencana Menikah  1.655796e+08   \n",
              "4             1970    Sarjana   Rencana Menikah  1.177032e+08   \n",
              "\n",
              "   jumlah_anak_balita  jumlah_anak_remaja  terakhir_belanja  belanja_buah  \\\n",
              "0                   0                   1                47       50575.0   \n",
              "1                   0                   0                70        6069.0   \n",
              "2                   0                   0                45      117611.0   \n",
              "3                   0                   0                90      206346.0   \n",
              "4                   1                   1                78       90563.0   \n",
              "\n",
              "   belanja_daging  belanja_ikan  belanja_kue  pembelian_diskon  pembelian_web  \\\n",
              "0        260967.0       50575.0      20230.0               2.0            2.0   \n",
              "1         44506.0       80920.0      20230.0               9.0            6.0   \n",
              "2        265460.0       96341.0     145573.0               1.0            1.0   \n",
              "3       1613901.0       27725.0     125868.0               0.0            7.0   \n",
              "4        311757.0       40358.0      33875.0               7.0            6.0   \n",
              "\n",
              "   pembelian_toko  keluhan tanggal_menjadi_anggota  \n",
              "0             5.0      0.0              2014-05-05  \n",
              "1             4.0      0.0              2013-03-17  \n",
              "2             7.0      0.0                     NaN  \n",
              "3             8.0      0.0                     NaN  \n",
              "4             5.0      0.0                     NaN  "
            ]
          },
          "execution_count": 147,
          "metadata": {},
          "output_type": "execute_result"
        }
      ],
      "source": [
        "trainFeatures.head()"
      ]
    },
    {
      "cell_type": "markdown",
      "metadata": {},
      "source": [
        "### Segmentasi Pendapatan\n",
        "\n",
        "Sebab menggunakan kolom **pendapatan**, maka perlu dilakukan proses segmentasi pendapatan konsumen agar pengguna terkategori berdasarkan pendapatannya. Untuk langkah yang dilakukan yaitu menganalisis kuartil data pendapatan."
      ]
    },
    {
      "cell_type": "code",
      "execution_count": 163,
      "metadata": {},
      "outputs": [
        {
          "name": "stdout",
          "output_type": "stream",
          "text": [
            "Q1 pendapatan: 82567412.0\n",
            "Q2 pendapatan: 114645581.52841234\n",
            "Q3 pendapatan: 147910835.75\n"
          ]
        }
      ],
      "source": [
        "# Mengambil setiap kuartil pendapatan untuk segmentasi pendapatan\n",
        "qPendapatan1 = trainFeatures.pendapatan.quantile(0.25)\n",
        "qPendapatan2 = trainFeatures.pendapatan.quantile(0.5)\n",
        "qPendapatan3 = trainFeatures.pendapatan.quantile(0.75)"
      ]
    },
    {
      "cell_type": "markdown",
      "metadata": {},
      "source": [
        "Dari hasil pengambilan nilai tiap kuartil, didapatkan hasil seperti berikut:"
      ]
    },
    {
      "cell_type": "code",
      "execution_count": 164,
      "metadata": {},
      "outputs": [
        {
          "name": "stdout",
          "output_type": "stream",
          "text": [
            "Q1 pendapatan: 82567412.0\n",
            "Q2 pendapatan: 114645581.52841234\n",
            "Q3 pendapatan: 147910835.75\n"
          ]
        }
      ],
      "source": [
        "print('Q1 pendapatan:', qPendapatan1)\n",
        "print('Q2 pendapatan:', qPendapatan2)\n",
        "print('Q3 pendapatan:', qPendapatan3)"
      ]
    },
    {
      "cell_type": "markdown",
      "metadata": {},
      "source": [
        "Setelah mendapatkan nilai tiap kuartil, selanjutnya yaitu melakukan segmentasi konsumen dengan menggunakan batas-batas segmen pendapatan. Hasilnya akan dicetak pada satu kolom baru berisi label segmen pendapatan."
      ]
    },
    {
      "cell_type": "code",
      "execution_count": 150,
      "metadata": {},
      "outputs": [
        {
          "data": {
            "text/html": [
              "<div>\n",
              "<style scoped>\n",
              "    .dataframe tbody tr th:only-of-type {\n",
              "        vertical-align: middle;\n",
              "    }\n",
              "\n",
              "    .dataframe tbody tr th {\n",
              "        vertical-align: top;\n",
              "    }\n",
              "\n",
              "    .dataframe thead th {\n",
              "        text-align: right;\n",
              "    }\n",
              "</style>\n",
              "<table border=\"1\" class=\"dataframe\">\n",
              "  <thead>\n",
              "    <tr style=\"text-align: right;\">\n",
              "      <th></th>\n",
              "      <th>tahun_kelahiran</th>\n",
              "      <th>pendidikan</th>\n",
              "      <th>status_pernikahan</th>\n",
              "      <th>pendapatan</th>\n",
              "      <th>jumlah_anak_balita</th>\n",
              "      <th>jumlah_anak_remaja</th>\n",
              "      <th>terakhir_belanja</th>\n",
              "      <th>belanja_buah</th>\n",
              "      <th>belanja_daging</th>\n",
              "      <th>belanja_ikan</th>\n",
              "      <th>belanja_kue</th>\n",
              "      <th>pembelian_diskon</th>\n",
              "      <th>pembelian_web</th>\n",
              "      <th>pembelian_toko</th>\n",
              "      <th>keluhan</th>\n",
              "      <th>tanggal_menjadi_anggota</th>\n",
              "      <th>segmen_pendapatan</th>\n",
              "    </tr>\n",
              "  </thead>\n",
              "  <tbody>\n",
              "    <tr>\n",
              "      <th>0</th>\n",
              "      <td>1979</td>\n",
              "      <td>Sarjana</td>\n",
              "      <td>Rencana Menikah</td>\n",
              "      <td>1.113772e+08</td>\n",
              "      <td>0</td>\n",
              "      <td>1</td>\n",
              "      <td>47</td>\n",
              "      <td>50575.0</td>\n",
              "      <td>260967.0</td>\n",
              "      <td>50575.0</td>\n",
              "      <td>20230.0</td>\n",
              "      <td>2.0</td>\n",
              "      <td>2.0</td>\n",
              "      <td>5.0</td>\n",
              "      <td>0.0</td>\n",
              "      <td>2014-05-05</td>\n",
              "      <td>sedang</td>\n",
              "    </tr>\n",
              "    <tr>\n",
              "      <th>1</th>\n",
              "      <td>1950</td>\n",
              "      <td>Sarjana</td>\n",
              "      <td>Rencana Menikah</td>\n",
              "      <td>8.406300e+07</td>\n",
              "      <td>0</td>\n",
              "      <td>0</td>\n",
              "      <td>70</td>\n",
              "      <td>6069.0</td>\n",
              "      <td>44506.0</td>\n",
              "      <td>80920.0</td>\n",
              "      <td>20230.0</td>\n",
              "      <td>9.0</td>\n",
              "      <td>6.0</td>\n",
              "      <td>4.0</td>\n",
              "      <td>0.0</td>\n",
              "      <td>2013-03-17</td>\n",
              "      <td>sedang</td>\n",
              "    </tr>\n",
              "    <tr>\n",
              "      <th>2</th>\n",
              "      <td>1966</td>\n",
              "      <td>Sarjana</td>\n",
              "      <td>Menikah</td>\n",
              "      <td>1.275326e+08</td>\n",
              "      <td>0</td>\n",
              "      <td>0</td>\n",
              "      <td>45</td>\n",
              "      <td>117611.0</td>\n",
              "      <td>265460.0</td>\n",
              "      <td>96341.0</td>\n",
              "      <td>145573.0</td>\n",
              "      <td>1.0</td>\n",
              "      <td>1.0</td>\n",
              "      <td>7.0</td>\n",
              "      <td>0.0</td>\n",
              "      <td>NaN</td>\n",
              "      <td>tinggi</td>\n",
              "    </tr>\n",
              "    <tr>\n",
              "      <th>3</th>\n",
              "      <td>1961</td>\n",
              "      <td>Magister</td>\n",
              "      <td>Rencana Menikah</td>\n",
              "      <td>1.655796e+08</td>\n",
              "      <td>0</td>\n",
              "      <td>0</td>\n",
              "      <td>90</td>\n",
              "      <td>206346.0</td>\n",
              "      <td>1613901.0</td>\n",
              "      <td>27725.0</td>\n",
              "      <td>125868.0</td>\n",
              "      <td>0.0</td>\n",
              "      <td>7.0</td>\n",
              "      <td>8.0</td>\n",
              "      <td>0.0</td>\n",
              "      <td>NaN</td>\n",
              "      <td>sangat tinggi</td>\n",
              "    </tr>\n",
              "    <tr>\n",
              "      <th>4</th>\n",
              "      <td>1970</td>\n",
              "      <td>Sarjana</td>\n",
              "      <td>Rencana Menikah</td>\n",
              "      <td>1.177032e+08</td>\n",
              "      <td>1</td>\n",
              "      <td>1</td>\n",
              "      <td>78</td>\n",
              "      <td>90563.0</td>\n",
              "      <td>311757.0</td>\n",
              "      <td>40358.0</td>\n",
              "      <td>33875.0</td>\n",
              "      <td>7.0</td>\n",
              "      <td>6.0</td>\n",
              "      <td>5.0</td>\n",
              "      <td>0.0</td>\n",
              "      <td>NaN</td>\n",
              "      <td>tinggi</td>\n",
              "    </tr>\n",
              "  </tbody>\n",
              "</table>\n",
              "</div>"
            ],
            "text/plain": [
              "   tahun_kelahiran pendidikan status_pernikahan    pendapatan  \\\n",
              "0             1979    Sarjana   Rencana Menikah  1.113772e+08   \n",
              "1             1950    Sarjana   Rencana Menikah  8.406300e+07   \n",
              "2             1966    Sarjana           Menikah  1.275326e+08   \n",
              "3             1961   Magister   Rencana Menikah  1.655796e+08   \n",
              "4             1970    Sarjana   Rencana Menikah  1.177032e+08   \n",
              "\n",
              "   jumlah_anak_balita  jumlah_anak_remaja  terakhir_belanja  belanja_buah  \\\n",
              "0                   0                   1                47       50575.0   \n",
              "1                   0                   0                70        6069.0   \n",
              "2                   0                   0                45      117611.0   \n",
              "3                   0                   0                90      206346.0   \n",
              "4                   1                   1                78       90563.0   \n",
              "\n",
              "   belanja_daging  belanja_ikan  belanja_kue  pembelian_diskon  pembelian_web  \\\n",
              "0        260967.0       50575.0      20230.0               2.0            2.0   \n",
              "1         44506.0       80920.0      20230.0               9.0            6.0   \n",
              "2        265460.0       96341.0     145573.0               1.0            1.0   \n",
              "3       1613901.0       27725.0     125868.0               0.0            7.0   \n",
              "4        311757.0       40358.0      33875.0               7.0            6.0   \n",
              "\n",
              "   pembelian_toko  keluhan tanggal_menjadi_anggota segmen_pendapatan  \n",
              "0             5.0      0.0              2014-05-05            sedang  \n",
              "1             4.0      0.0              2013-03-17            sedang  \n",
              "2             7.0      0.0                     NaN            tinggi  \n",
              "3             8.0      0.0                     NaN     sangat tinggi  \n",
              "4             5.0      0.0                     NaN            tinggi  "
            ]
          },
          "execution_count": 150,
          "metadata": {},
          "output_type": "execute_result"
        }
      ],
      "source": [
        "# Tentukan batas-batas segmen pendapatan\n",
        "batas_pendapatan = [0, qPendapatan1, qPendapatan2, qPendapatan3, float('inf')]  # 'inf' menunjukkan tak terhingga\n",
        "\n",
        "# Tentukan label untuk masing-masing segmen\n",
        "label_segmen = ['rendah', 'sedang', 'tinggi', 'sangat tinggi']\n",
        "\n",
        "# Buat kolom 'segmen_pendapatan' berdasarkan segmentasi pendapatan\n",
        "trainFeatures['segmen_pendapatan'] = pd.cut(trainFeatures['pendapatan'], bins=batas_pendapatan, labels=label_segmen)\n",
        "trainFeatures.head()\n"
      ]
    },
    {
      "cell_type": "markdown",
      "metadata": {},
      "source": [
        "### Pengisian Nilai NaN\n",
        "\n",
        "Pengisian nilai NaN dilakukan dengan cara mengambil sampel nilai pendapatan pada kolom **pendapatan** berdasarkan segmentasi pendapatan pada kolom **segmen_pendapatan**. Setelah itu, dilakukan prediksi yang hasilnya akan dimasukkan sebagai pengganti nilai NaN. \n",
        "\n",
        "Untuk fitur x diambil dari kolom **pendapatan** (non null) dan fitur y diambil dari kolom **belanja buah** hanya nilai yang non null saja. Prediksi dilakukan menggunakan *Random Forest*."
      ]
    },
    {
      "cell_type": "code",
      "execution_count": 152,
      "metadata": {},
      "outputs": [],
      "source": [
        "for segmen in trainFeatures['segmen_pendapatan'].unique():\n",
        "    # Pisahkan data segmen berdasarkan nilai segmen pada baris saat ini\n",
        "    segment_df = trainFeatures[trainFeatures['segmen_pendapatan'] == segmen]\n",
        "    \n",
        "    # Filter data yang memiliki nilai non-null dalam kolom 'belanja_buah' di dalam segmen ini\n",
        "    valid_data = segment_df.dropna(subset=['belanja_buah'])\n",
        "    if valid_data.empty:\n",
        "        continue  # Lewati segmen jika tidak ada data yang valid\n",
        "    \n",
        "    # Pisahkan fitur (X) dan target (y) dari data yang valid\n",
        "    X_train = np.array(valid_data['pendapatan']).reshape(-1, 1)\n",
        "    y_train = np.array(valid_data['belanja_buah'])\n",
        "    \n",
        "    # Train model Random Forest\n",
        "    rf_model = RandomForestRegressor()\n",
        "    rf_model.fit(X_train, y_train)\n",
        "    \n",
        "    for i, row in trainFeatures.iterrows():\n",
        "        # Seleksi nilai hanya yang null\n",
        "        if np.isnan(row['belanja_buah']):\n",
        "            # Prediksi nilai 'belanja_buah'\n",
        "            predicted_value = rf_model.predict(np.array(row['pendapatan']).reshape(1, -1))\n",
        "            trainFeatures.at[i, 'belanja_buah'] = predicted_value"
      ]
    },
    {
      "cell_type": "code",
      "execution_count": 165,
      "metadata": {},
      "outputs": [
        {
          "data": {
            "text/plain": [
              "0"
            ]
          },
          "execution_count": 165,
          "metadata": {},
          "output_type": "execute_result"
        }
      ],
      "source": [
        "# Cek jumlah data dengan nilai null\n",
        "trainFeatures.belanja_buah.isna().sum()"
      ]
    },
    {
      "cell_type": "markdown",
      "metadata": {},
      "source": [
        "Saat ini kolom **belanja buah** sudah tidak ada nilai null lagi"
      ]
    },
    {
      "cell_type": "markdown",
      "metadata": {},
      "source": [
        "# Exploratory Data Analysis (EDA)"
      ]
    },
    {
      "cell_type": "markdown",
      "metadata": {},
      "source": [
        "## Analisis Outliers"
      ]
    },
    {
      "cell_type": "code",
      "execution_count": 156,
      "metadata": {},
      "outputs": [
        {
          "name": "stdout",
          "output_type": "stream",
          "text": [
            "Tidak ada outlier lagi.\n"
          ]
        }
      ],
      "source": [
        "while True:\n",
        "    Q1 = trainFeatures['pendapatan'].quantile(0.25)\n",
        "    Q3 = trainFeatures['pendapatan'].quantile(0.75)\n",
        "    IQR = Q3 - Q1\n",
        "\n",
        "    Upper_Fence = Q3 + 1.5 * IQR\n",
        "    Lower_Fence = Q1 - 1.5 * IQR\n",
        "\n",
        "    outliers = trainFeatures[(trainFeatures['pendapatan'] < Lower_Fence) | (trainFeatures['pendapatan'] > Upper_Fence)]['pendapatan']\n",
        "\n",
        "    if outliers.empty:\n",
        "        print(\"Tidak ada outlier lagi.\")\n",
        "        break\n",
        "    else:\n",
        "        trainFeatures = trainFeatures[(trainFeatures['pendapatan'] >= Lower_Fence) & (trainFeatures['pendapatan'] <= Upper_Fence)]"
      ]
    },
    {
      "cell_type": "code",
      "execution_count": 157,
      "metadata": {},
      "outputs": [
        {
          "data": {
            "image/png": "[encoded data removed]",
            "text/plain": [
              "<Figure size 1000x600 with 1 Axes>"
            ]
          },
          "metadata": {},
          "output_type": "display_data"
        }
      ],
      "source": [
        "plt.figure(figsize=(10, 6))\n",
        "plt.boxplot(trainFeatures['pendapatan'])\n",
        "plt.ylabel('Nilai Pendapatan')\n",
        "plt.title('Boxplot Pendapatan setelah Penanganan Outlier')\n",
        "plt.xticks([1], ['Pendapatan'])\n",
        "plt.show()"
      ]
    }
  ],
  "metadata": {
    "colab": {
      "provenance": []
    },
    "kernelspec": {
      "display_name": "Python 3",
      "name": "python3"
    },
    "language_info": {
      "codemirror_mode": {
        "name": "ipython",
        "version": 3
      },
      "file_extension": ".py",
      "mimetype": "text/x-python",
      "name": "python",
      "nbconvert_exporter": "python",
      "pygments_lexer": "ipython3",
      "version": "3.12.2"
    }
  },
  "nbformat": 4,
  "nbformat_minor": 0
}
