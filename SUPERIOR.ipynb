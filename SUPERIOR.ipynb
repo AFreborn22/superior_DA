{
  "cells": [
    {
      "cell_type": "code",
      "execution_count": 1,
      "metadata": {
        "id": "2D7mxTB1mgCA"
      },
      "outputs": [],
      "source": [
        "import pandas as pd\n",
        "import numpy as np\n",
        "import  matplotlib.pyplot as plt\n",
        "import seaborn as sns\n",
        "\n",
        "from numpy.polynomial.polynomial import Polynomial\n",
        "from sklearn.ensemble import RandomForestRegressor\n",
        "\n",
        "# import sklearn.neighbors._base\n",
        "# import sys\n",
        "# sys.modules['sklearn.neighbors.base'] = sklearn.neighbors._base\n",
        "# from missingpy import MissForest"
      ]
    },
    {
      "cell_type": "code",
      "execution_count": 2,
      "metadata": {
        "id": "bEo06P7Sm8sH"
      },
      "outputs": [],
      "source": [
        "trainFeatures = pd.read_csv('data/train_features.csv')\n",
        "testFeatures = pd.read_csv('data/test_features.csv')\n",
        "trainLabels = pd.read_csv('data/train_labels.csv')\n",
        "example = pd.read_csv('data/submission_format.csv')"
      ]
    },
    {
      "cell_type": "code",
      "execution_count": 3,
      "metadata": {
        "colab": {
          "base_uri": "https://localhost:8080/",
          "height": 226
        },
        "id": "mMKQlPZyoteI",
        "outputId": "b6cca7e9-3b28-48e3-8a91-9c112fedd5b6"
      },
      "outputs": [
        {
          "data": {
            "text/html": [
              "<div>\n",
              "<style scoped>\n",
              "    .dataframe tbody tr th:only-of-type {\n",
              "        vertical-align: middle;\n",
              "    }\n",
              "\n",
              "    .dataframe tbody tr th {\n",
              "        vertical-align: top;\n",
              "    }\n",
              "\n",
              "    .dataframe thead th {\n",
              "        text-align: right;\n",
              "    }\n",
              "</style>\n",
              "<table border=\"1\" class=\"dataframe\">\n",
              "  <thead>\n",
              "    <tr style=\"text-align: right;\">\n",
              "      <th></th>\n",
              "      <th>tahun_kelahiran</th>\n",
              "      <th>pendidikan</th>\n",
              "      <th>status_pernikahan</th>\n",
              "      <th>pendapatan</th>\n",
              "      <th>jumlah_anak_balita</th>\n",
              "      <th>jumlah_anak_remaja</th>\n",
              "      <th>terakhir_belanja</th>\n",
              "      <th>belanja_buah</th>\n",
              "      <th>belanja_daging</th>\n",
              "      <th>belanja_ikan</th>\n",
              "      <th>belanja_kue</th>\n",
              "      <th>pembelian_diskon</th>\n",
              "      <th>pembelian_web</th>\n",
              "      <th>pembelian_toko</th>\n",
              "      <th>keluhan</th>\n",
              "      <th>tanggal_menjadi_anggota</th>\n",
              "    </tr>\n",
              "  </thead>\n",
              "  <tbody>\n",
              "    <tr>\n",
              "      <th>80</th>\n",
              "      <td>1961</td>\n",
              "      <td>Sarjana</td>\n",
              "      <td>Sendiri</td>\n",
              "      <td>152276450.0</td>\n",
              "      <td>0.0</td>\n",
              "      <td>0.0</td>\n",
              "      <td>20.0</td>\n",
              "      <td>118419.0</td>\n",
              "      <td>390780.0</td>\n",
              "      <td>114113.0</td>\n",
              "      <td>75835.0</td>\n",
              "      <td>2.0</td>\n",
              "      <td>9.0</td>\n",
              "      <td>4.0</td>\n",
              "      <td>0.0</td>\n",
              "      <td>NaN</td>\n",
              "    </tr>\n",
              "    <tr>\n",
              "      <th>81</th>\n",
              "      <td>1973</td>\n",
              "      <td>Magister</td>\n",
              "      <td>Rencana Menikah</td>\n",
              "      <td>165458484.0</td>\n",
              "      <td>0.0</td>\n",
              "      <td>0.0</td>\n",
              "      <td>60.0</td>\n",
              "      <td>282725.0</td>\n",
              "      <td>1520515.0</td>\n",
              "      <td>148755.0</td>\n",
              "      <td>125538.0</td>\n",
              "      <td>NaN</td>\n",
              "      <td>5.0</td>\n",
              "      <td>8.0</td>\n",
              "      <td>0.0</td>\n",
              "      <td>NaN</td>\n",
              "    </tr>\n",
              "    <tr>\n",
              "      <th>82</th>\n",
              "      <td>1968</td>\n",
              "      <td>Sarjana</td>\n",
              "      <td>Cerai</td>\n",
              "      <td>172329809.0</td>\n",
              "      <td>0.0</td>\n",
              "      <td>0.0</td>\n",
              "      <td>20.0</td>\n",
              "      <td>196777.0</td>\n",
              "      <td>774778.0</td>\n",
              "      <td>231114.0</td>\n",
              "      <td>287046.0</td>\n",
              "      <td>NaN</td>\n",
              "      <td>6.0</td>\n",
              "      <td>4.0</td>\n",
              "      <td>0.0</td>\n",
              "      <td>NaN</td>\n",
              "    </tr>\n",
              "    <tr>\n",
              "      <th>83</th>\n",
              "      <td>1979</td>\n",
              "      <td>Sarjana</td>\n",
              "      <td>Menikah</td>\n",
              "      <td>138817313.0</td>\n",
              "      <td>0.0</td>\n",
              "      <td>0.0</td>\n",
              "      <td>6.0</td>\n",
              "      <td>44506.0</td>\n",
              "      <td>931955.0</td>\n",
              "      <td>256516.0</td>\n",
              "      <td>60244.0</td>\n",
              "      <td>0.0</td>\n",
              "      <td>6.0</td>\n",
              "      <td>8.0</td>\n",
              "      <td>0.0</td>\n",
              "      <td>NaN</td>\n",
              "    </tr>\n",
              "    <tr>\n",
              "      <th>84</th>\n",
              "      <td>1962</td>\n",
              "      <td>SMA</td>\n",
              "      <td>Rencana Menikah</td>\n",
              "      <td>110928081.0</td>\n",
              "      <td>0.0</td>\n",
              "      <td>1.0</td>\n",
              "      <td>77.0</td>\n",
              "      <td>10634.0</td>\n",
              "      <td>46775.0</td>\n",
              "      <td>2815.0</td>\n",
              "      <td>1585.0</td>\n",
              "      <td>4.0</td>\n",
              "      <td>5.0</td>\n",
              "      <td>5.0</td>\n",
              "      <td>0.0</td>\n",
              "      <td>NaN</td>\n",
              "    </tr>\n",
              "    <tr>\n",
              "      <th>85</th>\n",
              "      <td>1974</td>\n",
              "      <td>Magister</td>\n",
              "      <td>Menikah</td>\n",
              "      <td>151599910.0</td>\n",
              "      <td>0.0</td>\n",
              "      <td>0.0</td>\n",
              "      <td>22.0</td>\n",
              "      <td>28441.0</td>\n",
              "      <td>514556.0</td>\n",
              "      <td>44208.0</td>\n",
              "      <td>25168.0</td>\n",
              "      <td>1.0</td>\n",
              "      <td>3.0</td>\n",
              "      <td>8.0</td>\n",
              "      <td>0.0</td>\n",
              "      <td>NaN</td>\n",
              "    </tr>\n",
              "    <tr>\n",
              "      <th>86</th>\n",
              "      <td>1971</td>\n",
              "      <td>Sarjana</td>\n",
              "      <td>Rencana Menikah</td>\n",
              "      <td>111202436.0</td>\n",
              "      <td>0.0</td>\n",
              "      <td>1.0</td>\n",
              "      <td>50.0</td>\n",
              "      <td>83817.0</td>\n",
              "      <td>382409.0</td>\n",
              "      <td>81305.0</td>\n",
              "      <td>235977.0</td>\n",
              "      <td>3.0</td>\n",
              "      <td>5.0</td>\n",
              "      <td>4.0</td>\n",
              "      <td>0.0</td>\n",
              "      <td>NaN</td>\n",
              "    </tr>\n",
              "    <tr>\n",
              "      <th>87</th>\n",
              "      <td>1975</td>\n",
              "      <td>Magister</td>\n",
              "      <td>NaN</td>\n",
              "      <td>164601983.0</td>\n",
              "      <td>0.0</td>\n",
              "      <td>0.0</td>\n",
              "      <td>NaN</td>\n",
              "      <td>66647.0</td>\n",
              "      <td>NaN</td>\n",
              "      <td>102878.0</td>\n",
              "      <td>121044.0</td>\n",
              "      <td>0.0</td>\n",
              "      <td>5.0</td>\n",
              "      <td>7.0</td>\n",
              "      <td>0.0</td>\n",
              "      <td>NaN</td>\n",
              "    </tr>\n",
              "    <tr>\n",
              "      <th>88</th>\n",
              "      <td>1947</td>\n",
              "      <td>SMA</td>\n",
              "      <td>Cerai</td>\n",
              "      <td>151115234.0</td>\n",
              "      <td>0.0</td>\n",
              "      <td>0.0</td>\n",
              "      <td>55.0</td>\n",
              "      <td>144766.0</td>\n",
              "      <td>1192829.0</td>\n",
              "      <td>258158.0</td>\n",
              "      <td>197764.0</td>\n",
              "      <td>2.0</td>\n",
              "      <td>7.0</td>\n",
              "      <td>10.0</td>\n",
              "      <td>0.0</td>\n",
              "      <td>NaN</td>\n",
              "    </tr>\n",
              "    <tr>\n",
              "      <th>89</th>\n",
              "      <td>1980</td>\n",
              "      <td>Magister</td>\n",
              "      <td>Menikah</td>\n",
              "      <td>105661000.0</td>\n",
              "      <td>0.0</td>\n",
              "      <td>0.0</td>\n",
              "      <td>77.0</td>\n",
              "      <td>32368.0</td>\n",
              "      <td>311542.0</td>\n",
              "      <td>139587.0</td>\n",
              "      <td>72828.0</td>\n",
              "      <td>0.0</td>\n",
              "      <td>6.0</td>\n",
              "      <td>5.0</td>\n",
              "      <td>0.0</td>\n",
              "      <td>2014-06-11</td>\n",
              "    </tr>\n",
              "  </tbody>\n",
              "</table>\n",
              "</div>"
            ],
            "text/plain": [
              "    tahun_kelahiran pendidikan status_pernikahan   pendapatan  \\\n",
              "80             1961    Sarjana           Sendiri  152276450.0   \n",
              "81             1973   Magister   Rencana Menikah  165458484.0   \n",
              "82             1968    Sarjana             Cerai  172329809.0   \n",
              "83             1979    Sarjana           Menikah  138817313.0   \n",
              "84             1962        SMA   Rencana Menikah  110928081.0   \n",
              "85             1974   Magister           Menikah  151599910.0   \n",
              "86             1971    Sarjana   Rencana Menikah  111202436.0   \n",
              "87             1975   Magister               NaN  164601983.0   \n",
              "88             1947        SMA             Cerai  151115234.0   \n",
              "89             1980   Magister           Menikah  105661000.0   \n",
              "\n",
              "    jumlah_anak_balita  jumlah_anak_remaja  terakhir_belanja  belanja_buah  \\\n",
              "80                 0.0                 0.0              20.0      118419.0   \n",
              "81                 0.0                 0.0              60.0      282725.0   \n",
              "82                 0.0                 0.0              20.0      196777.0   \n",
              "83                 0.0                 0.0               6.0       44506.0   \n",
              "84                 0.0                 1.0              77.0       10634.0   \n",
              "85                 0.0                 0.0              22.0       28441.0   \n",
              "86                 0.0                 1.0              50.0       83817.0   \n",
              "87                 0.0                 0.0               NaN       66647.0   \n",
              "88                 0.0                 0.0              55.0      144766.0   \n",
              "89                 0.0                 0.0              77.0       32368.0   \n",
              "\n",
              "    belanja_daging  belanja_ikan  belanja_kue  pembelian_diskon  \\\n",
              "80        390780.0      114113.0      75835.0               2.0   \n",
              "81       1520515.0      148755.0     125538.0               NaN   \n",
              "82        774778.0      231114.0     287046.0               NaN   \n",
              "83        931955.0      256516.0      60244.0               0.0   \n",
              "84         46775.0        2815.0       1585.0               4.0   \n",
              "85        514556.0       44208.0      25168.0               1.0   \n",
              "86        382409.0       81305.0     235977.0               3.0   \n",
              "87             NaN      102878.0     121044.0               0.0   \n",
              "88       1192829.0      258158.0     197764.0               2.0   \n",
              "89        311542.0      139587.0      72828.0               0.0   \n",
              "\n",
              "    pembelian_web  pembelian_toko  keluhan tanggal_menjadi_anggota  \n",
              "80            9.0             4.0      0.0                     NaN  \n",
              "81            5.0             8.0      0.0                     NaN  \n",
              "82            6.0             4.0      0.0                     NaN  \n",
              "83            6.0             8.0      0.0                     NaN  \n",
              "84            5.0             5.0      0.0                     NaN  \n",
              "85            3.0             8.0      0.0                     NaN  \n",
              "86            5.0             4.0      0.0                     NaN  \n",
              "87            5.0             7.0      0.0                     NaN  \n",
              "88            7.0            10.0      0.0                     NaN  \n",
              "89            6.0             5.0      0.0              2014-06-11  "
            ]
          },
          "execution_count": 3,
          "metadata": {},
          "output_type": "execute_result"
        }
      ],
      "source": [
        "trainFeatures.iloc[80:90]"
      ]
    },
    {
      "cell_type": "code",
      "execution_count": 4,
      "metadata": {
        "colab": {
          "base_uri": "https://localhost:8080/"
        },
        "id": "PX_jsOen7hko",
        "outputId": "199b9b47-e232-41ea-922f-c99ab04c3f17"
      },
      "outputs": [
        {
          "data": {
            "text/plain": [
              "(3817, 16)"
            ]
          },
          "execution_count": 4,
          "metadata": {},
          "output_type": "execute_result"
        }
      ],
      "source": [
        "trainFeatures.shape"
      ]
    },
    {
      "cell_type": "code",
      "execution_count": 5,
      "metadata": {
        "colab": {
          "base_uri": "https://localhost:8080/",
          "height": 226
        },
        "id": "av96Aqkgos7F",
        "outputId": "03050a5a-5de7-42fc-df79-cc00bb630477"
      },
      "outputs": [
        {
          "data": {
            "text/html": [
              "<div>\n",
              "<style scoped>\n",
              "    .dataframe tbody tr th:only-of-type {\n",
              "        vertical-align: middle;\n",
              "    }\n",
              "\n",
              "    .dataframe tbody tr th {\n",
              "        vertical-align: top;\n",
              "    }\n",
              "\n",
              "    .dataframe thead th {\n",
              "        text-align: right;\n",
              "    }\n",
              "</style>\n",
              "<table border=\"1\" class=\"dataframe\">\n",
              "  <thead>\n",
              "    <tr style=\"text-align: right;\">\n",
              "      <th></th>\n",
              "      <th>ID</th>\n",
              "      <th>tahun_kelahiran</th>\n",
              "      <th>pendidikan</th>\n",
              "      <th>status_pernikahan</th>\n",
              "      <th>pendapatan</th>\n",
              "      <th>jumlah_anak_balita</th>\n",
              "      <th>jumlah_anak_remaja</th>\n",
              "      <th>terakhir_belanja</th>\n",
              "      <th>belanja_buah</th>\n",
              "      <th>belanja_daging</th>\n",
              "      <th>belanja_ikan</th>\n",
              "      <th>belanja_kue</th>\n",
              "      <th>pembelian_diskon</th>\n",
              "      <th>pembelian_web</th>\n",
              "      <th>pembelian_toko</th>\n",
              "      <th>keluhan</th>\n",
              "      <th>tanggal_menjadi_anggota</th>\n",
              "    </tr>\n",
              "  </thead>\n",
              "  <tbody>\n",
              "    <tr>\n",
              "      <th>0</th>\n",
              "      <td>2241</td>\n",
              "      <td>1957</td>\n",
              "      <td>Sarjana</td>\n",
              "      <td>NaN</td>\n",
              "      <td>120660151.0</td>\n",
              "      <td>0.0</td>\n",
              "      <td>1.0</td>\n",
              "      <td>63.0</td>\n",
              "      <td>122277.0</td>\n",
              "      <td>541399.0</td>\n",
              "      <td>214192.0</td>\n",
              "      <td>84305.0</td>\n",
              "      <td>4.0</td>\n",
              "      <td>6.0</td>\n",
              "      <td>10.0</td>\n",
              "      <td>0.0</td>\n",
              "      <td>NaN</td>\n",
              "    </tr>\n",
              "    <tr>\n",
              "      <th>1</th>\n",
              "      <td>2274</td>\n",
              "      <td>1968</td>\n",
              "      <td>Doktor</td>\n",
              "      <td>Menikah</td>\n",
              "      <td>163551821.0</td>\n",
              "      <td>0.0</td>\n",
              "      <td>1.0</td>\n",
              "      <td>58.0</td>\n",
              "      <td>35761.0</td>\n",
              "      <td>353335.0</td>\n",
              "      <td>63365.0</td>\n",
              "      <td>41112.0</td>\n",
              "      <td>2.0</td>\n",
              "      <td>5.0</td>\n",
              "      <td>10.0</td>\n",
              "      <td>0.0</td>\n",
              "      <td>NaN</td>\n",
              "    </tr>\n",
              "    <tr>\n",
              "      <th>2</th>\n",
              "      <td>1107</td>\n",
              "      <td>1968</td>\n",
              "      <td>SMA</td>\n",
              "      <td>Menikah</td>\n",
              "      <td>29857000.0</td>\n",
              "      <td>0.0</td>\n",
              "      <td>0.0</td>\n",
              "      <td>34.0</td>\n",
              "      <td>8092.0</td>\n",
              "      <td>22253.0</td>\n",
              "      <td>30345.0</td>\n",
              "      <td>26299.0</td>\n",
              "      <td>2.0</td>\n",
              "      <td>0.0</td>\n",
              "      <td>5.0</td>\n",
              "      <td>0.0</td>\n",
              "      <td>2013-08-06</td>\n",
              "    </tr>\n",
              "    <tr>\n",
              "      <th>3</th>\n",
              "      <td>4478</td>\n",
              "      <td>1971</td>\n",
              "      <td>Doktor</td>\n",
              "      <td>Menikah</td>\n",
              "      <td>117949098.0</td>\n",
              "      <td>0.0</td>\n",
              "      <td>1.0</td>\n",
              "      <td>82.0</td>\n",
              "      <td>4872.0</td>\n",
              "      <td>126061.0</td>\n",
              "      <td>0.0</td>\n",
              "      <td>9745.0</td>\n",
              "      <td>3.0</td>\n",
              "      <td>5.0</td>\n",
              "      <td>7.0</td>\n",
              "      <td>0.0</td>\n",
              "      <td>NaN</td>\n",
              "    </tr>\n",
              "    <tr>\n",
              "      <th>4</th>\n",
              "      <td>5080</td>\n",
              "      <td>1974</td>\n",
              "      <td>Sarjana</td>\n",
              "      <td>Rencana Menikah</td>\n",
              "      <td>164761134.0</td>\n",
              "      <td>0.0</td>\n",
              "      <td>0.0</td>\n",
              "      <td>28.0</td>\n",
              "      <td>343208.0</td>\n",
              "      <td>1416462.0</td>\n",
              "      <td>236196.0</td>\n",
              "      <td>107776.0</td>\n",
              "      <td>0.0</td>\n",
              "      <td>1.0</td>\n",
              "      <td>8.0</td>\n",
              "      <td>0.0</td>\n",
              "      <td>NaN</td>\n",
              "    </tr>\n",
              "  </tbody>\n",
              "</table>\n",
              "</div>"
            ],
            "text/plain": [
              "     ID  tahun_kelahiran pendidikan status_pernikahan   pendapatan  \\\n",
              "0  2241             1957    Sarjana               NaN  120660151.0   \n",
              "1  2274             1968     Doktor           Menikah  163551821.0   \n",
              "2  1107             1968        SMA           Menikah   29857000.0   \n",
              "3  4478             1971     Doktor           Menikah  117949098.0   \n",
              "4  5080             1974    Sarjana   Rencana Menikah  164761134.0   \n",
              "\n",
              "   jumlah_anak_balita  jumlah_anak_remaja  terakhir_belanja  belanja_buah  \\\n",
              "0                 0.0                 1.0              63.0      122277.0   \n",
              "1                 0.0                 1.0              58.0       35761.0   \n",
              "2                 0.0                 0.0              34.0        8092.0   \n",
              "3                 0.0                 1.0              82.0        4872.0   \n",
              "4                 0.0                 0.0              28.0      343208.0   \n",
              "\n",
              "   belanja_daging  belanja_ikan  belanja_kue  pembelian_diskon  pembelian_web  \\\n",
              "0        541399.0      214192.0      84305.0               4.0            6.0   \n",
              "1        353335.0       63365.0      41112.0               2.0            5.0   \n",
              "2         22253.0       30345.0      26299.0               2.0            0.0   \n",
              "3        126061.0           0.0       9745.0               3.0            5.0   \n",
              "4       1416462.0      236196.0     107776.0               0.0            1.0   \n",
              "\n",
              "   pembelian_toko  keluhan tanggal_menjadi_anggota  \n",
              "0            10.0      0.0                     NaN  \n",
              "1            10.0      0.0                     NaN  \n",
              "2             5.0      0.0              2013-08-06  \n",
              "3             7.0      0.0                     NaN  \n",
              "4             8.0      0.0                     NaN  "
            ]
          },
          "execution_count": 5,
          "metadata": {},
          "output_type": "execute_result"
        }
      ],
      "source": [
        "testFeatures.head()"
      ]
    },
    {
      "cell_type": "code",
      "execution_count": 6,
      "metadata": {
        "colab": {
          "base_uri": "https://localhost:8080/",
          "height": 206
        },
        "id": "pWRc1BDlpUHx",
        "outputId": "1c2478c6-7b7d-498d-d22e-3d2cf904f341"
      },
      "outputs": [
        {
          "data": {
            "text/html": [
              "<div>\n",
              "<style scoped>\n",
              "    .dataframe tbody tr th:only-of-type {\n",
              "        vertical-align: middle;\n",
              "    }\n",
              "\n",
              "    .dataframe tbody tr th {\n",
              "        vertical-align: top;\n",
              "    }\n",
              "\n",
              "    .dataframe thead th {\n",
              "        text-align: right;\n",
              "    }\n",
              "</style>\n",
              "<table border=\"1\" class=\"dataframe\">\n",
              "  <thead>\n",
              "    <tr style=\"text-align: right;\">\n",
              "      <th></th>\n",
              "      <th>ID</th>\n",
              "      <th>jumlah_promosi</th>\n",
              "    </tr>\n",
              "  </thead>\n",
              "  <tbody>\n",
              "    <tr>\n",
              "      <th>0</th>\n",
              "      <td>2241</td>\n",
              "      <td>6</td>\n",
              "    </tr>\n",
              "    <tr>\n",
              "      <th>1</th>\n",
              "      <td>2274</td>\n",
              "      <td>6</td>\n",
              "    </tr>\n",
              "    <tr>\n",
              "      <th>2</th>\n",
              "      <td>1107</td>\n",
              "      <td>6</td>\n",
              "    </tr>\n",
              "    <tr>\n",
              "      <th>3</th>\n",
              "      <td>4478</td>\n",
              "      <td>6</td>\n",
              "    </tr>\n",
              "    <tr>\n",
              "      <th>4</th>\n",
              "      <td>5080</td>\n",
              "      <td>6</td>\n",
              "    </tr>\n",
              "  </tbody>\n",
              "</table>\n",
              "</div>"
            ],
            "text/plain": [
              "     ID  jumlah_promosi\n",
              "0  2241               6\n",
              "1  2274               6\n",
              "2  1107               6\n",
              "3  4478               6\n",
              "4  5080               6"
            ]
          },
          "execution_count": 6,
          "metadata": {},
          "output_type": "execute_result"
        }
      ],
      "source": [
        "example.head()"
      ]
    },
    {
      "cell_type": "markdown",
      "metadata": {
        "id": "dkK_vAFruPiE"
      },
      "source": [
        "# Data Assessing"
      ]
    },
    {
      "cell_type": "markdown",
      "metadata": {
        "id": "Psp6W-2Lu32X"
      },
      "source": [
        "## Informasi Umum Dataset Train Features"
      ]
    },
    {
      "cell_type": "code",
      "execution_count": 7,
      "metadata": {
        "colab": {
          "base_uri": "https://localhost:8080/"
        },
        "id": "feTYV5VzM03a",
        "outputId": "6d39a225-aad1-47a6-c7a7-1803774902c2"
      },
      "outputs": [
        {
          "name": "stdout",
          "output_type": "stream",
          "text": [
            "<class 'pandas.core.frame.DataFrame'>\n",
            "RangeIndex: 3817 entries, 0 to 3816\n",
            "Data columns (total 16 columns):\n",
            " #   Column                   Non-Null Count  Dtype  \n",
            "---  ------                   --------------  -----  \n",
            " 0   tahun_kelahiran          3817 non-null   int64  \n",
            " 1   pendidikan               3628 non-null   object \n",
            " 2   status_pernikahan        3605 non-null   object \n",
            " 3   pendapatan               3627 non-null   float64\n",
            " 4   jumlah_anak_balita       3627 non-null   float64\n",
            " 5   jumlah_anak_remaja       3613 non-null   float64\n",
            " 6   terakhir_belanja         3645 non-null   float64\n",
            " 7   belanja_buah             3636 non-null   float64\n",
            " 8   belanja_daging           3639 non-null   float64\n",
            " 9   belanja_ikan             3624 non-null   float64\n",
            " 10  belanja_kue              3603 non-null   float64\n",
            " 11  pembelian_diskon         3639 non-null   float64\n",
            " 12  pembelian_web            3652 non-null   float64\n",
            " 13  pembelian_toko           3648 non-null   float64\n",
            " 14  keluhan                  3621 non-null   float64\n",
            " 15  tanggal_menjadi_anggota  1065 non-null   object \n",
            "dtypes: float64(12), int64(1), object(3)\n",
            "memory usage: 477.3+ KB\n"
          ]
        }
      ],
      "source": [
        "trainFeatures.info()"
      ]
    },
    {
      "cell_type": "code",
      "execution_count": 8,
      "metadata": {
        "colab": {
          "base_uri": "https://localhost:8080/",
          "height": 320
        },
        "id": "z4DIuVNpdXo6",
        "outputId": "5f27646e-851a-4fde-85d7-6ffd77f9417a"
      },
      "outputs": [
        {
          "data": {
            "text/html": [
              "<div>\n",
              "<style scoped>\n",
              "    .dataframe tbody tr th:only-of-type {\n",
              "        vertical-align: middle;\n",
              "    }\n",
              "\n",
              "    .dataframe tbody tr th {\n",
              "        vertical-align: top;\n",
              "    }\n",
              "\n",
              "    .dataframe thead th {\n",
              "        text-align: right;\n",
              "    }\n",
              "</style>\n",
              "<table border=\"1\" class=\"dataframe\">\n",
              "  <thead>\n",
              "    <tr style=\"text-align: right;\">\n",
              "      <th></th>\n",
              "      <th>tahun_kelahiran</th>\n",
              "      <th>pendapatan</th>\n",
              "      <th>jumlah_anak_balita</th>\n",
              "      <th>jumlah_anak_remaja</th>\n",
              "      <th>terakhir_belanja</th>\n",
              "      <th>belanja_buah</th>\n",
              "      <th>belanja_daging</th>\n",
              "      <th>belanja_ikan</th>\n",
              "      <th>belanja_kue</th>\n",
              "      <th>pembelian_diskon</th>\n",
              "      <th>pembelian_web</th>\n",
              "      <th>pembelian_toko</th>\n",
              "      <th>keluhan</th>\n",
              "    </tr>\n",
              "  </thead>\n",
              "  <tbody>\n",
              "    <tr>\n",
              "      <th>count</th>\n",
              "      <td>3817.000000</td>\n",
              "      <td>3.627000e+03</td>\n",
              "      <td>3627.000000</td>\n",
              "      <td>3613.000000</td>\n",
              "      <td>3645.000000</td>\n",
              "      <td>3636.000000</td>\n",
              "      <td>3.639000e+03</td>\n",
              "      <td>3624.000000</td>\n",
              "      <td>3603.000000</td>\n",
              "      <td>3639.000000</td>\n",
              "      <td>3652.000000</td>\n",
              "      <td>3648.000000</td>\n",
              "      <td>3621.000000</td>\n",
              "    </tr>\n",
              "    <tr>\n",
              "      <th>mean</th>\n",
              "      <td>1967.823946</td>\n",
              "      <td>1.144832e+08</td>\n",
              "      <td>0.293080</td>\n",
              "      <td>0.353723</td>\n",
              "      <td>47.231550</td>\n",
              "      <td>59804.239824</td>\n",
              "      <td>4.385748e+05</td>\n",
              "      <td>81428.997792</td>\n",
              "      <td>63377.970580</td>\n",
              "      <td>2.125584</td>\n",
              "      <td>4.436473</td>\n",
              "      <td>5.767818</td>\n",
              "      <td>0.004971</td>\n",
              "    </tr>\n",
              "    <tr>\n",
              "      <th>std</th>\n",
              "      <td>11.768131</td>\n",
              "      <td>4.346042e+07</td>\n",
              "      <td>0.473063</td>\n",
              "      <td>0.493014</td>\n",
              "      <td>27.068512</td>\n",
              "      <td>74024.976109</td>\n",
              "      <td>5.120427e+05</td>\n",
              "      <td>99976.226855</td>\n",
              "      <td>79435.457282</td>\n",
              "      <td>2.100133</td>\n",
              "      <td>3.002522</td>\n",
              "      <td>3.210738</td>\n",
              "      <td>0.070340</td>\n",
              "    </tr>\n",
              "    <tr>\n",
              "      <th>min</th>\n",
              "      <td>1899.000000</td>\n",
              "      <td>5.073000e+06</td>\n",
              "      <td>0.000000</td>\n",
              "      <td>0.000000</td>\n",
              "      <td>0.000000</td>\n",
              "      <td>0.000000</td>\n",
              "      <td>0.000000e+00</td>\n",
              "      <td>0.000000</td>\n",
              "      <td>0.000000</td>\n",
              "      <td>0.000000</td>\n",
              "      <td>0.000000</td>\n",
              "      <td>0.000000</td>\n",
              "      <td>0.000000</td>\n",
              "    </tr>\n",
              "    <tr>\n",
              "      <th>25%</th>\n",
              "      <td>1959.000000</td>\n",
              "      <td>8.112512e+07</td>\n",
              "      <td>0.000000</td>\n",
              "      <td>0.000000</td>\n",
              "      <td>25.000000</td>\n",
              "      <td>7907.000000</td>\n",
              "      <td>4.947950e+04</td>\n",
              "      <td>10115.000000</td>\n",
              "      <td>7947.000000</td>\n",
              "      <td>0.000000</td>\n",
              "      <td>2.000000</td>\n",
              "      <td>3.000000</td>\n",
              "      <td>0.000000</td>\n",
              "    </tr>\n",
              "    <tr>\n",
              "      <th>50%</th>\n",
              "      <td>1968.000000</td>\n",
              "      <td>1.156214e+08</td>\n",
              "      <td>0.000000</td>\n",
              "      <td>0.000000</td>\n",
              "      <td>47.000000</td>\n",
              "      <td>26456.000000</td>\n",
              "      <td>2.219930e+05</td>\n",
              "      <td>36054.500000</td>\n",
              "      <td>27795.000000</td>\n",
              "      <td>2.000000</td>\n",
              "      <td>4.000000</td>\n",
              "      <td>5.000000</td>\n",
              "      <td>0.000000</td>\n",
              "    </tr>\n",
              "    <tr>\n",
              "      <th>75%</th>\n",
              "      <td>1976.000000</td>\n",
              "      <td>1.504960e+08</td>\n",
              "      <td>1.000000</td>\n",
              "      <td>1.000000</td>\n",
              "      <td>69.000000</td>\n",
              "      <td>86162.000000</td>\n",
              "      <td>6.863555e+05</td>\n",
              "      <td>121380.000000</td>\n",
              "      <td>89502.500000</td>\n",
              "      <td>3.000000</td>\n",
              "      <td>7.000000</td>\n",
              "      <td>8.000000</td>\n",
              "      <td>0.000000</td>\n",
              "    </tr>\n",
              "    <tr>\n",
              "      <th>max</th>\n",
              "      <td>2000.000000</td>\n",
              "      <td>3.328840e+08</td>\n",
              "      <td>2.000000</td>\n",
              "      <td>2.000000</td>\n",
              "      <td>128.000000</td>\n",
              "      <td>396508.000000</td>\n",
              "      <td>3.489675e+06</td>\n",
              "      <td>621600.000000</td>\n",
              "      <td>542164.000000</td>\n",
              "      <td>20.000000</td>\n",
              "      <td>30.000000</td>\n",
              "      <td>17.000000</td>\n",
              "      <td>1.000000</td>\n",
              "    </tr>\n",
              "  </tbody>\n",
              "</table>\n",
              "</div>"
            ],
            "text/plain": [
              "       tahun_kelahiran    pendapatan  jumlah_anak_balita  jumlah_anak_remaja  \\\n",
              "count      3817.000000  3.627000e+03         3627.000000         3613.000000   \n",
              "mean       1967.823946  1.144832e+08            0.293080            0.353723   \n",
              "std          11.768131  4.346042e+07            0.473063            0.493014   \n",
              "min        1899.000000  5.073000e+06            0.000000            0.000000   \n",
              "25%        1959.000000  8.112512e+07            0.000000            0.000000   \n",
              "50%        1968.000000  1.156214e+08            0.000000            0.000000   \n",
              "75%        1976.000000  1.504960e+08            1.000000            1.000000   \n",
              "max        2000.000000  3.328840e+08            2.000000            2.000000   \n",
              "\n",
              "       terakhir_belanja   belanja_buah  belanja_daging   belanja_ikan  \\\n",
              "count       3645.000000    3636.000000    3.639000e+03    3624.000000   \n",
              "mean          47.231550   59804.239824    4.385748e+05   81428.997792   \n",
              "std           27.068512   74024.976109    5.120427e+05   99976.226855   \n",
              "min            0.000000       0.000000    0.000000e+00       0.000000   \n",
              "25%           25.000000    7907.000000    4.947950e+04   10115.000000   \n",
              "50%           47.000000   26456.000000    2.219930e+05   36054.500000   \n",
              "75%           69.000000   86162.000000    6.863555e+05  121380.000000   \n",
              "max          128.000000  396508.000000    3.489675e+06  621600.000000   \n",
              "\n",
              "         belanja_kue  pembelian_diskon  pembelian_web  pembelian_toko  \\\n",
              "count    3603.000000       3639.000000    3652.000000     3648.000000   \n",
              "mean    63377.970580          2.125584       4.436473        5.767818   \n",
              "std     79435.457282          2.100133       3.002522        3.210738   \n",
              "min         0.000000          0.000000       0.000000        0.000000   \n",
              "25%      7947.000000          0.000000       2.000000        3.000000   \n",
              "50%     27795.000000          2.000000       4.000000        5.000000   \n",
              "75%     89502.500000          3.000000       7.000000        8.000000   \n",
              "max    542164.000000         20.000000      30.000000       17.000000   \n",
              "\n",
              "           keluhan  \n",
              "count  3621.000000  \n",
              "mean      0.004971  \n",
              "std       0.070340  \n",
              "min       0.000000  \n",
              "25%       0.000000  \n",
              "50%       0.000000  \n",
              "75%       0.000000  \n",
              "max       1.000000  "
            ]
          },
          "execution_count": 8,
          "metadata": {},
          "output_type": "execute_result"
        }
      ],
      "source": [
        "trainFeatures.describe()"
      ]
    },
    {
      "cell_type": "markdown",
      "metadata": {
        "id": "1piJJr4eu8-R"
      },
      "source": [
        "## Cek Nilai Null Dataset Train Features"
      ]
    },
    {
      "cell_type": "code",
      "execution_count": 9,
      "metadata": {
        "colab": {
          "base_uri": "https://localhost:8080/"
        },
        "id": "L_9QDPvxddmr",
        "outputId": "7cc888d5-91b6-4bda-d3af-954e6ba86045"
      },
      "outputs": [
        {
          "data": {
            "text/plain": [
              "tahun_kelahiran               0\n",
              "pendidikan                  189\n",
              "status_pernikahan           212\n",
              "pendapatan                  190\n",
              "jumlah_anak_balita          190\n",
              "jumlah_anak_remaja          204\n",
              "terakhir_belanja            172\n",
              "belanja_buah                181\n",
              "belanja_daging              178\n",
              "belanja_ikan                193\n",
              "belanja_kue                 214\n",
              "pembelian_diskon            178\n",
              "pembelian_web               165\n",
              "pembelian_toko              169\n",
              "keluhan                     196\n",
              "tanggal_menjadi_anggota    2752\n",
              "dtype: int64"
            ]
          },
          "execution_count": 9,
          "metadata": {},
          "output_type": "execute_result"
        }
      ],
      "source": [
        "trainFeatures.isnull().sum()"
      ]
    },
    {
      "cell_type": "markdown",
      "metadata": {
        "id": "Jq1rp2vrvFDp"
      },
      "source": [
        "## Cek Nilai Duplikat Dataset Train Features"
      ]
    },
    {
      "cell_type": "code",
      "execution_count": 10,
      "metadata": {
        "colab": {
          "base_uri": "https://localhost:8080/"
        },
        "id": "1n3lMmbAvRL-",
        "outputId": "43dd9afb-28a7-425e-f999-50cba6336a88"
      },
      "outputs": [
        {
          "data": {
            "text/plain": [
              "0"
            ]
          },
          "execution_count": 10,
          "metadata": {},
          "output_type": "execute_result"
        }
      ],
      "source": [
        "trainFeatures.duplicated().sum()"
      ]
    },
    {
      "cell_type": "markdown",
      "metadata": {
        "id": "74ciVYpkv2Q3"
      },
      "source": [
        "# Data Cleaning"
      ]
    },
    {
      "cell_type": "markdown",
      "metadata": {
        "id": "iUo5NxV4v7XB"
      },
      "source": [
        "## Kolom Pendidikan"
      ]
    },
    {
      "cell_type": "code",
      "execution_count": 11,
      "metadata": {
        "colab": {
          "base_uri": "https://localhost:8080/"
        },
        "id": "L5Ii6sBSivmn",
        "outputId": "b35a14fc-6a7f-4cba-bf17-6be74d29c478"
      },
      "outputs": [
        {
          "data": {
            "text/plain": [
              "array(['Sarjana', 'Magister', 'SMA', 'SMP', 'Doktor', nan, '5'],\n",
              "      dtype=object)"
            ]
          },
          "execution_count": 11,
          "metadata": {},
          "output_type": "execute_result"
        }
      ],
      "source": [
        "# Cek Nilai Unique\n",
        "trainFeatures['pendidikan'].unique()"
      ]
    },
    {
      "cell_type": "markdown",
      "metadata": {
        "id": "fR7L7DXOwZgX"
      },
      "source": [
        "Terdapat dua nilai salah yaitu nan dan '5'. Maka perlu dibersihkan pada dua nilai tersebut."
      ]
    },
    {
      "cell_type": "markdown",
      "metadata": {
        "id": "fETtVqmz9HRq"
      },
      "source": [
        "### Olah Data dengan Nilai Unique '5'"
      ]
    },
    {
      "cell_type": "code",
      "execution_count": 12,
      "metadata": {
        "colab": {
          "base_uri": "https://localhost:8080/",
          "height": 132
        },
        "id": "_biw-YdWkAMy",
        "outputId": "f841f601-52c7-472d-f452-a65849b7e8b6"
      },
      "outputs": [
        {
          "data": {
            "text/html": [
              "<div>\n",
              "<style scoped>\n",
              "    .dataframe tbody tr th:only-of-type {\n",
              "        vertical-align: middle;\n",
              "    }\n",
              "\n",
              "    .dataframe tbody tr th {\n",
              "        vertical-align: top;\n",
              "    }\n",
              "\n",
              "    .dataframe thead th {\n",
              "        text-align: right;\n",
              "    }\n",
              "</style>\n",
              "<table border=\"1\" class=\"dataframe\">\n",
              "  <thead>\n",
              "    <tr style=\"text-align: right;\">\n",
              "      <th></th>\n",
              "      <th>tahun_kelahiran</th>\n",
              "      <th>pendidikan</th>\n",
              "      <th>status_pernikahan</th>\n",
              "      <th>pendapatan</th>\n",
              "      <th>jumlah_anak_balita</th>\n",
              "      <th>jumlah_anak_remaja</th>\n",
              "      <th>terakhir_belanja</th>\n",
              "      <th>belanja_buah</th>\n",
              "      <th>belanja_daging</th>\n",
              "      <th>belanja_ikan</th>\n",
              "      <th>belanja_kue</th>\n",
              "      <th>pembelian_diskon</th>\n",
              "      <th>pembelian_web</th>\n",
              "      <th>pembelian_toko</th>\n",
              "      <th>keluhan</th>\n",
              "      <th>tanggal_menjadi_anggota</th>\n",
              "    </tr>\n",
              "  </thead>\n",
              "  <tbody>\n",
              "    <tr>\n",
              "      <th>309</th>\n",
              "      <td>1958</td>\n",
              "      <td>5</td>\n",
              "      <td>Sendiri</td>\n",
              "      <td>64570844.0</td>\n",
              "      <td>1.0</td>\n",
              "      <td>1.0</td>\n",
              "      <td>7.0</td>\n",
              "      <td>4810.0</td>\n",
              "      <td>6113.0</td>\n",
              "      <td>4359.0</td>\n",
              "      <td>7597.0</td>\n",
              "      <td>3.0</td>\n",
              "      <td>1.0</td>\n",
              "      <td>4.0</td>\n",
              "      <td>0.0</td>\n",
              "      <td>NaN</td>\n",
              "    </tr>\n",
              "    <tr>\n",
              "      <th>1596</th>\n",
              "      <td>1977</td>\n",
              "      <td>5</td>\n",
              "      <td>Menikah</td>\n",
              "      <td>136702741.0</td>\n",
              "      <td>0.0</td>\n",
              "      <td>0.0</td>\n",
              "      <td>86.0</td>\n",
              "      <td>51072.0</td>\n",
              "      <td>1477175.0</td>\n",
              "      <td>211531.0</td>\n",
              "      <td>86926.0</td>\n",
              "      <td>3.0</td>\n",
              "      <td>3.0</td>\n",
              "      <td>13.0</td>\n",
              "      <td>0.0</td>\n",
              "      <td>NaN</td>\n",
              "    </tr>\n",
              "  </tbody>\n",
              "</table>\n",
              "</div>"
            ],
            "text/plain": [
              "      tahun_kelahiran pendidikan status_pernikahan   pendapatan  \\\n",
              "309              1958          5           Sendiri   64570844.0   \n",
              "1596             1977          5           Menikah  136702741.0   \n",
              "\n",
              "      jumlah_anak_balita  jumlah_anak_remaja  terakhir_belanja  belanja_buah  \\\n",
              "309                  1.0                 1.0               7.0        4810.0   \n",
              "1596                 0.0                 0.0              86.0       51072.0   \n",
              "\n",
              "      belanja_daging  belanja_ikan  belanja_kue  pembelian_diskon  \\\n",
              "309           6113.0        4359.0       7597.0               3.0   \n",
              "1596       1477175.0      211531.0      86926.0               3.0   \n",
              "\n",
              "      pembelian_web  pembelian_toko  keluhan tanggal_menjadi_anggota  \n",
              "309             1.0             4.0      0.0                     NaN  \n",
              "1596            3.0            13.0      0.0                     NaN  "
            ]
          },
          "execution_count": 12,
          "metadata": {},
          "output_type": "execute_result"
        }
      ],
      "source": [
        "# Ambil contoh nilai pada kolom pendidikan dengan nilai '5'\n",
        "trainFeatures[trainFeatures['pendidikan'] == '5'].head()"
      ]
    },
    {
      "cell_type": "code",
      "execution_count": 13,
      "metadata": {
        "id": "TR8SH47equIy"
      },
      "outputs": [],
      "source": [
        "# Mengambil indeks data dengan nilai unique '5'\n",
        "dropPendidikan = trainFeatures[trainFeatures['pendidikan'] == '5'].index\n",
        "# Menghapus nilai dengan indeks tersebut\n",
        "trainFeatures.drop(dropPendidikan, inplace=True)"
      ]
    },
    {
      "cell_type": "markdown",
      "metadata": {
        "id": "407u4fIXxP39"
      },
      "source": [
        "Saat ini nilai dengan inputan '5' sudah terhapus, karena hanya terdapat 2 data saja maka dapat dikatakan aman untuk dihapus.\n",
        "\n",
        "Selanjutnya yaitu menangani data dengan inputan nan. Untuk langkah yang diambil yaitu mengecek seberapa banyak nilai nan yang ada. Jika jumlah terbilang sedikit, langkah yang diambil adalah menghapus nilai tersebut (seperti pada inputan '5' sebelumnya). Namun, jika jumlahnya terbilang cukup banyak, maka langkah yang diambil yaitu mengubah setiap nilai nan menjadi nilai modus pada kolom **pendidikan**."
      ]
    },
    {
      "cell_type": "markdown",
      "metadata": {
        "id": "gKREKga39fxO"
      },
      "source": [
        "### Olah Data dengan Nilai Unique NaN"
      ]
    },
    {
      "cell_type": "code",
      "execution_count": 14,
      "metadata": {
        "colab": {
          "base_uri": "https://localhost:8080/",
          "height": 435
        },
        "id": "G9u__T4IyUTa",
        "outputId": "d210030f-e739-4c49-9672-d5e24de5917b"
      },
      "outputs": [
        {
          "name": "stdout",
          "output_type": "stream",
          "text": [
            "Banyak Data dengan inputan nan: 189 \n",
            "\n",
            "Dengan sample data sebagai berikut: \n"
          ]
        },
        {
          "data": {
            "text/html": [
              "<div>\n",
              "<style scoped>\n",
              "    .dataframe tbody tr th:only-of-type {\n",
              "        vertical-align: middle;\n",
              "    }\n",
              "\n",
              "    .dataframe tbody tr th {\n",
              "        vertical-align: top;\n",
              "    }\n",
              "\n",
              "    .dataframe thead th {\n",
              "        text-align: right;\n",
              "    }\n",
              "</style>\n",
              "<table border=\"1\" class=\"dataframe\">\n",
              "  <thead>\n",
              "    <tr style=\"text-align: right;\">\n",
              "      <th></th>\n",
              "      <th>tahun_kelahiran</th>\n",
              "      <th>pendidikan</th>\n",
              "      <th>status_pernikahan</th>\n",
              "      <th>pendapatan</th>\n",
              "      <th>jumlah_anak_balita</th>\n",
              "      <th>jumlah_anak_remaja</th>\n",
              "      <th>terakhir_belanja</th>\n",
              "      <th>belanja_buah</th>\n",
              "      <th>belanja_daging</th>\n",
              "      <th>belanja_ikan</th>\n",
              "      <th>belanja_kue</th>\n",
              "      <th>pembelian_diskon</th>\n",
              "      <th>pembelian_web</th>\n",
              "      <th>pembelian_toko</th>\n",
              "      <th>keluhan</th>\n",
              "      <th>tanggal_menjadi_anggota</th>\n",
              "    </tr>\n",
              "  </thead>\n",
              "  <tbody>\n",
              "    <tr>\n",
              "      <th>253</th>\n",
              "      <td>1947</td>\n",
              "      <td>NaN</td>\n",
              "      <td>Sendiri</td>\n",
              "      <td>109106168.0</td>\n",
              "      <td>1.0</td>\n",
              "      <td>1.0</td>\n",
              "      <td>0.0</td>\n",
              "      <td>5151.0</td>\n",
              "      <td>48781.0</td>\n",
              "      <td>20668.0</td>\n",
              "      <td>3128.0</td>\n",
              "      <td>5.0</td>\n",
              "      <td>NaN</td>\n",
              "      <td>4.0</td>\n",
              "      <td>0.0</td>\n",
              "      <td>NaN</td>\n",
              "    </tr>\n",
              "    <tr>\n",
              "      <th>1194</th>\n",
              "      <td>1977</td>\n",
              "      <td>NaN</td>\n",
              "      <td>Menikah</td>\n",
              "      <td>78885377.0</td>\n",
              "      <td>1.0</td>\n",
              "      <td>0.0</td>\n",
              "      <td>5.0</td>\n",
              "      <td>9298.0</td>\n",
              "      <td>47382.0</td>\n",
              "      <td>12125.0</td>\n",
              "      <td>2437.0</td>\n",
              "      <td>3.0</td>\n",
              "      <td>0.0</td>\n",
              "      <td>4.0</td>\n",
              "      <td>0.0</td>\n",
              "      <td>NaN</td>\n",
              "    </tr>\n",
              "    <tr>\n",
              "      <th>787</th>\n",
              "      <td>1980</td>\n",
              "      <td>NaN</td>\n",
              "      <td>Sendiri</td>\n",
              "      <td>186710006.0</td>\n",
              "      <td>0.0</td>\n",
              "      <td>0.0</td>\n",
              "      <td>76.0</td>\n",
              "      <td>NaN</td>\n",
              "      <td>1832130.0</td>\n",
              "      <td>67608.0</td>\n",
              "      <td>72459.0</td>\n",
              "      <td>2.0</td>\n",
              "      <td>3.0</td>\n",
              "      <td>9.0</td>\n",
              "      <td>0.0</td>\n",
              "      <td>NaN</td>\n",
              "    </tr>\n",
              "    <tr>\n",
              "      <th>1311</th>\n",
              "      <td>1974</td>\n",
              "      <td>NaN</td>\n",
              "      <td>Menikah</td>\n",
              "      <td>52694000.0</td>\n",
              "      <td>1.0</td>\n",
              "      <td>0.0</td>\n",
              "      <td>41.0</td>\n",
              "      <td>18207.0</td>\n",
              "      <td>28322.0</td>\n",
              "      <td>20230.0</td>\n",
              "      <td>10115.0</td>\n",
              "      <td>2.0</td>\n",
              "      <td>0.0</td>\n",
              "      <td>1.0</td>\n",
              "      <td>0.0</td>\n",
              "      <td>2014-03-13</td>\n",
              "    </tr>\n",
              "    <tr>\n",
              "      <th>3176</th>\n",
              "      <td>1976</td>\n",
              "      <td>NaN</td>\n",
              "      <td>Rencana Menikah</td>\n",
              "      <td>NaN</td>\n",
              "      <td>0.0</td>\n",
              "      <td>0.0</td>\n",
              "      <td>83.0</td>\n",
              "      <td>36414.0</td>\n",
              "      <td>483497.0</td>\n",
              "      <td>208369.0</td>\n",
              "      <td>374255.0</td>\n",
              "      <td>3.0</td>\n",
              "      <td>8.0</td>\n",
              "      <td>7.0</td>\n",
              "      <td>0.0</td>\n",
              "      <td>2012-09-06</td>\n",
              "    </tr>\n",
              "    <tr>\n",
              "      <th>530</th>\n",
              "      <td>1963</td>\n",
              "      <td>NaN</td>\n",
              "      <td>Rencana Menikah</td>\n",
              "      <td>157450780.0</td>\n",
              "      <td>0.0</td>\n",
              "      <td>0.0</td>\n",
              "      <td>86.0</td>\n",
              "      <td>59787.0</td>\n",
              "      <td>834997.0</td>\n",
              "      <td>114063.0</td>\n",
              "      <td>68767.0</td>\n",
              "      <td>2.0</td>\n",
              "      <td>4.0</td>\n",
              "      <td>4.0</td>\n",
              "      <td>0.0</td>\n",
              "      <td>NaN</td>\n",
              "    </tr>\n",
              "    <tr>\n",
              "      <th>1179</th>\n",
              "      <td>1988</td>\n",
              "      <td>NaN</td>\n",
              "      <td>Menikah</td>\n",
              "      <td>42633000.0</td>\n",
              "      <td>1.0</td>\n",
              "      <td>0.0</td>\n",
              "      <td>3.0</td>\n",
              "      <td>26299.0</td>\n",
              "      <td>2023.0</td>\n",
              "      <td>10115.0</td>\n",
              "      <td>32368.0</td>\n",
              "      <td>3.0</td>\n",
              "      <td>3.0</td>\n",
              "      <td>5.0</td>\n",
              "      <td>0.0</td>\n",
              "      <td>2012-10-30</td>\n",
              "    </tr>\n",
              "    <tr>\n",
              "      <th>889</th>\n",
              "      <td>1960</td>\n",
              "      <td>NaN</td>\n",
              "      <td>Rencana Menikah</td>\n",
              "      <td>93851000.0</td>\n",
              "      <td>0.0</td>\n",
              "      <td>1.0</td>\n",
              "      <td>2.0</td>\n",
              "      <td>0.0</td>\n",
              "      <td>14161.0</td>\n",
              "      <td>0.0</td>\n",
              "      <td>0.0</td>\n",
              "      <td>2.0</td>\n",
              "      <td>2.0</td>\n",
              "      <td>5.0</td>\n",
              "      <td>0.0</td>\n",
              "      <td>2013-11-12</td>\n",
              "    </tr>\n",
              "    <tr>\n",
              "      <th>1083</th>\n",
              "      <td>1981</td>\n",
              "      <td>NaN</td>\n",
              "      <td>Menikah</td>\n",
              "      <td>25301000.0</td>\n",
              "      <td>0.0</td>\n",
              "      <td>0.0</td>\n",
              "      <td>35.0</td>\n",
              "      <td>NaN</td>\n",
              "      <td>22253.0</td>\n",
              "      <td>20230.0</td>\n",
              "      <td>22253.0</td>\n",
              "      <td>2.0</td>\n",
              "      <td>1.0</td>\n",
              "      <td>2.0</td>\n",
              "      <td>0.0</td>\n",
              "      <td>2012-12-02</td>\n",
              "    </tr>\n",
              "    <tr>\n",
              "      <th>2297</th>\n",
              "      <td>1969</td>\n",
              "      <td>NaN</td>\n",
              "      <td>Cerai</td>\n",
              "      <td>NaN</td>\n",
              "      <td>0.0</td>\n",
              "      <td>0.0</td>\n",
              "      <td>24.0</td>\n",
              "      <td>277151.0</td>\n",
              "      <td>1205708.0</td>\n",
              "      <td>74851.0</td>\n",
              "      <td>22253.0</td>\n",
              "      <td>2.0</td>\n",
              "      <td>6.0</td>\n",
              "      <td>6.0</td>\n",
              "      <td>0.0</td>\n",
              "      <td>2013-05-20</td>\n",
              "    </tr>\n",
              "  </tbody>\n",
              "</table>\n",
              "</div>"
            ],
            "text/plain": [
              "      tahun_kelahiran pendidikan status_pernikahan   pendapatan  \\\n",
              "253              1947        NaN           Sendiri  109106168.0   \n",
              "1194             1977        NaN           Menikah   78885377.0   \n",
              "787              1980        NaN           Sendiri  186710006.0   \n",
              "1311             1974        NaN           Menikah   52694000.0   \n",
              "3176             1976        NaN   Rencana Menikah          NaN   \n",
              "530              1963        NaN   Rencana Menikah  157450780.0   \n",
              "1179             1988        NaN           Menikah   42633000.0   \n",
              "889              1960        NaN   Rencana Menikah   93851000.0   \n",
              "1083             1981        NaN           Menikah   25301000.0   \n",
              "2297             1969        NaN             Cerai          NaN   \n",
              "\n",
              "      jumlah_anak_balita  jumlah_anak_remaja  terakhir_belanja  belanja_buah  \\\n",
              "253                  1.0                 1.0               0.0        5151.0   \n",
              "1194                 1.0                 0.0               5.0        9298.0   \n",
              "787                  0.0                 0.0              76.0           NaN   \n",
              "1311                 1.0                 0.0              41.0       18207.0   \n",
              "3176                 0.0                 0.0              83.0       36414.0   \n",
              "530                  0.0                 0.0              86.0       59787.0   \n",
              "1179                 1.0                 0.0               3.0       26299.0   \n",
              "889                  0.0                 1.0               2.0           0.0   \n",
              "1083                 0.0                 0.0              35.0           NaN   \n",
              "2297                 0.0                 0.0              24.0      277151.0   \n",
              "\n",
              "      belanja_daging  belanja_ikan  belanja_kue  pembelian_diskon  \\\n",
              "253          48781.0       20668.0       3128.0               5.0   \n",
              "1194         47382.0       12125.0       2437.0               3.0   \n",
              "787        1832130.0       67608.0      72459.0               2.0   \n",
              "1311         28322.0       20230.0      10115.0               2.0   \n",
              "3176        483497.0      208369.0     374255.0               3.0   \n",
              "530         834997.0      114063.0      68767.0               2.0   \n",
              "1179          2023.0       10115.0      32368.0               3.0   \n",
              "889          14161.0           0.0          0.0               2.0   \n",
              "1083         22253.0       20230.0      22253.0               2.0   \n",
              "2297       1205708.0       74851.0      22253.0               2.0   \n",
              "\n",
              "      pembelian_web  pembelian_toko  keluhan tanggal_menjadi_anggota  \n",
              "253             NaN             4.0      0.0                     NaN  \n",
              "1194            0.0             4.0      0.0                     NaN  \n",
              "787             3.0             9.0      0.0                     NaN  \n",
              "1311            0.0             1.0      0.0              2014-03-13  \n",
              "3176            8.0             7.0      0.0              2012-09-06  \n",
              "530             4.0             4.0      0.0                     NaN  \n",
              "1179            3.0             5.0      0.0              2012-10-30  \n",
              "889             2.0             5.0      0.0              2013-11-12  \n",
              "1083            1.0             2.0      0.0              2012-12-02  \n",
              "2297            6.0             6.0      0.0              2013-05-20  "
            ]
          },
          "execution_count": 14,
          "metadata": {},
          "output_type": "execute_result"
        }
      ],
      "source": [
        "# Mengambil sample data dengan inputan nan\n",
        "dataNanPendidikan = trainFeatures[trainFeatures['pendidikan'].isnull()]\n",
        "\n",
        "# Mengecek Banyak Baris Data\n",
        "print('Banyak Data dengan inputan nan:', dataNanPendidikan.shape[0], '\\n')\n",
        "print('Dengan sample data sebagai berikut: ')\n",
        "dataNanPendidikan.sample(10)"
      ]
    },
    {
      "cell_type": "markdown",
      "metadata": {
        "id": "YjtiVdDAzLWv"
      },
      "source": [
        "Dikarenakan jumlah dari data nan cukup banyak, maka akan dilakukan pengubahan isi dengan data modus pada kolom **pendidikan**."
      ]
    },
    {
      "cell_type": "code",
      "execution_count": 15,
      "metadata": {
        "colab": {
          "base_uri": "https://localhost:8080/"
        },
        "id": "mH9PAQ4PkCgA",
        "outputId": "0f75da69-a62b-45e3-a724-af9fca5ba2b7"
      },
      "outputs": [
        {
          "name": "stdout",
          "output_type": "stream",
          "text": [
            "Nilai dengan modus terbanyak adalah Sarjana\n"
          ]
        }
      ],
      "source": [
        "# Mengambil jumlah isi terbanyak pada kolom pendidikan\n",
        "modePendidikan = trainFeatures['pendidikan'].mode()[0]\n",
        "print('Nilai dengan modus terbanyak adalah', modePendidikan)"
      ]
    },
    {
      "cell_type": "code",
      "execution_count": 16,
      "metadata": {
        "id": "_KeArtf4re5S"
      },
      "outputs": [],
      "source": [
        "# Mengubah nilai nan menjadi nilai modus\n",
        "trainFeatures['pendidikan'] = trainFeatures['pendidikan'].fillna(modePendidikan)"
      ]
    },
    {
      "cell_type": "code",
      "execution_count": 17,
      "metadata": {
        "colab": {
          "base_uri": "https://localhost:8080/"
        },
        "id": "eFJ0YxDX5WZU",
        "outputId": "4219d5fe-6d66-4f01-a163-40e269e4b325"
      },
      "outputs": [
        {
          "data": {
            "text/plain": [
              "array(['Sarjana', 'Magister', 'SMA', 'SMP', 'Doktor'], dtype=object)"
            ]
          },
          "execution_count": 17,
          "metadata": {},
          "output_type": "execute_result"
        }
      ],
      "source": [
        "# Cek ulang nilai unique\n",
        "trainFeatures['pendidikan'].unique()"
      ]
    },
    {
      "cell_type": "markdown",
      "metadata": {
        "id": "-3QumGrJ5mKU"
      },
      "source": [
        "Pada saat ini, kondisi kolom **pendidikan** sudah normal."
      ]
    },
    {
      "cell_type": "markdown",
      "metadata": {
        "id": "teUdIuuj6R5y"
      },
      "source": [
        "## Kolom Status Pernikahan"
      ]
    },
    {
      "cell_type": "code",
      "execution_count": 18,
      "metadata": {
        "colab": {
          "base_uri": "https://localhost:8080/"
        },
        "id": "zhKEJXMtsP-O",
        "outputId": "9f5e00a2-84d3-47fb-a8ae-5658b4cba8f5"
      },
      "outputs": [
        {
          "data": {
            "text/plain": [
              "array(['Rencana Menikah', 'Menikah', 'Sendiri', 'Cerai', nan,\n",
              "       'Cerai Mati', '5'], dtype=object)"
            ]
          },
          "execution_count": 18,
          "metadata": {},
          "output_type": "execute_result"
        }
      ],
      "source": [
        "# Cek Nilai Unique\n",
        "trainFeatures['status_pernikahan'].unique()"
      ]
    },
    {
      "cell_type": "markdown",
      "metadata": {
        "id": "FqaG_Vjw6fft"
      },
      "source": [
        "Mirip dengan kolom Pendidikan, terdapat dua nilai tidak sesuai pada kolom **Status Pernikahan** yaitu '5' dan nan. Maka perlu dilakukan proses yang sama dengan kolom Pendidikan yaitu meninjau setiap invalid value yang ada untuk dilakukan langkah lebih lanjut."
      ]
    },
    {
      "cell_type": "markdown",
      "metadata": {
        "id": "GQ_PRzbK8DYq"
      },
      "source": [
        "### Olah Data dengan Nilai Unique '5'"
      ]
    },
    {
      "cell_type": "code",
      "execution_count": 19,
      "metadata": {
        "colab": {
          "base_uri": "https://localhost:8080/",
          "height": 100
        },
        "id": "SfD3wvS2secX",
        "outputId": "8e311b39-b7bb-4f09-ccb1-b95abf99b094"
      },
      "outputs": [
        {
          "data": {
            "text/html": [
              "<div>\n",
              "<style scoped>\n",
              "    .dataframe tbody tr th:only-of-type {\n",
              "        vertical-align: middle;\n",
              "    }\n",
              "\n",
              "    .dataframe tbody tr th {\n",
              "        vertical-align: top;\n",
              "    }\n",
              "\n",
              "    .dataframe thead th {\n",
              "        text-align: right;\n",
              "    }\n",
              "</style>\n",
              "<table border=\"1\" class=\"dataframe\">\n",
              "  <thead>\n",
              "    <tr style=\"text-align: right;\">\n",
              "      <th></th>\n",
              "      <th>tahun_kelahiran</th>\n",
              "      <th>pendidikan</th>\n",
              "      <th>status_pernikahan</th>\n",
              "      <th>pendapatan</th>\n",
              "      <th>jumlah_anak_balita</th>\n",
              "      <th>jumlah_anak_remaja</th>\n",
              "      <th>terakhir_belanja</th>\n",
              "      <th>belanja_buah</th>\n",
              "      <th>belanja_daging</th>\n",
              "      <th>belanja_ikan</th>\n",
              "      <th>belanja_kue</th>\n",
              "      <th>pembelian_diskon</th>\n",
              "      <th>pembelian_web</th>\n",
              "      <th>pembelian_toko</th>\n",
              "      <th>keluhan</th>\n",
              "      <th>tanggal_menjadi_anggota</th>\n",
              "    </tr>\n",
              "  </thead>\n",
              "  <tbody>\n",
              "    <tr>\n",
              "      <th>522</th>\n",
              "      <td>1944</td>\n",
              "      <td>Doktor</td>\n",
              "      <td>5</td>\n",
              "      <td>113851181.0</td>\n",
              "      <td>1.0</td>\n",
              "      <td>0.0</td>\n",
              "      <td>42.0</td>\n",
              "      <td>14161.0</td>\n",
              "      <td>27044.0</td>\n",
              "      <td>NaN</td>\n",
              "      <td>7791.0</td>\n",
              "      <td>1.0</td>\n",
              "      <td>0.0</td>\n",
              "      <td>0.0</td>\n",
              "      <td>0.0</td>\n",
              "      <td>NaN</td>\n",
              "    </tr>\n",
              "  </tbody>\n",
              "</table>\n",
              "</div>"
            ],
            "text/plain": [
              "     tahun_kelahiran pendidikan status_pernikahan   pendapatan  \\\n",
              "522             1944     Doktor                 5  113851181.0   \n",
              "\n",
              "     jumlah_anak_balita  jumlah_anak_remaja  terakhir_belanja  belanja_buah  \\\n",
              "522                 1.0                 0.0              42.0       14161.0   \n",
              "\n",
              "     belanja_daging  belanja_ikan  belanja_kue  pembelian_diskon  \\\n",
              "522         27044.0           NaN       7791.0               1.0   \n",
              "\n",
              "     pembelian_web  pembelian_toko  keluhan tanggal_menjadi_anggota  \n",
              "522            0.0             0.0      0.0                     NaN  "
            ]
          },
          "execution_count": 19,
          "metadata": {},
          "output_type": "execute_result"
        }
      ],
      "source": [
        "# Mengambil sample data dengan nilai unique '5'\n",
        "trainFeatures[trainFeatures['status_pernikahan'] == '5']"
      ]
    },
    {
      "cell_type": "markdown",
      "metadata": {
        "id": "ZRWQD7hZ7Ktq"
      },
      "source": [
        "Dikarenakan hanya terdapat satu nilai saja dengan value '5', maka dapat dihapus saja karena tidak terlalu berpengaruh terhadap keseluruhan data."
      ]
    },
    {
      "cell_type": "code",
      "execution_count": 20,
      "metadata": {
        "id": "aHpuBdSYtVgq"
      },
      "outputs": [],
      "source": [
        "# Mengambil data dengan nilai unique '5'\n",
        "dropStatusNikah = trainFeatures[trainFeatures['status_pernikahan'] == '5'].index\n",
        "# Menghapus data\n",
        "trainFeatures.drop(dropStatusNikah, inplace=True)"
      ]
    },
    {
      "cell_type": "markdown",
      "metadata": {
        "id": "SdmFGK8X8KdZ"
      },
      "source": [
        "\n",
        "### Olah Data dengan Nilai Unique NaN"
      ]
    },
    {
      "cell_type": "code",
      "execution_count": 21,
      "metadata": {
        "colab": {
          "base_uri": "https://localhost:8080/",
          "height": 435
        },
        "id": "rluuHrfF7-6W",
        "outputId": "a363f983-5ca0-4f8f-8bcd-a7da034e7729"
      },
      "outputs": [
        {
          "name": "stdout",
          "output_type": "stream",
          "text": [
            "Banyak Data dengan inputan nan: 212 \n",
            "\n",
            "Dengan sample data sebagai berikut: \n"
          ]
        },
        {
          "data": {
            "text/html": [
              "<div>\n",
              "<style scoped>\n",
              "    .dataframe tbody tr th:only-of-type {\n",
              "        vertical-align: middle;\n",
              "    }\n",
              "\n",
              "    .dataframe tbody tr th {\n",
              "        vertical-align: top;\n",
              "    }\n",
              "\n",
              "    .dataframe thead th {\n",
              "        text-align: right;\n",
              "    }\n",
              "</style>\n",
              "<table border=\"1\" class=\"dataframe\">\n",
              "  <thead>\n",
              "    <tr style=\"text-align: right;\">\n",
              "      <th></th>\n",
              "      <th>tahun_kelahiran</th>\n",
              "      <th>pendidikan</th>\n",
              "      <th>status_pernikahan</th>\n",
              "      <th>pendapatan</th>\n",
              "      <th>jumlah_anak_balita</th>\n",
              "      <th>jumlah_anak_remaja</th>\n",
              "      <th>terakhir_belanja</th>\n",
              "      <th>belanja_buah</th>\n",
              "      <th>belanja_daging</th>\n",
              "      <th>belanja_ikan</th>\n",
              "      <th>belanja_kue</th>\n",
              "      <th>pembelian_diskon</th>\n",
              "      <th>pembelian_web</th>\n",
              "      <th>pembelian_toko</th>\n",
              "      <th>keluhan</th>\n",
              "      <th>tanggal_menjadi_anggota</th>\n",
              "    </tr>\n",
              "  </thead>\n",
              "  <tbody>\n",
              "    <tr>\n",
              "      <th>2773</th>\n",
              "      <td>1963</td>\n",
              "      <td>Sarjana</td>\n",
              "      <td>NaN</td>\n",
              "      <td>158043290.0</td>\n",
              "      <td>0.0</td>\n",
              "      <td>NaN</td>\n",
              "      <td>52.0</td>\n",
              "      <td>85563.0</td>\n",
              "      <td>1363598.0</td>\n",
              "      <td>255540.0</td>\n",
              "      <td>239930.0</td>\n",
              "      <td>1.0</td>\n",
              "      <td>4.0</td>\n",
              "      <td>4.0</td>\n",
              "      <td>0.0</td>\n",
              "      <td>NaN</td>\n",
              "    </tr>\n",
              "    <tr>\n",
              "      <th>3395</th>\n",
              "      <td>1970</td>\n",
              "      <td>Sarjana</td>\n",
              "      <td>NaN</td>\n",
              "      <td>110803720.0</td>\n",
              "      <td>0.0</td>\n",
              "      <td>1.0</td>\n",
              "      <td>NaN</td>\n",
              "      <td>23749.0</td>\n",
              "      <td>278917.0</td>\n",
              "      <td>23884.0</td>\n",
              "      <td>8159.0</td>\n",
              "      <td>8.0</td>\n",
              "      <td>5.0</td>\n",
              "      <td>7.0</td>\n",
              "      <td>NaN</td>\n",
              "      <td>NaN</td>\n",
              "    </tr>\n",
              "    <tr>\n",
              "      <th>2066</th>\n",
              "      <td>1991</td>\n",
              "      <td>Sarjana</td>\n",
              "      <td>NaN</td>\n",
              "      <td>36616831.0</td>\n",
              "      <td>0.0</td>\n",
              "      <td>0.0</td>\n",
              "      <td>77.0</td>\n",
              "      <td>14401.0</td>\n",
              "      <td>29042.0</td>\n",
              "      <td>33189.0</td>\n",
              "      <td>4286.0</td>\n",
              "      <td>0.0</td>\n",
              "      <td>5.0</td>\n",
              "      <td>3.0</td>\n",
              "      <td>0.0</td>\n",
              "      <td>NaN</td>\n",
              "    </tr>\n",
              "    <tr>\n",
              "      <th>2358</th>\n",
              "      <td>1971</td>\n",
              "      <td>Doktor</td>\n",
              "      <td>NaN</td>\n",
              "      <td>123744087.0</td>\n",
              "      <td>0.0</td>\n",
              "      <td>1.0</td>\n",
              "      <td>23.0</td>\n",
              "      <td>70620.0</td>\n",
              "      <td>653709.0</td>\n",
              "      <td>NaN</td>\n",
              "      <td>73632.0</td>\n",
              "      <td>10.0</td>\n",
              "      <td>9.0</td>\n",
              "      <td>6.0</td>\n",
              "      <td>0.0</td>\n",
              "      <td>NaN</td>\n",
              "    </tr>\n",
              "    <tr>\n",
              "      <th>2953</th>\n",
              "      <td>1971</td>\n",
              "      <td>Sarjana</td>\n",
              "      <td>NaN</td>\n",
              "      <td>152822999.0</td>\n",
              "      <td>0.0</td>\n",
              "      <td>0.0</td>\n",
              "      <td>22.0</td>\n",
              "      <td>97997.0</td>\n",
              "      <td>NaN</td>\n",
              "      <td>270045.0</td>\n",
              "      <td>1237.0</td>\n",
              "      <td>0.0</td>\n",
              "      <td>NaN</td>\n",
              "      <td>10.0</td>\n",
              "      <td>0.0</td>\n",
              "      <td>NaN</td>\n",
              "    </tr>\n",
              "    <tr>\n",
              "      <th>32</th>\n",
              "      <td>1962</td>\n",
              "      <td>Sarjana</td>\n",
              "      <td>NaN</td>\n",
              "      <td>123183000.0</td>\n",
              "      <td>0.0</td>\n",
              "      <td>1.0</td>\n",
              "      <td>73.0</td>\n",
              "      <td>103173.0</td>\n",
              "      <td>285243.0</td>\n",
              "      <td>74851.0</td>\n",
              "      <td>99127.0</td>\n",
              "      <td>NaN</td>\n",
              "      <td>1.0</td>\n",
              "      <td>13.0</td>\n",
              "      <td>0.0</td>\n",
              "      <td>2012-10-06</td>\n",
              "    </tr>\n",
              "    <tr>\n",
              "      <th>1840</th>\n",
              "      <td>1978</td>\n",
              "      <td>SMA</td>\n",
              "      <td>NaN</td>\n",
              "      <td>50336779.0</td>\n",
              "      <td>NaN</td>\n",
              "      <td>0.0</td>\n",
              "      <td>74.0</td>\n",
              "      <td>11132.0</td>\n",
              "      <td>3687.0</td>\n",
              "      <td>21940.0</td>\n",
              "      <td>0.0</td>\n",
              "      <td>0.0</td>\n",
              "      <td>0.0</td>\n",
              "      <td>2.0</td>\n",
              "      <td>NaN</td>\n",
              "      <td>NaN</td>\n",
              "    </tr>\n",
              "    <tr>\n",
              "      <th>2997</th>\n",
              "      <td>1963</td>\n",
              "      <td>Sarjana</td>\n",
              "      <td>NaN</td>\n",
              "      <td>74310069.0</td>\n",
              "      <td>0.0</td>\n",
              "      <td>0.0</td>\n",
              "      <td>NaN</td>\n",
              "      <td>15023.0</td>\n",
              "      <td>174632.0</td>\n",
              "      <td>37010.0</td>\n",
              "      <td>20891.0</td>\n",
              "      <td>5.0</td>\n",
              "      <td>4.0</td>\n",
              "      <td>5.0</td>\n",
              "      <td>0.0</td>\n",
              "      <td>NaN</td>\n",
              "    </tr>\n",
              "    <tr>\n",
              "      <th>3429</th>\n",
              "      <td>1955</td>\n",
              "      <td>Doktor</td>\n",
              "      <td>NaN</td>\n",
              "      <td>83361000.0</td>\n",
              "      <td>1.0</td>\n",
              "      <td>1.0</td>\n",
              "      <td>10.0</td>\n",
              "      <td>0.0</td>\n",
              "      <td>10115.0</td>\n",
              "      <td>0.0</td>\n",
              "      <td>2023.0</td>\n",
              "      <td>2.0</td>\n",
              "      <td>0.0</td>\n",
              "      <td>5.0</td>\n",
              "      <td>0.0</td>\n",
              "      <td>2012-09-22</td>\n",
              "    </tr>\n",
              "    <tr>\n",
              "      <th>1950</th>\n",
              "      <td>1964</td>\n",
              "      <td>Sarjana</td>\n",
              "      <td>NaN</td>\n",
              "      <td>166012877.0</td>\n",
              "      <td>0.0</td>\n",
              "      <td>0.0</td>\n",
              "      <td>87.0</td>\n",
              "      <td>193496.0</td>\n",
              "      <td>1639104.0</td>\n",
              "      <td>79481.0</td>\n",
              "      <td>153429.0</td>\n",
              "      <td>0.0</td>\n",
              "      <td>NaN</td>\n",
              "      <td>8.0</td>\n",
              "      <td>0.0</td>\n",
              "      <td>NaN</td>\n",
              "    </tr>\n",
              "  </tbody>\n",
              "</table>\n",
              "</div>"
            ],
            "text/plain": [
              "      tahun_kelahiran pendidikan status_pernikahan   pendapatan  \\\n",
              "2773             1963    Sarjana               NaN  158043290.0   \n",
              "3395             1970    Sarjana               NaN  110803720.0   \n",
              "2066             1991    Sarjana               NaN   36616831.0   \n",
              "2358             1971     Doktor               NaN  123744087.0   \n",
              "2953             1971    Sarjana               NaN  152822999.0   \n",
              "32               1962    Sarjana               NaN  123183000.0   \n",
              "1840             1978        SMA               NaN   50336779.0   \n",
              "2997             1963    Sarjana               NaN   74310069.0   \n",
              "3429             1955     Doktor               NaN   83361000.0   \n",
              "1950             1964    Sarjana               NaN  166012877.0   \n",
              "\n",
              "      jumlah_anak_balita  jumlah_anak_remaja  terakhir_belanja  belanja_buah  \\\n",
              "2773                 0.0                 NaN              52.0       85563.0   \n",
              "3395                 0.0                 1.0               NaN       23749.0   \n",
              "2066                 0.0                 0.0              77.0       14401.0   \n",
              "2358                 0.0                 1.0              23.0       70620.0   \n",
              "2953                 0.0                 0.0              22.0       97997.0   \n",
              "32                   0.0                 1.0              73.0      103173.0   \n",
              "1840                 NaN                 0.0              74.0       11132.0   \n",
              "2997                 0.0                 0.0               NaN       15023.0   \n",
              "3429                 1.0                 1.0              10.0           0.0   \n",
              "1950                 0.0                 0.0              87.0      193496.0   \n",
              "\n",
              "      belanja_daging  belanja_ikan  belanja_kue  pembelian_diskon  \\\n",
              "2773       1363598.0      255540.0     239930.0               1.0   \n",
              "3395        278917.0       23884.0       8159.0               8.0   \n",
              "2066         29042.0       33189.0       4286.0               0.0   \n",
              "2358        653709.0           NaN      73632.0              10.0   \n",
              "2953             NaN      270045.0       1237.0               0.0   \n",
              "32          285243.0       74851.0      99127.0               NaN   \n",
              "1840          3687.0       21940.0          0.0               0.0   \n",
              "2997        174632.0       37010.0      20891.0               5.0   \n",
              "3429         10115.0           0.0       2023.0               2.0   \n",
              "1950       1639104.0       79481.0     153429.0               0.0   \n",
              "\n",
              "      pembelian_web  pembelian_toko  keluhan tanggal_menjadi_anggota  \n",
              "2773            4.0             4.0      0.0                     NaN  \n",
              "3395            5.0             7.0      NaN                     NaN  \n",
              "2066            5.0             3.0      0.0                     NaN  \n",
              "2358            9.0             6.0      0.0                     NaN  \n",
              "2953            NaN            10.0      0.0                     NaN  \n",
              "32              1.0            13.0      0.0              2012-10-06  \n",
              "1840            0.0             2.0      NaN                     NaN  \n",
              "2997            4.0             5.0      0.0                     NaN  \n",
              "3429            0.0             5.0      0.0              2012-09-22  \n",
              "1950            NaN             8.0      0.0                     NaN  "
            ]
          },
          "execution_count": 21,
          "metadata": {},
          "output_type": "execute_result"
        }
      ],
      "source": [
        "# Mengambil sample data dengan inputan nan\n",
        "dataNanPernikahan = trainFeatures[trainFeatures['status_pernikahan'].isnull()]\n",
        "\n",
        "# Mengecek Banyak Baris Data\n",
        "print('Banyak Data dengan inputan nan:', dataNanPernikahan.shape[0], '\\n')\n",
        "print('Dengan sample data sebagai berikut: ')\n",
        "dataNanPernikahan.sample(10)"
      ]
    },
    {
      "cell_type": "markdown",
      "metadata": {
        "id": "0u4wcG9W9QDb"
      },
      "source": [
        "Dikarenakan jumlah dari data nan cukup banyak, maka akan dilakukan pengubahan isi data nan dengan analisis lebih lanjut pada kolom-kolom yang berpotensi memiliki korelasi dengan kolom **status pernikahan**. \n",
        "\n",
        "Yaitu dengan melihat kolom **jumlah anak balita** dan **jumlah anak remaja** dengan asumsi jika memiliki nilai lebih dari 0 dari kedua kolom tersebut, maka akan diubah menjadi \"Menikah\"."
      ]
    },
    {
      "cell_type": "code",
      "execution_count": 22,
      "metadata": {
        "colab": {
          "base_uri": "https://localhost:8080/",
          "height": 35
        },
        "id": "TEKrzHFDtj0s",
        "outputId": "67f69d26-c8fb-434a-bdc2-db2d232af2c5"
      },
      "outputs": [],
      "source": [
        "# Ubah NaN menjadi String Terlebih Dahulu\n",
        "trainFeatures['status_pernikahan'].fillna('kosong', inplace=True)\n",
        "\n",
        "# Buat Fungsi\n",
        "def ubahPernikahan(row):\n",
        "    if row['status_pernikahan'] == 'kosong':\n",
        "        if row['jumlah_anak_balita'] > 0 or row['jumlah_anak_remaja'] > 0:\n",
        "            return 'Menikah'\n",
        "        else:\n",
        "            return 'Sendiri'\n",
        "    else:\n",
        "        return row['status_pernikahan']\n",
        "\n",
        "trainFeatures['status_pernikahan'] = trainFeatures.apply(ubahPernikahan, axis=1)"
      ]
    },
    {
      "cell_type": "code",
      "execution_count": 23,
      "metadata": {},
      "outputs": [
        {
          "data": {
            "text/plain": [
              "array(['Rencana Menikah', 'Menikah', 'Sendiri', 'Cerai', 'Cerai Mati'],\n",
              "      dtype=object)"
            ]
          },
          "execution_count": 23,
          "metadata": {},
          "output_type": "execute_result"
        }
      ],
      "source": [
        "trainFeatures['status_pernikahan'].unique()"
      ]
    },
    {
      "cell_type": "markdown",
      "metadata": {},
      "source": [
        "Saat ini nilai unique pada kolom **status pernikahan** sudah normal dan tidak ada nilai nan."
      ]
    },
    {
      "cell_type": "markdown",
      "metadata": {},
      "source": [
        "## Kolom Pendapatan"
      ]
    },
    {
      "cell_type": "code",
      "execution_count": 24,
      "metadata": {},
      "outputs": [
        {
          "data": {
            "text/plain": [
              "645     170872215.0\n",
              "3681     93554000.0\n",
              "98       99416000.0\n",
              "1880    166539464.0\n",
              "3042    140368124.0\n",
              "Name: pendapatan, dtype: float64"
            ]
          },
          "execution_count": 24,
          "metadata": {},
          "output_type": "execute_result"
        }
      ],
      "source": [
        "trainFeatures.pendapatan.sample(5)"
      ]
    },
    {
      "cell_type": "markdown",
      "metadata": {},
      "source": [
        "### Cek Nilai Statistik "
      ]
    },
    {
      "cell_type": "code",
      "execution_count": 25,
      "metadata": {
        "colab": {
          "base_uri": "https://localhost:8080/"
        },
        "id": "FODbWMiTy760",
        "outputId": "417a5dfb-6f53-42c9-f7b3-2760993b97e7"
      },
      "outputs": [
        {
          "data": {
            "text/html": [
              "<div>\n",
              "<style scoped>\n",
              "    .dataframe tbody tr th:only-of-type {\n",
              "        vertical-align: middle;\n",
              "    }\n",
              "\n",
              "    .dataframe tbody tr th {\n",
              "        vertical-align: top;\n",
              "    }\n",
              "\n",
              "    .dataframe thead th {\n",
              "        text-align: right;\n",
              "    }\n",
              "</style>\n",
              "<table border=\"1\" class=\"dataframe\">\n",
              "  <thead>\n",
              "    <tr style=\"text-align: right;\">\n",
              "      <th></th>\n",
              "      <th>tahun_kelahiran</th>\n",
              "      <th>pendapatan</th>\n",
              "      <th>jumlah_anak_balita</th>\n",
              "      <th>jumlah_anak_remaja</th>\n",
              "      <th>terakhir_belanja</th>\n",
              "      <th>belanja_buah</th>\n",
              "      <th>belanja_daging</th>\n",
              "      <th>belanja_ikan</th>\n",
              "      <th>belanja_kue</th>\n",
              "      <th>pembelian_diskon</th>\n",
              "      <th>pembelian_web</th>\n",
              "      <th>pembelian_toko</th>\n",
              "      <th>keluhan</th>\n",
              "    </tr>\n",
              "  </thead>\n",
              "  <tbody>\n",
              "    <tr>\n",
              "      <th>count</th>\n",
              "      <td>3814.000000</td>\n",
              "      <td>3.624000e+03</td>\n",
              "      <td>3624.000000</td>\n",
              "      <td>3610.000000</td>\n",
              "      <td>3642.000000</td>\n",
              "      <td>3633.000000</td>\n",
              "      <td>3.636000e+03</td>\n",
              "      <td>3622.000000</td>\n",
              "      <td>3600.000000</td>\n",
              "      <td>3636.000000</td>\n",
              "      <td>3649.000000</td>\n",
              "      <td>3645.000000</td>\n",
              "      <td>3618.000000</td>\n",
              "    </tr>\n",
              "    <tr>\n",
              "      <th>mean</th>\n",
              "      <td>1967.830362</td>\n",
              "      <td>1.144910e+08</td>\n",
              "      <td>0.292770</td>\n",
              "      <td>0.353740</td>\n",
              "      <td>47.233388</td>\n",
              "      <td>59834.344344</td>\n",
              "      <td>4.385213e+05</td>\n",
              "      <td>81414.356157</td>\n",
              "      <td>63402.365000</td>\n",
              "      <td>2.125413</td>\n",
              "      <td>4.439024</td>\n",
              "      <td>5.767901</td>\n",
              "      <td>0.004975</td>\n",
              "    </tr>\n",
              "    <tr>\n",
              "      <th>std</th>\n",
              "      <td>11.764420</td>\n",
              "      <td>4.346894e+07</td>\n",
              "      <td>0.472942</td>\n",
              "      <td>0.493031</td>\n",
              "      <td>27.063687</td>\n",
              "      <td>74045.898408</td>\n",
              "      <td>5.118685e+05</td>\n",
              "      <td>99972.253724</td>\n",
              "      <td>79456.742289</td>\n",
              "      <td>2.100816</td>\n",
              "      <td>3.002223</td>\n",
              "      <td>3.208269</td>\n",
              "      <td>0.070369</td>\n",
              "    </tr>\n",
              "    <tr>\n",
              "      <th>min</th>\n",
              "      <td>1899.000000</td>\n",
              "      <td>5.073000e+06</td>\n",
              "      <td>0.000000</td>\n",
              "      <td>0.000000</td>\n",
              "      <td>0.000000</td>\n",
              "      <td>0.000000</td>\n",
              "      <td>0.000000e+00</td>\n",
              "      <td>0.000000</td>\n",
              "      <td>0.000000</td>\n",
              "      <td>0.000000</td>\n",
              "      <td>0.000000</td>\n",
              "      <td>0.000000</td>\n",
              "      <td>0.000000</td>\n",
              "    </tr>\n",
              "    <tr>\n",
              "      <th>25%</th>\n",
              "      <td>1959.000000</td>\n",
              "      <td>8.112568e+07</td>\n",
              "      <td>0.000000</td>\n",
              "      <td>0.000000</td>\n",
              "      <td>25.000000</td>\n",
              "      <td>7908.000000</td>\n",
              "      <td>4.955925e+04</td>\n",
              "      <td>10115.000000</td>\n",
              "      <td>7953.250000</td>\n",
              "      <td>0.000000</td>\n",
              "      <td>2.000000</td>\n",
              "      <td>3.000000</td>\n",
              "      <td>0.000000</td>\n",
              "    </tr>\n",
              "    <tr>\n",
              "      <th>50%</th>\n",
              "      <td>1968.000000</td>\n",
              "      <td>1.156252e+08</td>\n",
              "      <td>0.000000</td>\n",
              "      <td>0.000000</td>\n",
              "      <td>47.000000</td>\n",
              "      <td>26465.000000</td>\n",
              "      <td>2.221065e+05</td>\n",
              "      <td>36054.500000</td>\n",
              "      <td>27804.500000</td>\n",
              "      <td>2.000000</td>\n",
              "      <td>4.000000</td>\n",
              "      <td>5.000000</td>\n",
              "      <td>0.000000</td>\n",
              "    </tr>\n",
              "    <tr>\n",
              "      <th>75%</th>\n",
              "      <td>1976.000000</td>\n",
              "      <td>1.505037e+08</td>\n",
              "      <td>1.000000</td>\n",
              "      <td>1.000000</td>\n",
              "      <td>69.000000</td>\n",
              "      <td>86201.000000</td>\n",
              "      <td>6.860762e+05</td>\n",
              "      <td>121309.500000</td>\n",
              "      <td>89677.000000</td>\n",
              "      <td>3.000000</td>\n",
              "      <td>7.000000</td>\n",
              "      <td>8.000000</td>\n",
              "      <td>0.000000</td>\n",
              "    </tr>\n",
              "    <tr>\n",
              "      <th>max</th>\n",
              "      <td>2000.000000</td>\n",
              "      <td>3.328840e+08</td>\n",
              "      <td>2.000000</td>\n",
              "      <td>2.000000</td>\n",
              "      <td>128.000000</td>\n",
              "      <td>396508.000000</td>\n",
              "      <td>3.489675e+06</td>\n",
              "      <td>621600.000000</td>\n",
              "      <td>542164.000000</td>\n",
              "      <td>20.000000</td>\n",
              "      <td>30.000000</td>\n",
              "      <td>17.000000</td>\n",
              "      <td>1.000000</td>\n",
              "    </tr>\n",
              "  </tbody>\n",
              "</table>\n",
              "</div>"
            ],
            "text/plain": [
              "       tahun_kelahiran    pendapatan  jumlah_anak_balita  jumlah_anak_remaja  \\\n",
              "count      3814.000000  3.624000e+03         3624.000000         3610.000000   \n",
              "mean       1967.830362  1.144910e+08            0.292770            0.353740   \n",
              "std          11.764420  4.346894e+07            0.472942            0.493031   \n",
              "min        1899.000000  5.073000e+06            0.000000            0.000000   \n",
              "25%        1959.000000  8.112568e+07            0.000000            0.000000   \n",
              "50%        1968.000000  1.156252e+08            0.000000            0.000000   \n",
              "75%        1976.000000  1.505037e+08            1.000000            1.000000   \n",
              "max        2000.000000  3.328840e+08            2.000000            2.000000   \n",
              "\n",
              "       terakhir_belanja   belanja_buah  belanja_daging   belanja_ikan  \\\n",
              "count       3642.000000    3633.000000    3.636000e+03    3622.000000   \n",
              "mean          47.233388   59834.344344    4.385213e+05   81414.356157   \n",
              "std           27.063687   74045.898408    5.118685e+05   99972.253724   \n",
              "min            0.000000       0.000000    0.000000e+00       0.000000   \n",
              "25%           25.000000    7908.000000    4.955925e+04   10115.000000   \n",
              "50%           47.000000   26465.000000    2.221065e+05   36054.500000   \n",
              "75%           69.000000   86201.000000    6.860762e+05  121309.500000   \n",
              "max          128.000000  396508.000000    3.489675e+06  621600.000000   \n",
              "\n",
              "         belanja_kue  pembelian_diskon  pembelian_web  pembelian_toko  \\\n",
              "count    3600.000000       3636.000000    3649.000000     3645.000000   \n",
              "mean    63402.365000          2.125413       4.439024        5.767901   \n",
              "std     79456.742289          2.100816       3.002223        3.208269   \n",
              "min         0.000000          0.000000       0.000000        0.000000   \n",
              "25%      7953.250000          0.000000       2.000000        3.000000   \n",
              "50%     27804.500000          2.000000       4.000000        5.000000   \n",
              "75%     89677.000000          3.000000       7.000000        8.000000   \n",
              "max    542164.000000         20.000000      30.000000       17.000000   \n",
              "\n",
              "           keluhan  \n",
              "count  3618.000000  \n",
              "mean      0.004975  \n",
              "std       0.070369  \n",
              "min       0.000000  \n",
              "25%       0.000000  \n",
              "50%       0.000000  \n",
              "75%       0.000000  \n",
              "max       1.000000  "
            ]
          },
          "execution_count": 25,
          "metadata": {},
          "output_type": "execute_result"
        }
      ],
      "source": [
        "trainFeatures.describe()"
      ]
    },
    {
      "cell_type": "markdown",
      "metadata": {},
      "source": [
        "### Pengecekan Nilai Null\n",
        "\n",
        "Dari hasil analisis sebelumnya, terlihat bahwa terdapat nilai null pada kolom ini."
      ]
    },
    {
      "cell_type": "code",
      "execution_count": 26,
      "metadata": {},
      "outputs": [
        {
          "data": {
            "text/html": [
              "<div>\n",
              "<style scoped>\n",
              "    .dataframe tbody tr th:only-of-type {\n",
              "        vertical-align: middle;\n",
              "    }\n",
              "\n",
              "    .dataframe tbody tr th {\n",
              "        vertical-align: top;\n",
              "    }\n",
              "\n",
              "    .dataframe thead th {\n",
              "        text-align: right;\n",
              "    }\n",
              "</style>\n",
              "<table border=\"1\" class=\"dataframe\">\n",
              "  <thead>\n",
              "    <tr style=\"text-align: right;\">\n",
              "      <th></th>\n",
              "      <th>tahun_kelahiran</th>\n",
              "      <th>pendidikan</th>\n",
              "      <th>status_pernikahan</th>\n",
              "      <th>pendapatan</th>\n",
              "      <th>jumlah_anak_balita</th>\n",
              "      <th>jumlah_anak_remaja</th>\n",
              "      <th>terakhir_belanja</th>\n",
              "      <th>belanja_buah</th>\n",
              "      <th>belanja_daging</th>\n",
              "      <th>belanja_ikan</th>\n",
              "      <th>belanja_kue</th>\n",
              "      <th>pembelian_diskon</th>\n",
              "      <th>pembelian_web</th>\n",
              "      <th>pembelian_toko</th>\n",
              "      <th>keluhan</th>\n",
              "      <th>tanggal_menjadi_anggota</th>\n",
              "    </tr>\n",
              "  </thead>\n",
              "  <tbody>\n",
              "    <tr>\n",
              "      <th>0</th>\n",
              "      <td>1979</td>\n",
              "      <td>Sarjana</td>\n",
              "      <td>Rencana Menikah</td>\n",
              "      <td>NaN</td>\n",
              "      <td>0.0</td>\n",
              "      <td>1.0</td>\n",
              "      <td>NaN</td>\n",
              "      <td>50575.0</td>\n",
              "      <td>260967.0</td>\n",
              "      <td>50575.0</td>\n",
              "      <td>20230.0</td>\n",
              "      <td>2.0</td>\n",
              "      <td>2.0</td>\n",
              "      <td>5.0</td>\n",
              "      <td>0.0</td>\n",
              "      <td>2014-05-05</td>\n",
              "    </tr>\n",
              "    <tr>\n",
              "      <th>23</th>\n",
              "      <td>1982</td>\n",
              "      <td>SMA</td>\n",
              "      <td>Rencana Menikah</td>\n",
              "      <td>NaN</td>\n",
              "      <td>1.0</td>\n",
              "      <td>0.0</td>\n",
              "      <td>54.0</td>\n",
              "      <td>8742.0</td>\n",
              "      <td>26206.0</td>\n",
              "      <td>4231.0</td>\n",
              "      <td>836.0</td>\n",
              "      <td>3.0</td>\n",
              "      <td>2.0</td>\n",
              "      <td>2.0</td>\n",
              "      <td>0.0</td>\n",
              "      <td>NaN</td>\n",
              "    </tr>\n",
              "    <tr>\n",
              "      <th>53</th>\n",
              "      <td>1975</td>\n",
              "      <td>Doktor</td>\n",
              "      <td>Menikah</td>\n",
              "      <td>NaN</td>\n",
              "      <td>0.0</td>\n",
              "      <td>0.0</td>\n",
              "      <td>65.0</td>\n",
              "      <td>180047.0</td>\n",
              "      <td>1488928.0</td>\n",
              "      <td>145656.0</td>\n",
              "      <td>105196.0</td>\n",
              "      <td>1.0</td>\n",
              "      <td>1.0</td>\n",
              "      <td>7.0</td>\n",
              "      <td>0.0</td>\n",
              "      <td>NaN</td>\n",
              "    </tr>\n",
              "    <tr>\n",
              "      <th>116</th>\n",
              "      <td>1957</td>\n",
              "      <td>SMA</td>\n",
              "      <td>Rencana Menikah</td>\n",
              "      <td>NaN</td>\n",
              "      <td>0.0</td>\n",
              "      <td>1.0</td>\n",
              "      <td>30.0</td>\n",
              "      <td>15143.0</td>\n",
              "      <td>61788.0</td>\n",
              "      <td>4104.0</td>\n",
              "      <td>0.0</td>\n",
              "      <td>4.0</td>\n",
              "      <td>5.0</td>\n",
              "      <td>8.0</td>\n",
              "      <td>0.0</td>\n",
              "      <td>NaN</td>\n",
              "    </tr>\n",
              "    <tr>\n",
              "      <th>135</th>\n",
              "      <td>1976</td>\n",
              "      <td>Sarjana</td>\n",
              "      <td>Menikah</td>\n",
              "      <td>NaN</td>\n",
              "      <td>0.0</td>\n",
              "      <td>NaN</td>\n",
              "      <td>66.0</td>\n",
              "      <td>115311.0</td>\n",
              "      <td>1145018.0</td>\n",
              "      <td>226576.0</td>\n",
              "      <td>260967.0</td>\n",
              "      <td>2.0</td>\n",
              "      <td>6.0</td>\n",
              "      <td>7.0</td>\n",
              "      <td>0.0</td>\n",
              "      <td>2014-05-14</td>\n",
              "    </tr>\n",
              "    <tr>\n",
              "      <th>141</th>\n",
              "      <td>1963</td>\n",
              "      <td>Sarjana</td>\n",
              "      <td>Sendiri</td>\n",
              "      <td>NaN</td>\n",
              "      <td>0.0</td>\n",
              "      <td>1.0</td>\n",
              "      <td>14.0</td>\n",
              "      <td>15436.0</td>\n",
              "      <td>112814.0</td>\n",
              "      <td>NaN</td>\n",
              "      <td>20120.0</td>\n",
              "      <td>0.0</td>\n",
              "      <td>8.0</td>\n",
              "      <td>5.0</td>\n",
              "      <td>0.0</td>\n",
              "      <td>NaN</td>\n",
              "    </tr>\n",
              "    <tr>\n",
              "      <th>145</th>\n",
              "      <td>1967</td>\n",
              "      <td>Sarjana</td>\n",
              "      <td>Rencana Menikah</td>\n",
              "      <td>NaN</td>\n",
              "      <td>1.0</td>\n",
              "      <td>1.0</td>\n",
              "      <td>22.0</td>\n",
              "      <td>4046.0</td>\n",
              "      <td>12138.0</td>\n",
              "      <td>0.0</td>\n",
              "      <td>0.0</td>\n",
              "      <td>2.0</td>\n",
              "      <td>1.0</td>\n",
              "      <td>NaN</td>\n",
              "      <td>0.0</td>\n",
              "      <td>2012-12-10</td>\n",
              "    </tr>\n",
              "    <tr>\n",
              "      <th>150</th>\n",
              "      <td>1972</td>\n",
              "      <td>Magister</td>\n",
              "      <td>Rencana Menikah</td>\n",
              "      <td>NaN</td>\n",
              "      <td>0.0</td>\n",
              "      <td>1.0</td>\n",
              "      <td>85.0</td>\n",
              "      <td>55231.0</td>\n",
              "      <td>475405.0</td>\n",
              "      <td>36006.0</td>\n",
              "      <td>NaN</td>\n",
              "      <td>1.0</td>\n",
              "      <td>10.0</td>\n",
              "      <td>4.0</td>\n",
              "      <td>0.0</td>\n",
              "      <td>NaN</td>\n",
              "    </tr>\n",
              "    <tr>\n",
              "      <th>180</th>\n",
              "      <td>1980</td>\n",
              "      <td>Sarjana</td>\n",
              "      <td>Rencana Menikah</td>\n",
              "      <td>NaN</td>\n",
              "      <td>0.0</td>\n",
              "      <td>0.0</td>\n",
              "      <td>7.0</td>\n",
              "      <td>NaN</td>\n",
              "      <td>36475.0</td>\n",
              "      <td>22978.0</td>\n",
              "      <td>34337.0</td>\n",
              "      <td>1.0</td>\n",
              "      <td>3.0</td>\n",
              "      <td>0.0</td>\n",
              "      <td>0.0</td>\n",
              "      <td>NaN</td>\n",
              "    </tr>\n",
              "    <tr>\n",
              "      <th>190</th>\n",
              "      <td>1981</td>\n",
              "      <td>Doktor</td>\n",
              "      <td>Rencana Menikah</td>\n",
              "      <td>NaN</td>\n",
              "      <td>1.0</td>\n",
              "      <td>0.0</td>\n",
              "      <td>61.0</td>\n",
              "      <td>2023.0</td>\n",
              "      <td>105196.0</td>\n",
              "      <td>0.0</td>\n",
              "      <td>12138.0</td>\n",
              "      <td>1.0</td>\n",
              "      <td>7.0</td>\n",
              "      <td>4.0</td>\n",
              "      <td>0.0</td>\n",
              "      <td>2013-02-10</td>\n",
              "    </tr>\n",
              "  </tbody>\n",
              "</table>\n",
              "</div>"
            ],
            "text/plain": [
              "     tahun_kelahiran pendidikan status_pernikahan  pendapatan  \\\n",
              "0               1979    Sarjana   Rencana Menikah         NaN   \n",
              "23              1982        SMA   Rencana Menikah         NaN   \n",
              "53              1975     Doktor           Menikah         NaN   \n",
              "116             1957        SMA   Rencana Menikah         NaN   \n",
              "135             1976    Sarjana           Menikah         NaN   \n",
              "141             1963    Sarjana           Sendiri         NaN   \n",
              "145             1967    Sarjana   Rencana Menikah         NaN   \n",
              "150             1972   Magister   Rencana Menikah         NaN   \n",
              "180             1980    Sarjana   Rencana Menikah         NaN   \n",
              "190             1981     Doktor   Rencana Menikah         NaN   \n",
              "\n",
              "     jumlah_anak_balita  jumlah_anak_remaja  terakhir_belanja  belanja_buah  \\\n",
              "0                   0.0                 1.0               NaN       50575.0   \n",
              "23                  1.0                 0.0              54.0        8742.0   \n",
              "53                  0.0                 0.0              65.0      180047.0   \n",
              "116                 0.0                 1.0              30.0       15143.0   \n",
              "135                 0.0                 NaN              66.0      115311.0   \n",
              "141                 0.0                 1.0              14.0       15436.0   \n",
              "145                 1.0                 1.0              22.0        4046.0   \n",
              "150                 0.0                 1.0              85.0       55231.0   \n",
              "180                 0.0                 0.0               7.0           NaN   \n",
              "190                 1.0                 0.0              61.0        2023.0   \n",
              "\n",
              "     belanja_daging  belanja_ikan  belanja_kue  pembelian_diskon  \\\n",
              "0          260967.0       50575.0      20230.0               2.0   \n",
              "23          26206.0        4231.0        836.0               3.0   \n",
              "53        1488928.0      145656.0     105196.0               1.0   \n",
              "116         61788.0        4104.0          0.0               4.0   \n",
              "135       1145018.0      226576.0     260967.0               2.0   \n",
              "141        112814.0           NaN      20120.0               0.0   \n",
              "145         12138.0           0.0          0.0               2.0   \n",
              "150        475405.0       36006.0          NaN               1.0   \n",
              "180         36475.0       22978.0      34337.0               1.0   \n",
              "190        105196.0           0.0      12138.0               1.0   \n",
              "\n",
              "     pembelian_web  pembelian_toko  keluhan tanggal_menjadi_anggota  \n",
              "0              2.0             5.0      0.0              2014-05-05  \n",
              "23             2.0             2.0      0.0                     NaN  \n",
              "53             1.0             7.0      0.0                     NaN  \n",
              "116            5.0             8.0      0.0                     NaN  \n",
              "135            6.0             7.0      0.0              2014-05-14  \n",
              "141            8.0             5.0      0.0                     NaN  \n",
              "145            1.0             NaN      0.0              2012-12-10  \n",
              "150           10.0             4.0      0.0                     NaN  \n",
              "180            3.0             0.0      0.0                     NaN  \n",
              "190            7.0             4.0      0.0              2013-02-10  "
            ]
          },
          "execution_count": 26,
          "metadata": {},
          "output_type": "execute_result"
        }
      ],
      "source": [
        "nullPendapatan = trainFeatures[trainFeatures['pendapatan'].isnull()]\n",
        "nullPendapatan.head(10)"
      ]
    },
    {
      "cell_type": "code",
      "execution_count": 27,
      "metadata": {},
      "outputs": [
        {
          "data": {
            "text/html": [
              "<div>\n",
              "<style scoped>\n",
              "    .dataframe tbody tr th:only-of-type {\n",
              "        vertical-align: middle;\n",
              "    }\n",
              "\n",
              "    .dataframe tbody tr th {\n",
              "        vertical-align: top;\n",
              "    }\n",
              "\n",
              "    .dataframe thead th {\n",
              "        text-align: right;\n",
              "    }\n",
              "</style>\n",
              "<table border=\"1\" class=\"dataframe\">\n",
              "  <thead>\n",
              "    <tr style=\"text-align: right;\">\n",
              "      <th></th>\n",
              "      <th>tahun_kelahiran</th>\n",
              "      <th>pendidikan</th>\n",
              "      <th>status_pernikahan</th>\n",
              "      <th>pendapatan</th>\n",
              "      <th>jumlah_anak_balita</th>\n",
              "      <th>jumlah_anak_remaja</th>\n",
              "      <th>terakhir_belanja</th>\n",
              "      <th>belanja_buah</th>\n",
              "      <th>belanja_daging</th>\n",
              "      <th>belanja_ikan</th>\n",
              "      <th>belanja_kue</th>\n",
              "      <th>pembelian_diskon</th>\n",
              "      <th>pembelian_web</th>\n",
              "      <th>pembelian_toko</th>\n",
              "      <th>keluhan</th>\n",
              "      <th>tanggal_menjadi_anggota</th>\n",
              "    </tr>\n",
              "  </thead>\n",
              "  <tbody>\n",
              "    <tr>\n",
              "      <th>886</th>\n",
              "      <td>1968</td>\n",
              "      <td>Sarjana</td>\n",
              "      <td>Rencana Menikah</td>\n",
              "      <td>150502991.0</td>\n",
              "      <td>NaN</td>\n",
              "      <td>0.0</td>\n",
              "      <td>15.0</td>\n",
              "      <td>200724.0</td>\n",
              "      <td>1476057.0</td>\n",
              "      <td>211056.0</td>\n",
              "      <td>212900.0</td>\n",
              "      <td>2.0</td>\n",
              "      <td>9.0</td>\n",
              "      <td>5.0</td>\n",
              "      <td>0.0</td>\n",
              "      <td>NaN</td>\n",
              "    </tr>\n",
              "    <tr>\n",
              "      <th>1012</th>\n",
              "      <td>1958</td>\n",
              "      <td>SMA</td>\n",
              "      <td>Sendiri</td>\n",
              "      <td>68273000.0</td>\n",
              "      <td>0.0</td>\n",
              "      <td>0.0</td>\n",
              "      <td>34.0</td>\n",
              "      <td>52598.0</td>\n",
              "      <td>30345.0</td>\n",
              "      <td>26299.0</td>\n",
              "      <td>NaN</td>\n",
              "      <td>1.0</td>\n",
              "      <td>3.0</td>\n",
              "      <td>5.0</td>\n",
              "      <td>0.0</td>\n",
              "      <td>NaN</td>\n",
              "    </tr>\n",
              "    <tr>\n",
              "      <th>1676</th>\n",
              "      <td>1969</td>\n",
              "      <td>Doktor</td>\n",
              "      <td>Menikah</td>\n",
              "      <td>75953000.0</td>\n",
              "      <td>1.0</td>\n",
              "      <td>1.0</td>\n",
              "      <td>61.0</td>\n",
              "      <td>10115.0</td>\n",
              "      <td>74851.0</td>\n",
              "      <td>6069.0</td>\n",
              "      <td>8092.0</td>\n",
              "      <td>3.0</td>\n",
              "      <td>NaN</td>\n",
              "      <td>4.0</td>\n",
              "      <td>NaN</td>\n",
              "      <td>2012-08-07</td>\n",
              "    </tr>\n",
              "    <tr>\n",
              "      <th>2163</th>\n",
              "      <td>1965</td>\n",
              "      <td>Sarjana</td>\n",
              "      <td>Menikah</td>\n",
              "      <td>78433162.0</td>\n",
              "      <td>1.0</td>\n",
              "      <td>1.0</td>\n",
              "      <td>52.0</td>\n",
              "      <td>2215.0</td>\n",
              "      <td>10069.0</td>\n",
              "      <td>3853.0</td>\n",
              "      <td>5537.0</td>\n",
              "      <td>1.0</td>\n",
              "      <td>2.0</td>\n",
              "      <td>2.0</td>\n",
              "      <td>0.0</td>\n",
              "      <td>NaN</td>\n",
              "    </tr>\n",
              "    <tr>\n",
              "      <th>1579</th>\n",
              "      <td>1984</td>\n",
              "      <td>Doktor</td>\n",
              "      <td>Rencana Menikah</td>\n",
              "      <td>179937000.0</td>\n",
              "      <td>0.0</td>\n",
              "      <td>0.0</td>\n",
              "      <td>72.0</td>\n",
              "      <td>141610.0</td>\n",
              "      <td>1507135.0</td>\n",
              "      <td>163863.0</td>\n",
              "      <td>327726.0</td>\n",
              "      <td>2.0</td>\n",
              "      <td>6.0</td>\n",
              "      <td>14.0</td>\n",
              "      <td>0.0</td>\n",
              "      <td>2013-11-23</td>\n",
              "    </tr>\n",
              "    <tr>\n",
              "      <th>2920</th>\n",
              "      <td>1965</td>\n",
              "      <td>Sarjana</td>\n",
              "      <td>Rencana Menikah</td>\n",
              "      <td>100828313.0</td>\n",
              "      <td>0.0</td>\n",
              "      <td>0.0</td>\n",
              "      <td>50.0</td>\n",
              "      <td>10115.0</td>\n",
              "      <td>65222.0</td>\n",
              "      <td>12097.0</td>\n",
              "      <td>0.0</td>\n",
              "      <td>0.0</td>\n",
              "      <td>2.0</td>\n",
              "      <td>3.0</td>\n",
              "      <td>0.0</td>\n",
              "      <td>NaN</td>\n",
              "    </tr>\n",
              "    <tr>\n",
              "      <th>2482</th>\n",
              "      <td>1955</td>\n",
              "      <td>SMA</td>\n",
              "      <td>Menikah</td>\n",
              "      <td>166588731.0</td>\n",
              "      <td>0.0</td>\n",
              "      <td>0.0</td>\n",
              "      <td>44.0</td>\n",
              "      <td>88410.0</td>\n",
              "      <td>NaN</td>\n",
              "      <td>346570.0</td>\n",
              "      <td>242268.0</td>\n",
              "      <td>0.0</td>\n",
              "      <td>8.0</td>\n",
              "      <td>10.0</td>\n",
              "      <td>0.0</td>\n",
              "      <td>NaN</td>\n",
              "    </tr>\n",
              "    <tr>\n",
              "      <th>1529</th>\n",
              "      <td>1974</td>\n",
              "      <td>SMA</td>\n",
              "      <td>Sendiri</td>\n",
              "      <td>51309776.0</td>\n",
              "      <td>1.0</td>\n",
              "      <td>0.0</td>\n",
              "      <td>10.0</td>\n",
              "      <td>14136.0</td>\n",
              "      <td>24288.0</td>\n",
              "      <td>12460.0</td>\n",
              "      <td>30220.0</td>\n",
              "      <td>1.0</td>\n",
              "      <td>3.0</td>\n",
              "      <td>4.0</td>\n",
              "      <td>0.0</td>\n",
              "      <td>NaN</td>\n",
              "    </tr>\n",
              "    <tr>\n",
              "      <th>1547</th>\n",
              "      <td>1970</td>\n",
              "      <td>Magister</td>\n",
              "      <td>Menikah</td>\n",
              "      <td>141289107.0</td>\n",
              "      <td>NaN</td>\n",
              "      <td>0.0</td>\n",
              "      <td>63.0</td>\n",
              "      <td>31374.0</td>\n",
              "      <td>294060.0</td>\n",
              "      <td>50453.0</td>\n",
              "      <td>63196.0</td>\n",
              "      <td>NaN</td>\n",
              "      <td>1.0</td>\n",
              "      <td>10.0</td>\n",
              "      <td>0.0</td>\n",
              "      <td>NaN</td>\n",
              "    </tr>\n",
              "    <tr>\n",
              "      <th>1809</th>\n",
              "      <td>1981</td>\n",
              "      <td>Doktor</td>\n",
              "      <td>Menikah</td>\n",
              "      <td>46855000.0</td>\n",
              "      <td>1.0</td>\n",
              "      <td>0.0</td>\n",
              "      <td>46.0</td>\n",
              "      <td>0.0</td>\n",
              "      <td>6069.0</td>\n",
              "      <td>0.0</td>\n",
              "      <td>8092.0</td>\n",
              "      <td>1.0</td>\n",
              "      <td>3.0</td>\n",
              "      <td>1.0</td>\n",
              "      <td>0.0</td>\n",
              "      <td>2014-06-02</td>\n",
              "    </tr>\n",
              "  </tbody>\n",
              "</table>\n",
              "</div>"
            ],
            "text/plain": [
              "      tahun_kelahiran pendidikan status_pernikahan   pendapatan  \\\n",
              "886              1968    Sarjana   Rencana Menikah  150502991.0   \n",
              "1012             1958        SMA           Sendiri   68273000.0   \n",
              "1676             1969     Doktor           Menikah   75953000.0   \n",
              "2163             1965    Sarjana           Menikah   78433162.0   \n",
              "1579             1984     Doktor   Rencana Menikah  179937000.0   \n",
              "2920             1965    Sarjana   Rencana Menikah  100828313.0   \n",
              "2482             1955        SMA           Menikah  166588731.0   \n",
              "1529             1974        SMA           Sendiri   51309776.0   \n",
              "1547             1970   Magister           Menikah  141289107.0   \n",
              "1809             1981     Doktor           Menikah   46855000.0   \n",
              "\n",
              "      jumlah_anak_balita  jumlah_anak_remaja  terakhir_belanja  belanja_buah  \\\n",
              "886                  NaN                 0.0              15.0      200724.0   \n",
              "1012                 0.0                 0.0              34.0       52598.0   \n",
              "1676                 1.0                 1.0              61.0       10115.0   \n",
              "2163                 1.0                 1.0              52.0        2215.0   \n",
              "1579                 0.0                 0.0              72.0      141610.0   \n",
              "2920                 0.0                 0.0              50.0       10115.0   \n",
              "2482                 0.0                 0.0              44.0       88410.0   \n",
              "1529                 1.0                 0.0              10.0       14136.0   \n",
              "1547                 NaN                 0.0              63.0       31374.0   \n",
              "1809                 1.0                 0.0              46.0           0.0   \n",
              "\n",
              "      belanja_daging  belanja_ikan  belanja_kue  pembelian_diskon  \\\n",
              "886        1476057.0      211056.0     212900.0               2.0   \n",
              "1012         30345.0       26299.0          NaN               1.0   \n",
              "1676         74851.0        6069.0       8092.0               3.0   \n",
              "2163         10069.0        3853.0       5537.0               1.0   \n",
              "1579       1507135.0      163863.0     327726.0               2.0   \n",
              "2920         65222.0       12097.0          0.0               0.0   \n",
              "2482             NaN      346570.0     242268.0               0.0   \n",
              "1529         24288.0       12460.0      30220.0               1.0   \n",
              "1547        294060.0       50453.0      63196.0               NaN   \n",
              "1809          6069.0           0.0       8092.0               1.0   \n",
              "\n",
              "      pembelian_web  pembelian_toko  keluhan tanggal_menjadi_anggota  \n",
              "886             9.0             5.0      0.0                     NaN  \n",
              "1012            3.0             5.0      0.0                     NaN  \n",
              "1676            NaN             4.0      NaN              2012-08-07  \n",
              "2163            2.0             2.0      0.0                     NaN  \n",
              "1579            6.0            14.0      0.0              2013-11-23  \n",
              "2920            2.0             3.0      0.0                     NaN  \n",
              "2482            8.0            10.0      0.0                     NaN  \n",
              "1529            3.0             4.0      0.0                     NaN  \n",
              "1547            1.0            10.0      0.0                     NaN  \n",
              "1809            3.0             1.0      0.0              2014-06-02  "
            ]
          },
          "execution_count": 27,
          "metadata": {},
          "output_type": "execute_result"
        }
      ],
      "source": [
        "trainFeatures.sample(10)"
      ]
    },
    {
      "cell_type": "markdown",
      "metadata": {},
      "source": [
        "Yang dilakukan adalah menggunakan interpolasi polinomial untuk menutup setiap nilai NaN yang ada dengan titik terdekat data ke data lainnya secara linear."
      ]
    },
    {
      "cell_type": "code",
      "execution_count": 28,
      "metadata": {
        "id": "jyT87u3auQ5c"
      },
      "outputs": [],
      "source": [
        "# Data x dan y yang tidak null\n",
        "x_known = trainFeatures.index[~trainFeatures['pendapatan'].isnull()]\n",
        "y_known = trainFeatures.loc[x_known, 'pendapatan']\n",
        "\n",
        "# Buat objek interpolasi polinomial orde rendah (misalnya, orde 2)\n",
        "poly_interp = Polynomial.fit(x_known, y_known, deg=3)\n",
        "\n",
        "# Memasang indeks titik data yang akan diisi (NaN)\n",
        "fill_indices = trainFeatures.index[trainFeatures['pendapatan'].isnull()]\n",
        "\n",
        "# Isi nilai-nilai NaN dengan hasil interpolasi polinomial\n",
        "trainFeatures.loc[fill_indices, 'pendapatan'] = poly_interp(fill_indices)\n"
      ]
    },
    {
      "cell_type": "markdown",
      "metadata": {},
      "source": [
        "Pada saat ini sudah tidak terdapat nilai NaN lagi pada kolom **pendapatan**, sehingga dapat dilanjutkan pada proses analisis selanjutnya."
      ]
    },
    {
      "cell_type": "code",
      "execution_count": 29,
      "metadata": {},
      "outputs": [
        {
          "data": {
            "text/plain": [
              "count    3.814000e+03\n",
              "mean     1.144867e+08\n",
              "std      4.237273e+07\n",
              "min      5.073000e+06\n",
              "25%      8.263290e+07\n",
              "50%      1.147079e+08\n",
              "75%      1.479561e+08\n",
              "max      3.328840e+08\n",
              "Name: pendapatan, dtype: float64"
            ]
          },
          "execution_count": 29,
          "metadata": {},
          "output_type": "execute_result"
        }
      ],
      "source": [
        "trainFeatures.pendapatan.describe()"
      ]
    },
    {
      "cell_type": "markdown",
      "metadata": {},
      "source": [
        "## Kolom Jumlah Anak Balita"
      ]
    },
    {
      "cell_type": "markdown",
      "metadata": {},
      "source": [
        "### Cek Nilai Unique"
      ]
    },
    {
      "cell_type": "code",
      "execution_count": 30,
      "metadata": {},
      "outputs": [
        {
          "data": {
            "text/plain": [
              "array([ 0., nan,  1.,  2.])"
            ]
          },
          "execution_count": 30,
          "metadata": {},
          "output_type": "execute_result"
        }
      ],
      "source": [
        "trainFeatures['jumlah_anak_balita'].unique()"
      ]
    },
    {
      "cell_type": "markdown",
      "metadata": {},
      "source": [
        "Pada pengecekan nilai unique di atas, ditemukan nilai NaN yang perlu diganti dengan nilai lain."
      ]
    },
    {
      "cell_type": "markdown",
      "metadata": {},
      "source": [
        "### Hapus Nilai Null"
      ]
    },
    {
      "cell_type": "code",
      "execution_count": 31,
      "metadata": {},
      "outputs": [
        {
          "name": "stdout",
          "output_type": "stream",
          "text": [
            "int32\n"
          ]
        }
      ],
      "source": [
        "trainFeatures['jumlah_anak_balita'].fillna(0, inplace=True)\n",
        "trainFeatures['jumlah_anak_balita'] = trainFeatures['jumlah_anak_balita'].astype(int)\n",
        "print(trainFeatures['jumlah_anak_balita'].dtype)"
      ]
    },
    {
      "cell_type": "code",
      "execution_count": 32,
      "metadata": {},
      "outputs": [
        {
          "data": {
            "text/plain": [
              "array([0, 1, 2])"
            ]
          },
          "execution_count": 32,
          "metadata": {},
          "output_type": "execute_result"
        }
      ],
      "source": [
        "# Cek Nilai Unique Ulang\n",
        "trainFeatures['jumlah_anak_balita'].unique()"
      ]
    },
    {
      "cell_type": "markdown",
      "metadata": {},
      "source": [
        "Pada proses ini, langkah yang diambil adalah mengubah nilai NaN menjadi **0** dengan asumsi setiap nilai NaN diartikan baris data penduduk tersebut memiliki jumlah anak balita sebanyak **0**."
      ]
    },
    {
      "cell_type": "markdown",
      "metadata": {},
      "source": [
        "## Kolom Jumlah Anak Remaja"
      ]
    },
    {
      "cell_type": "markdown",
      "metadata": {},
      "source": [
        "### Cek Nilai Unique"
      ]
    },
    {
      "cell_type": "code",
      "execution_count": 33,
      "metadata": {},
      "outputs": [
        {
          "data": {
            "text/plain": [
              "array([ 1., nan,  0.,  2.])"
            ]
          },
          "execution_count": 33,
          "metadata": {},
          "output_type": "execute_result"
        }
      ],
      "source": [
        "trainFeatures['jumlah_anak_remaja'].unique()"
      ]
    },
    {
      "cell_type": "markdown",
      "metadata": {},
      "source": [
        "Sama seperti pada kasus kolom *jumlah anak balita*, terdapat nilai NaN pada kolom *jumlah anak remaja* yang perlu diubah dengan nilai lainnya."
      ]
    },
    {
      "cell_type": "markdown",
      "metadata": {},
      "source": [
        "### Hapus Nilai Null"
      ]
    },
    {
      "cell_type": "code",
      "execution_count": 34,
      "metadata": {},
      "outputs": [
        {
          "name": "stdout",
          "output_type": "stream",
          "text": [
            "int32\n"
          ]
        }
      ],
      "source": [
        "trainFeatures['jumlah_anak_remaja'].fillna(0, inplace=True)\n",
        "trainFeatures['jumlah_anak_remaja'] = trainFeatures['jumlah_anak_remaja'].astype(int)\n",
        "print(trainFeatures['jumlah_anak_remaja'].dtype)"
      ]
    },
    {
      "cell_type": "code",
      "execution_count": 35,
      "metadata": {},
      "outputs": [
        {
          "data": {
            "text/plain": [
              "array([1, 0, 2])"
            ]
          },
          "execution_count": 35,
          "metadata": {},
          "output_type": "execute_result"
        }
      ],
      "source": [
        "# Cek Nilai Unique Ulang\n",
        "trainFeatures['jumlah_anak_remaja'].unique()"
      ]
    },
    {
      "cell_type": "markdown",
      "metadata": {},
      "source": [
        "Hasil pada kolom *jumlah anak remaja* juga mirip dengan hasil kolom *jumlah anak balita*, yaitu dengan mengubah nilai NaN dengan nilai **0**. Sebagai asumsi bahwa nilai NaN berarti baris data penduduk tersebut tidak memiliki anak remaja."
      ]
    },
    {
      "cell_type": "markdown",
      "metadata": {},
      "source": [
        "## Kolom Terakhir Belanja"
      ]
    },
    {
      "cell_type": "markdown",
      "metadata": {},
      "source": [
        "### Cek Nilai Unique"
      ]
    },
    {
      "cell_type": "code",
      "execution_count": 36,
      "metadata": {},
      "outputs": [
        {
          "data": {
            "text/plain": [
              "array([ nan,  70.,  45.,  90.,  78.,   9.,  96.,  21.,  26.,  67.,  59.,\n",
              "        57.,   5.,  65.,  61.,  25.,  16.,   0.,  50.,  69.,  84.,  56.,\n",
              "        54.,  17.,  51.,  29.,  73.,  60.,  87.,  62.,  41.,  35.,   3.,\n",
              "        36.,  58.,  64.,  55.,  12.,  19.,  30.,  28.,  11., 114.,   4.,\n",
              "        76.,  85.,  15.,  80.,  81.,  37.,  47.,  18.,  20.,   6.,  77.,\n",
              "        22.,  32.,  75.,  43.,  31.,  23.,  44.,  66.,  68.,  79.,  99.,\n",
              "        39.,  46.,  33.,  27.,   8.,  14., 100.,  91.,  49.,  92.,  52.,\n",
              "         7.,  48.,  82.,  72.,  89.,  34.,  63.,  94.,  86.,  74.,  53.,\n",
              "        13.,  71.,  83.,  38.,   1.,  97.,  88.,  93.,  40.,   2.,  24.,\n",
              "       105.,  10., 102.,  42., 103.,  95., 101., 106., 128.,  98., 104.,\n",
              "       108., 122., 112., 124.])"
            ]
          },
          "execution_count": 36,
          "metadata": {},
          "output_type": "execute_result"
        }
      ],
      "source": [
        "trainFeatures['terakhir_belanja'].unique()"
      ]
    },
    {
      "cell_type": "markdown",
      "metadata": {},
      "source": [
        "Pada pengecekan nilai unique, hasilnya terdapat nilai NaN yang terkandung didalam kolom *terakhir belanja*. Maka perlu dilakukan pengecekan batas minimum dan maksimum data serta nilai statistik lainnya seperti rata-rata untuk mengubah nilai NaN ini dengan sajian nilai Unique yang lebih rapi."
      ]
    },
    {
      "cell_type": "markdown",
      "metadata": {},
      "source": [
        "### Cek Nilai Min dan Max"
      ]
    },
    {
      "cell_type": "code",
      "execution_count": 37,
      "metadata": {},
      "outputs": [
        {
          "name": "stdout",
          "output_type": "stream",
          "text": [
            "Nilai maksimal dari kolom terakhir belanja adalah 128.0\n",
            "Nilai minimal dari kolom terakhir belanja adalah 0.0\n"
          ]
        }
      ],
      "source": [
        "nilaiMax = trainFeatures.terakhir_belanja.max()\n",
        "nilaiMin = trainFeatures.terakhir_belanja.min()\n",
        "\n",
        "print('Nilai maksimal dari kolom terakhir belanja adalah', nilaiMax)\n",
        "print('Nilai minimal dari kolom terakhir belanja adalah', nilaiMin)"
      ]
    },
    {
      "cell_type": "markdown",
      "metadata": {},
      "source": [
        "Dikarenakan tidak adanya acuan data tambahan dari kolom *terakhir belanja*, maka langkah yang diambil adalah mengubah setiap nilai NaN menjadi nilai rata-rata."
      ]
    },
    {
      "cell_type": "markdown",
      "metadata": {},
      "source": [
        "### Ubah Nilai Null dengan Rata-Rata"
      ]
    },
    {
      "cell_type": "code",
      "execution_count": 38,
      "metadata": {},
      "outputs": [
        {
          "data": {
            "text/plain": [
              "47.23338824821526"
            ]
          },
          "execution_count": 38,
          "metadata": {},
          "output_type": "execute_result"
        }
      ],
      "source": [
        "rata2 = trainFeatures['terakhir_belanja'].mean()\n",
        "rata2"
      ]
    },
    {
      "cell_type": "markdown",
      "metadata": {},
      "source": [
        "Didapatkan nilai **47.23338824821526** yang perlu dibulatkan, untuk mengubah nilai NaN dengan nilai ini."
      ]
    },
    {
      "cell_type": "code",
      "execution_count": 39,
      "metadata": {},
      "outputs": [
        {
          "name": "stdout",
          "output_type": "stream",
          "text": [
            "int32\n"
          ]
        }
      ],
      "source": [
        "trainFeatures['terakhir_belanja'] = trainFeatures['terakhir_belanja'].fillna(rata2)\n",
        "trainFeatures['terakhir_belanja'] = trainFeatures['terakhir_belanja'].astype(int)\n",
        "print(trainFeatures['terakhir_belanja'].dtype)"
      ]
    },
    {
      "cell_type": "markdown",
      "metadata": {},
      "source": [
        "Pembulatan nilai pada kolom *terakhir belanja* dilakukan dengan cara pengubahan tipe data dari float menjadi integer."
      ]
    },
    {
      "cell_type": "code",
      "execution_count": 40,
      "metadata": {},
      "outputs": [
        {
          "data": {
            "text/plain": [
              "array([  0,   1,   2,   3,   4,   5,   6,   7,   8,   9,  10,  11,  12,\n",
              "        13,  14,  15,  16,  17,  18,  19,  20,  21,  22,  23,  24,  25,\n",
              "        26,  27,  28,  29,  30,  31,  32,  33,  34,  35,  36,  37,  38,\n",
              "        39,  40,  41,  42,  43,  44,  45,  46,  47,  48,  49,  50,  51,\n",
              "        52,  53,  54,  55,  56,  57,  58,  59,  60,  61,  62,  63,  64,\n",
              "        65,  66,  67,  68,  69,  70,  71,  72,  73,  74,  75,  76,  77,\n",
              "        78,  79,  80,  81,  82,  83,  84,  85,  86,  87,  88,  89,  90,\n",
              "        91,  92,  93,  94,  95,  96,  97,  98,  99, 100, 101, 102, 103,\n",
              "       104, 105, 106, 108, 112, 114, 122, 124, 128])"
            ]
          },
          "execution_count": 40,
          "metadata": {},
          "output_type": "execute_result"
        }
      ],
      "source": [
        "# Cek Ulang Nilai Unique\n",
        "nilaiTerurut = np.sort(trainFeatures['terakhir_belanja'].unique())\n",
        "nilaiTerurut"
      ]
    },
    {
      "cell_type": "markdown",
      "metadata": {},
      "source": [
        "## Kolom Belanja Buah\n",
        "\n",
        "Pada kolom **belanja buah**, juga masih terdapat nilai NaN yang harus dipenuhi. Untuk langkah yang diambil yaitu mengisi dengan mempertimbangkan kolom lain yang secara logis masih memiliki hubungan dengan kolom **belanja_buah**. Hal ini bertujuan agar pengisian data bervariasi tetapi masih memiliki alasan yang masuk jelas. Kolom yang dipilih adalah **pendapatan**."
      ]
    },
    {
      "cell_type": "code",
      "execution_count": 42,
      "metadata": {},
      "outputs": [
        {
          "data": {
            "text/html": [
              "<div>\n",
              "<style scoped>\n",
              "    .dataframe tbody tr th:only-of-type {\n",
              "        vertical-align: middle;\n",
              "    }\n",
              "\n",
              "    .dataframe tbody tr th {\n",
              "        vertical-align: top;\n",
              "    }\n",
              "\n",
              "    .dataframe thead th {\n",
              "        text-align: right;\n",
              "    }\n",
              "</style>\n",
              "<table border=\"1\" class=\"dataframe\">\n",
              "  <thead>\n",
              "    <tr style=\"text-align: right;\">\n",
              "      <th></th>\n",
              "      <th>tahun_kelahiran</th>\n",
              "      <th>pendidikan</th>\n",
              "      <th>status_pernikahan</th>\n",
              "      <th>pendapatan</th>\n",
              "      <th>jumlah_anak_balita</th>\n",
              "      <th>jumlah_anak_remaja</th>\n",
              "      <th>terakhir_belanja</th>\n",
              "      <th>belanja_buah</th>\n",
              "      <th>belanja_daging</th>\n",
              "      <th>belanja_ikan</th>\n",
              "      <th>belanja_kue</th>\n",
              "      <th>pembelian_diskon</th>\n",
              "      <th>pembelian_web</th>\n",
              "      <th>pembelian_toko</th>\n",
              "      <th>keluhan</th>\n",
              "      <th>tanggal_menjadi_anggota</th>\n",
              "    </tr>\n",
              "  </thead>\n",
              "  <tbody>\n",
              "    <tr>\n",
              "      <th>0</th>\n",
              "      <td>1979</td>\n",
              "      <td>Sarjana</td>\n",
              "      <td>Rencana Menikah</td>\n",
              "      <td>1.113772e+08</td>\n",
              "      <td>0</td>\n",
              "      <td>1</td>\n",
              "      <td>47</td>\n",
              "      <td>50575.0</td>\n",
              "      <td>260967.0</td>\n",
              "      <td>50575.0</td>\n",
              "      <td>20230.0</td>\n",
              "      <td>2.0</td>\n",
              "      <td>2.0</td>\n",
              "      <td>5.0</td>\n",
              "      <td>0.0</td>\n",
              "      <td>2014-05-05</td>\n",
              "    </tr>\n",
              "    <tr>\n",
              "      <th>1</th>\n",
              "      <td>1950</td>\n",
              "      <td>Sarjana</td>\n",
              "      <td>Rencana Menikah</td>\n",
              "      <td>8.406300e+07</td>\n",
              "      <td>0</td>\n",
              "      <td>0</td>\n",
              "      <td>70</td>\n",
              "      <td>6069.0</td>\n",
              "      <td>44506.0</td>\n",
              "      <td>80920.0</td>\n",
              "      <td>20230.0</td>\n",
              "      <td>9.0</td>\n",
              "      <td>6.0</td>\n",
              "      <td>4.0</td>\n",
              "      <td>0.0</td>\n",
              "      <td>2013-03-17</td>\n",
              "    </tr>\n",
              "    <tr>\n",
              "      <th>2</th>\n",
              "      <td>1966</td>\n",
              "      <td>Sarjana</td>\n",
              "      <td>Menikah</td>\n",
              "      <td>1.275326e+08</td>\n",
              "      <td>0</td>\n",
              "      <td>0</td>\n",
              "      <td>45</td>\n",
              "      <td>117611.0</td>\n",
              "      <td>265460.0</td>\n",
              "      <td>96341.0</td>\n",
              "      <td>145573.0</td>\n",
              "      <td>1.0</td>\n",
              "      <td>1.0</td>\n",
              "      <td>7.0</td>\n",
              "      <td>0.0</td>\n",
              "      <td>NaN</td>\n",
              "    </tr>\n",
              "    <tr>\n",
              "      <th>3</th>\n",
              "      <td>1961</td>\n",
              "      <td>Magister</td>\n",
              "      <td>Rencana Menikah</td>\n",
              "      <td>1.655796e+08</td>\n",
              "      <td>0</td>\n",
              "      <td>0</td>\n",
              "      <td>90</td>\n",
              "      <td>206346.0</td>\n",
              "      <td>1613901.0</td>\n",
              "      <td>27725.0</td>\n",
              "      <td>125868.0</td>\n",
              "      <td>0.0</td>\n",
              "      <td>7.0</td>\n",
              "      <td>8.0</td>\n",
              "      <td>0.0</td>\n",
              "      <td>NaN</td>\n",
              "    </tr>\n",
              "    <tr>\n",
              "      <th>4</th>\n",
              "      <td>1970</td>\n",
              "      <td>Sarjana</td>\n",
              "      <td>Rencana Menikah</td>\n",
              "      <td>1.177032e+08</td>\n",
              "      <td>1</td>\n",
              "      <td>1</td>\n",
              "      <td>78</td>\n",
              "      <td>90563.0</td>\n",
              "      <td>311757.0</td>\n",
              "      <td>40358.0</td>\n",
              "      <td>33875.0</td>\n",
              "      <td>7.0</td>\n",
              "      <td>6.0</td>\n",
              "      <td>5.0</td>\n",
              "      <td>0.0</td>\n",
              "      <td>NaN</td>\n",
              "    </tr>\n",
              "  </tbody>\n",
              "</table>\n",
              "</div>"
            ],
            "text/plain": [
              "   tahun_kelahiran pendidikan status_pernikahan    pendapatan  \\\n",
              "0             1979    Sarjana   Rencana Menikah  1.113772e+08   \n",
              "1             1950    Sarjana   Rencana Menikah  8.406300e+07   \n",
              "2             1966    Sarjana           Menikah  1.275326e+08   \n",
              "3             1961   Magister   Rencana Menikah  1.655796e+08   \n",
              "4             1970    Sarjana   Rencana Menikah  1.177032e+08   \n",
              "\n",
              "   jumlah_anak_balita  jumlah_anak_remaja  terakhir_belanja  belanja_buah  \\\n",
              "0                   0                   1                47       50575.0   \n",
              "1                   0                   0                70        6069.0   \n",
              "2                   0                   0                45      117611.0   \n",
              "3                   0                   0                90      206346.0   \n",
              "4                   1                   1                78       90563.0   \n",
              "\n",
              "   belanja_daging  belanja_ikan  belanja_kue  pembelian_diskon  pembelian_web  \\\n",
              "0        260967.0       50575.0      20230.0               2.0            2.0   \n",
              "1         44506.0       80920.0      20230.0               9.0            6.0   \n",
              "2        265460.0       96341.0     145573.0               1.0            1.0   \n",
              "3       1613901.0       27725.0     125868.0               0.0            7.0   \n",
              "4        311757.0       40358.0      33875.0               7.0            6.0   \n",
              "\n",
              "   pembelian_toko  keluhan tanggal_menjadi_anggota  \n",
              "0             5.0      0.0              2014-05-05  \n",
              "1             4.0      0.0              2013-03-17  \n",
              "2             7.0      0.0                     NaN  \n",
              "3             8.0      0.0                     NaN  \n",
              "4             5.0      0.0                     NaN  "
            ]
          },
          "execution_count": 42,
          "metadata": {},
          "output_type": "execute_result"
        }
      ],
      "source": [
        "trainFeatures.head()"
      ]
    },
    {
      "cell_type": "code",
      "execution_count": 43,
      "metadata": {},
      "outputs": [
        {
          "data": {
            "text/plain": [
              "181"
            ]
          },
          "execution_count": 43,
          "metadata": {},
          "output_type": "execute_result"
        }
      ],
      "source": [
        "trainFeatures.belanja_buah.isna().sum()"
      ]
    },
    {
      "cell_type": "markdown",
      "metadata": {},
      "source": [
        "### Pengisian Nilai NaN\n",
        "\n",
        "Pengisian nilai NaN dilakukan dengan cara mengambil sampel nilai pendapatan pada kolom **pendapatan** berdasarkan segmentasi pendapatan pada kolom **segmen_pendapatan**. Setelah itu, dilakukan prediksi yang hasilnya akan dimasukkan sebagai pengganti nilai NaN. \n",
        "\n",
        "Untuk fitur x diambil dari kolom **pendapatan** (non null) dan fitur y diambil dari kolom **belanja buah** hanya nilai yang non null saja. Prediksi dilakukan menggunakan *Random Forest*."
      ]
    },
    {
      "cell_type": "code",
      "execution_count": 47,
      "metadata": {},
      "outputs": [],
      "source": [
        "# Filter data yang memiliki nilai non-null dalam kolom 'belanja_buah' di dalam segmen ini\n",
        "valid_data = trainFeatures.dropna(subset=['belanja_buah'])\n",
        "        \n",
        "# Pisahkan fitur (X) dan target (y) dari data yang valid\n",
        "X_train = np.array(valid_data['pendapatan']).reshape(-1, 1)\n",
        "y_train = np.array(valid_data['belanja_buah'])\n",
        "        \n",
        "# Train model Random Forest\n",
        "rf_model = RandomForestRegressor(n_estimators=10, max_depth=4, random_state=25, n_jobs=-1)\n",
        "rf_model.fit(X_train, y_train)\n",
        "        \n",
        "for i, row in trainFeatures.iterrows():\n",
        "    # Seleksi nilai hanya yang null\n",
        "    if np.isnan(row['belanja_buah']):\n",
        "        # Prediksi nilai 'belanja_buah'\n",
        "        predicted_value = rf_model.predict(np.array(row['pendapatan']).reshape(1, -1))\n",
        "        trainFeatures.at[i, 'belanja_buah'] = predicted_value"
      ]
    },
    {
      "cell_type": "code",
      "execution_count": 48,
      "metadata": {},
      "outputs": [
        {
          "data": {
            "text/plain": [
              "0"
            ]
          },
          "execution_count": 48,
          "metadata": {},
          "output_type": "execute_result"
        }
      ],
      "source": [
        "trainFeatures.belanja_buah.isna().sum()"
      ]
    },
    {
      "cell_type": "markdown",
      "metadata": {},
      "source": [
        "## Kolom Belanja Daging"
      ]
    },
    {
      "cell_type": "code",
      "execution_count": 54,
      "metadata": {},
      "outputs": [],
      "source": [
        "# Filter data yang memiliki nilai non-null dalam kolom 'belanja_buah' di dalam segmen ini\n",
        "valid_data = trainFeatures.dropna(subset=['belanja_daging'])\n",
        "        \n",
        "# Pisahkan fitur (X) dan target (y) dari data yang valid\n",
        "X_train = np.array(valid_data['pendapatan']).reshape(-1, 1)\n",
        "y_train = np.array(valid_data['belanja_daging'])\n",
        "        \n",
        "# Train model Random Forest\n",
        "rf_model = RandomForestRegressor(n_estimators=10, max_depth=4, random_state=25, n_jobs=-1)\n",
        "rf_model.fit(X_train, y_train)\n",
        "        \n",
        "for i, row in trainFeatures.iterrows():\n",
        "    # Seleksi nilai hanya yang null\n",
        "    if np.isnan(row['belanja_daging']):\n",
        "        # Prediksi nilai 'belanja_buah'\n",
        "        predicted_value = rf_model.predict(np.array(row['pendapatan']).reshape(1, -1))\n",
        "        trainFeatures.at[i, 'belanja_daging'] = predicted_value"
      ]
    },
    {
      "cell_type": "code",
      "execution_count": 55,
      "metadata": {},
      "outputs": [
        {
          "data": {
            "text/plain": [
              "0"
            ]
          },
          "execution_count": 55,
          "metadata": {},
          "output_type": "execute_result"
        }
      ],
      "source": [
        "trainFeatures.belanja_daging.isna().sum()"
      ]
    },
    {
      "cell_type": "markdown",
      "metadata": {},
      "source": [
        "## Kolom Belanja Ikan"
      ]
    },
    {
      "cell_type": "code",
      "execution_count": 56,
      "metadata": {},
      "outputs": [],
      "source": [
        "# Filter data yang memiliki nilai non-null dalam kolom 'belanja_buah' di dalam segmen ini\n",
        "valid_data = trainFeatures.dropna(subset=['belanja_ikan'])\n",
        "        \n",
        "# Pisahkan fitur (X) dan target (y) dari data yang valid\n",
        "X_train = np.array(valid_data['pendapatan']).reshape(-1, 1)\n",
        "y_train = np.array(valid_data['belanja_ikan'])\n",
        "        \n",
        "# Train model Random Forest\n",
        "rf_model = RandomForestRegressor(n_estimators=10, max_depth=4, random_state=25, n_jobs=-1)\n",
        "rf_model.fit(X_train, y_train)\n",
        "        \n",
        "for i, row in trainFeatures.iterrows():\n",
        "    # Seleksi nilai hanya yang null\n",
        "    if np.isnan(row['belanja_ikan']):\n",
        "        # Prediksi nilai 'belanja_buah'\n",
        "        predicted_value = rf_model.predict(np.array(row['pendapatan']).reshape(1, -1))\n",
        "        trainFeatures.at[i, 'belanja_ikan'] = predicted_value"
      ]
    },
    {
      "cell_type": "code",
      "execution_count": 57,
      "metadata": {},
      "outputs": [
        {
          "data": {
            "text/plain": [
              "0"
            ]
          },
          "execution_count": 57,
          "metadata": {},
          "output_type": "execute_result"
        }
      ],
      "source": [
        "trainFeatures.belanja_ikan.isna().sum()"
      ]
    },
    {
      "cell_type": "markdown",
      "metadata": {},
      "source": [
        "## Kolom Belanja Kue"
      ]
    },
    {
      "cell_type": "code",
      "execution_count": 58,
      "metadata": {},
      "outputs": [],
      "source": [
        "# Filter data yang memiliki nilai non-null dalam kolom 'belanja_buah' di dalam segmen ini\n",
        "valid_data = trainFeatures.dropna(subset=['belanja_kue'])\n",
        "        \n",
        "# Pisahkan fitur (X) dan target (y) dari data yang valid\n",
        "X_train = np.array(valid_data['pendapatan']).reshape(-1, 1)\n",
        "y_train = np.array(valid_data['belanja_kue'])\n",
        "        \n",
        "# Train model Random Forest\n",
        "rf_model = RandomForestRegressor(n_estimators=10, max_depth=4, random_state=25, n_jobs=-1)\n",
        "rf_model.fit(X_train, y_train)\n",
        "        \n",
        "for i, row in trainFeatures.iterrows():\n",
        "    # Seleksi nilai hanya yang null\n",
        "    if np.isnan(row['belanja_kue']):\n",
        "        # Prediksi nilai 'belanja_buah'\n",
        "        predicted_value = rf_model.predict(np.array(row['pendapatan']).reshape(1, -1))\n",
        "        trainFeatures.at[i, 'belanja_kue'] = predicted_value"
      ]
    },
    {
      "cell_type": "code",
      "execution_count": 59,
      "metadata": {},
      "outputs": [
        {
          "data": {
            "text/plain": [
              "0"
            ]
          },
          "execution_count": 59,
          "metadata": {},
          "output_type": "execute_result"
        }
      ],
      "source": [
        "trainFeatures.belanja_ikan.isna().sum()"
      ]
    },
    {
      "cell_type": "code",
      "execution_count": 60,
      "metadata": {},
      "outputs": [
        {
          "data": {
            "image/png": "[encoded data removed]",
            "text/plain": [
              "<Figure size 640x480 with 1 Axes>"
            ]
          },
          "metadata": {},
          "output_type": "display_data"
        }
      ],
      "source": [
        "plt.boxplot(trainFeatures['belanja_kue'], vert=False)\n",
        "plt.xlabel('Belanja Buah')\n",
        "plt.ylabel('Jumlah')\n",
        "plt.title('Diagram Boxplot Pengeluaran untuk Buah')\n",
        "plt.show()"
      ]
    },
    {
      "cell_type": "code",
      "execution_count": 61,
      "metadata": {},
      "outputs": [
        {
          "data": {
            "text/plain": [
              "Text(0.5, 1.0, 'Histogram Belanja Buah')"
            ]
          },
          "execution_count": 61,
          "metadata": {},
          "output_type": "execute_result"
        },
        {
          "data": {
            "image/png": "[encoded data removed]",
            "text/plain": [
              "<Figure size 640x480 with 1 Axes>"
            ]
          },
          "metadata": {},
          "output_type": "display_data"
        }
      ],
      "source": [
        "# Plot histogram\n",
        "plt.hist(trainFeatures['belanja_daging'], bins=10, color='skyblue', edgecolor='black')\n",
        "\n",
        "# Label sumbu dan judul\n",
        "plt.xlabel('Belanja Buah')\n",
        "plt.ylabel('Frekuensi')\n",
        "plt.title('Histogram Belanja Buah')"
      ]
    },
    {
      "cell_type": "code",
      "execution_count": 62,
      "metadata": {},
      "outputs": [],
      "source": [
        "# # Plot KDE (Kernel Density Estimate) plot\n",
        "# sns.kdeplot(trainFeatures['belanja_buah'], shade=True, color='skyblue')\n",
        "\n",
        "# # Label sumbu dan judul\n",
        "# plt.xlabel('Belanja Buah')\n",
        "# plt.ylabel('Kepadatan')\n",
        "# plt.title('KDE Plot Belanja Buah')\n",
        "\n",
        "# # Tampilkan plot\n",
        "# plt.show()"
      ]
    },
    {
      "cell_type": "code",
      "execution_count": 63,
      "metadata": {},
      "outputs": [],
      "source": [
        "# # Cek jumlah data dengan nilai null\n",
        "# trainFeatures.belanja_buah.isna().sum()"
      ]
    },
    {
      "cell_type": "markdown",
      "metadata": {},
      "source": [
        "Saat ini kolom **belanja buah** sudah tidak ada nilai null lagi"
      ]
    },
    {
      "cell_type": "markdown",
      "metadata": {},
      "source": [
        "# Exploratory Data Analysis (EDA)"
      ]
    },
    {
      "cell_type": "markdown",
      "metadata": {},
      "source": [
        "## Analisis Outliers"
      ]
    },
    {
      "cell_type": "code",
      "execution_count": 64,
      "metadata": {},
      "outputs": [],
      "source": [
        "# while True:\n",
        "#     Q1 = trainFeatures['belanja_buah'].quantile(0.25)\n",
        "#     Q3 = trainFeatures['belanja_buah'].quantile(0.75)\n",
        "#     IQR = Q3 - Q1\n",
        "\n",
        "#     Upper_Fence = Q3 + 1.5 * IQR\n",
        "#     Lower_Fence = Q1 - 1.5 * IQR\n",
        "\n",
        "#     outliers = trainFeatures[(trainFeatures['belanja_buah'] < Lower_Fence) | (trainFeatures['belanja_buah'] > Upper_Fence)]['belanja_buah']\n",
        "\n",
        "#     if outliers.empty:\n",
        "#         print(\"Tidak ada outlier lagi.\")\n",
        "#         break\n",
        "#     else:\n",
        "#         trainFeatures = trainFeatures[(trainFeatures['belanja_buah'] >= Lower_Fence) & (trainFeatures['belanja_buah'] <= Upper_Fence)]"
      ]
    },
    {
      "cell_type": "code",
      "execution_count": 65,
      "metadata": {},
      "outputs": [],
      "source": [
        "# plt.figure(figsize=(10, 6))\n",
        "# plt.boxplot(trainFeatures['pendapatan'])\n",
        "# plt.ylabel('Nilai Pendapatan')\n",
        "# plt.title('Boxplot Pendapatan setelah Penanganan Outlier')\n",
        "# plt.xticks([1], ['Pendapatan'])\n",
        "# plt.show()"
      ]
    }
  ],
  "metadata": {
    "colab": {
      "provenance": []
    },
    "kernelspec": {
      "display_name": "Python 3",
      "name": "python3"
    },
    "language_info": {
      "codemirror_mode": {
        "name": "ipython",
        "version": 3
      },
      "file_extension": ".py",
      "mimetype": "text/x-python",
      "name": "python",
      "nbconvert_exporter": "python",
      "pygments_lexer": "ipython3",
      "version": "3.11.5"
    }
  },
  "nbformat": 4,
  "nbformat_minor": 0
}
