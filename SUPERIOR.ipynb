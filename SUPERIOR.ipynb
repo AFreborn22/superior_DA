{
  "cells": [
    {
      "cell_type": "code",
      "execution_count": 578,
      "metadata": {
        "id": "2D7mxTB1mgCA"
      },
      "outputs": [],
      "source": [
        "import pandas as pd\n",
        "import numpy as np\n",
        "import  matplotlib.pyplot as plt\n",
        "import seaborn as sns\n",
        "\n",
        "from numpy.polynomial.polynomial import Polynomial\n",
        "from sklearn.ensemble import RandomForestRegressor"
      ]
    },
    {
      "cell_type": "code",
      "execution_count": 579,
      "metadata": {
        "id": "bEo06P7Sm8sH"
      },
      "outputs": [],
      "source": [
        "trainFeatures = pd.read_csv('data/train_features.csv')\n",
        "testFeatures = pd.read_csv('data/test_features.csv')\n",
        "trainLabels = pd.read_csv('data/train_labels.csv')\n",
        "example = pd.read_csv('data/submission_format.csv')"
      ]
    },
    {
      "cell_type": "code",
      "execution_count": 580,
      "metadata": {
        "colab": {
          "base_uri": "https://localhost:8080/",
          "height": 226
        },
        "id": "mMKQlPZyoteI",
        "outputId": "b6cca7e9-3b28-48e3-8a91-9c112fedd5b6"
      },
      "outputs": [
        {
          "data": {
            "text/html": [
              "<div>\n",
              "<style scoped>\n",
              "    .dataframe tbody tr th:only-of-type {\n",
              "        vertical-align: middle;\n",
              "    }\n",
              "\n",
              "    .dataframe tbody tr th {\n",
              "        vertical-align: top;\n",
              "    }\n",
              "\n",
              "    .dataframe thead th {\n",
              "        text-align: right;\n",
              "    }\n",
              "</style>\n",
              "<table border=\"1\" class=\"dataframe\">\n",
              "  <thead>\n",
              "    <tr style=\"text-align: right;\">\n",
              "      <th></th>\n",
              "      <th>tahun_kelahiran</th>\n",
              "      <th>pendidikan</th>\n",
              "      <th>status_pernikahan</th>\n",
              "      <th>pendapatan</th>\n",
              "      <th>jumlah_anak_balita</th>\n",
              "      <th>jumlah_anak_remaja</th>\n",
              "      <th>terakhir_belanja</th>\n",
              "      <th>belanja_buah</th>\n",
              "      <th>belanja_daging</th>\n",
              "      <th>belanja_ikan</th>\n",
              "      <th>belanja_kue</th>\n",
              "      <th>pembelian_diskon</th>\n",
              "      <th>pembelian_web</th>\n",
              "      <th>pembelian_toko</th>\n",
              "      <th>keluhan</th>\n",
              "      <th>tanggal_menjadi_anggota</th>\n",
              "    </tr>\n",
              "  </thead>\n",
              "  <tbody>\n",
              "    <tr>\n",
              "      <th>80</th>\n",
              "      <td>1961</td>\n",
              "      <td>Sarjana</td>\n",
              "      <td>Sendiri</td>\n",
              "      <td>152276450.0</td>\n",
              "      <td>0.0</td>\n",
              "      <td>0.0</td>\n",
              "      <td>20.0</td>\n",
              "      <td>118419.0</td>\n",
              "      <td>390780.0</td>\n",
              "      <td>114113.0</td>\n",
              "      <td>75835.0</td>\n",
              "      <td>2.0</td>\n",
              "      <td>9.0</td>\n",
              "      <td>4.0</td>\n",
              "      <td>0.0</td>\n",
              "      <td>NaN</td>\n",
              "    </tr>\n",
              "    <tr>\n",
              "      <th>81</th>\n",
              "      <td>1973</td>\n",
              "      <td>Magister</td>\n",
              "      <td>Rencana Menikah</td>\n",
              "      <td>165458484.0</td>\n",
              "      <td>0.0</td>\n",
              "      <td>0.0</td>\n",
              "      <td>60.0</td>\n",
              "      <td>282725.0</td>\n",
              "      <td>1520515.0</td>\n",
              "      <td>148755.0</td>\n",
              "      <td>125538.0</td>\n",
              "      <td>NaN</td>\n",
              "      <td>5.0</td>\n",
              "      <td>8.0</td>\n",
              "      <td>0.0</td>\n",
              "      <td>NaN</td>\n",
              "    </tr>\n",
              "    <tr>\n",
              "      <th>82</th>\n",
              "      <td>1968</td>\n",
              "      <td>Sarjana</td>\n",
              "      <td>Cerai</td>\n",
              "      <td>172329809.0</td>\n",
              "      <td>0.0</td>\n",
              "      <td>0.0</td>\n",
              "      <td>20.0</td>\n",
              "      <td>196777.0</td>\n",
              "      <td>774778.0</td>\n",
              "      <td>231114.0</td>\n",
              "      <td>287046.0</td>\n",
              "      <td>NaN</td>\n",
              "      <td>6.0</td>\n",
              "      <td>4.0</td>\n",
              "      <td>0.0</td>\n",
              "      <td>NaN</td>\n",
              "    </tr>\n",
              "    <tr>\n",
              "      <th>83</th>\n",
              "      <td>1979</td>\n",
              "      <td>Sarjana</td>\n",
              "      <td>Menikah</td>\n",
              "      <td>138817313.0</td>\n",
              "      <td>0.0</td>\n",
              "      <td>0.0</td>\n",
              "      <td>6.0</td>\n",
              "      <td>44506.0</td>\n",
              "      <td>931955.0</td>\n",
              "      <td>256516.0</td>\n",
              "      <td>60244.0</td>\n",
              "      <td>0.0</td>\n",
              "      <td>6.0</td>\n",
              "      <td>8.0</td>\n",
              "      <td>0.0</td>\n",
              "      <td>NaN</td>\n",
              "    </tr>\n",
              "    <tr>\n",
              "      <th>84</th>\n",
              "      <td>1962</td>\n",
              "      <td>SMA</td>\n",
              "      <td>Rencana Menikah</td>\n",
              "      <td>110928081.0</td>\n",
              "      <td>0.0</td>\n",
              "      <td>1.0</td>\n",
              "      <td>77.0</td>\n",
              "      <td>10634.0</td>\n",
              "      <td>46775.0</td>\n",
              "      <td>2815.0</td>\n",
              "      <td>1585.0</td>\n",
              "      <td>4.0</td>\n",
              "      <td>5.0</td>\n",
              "      <td>5.0</td>\n",
              "      <td>0.0</td>\n",
              "      <td>NaN</td>\n",
              "    </tr>\n",
              "    <tr>\n",
              "      <th>85</th>\n",
              "      <td>1974</td>\n",
              "      <td>Magister</td>\n",
              "      <td>Menikah</td>\n",
              "      <td>151599910.0</td>\n",
              "      <td>0.0</td>\n",
              "      <td>0.0</td>\n",
              "      <td>22.0</td>\n",
              "      <td>28441.0</td>\n",
              "      <td>514556.0</td>\n",
              "      <td>44208.0</td>\n",
              "      <td>25168.0</td>\n",
              "      <td>1.0</td>\n",
              "      <td>3.0</td>\n",
              "      <td>8.0</td>\n",
              "      <td>0.0</td>\n",
              "      <td>NaN</td>\n",
              "    </tr>\n",
              "    <tr>\n",
              "      <th>86</th>\n",
              "      <td>1971</td>\n",
              "      <td>Sarjana</td>\n",
              "      <td>Rencana Menikah</td>\n",
              "      <td>111202436.0</td>\n",
              "      <td>0.0</td>\n",
              "      <td>1.0</td>\n",
              "      <td>50.0</td>\n",
              "      <td>83817.0</td>\n",
              "      <td>382409.0</td>\n",
              "      <td>81305.0</td>\n",
              "      <td>235977.0</td>\n",
              "      <td>3.0</td>\n",
              "      <td>5.0</td>\n",
              "      <td>4.0</td>\n",
              "      <td>0.0</td>\n",
              "      <td>NaN</td>\n",
              "    </tr>\n",
              "    <tr>\n",
              "      <th>87</th>\n",
              "      <td>1975</td>\n",
              "      <td>Magister</td>\n",
              "      <td>NaN</td>\n",
              "      <td>164601983.0</td>\n",
              "      <td>0.0</td>\n",
              "      <td>0.0</td>\n",
              "      <td>NaN</td>\n",
              "      <td>66647.0</td>\n",
              "      <td>NaN</td>\n",
              "      <td>102878.0</td>\n",
              "      <td>121044.0</td>\n",
              "      <td>0.0</td>\n",
              "      <td>5.0</td>\n",
              "      <td>7.0</td>\n",
              "      <td>0.0</td>\n",
              "      <td>NaN</td>\n",
              "    </tr>\n",
              "    <tr>\n",
              "      <th>88</th>\n",
              "      <td>1947</td>\n",
              "      <td>SMA</td>\n",
              "      <td>Cerai</td>\n",
              "      <td>151115234.0</td>\n",
              "      <td>0.0</td>\n",
              "      <td>0.0</td>\n",
              "      <td>55.0</td>\n",
              "      <td>144766.0</td>\n",
              "      <td>1192829.0</td>\n",
              "      <td>258158.0</td>\n",
              "      <td>197764.0</td>\n",
              "      <td>2.0</td>\n",
              "      <td>7.0</td>\n",
              "      <td>10.0</td>\n",
              "      <td>0.0</td>\n",
              "      <td>NaN</td>\n",
              "    </tr>\n",
              "    <tr>\n",
              "      <th>89</th>\n",
              "      <td>1980</td>\n",
              "      <td>Magister</td>\n",
              "      <td>Menikah</td>\n",
              "      <td>105661000.0</td>\n",
              "      <td>0.0</td>\n",
              "      <td>0.0</td>\n",
              "      <td>77.0</td>\n",
              "      <td>32368.0</td>\n",
              "      <td>311542.0</td>\n",
              "      <td>139587.0</td>\n",
              "      <td>72828.0</td>\n",
              "      <td>0.0</td>\n",
              "      <td>6.0</td>\n",
              "      <td>5.0</td>\n",
              "      <td>0.0</td>\n",
              "      <td>2014-06-11</td>\n",
              "    </tr>\n",
              "  </tbody>\n",
              "</table>\n",
              "</div>"
            ],
            "text/plain": [
              "    tahun_kelahiran pendidikan status_pernikahan   pendapatan  \\\n",
              "80             1961    Sarjana           Sendiri  152276450.0   \n",
              "81             1973   Magister   Rencana Menikah  165458484.0   \n",
              "82             1968    Sarjana             Cerai  172329809.0   \n",
              "83             1979    Sarjana           Menikah  138817313.0   \n",
              "84             1962        SMA   Rencana Menikah  110928081.0   \n",
              "85             1974   Magister           Menikah  151599910.0   \n",
              "86             1971    Sarjana   Rencana Menikah  111202436.0   \n",
              "87             1975   Magister               NaN  164601983.0   \n",
              "88             1947        SMA             Cerai  151115234.0   \n",
              "89             1980   Magister           Menikah  105661000.0   \n",
              "\n",
              "    jumlah_anak_balita  jumlah_anak_remaja  terakhir_belanja  belanja_buah  \\\n",
              "80                 0.0                 0.0              20.0      118419.0   \n",
              "81                 0.0                 0.0              60.0      282725.0   \n",
              "82                 0.0                 0.0              20.0      196777.0   \n",
              "83                 0.0                 0.0               6.0       44506.0   \n",
              "84                 0.0                 1.0              77.0       10634.0   \n",
              "85                 0.0                 0.0              22.0       28441.0   \n",
              "86                 0.0                 1.0              50.0       83817.0   \n",
              "87                 0.0                 0.0               NaN       66647.0   \n",
              "88                 0.0                 0.0              55.0      144766.0   \n",
              "89                 0.0                 0.0              77.0       32368.0   \n",
              "\n",
              "    belanja_daging  belanja_ikan  belanja_kue  pembelian_diskon  \\\n",
              "80        390780.0      114113.0      75835.0               2.0   \n",
              "81       1520515.0      148755.0     125538.0               NaN   \n",
              "82        774778.0      231114.0     287046.0               NaN   \n",
              "83        931955.0      256516.0      60244.0               0.0   \n",
              "84         46775.0        2815.0       1585.0               4.0   \n",
              "85        514556.0       44208.0      25168.0               1.0   \n",
              "86        382409.0       81305.0     235977.0               3.0   \n",
              "87             NaN      102878.0     121044.0               0.0   \n",
              "88       1192829.0      258158.0     197764.0               2.0   \n",
              "89        311542.0      139587.0      72828.0               0.0   \n",
              "\n",
              "    pembelian_web  pembelian_toko  keluhan tanggal_menjadi_anggota  \n",
              "80            9.0             4.0      0.0                     NaN  \n",
              "81            5.0             8.0      0.0                     NaN  \n",
              "82            6.0             4.0      0.0                     NaN  \n",
              "83            6.0             8.0      0.0                     NaN  \n",
              "84            5.0             5.0      0.0                     NaN  \n",
              "85            3.0             8.0      0.0                     NaN  \n",
              "86            5.0             4.0      0.0                     NaN  \n",
              "87            5.0             7.0      0.0                     NaN  \n",
              "88            7.0            10.0      0.0                     NaN  \n",
              "89            6.0             5.0      0.0              2014-06-11  "
            ]
          },
          "execution_count": 580,
          "metadata": {},
          "output_type": "execute_result"
        }
      ],
      "source": [
        "trainFeatures.iloc[80:90]"
      ]
    },
    {
      "cell_type": "code",
      "execution_count": 581,
      "metadata": {
        "colab": {
          "base_uri": "https://localhost:8080/"
        },
        "id": "PX_jsOen7hko",
        "outputId": "199b9b47-e232-41ea-922f-c99ab04c3f17"
      },
      "outputs": [
        {
          "data": {
            "text/plain": [
              "(3817, 16)"
            ]
          },
          "execution_count": 581,
          "metadata": {},
          "output_type": "execute_result"
        }
      ],
      "source": [
        "trainFeatures.shape"
      ]
    },
    {
      "cell_type": "code",
      "execution_count": 582,
      "metadata": {
        "colab": {
          "base_uri": "https://localhost:8080/",
          "height": 226
        },
        "id": "av96Aqkgos7F",
        "outputId": "03050a5a-5de7-42fc-df79-cc00bb630477"
      },
      "outputs": [
        {
          "data": {
            "text/html": [
              "<div>\n",
              "<style scoped>\n",
              "    .dataframe tbody tr th:only-of-type {\n",
              "        vertical-align: middle;\n",
              "    }\n",
              "\n",
              "    .dataframe tbody tr th {\n",
              "        vertical-align: top;\n",
              "    }\n",
              "\n",
              "    .dataframe thead th {\n",
              "        text-align: right;\n",
              "    }\n",
              "</style>\n",
              "<table border=\"1\" class=\"dataframe\">\n",
              "  <thead>\n",
              "    <tr style=\"text-align: right;\">\n",
              "      <th></th>\n",
              "      <th>ID</th>\n",
              "      <th>tahun_kelahiran</th>\n",
              "      <th>pendidikan</th>\n",
              "      <th>status_pernikahan</th>\n",
              "      <th>pendapatan</th>\n",
              "      <th>jumlah_anak_balita</th>\n",
              "      <th>jumlah_anak_remaja</th>\n",
              "      <th>terakhir_belanja</th>\n",
              "      <th>belanja_buah</th>\n",
              "      <th>belanja_daging</th>\n",
              "      <th>belanja_ikan</th>\n",
              "      <th>belanja_kue</th>\n",
              "      <th>pembelian_diskon</th>\n",
              "      <th>pembelian_web</th>\n",
              "      <th>pembelian_toko</th>\n",
              "      <th>keluhan</th>\n",
              "      <th>tanggal_menjadi_anggota</th>\n",
              "    </tr>\n",
              "  </thead>\n",
              "  <tbody>\n",
              "    <tr>\n",
              "      <th>0</th>\n",
              "      <td>2241</td>\n",
              "      <td>1957</td>\n",
              "      <td>Sarjana</td>\n",
              "      <td>NaN</td>\n",
              "      <td>120660151.0</td>\n",
              "      <td>0.0</td>\n",
              "      <td>1.0</td>\n",
              "      <td>63.0</td>\n",
              "      <td>122277.0</td>\n",
              "      <td>541399.0</td>\n",
              "      <td>214192.0</td>\n",
              "      <td>84305.0</td>\n",
              "      <td>4.0</td>\n",
              "      <td>6.0</td>\n",
              "      <td>10.0</td>\n",
              "      <td>0.0</td>\n",
              "      <td>NaN</td>\n",
              "    </tr>\n",
              "    <tr>\n",
              "      <th>1</th>\n",
              "      <td>2274</td>\n",
              "      <td>1968</td>\n",
              "      <td>Doktor</td>\n",
              "      <td>Menikah</td>\n",
              "      <td>163551821.0</td>\n",
              "      <td>0.0</td>\n",
              "      <td>1.0</td>\n",
              "      <td>58.0</td>\n",
              "      <td>35761.0</td>\n",
              "      <td>353335.0</td>\n",
              "      <td>63365.0</td>\n",
              "      <td>41112.0</td>\n",
              "      <td>2.0</td>\n",
              "      <td>5.0</td>\n",
              "      <td>10.0</td>\n",
              "      <td>0.0</td>\n",
              "      <td>NaN</td>\n",
              "    </tr>\n",
              "    <tr>\n",
              "      <th>2</th>\n",
              "      <td>1107</td>\n",
              "      <td>1968</td>\n",
              "      <td>SMA</td>\n",
              "      <td>Menikah</td>\n",
              "      <td>29857000.0</td>\n",
              "      <td>0.0</td>\n",
              "      <td>0.0</td>\n",
              "      <td>34.0</td>\n",
              "      <td>8092.0</td>\n",
              "      <td>22253.0</td>\n",
              "      <td>30345.0</td>\n",
              "      <td>26299.0</td>\n",
              "      <td>2.0</td>\n",
              "      <td>0.0</td>\n",
              "      <td>5.0</td>\n",
              "      <td>0.0</td>\n",
              "      <td>2013-08-06</td>\n",
              "    </tr>\n",
              "    <tr>\n",
              "      <th>3</th>\n",
              "      <td>4478</td>\n",
              "      <td>1971</td>\n",
              "      <td>Doktor</td>\n",
              "      <td>Menikah</td>\n",
              "      <td>117949098.0</td>\n",
              "      <td>0.0</td>\n",
              "      <td>1.0</td>\n",
              "      <td>82.0</td>\n",
              "      <td>4872.0</td>\n",
              "      <td>126061.0</td>\n",
              "      <td>0.0</td>\n",
              "      <td>9745.0</td>\n",
              "      <td>3.0</td>\n",
              "      <td>5.0</td>\n",
              "      <td>7.0</td>\n",
              "      <td>0.0</td>\n",
              "      <td>NaN</td>\n",
              "    </tr>\n",
              "    <tr>\n",
              "      <th>4</th>\n",
              "      <td>5080</td>\n",
              "      <td>1974</td>\n",
              "      <td>Sarjana</td>\n",
              "      <td>Rencana Menikah</td>\n",
              "      <td>164761134.0</td>\n",
              "      <td>0.0</td>\n",
              "      <td>0.0</td>\n",
              "      <td>28.0</td>\n",
              "      <td>343208.0</td>\n",
              "      <td>1416462.0</td>\n",
              "      <td>236196.0</td>\n",
              "      <td>107776.0</td>\n",
              "      <td>0.0</td>\n",
              "      <td>1.0</td>\n",
              "      <td>8.0</td>\n",
              "      <td>0.0</td>\n",
              "      <td>NaN</td>\n",
              "    </tr>\n",
              "  </tbody>\n",
              "</table>\n",
              "</div>"
            ],
            "text/plain": [
              "     ID  tahun_kelahiran pendidikan status_pernikahan   pendapatan  \\\n",
              "0  2241             1957    Sarjana               NaN  120660151.0   \n",
              "1  2274             1968     Doktor           Menikah  163551821.0   \n",
              "2  1107             1968        SMA           Menikah   29857000.0   \n",
              "3  4478             1971     Doktor           Menikah  117949098.0   \n",
              "4  5080             1974    Sarjana   Rencana Menikah  164761134.0   \n",
              "\n",
              "   jumlah_anak_balita  jumlah_anak_remaja  terakhir_belanja  belanja_buah  \\\n",
              "0                 0.0                 1.0              63.0      122277.0   \n",
              "1                 0.0                 1.0              58.0       35761.0   \n",
              "2                 0.0                 0.0              34.0        8092.0   \n",
              "3                 0.0                 1.0              82.0        4872.0   \n",
              "4                 0.0                 0.0              28.0      343208.0   \n",
              "\n",
              "   belanja_daging  belanja_ikan  belanja_kue  pembelian_diskon  pembelian_web  \\\n",
              "0        541399.0      214192.0      84305.0               4.0            6.0   \n",
              "1        353335.0       63365.0      41112.0               2.0            5.0   \n",
              "2         22253.0       30345.0      26299.0               2.0            0.0   \n",
              "3        126061.0           0.0       9745.0               3.0            5.0   \n",
              "4       1416462.0      236196.0     107776.0               0.0            1.0   \n",
              "\n",
              "   pembelian_toko  keluhan tanggal_menjadi_anggota  \n",
              "0            10.0      0.0                     NaN  \n",
              "1            10.0      0.0                     NaN  \n",
              "2             5.0      0.0              2013-08-06  \n",
              "3             7.0      0.0                     NaN  \n",
              "4             8.0      0.0                     NaN  "
            ]
          },
          "execution_count": 582,
          "metadata": {},
          "output_type": "execute_result"
        }
      ],
      "source": [
        "testFeatures.head()"
      ]
    },
    {
      "cell_type": "code",
      "execution_count": 583,
      "metadata": {
        "colab": {
          "base_uri": "https://localhost:8080/",
          "height": 206
        },
        "id": "pWRc1BDlpUHx",
        "outputId": "1c2478c6-7b7d-498d-d22e-3d2cf904f341"
      },
      "outputs": [
        {
          "data": {
            "text/html": [
              "<div>\n",
              "<style scoped>\n",
              "    .dataframe tbody tr th:only-of-type {\n",
              "        vertical-align: middle;\n",
              "    }\n",
              "\n",
              "    .dataframe tbody tr th {\n",
              "        vertical-align: top;\n",
              "    }\n",
              "\n",
              "    .dataframe thead th {\n",
              "        text-align: right;\n",
              "    }\n",
              "</style>\n",
              "<table border=\"1\" class=\"dataframe\">\n",
              "  <thead>\n",
              "    <tr style=\"text-align: right;\">\n",
              "      <th></th>\n",
              "      <th>ID</th>\n",
              "      <th>jumlah_promosi</th>\n",
              "    </tr>\n",
              "  </thead>\n",
              "  <tbody>\n",
              "    <tr>\n",
              "      <th>0</th>\n",
              "      <td>2241</td>\n",
              "      <td>6</td>\n",
              "    </tr>\n",
              "    <tr>\n",
              "      <th>1</th>\n",
              "      <td>2274</td>\n",
              "      <td>6</td>\n",
              "    </tr>\n",
              "    <tr>\n",
              "      <th>2</th>\n",
              "      <td>1107</td>\n",
              "      <td>6</td>\n",
              "    </tr>\n",
              "    <tr>\n",
              "      <th>3</th>\n",
              "      <td>4478</td>\n",
              "      <td>6</td>\n",
              "    </tr>\n",
              "    <tr>\n",
              "      <th>4</th>\n",
              "      <td>5080</td>\n",
              "      <td>6</td>\n",
              "    </tr>\n",
              "  </tbody>\n",
              "</table>\n",
              "</div>"
            ],
            "text/plain": [
              "     ID  jumlah_promosi\n",
              "0  2241               6\n",
              "1  2274               6\n",
              "2  1107               6\n",
              "3  4478               6\n",
              "4  5080               6"
            ]
          },
          "execution_count": 583,
          "metadata": {},
          "output_type": "execute_result"
        }
      ],
      "source": [
        "example.head()"
      ]
    },
    {
      "cell_type": "markdown",
      "metadata": {
        "id": "dkK_vAFruPiE"
      },
      "source": [
        "# Data Assessing"
      ]
    },
    {
      "cell_type": "markdown",
      "metadata": {
        "id": "Psp6W-2Lu32X"
      },
      "source": [
        "## Informasi Umum Dataset Train Features"
      ]
    },
    {
      "cell_type": "code",
      "execution_count": 584,
      "metadata": {
        "colab": {
          "base_uri": "https://localhost:8080/"
        },
        "id": "feTYV5VzM03a",
        "outputId": "6d39a225-aad1-47a6-c7a7-1803774902c2"
      },
      "outputs": [
        {
          "name": "stdout",
          "output_type": "stream",
          "text": [
            "<class 'pandas.core.frame.DataFrame'>\n",
            "RangeIndex: 3817 entries, 0 to 3816\n",
            "Data columns (total 16 columns):\n",
            " #   Column                   Non-Null Count  Dtype  \n",
            "---  ------                   --------------  -----  \n",
            " 0   tahun_kelahiran          3817 non-null   int64  \n",
            " 1   pendidikan               3628 non-null   object \n",
            " 2   status_pernikahan        3605 non-null   object \n",
            " 3   pendapatan               3627 non-null   float64\n",
            " 4   jumlah_anak_balita       3627 non-null   float64\n",
            " 5   jumlah_anak_remaja       3613 non-null   float64\n",
            " 6   terakhir_belanja         3645 non-null   float64\n",
            " 7   belanja_buah             3636 non-null   float64\n",
            " 8   belanja_daging           3639 non-null   float64\n",
            " 9   belanja_ikan             3624 non-null   float64\n",
            " 10  belanja_kue              3603 non-null   float64\n",
            " 11  pembelian_diskon         3639 non-null   float64\n",
            " 12  pembelian_web            3652 non-null   float64\n",
            " 13  pembelian_toko           3648 non-null   float64\n",
            " 14  keluhan                  3621 non-null   float64\n",
            " 15  tanggal_menjadi_anggota  1065 non-null   object \n",
            "dtypes: float64(12), int64(1), object(3)\n",
            "memory usage: 477.3+ KB\n"
          ]
        }
      ],
      "source": [
        "trainFeatures.info()"
      ]
    },
    {
      "cell_type": "code",
      "execution_count": 585,
      "metadata": {
        "colab": {
          "base_uri": "https://localhost:8080/",
          "height": 320
        },
        "id": "z4DIuVNpdXo6",
        "outputId": "5f27646e-851a-4fde-85d7-6ffd77f9417a"
      },
      "outputs": [
        {
          "data": {
            "text/html": [
              "<div>\n",
              "<style scoped>\n",
              "    .dataframe tbody tr th:only-of-type {\n",
              "        vertical-align: middle;\n",
              "    }\n",
              "\n",
              "    .dataframe tbody tr th {\n",
              "        vertical-align: top;\n",
              "    }\n",
              "\n",
              "    .dataframe thead th {\n",
              "        text-align: right;\n",
              "    }\n",
              "</style>\n",
              "<table border=\"1\" class=\"dataframe\">\n",
              "  <thead>\n",
              "    <tr style=\"text-align: right;\">\n",
              "      <th></th>\n",
              "      <th>tahun_kelahiran</th>\n",
              "      <th>pendapatan</th>\n",
              "      <th>jumlah_anak_balita</th>\n",
              "      <th>jumlah_anak_remaja</th>\n",
              "      <th>terakhir_belanja</th>\n",
              "      <th>belanja_buah</th>\n",
              "      <th>belanja_daging</th>\n",
              "      <th>belanja_ikan</th>\n",
              "      <th>belanja_kue</th>\n",
              "      <th>pembelian_diskon</th>\n",
              "      <th>pembelian_web</th>\n",
              "      <th>pembelian_toko</th>\n",
              "      <th>keluhan</th>\n",
              "    </tr>\n",
              "  </thead>\n",
              "  <tbody>\n",
              "    <tr>\n",
              "      <th>count</th>\n",
              "      <td>3817.000000</td>\n",
              "      <td>3.627000e+03</td>\n",
              "      <td>3627.000000</td>\n",
              "      <td>3613.000000</td>\n",
              "      <td>3645.000000</td>\n",
              "      <td>3636.000000</td>\n",
              "      <td>3.639000e+03</td>\n",
              "      <td>3624.000000</td>\n",
              "      <td>3603.000000</td>\n",
              "      <td>3639.000000</td>\n",
              "      <td>3652.000000</td>\n",
              "      <td>3648.000000</td>\n",
              "      <td>3621.000000</td>\n",
              "    </tr>\n",
              "    <tr>\n",
              "      <th>mean</th>\n",
              "      <td>1967.823946</td>\n",
              "      <td>1.144832e+08</td>\n",
              "      <td>0.293080</td>\n",
              "      <td>0.353723</td>\n",
              "      <td>47.231550</td>\n",
              "      <td>59804.239824</td>\n",
              "      <td>4.385748e+05</td>\n",
              "      <td>81428.997792</td>\n",
              "      <td>63377.970580</td>\n",
              "      <td>2.125584</td>\n",
              "      <td>4.436473</td>\n",
              "      <td>5.767818</td>\n",
              "      <td>0.004971</td>\n",
              "    </tr>\n",
              "    <tr>\n",
              "      <th>std</th>\n",
              "      <td>11.768131</td>\n",
              "      <td>4.346042e+07</td>\n",
              "      <td>0.473063</td>\n",
              "      <td>0.493014</td>\n",
              "      <td>27.068512</td>\n",
              "      <td>74024.976109</td>\n",
              "      <td>5.120427e+05</td>\n",
              "      <td>99976.226855</td>\n",
              "      <td>79435.457282</td>\n",
              "      <td>2.100133</td>\n",
              "      <td>3.002522</td>\n",
              "      <td>3.210738</td>\n",
              "      <td>0.070340</td>\n",
              "    </tr>\n",
              "    <tr>\n",
              "      <th>min</th>\n",
              "      <td>1899.000000</td>\n",
              "      <td>5.073000e+06</td>\n",
              "      <td>0.000000</td>\n",
              "      <td>0.000000</td>\n",
              "      <td>0.000000</td>\n",
              "      <td>0.000000</td>\n",
              "      <td>0.000000e+00</td>\n",
              "      <td>0.000000</td>\n",
              "      <td>0.000000</td>\n",
              "      <td>0.000000</td>\n",
              "      <td>0.000000</td>\n",
              "      <td>0.000000</td>\n",
              "      <td>0.000000</td>\n",
              "    </tr>\n",
              "    <tr>\n",
              "      <th>25%</th>\n",
              "      <td>1959.000000</td>\n",
              "      <td>8.112512e+07</td>\n",
              "      <td>0.000000</td>\n",
              "      <td>0.000000</td>\n",
              "      <td>25.000000</td>\n",
              "      <td>7907.000000</td>\n",
              "      <td>4.947950e+04</td>\n",
              "      <td>10115.000000</td>\n",
              "      <td>7947.000000</td>\n",
              "      <td>0.000000</td>\n",
              "      <td>2.000000</td>\n",
              "      <td>3.000000</td>\n",
              "      <td>0.000000</td>\n",
              "    </tr>\n",
              "    <tr>\n",
              "      <th>50%</th>\n",
              "      <td>1968.000000</td>\n",
              "      <td>1.156214e+08</td>\n",
              "      <td>0.000000</td>\n",
              "      <td>0.000000</td>\n",
              "      <td>47.000000</td>\n",
              "      <td>26456.000000</td>\n",
              "      <td>2.219930e+05</td>\n",
              "      <td>36054.500000</td>\n",
              "      <td>27795.000000</td>\n",
              "      <td>2.000000</td>\n",
              "      <td>4.000000</td>\n",
              "      <td>5.000000</td>\n",
              "      <td>0.000000</td>\n",
              "    </tr>\n",
              "    <tr>\n",
              "      <th>75%</th>\n",
              "      <td>1976.000000</td>\n",
              "      <td>1.504960e+08</td>\n",
              "      <td>1.000000</td>\n",
              "      <td>1.000000</td>\n",
              "      <td>69.000000</td>\n",
              "      <td>86162.000000</td>\n",
              "      <td>6.863555e+05</td>\n",
              "      <td>121380.000000</td>\n",
              "      <td>89502.500000</td>\n",
              "      <td>3.000000</td>\n",
              "      <td>7.000000</td>\n",
              "      <td>8.000000</td>\n",
              "      <td>0.000000</td>\n",
              "    </tr>\n",
              "    <tr>\n",
              "      <th>max</th>\n",
              "      <td>2000.000000</td>\n",
              "      <td>3.328840e+08</td>\n",
              "      <td>2.000000</td>\n",
              "      <td>2.000000</td>\n",
              "      <td>128.000000</td>\n",
              "      <td>396508.000000</td>\n",
              "      <td>3.489675e+06</td>\n",
              "      <td>621600.000000</td>\n",
              "      <td>542164.000000</td>\n",
              "      <td>20.000000</td>\n",
              "      <td>30.000000</td>\n",
              "      <td>17.000000</td>\n",
              "      <td>1.000000</td>\n",
              "    </tr>\n",
              "  </tbody>\n",
              "</table>\n",
              "</div>"
            ],
            "text/plain": [
              "       tahun_kelahiran    pendapatan  jumlah_anak_balita  jumlah_anak_remaja  \\\n",
              "count      3817.000000  3.627000e+03         3627.000000         3613.000000   \n",
              "mean       1967.823946  1.144832e+08            0.293080            0.353723   \n",
              "std          11.768131  4.346042e+07            0.473063            0.493014   \n",
              "min        1899.000000  5.073000e+06            0.000000            0.000000   \n",
              "25%        1959.000000  8.112512e+07            0.000000            0.000000   \n",
              "50%        1968.000000  1.156214e+08            0.000000            0.000000   \n",
              "75%        1976.000000  1.504960e+08            1.000000            1.000000   \n",
              "max        2000.000000  3.328840e+08            2.000000            2.000000   \n",
              "\n",
              "       terakhir_belanja   belanja_buah  belanja_daging   belanja_ikan  \\\n",
              "count       3645.000000    3636.000000    3.639000e+03    3624.000000   \n",
              "mean          47.231550   59804.239824    4.385748e+05   81428.997792   \n",
              "std           27.068512   74024.976109    5.120427e+05   99976.226855   \n",
              "min            0.000000       0.000000    0.000000e+00       0.000000   \n",
              "25%           25.000000    7907.000000    4.947950e+04   10115.000000   \n",
              "50%           47.000000   26456.000000    2.219930e+05   36054.500000   \n",
              "75%           69.000000   86162.000000    6.863555e+05  121380.000000   \n",
              "max          128.000000  396508.000000    3.489675e+06  621600.000000   \n",
              "\n",
              "         belanja_kue  pembelian_diskon  pembelian_web  pembelian_toko  \\\n",
              "count    3603.000000       3639.000000    3652.000000     3648.000000   \n",
              "mean    63377.970580          2.125584       4.436473        5.767818   \n",
              "std     79435.457282          2.100133       3.002522        3.210738   \n",
              "min         0.000000          0.000000       0.000000        0.000000   \n",
              "25%      7947.000000          0.000000       2.000000        3.000000   \n",
              "50%     27795.000000          2.000000       4.000000        5.000000   \n",
              "75%     89502.500000          3.000000       7.000000        8.000000   \n",
              "max    542164.000000         20.000000      30.000000       17.000000   \n",
              "\n",
              "           keluhan  \n",
              "count  3621.000000  \n",
              "mean      0.004971  \n",
              "std       0.070340  \n",
              "min       0.000000  \n",
              "25%       0.000000  \n",
              "50%       0.000000  \n",
              "75%       0.000000  \n",
              "max       1.000000  "
            ]
          },
          "execution_count": 585,
          "metadata": {},
          "output_type": "execute_result"
        }
      ],
      "source": [
        "trainFeatures.describe()"
      ]
    },
    {
      "cell_type": "markdown",
      "metadata": {
        "id": "1piJJr4eu8-R"
      },
      "source": [
        "## Cek Nilai Null Dataset Train Features"
      ]
    },
    {
      "cell_type": "code",
      "execution_count": 586,
      "metadata": {
        "colab": {
          "base_uri": "https://localhost:8080/"
        },
        "id": "L_9QDPvxddmr",
        "outputId": "7cc888d5-91b6-4bda-d3af-954e6ba86045"
      },
      "outputs": [
        {
          "data": {
            "text/plain": [
              "tahun_kelahiran               0\n",
              "pendidikan                  189\n",
              "status_pernikahan           212\n",
              "pendapatan                  190\n",
              "jumlah_anak_balita          190\n",
              "jumlah_anak_remaja          204\n",
              "terakhir_belanja            172\n",
              "belanja_buah                181\n",
              "belanja_daging              178\n",
              "belanja_ikan                193\n",
              "belanja_kue                 214\n",
              "pembelian_diskon            178\n",
              "pembelian_web               165\n",
              "pembelian_toko              169\n",
              "keluhan                     196\n",
              "tanggal_menjadi_anggota    2752\n",
              "dtype: int64"
            ]
          },
          "execution_count": 586,
          "metadata": {},
          "output_type": "execute_result"
        }
      ],
      "source": [
        "trainFeatures.isnull().sum()"
      ]
    },
    {
      "cell_type": "markdown",
      "metadata": {
        "id": "Jq1rp2vrvFDp"
      },
      "source": [
        "## Cek Nilai Duplikat Dataset Train Features"
      ]
    },
    {
      "cell_type": "code",
      "execution_count": 587,
      "metadata": {
        "colab": {
          "base_uri": "https://localhost:8080/"
        },
        "id": "1n3lMmbAvRL-",
        "outputId": "43dd9afb-28a7-425e-f999-50cba6336a88"
      },
      "outputs": [
        {
          "data": {
            "text/plain": [
              "0"
            ]
          },
          "execution_count": 587,
          "metadata": {},
          "output_type": "execute_result"
        }
      ],
      "source": [
        "trainFeatures.duplicated().sum()"
      ]
    },
    {
      "cell_type": "markdown",
      "metadata": {
        "id": "74ciVYpkv2Q3"
      },
      "source": [
        "# Data Cleaning"
      ]
    },
    {
      "cell_type": "markdown",
      "metadata": {
        "id": "iUo5NxV4v7XB"
      },
      "source": [
        "## Kolom Pendidikan"
      ]
    },
    {
      "cell_type": "code",
      "execution_count": 588,
      "metadata": {
        "colab": {
          "base_uri": "https://localhost:8080/"
        },
        "id": "L5Ii6sBSivmn",
        "outputId": "b35a14fc-6a7f-4cba-bf17-6be74d29c478"
      },
      "outputs": [
        {
          "data": {
            "text/plain": [
              "array(['Sarjana', 'Magister', 'SMA', 'SMP', 'Doktor', nan, '5'],\n",
              "      dtype=object)"
            ]
          },
          "execution_count": 588,
          "metadata": {},
          "output_type": "execute_result"
        }
      ],
      "source": [
        "# Cek Nilai Unique\n",
        "trainFeatures['pendidikan'].unique()"
      ]
    },
    {
      "cell_type": "markdown",
      "metadata": {
        "id": "fR7L7DXOwZgX"
      },
      "source": [
        "Terdapat dua nilai salah yaitu nan dan '5'. Maka perlu dibersihkan pada dua nilai tersebut."
      ]
    },
    {
      "cell_type": "markdown",
      "metadata": {
        "id": "fETtVqmz9HRq"
      },
      "source": [
        "### Olah Data dengan Nilai Unique '5'"
      ]
    },
    {
      "cell_type": "code",
      "execution_count": 589,
      "metadata": {
        "colab": {
          "base_uri": "https://localhost:8080/",
          "height": 132
        },
        "id": "_biw-YdWkAMy",
        "outputId": "f841f601-52c7-472d-f452-a65849b7e8b6"
      },
      "outputs": [
        {
          "data": {
            "text/html": [
              "<div>\n",
              "<style scoped>\n",
              "    .dataframe tbody tr th:only-of-type {\n",
              "        vertical-align: middle;\n",
              "    }\n",
              "\n",
              "    .dataframe tbody tr th {\n",
              "        vertical-align: top;\n",
              "    }\n",
              "\n",
              "    .dataframe thead th {\n",
              "        text-align: right;\n",
              "    }\n",
              "</style>\n",
              "<table border=\"1\" class=\"dataframe\">\n",
              "  <thead>\n",
              "    <tr style=\"text-align: right;\">\n",
              "      <th></th>\n",
              "      <th>tahun_kelahiran</th>\n",
              "      <th>pendidikan</th>\n",
              "      <th>status_pernikahan</th>\n",
              "      <th>pendapatan</th>\n",
              "      <th>jumlah_anak_balita</th>\n",
              "      <th>jumlah_anak_remaja</th>\n",
              "      <th>terakhir_belanja</th>\n",
              "      <th>belanja_buah</th>\n",
              "      <th>belanja_daging</th>\n",
              "      <th>belanja_ikan</th>\n",
              "      <th>belanja_kue</th>\n",
              "      <th>pembelian_diskon</th>\n",
              "      <th>pembelian_web</th>\n",
              "      <th>pembelian_toko</th>\n",
              "      <th>keluhan</th>\n",
              "      <th>tanggal_menjadi_anggota</th>\n",
              "    </tr>\n",
              "  </thead>\n",
              "  <tbody>\n",
              "    <tr>\n",
              "      <th>309</th>\n",
              "      <td>1958</td>\n",
              "      <td>5</td>\n",
              "      <td>Sendiri</td>\n",
              "      <td>64570844.0</td>\n",
              "      <td>1.0</td>\n",
              "      <td>1.0</td>\n",
              "      <td>7.0</td>\n",
              "      <td>4810.0</td>\n",
              "      <td>6113.0</td>\n",
              "      <td>4359.0</td>\n",
              "      <td>7597.0</td>\n",
              "      <td>3.0</td>\n",
              "      <td>1.0</td>\n",
              "      <td>4.0</td>\n",
              "      <td>0.0</td>\n",
              "      <td>NaN</td>\n",
              "    </tr>\n",
              "    <tr>\n",
              "      <th>1596</th>\n",
              "      <td>1977</td>\n",
              "      <td>5</td>\n",
              "      <td>Menikah</td>\n",
              "      <td>136702741.0</td>\n",
              "      <td>0.0</td>\n",
              "      <td>0.0</td>\n",
              "      <td>86.0</td>\n",
              "      <td>51072.0</td>\n",
              "      <td>1477175.0</td>\n",
              "      <td>211531.0</td>\n",
              "      <td>86926.0</td>\n",
              "      <td>3.0</td>\n",
              "      <td>3.0</td>\n",
              "      <td>13.0</td>\n",
              "      <td>0.0</td>\n",
              "      <td>NaN</td>\n",
              "    </tr>\n",
              "  </tbody>\n",
              "</table>\n",
              "</div>"
            ],
            "text/plain": [
              "      tahun_kelahiran pendidikan status_pernikahan   pendapatan  \\\n",
              "309              1958          5           Sendiri   64570844.0   \n",
              "1596             1977          5           Menikah  136702741.0   \n",
              "\n",
              "      jumlah_anak_balita  jumlah_anak_remaja  terakhir_belanja  belanja_buah  \\\n",
              "309                  1.0                 1.0               7.0        4810.0   \n",
              "1596                 0.0                 0.0              86.0       51072.0   \n",
              "\n",
              "      belanja_daging  belanja_ikan  belanja_kue  pembelian_diskon  \\\n",
              "309           6113.0        4359.0       7597.0               3.0   \n",
              "1596       1477175.0      211531.0      86926.0               3.0   \n",
              "\n",
              "      pembelian_web  pembelian_toko  keluhan tanggal_menjadi_anggota  \n",
              "309             1.0             4.0      0.0                     NaN  \n",
              "1596            3.0            13.0      0.0                     NaN  "
            ]
          },
          "execution_count": 589,
          "metadata": {},
          "output_type": "execute_result"
        }
      ],
      "source": [
        "# Ambil contoh nilai pada kolom pendidikan dengan nilai '5'\n",
        "trainFeatures[trainFeatures['pendidikan'] == '5'].head()"
      ]
    },
    {
      "cell_type": "code",
      "execution_count": 590,
      "metadata": {
        "id": "TR8SH47equIy"
      },
      "outputs": [],
      "source": [
        "# Mengambil indeks data dengan nilai unique '5'\n",
        "dropPendidikan = trainFeatures[trainFeatures['pendidikan'] == '5'].index\n",
        "# Menghapus nilai dengan indeks tersebut\n",
        "trainFeatures.drop(dropPendidikan, inplace=True)"
      ]
    },
    {
      "cell_type": "markdown",
      "metadata": {
        "id": "407u4fIXxP39"
      },
      "source": [
        "Saat ini nilai dengan inputan '5' sudah terhapus, karena hanya terdapat 2 data saja maka dapat dikatakan aman untuk dihapus.\n",
        "\n",
        "Selanjutnya yaitu menangani data dengan inputan nan. Untuk langkah yang diambil yaitu mengecek seberapa banyak nilai nan yang ada. Jika jumlah terbilang sedikit, langkah yang diambil adalah menghapus nilai tersebut (seperti pada inputan '5' sebelumnya). Namun, jika jumlahnya terbilang cukup banyak, maka langkah yang diambil yaitu mengubah setiap nilai nan menjadi nilai modus pada kolom **pendidikan**."
      ]
    },
    {
      "cell_type": "markdown",
      "metadata": {
        "id": "gKREKga39fxO"
      },
      "source": [
        "### Olah Data dengan Nilai Unique NaN"
      ]
    },
    {
      "cell_type": "code",
      "execution_count": 591,
      "metadata": {
        "colab": {
          "base_uri": "https://localhost:8080/",
          "height": 435
        },
        "id": "G9u__T4IyUTa",
        "outputId": "d210030f-e739-4c49-9672-d5e24de5917b"
      },
      "outputs": [
        {
          "name": "stdout",
          "output_type": "stream",
          "text": [
            "Banyak Data dengan inputan nan: 189 \n",
            "\n",
            "Dengan sample data sebagai berikut: \n"
          ]
        },
        {
          "data": {
            "text/html": [
              "<div>\n",
              "<style scoped>\n",
              "    .dataframe tbody tr th:only-of-type {\n",
              "        vertical-align: middle;\n",
              "    }\n",
              "\n",
              "    .dataframe tbody tr th {\n",
              "        vertical-align: top;\n",
              "    }\n",
              "\n",
              "    .dataframe thead th {\n",
              "        text-align: right;\n",
              "    }\n",
              "</style>\n",
              "<table border=\"1\" class=\"dataframe\">\n",
              "  <thead>\n",
              "    <tr style=\"text-align: right;\">\n",
              "      <th></th>\n",
              "      <th>tahun_kelahiran</th>\n",
              "      <th>pendidikan</th>\n",
              "      <th>status_pernikahan</th>\n",
              "      <th>pendapatan</th>\n",
              "      <th>jumlah_anak_balita</th>\n",
              "      <th>jumlah_anak_remaja</th>\n",
              "      <th>terakhir_belanja</th>\n",
              "      <th>belanja_buah</th>\n",
              "      <th>belanja_daging</th>\n",
              "      <th>belanja_ikan</th>\n",
              "      <th>belanja_kue</th>\n",
              "      <th>pembelian_diskon</th>\n",
              "      <th>pembelian_web</th>\n",
              "      <th>pembelian_toko</th>\n",
              "      <th>keluhan</th>\n",
              "      <th>tanggal_menjadi_anggota</th>\n",
              "    </tr>\n",
              "  </thead>\n",
              "  <tbody>\n",
              "    <tr>\n",
              "      <th>1572</th>\n",
              "      <td>1974</td>\n",
              "      <td>NaN</td>\n",
              "      <td>Menikah</td>\n",
              "      <td>52280000.0</td>\n",
              "      <td>1.0</td>\n",
              "      <td>0.0</td>\n",
              "      <td>52.0</td>\n",
              "      <td>2023.0</td>\n",
              "      <td>18207.0</td>\n",
              "      <td>NaN</td>\n",
              "      <td>NaN</td>\n",
              "      <td>NaN</td>\n",
              "      <td>3.0</td>\n",
              "      <td>2.0</td>\n",
              "      <td>0.0</td>\n",
              "      <td>2013-08-28</td>\n",
              "    </tr>\n",
              "    <tr>\n",
              "      <th>3391</th>\n",
              "      <td>1954</td>\n",
              "      <td>NaN</td>\n",
              "      <td>Menikah</td>\n",
              "      <td>64626000.0</td>\n",
              "      <td>1.0</td>\n",
              "      <td>1.0</td>\n",
              "      <td>37.0</td>\n",
              "      <td>0.0</td>\n",
              "      <td>18207.0</td>\n",
              "      <td>10115.0</td>\n",
              "      <td>0.0</td>\n",
              "      <td>4.0</td>\n",
              "      <td>0.0</td>\n",
              "      <td>5.0</td>\n",
              "      <td>0.0</td>\n",
              "      <td>2013-07-18</td>\n",
              "    </tr>\n",
              "    <tr>\n",
              "      <th>108</th>\n",
              "      <td>1982</td>\n",
              "      <td>NaN</td>\n",
              "      <td>Menikah</td>\n",
              "      <td>34735069.0</td>\n",
              "      <td>1.0</td>\n",
              "      <td>0.0</td>\n",
              "      <td>66.0</td>\n",
              "      <td>19423.0</td>\n",
              "      <td>16366.0</td>\n",
              "      <td>30862.0</td>\n",
              "      <td>21553.0</td>\n",
              "      <td>3.0</td>\n",
              "      <td>3.0</td>\n",
              "      <td>1.0</td>\n",
              "      <td>0.0</td>\n",
              "      <td>NaN</td>\n",
              "    </tr>\n",
              "    <tr>\n",
              "      <th>1814</th>\n",
              "      <td>1983</td>\n",
              "      <td>NaN</td>\n",
              "      <td>Sendiri</td>\n",
              "      <td>131081972.0</td>\n",
              "      <td>0.0</td>\n",
              "      <td>0.0</td>\n",
              "      <td>47.0</td>\n",
              "      <td>35782.0</td>\n",
              "      <td>558009.0</td>\n",
              "      <td>39003.0</td>\n",
              "      <td>93234.0</td>\n",
              "      <td>2.0</td>\n",
              "      <td>4.0</td>\n",
              "      <td>4.0</td>\n",
              "      <td>0.0</td>\n",
              "      <td>NaN</td>\n",
              "    </tr>\n",
              "    <tr>\n",
              "      <th>1853</th>\n",
              "      <td>1996</td>\n",
              "      <td>NaN</td>\n",
              "      <td>NaN</td>\n",
              "      <td>175005937.0</td>\n",
              "      <td>0.0</td>\n",
              "      <td>0.0</td>\n",
              "      <td>61.0</td>\n",
              "      <td>59383.0</td>\n",
              "      <td>1189458.0</td>\n",
              "      <td>75558.0</td>\n",
              "      <td>219877.0</td>\n",
              "      <td>2.0</td>\n",
              "      <td>6.0</td>\n",
              "      <td>12.0</td>\n",
              "      <td>0.0</td>\n",
              "      <td>NaN</td>\n",
              "    </tr>\n",
              "    <tr>\n",
              "      <th>1179</th>\n",
              "      <td>1988</td>\n",
              "      <td>NaN</td>\n",
              "      <td>Menikah</td>\n",
              "      <td>42633000.0</td>\n",
              "      <td>1.0</td>\n",
              "      <td>0.0</td>\n",
              "      <td>3.0</td>\n",
              "      <td>26299.0</td>\n",
              "      <td>2023.0</td>\n",
              "      <td>10115.0</td>\n",
              "      <td>32368.0</td>\n",
              "      <td>3.0</td>\n",
              "      <td>3.0</td>\n",
              "      <td>5.0</td>\n",
              "      <td>0.0</td>\n",
              "      <td>2012-10-30</td>\n",
              "    </tr>\n",
              "    <tr>\n",
              "      <th>3176</th>\n",
              "      <td>1976</td>\n",
              "      <td>NaN</td>\n",
              "      <td>Rencana Menikah</td>\n",
              "      <td>NaN</td>\n",
              "      <td>0.0</td>\n",
              "      <td>0.0</td>\n",
              "      <td>83.0</td>\n",
              "      <td>36414.0</td>\n",
              "      <td>483497.0</td>\n",
              "      <td>208369.0</td>\n",
              "      <td>374255.0</td>\n",
              "      <td>3.0</td>\n",
              "      <td>8.0</td>\n",
              "      <td>7.0</td>\n",
              "      <td>0.0</td>\n",
              "      <td>2012-09-06</td>\n",
              "    </tr>\n",
              "    <tr>\n",
              "      <th>3723</th>\n",
              "      <td>1973</td>\n",
              "      <td>NaN</td>\n",
              "      <td>Rencana Menikah</td>\n",
              "      <td>50022737.0</td>\n",
              "      <td>1.0</td>\n",
              "      <td>0.0</td>\n",
              "      <td>68.0</td>\n",
              "      <td>9162.0</td>\n",
              "      <td>8907.0</td>\n",
              "      <td>9383.0</td>\n",
              "      <td>12614.0</td>\n",
              "      <td>0.0</td>\n",
              "      <td>3.0</td>\n",
              "      <td>2.0</td>\n",
              "      <td>0.0</td>\n",
              "      <td>NaN</td>\n",
              "    </tr>\n",
              "    <tr>\n",
              "      <th>2630</th>\n",
              "      <td>1975</td>\n",
              "      <td>NaN</td>\n",
              "      <td>Menikah</td>\n",
              "      <td>133777000.0</td>\n",
              "      <td>0.0</td>\n",
              "      <td>1.0</td>\n",
              "      <td>3.0</td>\n",
              "      <td>161840.0</td>\n",
              "      <td>940695.0</td>\n",
              "      <td>32368.0</td>\n",
              "      <td>18207.0</td>\n",
              "      <td>1.0</td>\n",
              "      <td>8.0</td>\n",
              "      <td>6.0</td>\n",
              "      <td>0.0</td>\n",
              "      <td>2013-11-17</td>\n",
              "    </tr>\n",
              "    <tr>\n",
              "      <th>2390</th>\n",
              "      <td>1974</td>\n",
              "      <td>NaN</td>\n",
              "      <td>Menikah</td>\n",
              "      <td>164460000.0</td>\n",
              "      <td>1.0</td>\n",
              "      <td>0.0</td>\n",
              "      <td>39.0</td>\n",
              "      <td>26299.0</td>\n",
              "      <td>548233.0</td>\n",
              "      <td>202300.0</td>\n",
              "      <td>NaN</td>\n",
              "      <td>1.0</td>\n",
              "      <td>4.0</td>\n",
              "      <td>8.0</td>\n",
              "      <td>0.0</td>\n",
              "      <td>2013-05-20</td>\n",
              "    </tr>\n",
              "  </tbody>\n",
              "</table>\n",
              "</div>"
            ],
            "text/plain": [
              "      tahun_kelahiran pendidikan status_pernikahan   pendapatan  \\\n",
              "1572             1974        NaN           Menikah   52280000.0   \n",
              "3391             1954        NaN           Menikah   64626000.0   \n",
              "108              1982        NaN           Menikah   34735069.0   \n",
              "1814             1983        NaN           Sendiri  131081972.0   \n",
              "1853             1996        NaN               NaN  175005937.0   \n",
              "1179             1988        NaN           Menikah   42633000.0   \n",
              "3176             1976        NaN   Rencana Menikah          NaN   \n",
              "3723             1973        NaN   Rencana Menikah   50022737.0   \n",
              "2630             1975        NaN           Menikah  133777000.0   \n",
              "2390             1974        NaN           Menikah  164460000.0   \n",
              "\n",
              "      jumlah_anak_balita  jumlah_anak_remaja  terakhir_belanja  belanja_buah  \\\n",
              "1572                 1.0                 0.0              52.0        2023.0   \n",
              "3391                 1.0                 1.0              37.0           0.0   \n",
              "108                  1.0                 0.0              66.0       19423.0   \n",
              "1814                 0.0                 0.0              47.0       35782.0   \n",
              "1853                 0.0                 0.0              61.0       59383.0   \n",
              "1179                 1.0                 0.0               3.0       26299.0   \n",
              "3176                 0.0                 0.0              83.0       36414.0   \n",
              "3723                 1.0                 0.0              68.0        9162.0   \n",
              "2630                 0.0                 1.0               3.0      161840.0   \n",
              "2390                 1.0                 0.0              39.0       26299.0   \n",
              "\n",
              "      belanja_daging  belanja_ikan  belanja_kue  pembelian_diskon  \\\n",
              "1572         18207.0           NaN          NaN               NaN   \n",
              "3391         18207.0       10115.0          0.0               4.0   \n",
              "108          16366.0       30862.0      21553.0               3.0   \n",
              "1814        558009.0       39003.0      93234.0               2.0   \n",
              "1853       1189458.0       75558.0     219877.0               2.0   \n",
              "1179          2023.0       10115.0      32368.0               3.0   \n",
              "3176        483497.0      208369.0     374255.0               3.0   \n",
              "3723          8907.0        9383.0      12614.0               0.0   \n",
              "2630        940695.0       32368.0      18207.0               1.0   \n",
              "2390        548233.0      202300.0          NaN               1.0   \n",
              "\n",
              "      pembelian_web  pembelian_toko  keluhan tanggal_menjadi_anggota  \n",
              "1572            3.0             2.0      0.0              2013-08-28  \n",
              "3391            0.0             5.0      0.0              2013-07-18  \n",
              "108             3.0             1.0      0.0                     NaN  \n",
              "1814            4.0             4.0      0.0                     NaN  \n",
              "1853            6.0            12.0      0.0                     NaN  \n",
              "1179            3.0             5.0      0.0              2012-10-30  \n",
              "3176            8.0             7.0      0.0              2012-09-06  \n",
              "3723            3.0             2.0      0.0                     NaN  \n",
              "2630            8.0             6.0      0.0              2013-11-17  \n",
              "2390            4.0             8.0      0.0              2013-05-20  "
            ]
          },
          "execution_count": 591,
          "metadata": {},
          "output_type": "execute_result"
        }
      ],
      "source": [
        "# Mengambil sample data dengan inputan nan\n",
        "dataNanPendidikan = trainFeatures[trainFeatures['pendidikan'].isnull()]\n",
        "\n",
        "# Mengecek Banyak Baris Data\n",
        "print('Banyak Data dengan inputan nan:', dataNanPendidikan.shape[0], '\\n')\n",
        "print('Dengan sample data sebagai berikut: ')\n",
        "dataNanPendidikan.sample(10)"
      ]
    },
    {
      "cell_type": "markdown",
      "metadata": {
        "id": "YjtiVdDAzLWv"
      },
      "source": [
        "Dikarenakan jumlah dari data nan cukup banyak, maka akan dilakukan pengubahan isi dengan data modus pada kolom **pendidikan**."
      ]
    },
    {
      "cell_type": "code",
      "execution_count": 592,
      "metadata": {
        "colab": {
          "base_uri": "https://localhost:8080/"
        },
        "id": "mH9PAQ4PkCgA",
        "outputId": "0f75da69-a62b-45e3-a724-af9fca5ba2b7"
      },
      "outputs": [
        {
          "name": "stdout",
          "output_type": "stream",
          "text": [
            "Nilai dengan modus terbanyak adalah Sarjana\n"
          ]
        }
      ],
      "source": [
        "# Mengambil jumlah isi terbanyak pada kolom pendidikan\n",
        "modePendidikan = trainFeatures['pendidikan'].mode()[0]\n",
        "print('Nilai dengan modus terbanyak adalah', modePendidikan)"
      ]
    },
    {
      "cell_type": "code",
      "execution_count": 593,
      "metadata": {
        "id": "_KeArtf4re5S"
      },
      "outputs": [],
      "source": [
        "# Mengubah nilai nan menjadi nilai modus\n",
        "trainFeatures['pendidikan'] = trainFeatures['pendidikan'].fillna(modePendidikan)"
      ]
    },
    {
      "cell_type": "code",
      "execution_count": 594,
      "metadata": {
        "colab": {
          "base_uri": "https://localhost:8080/"
        },
        "id": "eFJ0YxDX5WZU",
        "outputId": "4219d5fe-6d66-4f01-a163-40e269e4b325"
      },
      "outputs": [
        {
          "data": {
            "text/plain": [
              "array(['Sarjana', 'Magister', 'SMA', 'SMP', 'Doktor'], dtype=object)"
            ]
          },
          "execution_count": 594,
          "metadata": {},
          "output_type": "execute_result"
        }
      ],
      "source": [
        "# Cek ulang nilai unique\n",
        "trainFeatures['pendidikan'].unique()"
      ]
    },
    {
      "cell_type": "markdown",
      "metadata": {
        "id": "-3QumGrJ5mKU"
      },
      "source": [
        "Pada saat ini, kondisi kolom **pendidikan** sudah normal."
      ]
    },
    {
      "cell_type": "markdown",
      "metadata": {
        "id": "teUdIuuj6R5y"
      },
      "source": [
        "## Kolom Status Pernikahan"
      ]
    },
    {
      "cell_type": "code",
      "execution_count": 595,
      "metadata": {
        "colab": {
          "base_uri": "https://localhost:8080/"
        },
        "id": "zhKEJXMtsP-O",
        "outputId": "9f5e00a2-84d3-47fb-a8ae-5658b4cba8f5"
      },
      "outputs": [
        {
          "data": {
            "text/plain": [
              "array(['Rencana Menikah', 'Menikah', 'Sendiri', 'Cerai', nan,\n",
              "       'Cerai Mati', '5'], dtype=object)"
            ]
          },
          "execution_count": 595,
          "metadata": {},
          "output_type": "execute_result"
        }
      ],
      "source": [
        "# Cek Nilai Unique\n",
        "trainFeatures['status_pernikahan'].unique()"
      ]
    },
    {
      "cell_type": "markdown",
      "metadata": {
        "id": "FqaG_Vjw6fft"
      },
      "source": [
        "Mirip dengan kolom Pendidikan, terdapat dua nilai tidak sesuai pada kolom **Status Pernikahan** yaitu '5' dan nan. Maka perlu dilakukan proses yang sama dengan kolom Pendidikan yaitu meninjau setiap invalid value yang ada untuk dilakukan langkah lebih lanjut."
      ]
    },
    {
      "cell_type": "markdown",
      "metadata": {
        "id": "GQ_PRzbK8DYq"
      },
      "source": [
        "### Olah Data dengan Nilai Unique '5'"
      ]
    },
    {
      "cell_type": "code",
      "execution_count": 596,
      "metadata": {
        "colab": {
          "base_uri": "https://localhost:8080/",
          "height": 100
        },
        "id": "SfD3wvS2secX",
        "outputId": "8e311b39-b7bb-4f09-ccb1-b95abf99b094"
      },
      "outputs": [
        {
          "data": {
            "text/html": [
              "<div>\n",
              "<style scoped>\n",
              "    .dataframe tbody tr th:only-of-type {\n",
              "        vertical-align: middle;\n",
              "    }\n",
              "\n",
              "    .dataframe tbody tr th {\n",
              "        vertical-align: top;\n",
              "    }\n",
              "\n",
              "    .dataframe thead th {\n",
              "        text-align: right;\n",
              "    }\n",
              "</style>\n",
              "<table border=\"1\" class=\"dataframe\">\n",
              "  <thead>\n",
              "    <tr style=\"text-align: right;\">\n",
              "      <th></th>\n",
              "      <th>tahun_kelahiran</th>\n",
              "      <th>pendidikan</th>\n",
              "      <th>status_pernikahan</th>\n",
              "      <th>pendapatan</th>\n",
              "      <th>jumlah_anak_balita</th>\n",
              "      <th>jumlah_anak_remaja</th>\n",
              "      <th>terakhir_belanja</th>\n",
              "      <th>belanja_buah</th>\n",
              "      <th>belanja_daging</th>\n",
              "      <th>belanja_ikan</th>\n",
              "      <th>belanja_kue</th>\n",
              "      <th>pembelian_diskon</th>\n",
              "      <th>pembelian_web</th>\n",
              "      <th>pembelian_toko</th>\n",
              "      <th>keluhan</th>\n",
              "      <th>tanggal_menjadi_anggota</th>\n",
              "    </tr>\n",
              "  </thead>\n",
              "  <tbody>\n",
              "    <tr>\n",
              "      <th>522</th>\n",
              "      <td>1944</td>\n",
              "      <td>Doktor</td>\n",
              "      <td>5</td>\n",
              "      <td>113851181.0</td>\n",
              "      <td>1.0</td>\n",
              "      <td>0.0</td>\n",
              "      <td>42.0</td>\n",
              "      <td>14161.0</td>\n",
              "      <td>27044.0</td>\n",
              "      <td>NaN</td>\n",
              "      <td>7791.0</td>\n",
              "      <td>1.0</td>\n",
              "      <td>0.0</td>\n",
              "      <td>0.0</td>\n",
              "      <td>0.0</td>\n",
              "      <td>NaN</td>\n",
              "    </tr>\n",
              "  </tbody>\n",
              "</table>\n",
              "</div>"
            ],
            "text/plain": [
              "     tahun_kelahiran pendidikan status_pernikahan   pendapatan  \\\n",
              "522             1944     Doktor                 5  113851181.0   \n",
              "\n",
              "     jumlah_anak_balita  jumlah_anak_remaja  terakhir_belanja  belanja_buah  \\\n",
              "522                 1.0                 0.0              42.0       14161.0   \n",
              "\n",
              "     belanja_daging  belanja_ikan  belanja_kue  pembelian_diskon  \\\n",
              "522         27044.0           NaN       7791.0               1.0   \n",
              "\n",
              "     pembelian_web  pembelian_toko  keluhan tanggal_menjadi_anggota  \n",
              "522            0.0             0.0      0.0                     NaN  "
            ]
          },
          "execution_count": 596,
          "metadata": {},
          "output_type": "execute_result"
        }
      ],
      "source": [
        "# Mengambil sample data dengan nilai unique '5'\n",
        "trainFeatures[trainFeatures['status_pernikahan'] == '5']"
      ]
    },
    {
      "cell_type": "markdown",
      "metadata": {
        "id": "ZRWQD7hZ7Ktq"
      },
      "source": [
        "Dikarenakan hanya terdapat satu nilai saja dengan value '5', maka dapat dihapus saja karena tidak terlalu berpengaruh terhadap keseluruhan data."
      ]
    },
    {
      "cell_type": "code",
      "execution_count": 597,
      "metadata": {
        "id": "aHpuBdSYtVgq"
      },
      "outputs": [],
      "source": [
        "# Mengambil data dengan nilai unique '5'\n",
        "dropStatusNikah = trainFeatures[trainFeatures['status_pernikahan'] == '5'].index\n",
        "# Menghapus data\n",
        "trainFeatures.drop(dropStatusNikah, inplace=True)"
      ]
    },
    {
      "cell_type": "markdown",
      "metadata": {
        "id": "SdmFGK8X8KdZ"
      },
      "source": [
        "\n",
        "### Olah Data dengan Nilai Unique NaN"
      ]
    },
    {
      "cell_type": "code",
      "execution_count": 598,
      "metadata": {
        "colab": {
          "base_uri": "https://localhost:8080/",
          "height": 435
        },
        "id": "rluuHrfF7-6W",
        "outputId": "a363f983-5ca0-4f8f-8bcd-a7da034e7729"
      },
      "outputs": [
        {
          "name": "stdout",
          "output_type": "stream",
          "text": [
            "Banyak Data dengan inputan nan: 212 \n",
            "\n",
            "Dengan sample data sebagai berikut: \n"
          ]
        },
        {
          "data": {
            "text/html": [
              "<div>\n",
              "<style scoped>\n",
              "    .dataframe tbody tr th:only-of-type {\n",
              "        vertical-align: middle;\n",
              "    }\n",
              "\n",
              "    .dataframe tbody tr th {\n",
              "        vertical-align: top;\n",
              "    }\n",
              "\n",
              "    .dataframe thead th {\n",
              "        text-align: right;\n",
              "    }\n",
              "</style>\n",
              "<table border=\"1\" class=\"dataframe\">\n",
              "  <thead>\n",
              "    <tr style=\"text-align: right;\">\n",
              "      <th></th>\n",
              "      <th>tahun_kelahiran</th>\n",
              "      <th>pendidikan</th>\n",
              "      <th>status_pernikahan</th>\n",
              "      <th>pendapatan</th>\n",
              "      <th>jumlah_anak_balita</th>\n",
              "      <th>jumlah_anak_remaja</th>\n",
              "      <th>terakhir_belanja</th>\n",
              "      <th>belanja_buah</th>\n",
              "      <th>belanja_daging</th>\n",
              "      <th>belanja_ikan</th>\n",
              "      <th>belanja_kue</th>\n",
              "      <th>pembelian_diskon</th>\n",
              "      <th>pembelian_web</th>\n",
              "      <th>pembelian_toko</th>\n",
              "      <th>keluhan</th>\n",
              "      <th>tanggal_menjadi_anggota</th>\n",
              "    </tr>\n",
              "  </thead>\n",
              "  <tbody>\n",
              "    <tr>\n",
              "      <th>2199</th>\n",
              "      <td>1962</td>\n",
              "      <td>SMA</td>\n",
              "      <td>NaN</td>\n",
              "      <td>118235000.0</td>\n",
              "      <td>0.0</td>\n",
              "      <td>1.0</td>\n",
              "      <td>30.0</td>\n",
              "      <td>72828.0</td>\n",
              "      <td>157794.0</td>\n",
              "      <td>123403.0</td>\n",
              "      <td>107219.0</td>\n",
              "      <td>2.0</td>\n",
              "      <td>10.0</td>\n",
              "      <td>6.0</td>\n",
              "      <td>0.0</td>\n",
              "      <td>2013-11-18</td>\n",
              "    </tr>\n",
              "    <tr>\n",
              "      <th>187</th>\n",
              "      <td>1974</td>\n",
              "      <td>Magister</td>\n",
              "      <td>NaN</td>\n",
              "      <td>84658895.0</td>\n",
              "      <td>NaN</td>\n",
              "      <td>0.0</td>\n",
              "      <td>23.0</td>\n",
              "      <td>102022.0</td>\n",
              "      <td>365145.0</td>\n",
              "      <td>113683.0</td>\n",
              "      <td>87252.0</td>\n",
              "      <td>1.0</td>\n",
              "      <td>3.0</td>\n",
              "      <td>9.0</td>\n",
              "      <td>0.0</td>\n",
              "      <td>NaN</td>\n",
              "    </tr>\n",
              "    <tr>\n",
              "      <th>1403</th>\n",
              "      <td>1974</td>\n",
              "      <td>Doktor</td>\n",
              "      <td>NaN</td>\n",
              "      <td>115185000.0</td>\n",
              "      <td>0.0</td>\n",
              "      <td>1.0</td>\n",
              "      <td>9.0</td>\n",
              "      <td>121380.0</td>\n",
              "      <td>362117.0</td>\n",
              "      <td>12138.0</td>\n",
              "      <td>105196.0</td>\n",
              "      <td>2.0</td>\n",
              "      <td>6.0</td>\n",
              "      <td>7.0</td>\n",
              "      <td>0.0</td>\n",
              "      <td>2012-11-23</td>\n",
              "    </tr>\n",
              "    <tr>\n",
              "      <th>1064</th>\n",
              "      <td>1968</td>\n",
              "      <td>Sarjana</td>\n",
              "      <td>NaN</td>\n",
              "      <td>156269453.0</td>\n",
              "      <td>0.0</td>\n",
              "      <td>0.0</td>\n",
              "      <td>23.0</td>\n",
              "      <td>141843.0</td>\n",
              "      <td>986873.0</td>\n",
              "      <td>358265.0</td>\n",
              "      <td>147912.0</td>\n",
              "      <td>0.0</td>\n",
              "      <td>6.0</td>\n",
              "      <td>4.0</td>\n",
              "      <td>0.0</td>\n",
              "      <td>NaN</td>\n",
              "    </tr>\n",
              "    <tr>\n",
              "      <th>499</th>\n",
              "      <td>1970</td>\n",
              "      <td>Magister</td>\n",
              "      <td>NaN</td>\n",
              "      <td>65522000.0</td>\n",
              "      <td>1.0</td>\n",
              "      <td>1.0</td>\n",
              "      <td>75.0</td>\n",
              "      <td>6069.0</td>\n",
              "      <td>34391.0</td>\n",
              "      <td>2023.0</td>\n",
              "      <td>8092.0</td>\n",
              "      <td>2.0</td>\n",
              "      <td>0.0</td>\n",
              "      <td>5.0</td>\n",
              "      <td>0.0</td>\n",
              "      <td>2013-09-08</td>\n",
              "    </tr>\n",
              "    <tr>\n",
              "      <th>2234</th>\n",
              "      <td>1953</td>\n",
              "      <td>Magister</td>\n",
              "      <td>NaN</td>\n",
              "      <td>85027132.0</td>\n",
              "      <td>1.0</td>\n",
              "      <td>NaN</td>\n",
              "      <td>32.0</td>\n",
              "      <td>0.0</td>\n",
              "      <td>71056.0</td>\n",
              "      <td>7415.0</td>\n",
              "      <td>8092.0</td>\n",
              "      <td>4.0</td>\n",
              "      <td>2.0</td>\n",
              "      <td>2.0</td>\n",
              "      <td>NaN</td>\n",
              "      <td>NaN</td>\n",
              "    </tr>\n",
              "    <tr>\n",
              "      <th>3559</th>\n",
              "      <td>1976</td>\n",
              "      <td>Sarjana</td>\n",
              "      <td>NaN</td>\n",
              "      <td>150582000.0</td>\n",
              "      <td>0.0</td>\n",
              "      <td>0.0</td>\n",
              "      <td>30.0</td>\n",
              "      <td>4046.0</td>\n",
              "      <td>NaN</td>\n",
              "      <td>NaN</td>\n",
              "      <td>125426.0</td>\n",
              "      <td>0.0</td>\n",
              "      <td>8.0</td>\n",
              "      <td>10.0</td>\n",
              "      <td>0.0</td>\n",
              "      <td>NaN</td>\n",
              "    </tr>\n",
              "    <tr>\n",
              "      <th>1537</th>\n",
              "      <td>1985</td>\n",
              "      <td>Magister</td>\n",
              "      <td>NaN</td>\n",
              "      <td>73759000.0</td>\n",
              "      <td>0.0</td>\n",
              "      <td>0.0</td>\n",
              "      <td>15.0</td>\n",
              "      <td>4046.0</td>\n",
              "      <td>89012.0</td>\n",
              "      <td>8092.0</td>\n",
              "      <td>16184.0</td>\n",
              "      <td>2.0</td>\n",
              "      <td>2.0</td>\n",
              "      <td>4.0</td>\n",
              "      <td>0.0</td>\n",
              "      <td>2014-04-21</td>\n",
              "    </tr>\n",
              "    <tr>\n",
              "      <th>888</th>\n",
              "      <td>1978</td>\n",
              "      <td>Sarjana</td>\n",
              "      <td>NaN</td>\n",
              "      <td>78139771.0</td>\n",
              "      <td>1.0</td>\n",
              "      <td>0.0</td>\n",
              "      <td>13.0</td>\n",
              "      <td>758.0</td>\n",
              "      <td>NaN</td>\n",
              "      <td>151.0</td>\n",
              "      <td>0.0</td>\n",
              "      <td>1.0</td>\n",
              "      <td>NaN</td>\n",
              "      <td>2.0</td>\n",
              "      <td>0.0</td>\n",
              "      <td>NaN</td>\n",
              "    </tr>\n",
              "    <tr>\n",
              "      <th>1081</th>\n",
              "      <td>1959</td>\n",
              "      <td>Doktor</td>\n",
              "      <td>NaN</td>\n",
              "      <td>110038000.0</td>\n",
              "      <td>NaN</td>\n",
              "      <td>1.0</td>\n",
              "      <td>54.0</td>\n",
              "      <td>22253.0</td>\n",
              "      <td>99127.0</td>\n",
              "      <td>34391.0</td>\n",
              "      <td>12138.0</td>\n",
              "      <td>0.0</td>\n",
              "      <td>9.0</td>\n",
              "      <td>6.0</td>\n",
              "      <td>0.0</td>\n",
              "      <td>2013-07-23</td>\n",
              "    </tr>\n",
              "  </tbody>\n",
              "</table>\n",
              "</div>"
            ],
            "text/plain": [
              "      tahun_kelahiran pendidikan status_pernikahan   pendapatan  \\\n",
              "2199             1962        SMA               NaN  118235000.0   \n",
              "187              1974   Magister               NaN   84658895.0   \n",
              "1403             1974     Doktor               NaN  115185000.0   \n",
              "1064             1968    Sarjana               NaN  156269453.0   \n",
              "499              1970   Magister               NaN   65522000.0   \n",
              "2234             1953   Magister               NaN   85027132.0   \n",
              "3559             1976    Sarjana               NaN  150582000.0   \n",
              "1537             1985   Magister               NaN   73759000.0   \n",
              "888              1978    Sarjana               NaN   78139771.0   \n",
              "1081             1959     Doktor               NaN  110038000.0   \n",
              "\n",
              "      jumlah_anak_balita  jumlah_anak_remaja  terakhir_belanja  belanja_buah  \\\n",
              "2199                 0.0                 1.0              30.0       72828.0   \n",
              "187                  NaN                 0.0              23.0      102022.0   \n",
              "1403                 0.0                 1.0               9.0      121380.0   \n",
              "1064                 0.0                 0.0              23.0      141843.0   \n",
              "499                  1.0                 1.0              75.0        6069.0   \n",
              "2234                 1.0                 NaN              32.0           0.0   \n",
              "3559                 0.0                 0.0              30.0        4046.0   \n",
              "1537                 0.0                 0.0              15.0        4046.0   \n",
              "888                  1.0                 0.0              13.0         758.0   \n",
              "1081                 NaN                 1.0              54.0       22253.0   \n",
              "\n",
              "      belanja_daging  belanja_ikan  belanja_kue  pembelian_diskon  \\\n",
              "2199        157794.0      123403.0     107219.0               2.0   \n",
              "187         365145.0      113683.0      87252.0               1.0   \n",
              "1403        362117.0       12138.0     105196.0               2.0   \n",
              "1064        986873.0      358265.0     147912.0               0.0   \n",
              "499          34391.0        2023.0       8092.0               2.0   \n",
              "2234         71056.0        7415.0       8092.0               4.0   \n",
              "3559             NaN           NaN     125426.0               0.0   \n",
              "1537         89012.0        8092.0      16184.0               2.0   \n",
              "888              NaN         151.0          0.0               1.0   \n",
              "1081         99127.0       34391.0      12138.0               0.0   \n",
              "\n",
              "      pembelian_web  pembelian_toko  keluhan tanggal_menjadi_anggota  \n",
              "2199           10.0             6.0      0.0              2013-11-18  \n",
              "187             3.0             9.0      0.0                     NaN  \n",
              "1403            6.0             7.0      0.0              2012-11-23  \n",
              "1064            6.0             4.0      0.0                     NaN  \n",
              "499             0.0             5.0      0.0              2013-09-08  \n",
              "2234            2.0             2.0      NaN                     NaN  \n",
              "3559            8.0            10.0      0.0                     NaN  \n",
              "1537            2.0             4.0      0.0              2014-04-21  \n",
              "888             NaN             2.0      0.0                     NaN  \n",
              "1081            9.0             6.0      0.0              2013-07-23  "
            ]
          },
          "execution_count": 598,
          "metadata": {},
          "output_type": "execute_result"
        }
      ],
      "source": [
        "# Mengambil sample data dengan inputan nan\n",
        "dataNanPernikahan = trainFeatures[trainFeatures['status_pernikahan'].isnull()]\n",
        "\n",
        "# Mengecek Banyak Baris Data\n",
        "print('Banyak Data dengan inputan nan:', dataNanPernikahan.shape[0], '\\n')\n",
        "print('Dengan sample data sebagai berikut: ')\n",
        "dataNanPernikahan.sample(10)"
      ]
    },
    {
      "cell_type": "markdown",
      "metadata": {
        "id": "0u4wcG9W9QDb"
      },
      "source": [
        "Dikarenakan jumlah dari data nan cukup banyak, maka akan dilakukan pengubahan isi data nan dengan analisis lebih lanjut pada kolom-kolom yang berpotensi memiliki korelasi dengan kolom **status pernikahan**. \n",
        "\n",
        "Yaitu dengan melihat kolom **jumlah anak balita** dan **jumlah anak remaja** dengan asumsi jika memiliki nilai lebih dari 0 dari kedua kolom tersebut, maka akan diubah menjadi \"Menikah\"."
      ]
    },
    {
      "cell_type": "code",
      "execution_count": 599,
      "metadata": {
        "colab": {
          "base_uri": "https://localhost:8080/",
          "height": 35
        },
        "id": "TEKrzHFDtj0s",
        "outputId": "67f69d26-c8fb-434a-bdc2-db2d232af2c5"
      },
      "outputs": [],
      "source": [
        "# Ubah NaN menjadi String Terlebih Dahulu\n",
        "trainFeatures['status_pernikahan'].fillna('kosong', inplace=True)\n",
        "\n",
        "# Buat Fungsi\n",
        "def ubahPernikahan(row):\n",
        "    if row['status_pernikahan'] == 'kosong':\n",
        "        if row['jumlah_anak_balita'] > 0 or row['jumlah_anak_remaja'] > 0:\n",
        "            return 'Menikah'\n",
        "        else:\n",
        "            return 'Sendiri'\n",
        "    else:\n",
        "        return row['status_pernikahan']\n",
        "\n",
        "trainFeatures['status_pernikahan'] = trainFeatures.apply(ubahPernikahan, axis=1)"
      ]
    },
    {
      "cell_type": "code",
      "execution_count": 600,
      "metadata": {},
      "outputs": [
        {
          "data": {
            "text/plain": [
              "array(['Rencana Menikah', 'Menikah', 'Sendiri', 'Cerai', 'Cerai Mati'],\n",
              "      dtype=object)"
            ]
          },
          "execution_count": 600,
          "metadata": {},
          "output_type": "execute_result"
        }
      ],
      "source": [
        "trainFeatures['status_pernikahan'].unique()"
      ]
    },
    {
      "cell_type": "markdown",
      "metadata": {},
      "source": [
        "Saat ini nilai unique pada kolom **status pernikahan** sudah normal dan tidak ada nilai nan."
      ]
    },
    {
      "cell_type": "markdown",
      "metadata": {},
      "source": [
        "## Kolom Pendapatan"
      ]
    },
    {
      "cell_type": "code",
      "execution_count": 601,
      "metadata": {},
      "outputs": [
        {
          "data": {
            "text/plain": [
              "655     26174000.0\n",
              "1045    94493000.0\n",
              "3499    86922000.0\n",
              "2511    88687957.0\n",
              "3097    79620374.0\n",
              "Name: pendapatan, dtype: float64"
            ]
          },
          "execution_count": 601,
          "metadata": {},
          "output_type": "execute_result"
        }
      ],
      "source": [
        "trainFeatures.pendapatan.sample(5)"
      ]
    },
    {
      "cell_type": "markdown",
      "metadata": {},
      "source": [
        "### Cek Nilai Statistik "
      ]
    },
    {
      "cell_type": "code",
      "execution_count": 602,
      "metadata": {
        "colab": {
          "base_uri": "https://localhost:8080/"
        },
        "id": "FODbWMiTy760",
        "outputId": "417a5dfb-6f53-42c9-f7b3-2760993b97e7"
      },
      "outputs": [
        {
          "data": {
            "text/html": [
              "<div>\n",
              "<style scoped>\n",
              "    .dataframe tbody tr th:only-of-type {\n",
              "        vertical-align: middle;\n",
              "    }\n",
              "\n",
              "    .dataframe tbody tr th {\n",
              "        vertical-align: top;\n",
              "    }\n",
              "\n",
              "    .dataframe thead th {\n",
              "        text-align: right;\n",
              "    }\n",
              "</style>\n",
              "<table border=\"1\" class=\"dataframe\">\n",
              "  <thead>\n",
              "    <tr style=\"text-align: right;\">\n",
              "      <th></th>\n",
              "      <th>tahun_kelahiran</th>\n",
              "      <th>pendapatan</th>\n",
              "      <th>jumlah_anak_balita</th>\n",
              "      <th>jumlah_anak_remaja</th>\n",
              "      <th>terakhir_belanja</th>\n",
              "      <th>belanja_buah</th>\n",
              "      <th>belanja_daging</th>\n",
              "      <th>belanja_ikan</th>\n",
              "      <th>belanja_kue</th>\n",
              "      <th>pembelian_diskon</th>\n",
              "      <th>pembelian_web</th>\n",
              "      <th>pembelian_toko</th>\n",
              "      <th>keluhan</th>\n",
              "    </tr>\n",
              "  </thead>\n",
              "  <tbody>\n",
              "    <tr>\n",
              "      <th>count</th>\n",
              "      <td>3814.000000</td>\n",
              "      <td>3.624000e+03</td>\n",
              "      <td>3624.000000</td>\n",
              "      <td>3610.000000</td>\n",
              "      <td>3642.000000</td>\n",
              "      <td>3633.000000</td>\n",
              "      <td>3.636000e+03</td>\n",
              "      <td>3622.000000</td>\n",
              "      <td>3600.000000</td>\n",
              "      <td>3636.000000</td>\n",
              "      <td>3649.000000</td>\n",
              "      <td>3645.000000</td>\n",
              "      <td>3618.000000</td>\n",
              "    </tr>\n",
              "    <tr>\n",
              "      <th>mean</th>\n",
              "      <td>1967.830362</td>\n",
              "      <td>1.144910e+08</td>\n",
              "      <td>0.292770</td>\n",
              "      <td>0.353740</td>\n",
              "      <td>47.233388</td>\n",
              "      <td>59834.344344</td>\n",
              "      <td>4.385213e+05</td>\n",
              "      <td>81414.356157</td>\n",
              "      <td>63402.365000</td>\n",
              "      <td>2.125413</td>\n",
              "      <td>4.439024</td>\n",
              "      <td>5.767901</td>\n",
              "      <td>0.004975</td>\n",
              "    </tr>\n",
              "    <tr>\n",
              "      <th>std</th>\n",
              "      <td>11.764420</td>\n",
              "      <td>4.346894e+07</td>\n",
              "      <td>0.472942</td>\n",
              "      <td>0.493031</td>\n",
              "      <td>27.063687</td>\n",
              "      <td>74045.898408</td>\n",
              "      <td>5.118685e+05</td>\n",
              "      <td>99972.253724</td>\n",
              "      <td>79456.742289</td>\n",
              "      <td>2.100816</td>\n",
              "      <td>3.002223</td>\n",
              "      <td>3.208269</td>\n",
              "      <td>0.070369</td>\n",
              "    </tr>\n",
              "    <tr>\n",
              "      <th>min</th>\n",
              "      <td>1899.000000</td>\n",
              "      <td>5.073000e+06</td>\n",
              "      <td>0.000000</td>\n",
              "      <td>0.000000</td>\n",
              "      <td>0.000000</td>\n",
              "      <td>0.000000</td>\n",
              "      <td>0.000000e+00</td>\n",
              "      <td>0.000000</td>\n",
              "      <td>0.000000</td>\n",
              "      <td>0.000000</td>\n",
              "      <td>0.000000</td>\n",
              "      <td>0.000000</td>\n",
              "      <td>0.000000</td>\n",
              "    </tr>\n",
              "    <tr>\n",
              "      <th>25%</th>\n",
              "      <td>1959.000000</td>\n",
              "      <td>8.112568e+07</td>\n",
              "      <td>0.000000</td>\n",
              "      <td>0.000000</td>\n",
              "      <td>25.000000</td>\n",
              "      <td>7908.000000</td>\n",
              "      <td>4.955925e+04</td>\n",
              "      <td>10115.000000</td>\n",
              "      <td>7953.250000</td>\n",
              "      <td>0.000000</td>\n",
              "      <td>2.000000</td>\n",
              "      <td>3.000000</td>\n",
              "      <td>0.000000</td>\n",
              "    </tr>\n",
              "    <tr>\n",
              "      <th>50%</th>\n",
              "      <td>1968.000000</td>\n",
              "      <td>1.156252e+08</td>\n",
              "      <td>0.000000</td>\n",
              "      <td>0.000000</td>\n",
              "      <td>47.000000</td>\n",
              "      <td>26465.000000</td>\n",
              "      <td>2.221065e+05</td>\n",
              "      <td>36054.500000</td>\n",
              "      <td>27804.500000</td>\n",
              "      <td>2.000000</td>\n",
              "      <td>4.000000</td>\n",
              "      <td>5.000000</td>\n",
              "      <td>0.000000</td>\n",
              "    </tr>\n",
              "    <tr>\n",
              "      <th>75%</th>\n",
              "      <td>1976.000000</td>\n",
              "      <td>1.505037e+08</td>\n",
              "      <td>1.000000</td>\n",
              "      <td>1.000000</td>\n",
              "      <td>69.000000</td>\n",
              "      <td>86201.000000</td>\n",
              "      <td>6.860762e+05</td>\n",
              "      <td>121309.500000</td>\n",
              "      <td>89677.000000</td>\n",
              "      <td>3.000000</td>\n",
              "      <td>7.000000</td>\n",
              "      <td>8.000000</td>\n",
              "      <td>0.000000</td>\n",
              "    </tr>\n",
              "    <tr>\n",
              "      <th>max</th>\n",
              "      <td>2000.000000</td>\n",
              "      <td>3.328840e+08</td>\n",
              "      <td>2.000000</td>\n",
              "      <td>2.000000</td>\n",
              "      <td>128.000000</td>\n",
              "      <td>396508.000000</td>\n",
              "      <td>3.489675e+06</td>\n",
              "      <td>621600.000000</td>\n",
              "      <td>542164.000000</td>\n",
              "      <td>20.000000</td>\n",
              "      <td>30.000000</td>\n",
              "      <td>17.000000</td>\n",
              "      <td>1.000000</td>\n",
              "    </tr>\n",
              "  </tbody>\n",
              "</table>\n",
              "</div>"
            ],
            "text/plain": [
              "       tahun_kelahiran    pendapatan  jumlah_anak_balita  jumlah_anak_remaja  \\\n",
              "count      3814.000000  3.624000e+03         3624.000000         3610.000000   \n",
              "mean       1967.830362  1.144910e+08            0.292770            0.353740   \n",
              "std          11.764420  4.346894e+07            0.472942            0.493031   \n",
              "min        1899.000000  5.073000e+06            0.000000            0.000000   \n",
              "25%        1959.000000  8.112568e+07            0.000000            0.000000   \n",
              "50%        1968.000000  1.156252e+08            0.000000            0.000000   \n",
              "75%        1976.000000  1.505037e+08            1.000000            1.000000   \n",
              "max        2000.000000  3.328840e+08            2.000000            2.000000   \n",
              "\n",
              "       terakhir_belanja   belanja_buah  belanja_daging   belanja_ikan  \\\n",
              "count       3642.000000    3633.000000    3.636000e+03    3622.000000   \n",
              "mean          47.233388   59834.344344    4.385213e+05   81414.356157   \n",
              "std           27.063687   74045.898408    5.118685e+05   99972.253724   \n",
              "min            0.000000       0.000000    0.000000e+00       0.000000   \n",
              "25%           25.000000    7908.000000    4.955925e+04   10115.000000   \n",
              "50%           47.000000   26465.000000    2.221065e+05   36054.500000   \n",
              "75%           69.000000   86201.000000    6.860762e+05  121309.500000   \n",
              "max          128.000000  396508.000000    3.489675e+06  621600.000000   \n",
              "\n",
              "         belanja_kue  pembelian_diskon  pembelian_web  pembelian_toko  \\\n",
              "count    3600.000000       3636.000000    3649.000000     3645.000000   \n",
              "mean    63402.365000          2.125413       4.439024        5.767901   \n",
              "std     79456.742289          2.100816       3.002223        3.208269   \n",
              "min         0.000000          0.000000       0.000000        0.000000   \n",
              "25%      7953.250000          0.000000       2.000000        3.000000   \n",
              "50%     27804.500000          2.000000       4.000000        5.000000   \n",
              "75%     89677.000000          3.000000       7.000000        8.000000   \n",
              "max    542164.000000         20.000000      30.000000       17.000000   \n",
              "\n",
              "           keluhan  \n",
              "count  3618.000000  \n",
              "mean      0.004975  \n",
              "std       0.070369  \n",
              "min       0.000000  \n",
              "25%       0.000000  \n",
              "50%       0.000000  \n",
              "75%       0.000000  \n",
              "max       1.000000  "
            ]
          },
          "execution_count": 602,
          "metadata": {},
          "output_type": "execute_result"
        }
      ],
      "source": [
        "trainFeatures.describe()"
      ]
    },
    {
      "cell_type": "markdown",
      "metadata": {},
      "source": [
        "### Pengecekan Nilai Null\n",
        "\n",
        "Dari hasil analisis sebelumnya, terlihat bahwa terdapat nilai null pada kolom ini."
      ]
    },
    {
      "cell_type": "code",
      "execution_count": 603,
      "metadata": {},
      "outputs": [
        {
          "data": {
            "text/html": [
              "<div>\n",
              "<style scoped>\n",
              "    .dataframe tbody tr th:only-of-type {\n",
              "        vertical-align: middle;\n",
              "    }\n",
              "\n",
              "    .dataframe tbody tr th {\n",
              "        vertical-align: top;\n",
              "    }\n",
              "\n",
              "    .dataframe thead th {\n",
              "        text-align: right;\n",
              "    }\n",
              "</style>\n",
              "<table border=\"1\" class=\"dataframe\">\n",
              "  <thead>\n",
              "    <tr style=\"text-align: right;\">\n",
              "      <th></th>\n",
              "      <th>tahun_kelahiran</th>\n",
              "      <th>pendidikan</th>\n",
              "      <th>status_pernikahan</th>\n",
              "      <th>pendapatan</th>\n",
              "      <th>jumlah_anak_balita</th>\n",
              "      <th>jumlah_anak_remaja</th>\n",
              "      <th>terakhir_belanja</th>\n",
              "      <th>belanja_buah</th>\n",
              "      <th>belanja_daging</th>\n",
              "      <th>belanja_ikan</th>\n",
              "      <th>belanja_kue</th>\n",
              "      <th>pembelian_diskon</th>\n",
              "      <th>pembelian_web</th>\n",
              "      <th>pembelian_toko</th>\n",
              "      <th>keluhan</th>\n",
              "      <th>tanggal_menjadi_anggota</th>\n",
              "    </tr>\n",
              "  </thead>\n",
              "  <tbody>\n",
              "    <tr>\n",
              "      <th>0</th>\n",
              "      <td>1979</td>\n",
              "      <td>Sarjana</td>\n",
              "      <td>Rencana Menikah</td>\n",
              "      <td>NaN</td>\n",
              "      <td>0.0</td>\n",
              "      <td>1.0</td>\n",
              "      <td>NaN</td>\n",
              "      <td>50575.0</td>\n",
              "      <td>260967.0</td>\n",
              "      <td>50575.0</td>\n",
              "      <td>20230.0</td>\n",
              "      <td>2.0</td>\n",
              "      <td>2.0</td>\n",
              "      <td>5.0</td>\n",
              "      <td>0.0</td>\n",
              "      <td>2014-05-05</td>\n",
              "    </tr>\n",
              "    <tr>\n",
              "      <th>23</th>\n",
              "      <td>1982</td>\n",
              "      <td>SMA</td>\n",
              "      <td>Rencana Menikah</td>\n",
              "      <td>NaN</td>\n",
              "      <td>1.0</td>\n",
              "      <td>0.0</td>\n",
              "      <td>54.0</td>\n",
              "      <td>8742.0</td>\n",
              "      <td>26206.0</td>\n",
              "      <td>4231.0</td>\n",
              "      <td>836.0</td>\n",
              "      <td>3.0</td>\n",
              "      <td>2.0</td>\n",
              "      <td>2.0</td>\n",
              "      <td>0.0</td>\n",
              "      <td>NaN</td>\n",
              "    </tr>\n",
              "    <tr>\n",
              "      <th>53</th>\n",
              "      <td>1975</td>\n",
              "      <td>Doktor</td>\n",
              "      <td>Menikah</td>\n",
              "      <td>NaN</td>\n",
              "      <td>0.0</td>\n",
              "      <td>0.0</td>\n",
              "      <td>65.0</td>\n",
              "      <td>180047.0</td>\n",
              "      <td>1488928.0</td>\n",
              "      <td>145656.0</td>\n",
              "      <td>105196.0</td>\n",
              "      <td>1.0</td>\n",
              "      <td>1.0</td>\n",
              "      <td>7.0</td>\n",
              "      <td>0.0</td>\n",
              "      <td>NaN</td>\n",
              "    </tr>\n",
              "    <tr>\n",
              "      <th>116</th>\n",
              "      <td>1957</td>\n",
              "      <td>SMA</td>\n",
              "      <td>Rencana Menikah</td>\n",
              "      <td>NaN</td>\n",
              "      <td>0.0</td>\n",
              "      <td>1.0</td>\n",
              "      <td>30.0</td>\n",
              "      <td>15143.0</td>\n",
              "      <td>61788.0</td>\n",
              "      <td>4104.0</td>\n",
              "      <td>0.0</td>\n",
              "      <td>4.0</td>\n",
              "      <td>5.0</td>\n",
              "      <td>8.0</td>\n",
              "      <td>0.0</td>\n",
              "      <td>NaN</td>\n",
              "    </tr>\n",
              "    <tr>\n",
              "      <th>135</th>\n",
              "      <td>1976</td>\n",
              "      <td>Sarjana</td>\n",
              "      <td>Menikah</td>\n",
              "      <td>NaN</td>\n",
              "      <td>0.0</td>\n",
              "      <td>NaN</td>\n",
              "      <td>66.0</td>\n",
              "      <td>115311.0</td>\n",
              "      <td>1145018.0</td>\n",
              "      <td>226576.0</td>\n",
              "      <td>260967.0</td>\n",
              "      <td>2.0</td>\n",
              "      <td>6.0</td>\n",
              "      <td>7.0</td>\n",
              "      <td>0.0</td>\n",
              "      <td>2014-05-14</td>\n",
              "    </tr>\n",
              "    <tr>\n",
              "      <th>141</th>\n",
              "      <td>1963</td>\n",
              "      <td>Sarjana</td>\n",
              "      <td>Sendiri</td>\n",
              "      <td>NaN</td>\n",
              "      <td>0.0</td>\n",
              "      <td>1.0</td>\n",
              "      <td>14.0</td>\n",
              "      <td>15436.0</td>\n",
              "      <td>112814.0</td>\n",
              "      <td>NaN</td>\n",
              "      <td>20120.0</td>\n",
              "      <td>0.0</td>\n",
              "      <td>8.0</td>\n",
              "      <td>5.0</td>\n",
              "      <td>0.0</td>\n",
              "      <td>NaN</td>\n",
              "    </tr>\n",
              "    <tr>\n",
              "      <th>145</th>\n",
              "      <td>1967</td>\n",
              "      <td>Sarjana</td>\n",
              "      <td>Rencana Menikah</td>\n",
              "      <td>NaN</td>\n",
              "      <td>1.0</td>\n",
              "      <td>1.0</td>\n",
              "      <td>22.0</td>\n",
              "      <td>4046.0</td>\n",
              "      <td>12138.0</td>\n",
              "      <td>0.0</td>\n",
              "      <td>0.0</td>\n",
              "      <td>2.0</td>\n",
              "      <td>1.0</td>\n",
              "      <td>NaN</td>\n",
              "      <td>0.0</td>\n",
              "      <td>2012-12-10</td>\n",
              "    </tr>\n",
              "    <tr>\n",
              "      <th>150</th>\n",
              "      <td>1972</td>\n",
              "      <td>Magister</td>\n",
              "      <td>Rencana Menikah</td>\n",
              "      <td>NaN</td>\n",
              "      <td>0.0</td>\n",
              "      <td>1.0</td>\n",
              "      <td>85.0</td>\n",
              "      <td>55231.0</td>\n",
              "      <td>475405.0</td>\n",
              "      <td>36006.0</td>\n",
              "      <td>NaN</td>\n",
              "      <td>1.0</td>\n",
              "      <td>10.0</td>\n",
              "      <td>4.0</td>\n",
              "      <td>0.0</td>\n",
              "      <td>NaN</td>\n",
              "    </tr>\n",
              "    <tr>\n",
              "      <th>180</th>\n",
              "      <td>1980</td>\n",
              "      <td>Sarjana</td>\n",
              "      <td>Rencana Menikah</td>\n",
              "      <td>NaN</td>\n",
              "      <td>0.0</td>\n",
              "      <td>0.0</td>\n",
              "      <td>7.0</td>\n",
              "      <td>NaN</td>\n",
              "      <td>36475.0</td>\n",
              "      <td>22978.0</td>\n",
              "      <td>34337.0</td>\n",
              "      <td>1.0</td>\n",
              "      <td>3.0</td>\n",
              "      <td>0.0</td>\n",
              "      <td>0.0</td>\n",
              "      <td>NaN</td>\n",
              "    </tr>\n",
              "    <tr>\n",
              "      <th>190</th>\n",
              "      <td>1981</td>\n",
              "      <td>Doktor</td>\n",
              "      <td>Rencana Menikah</td>\n",
              "      <td>NaN</td>\n",
              "      <td>1.0</td>\n",
              "      <td>0.0</td>\n",
              "      <td>61.0</td>\n",
              "      <td>2023.0</td>\n",
              "      <td>105196.0</td>\n",
              "      <td>0.0</td>\n",
              "      <td>12138.0</td>\n",
              "      <td>1.0</td>\n",
              "      <td>7.0</td>\n",
              "      <td>4.0</td>\n",
              "      <td>0.0</td>\n",
              "      <td>2013-02-10</td>\n",
              "    </tr>\n",
              "  </tbody>\n",
              "</table>\n",
              "</div>"
            ],
            "text/plain": [
              "     tahun_kelahiran pendidikan status_pernikahan  pendapatan  \\\n",
              "0               1979    Sarjana   Rencana Menikah         NaN   \n",
              "23              1982        SMA   Rencana Menikah         NaN   \n",
              "53              1975     Doktor           Menikah         NaN   \n",
              "116             1957        SMA   Rencana Menikah         NaN   \n",
              "135             1976    Sarjana           Menikah         NaN   \n",
              "141             1963    Sarjana           Sendiri         NaN   \n",
              "145             1967    Sarjana   Rencana Menikah         NaN   \n",
              "150             1972   Magister   Rencana Menikah         NaN   \n",
              "180             1980    Sarjana   Rencana Menikah         NaN   \n",
              "190             1981     Doktor   Rencana Menikah         NaN   \n",
              "\n",
              "     jumlah_anak_balita  jumlah_anak_remaja  terakhir_belanja  belanja_buah  \\\n",
              "0                   0.0                 1.0               NaN       50575.0   \n",
              "23                  1.0                 0.0              54.0        8742.0   \n",
              "53                  0.0                 0.0              65.0      180047.0   \n",
              "116                 0.0                 1.0              30.0       15143.0   \n",
              "135                 0.0                 NaN              66.0      115311.0   \n",
              "141                 0.0                 1.0              14.0       15436.0   \n",
              "145                 1.0                 1.0              22.0        4046.0   \n",
              "150                 0.0                 1.0              85.0       55231.0   \n",
              "180                 0.0                 0.0               7.0           NaN   \n",
              "190                 1.0                 0.0              61.0        2023.0   \n",
              "\n",
              "     belanja_daging  belanja_ikan  belanja_kue  pembelian_diskon  \\\n",
              "0          260967.0       50575.0      20230.0               2.0   \n",
              "23          26206.0        4231.0        836.0               3.0   \n",
              "53        1488928.0      145656.0     105196.0               1.0   \n",
              "116         61788.0        4104.0          0.0               4.0   \n",
              "135       1145018.0      226576.0     260967.0               2.0   \n",
              "141        112814.0           NaN      20120.0               0.0   \n",
              "145         12138.0           0.0          0.0               2.0   \n",
              "150        475405.0       36006.0          NaN               1.0   \n",
              "180         36475.0       22978.0      34337.0               1.0   \n",
              "190        105196.0           0.0      12138.0               1.0   \n",
              "\n",
              "     pembelian_web  pembelian_toko  keluhan tanggal_menjadi_anggota  \n",
              "0              2.0             5.0      0.0              2014-05-05  \n",
              "23             2.0             2.0      0.0                     NaN  \n",
              "53             1.0             7.0      0.0                     NaN  \n",
              "116            5.0             8.0      0.0                     NaN  \n",
              "135            6.0             7.0      0.0              2014-05-14  \n",
              "141            8.0             5.0      0.0                     NaN  \n",
              "145            1.0             NaN      0.0              2012-12-10  \n",
              "150           10.0             4.0      0.0                     NaN  \n",
              "180            3.0             0.0      0.0                     NaN  \n",
              "190            7.0             4.0      0.0              2013-02-10  "
            ]
          },
          "execution_count": 603,
          "metadata": {},
          "output_type": "execute_result"
        }
      ],
      "source": [
        "nullPendapatan = trainFeatures[trainFeatures['pendapatan'].isnull()]\n",
        "nullPendapatan.head(10)"
      ]
    },
    {
      "cell_type": "code",
      "execution_count": 604,
      "metadata": {},
      "outputs": [
        {
          "data": {
            "text/html": [
              "<div>\n",
              "<style scoped>\n",
              "    .dataframe tbody tr th:only-of-type {\n",
              "        vertical-align: middle;\n",
              "    }\n",
              "\n",
              "    .dataframe tbody tr th {\n",
              "        vertical-align: top;\n",
              "    }\n",
              "\n",
              "    .dataframe thead th {\n",
              "        text-align: right;\n",
              "    }\n",
              "</style>\n",
              "<table border=\"1\" class=\"dataframe\">\n",
              "  <thead>\n",
              "    <tr style=\"text-align: right;\">\n",
              "      <th></th>\n",
              "      <th>tahun_kelahiran</th>\n",
              "      <th>pendidikan</th>\n",
              "      <th>status_pernikahan</th>\n",
              "      <th>pendapatan</th>\n",
              "      <th>jumlah_anak_balita</th>\n",
              "      <th>jumlah_anak_remaja</th>\n",
              "      <th>terakhir_belanja</th>\n",
              "      <th>belanja_buah</th>\n",
              "      <th>belanja_daging</th>\n",
              "      <th>belanja_ikan</th>\n",
              "      <th>belanja_kue</th>\n",
              "      <th>pembelian_diskon</th>\n",
              "      <th>pembelian_web</th>\n",
              "      <th>pembelian_toko</th>\n",
              "      <th>keluhan</th>\n",
              "      <th>tanggal_menjadi_anggota</th>\n",
              "    </tr>\n",
              "  </thead>\n",
              "  <tbody>\n",
              "    <tr>\n",
              "      <th>2232</th>\n",
              "      <td>1972</td>\n",
              "      <td>Sarjana</td>\n",
              "      <td>Menikah</td>\n",
              "      <td>152496968.0</td>\n",
              "      <td>0.0</td>\n",
              "      <td>1.0</td>\n",
              "      <td>35.0</td>\n",
              "      <td>77377.0</td>\n",
              "      <td>410927.0</td>\n",
              "      <td>232135.0</td>\n",
              "      <td>31106.0</td>\n",
              "      <td>0.0</td>\n",
              "      <td>8.0</td>\n",
              "      <td>10.0</td>\n",
              "      <td>0.0</td>\n",
              "      <td>NaN</td>\n",
              "    </tr>\n",
              "    <tr>\n",
              "      <th>2270</th>\n",
              "      <td>1961</td>\n",
              "      <td>Magister</td>\n",
              "      <td>Rencana Menikah</td>\n",
              "      <td>165575545.0</td>\n",
              "      <td>0.0</td>\n",
              "      <td>NaN</td>\n",
              "      <td>NaN</td>\n",
              "      <td>84738.0</td>\n",
              "      <td>1125371.0</td>\n",
              "      <td>89202.0</td>\n",
              "      <td>80072.0</td>\n",
              "      <td>1.0</td>\n",
              "      <td>5.0</td>\n",
              "      <td>8.0</td>\n",
              "      <td>0.0</td>\n",
              "      <td>NaN</td>\n",
              "    </tr>\n",
              "    <tr>\n",
              "      <th>2406</th>\n",
              "      <td>1961</td>\n",
              "      <td>Sarjana</td>\n",
              "      <td>Sendiri</td>\n",
              "      <td>177820132.0</td>\n",
              "      <td>0.0</td>\n",
              "      <td>0.0</td>\n",
              "      <td>84.0</td>\n",
              "      <td>176133.0</td>\n",
              "      <td>833610.0</td>\n",
              "      <td>153883.0</td>\n",
              "      <td>258808.0</td>\n",
              "      <td>0.0</td>\n",
              "      <td>7.0</td>\n",
              "      <td>8.0</td>\n",
              "      <td>0.0</td>\n",
              "      <td>NaN</td>\n",
              "    </tr>\n",
              "    <tr>\n",
              "      <th>2287</th>\n",
              "      <td>1969</td>\n",
              "      <td>SMP</td>\n",
              "      <td>Rencana Menikah</td>\n",
              "      <td>NaN</td>\n",
              "      <td>0.0</td>\n",
              "      <td>0.0</td>\n",
              "      <td>43.0</td>\n",
              "      <td>44506.0</td>\n",
              "      <td>14161.0</td>\n",
              "      <td>24276.0</td>\n",
              "      <td>8092.0</td>\n",
              "      <td>NaN</td>\n",
              "      <td>4.0</td>\n",
              "      <td>0.0</td>\n",
              "      <td>0.0</td>\n",
              "      <td>2013-01-16</td>\n",
              "    </tr>\n",
              "    <tr>\n",
              "      <th>837</th>\n",
              "      <td>1957</td>\n",
              "      <td>Sarjana</td>\n",
              "      <td>Menikah</td>\n",
              "      <td>94224000.0</td>\n",
              "      <td>0.0</td>\n",
              "      <td>0.0</td>\n",
              "      <td>73.0</td>\n",
              "      <td>80920.0</td>\n",
              "      <td>NaN</td>\n",
              "      <td>311542.0</td>\n",
              "      <td>125426.0</td>\n",
              "      <td>3.0</td>\n",
              "      <td>5.0</td>\n",
              "      <td>12.0</td>\n",
              "      <td>0.0</td>\n",
              "      <td>2013-04-09</td>\n",
              "    </tr>\n",
              "    <tr>\n",
              "      <th>1107</th>\n",
              "      <td>1982</td>\n",
              "      <td>Sarjana</td>\n",
              "      <td>Menikah</td>\n",
              "      <td>77728140.0</td>\n",
              "      <td>0.0</td>\n",
              "      <td>0.0</td>\n",
              "      <td>11.0</td>\n",
              "      <td>15943.0</td>\n",
              "      <td>35561.0</td>\n",
              "      <td>37536.0</td>\n",
              "      <td>39235.0</td>\n",
              "      <td>1.0</td>\n",
              "      <td>2.0</td>\n",
              "      <td>0.0</td>\n",
              "      <td>0.0</td>\n",
              "      <td>NaN</td>\n",
              "    </tr>\n",
              "    <tr>\n",
              "      <th>28</th>\n",
              "      <td>1957</td>\n",
              "      <td>Sarjana</td>\n",
              "      <td>Rencana Menikah</td>\n",
              "      <td>82594000.0</td>\n",
              "      <td>0.0</td>\n",
              "      <td>1.0</td>\n",
              "      <td>17.0</td>\n",
              "      <td>12138.0</td>\n",
              "      <td>42483.0</td>\n",
              "      <td>30345.0</td>\n",
              "      <td>8092.0</td>\n",
              "      <td>2.0</td>\n",
              "      <td>5.0</td>\n",
              "      <td>6.0</td>\n",
              "      <td>0.0</td>\n",
              "      <td>2013-02-11</td>\n",
              "    </tr>\n",
              "    <tr>\n",
              "      <th>1301</th>\n",
              "      <td>1977</td>\n",
              "      <td>Sarjana</td>\n",
              "      <td>Sendiri</td>\n",
              "      <td>62302000.0</td>\n",
              "      <td>1.0</td>\n",
              "      <td>0.0</td>\n",
              "      <td>34.0</td>\n",
              "      <td>0.0</td>\n",
              "      <td>12138.0</td>\n",
              "      <td>0.0</td>\n",
              "      <td>4046.0</td>\n",
              "      <td>4.0</td>\n",
              "      <td>3.0</td>\n",
              "      <td>4.0</td>\n",
              "      <td>0.0</td>\n",
              "      <td>2012-10-11</td>\n",
              "    </tr>\n",
              "    <tr>\n",
              "      <th>3039</th>\n",
              "      <td>1960</td>\n",
              "      <td>Magister</td>\n",
              "      <td>Rencana Menikah</td>\n",
              "      <td>35731000.0</td>\n",
              "      <td>1.0</td>\n",
              "      <td>1.0</td>\n",
              "      <td>91.0</td>\n",
              "      <td>4046.0</td>\n",
              "      <td>NaN</td>\n",
              "      <td>0.0</td>\n",
              "      <td>6069.0</td>\n",
              "      <td>7.0</td>\n",
              "      <td>3.0</td>\n",
              "      <td>2.0</td>\n",
              "      <td>0.0</td>\n",
              "      <td>2014-02-16</td>\n",
              "    </tr>\n",
              "    <tr>\n",
              "      <th>3190</th>\n",
              "      <td>1984</td>\n",
              "      <td>Sarjana</td>\n",
              "      <td>Menikah</td>\n",
              "      <td>76915458.0</td>\n",
              "      <td>0.0</td>\n",
              "      <td>0.0</td>\n",
              "      <td>22.0</td>\n",
              "      <td>49262.0</td>\n",
              "      <td>73640.0</td>\n",
              "      <td>82279.0</td>\n",
              "      <td>48755.0</td>\n",
              "      <td>1.0</td>\n",
              "      <td>1.0</td>\n",
              "      <td>2.0</td>\n",
              "      <td>NaN</td>\n",
              "      <td>NaN</td>\n",
              "    </tr>\n",
              "  </tbody>\n",
              "</table>\n",
              "</div>"
            ],
            "text/plain": [
              "      tahun_kelahiran pendidikan status_pernikahan   pendapatan  \\\n",
              "2232             1972    Sarjana           Menikah  152496968.0   \n",
              "2270             1961   Magister   Rencana Menikah  165575545.0   \n",
              "2406             1961    Sarjana           Sendiri  177820132.0   \n",
              "2287             1969        SMP   Rencana Menikah          NaN   \n",
              "837              1957    Sarjana           Menikah   94224000.0   \n",
              "1107             1982    Sarjana           Menikah   77728140.0   \n",
              "28               1957    Sarjana   Rencana Menikah   82594000.0   \n",
              "1301             1977    Sarjana           Sendiri   62302000.0   \n",
              "3039             1960   Magister   Rencana Menikah   35731000.0   \n",
              "3190             1984    Sarjana           Menikah   76915458.0   \n",
              "\n",
              "      jumlah_anak_balita  jumlah_anak_remaja  terakhir_belanja  belanja_buah  \\\n",
              "2232                 0.0                 1.0              35.0       77377.0   \n",
              "2270                 0.0                 NaN               NaN       84738.0   \n",
              "2406                 0.0                 0.0              84.0      176133.0   \n",
              "2287                 0.0                 0.0              43.0       44506.0   \n",
              "837                  0.0                 0.0              73.0       80920.0   \n",
              "1107                 0.0                 0.0              11.0       15943.0   \n",
              "28                   0.0                 1.0              17.0       12138.0   \n",
              "1301                 1.0                 0.0              34.0           0.0   \n",
              "3039                 1.0                 1.0              91.0        4046.0   \n",
              "3190                 0.0                 0.0              22.0       49262.0   \n",
              "\n",
              "      belanja_daging  belanja_ikan  belanja_kue  pembelian_diskon  \\\n",
              "2232        410927.0      232135.0      31106.0               0.0   \n",
              "2270       1125371.0       89202.0      80072.0               1.0   \n",
              "2406        833610.0      153883.0     258808.0               0.0   \n",
              "2287         14161.0       24276.0       8092.0               NaN   \n",
              "837              NaN      311542.0     125426.0               3.0   \n",
              "1107         35561.0       37536.0      39235.0               1.0   \n",
              "28           42483.0       30345.0       8092.0               2.0   \n",
              "1301         12138.0           0.0       4046.0               4.0   \n",
              "3039             NaN           0.0       6069.0               7.0   \n",
              "3190         73640.0       82279.0      48755.0               1.0   \n",
              "\n",
              "      pembelian_web  pembelian_toko  keluhan tanggal_menjadi_anggota  \n",
              "2232            8.0            10.0      0.0                     NaN  \n",
              "2270            5.0             8.0      0.0                     NaN  \n",
              "2406            7.0             8.0      0.0                     NaN  \n",
              "2287            4.0             0.0      0.0              2013-01-16  \n",
              "837             5.0            12.0      0.0              2013-04-09  \n",
              "1107            2.0             0.0      0.0                     NaN  \n",
              "28              5.0             6.0      0.0              2013-02-11  \n",
              "1301            3.0             4.0      0.0              2012-10-11  \n",
              "3039            3.0             2.0      0.0              2014-02-16  \n",
              "3190            1.0             2.0      NaN                     NaN  "
            ]
          },
          "execution_count": 604,
          "metadata": {},
          "output_type": "execute_result"
        }
      ],
      "source": [
        "trainFeatures.sample(10)"
      ]
    },
    {
      "cell_type": "markdown",
      "metadata": {},
      "source": [
        "Yang dilakukan adalah menggunakan interpolasi polinomial untuk menutup setiap nilai NaN yang ada dengan titik terdekat data ke data lainnya secara linear."
      ]
    },
    {
      "cell_type": "code",
      "execution_count": 605,
      "metadata": {
        "id": "jyT87u3auQ5c"
      },
      "outputs": [],
      "source": [
        "# Data x dan y yang tidak null\n",
        "x_known = trainFeatures.index[~trainFeatures['pendapatan'].isnull()]\n",
        "y_known = trainFeatures.loc[x_known, 'pendapatan']\n",
        "\n",
        "# Buat objek interpolasi polinomial orde rendah (misalnya, orde 2)\n",
        "poly_interp = Polynomial.fit(x_known, y_known, deg=3)\n",
        "\n",
        "# Memasang indeks titik data yang akan diisi (NaN)\n",
        "fill_indices = trainFeatures.index[trainFeatures['pendapatan'].isnull()]\n",
        "\n",
        "# Isi nilai-nilai NaN dengan hasil interpolasi polinomial\n",
        "trainFeatures.loc[fill_indices, 'pendapatan'] = poly_interp(fill_indices)\n"
      ]
    },
    {
      "cell_type": "markdown",
      "metadata": {},
      "source": [
        "Pada saat ini sudah tidak terdapat nilai NaN lagi pada kolom **pendapatan**, sehingga dapat dilanjutkan pada proses analisis selanjutnya."
      ]
    },
    {
      "cell_type": "code",
      "execution_count": 606,
      "metadata": {},
      "outputs": [
        {
          "data": {
            "text/plain": [
              "count    3.814000e+03\n",
              "mean     1.144867e+08\n",
              "std      4.237273e+07\n",
              "min      5.073000e+06\n",
              "25%      8.263290e+07\n",
              "50%      1.147079e+08\n",
              "75%      1.479561e+08\n",
              "max      3.328840e+08\n",
              "Name: pendapatan, dtype: float64"
            ]
          },
          "execution_count": 606,
          "metadata": {},
          "output_type": "execute_result"
        }
      ],
      "source": [
        "trainFeatures.pendapatan.describe()"
      ]
    },
    {
      "cell_type": "markdown",
      "metadata": {},
      "source": [
        "## Kolom Jumlah Anak Balita"
      ]
    },
    {
      "cell_type": "markdown",
      "metadata": {},
      "source": [
        "### Cek Nilai Unique"
      ]
    },
    {
      "cell_type": "code",
      "execution_count": 607,
      "metadata": {},
      "outputs": [
        {
          "data": {
            "text/plain": [
              "array([ 0., nan,  1.,  2.])"
            ]
          },
          "execution_count": 607,
          "metadata": {},
          "output_type": "execute_result"
        }
      ],
      "source": [
        "trainFeatures['jumlah_anak_balita'].unique()"
      ]
    },
    {
      "cell_type": "markdown",
      "metadata": {},
      "source": [
        "Pada pengecekan nilai unique di atas, ditemukan nilai NaN yang perlu diganti dengan nilai lain."
      ]
    },
    {
      "cell_type": "markdown",
      "metadata": {},
      "source": [
        "### Hapus Nilai Null"
      ]
    },
    {
      "cell_type": "code",
      "execution_count": 608,
      "metadata": {},
      "outputs": [
        {
          "name": "stdout",
          "output_type": "stream",
          "text": [
            "int32\n"
          ]
        }
      ],
      "source": [
        "trainFeatures['jumlah_anak_balita'].fillna(0, inplace=True)\n",
        "trainFeatures['jumlah_anak_balita'] = trainFeatures['jumlah_anak_balita'].astype(int)\n",
        "print(trainFeatures['jumlah_anak_balita'].dtype)"
      ]
    },
    {
      "cell_type": "code",
      "execution_count": 609,
      "metadata": {},
      "outputs": [
        {
          "data": {
            "text/plain": [
              "array([0, 1, 2])"
            ]
          },
          "execution_count": 609,
          "metadata": {},
          "output_type": "execute_result"
        }
      ],
      "source": [
        "# Cek Nilai Unique Ulang\n",
        "trainFeatures['jumlah_anak_balita'].unique()"
      ]
    },
    {
      "cell_type": "markdown",
      "metadata": {},
      "source": [
        "Pada proses ini, langkah yang diambil adalah mengubah nilai NaN menjadi **0** dengan asumsi setiap nilai NaN diartikan baris data penduduk tersebut memiliki jumlah anak balita sebanyak **0**."
      ]
    },
    {
      "cell_type": "markdown",
      "metadata": {},
      "source": [
        "## Kolom Jumlah Anak Remaja"
      ]
    },
    {
      "cell_type": "markdown",
      "metadata": {},
      "source": [
        "### Cek Nilai Unique"
      ]
    },
    {
      "cell_type": "code",
      "execution_count": 610,
      "metadata": {},
      "outputs": [
        {
          "data": {
            "text/plain": [
              "array([ 1., nan,  0.,  2.])"
            ]
          },
          "execution_count": 610,
          "metadata": {},
          "output_type": "execute_result"
        }
      ],
      "source": [
        "trainFeatures['jumlah_anak_remaja'].unique()"
      ]
    },
    {
      "cell_type": "markdown",
      "metadata": {},
      "source": [
        "Sama seperti pada kasus kolom *jumlah anak balita*, terdapat nilai NaN pada kolom *jumlah anak remaja* yang perlu diubah dengan nilai lainnya."
      ]
    },
    {
      "cell_type": "markdown",
      "metadata": {},
      "source": [
        "### Hapus Nilai Null"
      ]
    },
    {
      "cell_type": "code",
      "execution_count": 611,
      "metadata": {},
      "outputs": [
        {
          "name": "stdout",
          "output_type": "stream",
          "text": [
            "int32\n"
          ]
        }
      ],
      "source": [
        "trainFeatures['jumlah_anak_remaja'].fillna(0, inplace=True)\n",
        "trainFeatures['jumlah_anak_remaja'] = trainFeatures['jumlah_anak_remaja'].astype(int)\n",
        "print(trainFeatures['jumlah_anak_remaja'].dtype)"
      ]
    },
    {
      "cell_type": "code",
      "execution_count": 612,
      "metadata": {},
      "outputs": [
        {
          "data": {
            "text/plain": [
              "array([1, 0, 2])"
            ]
          },
          "execution_count": 612,
          "metadata": {},
          "output_type": "execute_result"
        }
      ],
      "source": [
        "# Cek Nilai Unique Ulang\n",
        "trainFeatures['jumlah_anak_remaja'].unique()"
      ]
    },
    {
      "cell_type": "markdown",
      "metadata": {},
      "source": [
        "Hasil pada kolom *jumlah anak remaja* juga mirip dengan hasil kolom *jumlah anak balita*, yaitu dengan mengubah nilai NaN dengan nilai **0**. Sebagai asumsi bahwa nilai NaN berarti baris data penduduk tersebut tidak memiliki anak remaja."
      ]
    },
    {
      "cell_type": "markdown",
      "metadata": {},
      "source": [
        "## Kolom Terakhir Belanja"
      ]
    },
    {
      "cell_type": "markdown",
      "metadata": {},
      "source": [
        "### Cek Nilai Unique"
      ]
    },
    {
      "cell_type": "code",
      "execution_count": 613,
      "metadata": {},
      "outputs": [
        {
          "data": {
            "text/plain": [
              "array([ nan,  70.,  45.,  90.,  78.,   9.,  96.,  21.,  26.,  67.,  59.,\n",
              "        57.,   5.,  65.,  61.,  25.,  16.,   0.,  50.,  69.,  84.,  56.,\n",
              "        54.,  17.,  51.,  29.,  73.,  60.,  87.,  62.,  41.,  35.,   3.,\n",
              "        36.,  58.,  64.,  55.,  12.,  19.,  30.,  28.,  11., 114.,   4.,\n",
              "        76.,  85.,  15.,  80.,  81.,  37.,  47.,  18.,  20.,   6.,  77.,\n",
              "        22.,  32.,  75.,  43.,  31.,  23.,  44.,  66.,  68.,  79.,  99.,\n",
              "        39.,  46.,  33.,  27.,   8.,  14., 100.,  91.,  49.,  92.,  52.,\n",
              "         7.,  48.,  82.,  72.,  89.,  34.,  63.,  94.,  86.,  74.,  53.,\n",
              "        13.,  71.,  83.,  38.,   1.,  97.,  88.,  93.,  40.,   2.,  24.,\n",
              "       105.,  10., 102.,  42., 103.,  95., 101., 106., 128.,  98., 104.,\n",
              "       108., 122., 112., 124.])"
            ]
          },
          "execution_count": 613,
          "metadata": {},
          "output_type": "execute_result"
        }
      ],
      "source": [
        "trainFeatures['terakhir_belanja'].unique()"
      ]
    },
    {
      "cell_type": "markdown",
      "metadata": {},
      "source": [
        "Pada pengecekan nilai unique, hasilnya terdapat nilai NaN yang terkandung didalam kolom *terakhir belanja*. Maka perlu dilakukan pengecekan batas minimum dan maksimum data serta nilai statistik lainnya seperti rata-rata untuk mengubah nilai NaN ini dengan sajian nilai Unique yang lebih rapi."
      ]
    },
    {
      "cell_type": "markdown",
      "metadata": {},
      "source": [
        "### Cek Nilai Min dan Max"
      ]
    },
    {
      "cell_type": "code",
      "execution_count": 614,
      "metadata": {},
      "outputs": [
        {
          "name": "stdout",
          "output_type": "stream",
          "text": [
            "Nilai maksimal dari kolom terakhir belanja adalah 128.0\n",
            "Nilai minimal dari kolom terakhir belanja adalah 0.0\n"
          ]
        }
      ],
      "source": [
        "nilaiMax = trainFeatures.terakhir_belanja.max()\n",
        "nilaiMin = trainFeatures.terakhir_belanja.min()\n",
        "\n",
        "print('Nilai maksimal dari kolom terakhir belanja adalah', nilaiMax)\n",
        "print('Nilai minimal dari kolom terakhir belanja adalah', nilaiMin)"
      ]
    },
    {
      "cell_type": "markdown",
      "metadata": {},
      "source": [
        "Dikarenakan tidak adanya acuan data tambahan dari kolom *terakhir belanja*, maka langkah yang diambil adalah mengubah setiap nilai NaN menjadi nilai rata-rata."
      ]
    },
    {
      "cell_type": "markdown",
      "metadata": {},
      "source": [
        "### Ubah Nilai Null dengan Rata-Rata"
      ]
    },
    {
      "cell_type": "code",
      "execution_count": 615,
      "metadata": {},
      "outputs": [
        {
          "data": {
            "text/plain": [
              "47.23338824821526"
            ]
          },
          "execution_count": 615,
          "metadata": {},
          "output_type": "execute_result"
        }
      ],
      "source": [
        "rata2 = trainFeatures['terakhir_belanja'].mean()\n",
        "rata2"
      ]
    },
    {
      "cell_type": "markdown",
      "metadata": {},
      "source": [
        "Didapatkan nilai **47.23338824821526** yang perlu dibulatkan, untuk mengubah nilai NaN dengan nilai ini."
      ]
    },
    {
      "cell_type": "code",
      "execution_count": 616,
      "metadata": {},
      "outputs": [
        {
          "name": "stdout",
          "output_type": "stream",
          "text": [
            "int32\n"
          ]
        }
      ],
      "source": [
        "trainFeatures['terakhir_belanja'] = trainFeatures['terakhir_belanja'].fillna(rata2)\n",
        "trainFeatures['terakhir_belanja'] = trainFeatures['terakhir_belanja'].astype(int)\n",
        "print(trainFeatures['terakhir_belanja'].dtype)"
      ]
    },
    {
      "cell_type": "markdown",
      "metadata": {},
      "source": [
        "Pembulatan nilai pada kolom *terakhir belanja* dilakukan dengan cara pengubahan tipe data dari float menjadi integer."
      ]
    },
    {
      "cell_type": "code",
      "execution_count": 617,
      "metadata": {},
      "outputs": [
        {
          "data": {
            "text/plain": [
              "array([  0,   1,   2,   3,   4,   5,   6,   7,   8,   9,  10,  11,  12,\n",
              "        13,  14,  15,  16,  17,  18,  19,  20,  21,  22,  23,  24,  25,\n",
              "        26,  27,  28,  29,  30,  31,  32,  33,  34,  35,  36,  37,  38,\n",
              "        39,  40,  41,  42,  43,  44,  45,  46,  47,  48,  49,  50,  51,\n",
              "        52,  53,  54,  55,  56,  57,  58,  59,  60,  61,  62,  63,  64,\n",
              "        65,  66,  67,  68,  69,  70,  71,  72,  73,  74,  75,  76,  77,\n",
              "        78,  79,  80,  81,  82,  83,  84,  85,  86,  87,  88,  89,  90,\n",
              "        91,  92,  93,  94,  95,  96,  97,  98,  99, 100, 101, 102, 103,\n",
              "       104, 105, 106, 108, 112, 114, 122, 124, 128])"
            ]
          },
          "execution_count": 617,
          "metadata": {},
          "output_type": "execute_result"
        }
      ],
      "source": [
        "# Cek Ulang Nilai Unique\n",
        "nilaiTerurut = np.sort(trainFeatures['terakhir_belanja'].unique())\n",
        "nilaiTerurut"
      ]
    },
    {
      "cell_type": "markdown",
      "metadata": {},
      "source": [
        "## Kolom Belanja Buah\n",
        "\n",
        "Pada kolom **belanja buah**, juga masih terdapat nilai NaN yang harus dipenuhi. Untuk langkah yang diambil yaitu mengisi dengan mempertimbangkan kolom lain yang secara logis masih memiliki hubungan dengan kolom **belanja_buah**. Hal ini bertujuan agar pengisian data bervariasi tetapi masih memiliki alasan yang masuk jelas. Kolom yang dipilih adalah **pendapatan**."
      ]
    },
    {
      "cell_type": "code",
      "execution_count": 618,
      "metadata": {},
      "outputs": [
        {
          "data": {
            "text/html": [
              "<div>\n",
              "<style scoped>\n",
              "    .dataframe tbody tr th:only-of-type {\n",
              "        vertical-align: middle;\n",
              "    }\n",
              "\n",
              "    .dataframe tbody tr th {\n",
              "        vertical-align: top;\n",
              "    }\n",
              "\n",
              "    .dataframe thead th {\n",
              "        text-align: right;\n",
              "    }\n",
              "</style>\n",
              "<table border=\"1\" class=\"dataframe\">\n",
              "  <thead>\n",
              "    <tr style=\"text-align: right;\">\n",
              "      <th></th>\n",
              "      <th>tahun_kelahiran</th>\n",
              "      <th>pendidikan</th>\n",
              "      <th>status_pernikahan</th>\n",
              "      <th>pendapatan</th>\n",
              "      <th>jumlah_anak_balita</th>\n",
              "      <th>jumlah_anak_remaja</th>\n",
              "      <th>terakhir_belanja</th>\n",
              "      <th>belanja_buah</th>\n",
              "      <th>belanja_daging</th>\n",
              "      <th>belanja_ikan</th>\n",
              "      <th>belanja_kue</th>\n",
              "      <th>pembelian_diskon</th>\n",
              "      <th>pembelian_web</th>\n",
              "      <th>pembelian_toko</th>\n",
              "      <th>keluhan</th>\n",
              "      <th>tanggal_menjadi_anggota</th>\n",
              "    </tr>\n",
              "  </thead>\n",
              "  <tbody>\n",
              "    <tr>\n",
              "      <th>0</th>\n",
              "      <td>1979</td>\n",
              "      <td>Sarjana</td>\n",
              "      <td>Rencana Menikah</td>\n",
              "      <td>1.113772e+08</td>\n",
              "      <td>0</td>\n",
              "      <td>1</td>\n",
              "      <td>47</td>\n",
              "      <td>50575.0</td>\n",
              "      <td>260967.0</td>\n",
              "      <td>50575.0</td>\n",
              "      <td>20230.0</td>\n",
              "      <td>2.0</td>\n",
              "      <td>2.0</td>\n",
              "      <td>5.0</td>\n",
              "      <td>0.0</td>\n",
              "      <td>2014-05-05</td>\n",
              "    </tr>\n",
              "    <tr>\n",
              "      <th>1</th>\n",
              "      <td>1950</td>\n",
              "      <td>Sarjana</td>\n",
              "      <td>Rencana Menikah</td>\n",
              "      <td>8.406300e+07</td>\n",
              "      <td>0</td>\n",
              "      <td>0</td>\n",
              "      <td>70</td>\n",
              "      <td>6069.0</td>\n",
              "      <td>44506.0</td>\n",
              "      <td>80920.0</td>\n",
              "      <td>20230.0</td>\n",
              "      <td>9.0</td>\n",
              "      <td>6.0</td>\n",
              "      <td>4.0</td>\n",
              "      <td>0.0</td>\n",
              "      <td>2013-03-17</td>\n",
              "    </tr>\n",
              "    <tr>\n",
              "      <th>2</th>\n",
              "      <td>1966</td>\n",
              "      <td>Sarjana</td>\n",
              "      <td>Menikah</td>\n",
              "      <td>1.275326e+08</td>\n",
              "      <td>0</td>\n",
              "      <td>0</td>\n",
              "      <td>45</td>\n",
              "      <td>117611.0</td>\n",
              "      <td>265460.0</td>\n",
              "      <td>96341.0</td>\n",
              "      <td>145573.0</td>\n",
              "      <td>1.0</td>\n",
              "      <td>1.0</td>\n",
              "      <td>7.0</td>\n",
              "      <td>0.0</td>\n",
              "      <td>NaN</td>\n",
              "    </tr>\n",
              "    <tr>\n",
              "      <th>3</th>\n",
              "      <td>1961</td>\n",
              "      <td>Magister</td>\n",
              "      <td>Rencana Menikah</td>\n",
              "      <td>1.655796e+08</td>\n",
              "      <td>0</td>\n",
              "      <td>0</td>\n",
              "      <td>90</td>\n",
              "      <td>206346.0</td>\n",
              "      <td>1613901.0</td>\n",
              "      <td>27725.0</td>\n",
              "      <td>125868.0</td>\n",
              "      <td>0.0</td>\n",
              "      <td>7.0</td>\n",
              "      <td>8.0</td>\n",
              "      <td>0.0</td>\n",
              "      <td>NaN</td>\n",
              "    </tr>\n",
              "    <tr>\n",
              "      <th>4</th>\n",
              "      <td>1970</td>\n",
              "      <td>Sarjana</td>\n",
              "      <td>Rencana Menikah</td>\n",
              "      <td>1.177032e+08</td>\n",
              "      <td>1</td>\n",
              "      <td>1</td>\n",
              "      <td>78</td>\n",
              "      <td>90563.0</td>\n",
              "      <td>311757.0</td>\n",
              "      <td>40358.0</td>\n",
              "      <td>33875.0</td>\n",
              "      <td>7.0</td>\n",
              "      <td>6.0</td>\n",
              "      <td>5.0</td>\n",
              "      <td>0.0</td>\n",
              "      <td>NaN</td>\n",
              "    </tr>\n",
              "  </tbody>\n",
              "</table>\n",
              "</div>"
            ],
            "text/plain": [
              "   tahun_kelahiran pendidikan status_pernikahan    pendapatan  \\\n",
              "0             1979    Sarjana   Rencana Menikah  1.113772e+08   \n",
              "1             1950    Sarjana   Rencana Menikah  8.406300e+07   \n",
              "2             1966    Sarjana           Menikah  1.275326e+08   \n",
              "3             1961   Magister   Rencana Menikah  1.655796e+08   \n",
              "4             1970    Sarjana   Rencana Menikah  1.177032e+08   \n",
              "\n",
              "   jumlah_anak_balita  jumlah_anak_remaja  terakhir_belanja  belanja_buah  \\\n",
              "0                   0                   1                47       50575.0   \n",
              "1                   0                   0                70        6069.0   \n",
              "2                   0                   0                45      117611.0   \n",
              "3                   0                   0                90      206346.0   \n",
              "4                   1                   1                78       90563.0   \n",
              "\n",
              "   belanja_daging  belanja_ikan  belanja_kue  pembelian_diskon  pembelian_web  \\\n",
              "0        260967.0       50575.0      20230.0               2.0            2.0   \n",
              "1         44506.0       80920.0      20230.0               9.0            6.0   \n",
              "2        265460.0       96341.0     145573.0               1.0            1.0   \n",
              "3       1613901.0       27725.0     125868.0               0.0            7.0   \n",
              "4        311757.0       40358.0      33875.0               7.0            6.0   \n",
              "\n",
              "   pembelian_toko  keluhan tanggal_menjadi_anggota  \n",
              "0             5.0      0.0              2014-05-05  \n",
              "1             4.0      0.0              2013-03-17  \n",
              "2             7.0      0.0                     NaN  \n",
              "3             8.0      0.0                     NaN  \n",
              "4             5.0      0.0                     NaN  "
            ]
          },
          "execution_count": 618,
          "metadata": {},
          "output_type": "execute_result"
        }
      ],
      "source": [
        "trainFeatures.head()"
      ]
    },
    {
      "cell_type": "code",
      "execution_count": 619,
      "metadata": {},
      "outputs": [
        {
          "data": {
            "text/plain": [
              "181"
            ]
          },
          "execution_count": 619,
          "metadata": {},
          "output_type": "execute_result"
        }
      ],
      "source": [
        "trainFeatures.belanja_buah.isna().sum()"
      ]
    },
    {
      "cell_type": "markdown",
      "metadata": {},
      "source": [
        "### Pengisian Nilai NaN\n",
        "\n",
        "Pengisian nilai NaN dilakukan dengan cara mengambil sampel nilai pendapatan pada kolom **pendapatan** berdasarkan segmentasi pendapatan pada kolom **segmen_pendapatan**. Setelah itu, dilakukan prediksi yang hasilnya akan dimasukkan sebagai pengganti nilai NaN. \n",
        "\n",
        "Untuk fitur x diambil dari kolom **pendapatan** (non null) dan fitur y diambil dari kolom **belanja buah** hanya nilai yang non null saja. Prediksi dilakukan menggunakan *Random Forest*."
      ]
    },
    {
      "cell_type": "code",
      "execution_count": 620,
      "metadata": {},
      "outputs": [],
      "source": [
        "# Filter data yang memiliki nilai non-null dalam kolom 'belanja_buah' di dalam segmen ini\n",
        "valid_data = trainFeatures.dropna(subset=['belanja_buah'])\n",
        "        \n",
        "# Pisahkan fitur (X) dan target (y) dari data yang valid\n",
        "X_train = np.array(valid_data['pendapatan']).reshape(-1, 1)\n",
        "y_train = np.array(valid_data['belanja_buah'])\n",
        "        \n",
        "# Train model Random Forest\n",
        "rf_model = RandomForestRegressor(n_estimators=10, max_depth=4, random_state=25, n_jobs=-1)\n",
        "rf_model.fit(X_train, y_train)\n",
        "        \n",
        "for i, row in trainFeatures.iterrows():\n",
        "    # Seleksi nilai hanya yang null\n",
        "    if np.isnan(row['belanja_buah']):\n",
        "        # Prediksi nilai 'belanja_buah'\n",
        "        predicted_value = rf_model.predict(np.array(row['pendapatan']).reshape(1, -1))\n",
        "        trainFeatures.at[i, 'belanja_buah'] = predicted_value"
      ]
    },
    {
      "cell_type": "code",
      "execution_count": 621,
      "metadata": {},
      "outputs": [
        {
          "data": {
            "text/plain": [
              "0"
            ]
          },
          "execution_count": 621,
          "metadata": {},
          "output_type": "execute_result"
        }
      ],
      "source": [
        "trainFeatures.belanja_buah.isna().sum()"
      ]
    },
    {
      "cell_type": "markdown",
      "metadata": {},
      "source": [
        "## Kolom Belanja Daging"
      ]
    },
    {
      "cell_type": "code",
      "execution_count": 622,
      "metadata": {},
      "outputs": [],
      "source": [
        "# Filter data yang memiliki nilai non-null dalam kolom 'belanja_buah' di dalam segmen ini\n",
        "valid_data = trainFeatures.dropna(subset=['belanja_daging'])\n",
        "        \n",
        "# Pisahkan fitur (X) dan target (y) dari data yang valid\n",
        "X_train = np.array(valid_data['pendapatan']).reshape(-1, 1)\n",
        "y_train = np.array(valid_data['belanja_daging'])\n",
        "        \n",
        "# Train model Random Forest\n",
        "rf_model = RandomForestRegressor(n_estimators=10, max_depth=4, random_state=25, n_jobs=-1)\n",
        "rf_model.fit(X_train, y_train)\n",
        "        \n",
        "for i, row in trainFeatures.iterrows():\n",
        "    # Seleksi nilai hanya yang null\n",
        "    if np.isnan(row['belanja_daging']):\n",
        "        # Prediksi nilai 'belanja_buah'\n",
        "        predicted_value = rf_model.predict(np.array(row['pendapatan']).reshape(1, -1))\n",
        "        trainFeatures.at[i, 'belanja_daging'] = predicted_value"
      ]
    },
    {
      "cell_type": "code",
      "execution_count": 623,
      "metadata": {},
      "outputs": [
        {
          "data": {
            "text/plain": [
              "0"
            ]
          },
          "execution_count": 623,
          "metadata": {},
          "output_type": "execute_result"
        }
      ],
      "source": [
        "trainFeatures.belanja_daging.isna().sum()"
      ]
    },
    {
      "cell_type": "markdown",
      "metadata": {},
      "source": [
        "## Kolom Belanja Ikan"
      ]
    },
    {
      "cell_type": "code",
      "execution_count": 624,
      "metadata": {},
      "outputs": [],
      "source": [
        "# Filter data yang memiliki nilai non-null dalam kolom 'belanja_buah' di dalam segmen ini\n",
        "valid_data = trainFeatures.dropna(subset=['belanja_ikan'])\n",
        "        \n",
        "# Pisahkan fitur (X) dan target (y) dari data yang valid\n",
        "X_train = np.array(valid_data['pendapatan']).reshape(-1, 1)\n",
        "y_train = np.array(valid_data['belanja_ikan'])\n",
        "        \n",
        "# Train model Random Forest\n",
        "rf_model = RandomForestRegressor(n_estimators=10, max_depth=4, random_state=25, n_jobs=-1)\n",
        "rf_model.fit(X_train, y_train)\n",
        "        \n",
        "for i, row in trainFeatures.iterrows():\n",
        "    # Seleksi nilai hanya yang null\n",
        "    if np.isnan(row['belanja_ikan']):\n",
        "        # Prediksi nilai 'belanja_buah'\n",
        "        predicted_value = rf_model.predict(np.array(row['pendapatan']).reshape(1, -1))\n",
        "        trainFeatures.at[i, 'belanja_ikan'] = predicted_value"
      ]
    },
    {
      "cell_type": "code",
      "execution_count": 625,
      "metadata": {},
      "outputs": [
        {
          "data": {
            "text/plain": [
              "0"
            ]
          },
          "execution_count": 625,
          "metadata": {},
          "output_type": "execute_result"
        }
      ],
      "source": [
        "trainFeatures.belanja_ikan.isna().sum()"
      ]
    },
    {
      "cell_type": "markdown",
      "metadata": {},
      "source": [
        "## Kolom Belanja Kue"
      ]
    },
    {
      "cell_type": "code",
      "execution_count": 626,
      "metadata": {},
      "outputs": [],
      "source": [
        "# Filter data yang memiliki nilai non-null dalam kolom 'belanja_buah' di dalam segmen ini\n",
        "valid_data = trainFeatures.dropna(subset=['belanja_kue'])\n",
        "        \n",
        "# Pisahkan fitur (X) dan target (y) dari data yang valid\n",
        "X_train = np.array(valid_data['pendapatan']).reshape(-1, 1)\n",
        "y_train = np.array(valid_data['belanja_kue'])\n",
        "        \n",
        "# Train model Random Forest\n",
        "rf_model = RandomForestRegressor(n_estimators=10, max_depth=4, random_state=25, n_jobs=-1)\n",
        "rf_model.fit(X_train, y_train)\n",
        "        \n",
        "for i, row in trainFeatures.iterrows():\n",
        "    # Seleksi nilai hanya yang null\n",
        "    if np.isnan(row['belanja_kue']):\n",
        "        # Prediksi nilai 'belanja_buah'\n",
        "        predicted_value = rf_model.predict(np.array(row['pendapatan']).reshape(1, -1))\n",
        "        trainFeatures.at[i, 'belanja_kue'] = predicted_value"
      ]
    },
    {
      "cell_type": "code",
      "execution_count": 627,
      "metadata": {},
      "outputs": [
        {
          "data": {
            "text/plain": [
              "0"
            ]
          },
          "execution_count": 627,
          "metadata": {},
          "output_type": "execute_result"
        }
      ],
      "source": [
        "trainFeatures.belanja_ikan.isna().sum()"
      ]
    },
    {
      "cell_type": "markdown",
      "metadata": {},
      "source": [
        "## Kolom Pembelian Diskon"
      ]
    },
    {
      "cell_type": "code",
      "execution_count": 628,
      "metadata": {},
      "outputs": [
        {
          "data": {
            "text/plain": [
              "178"
            ]
          },
          "execution_count": 628,
          "metadata": {},
          "output_type": "execute_result"
        }
      ],
      "source": [
        "trainFeatures.pembelian_diskon.isna().sum()"
      ]
    },
    {
      "cell_type": "code",
      "execution_count": 629,
      "metadata": {},
      "outputs": [
        {
          "data": {
            "text/plain": [
              "count    3636.000000\n",
              "mean        2.125413\n",
              "std         2.100816\n",
              "min         0.000000\n",
              "25%         0.000000\n",
              "50%         2.000000\n",
              "75%         3.000000\n",
              "max        20.000000\n",
              "Name: pembelian_diskon, dtype: float64"
            ]
          },
          "execution_count": 629,
          "metadata": {},
          "output_type": "execute_result"
        }
      ],
      "source": [
        "trainFeatures.pembelian_diskon.describe()"
      ]
    },
    {
      "cell_type": "code",
      "execution_count": 630,
      "metadata": {},
      "outputs": [
        {
          "data": {
            "text/html": [
              "<div>\n",
              "<style scoped>\n",
              "    .dataframe tbody tr th:only-of-type {\n",
              "        vertical-align: middle;\n",
              "    }\n",
              "\n",
              "    .dataframe tbody tr th {\n",
              "        vertical-align: top;\n",
              "    }\n",
              "\n",
              "    .dataframe thead th {\n",
              "        text-align: right;\n",
              "    }\n",
              "</style>\n",
              "<table border=\"1\" class=\"dataframe\">\n",
              "  <thead>\n",
              "    <tr style=\"text-align: right;\">\n",
              "      <th></th>\n",
              "      <th>tahun_kelahiran</th>\n",
              "      <th>pendidikan</th>\n",
              "      <th>status_pernikahan</th>\n",
              "      <th>pendapatan</th>\n",
              "      <th>jumlah_anak_balita</th>\n",
              "      <th>jumlah_anak_remaja</th>\n",
              "      <th>terakhir_belanja</th>\n",
              "      <th>belanja_buah</th>\n",
              "      <th>belanja_daging</th>\n",
              "      <th>belanja_ikan</th>\n",
              "      <th>belanja_kue</th>\n",
              "      <th>pembelian_diskon</th>\n",
              "      <th>pembelian_web</th>\n",
              "      <th>pembelian_toko</th>\n",
              "      <th>keluhan</th>\n",
              "      <th>tanggal_menjadi_anggota</th>\n",
              "      <th>segmentasi_pendapatan</th>\n",
              "    </tr>\n",
              "  </thead>\n",
              "  <tbody>\n",
              "    <tr>\n",
              "      <th>0</th>\n",
              "      <td>1979</td>\n",
              "      <td>Sarjana</td>\n",
              "      <td>Rencana Menikah</td>\n",
              "      <td>1.113772e+08</td>\n",
              "      <td>0</td>\n",
              "      <td>1</td>\n",
              "      <td>47</td>\n",
              "      <td>50575.0</td>\n",
              "      <td>260967.0</td>\n",
              "      <td>50575.000000</td>\n",
              "      <td>20230.000000</td>\n",
              "      <td>2.0</td>\n",
              "      <td>2.0</td>\n",
              "      <td>5.0</td>\n",
              "      <td>0.0</td>\n",
              "      <td>2014-05-05</td>\n",
              "      <td>Sedang</td>\n",
              "    </tr>\n",
              "    <tr>\n",
              "      <th>1</th>\n",
              "      <td>1950</td>\n",
              "      <td>Sarjana</td>\n",
              "      <td>Rencana Menikah</td>\n",
              "      <td>8.406300e+07</td>\n",
              "      <td>0</td>\n",
              "      <td>0</td>\n",
              "      <td>70</td>\n",
              "      <td>6069.0</td>\n",
              "      <td>44506.0</td>\n",
              "      <td>80920.000000</td>\n",
              "      <td>20230.000000</td>\n",
              "      <td>9.0</td>\n",
              "      <td>6.0</td>\n",
              "      <td>4.0</td>\n",
              "      <td>0.0</td>\n",
              "      <td>2013-03-17</td>\n",
              "      <td>Sedang</td>\n",
              "    </tr>\n",
              "    <tr>\n",
              "      <th>2</th>\n",
              "      <td>1966</td>\n",
              "      <td>Sarjana</td>\n",
              "      <td>Menikah</td>\n",
              "      <td>1.275326e+08</td>\n",
              "      <td>0</td>\n",
              "      <td>0</td>\n",
              "      <td>45</td>\n",
              "      <td>117611.0</td>\n",
              "      <td>265460.0</td>\n",
              "      <td>96341.000000</td>\n",
              "      <td>145573.000000</td>\n",
              "      <td>1.0</td>\n",
              "      <td>1.0</td>\n",
              "      <td>7.0</td>\n",
              "      <td>0.0</td>\n",
              "      <td>NaN</td>\n",
              "      <td>Tinggi</td>\n",
              "    </tr>\n",
              "    <tr>\n",
              "      <th>3</th>\n",
              "      <td>1961</td>\n",
              "      <td>Magister</td>\n",
              "      <td>Rencana Menikah</td>\n",
              "      <td>1.655796e+08</td>\n",
              "      <td>0</td>\n",
              "      <td>0</td>\n",
              "      <td>90</td>\n",
              "      <td>206346.0</td>\n",
              "      <td>1613901.0</td>\n",
              "      <td>27725.000000</td>\n",
              "      <td>125868.000000</td>\n",
              "      <td>0.0</td>\n",
              "      <td>7.0</td>\n",
              "      <td>8.0</td>\n",
              "      <td>0.0</td>\n",
              "      <td>NaN</td>\n",
              "      <td>Sangat Tinggi</td>\n",
              "    </tr>\n",
              "    <tr>\n",
              "      <th>4</th>\n",
              "      <td>1970</td>\n",
              "      <td>Sarjana</td>\n",
              "      <td>Rencana Menikah</td>\n",
              "      <td>1.177032e+08</td>\n",
              "      <td>1</td>\n",
              "      <td>1</td>\n",
              "      <td>78</td>\n",
              "      <td>90563.0</td>\n",
              "      <td>311757.0</td>\n",
              "      <td>40358.000000</td>\n",
              "      <td>33875.000000</td>\n",
              "      <td>7.0</td>\n",
              "      <td>6.0</td>\n",
              "      <td>5.0</td>\n",
              "      <td>0.0</td>\n",
              "      <td>NaN</td>\n",
              "      <td>Tinggi</td>\n",
              "    </tr>\n",
              "    <tr>\n",
              "      <th>...</th>\n",
              "      <td>...</td>\n",
              "      <td>...</td>\n",
              "      <td>...</td>\n",
              "      <td>...</td>\n",
              "      <td>...</td>\n",
              "      <td>...</td>\n",
              "      <td>...</td>\n",
              "      <td>...</td>\n",
              "      <td>...</td>\n",
              "      <td>...</td>\n",
              "      <td>...</td>\n",
              "      <td>...</td>\n",
              "      <td>...</td>\n",
              "      <td>...</td>\n",
              "      <td>...</td>\n",
              "      <td>...</td>\n",
              "      <td>...</td>\n",
              "    </tr>\n",
              "    <tr>\n",
              "      <th>3812</th>\n",
              "      <td>1955</td>\n",
              "      <td>Magister</td>\n",
              "      <td>Menikah</td>\n",
              "      <td>7.819947e+07</td>\n",
              "      <td>0</td>\n",
              "      <td>0</td>\n",
              "      <td>33</td>\n",
              "      <td>6069.0</td>\n",
              "      <td>25977.0</td>\n",
              "      <td>3856.000000</td>\n",
              "      <td>5784.000000</td>\n",
              "      <td>5.0</td>\n",
              "      <td>1.0</td>\n",
              "      <td>0.0</td>\n",
              "      <td>0.0</td>\n",
              "      <td>NaN</td>\n",
              "      <td>Rendah</td>\n",
              "    </tr>\n",
              "    <tr>\n",
              "      <th>3813</th>\n",
              "      <td>1947</td>\n",
              "      <td>Doktor</td>\n",
              "      <td>Rencana Menikah</td>\n",
              "      <td>1.093060e+08</td>\n",
              "      <td>0</td>\n",
              "      <td>1</td>\n",
              "      <td>44</td>\n",
              "      <td>0.0</td>\n",
              "      <td>50575.0</td>\n",
              "      <td>46349.530749</td>\n",
              "      <td>0.000000</td>\n",
              "      <td>3.0</td>\n",
              "      <td>6.0</td>\n",
              "      <td>3.0</td>\n",
              "      <td>0.0</td>\n",
              "      <td>2014-06-09</td>\n",
              "      <td>Sedang</td>\n",
              "    </tr>\n",
              "    <tr>\n",
              "      <th>3814</th>\n",
              "      <td>1974</td>\n",
              "      <td>Magister</td>\n",
              "      <td>Menikah</td>\n",
              "      <td>1.046210e+08</td>\n",
              "      <td>0</td>\n",
              "      <td>2</td>\n",
              "      <td>68</td>\n",
              "      <td>2023.0</td>\n",
              "      <td>62713.0</td>\n",
              "      <td>8092.000000</td>\n",
              "      <td>0.000000</td>\n",
              "      <td>7.0</td>\n",
              "      <td>5.0</td>\n",
              "      <td>7.0</td>\n",
              "      <td>0.0</td>\n",
              "      <td>2013-11-07</td>\n",
              "      <td>Sedang</td>\n",
              "    </tr>\n",
              "    <tr>\n",
              "      <th>3815</th>\n",
              "      <td>1957</td>\n",
              "      <td>SMA</td>\n",
              "      <td>Rencana Menikah</td>\n",
              "      <td>1.108500e+08</td>\n",
              "      <td>1</td>\n",
              "      <td>1</td>\n",
              "      <td>67</td>\n",
              "      <td>18207.0</td>\n",
              "      <td>70805.0</td>\n",
              "      <td>24276.000000</td>\n",
              "      <td>24715.483998</td>\n",
              "      <td>4.0</td>\n",
              "      <td>5.0</td>\n",
              "      <td>4.0</td>\n",
              "      <td>0.0</td>\n",
              "      <td>2013-06-30</td>\n",
              "      <td>Sedang</td>\n",
              "    </tr>\n",
              "    <tr>\n",
              "      <th>3816</th>\n",
              "      <td>1961</td>\n",
              "      <td>Sarjana</td>\n",
              "      <td>Menikah</td>\n",
              "      <td>1.305120e+08</td>\n",
              "      <td>0</td>\n",
              "      <td>0</td>\n",
              "      <td>70</td>\n",
              "      <td>329749.0</td>\n",
              "      <td>600831.0</td>\n",
              "      <td>420784.000000</td>\n",
              "      <td>161840.000000</td>\n",
              "      <td>3.0</td>\n",
              "      <td>7.0</td>\n",
              "      <td>15.0</td>\n",
              "      <td>0.0</td>\n",
              "      <td>2014-01-25</td>\n",
              "      <td>Tinggi</td>\n",
              "    </tr>\n",
              "  </tbody>\n",
              "</table>\n",
              "<p>3814 rows × 17 columns</p>\n",
              "</div>"
            ],
            "text/plain": [
              "      tahun_kelahiran pendidikan status_pernikahan    pendapatan  \\\n",
              "0                1979    Sarjana   Rencana Menikah  1.113772e+08   \n",
              "1                1950    Sarjana   Rencana Menikah  8.406300e+07   \n",
              "2                1966    Sarjana           Menikah  1.275326e+08   \n",
              "3                1961   Magister   Rencana Menikah  1.655796e+08   \n",
              "4                1970    Sarjana   Rencana Menikah  1.177032e+08   \n",
              "...               ...        ...               ...           ...   \n",
              "3812             1955   Magister           Menikah  7.819947e+07   \n",
              "3813             1947     Doktor   Rencana Menikah  1.093060e+08   \n",
              "3814             1974   Magister           Menikah  1.046210e+08   \n",
              "3815             1957        SMA   Rencana Menikah  1.108500e+08   \n",
              "3816             1961    Sarjana           Menikah  1.305120e+08   \n",
              "\n",
              "      jumlah_anak_balita  jumlah_anak_remaja  terakhir_belanja  belanja_buah  \\\n",
              "0                      0                   1                47       50575.0   \n",
              "1                      0                   0                70        6069.0   \n",
              "2                      0                   0                45      117611.0   \n",
              "3                      0                   0                90      206346.0   \n",
              "4                      1                   1                78       90563.0   \n",
              "...                  ...                 ...               ...           ...   \n",
              "3812                   0                   0                33        6069.0   \n",
              "3813                   0                   1                44           0.0   \n",
              "3814                   0                   2                68        2023.0   \n",
              "3815                   1                   1                67       18207.0   \n",
              "3816                   0                   0                70      329749.0   \n",
              "\n",
              "      belanja_daging   belanja_ikan    belanja_kue  pembelian_diskon  \\\n",
              "0           260967.0   50575.000000   20230.000000               2.0   \n",
              "1            44506.0   80920.000000   20230.000000               9.0   \n",
              "2           265460.0   96341.000000  145573.000000               1.0   \n",
              "3          1613901.0   27725.000000  125868.000000               0.0   \n",
              "4           311757.0   40358.000000   33875.000000               7.0   \n",
              "...              ...            ...            ...               ...   \n",
              "3812         25977.0    3856.000000    5784.000000               5.0   \n",
              "3813         50575.0   46349.530749       0.000000               3.0   \n",
              "3814         62713.0    8092.000000       0.000000               7.0   \n",
              "3815         70805.0   24276.000000   24715.483998               4.0   \n",
              "3816        600831.0  420784.000000  161840.000000               3.0   \n",
              "\n",
              "      pembelian_web  pembelian_toko  keluhan tanggal_menjadi_anggota  \\\n",
              "0               2.0             5.0      0.0              2014-05-05   \n",
              "1               6.0             4.0      0.0              2013-03-17   \n",
              "2               1.0             7.0      0.0                     NaN   \n",
              "3               7.0             8.0      0.0                     NaN   \n",
              "4               6.0             5.0      0.0                     NaN   \n",
              "...             ...             ...      ...                     ...   \n",
              "3812            1.0             0.0      0.0                     NaN   \n",
              "3813            6.0             3.0      0.0              2014-06-09   \n",
              "3814            5.0             7.0      0.0              2013-11-07   \n",
              "3815            5.0             4.0      0.0              2013-06-30   \n",
              "3816            7.0            15.0      0.0              2014-01-25   \n",
              "\n",
              "     segmentasi_pendapatan  \n",
              "0                   Sedang  \n",
              "1                   Sedang  \n",
              "2                   Tinggi  \n",
              "3            Sangat Tinggi  \n",
              "4                   Tinggi  \n",
              "...                    ...  \n",
              "3812                Rendah  \n",
              "3813                Sedang  \n",
              "3814                Sedang  \n",
              "3815                Sedang  \n",
              "3816                Tinggi  \n",
              "\n",
              "[3814 rows x 17 columns]"
            ]
          },
          "execution_count": 630,
          "metadata": {},
          "output_type": "execute_result"
        }
      ],
      "source": [
        "kuartilPendapatan = trainFeatures['pendapatan'].quantile([0.25, 0.5, 0.75])\n",
        "\n",
        "trainFeatures['segmentasi_pendapatan'] = pd.cut(trainFeatures['pendapatan'], \n",
        "                                                bins=[0, kuartilPendapatan.iloc[0], kuartilPendapatan.iloc[1], \n",
        "                                                      kuartilPendapatan.iloc[2], trainFeatures['pendapatan'].max()],\n",
        "                                                labels=['Rendah', 'Sedang', 'Tinggi', 'Sangat Tinggi'])\n",
        "\n",
        "trainFeatures"
      ]
    },
    {
      "cell_type": "code",
      "execution_count": 631,
      "metadata": {},
      "outputs": [],
      "source": [
        "for segmen in trainFeatures['segmentasi_pendapatan'].unique():\n",
        "    # Filter DataFrame berdasarkan segmen pendapatan\n",
        "    df_segmen = trainFeatures[trainFeatures['segmentasi_pendapatan'] == segmen]\n",
        "    \n",
        "    # Mengambil nilai modus dari kolom 'pembelian_diskon' pada segmen saat ini\n",
        "    mayorSegmen = df_segmen['pembelian_diskon'].mean()\n",
        "\n",
        "    # Mengisi nilai null di kolom 'pembelian_diskon' berdasarkan segmentasi pendapatan dengan nilai modus\n",
        "    trainFeatures.loc[trainFeatures['segmentasi_pendapatan'] == segmen, 'pembelian_diskon'] = trainFeatures.loc[trainFeatures['segmentasi_pendapatan'] == segmen, 'pembelian_diskon'].fillna(mayorSegmen)"
      ]
    },
    {
      "cell_type": "code",
      "execution_count": 632,
      "metadata": {},
      "outputs": [
        {
          "data": {
            "text/plain": [
              "0"
            ]
          },
          "execution_count": 632,
          "metadata": {},
          "output_type": "execute_result"
        }
      ],
      "source": [
        "trainFeatures.pembelian_diskon.isna().sum()"
      ]
    },
    {
      "cell_type": "code",
      "execution_count": 633,
      "metadata": {},
      "outputs": [
        {
          "data": {
            "text/plain": [
              "151"
            ]
          },
          "execution_count": 633,
          "metadata": {},
          "output_type": "execute_result"
        }
      ],
      "source": [
        "Q1 = trainFeatures['pembelian_diskon'].quantile(0.25)\n",
        "Q3 = trainFeatures['pembelian_diskon'].quantile(0.75)\n",
        "IQR = Q3 - Q1\n",
        "\n",
        "Upper_Fence = Q3 + 1.5 * IQR\n",
        "Lower_Fence = Q1 - 1.5 * IQR\n",
        "\n",
        "outliers = trainFeatures[(trainFeatures['pembelian_diskon'] < Lower_Fence) | (trainFeatures['pembelian_diskon'] > Upper_Fence)]['pembelian_diskon']\n",
        "len(outliers)\n"
      ]
    },
    {
      "cell_type": "code",
      "execution_count": 658,
      "metadata": {},
      "outputs": [
        {
          "data": {
            "image/png": "[encoded data removed]",
            "text/plain": [
              "<Figure size 640x480 with 1 Axes>"
            ]
          },
          "metadata": {},
          "output_type": "display_data"
        }
      ],
      "source": [
        "plt.boxplot(trainFeatures['pembelian_diskon'], vert=False)\n",
        "plt.xlabel('Belanja Buah')\n",
        "plt.ylabel('Jumlah')\n",
        "plt.title('Diagram Boxplot pembelian_diskon')\n",
        "plt.show()"
      ]
    },
    {
      "cell_type": "code",
      "execution_count": 657,
      "metadata": {},
      "outputs": [
        {
          "data": {
            "text/plain": [
              "Text(0.5, 1.0, 'Histogram pembelian_diskon')"
            ]
          },
          "execution_count": 657,
          "metadata": {},
          "output_type": "execute_result"
        },
        {
          "data": {
            "image/png": "[encoded data removed]",
            "text/plain": [
              "<Figure size 640x480 with 1 Axes>"
            ]
          },
          "metadata": {},
          "output_type": "display_data"
        }
      ],
      "source": [
        "# Plot histogram\n",
        "plt.hist(trainFeatures['pembelian_diskon'], bins=10, color='skyblue', edgecolor='black')\n",
        "\n",
        "# Label sumbu dan judul\n",
        "plt.xlabel('pembelian_diskon')\n",
        "plt.ylabel('Frekuensi')\n",
        "plt.title('Histogram pembelian_diskon')"
      ]
    },
    {
      "cell_type": "markdown",
      "metadata": {},
      "source": [
        "Saat ini kolom **belanja buah** sudah tidak ada nilai null lagi"
      ]
    },
    {
      "cell_type": "markdown",
      "metadata": {},
      "source": [
        "## Kolom Pembelian Web"
      ]
    },
    {
      "cell_type": "code",
      "execution_count": 638,
      "metadata": {},
      "outputs": [],
      "source": [
        "for segmen in trainFeatures['segmentasi_pendapatan'].unique():\n",
        "    # Filter DataFrame berdasarkan segmen pendapatan\n",
        "    df_segmen = trainFeatures[trainFeatures['segmentasi_pendapatan'] == segmen]\n",
        "    \n",
        "    # Mengambil nilai modus dari kolom 'pembelian_diskon' pada segmen saat ini\n",
        "    mayorSegmen = df_segmen['pembelian_web'].mean()\n",
        "\n",
        "    # Mengisi nilai null di kolom 'pembelian_diskon' berdasarkan segmentasi pendapatan dengan nilai modus\n",
        "    trainFeatures.loc[trainFeatures['segmentasi_pendapatan'] == segmen, 'pembelian_web'] = trainFeatures.loc[trainFeatures['segmentasi_pendapatan'] == segmen, 'pembelian_web'].fillna(mayorSegmen)"
      ]
    },
    {
      "cell_type": "code",
      "execution_count": 639,
      "metadata": {},
      "outputs": [
        {
          "data": {
            "text/plain": [
              "23"
            ]
          },
          "execution_count": 639,
          "metadata": {},
          "output_type": "execute_result"
        }
      ],
      "source": [
        "Q1 = trainFeatures['pembelian_web'].quantile(0.25)\n",
        "Q3 = trainFeatures['pembelian_web'].quantile(0.75)\n",
        "IQR = Q3 - Q1\n",
        "\n",
        "Upper_Fence = Q3 + 1.5 * IQR\n",
        "Lower_Fence = Q1 - 1.5 * IQR\n",
        "\n",
        "outliers = trainFeatures[(trainFeatures['pembelian_web'] < Lower_Fence) | (trainFeatures['pembelian_web'] > Upper_Fence)]['pembelian_web']\n",
        "len(outliers)"
      ]
    },
    {
      "cell_type": "code",
      "execution_count": 649,
      "metadata": {},
      "outputs": [
        {
          "data": {
            "image/png": "[encoded data removed]",
            "text/plain": [
              "<Figure size 640x480 with 1 Axes>"
            ]
          },
          "metadata": {},
          "output_type": "display_data"
        }
      ],
      "source": [
        "plt.boxplot(trainFeatures['pembelian_web'], vert=False)\n",
        "plt.xlabel('Belanja Buah')\n",
        "plt.ylabel('Jumlah')\n",
        "plt.title('Diagram Boxplot pembelian_diskon')\n",
        "plt.show()"
      ]
    },
    {
      "cell_type": "code",
      "execution_count": 650,
      "metadata": {},
      "outputs": [
        {
          "data": {
            "text/plain": [
              "Text(0.5, 1.0, 'Histogram pembelian_diskon')"
            ]
          },
          "execution_count": 650,
          "metadata": {},
          "output_type": "execute_result"
        },
        {
          "data": {
            "image/png": "[encoded data removed]",
            "text/plain": [
              "<Figure size 640x480 with 1 Axes>"
            ]
          },
          "metadata": {},
          "output_type": "display_data"
        }
      ],
      "source": [
        "# Plot histogram\n",
        "plt.hist(trainFeatures['pembelian_web'], bins=10, color='skyblue', edgecolor='black')\n",
        "\n",
        "# Label sumbu dan judul\n",
        "plt.xlabel('pembelian_diskon')\n",
        "plt.ylabel('Frekuensi')\n",
        "plt.title('Histogram pembelian_diskon')"
      ]
    },
    {
      "cell_type": "markdown",
      "metadata": {},
      "source": [
        "## Kolom Pembelian Toko"
      ]
    },
    {
      "cell_type": "code",
      "execution_count": 640,
      "metadata": {},
      "outputs": [],
      "source": [
        "for segmen in trainFeatures['segmentasi_pendapatan'].unique():\n",
        "    # Filter DataFrame berdasarkan segmen pendapatan\n",
        "    df_segmen = trainFeatures[trainFeatures['segmentasi_pendapatan'] == segmen]\n",
        "    \n",
        "    # Mengambil nilai modus dari kolom 'pembelian_diskon' pada segmen saat ini\n",
        "    mayorSegmen = df_segmen['pembelian_toko'].mean()\n",
        "\n",
        "    # Mengisi nilai null di kolom 'pembelian_diskon' berdasarkan segmentasi pendapatan dengan nilai modus\n",
        "    trainFeatures.loc[trainFeatures['segmentasi_pendapatan'] == segmen, 'pembelian_toko'] = trainFeatures.loc[trainFeatures['segmentasi_pendapatan'] == segmen, 'pembelian_toko'].fillna(mayorSegmen)"
      ]
    },
    {
      "cell_type": "code",
      "execution_count": 641,
      "metadata": {},
      "outputs": [
        {
          "data": {
            "text/plain": [
              "2"
            ]
          },
          "execution_count": 641,
          "metadata": {},
          "output_type": "execute_result"
        }
      ],
      "source": [
        "Q1 = trainFeatures['pembelian_toko'].quantile(0.25)\n",
        "Q3 = trainFeatures['pembelian_toko'].quantile(0.75)\n",
        "IQR = Q3 - Q1\n",
        "\n",
        "Upper_Fence = Q3 + 1.5 * IQR\n",
        "Lower_Fence = Q1 - 1.5 * IQR\n",
        "\n",
        "outliers = trainFeatures[(trainFeatures['pembelian_toko'] < Lower_Fence) | (trainFeatures['pembelian_toko'] > Upper_Fence)]['pembelian_toko']\n",
        "len(outliers)"
      ]
    },
    {
      "cell_type": "code",
      "execution_count": 642,
      "metadata": {},
      "outputs": [
        {
          "data": {
            "image/png": "[encoded data removed]",
            "text/plain": [
              "<Figure size 640x480 with 1 Axes>"
            ]
          },
          "metadata": {},
          "output_type": "display_data"
        }
      ],
      "source": [
        "plt.boxplot(trainFeatures['pembelian_toko'], vert=False)\n",
        "plt.xlabel('Belanja Buah')\n",
        "plt.ylabel('Jumlah')\n",
        "plt.title('Diagram Boxplot pembelian_diskon')\n",
        "plt.show()"
      ]
    },
    {
      "cell_type": "code",
      "execution_count": 643,
      "metadata": {},
      "outputs": [
        {
          "data": {
            "text/plain": [
              "Text(0.5, 1.0, 'Histogram pembelian_diskon')"
            ]
          },
          "execution_count": 643,
          "metadata": {},
          "output_type": "execute_result"
        },
        {
          "data": {
            "image/png": "[encoded data removed]",
            "text/plain": [
              "<Figure size 640x480 with 1 Axes>"
            ]
          },
          "metadata": {},
          "output_type": "display_data"
        }
      ],
      "source": [
        "# Plot histogram\n",
        "plt.hist(trainFeatures['pembelian_toko'], bins=10, color='skyblue', edgecolor='black')\n",
        "\n",
        "# Label sumbu dan judul\n",
        "plt.xlabel('pembelian_diskon')\n",
        "plt.ylabel('Frekuensi')\n",
        "plt.title('Histogram pembelian_diskon')"
      ]
    },
    {
      "cell_type": "markdown",
      "metadata": {},
      "source": [
        "## Kolom Keluhan"
      ]
    },
    {
      "cell_type": "code",
      "execution_count": 648,
      "metadata": {},
      "outputs": [
        {
          "data": {
            "text/plain": [
              "0"
            ]
          },
          "execution_count": 648,
          "metadata": {},
          "output_type": "execute_result"
        }
      ],
      "source": [
        "trainFeatures.keluhan.isna().sum()"
      ]
    },
    {
      "cell_type": "code",
      "execution_count": 647,
      "metadata": {},
      "outputs": [],
      "source": [
        "trainFeatures['keluhan'].fillna(0, inplace=True)"
      ]
    },
    {
      "cell_type": "code",
      "execution_count": null,
      "metadata": {},
      "outputs": [],
      "source": [
        "trainFeatures.keluhan.isna().sum()"
      ]
    },
    {
      "cell_type": "markdown",
      "metadata": {},
      "source": [
        "## Kolom Tanggal Menjadi Anggota"
      ]
    },
    {
      "cell_type": "code",
      "execution_count": 651,
      "metadata": {},
      "outputs": [
        {
          "data": {
            "text/plain": [
              "2749"
            ]
          },
          "execution_count": 651,
          "metadata": {},
          "output_type": "execute_result"
        }
      ],
      "source": [
        "trainFeatures.tanggal_menjadi_anggota.isna().sum()"
      ]
    },
    {
      "cell_type": "code",
      "execution_count": 652,
      "metadata": {},
      "outputs": [],
      "source": [
        "trainFeatures['tanggal_menjadi_anggota'].fillna(\"Unknown\", inplace=True)"
      ]
    },
    {
      "cell_type": "code",
      "execution_count": 653,
      "metadata": {},
      "outputs": [
        {
          "data": {
            "text/plain": [
              "0"
            ]
          },
          "execution_count": 653,
          "metadata": {},
          "output_type": "execute_result"
        }
      ],
      "source": [
        "trainFeatures.tanggal_menjadi_anggota.isna().sum()"
      ]
    },
    {
      "cell_type": "code",
      "execution_count": 655,
      "metadata": {},
      "outputs": [
        {
          "data": {
            "text/html": [
              "<div>\n",
              "<style scoped>\n",
              "    .dataframe tbody tr th:only-of-type {\n",
              "        vertical-align: middle;\n",
              "    }\n",
              "\n",
              "    .dataframe tbody tr th {\n",
              "        vertical-align: top;\n",
              "    }\n",
              "\n",
              "    .dataframe thead th {\n",
              "        text-align: right;\n",
              "    }\n",
              "</style>\n",
              "<table border=\"1\" class=\"dataframe\">\n",
              "  <thead>\n",
              "    <tr style=\"text-align: right;\">\n",
              "      <th></th>\n",
              "      <th>tahun_kelahiran</th>\n",
              "      <th>pendidikan</th>\n",
              "      <th>status_pernikahan</th>\n",
              "      <th>pendapatan</th>\n",
              "      <th>jumlah_anak_balita</th>\n",
              "      <th>jumlah_anak_remaja</th>\n",
              "      <th>terakhir_belanja</th>\n",
              "      <th>belanja_buah</th>\n",
              "      <th>belanja_daging</th>\n",
              "      <th>belanja_ikan</th>\n",
              "      <th>belanja_kue</th>\n",
              "      <th>pembelian_diskon</th>\n",
              "      <th>pembelian_web</th>\n",
              "      <th>pembelian_toko</th>\n",
              "      <th>keluhan</th>\n",
              "      <th>tanggal_menjadi_anggota</th>\n",
              "      <th>segmentasi_pendapatan</th>\n",
              "    </tr>\n",
              "  </thead>\n",
              "  <tbody>\n",
              "    <tr>\n",
              "      <th>0</th>\n",
              "      <td>1979</td>\n",
              "      <td>Sarjana</td>\n",
              "      <td>Rencana Menikah</td>\n",
              "      <td>111377245.0</td>\n",
              "      <td>0</td>\n",
              "      <td>1</td>\n",
              "      <td>47</td>\n",
              "      <td>50575.0</td>\n",
              "      <td>260967.0</td>\n",
              "      <td>50575.0</td>\n",
              "      <td>20230.0</td>\n",
              "      <td>2.0</td>\n",
              "      <td>2.0</td>\n",
              "      <td>5.0</td>\n",
              "      <td>0.0</td>\n",
              "      <td>2014-05-05</td>\n",
              "      <td>Sedang</td>\n",
              "    </tr>\n",
              "    <tr>\n",
              "      <th>1</th>\n",
              "      <td>1950</td>\n",
              "      <td>Sarjana</td>\n",
              "      <td>Rencana Menikah</td>\n",
              "      <td>84063000.0</td>\n",
              "      <td>0</td>\n",
              "      <td>0</td>\n",
              "      <td>70</td>\n",
              "      <td>6069.0</td>\n",
              "      <td>44506.0</td>\n",
              "      <td>80920.0</td>\n",
              "      <td>20230.0</td>\n",
              "      <td>9.0</td>\n",
              "      <td>6.0</td>\n",
              "      <td>4.0</td>\n",
              "      <td>0.0</td>\n",
              "      <td>2013-03-17</td>\n",
              "      <td>Sedang</td>\n",
              "    </tr>\n",
              "    <tr>\n",
              "      <th>2</th>\n",
              "      <td>1966</td>\n",
              "      <td>Sarjana</td>\n",
              "      <td>Menikah</td>\n",
              "      <td>127532564.0</td>\n",
              "      <td>0</td>\n",
              "      <td>0</td>\n",
              "      <td>45</td>\n",
              "      <td>117611.0</td>\n",
              "      <td>265460.0</td>\n",
              "      <td>96341.0</td>\n",
              "      <td>145573.0</td>\n",
              "      <td>1.0</td>\n",
              "      <td>1.0</td>\n",
              "      <td>7.0</td>\n",
              "      <td>0.0</td>\n",
              "      <td>Unknown</td>\n",
              "      <td>Tinggi</td>\n",
              "    </tr>\n",
              "    <tr>\n",
              "      <th>3</th>\n",
              "      <td>1961</td>\n",
              "      <td>Magister</td>\n",
              "      <td>Rencana Menikah</td>\n",
              "      <td>165579620.0</td>\n",
              "      <td>0</td>\n",
              "      <td>0</td>\n",
              "      <td>90</td>\n",
              "      <td>206346.0</td>\n",
              "      <td>1613901.0</td>\n",
              "      <td>27725.0</td>\n",
              "      <td>125868.0</td>\n",
              "      <td>0.0</td>\n",
              "      <td>7.0</td>\n",
              "      <td>8.0</td>\n",
              "      <td>0.0</td>\n",
              "      <td>Unknown</td>\n",
              "      <td>Sangat Tinggi</td>\n",
              "    </tr>\n",
              "    <tr>\n",
              "      <th>4</th>\n",
              "      <td>1970</td>\n",
              "      <td>Sarjana</td>\n",
              "      <td>Rencana Menikah</td>\n",
              "      <td>117703159.0</td>\n",
              "      <td>1</td>\n",
              "      <td>1</td>\n",
              "      <td>78</td>\n",
              "      <td>90563.0</td>\n",
              "      <td>311757.0</td>\n",
              "      <td>40358.0</td>\n",
              "      <td>33875.0</td>\n",
              "      <td>7.0</td>\n",
              "      <td>6.0</td>\n",
              "      <td>5.0</td>\n",
              "      <td>0.0</td>\n",
              "      <td>Unknown</td>\n",
              "      <td>Tinggi</td>\n",
              "    </tr>\n",
              "  </tbody>\n",
              "</table>\n",
              "</div>"
            ],
            "text/plain": [
              "   tahun_kelahiran pendidikan status_pernikahan   pendapatan  \\\n",
              "0             1979    Sarjana   Rencana Menikah  111377245.0   \n",
              "1             1950    Sarjana   Rencana Menikah   84063000.0   \n",
              "2             1966    Sarjana           Menikah  127532564.0   \n",
              "3             1961   Magister   Rencana Menikah  165579620.0   \n",
              "4             1970    Sarjana   Rencana Menikah  117703159.0   \n",
              "\n",
              "   jumlah_anak_balita  jumlah_anak_remaja  terakhir_belanja  belanja_buah  \\\n",
              "0                   0                   1                47       50575.0   \n",
              "1                   0                   0                70        6069.0   \n",
              "2                   0                   0                45      117611.0   \n",
              "3                   0                   0                90      206346.0   \n",
              "4                   1                   1                78       90563.0   \n",
              "\n",
              "   belanja_daging  belanja_ikan  belanja_kue  pembelian_diskon  pembelian_web  \\\n",
              "0        260967.0       50575.0      20230.0               2.0            2.0   \n",
              "1         44506.0       80920.0      20230.0               9.0            6.0   \n",
              "2        265460.0       96341.0     145573.0               1.0            1.0   \n",
              "3       1613901.0       27725.0     125868.0               0.0            7.0   \n",
              "4        311757.0       40358.0      33875.0               7.0            6.0   \n",
              "\n",
              "   pembelian_toko  keluhan tanggal_menjadi_anggota segmentasi_pendapatan  \n",
              "0             5.0      0.0              2014-05-05                Sedang  \n",
              "1             4.0      0.0              2013-03-17                Sedang  \n",
              "2             7.0      0.0                 Unknown                Tinggi  \n",
              "3             8.0      0.0                 Unknown         Sangat Tinggi  \n",
              "4             5.0      0.0                 Unknown                Tinggi  "
            ]
          },
          "execution_count": 655,
          "metadata": {},
          "output_type": "execute_result"
        }
      ],
      "source": [
        "trainFeatures = round(trainFeatures)\n",
        "trainFeatures.head()"
      ]
    },
    {
      "cell_type": "markdown",
      "metadata": {},
      "source": [
        "# Exploratory Data Analysis (EDA)"
      ]
    },
    {
      "cell_type": "markdown",
      "metadata": {},
      "source": [
        "## Analisis Outliers"
      ]
    },
    {
      "cell_type": "code",
      "execution_count": 644,
      "metadata": {},
      "outputs": [],
      "source": [
        "# while True:\n",
        "#     Q1 = trainFeatures['belanja_buah'].quantile(0.25)\n",
        "#     Q3 = trainFeatures['belanja_buah'].quantile(0.75)\n",
        "#     IQR = Q3 - Q1\n",
        "\n",
        "#     Upper_Fence = Q3 + 1.5 * IQR\n",
        "#     Lower_Fence = Q1 - 1.5 * IQR\n",
        "\n",
        "#     outliers = trainFeatures[(trainFeatures['belanja_buah'] < Lower_Fence) | (trainFeatures['belanja_buah'] > Upper_Fence)]['belanja_buah']\n",
        "\n",
        "#     if outliers.empty:\n",
        "#         print(\"Tidak ada outlier lagi.\")\n",
        "#         break\n",
        "#     else:\n",
        "#         trainFeatures = trainFeatures[(trainFeatures['belanja_buah'] >= Lower_Fence) & (trainFeatures['belanja_buah'] <= Upper_Fence)]"
      ]
    },
    {
      "cell_type": "code",
      "execution_count": 645,
      "metadata": {},
      "outputs": [],
      "source": [
        "# plt.figure(figsize=(10, 6))\n",
        "# plt.boxplot(trainFeatures['pendapatan'])\n",
        "# plt.ylabel('Nilai Pendapatan')\n",
        "# plt.title('Boxplot Pendapatan setelah Penanganan Outlier')\n",
        "# plt.xticks([1], ['Pendapatan'])\n",
        "# plt.show()"
      ]
    }
  ],
  "metadata": {
    "colab": {
      "provenance": []
    },
    "kernelspec": {
      "display_name": "Python 3",
      "name": "python3"
    },
    "language_info": {
      "codemirror_mode": {
        "name": "ipython",
        "version": 3
      },
      "file_extension": ".py",
      "mimetype": "text/x-python",
      "name": "python",
      "nbconvert_exporter": "python",
      "pygments_lexer": "ipython3",
      "version": "3.11.5"
    }
  },
  "nbformat": 4,
  "nbformat_minor": 0
}
