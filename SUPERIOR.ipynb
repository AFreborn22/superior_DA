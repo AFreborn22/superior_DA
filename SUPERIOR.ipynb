{
  "cells": [
    {
      "cell_type": "code",
      "execution_count": 420,
      "metadata": {
        "id": "2D7mxTB1mgCA"
      },
      "outputs": [],
      "source": [
        "import pandas as pd\n",
        "import numpy as np\n",
        "import  matplotlib.pyplot as plt\n",
        "import seaborn as sns\n",
        "from scipy import interpolate\n",
        "\n",
        "from scipy.interpolate import CubicSpline"
      ]
    },
    {
      "cell_type": "code",
      "execution_count": 421,
      "metadata": {
        "id": "bEo06P7Sm8sH"
      },
      "outputs": [],
      "source": [
        "trainFeatures = pd.read_csv('data/train_features.csv')\n",
        "testFeatures = pd.read_csv('data/test_features.csv')\n",
        "trainLabels = pd.read_csv('data/train_labels.csv')\n",
        "example = pd.read_csv('data/submission_format.csv')"
      ]
    },
    {
      "cell_type": "code",
      "execution_count": 422,
      "metadata": {
        "colab": {
          "base_uri": "https://localhost:8080/",
          "height": 226
        },
        "id": "mMKQlPZyoteI",
        "outputId": "b6cca7e9-3b28-48e3-8a91-9c112fedd5b6"
      },
      "outputs": [
        {
          "data": {
            "text/html": [
              "<div>\n",
              "<style scoped>\n",
              "    .dataframe tbody tr th:only-of-type {\n",
              "        vertical-align: middle;\n",
              "    }\n",
              "\n",
              "    .dataframe tbody tr th {\n",
              "        vertical-align: top;\n",
              "    }\n",
              "\n",
              "    .dataframe thead th {\n",
              "        text-align: right;\n",
              "    }\n",
              "</style>\n",
              "<table border=\"1\" class=\"dataframe\">\n",
              "  <thead>\n",
              "    <tr style=\"text-align: right;\">\n",
              "      <th></th>\n",
              "      <th>tahun_kelahiran</th>\n",
              "      <th>pendidikan</th>\n",
              "      <th>status_pernikahan</th>\n",
              "      <th>pendapatan</th>\n",
              "      <th>jumlah_anak_balita</th>\n",
              "      <th>jumlah_anak_remaja</th>\n",
              "      <th>terakhir_belanja</th>\n",
              "      <th>belanja_buah</th>\n",
              "      <th>belanja_daging</th>\n",
              "      <th>belanja_ikan</th>\n",
              "      <th>belanja_kue</th>\n",
              "      <th>pembelian_diskon</th>\n",
              "      <th>pembelian_web</th>\n",
              "      <th>pembelian_toko</th>\n",
              "      <th>keluhan</th>\n",
              "      <th>tanggal_menjadi_anggota</th>\n",
              "    </tr>\n",
              "  </thead>\n",
              "  <tbody>\n",
              "    <tr>\n",
              "      <th>0</th>\n",
              "      <td>1979</td>\n",
              "      <td>Sarjana</td>\n",
              "      <td>Rencana Menikah</td>\n",
              "      <td>NaN</td>\n",
              "      <td>0.0</td>\n",
              "      <td>1.0</td>\n",
              "      <td>NaN</td>\n",
              "      <td>50575.0</td>\n",
              "      <td>260967.0</td>\n",
              "      <td>50575.0</td>\n",
              "      <td>20230.0</td>\n",
              "      <td>2.0</td>\n",
              "      <td>2.0</td>\n",
              "      <td>5.0</td>\n",
              "      <td>0.0</td>\n",
              "      <td>2014-05-05</td>\n",
              "    </tr>\n",
              "    <tr>\n",
              "      <th>1</th>\n",
              "      <td>1950</td>\n",
              "      <td>Sarjana</td>\n",
              "      <td>Rencana Menikah</td>\n",
              "      <td>84063000.0</td>\n",
              "      <td>NaN</td>\n",
              "      <td>NaN</td>\n",
              "      <td>70.0</td>\n",
              "      <td>6069.0</td>\n",
              "      <td>44506.0</td>\n",
              "      <td>80920.0</td>\n",
              "      <td>20230.0</td>\n",
              "      <td>9.0</td>\n",
              "      <td>6.0</td>\n",
              "      <td>4.0</td>\n",
              "      <td>0.0</td>\n",
              "      <td>2013-03-17</td>\n",
              "    </tr>\n",
              "    <tr>\n",
              "      <th>2</th>\n",
              "      <td>1966</td>\n",
              "      <td>Sarjana</td>\n",
              "      <td>Menikah</td>\n",
              "      <td>127532564.0</td>\n",
              "      <td>0.0</td>\n",
              "      <td>0.0</td>\n",
              "      <td>45.0</td>\n",
              "      <td>117611.0</td>\n",
              "      <td>265460.0</td>\n",
              "      <td>96341.0</td>\n",
              "      <td>145573.0</td>\n",
              "      <td>1.0</td>\n",
              "      <td>1.0</td>\n",
              "      <td>7.0</td>\n",
              "      <td>0.0</td>\n",
              "      <td>NaN</td>\n",
              "    </tr>\n",
              "    <tr>\n",
              "      <th>3</th>\n",
              "      <td>1961</td>\n",
              "      <td>Magister</td>\n",
              "      <td>Rencana Menikah</td>\n",
              "      <td>165579620.0</td>\n",
              "      <td>0.0</td>\n",
              "      <td>0.0</td>\n",
              "      <td>90.0</td>\n",
              "      <td>206346.0</td>\n",
              "      <td>1613901.0</td>\n",
              "      <td>27725.0</td>\n",
              "      <td>125868.0</td>\n",
              "      <td>0.0</td>\n",
              "      <td>7.0</td>\n",
              "      <td>8.0</td>\n",
              "      <td>0.0</td>\n",
              "      <td>NaN</td>\n",
              "    </tr>\n",
              "    <tr>\n",
              "      <th>4</th>\n",
              "      <td>1970</td>\n",
              "      <td>Sarjana</td>\n",
              "      <td>Rencana Menikah</td>\n",
              "      <td>117703159.0</td>\n",
              "      <td>1.0</td>\n",
              "      <td>1.0</td>\n",
              "      <td>78.0</td>\n",
              "      <td>90563.0</td>\n",
              "      <td>311757.0</td>\n",
              "      <td>40358.0</td>\n",
              "      <td>33875.0</td>\n",
              "      <td>7.0</td>\n",
              "      <td>6.0</td>\n",
              "      <td>5.0</td>\n",
              "      <td>0.0</td>\n",
              "      <td>NaN</td>\n",
              "    </tr>\n",
              "  </tbody>\n",
              "</table>\n",
              "</div>"
            ],
            "text/plain": [
              "   tahun_kelahiran pendidikan status_pernikahan   pendapatan  \\\n",
              "0             1979    Sarjana   Rencana Menikah          NaN   \n",
              "1             1950    Sarjana   Rencana Menikah   84063000.0   \n",
              "2             1966    Sarjana           Menikah  127532564.0   \n",
              "3             1961   Magister   Rencana Menikah  165579620.0   \n",
              "4             1970    Sarjana   Rencana Menikah  117703159.0   \n",
              "\n",
              "   jumlah_anak_balita  jumlah_anak_remaja  terakhir_belanja  belanja_buah  \\\n",
              "0                 0.0                 1.0               NaN       50575.0   \n",
              "1                 NaN                 NaN              70.0        6069.0   \n",
              "2                 0.0                 0.0              45.0      117611.0   \n",
              "3                 0.0                 0.0              90.0      206346.0   \n",
              "4                 1.0                 1.0              78.0       90563.0   \n",
              "\n",
              "   belanja_daging  belanja_ikan  belanja_kue  pembelian_diskon  pembelian_web  \\\n",
              "0        260967.0       50575.0      20230.0               2.0            2.0   \n",
              "1         44506.0       80920.0      20230.0               9.0            6.0   \n",
              "2        265460.0       96341.0     145573.0               1.0            1.0   \n",
              "3       1613901.0       27725.0     125868.0               0.0            7.0   \n",
              "4        311757.0       40358.0      33875.0               7.0            6.0   \n",
              "\n",
              "   pembelian_toko  keluhan tanggal_menjadi_anggota  \n",
              "0             5.0      0.0              2014-05-05  \n",
              "1             4.0      0.0              2013-03-17  \n",
              "2             7.0      0.0                     NaN  \n",
              "3             8.0      0.0                     NaN  \n",
              "4             5.0      0.0                     NaN  "
            ]
          },
          "execution_count": 422,
          "metadata": {},
          "output_type": "execute_result"
        }
      ],
      "source": [
        "trainFeatures.head()"
      ]
    },
    {
      "cell_type": "code",
      "execution_count": 423,
      "metadata": {
        "colab": {
          "base_uri": "https://localhost:8080/"
        },
        "id": "PX_jsOen7hko",
        "outputId": "199b9b47-e232-41ea-922f-c99ab04c3f17"
      },
      "outputs": [
        {
          "data": {
            "text/plain": [
              "(3817, 16)"
            ]
          },
          "execution_count": 423,
          "metadata": {},
          "output_type": "execute_result"
        }
      ],
      "source": [
        "trainFeatures.shape"
      ]
    },
    {
      "cell_type": "code",
      "execution_count": 424,
      "metadata": {
        "colab": {
          "base_uri": "https://localhost:8080/",
          "height": 226
        },
        "id": "av96Aqkgos7F",
        "outputId": "03050a5a-5de7-42fc-df79-cc00bb630477"
      },
      "outputs": [
        {
          "data": {
            "text/html": [
              "<div>\n",
              "<style scoped>\n",
              "    .dataframe tbody tr th:only-of-type {\n",
              "        vertical-align: middle;\n",
              "    }\n",
              "\n",
              "    .dataframe tbody tr th {\n",
              "        vertical-align: top;\n",
              "    }\n",
              "\n",
              "    .dataframe thead th {\n",
              "        text-align: right;\n",
              "    }\n",
              "</style>\n",
              "<table border=\"1\" class=\"dataframe\">\n",
              "  <thead>\n",
              "    <tr style=\"text-align: right;\">\n",
              "      <th></th>\n",
              "      <th>ID</th>\n",
              "      <th>tahun_kelahiran</th>\n",
              "      <th>pendidikan</th>\n",
              "      <th>status_pernikahan</th>\n",
              "      <th>pendapatan</th>\n",
              "      <th>jumlah_anak_balita</th>\n",
              "      <th>jumlah_anak_remaja</th>\n",
              "      <th>terakhir_belanja</th>\n",
              "      <th>belanja_buah</th>\n",
              "      <th>belanja_daging</th>\n",
              "      <th>belanja_ikan</th>\n",
              "      <th>belanja_kue</th>\n",
              "      <th>pembelian_diskon</th>\n",
              "      <th>pembelian_web</th>\n",
              "      <th>pembelian_toko</th>\n",
              "      <th>keluhan</th>\n",
              "      <th>tanggal_menjadi_anggota</th>\n",
              "    </tr>\n",
              "  </thead>\n",
              "  <tbody>\n",
              "    <tr>\n",
              "      <th>0</th>\n",
              "      <td>2241</td>\n",
              "      <td>1957</td>\n",
              "      <td>Sarjana</td>\n",
              "      <td>NaN</td>\n",
              "      <td>120660151.0</td>\n",
              "      <td>0.0</td>\n",
              "      <td>1.0</td>\n",
              "      <td>63.0</td>\n",
              "      <td>122277.0</td>\n",
              "      <td>541399.0</td>\n",
              "      <td>214192.0</td>\n",
              "      <td>84305.0</td>\n",
              "      <td>4.0</td>\n",
              "      <td>6.0</td>\n",
              "      <td>10.0</td>\n",
              "      <td>0.0</td>\n",
              "      <td>NaN</td>\n",
              "    </tr>\n",
              "    <tr>\n",
              "      <th>1</th>\n",
              "      <td>2274</td>\n",
              "      <td>1968</td>\n",
              "      <td>Doktor</td>\n",
              "      <td>Menikah</td>\n",
              "      <td>163551821.0</td>\n",
              "      <td>0.0</td>\n",
              "      <td>1.0</td>\n",
              "      <td>58.0</td>\n",
              "      <td>35761.0</td>\n",
              "      <td>353335.0</td>\n",
              "      <td>63365.0</td>\n",
              "      <td>41112.0</td>\n",
              "      <td>2.0</td>\n",
              "      <td>5.0</td>\n",
              "      <td>10.0</td>\n",
              "      <td>0.0</td>\n",
              "      <td>NaN</td>\n",
              "    </tr>\n",
              "    <tr>\n",
              "      <th>2</th>\n",
              "      <td>1107</td>\n",
              "      <td>1968</td>\n",
              "      <td>SMA</td>\n",
              "      <td>Menikah</td>\n",
              "      <td>29857000.0</td>\n",
              "      <td>0.0</td>\n",
              "      <td>0.0</td>\n",
              "      <td>34.0</td>\n",
              "      <td>8092.0</td>\n",
              "      <td>22253.0</td>\n",
              "      <td>30345.0</td>\n",
              "      <td>26299.0</td>\n",
              "      <td>2.0</td>\n",
              "      <td>0.0</td>\n",
              "      <td>5.0</td>\n",
              "      <td>0.0</td>\n",
              "      <td>2013-08-06</td>\n",
              "    </tr>\n",
              "    <tr>\n",
              "      <th>3</th>\n",
              "      <td>4478</td>\n",
              "      <td>1971</td>\n",
              "      <td>Doktor</td>\n",
              "      <td>Menikah</td>\n",
              "      <td>117949098.0</td>\n",
              "      <td>0.0</td>\n",
              "      <td>1.0</td>\n",
              "      <td>82.0</td>\n",
              "      <td>4872.0</td>\n",
              "      <td>126061.0</td>\n",
              "      <td>0.0</td>\n",
              "      <td>9745.0</td>\n",
              "      <td>3.0</td>\n",
              "      <td>5.0</td>\n",
              "      <td>7.0</td>\n",
              "      <td>0.0</td>\n",
              "      <td>NaN</td>\n",
              "    </tr>\n",
              "    <tr>\n",
              "      <th>4</th>\n",
              "      <td>5080</td>\n",
              "      <td>1974</td>\n",
              "      <td>Sarjana</td>\n",
              "      <td>Rencana Menikah</td>\n",
              "      <td>164761134.0</td>\n",
              "      <td>0.0</td>\n",
              "      <td>0.0</td>\n",
              "      <td>28.0</td>\n",
              "      <td>343208.0</td>\n",
              "      <td>1416462.0</td>\n",
              "      <td>236196.0</td>\n",
              "      <td>107776.0</td>\n",
              "      <td>0.0</td>\n",
              "      <td>1.0</td>\n",
              "      <td>8.0</td>\n",
              "      <td>0.0</td>\n",
              "      <td>NaN</td>\n",
              "    </tr>\n",
              "  </tbody>\n",
              "</table>\n",
              "</div>"
            ],
            "text/plain": [
              "     ID  tahun_kelahiran pendidikan status_pernikahan   pendapatan  \\\n",
              "0  2241             1957    Sarjana               NaN  120660151.0   \n",
              "1  2274             1968     Doktor           Menikah  163551821.0   \n",
              "2  1107             1968        SMA           Menikah   29857000.0   \n",
              "3  4478             1971     Doktor           Menikah  117949098.0   \n",
              "4  5080             1974    Sarjana   Rencana Menikah  164761134.0   \n",
              "\n",
              "   jumlah_anak_balita  jumlah_anak_remaja  terakhir_belanja  belanja_buah  \\\n",
              "0                 0.0                 1.0              63.0      122277.0   \n",
              "1                 0.0                 1.0              58.0       35761.0   \n",
              "2                 0.0                 0.0              34.0        8092.0   \n",
              "3                 0.0                 1.0              82.0        4872.0   \n",
              "4                 0.0                 0.0              28.0      343208.0   \n",
              "\n",
              "   belanja_daging  belanja_ikan  belanja_kue  pembelian_diskon  pembelian_web  \\\n",
              "0        541399.0      214192.0      84305.0               4.0            6.0   \n",
              "1        353335.0       63365.0      41112.0               2.0            5.0   \n",
              "2         22253.0       30345.0      26299.0               2.0            0.0   \n",
              "3        126061.0           0.0       9745.0               3.0            5.0   \n",
              "4       1416462.0      236196.0     107776.0               0.0            1.0   \n",
              "\n",
              "   pembelian_toko  keluhan tanggal_menjadi_anggota  \n",
              "0            10.0      0.0                     NaN  \n",
              "1            10.0      0.0                     NaN  \n",
              "2             5.0      0.0              2013-08-06  \n",
              "3             7.0      0.0                     NaN  \n",
              "4             8.0      0.0                     NaN  "
            ]
          },
          "execution_count": 424,
          "metadata": {},
          "output_type": "execute_result"
        }
      ],
      "source": [
        "testFeatures.head()"
      ]
    },
    {
      "cell_type": "code",
      "execution_count": 425,
      "metadata": {
        "colab": {
          "base_uri": "https://localhost:8080/",
          "height": 206
        },
        "id": "pWRc1BDlpUHx",
        "outputId": "1c2478c6-7b7d-498d-d22e-3d2cf904f341"
      },
      "outputs": [
        {
          "data": {
            "text/html": [
              "<div>\n",
              "<style scoped>\n",
              "    .dataframe tbody tr th:only-of-type {\n",
              "        vertical-align: middle;\n",
              "    }\n",
              "\n",
              "    .dataframe tbody tr th {\n",
              "        vertical-align: top;\n",
              "    }\n",
              "\n",
              "    .dataframe thead th {\n",
              "        text-align: right;\n",
              "    }\n",
              "</style>\n",
              "<table border=\"1\" class=\"dataframe\">\n",
              "  <thead>\n",
              "    <tr style=\"text-align: right;\">\n",
              "      <th></th>\n",
              "      <th>ID</th>\n",
              "      <th>jumlah_promosi</th>\n",
              "    </tr>\n",
              "  </thead>\n",
              "  <tbody>\n",
              "    <tr>\n",
              "      <th>0</th>\n",
              "      <td>2241</td>\n",
              "      <td>6</td>\n",
              "    </tr>\n",
              "    <tr>\n",
              "      <th>1</th>\n",
              "      <td>2274</td>\n",
              "      <td>6</td>\n",
              "    </tr>\n",
              "    <tr>\n",
              "      <th>2</th>\n",
              "      <td>1107</td>\n",
              "      <td>6</td>\n",
              "    </tr>\n",
              "    <tr>\n",
              "      <th>3</th>\n",
              "      <td>4478</td>\n",
              "      <td>6</td>\n",
              "    </tr>\n",
              "    <tr>\n",
              "      <th>4</th>\n",
              "      <td>5080</td>\n",
              "      <td>6</td>\n",
              "    </tr>\n",
              "  </tbody>\n",
              "</table>\n",
              "</div>"
            ],
            "text/plain": [
              "     ID  jumlah_promosi\n",
              "0  2241               6\n",
              "1  2274               6\n",
              "2  1107               6\n",
              "3  4478               6\n",
              "4  5080               6"
            ]
          },
          "execution_count": 425,
          "metadata": {},
          "output_type": "execute_result"
        }
      ],
      "source": [
        "example.head()"
      ]
    },
    {
      "cell_type": "markdown",
      "metadata": {
        "id": "dkK_vAFruPiE"
      },
      "source": [
        "# Data Assessing"
      ]
    },
    {
      "cell_type": "markdown",
      "metadata": {
        "id": "Psp6W-2Lu32X"
      },
      "source": [
        "## Informasi Umum Dataset Train Features"
      ]
    },
    {
      "cell_type": "code",
      "execution_count": 426,
      "metadata": {
        "colab": {
          "base_uri": "https://localhost:8080/"
        },
        "id": "feTYV5VzM03a",
        "outputId": "6d39a225-aad1-47a6-c7a7-1803774902c2"
      },
      "outputs": [
        {
          "name": "stdout",
          "output_type": "stream",
          "text": [
            "<class 'pandas.core.frame.DataFrame'>\n",
            "RangeIndex: 3817 entries, 0 to 3816\n",
            "Data columns (total 16 columns):\n",
            " #   Column                   Non-Null Count  Dtype  \n",
            "---  ------                   --------------  -----  \n",
            " 0   tahun_kelahiran          3817 non-null   int64  \n",
            " 1   pendidikan               3628 non-null   object \n",
            " 2   status_pernikahan        3605 non-null   object \n",
            " 3   pendapatan               3627 non-null   float64\n",
            " 4   jumlah_anak_balita       3627 non-null   float64\n",
            " 5   jumlah_anak_remaja       3613 non-null   float64\n",
            " 6   terakhir_belanja         3645 non-null   float64\n",
            " 7   belanja_buah             3636 non-null   float64\n",
            " 8   belanja_daging           3639 non-null   float64\n",
            " 9   belanja_ikan             3624 non-null   float64\n",
            " 10  belanja_kue              3603 non-null   float64\n",
            " 11  pembelian_diskon         3639 non-null   float64\n",
            " 12  pembelian_web            3652 non-null   float64\n",
            " 13  pembelian_toko           3648 non-null   float64\n",
            " 14  keluhan                  3621 non-null   float64\n",
            " 15  tanggal_menjadi_anggota  1065 non-null   object \n",
            "dtypes: float64(12), int64(1), object(3)\n",
            "memory usage: 477.3+ KB\n"
          ]
        }
      ],
      "source": [
        "trainFeatures.info()"
      ]
    },
    {
      "cell_type": "code",
      "execution_count": 427,
      "metadata": {
        "colab": {
          "base_uri": "https://localhost:8080/",
          "height": 320
        },
        "id": "z4DIuVNpdXo6",
        "outputId": "5f27646e-851a-4fde-85d7-6ffd77f9417a"
      },
      "outputs": [
        {
          "data": {
            "text/html": [
              "<div>\n",
              "<style scoped>\n",
              "    .dataframe tbody tr th:only-of-type {\n",
              "        vertical-align: middle;\n",
              "    }\n",
              "\n",
              "    .dataframe tbody tr th {\n",
              "        vertical-align: top;\n",
              "    }\n",
              "\n",
              "    .dataframe thead th {\n",
              "        text-align: right;\n",
              "    }\n",
              "</style>\n",
              "<table border=\"1\" class=\"dataframe\">\n",
              "  <thead>\n",
              "    <tr style=\"text-align: right;\">\n",
              "      <th></th>\n",
              "      <th>tahun_kelahiran</th>\n",
              "      <th>pendapatan</th>\n",
              "      <th>jumlah_anak_balita</th>\n",
              "      <th>jumlah_anak_remaja</th>\n",
              "      <th>terakhir_belanja</th>\n",
              "      <th>belanja_buah</th>\n",
              "      <th>belanja_daging</th>\n",
              "      <th>belanja_ikan</th>\n",
              "      <th>belanja_kue</th>\n",
              "      <th>pembelian_diskon</th>\n",
              "      <th>pembelian_web</th>\n",
              "      <th>pembelian_toko</th>\n",
              "      <th>keluhan</th>\n",
              "    </tr>\n",
              "  </thead>\n",
              "  <tbody>\n",
              "    <tr>\n",
              "      <th>count</th>\n",
              "      <td>3817.000000</td>\n",
              "      <td>3.627000e+03</td>\n",
              "      <td>3627.000000</td>\n",
              "      <td>3613.000000</td>\n",
              "      <td>3645.000000</td>\n",
              "      <td>3636.000000</td>\n",
              "      <td>3.639000e+03</td>\n",
              "      <td>3624.000000</td>\n",
              "      <td>3603.000000</td>\n",
              "      <td>3639.000000</td>\n",
              "      <td>3652.000000</td>\n",
              "      <td>3648.000000</td>\n",
              "      <td>3621.000000</td>\n",
              "    </tr>\n",
              "    <tr>\n",
              "      <th>mean</th>\n",
              "      <td>1967.823946</td>\n",
              "      <td>1.144832e+08</td>\n",
              "      <td>0.293080</td>\n",
              "      <td>0.353723</td>\n",
              "      <td>47.231550</td>\n",
              "      <td>59804.239824</td>\n",
              "      <td>4.385748e+05</td>\n",
              "      <td>81428.997792</td>\n",
              "      <td>63377.970580</td>\n",
              "      <td>2.125584</td>\n",
              "      <td>4.436473</td>\n",
              "      <td>5.767818</td>\n",
              "      <td>0.004971</td>\n",
              "    </tr>\n",
              "    <tr>\n",
              "      <th>std</th>\n",
              "      <td>11.768131</td>\n",
              "      <td>4.346042e+07</td>\n",
              "      <td>0.473063</td>\n",
              "      <td>0.493014</td>\n",
              "      <td>27.068512</td>\n",
              "      <td>74024.976109</td>\n",
              "      <td>5.120427e+05</td>\n",
              "      <td>99976.226855</td>\n",
              "      <td>79435.457282</td>\n",
              "      <td>2.100133</td>\n",
              "      <td>3.002522</td>\n",
              "      <td>3.210738</td>\n",
              "      <td>0.070340</td>\n",
              "    </tr>\n",
              "    <tr>\n",
              "      <th>min</th>\n",
              "      <td>1899.000000</td>\n",
              "      <td>5.073000e+06</td>\n",
              "      <td>0.000000</td>\n",
              "      <td>0.000000</td>\n",
              "      <td>0.000000</td>\n",
              "      <td>0.000000</td>\n",
              "      <td>0.000000e+00</td>\n",
              "      <td>0.000000</td>\n",
              "      <td>0.000000</td>\n",
              "      <td>0.000000</td>\n",
              "      <td>0.000000</td>\n",
              "      <td>0.000000</td>\n",
              "      <td>0.000000</td>\n",
              "    </tr>\n",
              "    <tr>\n",
              "      <th>25%</th>\n",
              "      <td>1959.000000</td>\n",
              "      <td>8.112512e+07</td>\n",
              "      <td>0.000000</td>\n",
              "      <td>0.000000</td>\n",
              "      <td>25.000000</td>\n",
              "      <td>7907.000000</td>\n",
              "      <td>4.947950e+04</td>\n",
              "      <td>10115.000000</td>\n",
              "      <td>7947.000000</td>\n",
              "      <td>0.000000</td>\n",
              "      <td>2.000000</td>\n",
              "      <td>3.000000</td>\n",
              "      <td>0.000000</td>\n",
              "    </tr>\n",
              "    <tr>\n",
              "      <th>50%</th>\n",
              "      <td>1968.000000</td>\n",
              "      <td>1.156214e+08</td>\n",
              "      <td>0.000000</td>\n",
              "      <td>0.000000</td>\n",
              "      <td>47.000000</td>\n",
              "      <td>26456.000000</td>\n",
              "      <td>2.219930e+05</td>\n",
              "      <td>36054.500000</td>\n",
              "      <td>27795.000000</td>\n",
              "      <td>2.000000</td>\n",
              "      <td>4.000000</td>\n",
              "      <td>5.000000</td>\n",
              "      <td>0.000000</td>\n",
              "    </tr>\n",
              "    <tr>\n",
              "      <th>75%</th>\n",
              "      <td>1976.000000</td>\n",
              "      <td>1.504960e+08</td>\n",
              "      <td>1.000000</td>\n",
              "      <td>1.000000</td>\n",
              "      <td>69.000000</td>\n",
              "      <td>86162.000000</td>\n",
              "      <td>6.863555e+05</td>\n",
              "      <td>121380.000000</td>\n",
              "      <td>89502.500000</td>\n",
              "      <td>3.000000</td>\n",
              "      <td>7.000000</td>\n",
              "      <td>8.000000</td>\n",
              "      <td>0.000000</td>\n",
              "    </tr>\n",
              "    <tr>\n",
              "      <th>max</th>\n",
              "      <td>2000.000000</td>\n",
              "      <td>3.328840e+08</td>\n",
              "      <td>2.000000</td>\n",
              "      <td>2.000000</td>\n",
              "      <td>128.000000</td>\n",
              "      <td>396508.000000</td>\n",
              "      <td>3.489675e+06</td>\n",
              "      <td>621600.000000</td>\n",
              "      <td>542164.000000</td>\n",
              "      <td>20.000000</td>\n",
              "      <td>30.000000</td>\n",
              "      <td>17.000000</td>\n",
              "      <td>1.000000</td>\n",
              "    </tr>\n",
              "  </tbody>\n",
              "</table>\n",
              "</div>"
            ],
            "text/plain": [
              "       tahun_kelahiran    pendapatan  jumlah_anak_balita  jumlah_anak_remaja  \\\n",
              "count      3817.000000  3.627000e+03         3627.000000         3613.000000   \n",
              "mean       1967.823946  1.144832e+08            0.293080            0.353723   \n",
              "std          11.768131  4.346042e+07            0.473063            0.493014   \n",
              "min        1899.000000  5.073000e+06            0.000000            0.000000   \n",
              "25%        1959.000000  8.112512e+07            0.000000            0.000000   \n",
              "50%        1968.000000  1.156214e+08            0.000000            0.000000   \n",
              "75%        1976.000000  1.504960e+08            1.000000            1.000000   \n",
              "max        2000.000000  3.328840e+08            2.000000            2.000000   \n",
              "\n",
              "       terakhir_belanja   belanja_buah  belanja_daging   belanja_ikan  \\\n",
              "count       3645.000000    3636.000000    3.639000e+03    3624.000000   \n",
              "mean          47.231550   59804.239824    4.385748e+05   81428.997792   \n",
              "std           27.068512   74024.976109    5.120427e+05   99976.226855   \n",
              "min            0.000000       0.000000    0.000000e+00       0.000000   \n",
              "25%           25.000000    7907.000000    4.947950e+04   10115.000000   \n",
              "50%           47.000000   26456.000000    2.219930e+05   36054.500000   \n",
              "75%           69.000000   86162.000000    6.863555e+05  121380.000000   \n",
              "max          128.000000  396508.000000    3.489675e+06  621600.000000   \n",
              "\n",
              "         belanja_kue  pembelian_diskon  pembelian_web  pembelian_toko  \\\n",
              "count    3603.000000       3639.000000    3652.000000     3648.000000   \n",
              "mean    63377.970580          2.125584       4.436473        5.767818   \n",
              "std     79435.457282          2.100133       3.002522        3.210738   \n",
              "min         0.000000          0.000000       0.000000        0.000000   \n",
              "25%      7947.000000          0.000000       2.000000        3.000000   \n",
              "50%     27795.000000          2.000000       4.000000        5.000000   \n",
              "75%     89502.500000          3.000000       7.000000        8.000000   \n",
              "max    542164.000000         20.000000      30.000000       17.000000   \n",
              "\n",
              "           keluhan  \n",
              "count  3621.000000  \n",
              "mean      0.004971  \n",
              "std       0.070340  \n",
              "min       0.000000  \n",
              "25%       0.000000  \n",
              "50%       0.000000  \n",
              "75%       0.000000  \n",
              "max       1.000000  "
            ]
          },
          "execution_count": 427,
          "metadata": {},
          "output_type": "execute_result"
        }
      ],
      "source": [
        "trainFeatures.describe()"
      ]
    },
    {
      "cell_type": "markdown",
      "metadata": {
        "id": "1piJJr4eu8-R"
      },
      "source": [
        "## Cek Nilai Null Dataset Train Features"
      ]
    },
    {
      "cell_type": "code",
      "execution_count": 428,
      "metadata": {
        "colab": {
          "base_uri": "https://localhost:8080/"
        },
        "id": "L_9QDPvxddmr",
        "outputId": "7cc888d5-91b6-4bda-d3af-954e6ba86045"
      },
      "outputs": [
        {
          "data": {
            "text/plain": [
              "tahun_kelahiran               0\n",
              "pendidikan                  189\n",
              "status_pernikahan           212\n",
              "pendapatan                  190\n",
              "jumlah_anak_balita          190\n",
              "jumlah_anak_remaja          204\n",
              "terakhir_belanja            172\n",
              "belanja_buah                181\n",
              "belanja_daging              178\n",
              "belanja_ikan                193\n",
              "belanja_kue                 214\n",
              "pembelian_diskon            178\n",
              "pembelian_web               165\n",
              "pembelian_toko              169\n",
              "keluhan                     196\n",
              "tanggal_menjadi_anggota    2752\n",
              "dtype: int64"
            ]
          },
          "execution_count": 428,
          "metadata": {},
          "output_type": "execute_result"
        }
      ],
      "source": [
        "trainFeatures.isnull().sum()"
      ]
    },
    {
      "cell_type": "markdown",
      "metadata": {
        "id": "Jq1rp2vrvFDp"
      },
      "source": [
        "## Cek Nilai Duplikat Dataset Train Features"
      ]
    },
    {
      "cell_type": "code",
      "execution_count": 429,
      "metadata": {
        "colab": {
          "base_uri": "https://localhost:8080/"
        },
        "id": "1n3lMmbAvRL-",
        "outputId": "43dd9afb-28a7-425e-f999-50cba6336a88"
      },
      "outputs": [
        {
          "data": {
            "text/plain": [
              "0"
            ]
          },
          "execution_count": 429,
          "metadata": {},
          "output_type": "execute_result"
        }
      ],
      "source": [
        "trainFeatures.duplicated().sum()"
      ]
    },
    {
      "cell_type": "markdown",
      "metadata": {
        "id": "74ciVYpkv2Q3"
      },
      "source": [
        "# Data Cleaning"
      ]
    },
    {
      "cell_type": "markdown",
      "metadata": {
        "id": "iUo5NxV4v7XB"
      },
      "source": [
        "## Kolom Pendidikan"
      ]
    },
    {
      "cell_type": "code",
      "execution_count": 430,
      "metadata": {
        "colab": {
          "base_uri": "https://localhost:8080/"
        },
        "id": "L5Ii6sBSivmn",
        "outputId": "b35a14fc-6a7f-4cba-bf17-6be74d29c478"
      },
      "outputs": [
        {
          "data": {
            "text/plain": [
              "array(['Sarjana', 'Magister', 'SMA', 'SMP', 'Doktor', nan, '5'],\n",
              "      dtype=object)"
            ]
          },
          "execution_count": 430,
          "metadata": {},
          "output_type": "execute_result"
        }
      ],
      "source": [
        "# Cek Nilai Unique\n",
        "trainFeatures['pendidikan'].unique()"
      ]
    },
    {
      "cell_type": "markdown",
      "metadata": {
        "id": "fR7L7DXOwZgX"
      },
      "source": [
        "Terdapat dua nilai salah yaitu nan dan '5'. Maka perlu dibersihkan pada dua nilai tersebut."
      ]
    },
    {
      "cell_type": "markdown",
      "metadata": {
        "id": "fETtVqmz9HRq"
      },
      "source": [
        "### Olah Data dengan Nilai Unique '5'"
      ]
    },
    {
      "cell_type": "code",
      "execution_count": 431,
      "metadata": {
        "colab": {
          "base_uri": "https://localhost:8080/",
          "height": 132
        },
        "id": "_biw-YdWkAMy",
        "outputId": "f841f601-52c7-472d-f452-a65849b7e8b6"
      },
      "outputs": [
        {
          "data": {
            "text/html": [
              "<div>\n",
              "<style scoped>\n",
              "    .dataframe tbody tr th:only-of-type {\n",
              "        vertical-align: middle;\n",
              "    }\n",
              "\n",
              "    .dataframe tbody tr th {\n",
              "        vertical-align: top;\n",
              "    }\n",
              "\n",
              "    .dataframe thead th {\n",
              "        text-align: right;\n",
              "    }\n",
              "</style>\n",
              "<table border=\"1\" class=\"dataframe\">\n",
              "  <thead>\n",
              "    <tr style=\"text-align: right;\">\n",
              "      <th></th>\n",
              "      <th>tahun_kelahiran</th>\n",
              "      <th>pendidikan</th>\n",
              "      <th>status_pernikahan</th>\n",
              "      <th>pendapatan</th>\n",
              "      <th>jumlah_anak_balita</th>\n",
              "      <th>jumlah_anak_remaja</th>\n",
              "      <th>terakhir_belanja</th>\n",
              "      <th>belanja_buah</th>\n",
              "      <th>belanja_daging</th>\n",
              "      <th>belanja_ikan</th>\n",
              "      <th>belanja_kue</th>\n",
              "      <th>pembelian_diskon</th>\n",
              "      <th>pembelian_web</th>\n",
              "      <th>pembelian_toko</th>\n",
              "      <th>keluhan</th>\n",
              "      <th>tanggal_menjadi_anggota</th>\n",
              "    </tr>\n",
              "  </thead>\n",
              "  <tbody>\n",
              "    <tr>\n",
              "      <th>309</th>\n",
              "      <td>1958</td>\n",
              "      <td>5</td>\n",
              "      <td>Sendiri</td>\n",
              "      <td>64570844.0</td>\n",
              "      <td>1.0</td>\n",
              "      <td>1.0</td>\n",
              "      <td>7.0</td>\n",
              "      <td>4810.0</td>\n",
              "      <td>6113.0</td>\n",
              "      <td>4359.0</td>\n",
              "      <td>7597.0</td>\n",
              "      <td>3.0</td>\n",
              "      <td>1.0</td>\n",
              "      <td>4.0</td>\n",
              "      <td>0.0</td>\n",
              "      <td>NaN</td>\n",
              "    </tr>\n",
              "    <tr>\n",
              "      <th>1596</th>\n",
              "      <td>1977</td>\n",
              "      <td>5</td>\n",
              "      <td>Menikah</td>\n",
              "      <td>136702741.0</td>\n",
              "      <td>0.0</td>\n",
              "      <td>0.0</td>\n",
              "      <td>86.0</td>\n",
              "      <td>51072.0</td>\n",
              "      <td>1477175.0</td>\n",
              "      <td>211531.0</td>\n",
              "      <td>86926.0</td>\n",
              "      <td>3.0</td>\n",
              "      <td>3.0</td>\n",
              "      <td>13.0</td>\n",
              "      <td>0.0</td>\n",
              "      <td>NaN</td>\n",
              "    </tr>\n",
              "  </tbody>\n",
              "</table>\n",
              "</div>"
            ],
            "text/plain": [
              "      tahun_kelahiran pendidikan status_pernikahan   pendapatan  \\\n",
              "309              1958          5           Sendiri   64570844.0   \n",
              "1596             1977          5           Menikah  136702741.0   \n",
              "\n",
              "      jumlah_anak_balita  jumlah_anak_remaja  terakhir_belanja  belanja_buah  \\\n",
              "309                  1.0                 1.0               7.0        4810.0   \n",
              "1596                 0.0                 0.0              86.0       51072.0   \n",
              "\n",
              "      belanja_daging  belanja_ikan  belanja_kue  pembelian_diskon  \\\n",
              "309           6113.0        4359.0       7597.0               3.0   \n",
              "1596       1477175.0      211531.0      86926.0               3.0   \n",
              "\n",
              "      pembelian_web  pembelian_toko  keluhan tanggal_menjadi_anggota  \n",
              "309             1.0             4.0      0.0                     NaN  \n",
              "1596            3.0            13.0      0.0                     NaN  "
            ]
          },
          "execution_count": 431,
          "metadata": {},
          "output_type": "execute_result"
        }
      ],
      "source": [
        "# Ambil contoh nilai pada kolom pendidikan dengan nilai '5'\n",
        "trainFeatures[trainFeatures['pendidikan'] == '5'].head()"
      ]
    },
    {
      "cell_type": "code",
      "execution_count": 432,
      "metadata": {
        "id": "TR8SH47equIy"
      },
      "outputs": [],
      "source": [
        "# Mengambil indeks data dengan nilai unique '5'\n",
        "dropPendidikan = trainFeatures[trainFeatures['pendidikan'] == '5'].index\n",
        "# Menghapus nilai dengan indeks tersebut\n",
        "trainFeatures.drop(dropPendidikan, inplace=True)"
      ]
    },
    {
      "cell_type": "markdown",
      "metadata": {
        "id": "407u4fIXxP39"
      },
      "source": [
        "Saat ini nilai dengan inputan '5' sudah terhapus, karena hanya terdapat 2 data saja maka dapat dikatakan aman untuk dihapus.\n",
        "\n",
        "Selanjutnya yaitu menangani data dengan inputan nan. Untuk langkah yang diambil yaitu mengecek seberapa banyak nilai nan yang ada. Jika jumlah terbilang sedikit, langkah yang diambil adalah menghapus nilai tersebut (seperti pada inputan '5' sebelumnya). Namun, jika jumlahnya terbilang cukup banyak, maka langkah yang diambil yaitu mengubah setiap nilai nan menjadi nilai modus pada kolom **pendidikan**."
      ]
    },
    {
      "cell_type": "markdown",
      "metadata": {
        "id": "gKREKga39fxO"
      },
      "source": [
        "### Olah Data dengan Nilai Unique NaN"
      ]
    },
    {
      "cell_type": "code",
      "execution_count": 433,
      "metadata": {
        "colab": {
          "base_uri": "https://localhost:8080/",
          "height": 435
        },
        "id": "G9u__T4IyUTa",
        "outputId": "d210030f-e739-4c49-9672-d5e24de5917b"
      },
      "outputs": [
        {
          "name": "stdout",
          "output_type": "stream",
          "text": [
            "Banyak Data dengan inputan nan: 189 \n",
            "\n",
            "Dengan sample data sebagai berikut: \n"
          ]
        },
        {
          "data": {
            "text/html": [
              "<div>\n",
              "<style scoped>\n",
              "    .dataframe tbody tr th:only-of-type {\n",
              "        vertical-align: middle;\n",
              "    }\n",
              "\n",
              "    .dataframe tbody tr th {\n",
              "        vertical-align: top;\n",
              "    }\n",
              "\n",
              "    .dataframe thead th {\n",
              "        text-align: right;\n",
              "    }\n",
              "</style>\n",
              "<table border=\"1\" class=\"dataframe\">\n",
              "  <thead>\n",
              "    <tr style=\"text-align: right;\">\n",
              "      <th></th>\n",
              "      <th>tahun_kelahiran</th>\n",
              "      <th>pendidikan</th>\n",
              "      <th>status_pernikahan</th>\n",
              "      <th>pendapatan</th>\n",
              "      <th>jumlah_anak_balita</th>\n",
              "      <th>jumlah_anak_remaja</th>\n",
              "      <th>terakhir_belanja</th>\n",
              "      <th>belanja_buah</th>\n",
              "      <th>belanja_daging</th>\n",
              "      <th>belanja_ikan</th>\n",
              "      <th>belanja_kue</th>\n",
              "      <th>pembelian_diskon</th>\n",
              "      <th>pembelian_web</th>\n",
              "      <th>pembelian_toko</th>\n",
              "      <th>keluhan</th>\n",
              "      <th>tanggal_menjadi_anggota</th>\n",
              "    </tr>\n",
              "  </thead>\n",
              "  <tbody>\n",
              "    <tr>\n",
              "      <th>1235</th>\n",
              "      <td>1962</td>\n",
              "      <td>NaN</td>\n",
              "      <td>Sendiri</td>\n",
              "      <td>166147421.0</td>\n",
              "      <td>0.0</td>\n",
              "      <td>0.0</td>\n",
              "      <td>88.0</td>\n",
              "      <td>155560.0</td>\n",
              "      <td>1812237.0</td>\n",
              "      <td>76382.0</td>\n",
              "      <td>154726.0</td>\n",
              "      <td>0.0</td>\n",
              "      <td>6.0</td>\n",
              "      <td>10.0</td>\n",
              "      <td>0.0</td>\n",
              "      <td>NaN</td>\n",
              "    </tr>\n",
              "    <tr>\n",
              "      <th>1194</th>\n",
              "      <td>1977</td>\n",
              "      <td>NaN</td>\n",
              "      <td>Menikah</td>\n",
              "      <td>78885377.0</td>\n",
              "      <td>1.0</td>\n",
              "      <td>0.0</td>\n",
              "      <td>5.0</td>\n",
              "      <td>9298.0</td>\n",
              "      <td>47382.0</td>\n",
              "      <td>12125.0</td>\n",
              "      <td>2437.0</td>\n",
              "      <td>3.0</td>\n",
              "      <td>0.0</td>\n",
              "      <td>4.0</td>\n",
              "      <td>0.0</td>\n",
              "      <td>NaN</td>\n",
              "    </tr>\n",
              "    <tr>\n",
              "      <th>2683</th>\n",
              "      <td>1976</td>\n",
              "      <td>NaN</td>\n",
              "      <td>Sendiri</td>\n",
              "      <td>100945727.0</td>\n",
              "      <td>0.0</td>\n",
              "      <td>NaN</td>\n",
              "      <td>98.0</td>\n",
              "      <td>11768.0</td>\n",
              "      <td>171276.0</td>\n",
              "      <td>738.0</td>\n",
              "      <td>19860.0</td>\n",
              "      <td>0.0</td>\n",
              "      <td>5.0</td>\n",
              "      <td>5.0</td>\n",
              "      <td>NaN</td>\n",
              "      <td>NaN</td>\n",
              "    </tr>\n",
              "    <tr>\n",
              "      <th>2211</th>\n",
              "      <td>1977</td>\n",
              "      <td>NaN</td>\n",
              "      <td>Rencana Menikah</td>\n",
              "      <td>45959126.0</td>\n",
              "      <td>1.0</td>\n",
              "      <td>0.0</td>\n",
              "      <td>18.0</td>\n",
              "      <td>13448.0</td>\n",
              "      <td>NaN</td>\n",
              "      <td>33505.0</td>\n",
              "      <td>3390.0</td>\n",
              "      <td>2.0</td>\n",
              "      <td>0.0</td>\n",
              "      <td>1.0</td>\n",
              "      <td>0.0</td>\n",
              "      <td>NaN</td>\n",
              "    </tr>\n",
              "    <tr>\n",
              "      <th>590</th>\n",
              "      <td>1973</td>\n",
              "      <td>NaN</td>\n",
              "      <td>Rencana Menikah</td>\n",
              "      <td>92281916.0</td>\n",
              "      <td>0.0</td>\n",
              "      <td>1.0</td>\n",
              "      <td>57.0</td>\n",
              "      <td>137375.0</td>\n",
              "      <td>287506.0</td>\n",
              "      <td>249047.0</td>\n",
              "      <td>198114.0</td>\n",
              "      <td>5.0</td>\n",
              "      <td>8.0</td>\n",
              "      <td>4.0</td>\n",
              "      <td>0.0</td>\n",
              "      <td>NaN</td>\n",
              "    </tr>\n",
              "    <tr>\n",
              "      <th>258</th>\n",
              "      <td>1963</td>\n",
              "      <td>NaN</td>\n",
              "      <td>Rencana Menikah</td>\n",
              "      <td>119591357.0</td>\n",
              "      <td>0.0</td>\n",
              "      <td>1.0</td>\n",
              "      <td>25.0</td>\n",
              "      <td>16646.0</td>\n",
              "      <td>296940.0</td>\n",
              "      <td>23610.0</td>\n",
              "      <td>39476.0</td>\n",
              "      <td>3.0</td>\n",
              "      <td>5.0</td>\n",
              "      <td>9.0</td>\n",
              "      <td>0.0</td>\n",
              "      <td>NaN</td>\n",
              "    </tr>\n",
              "    <tr>\n",
              "      <th>3451</th>\n",
              "      <td>1951</td>\n",
              "      <td>NaN</td>\n",
              "      <td>Menikah</td>\n",
              "      <td>131968770.0</td>\n",
              "      <td>0.0</td>\n",
              "      <td>1.0</td>\n",
              "      <td>25.0</td>\n",
              "      <td>80170.0</td>\n",
              "      <td>285983.0</td>\n",
              "      <td>77895.0</td>\n",
              "      <td>56687.0</td>\n",
              "      <td>2.0</td>\n",
              "      <td>8.0</td>\n",
              "      <td>9.0</td>\n",
              "      <td>0.0</td>\n",
              "      <td>NaN</td>\n",
              "    </tr>\n",
              "    <tr>\n",
              "      <th>1057</th>\n",
              "      <td>1959</td>\n",
              "      <td>NaN</td>\n",
              "      <td>Sendiri</td>\n",
              "      <td>180019000.0</td>\n",
              "      <td>0.0</td>\n",
              "      <td>0.0</td>\n",
              "      <td>15.0</td>\n",
              "      <td>60690.0</td>\n",
              "      <td>1755964.0</td>\n",
              "      <td>50575.0</td>\n",
              "      <td>32368.0</td>\n",
              "      <td>1.0</td>\n",
              "      <td>5.0</td>\n",
              "      <td>5.0</td>\n",
              "      <td>0.0</td>\n",
              "      <td>2013-11-18</td>\n",
              "    </tr>\n",
              "    <tr>\n",
              "      <th>1311</th>\n",
              "      <td>1974</td>\n",
              "      <td>NaN</td>\n",
              "      <td>Menikah</td>\n",
              "      <td>52694000.0</td>\n",
              "      <td>1.0</td>\n",
              "      <td>0.0</td>\n",
              "      <td>41.0</td>\n",
              "      <td>18207.0</td>\n",
              "      <td>28322.0</td>\n",
              "      <td>20230.0</td>\n",
              "      <td>10115.0</td>\n",
              "      <td>2.0</td>\n",
              "      <td>0.0</td>\n",
              "      <td>1.0</td>\n",
              "      <td>0.0</td>\n",
              "      <td>2014-03-13</td>\n",
              "    </tr>\n",
              "    <tr>\n",
              "      <th>210</th>\n",
              "      <td>1973</td>\n",
              "      <td>NaN</td>\n",
              "      <td>Menikah</td>\n",
              "      <td>80923000.0</td>\n",
              "      <td>1.0</td>\n",
              "      <td>1.0</td>\n",
              "      <td>96.0</td>\n",
              "      <td>6069.0</td>\n",
              "      <td>24276.0</td>\n",
              "      <td>0.0</td>\n",
              "      <td>NaN</td>\n",
              "      <td>2.0</td>\n",
              "      <td>4.0</td>\n",
              "      <td>5.0</td>\n",
              "      <td>0.0</td>\n",
              "      <td>2014-05-26</td>\n",
              "    </tr>\n",
              "  </tbody>\n",
              "</table>\n",
              "</div>"
            ],
            "text/plain": [
              "      tahun_kelahiran pendidikan status_pernikahan   pendapatan  \\\n",
              "1235             1962        NaN           Sendiri  166147421.0   \n",
              "1194             1977        NaN           Menikah   78885377.0   \n",
              "2683             1976        NaN           Sendiri  100945727.0   \n",
              "2211             1977        NaN   Rencana Menikah   45959126.0   \n",
              "590              1973        NaN   Rencana Menikah   92281916.0   \n",
              "258              1963        NaN   Rencana Menikah  119591357.0   \n",
              "3451             1951        NaN           Menikah  131968770.0   \n",
              "1057             1959        NaN           Sendiri  180019000.0   \n",
              "1311             1974        NaN           Menikah   52694000.0   \n",
              "210              1973        NaN           Menikah   80923000.0   \n",
              "\n",
              "      jumlah_anak_balita  jumlah_anak_remaja  terakhir_belanja  belanja_buah  \\\n",
              "1235                 0.0                 0.0              88.0      155560.0   \n",
              "1194                 1.0                 0.0               5.0        9298.0   \n",
              "2683                 0.0                 NaN              98.0       11768.0   \n",
              "2211                 1.0                 0.0              18.0       13448.0   \n",
              "590                  0.0                 1.0              57.0      137375.0   \n",
              "258                  0.0                 1.0              25.0       16646.0   \n",
              "3451                 0.0                 1.0              25.0       80170.0   \n",
              "1057                 0.0                 0.0              15.0       60690.0   \n",
              "1311                 1.0                 0.0              41.0       18207.0   \n",
              "210                  1.0                 1.0              96.0        6069.0   \n",
              "\n",
              "      belanja_daging  belanja_ikan  belanja_kue  pembelian_diskon  \\\n",
              "1235       1812237.0       76382.0     154726.0               0.0   \n",
              "1194         47382.0       12125.0       2437.0               3.0   \n",
              "2683        171276.0         738.0      19860.0               0.0   \n",
              "2211             NaN       33505.0       3390.0               2.0   \n",
              "590         287506.0      249047.0     198114.0               5.0   \n",
              "258         296940.0       23610.0      39476.0               3.0   \n",
              "3451        285983.0       77895.0      56687.0               2.0   \n",
              "1057       1755964.0       50575.0      32368.0               1.0   \n",
              "1311         28322.0       20230.0      10115.0               2.0   \n",
              "210          24276.0           0.0          NaN               2.0   \n",
              "\n",
              "      pembelian_web  pembelian_toko  keluhan tanggal_menjadi_anggota  \n",
              "1235            6.0            10.0      0.0                     NaN  \n",
              "1194            0.0             4.0      0.0                     NaN  \n",
              "2683            5.0             5.0      NaN                     NaN  \n",
              "2211            0.0             1.0      0.0                     NaN  \n",
              "590             8.0             4.0      0.0                     NaN  \n",
              "258             5.0             9.0      0.0                     NaN  \n",
              "3451            8.0             9.0      0.0                     NaN  \n",
              "1057            5.0             5.0      0.0              2013-11-18  \n",
              "1311            0.0             1.0      0.0              2014-03-13  \n",
              "210             4.0             5.0      0.0              2014-05-26  "
            ]
          },
          "execution_count": 433,
          "metadata": {},
          "output_type": "execute_result"
        }
      ],
      "source": [
        "# Mengambil sample data dengan inputan nan\n",
        "dataNanPendidikan = trainFeatures[trainFeatures['pendidikan'].isnull()]\n",
        "\n",
        "# Mengecek Banyak Baris Data\n",
        "print('Banyak Data dengan inputan nan:', dataNanPendidikan.shape[0], '\\n')\n",
        "print('Dengan sample data sebagai berikut: ')\n",
        "dataNanPendidikan.sample(10)"
      ]
    },
    {
      "cell_type": "markdown",
      "metadata": {
        "id": "YjtiVdDAzLWv"
      },
      "source": [
        "Dikarenakan jumlah dari data nan cukup banyak, maka akan dilakukan pengubahan isi dengan data modus pada kolom **pendidikan**."
      ]
    },
    {
      "cell_type": "code",
      "execution_count": 434,
      "metadata": {
        "colab": {
          "base_uri": "https://localhost:8080/"
        },
        "id": "mH9PAQ4PkCgA",
        "outputId": "0f75da69-a62b-45e3-a724-af9fca5ba2b7"
      },
      "outputs": [
        {
          "name": "stdout",
          "output_type": "stream",
          "text": [
            "Nilai dengan modus terbanyak adalah Sarjana\n"
          ]
        }
      ],
      "source": [
        "# Mengambil jumlah isi terbanyak pada kolom pendidikan\n",
        "modePendidikan = trainFeatures['pendidikan'].mode()[0]\n",
        "print('Nilai dengan modus terbanyak adalah', modePendidikan)"
      ]
    },
    {
      "cell_type": "code",
      "execution_count": 435,
      "metadata": {
        "id": "_KeArtf4re5S"
      },
      "outputs": [],
      "source": [
        "# Mengubah nilai nan menjadi nilai modus\n",
        "trainFeatures['pendidikan'] = trainFeatures['pendidikan'].fillna(modePendidikan)"
      ]
    },
    {
      "cell_type": "code",
      "execution_count": 436,
      "metadata": {
        "colab": {
          "base_uri": "https://localhost:8080/"
        },
        "id": "eFJ0YxDX5WZU",
        "outputId": "4219d5fe-6d66-4f01-a163-40e269e4b325"
      },
      "outputs": [
        {
          "data": {
            "text/plain": [
              "array(['Sarjana', 'Magister', 'SMA', 'SMP', 'Doktor'], dtype=object)"
            ]
          },
          "execution_count": 436,
          "metadata": {},
          "output_type": "execute_result"
        }
      ],
      "source": [
        "# Cek ulang nilai unique\n",
        "trainFeatures['pendidikan'].unique()"
      ]
    },
    {
      "cell_type": "markdown",
      "metadata": {
        "id": "-3QumGrJ5mKU"
      },
      "source": [
        "Pada saat ini, kondisi kolom **pendidikan** sudah normal."
      ]
    },
    {
      "cell_type": "markdown",
      "metadata": {
        "id": "teUdIuuj6R5y"
      },
      "source": [
        "## Kolom Status Pernikahan"
      ]
    },
    {
      "cell_type": "code",
      "execution_count": 437,
      "metadata": {
        "colab": {
          "base_uri": "https://localhost:8080/"
        },
        "id": "zhKEJXMtsP-O",
        "outputId": "9f5e00a2-84d3-47fb-a8ae-5658b4cba8f5"
      },
      "outputs": [
        {
          "data": {
            "text/plain": [
              "array(['Rencana Menikah', 'Menikah', 'Sendiri', 'Cerai', nan,\n",
              "       'Cerai Mati', '5'], dtype=object)"
            ]
          },
          "execution_count": 437,
          "metadata": {},
          "output_type": "execute_result"
        }
      ],
      "source": [
        "# Cek Nilai Unique\n",
        "trainFeatures['status_pernikahan'].unique()"
      ]
    },
    {
      "cell_type": "markdown",
      "metadata": {
        "id": "FqaG_Vjw6fft"
      },
      "source": [
        "Mirip dengan kolom Pendidikan, terdapat dua nilai tidak sesuai pada kolom **Status Pernikahan** yaitu '5' dan nan. Maka perlu dilakukan proses yang sama dengan kolom Pendidikan yaitu meninjau setiap invalid value yang ada untuk dilakukan langkah lebih lanjut."
      ]
    },
    {
      "cell_type": "markdown",
      "metadata": {
        "id": "GQ_PRzbK8DYq"
      },
      "source": [
        "### Olah Data dengan Nilai Unique '5'"
      ]
    },
    {
      "cell_type": "code",
      "execution_count": 438,
      "metadata": {
        "colab": {
          "base_uri": "https://localhost:8080/",
          "height": 100
        },
        "id": "SfD3wvS2secX",
        "outputId": "8e311b39-b7bb-4f09-ccb1-b95abf99b094"
      },
      "outputs": [
        {
          "data": {
            "text/html": [
              "<div>\n",
              "<style scoped>\n",
              "    .dataframe tbody tr th:only-of-type {\n",
              "        vertical-align: middle;\n",
              "    }\n",
              "\n",
              "    .dataframe tbody tr th {\n",
              "        vertical-align: top;\n",
              "    }\n",
              "\n",
              "    .dataframe thead th {\n",
              "        text-align: right;\n",
              "    }\n",
              "</style>\n",
              "<table border=\"1\" class=\"dataframe\">\n",
              "  <thead>\n",
              "    <tr style=\"text-align: right;\">\n",
              "      <th></th>\n",
              "      <th>tahun_kelahiran</th>\n",
              "      <th>pendidikan</th>\n",
              "      <th>status_pernikahan</th>\n",
              "      <th>pendapatan</th>\n",
              "      <th>jumlah_anak_balita</th>\n",
              "      <th>jumlah_anak_remaja</th>\n",
              "      <th>terakhir_belanja</th>\n",
              "      <th>belanja_buah</th>\n",
              "      <th>belanja_daging</th>\n",
              "      <th>belanja_ikan</th>\n",
              "      <th>belanja_kue</th>\n",
              "      <th>pembelian_diskon</th>\n",
              "      <th>pembelian_web</th>\n",
              "      <th>pembelian_toko</th>\n",
              "      <th>keluhan</th>\n",
              "      <th>tanggal_menjadi_anggota</th>\n",
              "    </tr>\n",
              "  </thead>\n",
              "  <tbody>\n",
              "    <tr>\n",
              "      <th>522</th>\n",
              "      <td>1944</td>\n",
              "      <td>Doktor</td>\n",
              "      <td>5</td>\n",
              "      <td>113851181.0</td>\n",
              "      <td>1.0</td>\n",
              "      <td>0.0</td>\n",
              "      <td>42.0</td>\n",
              "      <td>14161.0</td>\n",
              "      <td>27044.0</td>\n",
              "      <td>NaN</td>\n",
              "      <td>7791.0</td>\n",
              "      <td>1.0</td>\n",
              "      <td>0.0</td>\n",
              "      <td>0.0</td>\n",
              "      <td>0.0</td>\n",
              "      <td>NaN</td>\n",
              "    </tr>\n",
              "  </tbody>\n",
              "</table>\n",
              "</div>"
            ],
            "text/plain": [
              "     tahun_kelahiran pendidikan status_pernikahan   pendapatan  \\\n",
              "522             1944     Doktor                 5  113851181.0   \n",
              "\n",
              "     jumlah_anak_balita  jumlah_anak_remaja  terakhir_belanja  belanja_buah  \\\n",
              "522                 1.0                 0.0              42.0       14161.0   \n",
              "\n",
              "     belanja_daging  belanja_ikan  belanja_kue  pembelian_diskon  \\\n",
              "522         27044.0           NaN       7791.0               1.0   \n",
              "\n",
              "     pembelian_web  pembelian_toko  keluhan tanggal_menjadi_anggota  \n",
              "522            0.0             0.0      0.0                     NaN  "
            ]
          },
          "execution_count": 438,
          "metadata": {},
          "output_type": "execute_result"
        }
      ],
      "source": [
        "# Mengambil sample data dengan nilai unique '5'\n",
        "trainFeatures[trainFeatures['status_pernikahan'] == '5']"
      ]
    },
    {
      "cell_type": "markdown",
      "metadata": {
        "id": "ZRWQD7hZ7Ktq"
      },
      "source": [
        "Dikarenakan hanya terdapat satu nilai saja dengan value '5', maka dapat dihapus saja karena tidak terlalu berpengaruh terhadap keseluruhan data."
      ]
    },
    {
      "cell_type": "code",
      "execution_count": 439,
      "metadata": {
        "id": "aHpuBdSYtVgq"
      },
      "outputs": [],
      "source": [
        "# Mengambil data dengan nilai unique '5'\n",
        "dropStatusNikah = trainFeatures[trainFeatures['status_pernikahan'] == '5'].index\n",
        "# Menghapus data\n",
        "trainFeatures.drop(dropStatusNikah, inplace=True)"
      ]
    },
    {
      "cell_type": "markdown",
      "metadata": {
        "id": "SdmFGK8X8KdZ"
      },
      "source": [
        "### Olah Data dengan Nilai Unique NaN"
      ]
    },
    {
      "cell_type": "code",
      "execution_count": 440,
      "metadata": {
        "colab": {
          "base_uri": "https://localhost:8080/",
          "height": 435
        },
        "id": "rluuHrfF7-6W",
        "outputId": "a363f983-5ca0-4f8f-8bcd-a7da034e7729"
      },
      "outputs": [
        {
          "name": "stdout",
          "output_type": "stream",
          "text": [
            "Banyak Data dengan inputan nan: 212 \n",
            "\n",
            "Dengan sample data sebagai berikut: \n"
          ]
        },
        {
          "data": {
            "text/html": [
              "<div>\n",
              "<style scoped>\n",
              "    .dataframe tbody tr th:only-of-type {\n",
              "        vertical-align: middle;\n",
              "    }\n",
              "\n",
              "    .dataframe tbody tr th {\n",
              "        vertical-align: top;\n",
              "    }\n",
              "\n",
              "    .dataframe thead th {\n",
              "        text-align: right;\n",
              "    }\n",
              "</style>\n",
              "<table border=\"1\" class=\"dataframe\">\n",
              "  <thead>\n",
              "    <tr style=\"text-align: right;\">\n",
              "      <th></th>\n",
              "      <th>tahun_kelahiran</th>\n",
              "      <th>pendidikan</th>\n",
              "      <th>status_pernikahan</th>\n",
              "      <th>pendapatan</th>\n",
              "      <th>jumlah_anak_balita</th>\n",
              "      <th>jumlah_anak_remaja</th>\n",
              "      <th>terakhir_belanja</th>\n",
              "      <th>belanja_buah</th>\n",
              "      <th>belanja_daging</th>\n",
              "      <th>belanja_ikan</th>\n",
              "      <th>belanja_kue</th>\n",
              "      <th>pembelian_diskon</th>\n",
              "      <th>pembelian_web</th>\n",
              "      <th>pembelian_toko</th>\n",
              "      <th>keluhan</th>\n",
              "      <th>tanggal_menjadi_anggota</th>\n",
              "    </tr>\n",
              "  </thead>\n",
              "  <tbody>\n",
              "    <tr>\n",
              "      <th>1677</th>\n",
              "      <td>1978</td>\n",
              "      <td>Magister</td>\n",
              "      <td>NaN</td>\n",
              "      <td>143442074.0</td>\n",
              "      <td>0.0</td>\n",
              "      <td>1.0</td>\n",
              "      <td>44.0</td>\n",
              "      <td>31218.0</td>\n",
              "      <td>336760.0</td>\n",
              "      <td>99933.0</td>\n",
              "      <td>74948.0</td>\n",
              "      <td>3.0</td>\n",
              "      <td>8.0</td>\n",
              "      <td>10.0</td>\n",
              "      <td>0.0</td>\n",
              "      <td>NaN</td>\n",
              "    </tr>\n",
              "    <tr>\n",
              "      <th>1055</th>\n",
              "      <td>1980</td>\n",
              "      <td>Magister</td>\n",
              "      <td>NaN</td>\n",
              "      <td>138329376.0</td>\n",
              "      <td>0.0</td>\n",
              "      <td>0.0</td>\n",
              "      <td>71.0</td>\n",
              "      <td>200187.0</td>\n",
              "      <td>586027.0</td>\n",
              "      <td>40872.0</td>\n",
              "      <td>267657.0</td>\n",
              "      <td>0.0</td>\n",
              "      <td>7.0</td>\n",
              "      <td>4.0</td>\n",
              "      <td>0.0</td>\n",
              "      <td>NaN</td>\n",
              "    </tr>\n",
              "    <tr>\n",
              "      <th>3808</th>\n",
              "      <td>1963</td>\n",
              "      <td>Magister</td>\n",
              "      <td>NaN</td>\n",
              "      <td>117190625.0</td>\n",
              "      <td>0.0</td>\n",
              "      <td>1.0</td>\n",
              "      <td>69.0</td>\n",
              "      <td>2545.0</td>\n",
              "      <td>106247.0</td>\n",
              "      <td>1044.0</td>\n",
              "      <td>11880.0</td>\n",
              "      <td>1.0</td>\n",
              "      <td>3.0</td>\n",
              "      <td>11.0</td>\n",
              "      <td>0.0</td>\n",
              "      <td>NaN</td>\n",
              "    </tr>\n",
              "    <tr>\n",
              "      <th>320</th>\n",
              "      <td>1973</td>\n",
              "      <td>Sarjana</td>\n",
              "      <td>NaN</td>\n",
              "      <td>46920000.0</td>\n",
              "      <td>1.0</td>\n",
              "      <td>0.0</td>\n",
              "      <td>11.0</td>\n",
              "      <td>12138.0</td>\n",
              "      <td>NaN</td>\n",
              "      <td>26299.0</td>\n",
              "      <td>4046.0</td>\n",
              "      <td>4.0</td>\n",
              "      <td>1.0</td>\n",
              "      <td>2.0</td>\n",
              "      <td>0.0</td>\n",
              "      <td>2013-06-07</td>\n",
              "    </tr>\n",
              "    <tr>\n",
              "      <th>2103</th>\n",
              "      <td>1965</td>\n",
              "      <td>Sarjana</td>\n",
              "      <td>NaN</td>\n",
              "      <td>85508180.0</td>\n",
              "      <td>1.0</td>\n",
              "      <td>1.0</td>\n",
              "      <td>11.0</td>\n",
              "      <td>4006.0</td>\n",
              "      <td>193358.0</td>\n",
              "      <td>48097.0</td>\n",
              "      <td>60176.0</td>\n",
              "      <td>8.0</td>\n",
              "      <td>7.0</td>\n",
              "      <td>5.0</td>\n",
              "      <td>0.0</td>\n",
              "      <td>NaN</td>\n",
              "    </tr>\n",
              "    <tr>\n",
              "      <th>812</th>\n",
              "      <td>1974</td>\n",
              "      <td>Sarjana</td>\n",
              "      <td>NaN</td>\n",
              "      <td>85866146.0</td>\n",
              "      <td>1.0</td>\n",
              "      <td>0.0</td>\n",
              "      <td>45.0</td>\n",
              "      <td>19627.0</td>\n",
              "      <td>219139.0</td>\n",
              "      <td>25179.0</td>\n",
              "      <td>40433.0</td>\n",
              "      <td>7.0</td>\n",
              "      <td>8.0</td>\n",
              "      <td>6.0</td>\n",
              "      <td>0.0</td>\n",
              "      <td>NaN</td>\n",
              "    </tr>\n",
              "    <tr>\n",
              "      <th>1600</th>\n",
              "      <td>1959</td>\n",
              "      <td>Sarjana</td>\n",
              "      <td>NaN</td>\n",
              "      <td>152498388.0</td>\n",
              "      <td>0.0</td>\n",
              "      <td>0.0</td>\n",
              "      <td>8.0</td>\n",
              "      <td>139439.0</td>\n",
              "      <td>339814.0</td>\n",
              "      <td>128188.0</td>\n",
              "      <td>58617.0</td>\n",
              "      <td>2.0</td>\n",
              "      <td>10.0</td>\n",
              "      <td>3.0</td>\n",
              "      <td>0.0</td>\n",
              "      <td>NaN</td>\n",
              "    </tr>\n",
              "    <tr>\n",
              "      <th>2650</th>\n",
              "      <td>1969</td>\n",
              "      <td>SMA</td>\n",
              "      <td>NaN</td>\n",
              "      <td>116905024.0</td>\n",
              "      <td>NaN</td>\n",
              "      <td>1.0</td>\n",
              "      <td>55.0</td>\n",
              "      <td>34445.0</td>\n",
              "      <td>116254.0</td>\n",
              "      <td>2028.0</td>\n",
              "      <td>150071.0</td>\n",
              "      <td>2.0</td>\n",
              "      <td>3.0</td>\n",
              "      <td>4.0</td>\n",
              "      <td>0.0</td>\n",
              "      <td>NaN</td>\n",
              "    </tr>\n",
              "    <tr>\n",
              "      <th>65</th>\n",
              "      <td>1981</td>\n",
              "      <td>SMA</td>\n",
              "      <td>NaN</td>\n",
              "      <td>49661713.0</td>\n",
              "      <td>1.0</td>\n",
              "      <td>0.0</td>\n",
              "      <td>78.0</td>\n",
              "      <td>43582.0</td>\n",
              "      <td>20123.0</td>\n",
              "      <td>7855.0</td>\n",
              "      <td>19520.0</td>\n",
              "      <td>1.0</td>\n",
              "      <td>1.0</td>\n",
              "      <td>1.0</td>\n",
              "      <td>0.0</td>\n",
              "      <td>NaN</td>\n",
              "    </tr>\n",
              "    <tr>\n",
              "      <th>3626</th>\n",
              "      <td>1958</td>\n",
              "      <td>Sarjana</td>\n",
              "      <td>NaN</td>\n",
              "      <td>NaN</td>\n",
              "      <td>0.0</td>\n",
              "      <td>0.0</td>\n",
              "      <td>28.0</td>\n",
              "      <td>194306.0</td>\n",
              "      <td>1549352.0</td>\n",
              "      <td>315625.0</td>\n",
              "      <td>202681.0</td>\n",
              "      <td>0.0</td>\n",
              "      <td>4.0</td>\n",
              "      <td>5.0</td>\n",
              "      <td>0.0</td>\n",
              "      <td>NaN</td>\n",
              "    </tr>\n",
              "  </tbody>\n",
              "</table>\n",
              "</div>"
            ],
            "text/plain": [
              "      tahun_kelahiran pendidikan status_pernikahan   pendapatan  \\\n",
              "1677             1978   Magister               NaN  143442074.0   \n",
              "1055             1980   Magister               NaN  138329376.0   \n",
              "3808             1963   Magister               NaN  117190625.0   \n",
              "320              1973    Sarjana               NaN   46920000.0   \n",
              "2103             1965    Sarjana               NaN   85508180.0   \n",
              "812              1974    Sarjana               NaN   85866146.0   \n",
              "1600             1959    Sarjana               NaN  152498388.0   \n",
              "2650             1969        SMA               NaN  116905024.0   \n",
              "65               1981        SMA               NaN   49661713.0   \n",
              "3626             1958    Sarjana               NaN          NaN   \n",
              "\n",
              "      jumlah_anak_balita  jumlah_anak_remaja  terakhir_belanja  belanja_buah  \\\n",
              "1677                 0.0                 1.0              44.0       31218.0   \n",
              "1055                 0.0                 0.0              71.0      200187.0   \n",
              "3808                 0.0                 1.0              69.0        2545.0   \n",
              "320                  1.0                 0.0              11.0       12138.0   \n",
              "2103                 1.0                 1.0              11.0        4006.0   \n",
              "812                  1.0                 0.0              45.0       19627.0   \n",
              "1600                 0.0                 0.0               8.0      139439.0   \n",
              "2650                 NaN                 1.0              55.0       34445.0   \n",
              "65                   1.0                 0.0              78.0       43582.0   \n",
              "3626                 0.0                 0.0              28.0      194306.0   \n",
              "\n",
              "      belanja_daging  belanja_ikan  belanja_kue  pembelian_diskon  \\\n",
              "1677        336760.0       99933.0      74948.0               3.0   \n",
              "1055        586027.0       40872.0     267657.0               0.0   \n",
              "3808        106247.0        1044.0      11880.0               1.0   \n",
              "320              NaN       26299.0       4046.0               4.0   \n",
              "2103        193358.0       48097.0      60176.0               8.0   \n",
              "812         219139.0       25179.0      40433.0               7.0   \n",
              "1600        339814.0      128188.0      58617.0               2.0   \n",
              "2650        116254.0        2028.0     150071.0               2.0   \n",
              "65           20123.0        7855.0      19520.0               1.0   \n",
              "3626       1549352.0      315625.0     202681.0               0.0   \n",
              "\n",
              "      pembelian_web  pembelian_toko  keluhan tanggal_menjadi_anggota  \n",
              "1677            8.0            10.0      0.0                     NaN  \n",
              "1055            7.0             4.0      0.0                     NaN  \n",
              "3808            3.0            11.0      0.0                     NaN  \n",
              "320             1.0             2.0      0.0              2013-06-07  \n",
              "2103            7.0             5.0      0.0                     NaN  \n",
              "812             8.0             6.0      0.0                     NaN  \n",
              "1600           10.0             3.0      0.0                     NaN  \n",
              "2650            3.0             4.0      0.0                     NaN  \n",
              "65              1.0             1.0      0.0                     NaN  \n",
              "3626            4.0             5.0      0.0                     NaN  "
            ]
          },
          "execution_count": 440,
          "metadata": {},
          "output_type": "execute_result"
        }
      ],
      "source": [
        "# Mengambil sample data dengan inputan nan\n",
        "dataNanPernikahan = trainFeatures[trainFeatures['status_pernikahan'].isnull()]\n",
        "\n",
        "# Mengecek Banyak Baris Data\n",
        "print('Banyak Data dengan inputan nan:', dataNanPernikahan.shape[0], '\\n')\n",
        "print('Dengan sample data sebagai berikut: ')\n",
        "dataNanPernikahan.sample(10)"
      ]
    },
    {
      "cell_type": "markdown",
      "metadata": {
        "id": "0u4wcG9W9QDb"
      },
      "source": [
        "Dikarenakan jumlah dari data nan cukup banyak, maka akan dilakukan pengubahan isi data nan dengan analisis lebih lanjut pada kolom-kolom yang berpotensi memiliki korelasi dengan kolom **status pernikahan**. \n",
        "\n",
        "Yaitu dengan melihat kolom **jumlah anak balita** dan **jumlah anak remaja** dengan asumsi jika memiliki nilai lebih dari 0 dari kedua kolom tersebut, maka akan diubah menjadi \"Menikah\"."
      ]
    },
    {
      "cell_type": "code",
      "execution_count": 441,
      "metadata": {
        "colab": {
          "base_uri": "https://localhost:8080/",
          "height": 35
        },
        "id": "TEKrzHFDtj0s",
        "outputId": "67f69d26-c8fb-434a-bdc2-db2d232af2c5"
      },
      "outputs": [],
      "source": [
        "# Ubah NaN menjadi String Terlebih Dahulu\n",
        "trainFeatures['status_pernikahan'].fillna('kosong', inplace=True)\n",
        "\n",
        "# Buat Fungsi\n",
        "def ubahPernikahan(row):\n",
        "    if row['status_pernikahan'] == 'kosong':\n",
        "        if row['jumlah_anak_balita'] > 0 or row['jumlah_anak_remaja'] > 0:\n",
        "            return 'Menikah'\n",
        "        else:\n",
        "            return 'Sendiri'\n",
        "    else:\n",
        "        return row['status_pernikahan']\n",
        "\n",
        "trainFeatures['status_pernikahan'] = trainFeatures.apply(ubahPernikahan, axis=1)"
      ]
    },
    {
      "cell_type": "code",
      "execution_count": 442,
      "metadata": {},
      "outputs": [
        {
          "data": {
            "text/plain": [
              "array(['Rencana Menikah', 'Menikah', 'Sendiri', 'Cerai', 'Cerai Mati'],\n",
              "      dtype=object)"
            ]
          },
          "execution_count": 442,
          "metadata": {},
          "output_type": "execute_result"
        }
      ],
      "source": [
        "trainFeatures['status_pernikahan'].unique()"
      ]
    },
    {
      "cell_type": "markdown",
      "metadata": {},
      "source": [
        "Saat ini nilai unique pada kolom **status pernikahan** sudah normal dan tidak ada nilai nan."
      ]
    },
    {
      "cell_type": "markdown",
      "metadata": {},
      "source": [
        "## Kolom Pendapatan"
      ]
    },
    {
      "cell_type": "code",
      "execution_count": 443,
      "metadata": {},
      "outputs": [
        {
          "data": {
            "text/plain": [
              "2191     27233181.0\n",
              "1893     80096000.0\n",
              "3738     64076000.0\n",
              "2547     97656000.0\n",
              "3350    155901404.0\n",
              "Name: pendapatan, dtype: float64"
            ]
          },
          "execution_count": 443,
          "metadata": {},
          "output_type": "execute_result"
        }
      ],
      "source": [
        "trainFeatures.pendapatan.sample(5)"
      ]
    },
    {
      "cell_type": "markdown",
      "metadata": {},
      "source": [
        "### Cek Nilai Statistik "
      ]
    },
    {
      "cell_type": "code",
      "execution_count": 444,
      "metadata": {
        "colab": {
          "base_uri": "https://localhost:8080/"
        },
        "id": "FODbWMiTy760",
        "outputId": "417a5dfb-6f53-42c9-f7b3-2760993b97e7"
      },
      "outputs": [
        {
          "data": {
            "text/html": [
              "<div>\n",
              "<style scoped>\n",
              "    .dataframe tbody tr th:only-of-type {\n",
              "        vertical-align: middle;\n",
              "    }\n",
              "\n",
              "    .dataframe tbody tr th {\n",
              "        vertical-align: top;\n",
              "    }\n",
              "\n",
              "    .dataframe thead th {\n",
              "        text-align: right;\n",
              "    }\n",
              "</style>\n",
              "<table border=\"1\" class=\"dataframe\">\n",
              "  <thead>\n",
              "    <tr style=\"text-align: right;\">\n",
              "      <th></th>\n",
              "      <th>tahun_kelahiran</th>\n",
              "      <th>pendapatan</th>\n",
              "      <th>jumlah_anak_balita</th>\n",
              "      <th>jumlah_anak_remaja</th>\n",
              "      <th>terakhir_belanja</th>\n",
              "      <th>belanja_buah</th>\n",
              "      <th>belanja_daging</th>\n",
              "      <th>belanja_ikan</th>\n",
              "      <th>belanja_kue</th>\n",
              "      <th>pembelian_diskon</th>\n",
              "      <th>pembelian_web</th>\n",
              "      <th>pembelian_toko</th>\n",
              "      <th>keluhan</th>\n",
              "    </tr>\n",
              "  </thead>\n",
              "  <tbody>\n",
              "    <tr>\n",
              "      <th>count</th>\n",
              "      <td>3814.000000</td>\n",
              "      <td>3.624000e+03</td>\n",
              "      <td>3624.000000</td>\n",
              "      <td>3610.000000</td>\n",
              "      <td>3642.000000</td>\n",
              "      <td>3633.000000</td>\n",
              "      <td>3.636000e+03</td>\n",
              "      <td>3622.000000</td>\n",
              "      <td>3600.000000</td>\n",
              "      <td>3636.000000</td>\n",
              "      <td>3649.000000</td>\n",
              "      <td>3645.000000</td>\n",
              "      <td>3618.000000</td>\n",
              "    </tr>\n",
              "    <tr>\n",
              "      <th>mean</th>\n",
              "      <td>1967.830362</td>\n",
              "      <td>1.144910e+08</td>\n",
              "      <td>0.292770</td>\n",
              "      <td>0.353740</td>\n",
              "      <td>47.233388</td>\n",
              "      <td>59834.344344</td>\n",
              "      <td>4.385213e+05</td>\n",
              "      <td>81414.356157</td>\n",
              "      <td>63402.365000</td>\n",
              "      <td>2.125413</td>\n",
              "      <td>4.439024</td>\n",
              "      <td>5.767901</td>\n",
              "      <td>0.004975</td>\n",
              "    </tr>\n",
              "    <tr>\n",
              "      <th>std</th>\n",
              "      <td>11.764420</td>\n",
              "      <td>4.346894e+07</td>\n",
              "      <td>0.472942</td>\n",
              "      <td>0.493031</td>\n",
              "      <td>27.063687</td>\n",
              "      <td>74045.898408</td>\n",
              "      <td>5.118685e+05</td>\n",
              "      <td>99972.253724</td>\n",
              "      <td>79456.742289</td>\n",
              "      <td>2.100816</td>\n",
              "      <td>3.002223</td>\n",
              "      <td>3.208269</td>\n",
              "      <td>0.070369</td>\n",
              "    </tr>\n",
              "    <tr>\n",
              "      <th>min</th>\n",
              "      <td>1899.000000</td>\n",
              "      <td>5.073000e+06</td>\n",
              "      <td>0.000000</td>\n",
              "      <td>0.000000</td>\n",
              "      <td>0.000000</td>\n",
              "      <td>0.000000</td>\n",
              "      <td>0.000000e+00</td>\n",
              "      <td>0.000000</td>\n",
              "      <td>0.000000</td>\n",
              "      <td>0.000000</td>\n",
              "      <td>0.000000</td>\n",
              "      <td>0.000000</td>\n",
              "      <td>0.000000</td>\n",
              "    </tr>\n",
              "    <tr>\n",
              "      <th>25%</th>\n",
              "      <td>1959.000000</td>\n",
              "      <td>8.112568e+07</td>\n",
              "      <td>0.000000</td>\n",
              "      <td>0.000000</td>\n",
              "      <td>25.000000</td>\n",
              "      <td>7908.000000</td>\n",
              "      <td>4.955925e+04</td>\n",
              "      <td>10115.000000</td>\n",
              "      <td>7953.250000</td>\n",
              "      <td>0.000000</td>\n",
              "      <td>2.000000</td>\n",
              "      <td>3.000000</td>\n",
              "      <td>0.000000</td>\n",
              "    </tr>\n",
              "    <tr>\n",
              "      <th>50%</th>\n",
              "      <td>1968.000000</td>\n",
              "      <td>1.156252e+08</td>\n",
              "      <td>0.000000</td>\n",
              "      <td>0.000000</td>\n",
              "      <td>47.000000</td>\n",
              "      <td>26465.000000</td>\n",
              "      <td>2.221065e+05</td>\n",
              "      <td>36054.500000</td>\n",
              "      <td>27804.500000</td>\n",
              "      <td>2.000000</td>\n",
              "      <td>4.000000</td>\n",
              "      <td>5.000000</td>\n",
              "      <td>0.000000</td>\n",
              "    </tr>\n",
              "    <tr>\n",
              "      <th>75%</th>\n",
              "      <td>1976.000000</td>\n",
              "      <td>1.505037e+08</td>\n",
              "      <td>1.000000</td>\n",
              "      <td>1.000000</td>\n",
              "      <td>69.000000</td>\n",
              "      <td>86201.000000</td>\n",
              "      <td>6.860762e+05</td>\n",
              "      <td>121309.500000</td>\n",
              "      <td>89677.000000</td>\n",
              "      <td>3.000000</td>\n",
              "      <td>7.000000</td>\n",
              "      <td>8.000000</td>\n",
              "      <td>0.000000</td>\n",
              "    </tr>\n",
              "    <tr>\n",
              "      <th>max</th>\n",
              "      <td>2000.000000</td>\n",
              "      <td>3.328840e+08</td>\n",
              "      <td>2.000000</td>\n",
              "      <td>2.000000</td>\n",
              "      <td>128.000000</td>\n",
              "      <td>396508.000000</td>\n",
              "      <td>3.489675e+06</td>\n",
              "      <td>621600.000000</td>\n",
              "      <td>542164.000000</td>\n",
              "      <td>20.000000</td>\n",
              "      <td>30.000000</td>\n",
              "      <td>17.000000</td>\n",
              "      <td>1.000000</td>\n",
              "    </tr>\n",
              "  </tbody>\n",
              "</table>\n",
              "</div>"
            ],
            "text/plain": [
              "       tahun_kelahiran    pendapatan  jumlah_anak_balita  jumlah_anak_remaja  \\\n",
              "count      3814.000000  3.624000e+03         3624.000000         3610.000000   \n",
              "mean       1967.830362  1.144910e+08            0.292770            0.353740   \n",
              "std          11.764420  4.346894e+07            0.472942            0.493031   \n",
              "min        1899.000000  5.073000e+06            0.000000            0.000000   \n",
              "25%        1959.000000  8.112568e+07            0.000000            0.000000   \n",
              "50%        1968.000000  1.156252e+08            0.000000            0.000000   \n",
              "75%        1976.000000  1.505037e+08            1.000000            1.000000   \n",
              "max        2000.000000  3.328840e+08            2.000000            2.000000   \n",
              "\n",
              "       terakhir_belanja   belanja_buah  belanja_daging   belanja_ikan  \\\n",
              "count       3642.000000    3633.000000    3.636000e+03    3622.000000   \n",
              "mean          47.233388   59834.344344    4.385213e+05   81414.356157   \n",
              "std           27.063687   74045.898408    5.118685e+05   99972.253724   \n",
              "min            0.000000       0.000000    0.000000e+00       0.000000   \n",
              "25%           25.000000    7908.000000    4.955925e+04   10115.000000   \n",
              "50%           47.000000   26465.000000    2.221065e+05   36054.500000   \n",
              "75%           69.000000   86201.000000    6.860762e+05  121309.500000   \n",
              "max          128.000000  396508.000000    3.489675e+06  621600.000000   \n",
              "\n",
              "         belanja_kue  pembelian_diskon  pembelian_web  pembelian_toko  \\\n",
              "count    3600.000000       3636.000000    3649.000000     3645.000000   \n",
              "mean    63402.365000          2.125413       4.439024        5.767901   \n",
              "std     79456.742289          2.100816       3.002223        3.208269   \n",
              "min         0.000000          0.000000       0.000000        0.000000   \n",
              "25%      7953.250000          0.000000       2.000000        3.000000   \n",
              "50%     27804.500000          2.000000       4.000000        5.000000   \n",
              "75%     89677.000000          3.000000       7.000000        8.000000   \n",
              "max    542164.000000         20.000000      30.000000       17.000000   \n",
              "\n",
              "           keluhan  \n",
              "count  3618.000000  \n",
              "mean      0.004975  \n",
              "std       0.070369  \n",
              "min       0.000000  \n",
              "25%       0.000000  \n",
              "50%       0.000000  \n",
              "75%       0.000000  \n",
              "max       1.000000  "
            ]
          },
          "execution_count": 444,
          "metadata": {},
          "output_type": "execute_result"
        }
      ],
      "source": [
        "trainFeatures.describe()"
      ]
    },
    {
      "cell_type": "markdown",
      "metadata": {},
      "source": [
        "### Pengecekan Nilai Null\n",
        "\n",
        "Dari hasil analisis sebelumnya, terlihat bahwa terdapat nilai null pada kolom ini."
      ]
    },
    {
      "cell_type": "code",
      "execution_count": 445,
      "metadata": {},
      "outputs": [
        {
          "data": {
            "text/html": [
              "<div>\n",
              "<style scoped>\n",
              "    .dataframe tbody tr th:only-of-type {\n",
              "        vertical-align: middle;\n",
              "    }\n",
              "\n",
              "    .dataframe tbody tr th {\n",
              "        vertical-align: top;\n",
              "    }\n",
              "\n",
              "    .dataframe thead th {\n",
              "        text-align: right;\n",
              "    }\n",
              "</style>\n",
              "<table border=\"1\" class=\"dataframe\">\n",
              "  <thead>\n",
              "    <tr style=\"text-align: right;\">\n",
              "      <th></th>\n",
              "      <th>tahun_kelahiran</th>\n",
              "      <th>pendidikan</th>\n",
              "      <th>status_pernikahan</th>\n",
              "      <th>pendapatan</th>\n",
              "      <th>jumlah_anak_balita</th>\n",
              "      <th>jumlah_anak_remaja</th>\n",
              "      <th>terakhir_belanja</th>\n",
              "      <th>belanja_buah</th>\n",
              "      <th>belanja_daging</th>\n",
              "      <th>belanja_ikan</th>\n",
              "      <th>belanja_kue</th>\n",
              "      <th>pembelian_diskon</th>\n",
              "      <th>pembelian_web</th>\n",
              "      <th>pembelian_toko</th>\n",
              "      <th>keluhan</th>\n",
              "      <th>tanggal_menjadi_anggota</th>\n",
              "    </tr>\n",
              "  </thead>\n",
              "  <tbody>\n",
              "    <tr>\n",
              "      <th>0</th>\n",
              "      <td>1979</td>\n",
              "      <td>Sarjana</td>\n",
              "      <td>Rencana Menikah</td>\n",
              "      <td>NaN</td>\n",
              "      <td>0.0</td>\n",
              "      <td>1.0</td>\n",
              "      <td>NaN</td>\n",
              "      <td>50575.0</td>\n",
              "      <td>260967.0</td>\n",
              "      <td>50575.0</td>\n",
              "      <td>20230.0</td>\n",
              "      <td>2.0</td>\n",
              "      <td>2.0</td>\n",
              "      <td>5.0</td>\n",
              "      <td>0.0</td>\n",
              "      <td>2014-05-05</td>\n",
              "    </tr>\n",
              "    <tr>\n",
              "      <th>23</th>\n",
              "      <td>1982</td>\n",
              "      <td>SMA</td>\n",
              "      <td>Rencana Menikah</td>\n",
              "      <td>NaN</td>\n",
              "      <td>1.0</td>\n",
              "      <td>0.0</td>\n",
              "      <td>54.0</td>\n",
              "      <td>8742.0</td>\n",
              "      <td>26206.0</td>\n",
              "      <td>4231.0</td>\n",
              "      <td>836.0</td>\n",
              "      <td>3.0</td>\n",
              "      <td>2.0</td>\n",
              "      <td>2.0</td>\n",
              "      <td>0.0</td>\n",
              "      <td>NaN</td>\n",
              "    </tr>\n",
              "    <tr>\n",
              "      <th>53</th>\n",
              "      <td>1975</td>\n",
              "      <td>Doktor</td>\n",
              "      <td>Menikah</td>\n",
              "      <td>NaN</td>\n",
              "      <td>0.0</td>\n",
              "      <td>0.0</td>\n",
              "      <td>65.0</td>\n",
              "      <td>180047.0</td>\n",
              "      <td>1488928.0</td>\n",
              "      <td>145656.0</td>\n",
              "      <td>105196.0</td>\n",
              "      <td>1.0</td>\n",
              "      <td>1.0</td>\n",
              "      <td>7.0</td>\n",
              "      <td>0.0</td>\n",
              "      <td>NaN</td>\n",
              "    </tr>\n",
              "    <tr>\n",
              "      <th>116</th>\n",
              "      <td>1957</td>\n",
              "      <td>SMA</td>\n",
              "      <td>Rencana Menikah</td>\n",
              "      <td>NaN</td>\n",
              "      <td>0.0</td>\n",
              "      <td>1.0</td>\n",
              "      <td>30.0</td>\n",
              "      <td>15143.0</td>\n",
              "      <td>61788.0</td>\n",
              "      <td>4104.0</td>\n",
              "      <td>0.0</td>\n",
              "      <td>4.0</td>\n",
              "      <td>5.0</td>\n",
              "      <td>8.0</td>\n",
              "      <td>0.0</td>\n",
              "      <td>NaN</td>\n",
              "    </tr>\n",
              "    <tr>\n",
              "      <th>135</th>\n",
              "      <td>1976</td>\n",
              "      <td>Sarjana</td>\n",
              "      <td>Menikah</td>\n",
              "      <td>NaN</td>\n",
              "      <td>0.0</td>\n",
              "      <td>NaN</td>\n",
              "      <td>66.0</td>\n",
              "      <td>115311.0</td>\n",
              "      <td>1145018.0</td>\n",
              "      <td>226576.0</td>\n",
              "      <td>260967.0</td>\n",
              "      <td>2.0</td>\n",
              "      <td>6.0</td>\n",
              "      <td>7.0</td>\n",
              "      <td>0.0</td>\n",
              "      <td>2014-05-14</td>\n",
              "    </tr>\n",
              "    <tr>\n",
              "      <th>...</th>\n",
              "      <td>...</td>\n",
              "      <td>...</td>\n",
              "      <td>...</td>\n",
              "      <td>...</td>\n",
              "      <td>...</td>\n",
              "      <td>...</td>\n",
              "      <td>...</td>\n",
              "      <td>...</td>\n",
              "      <td>...</td>\n",
              "      <td>...</td>\n",
              "      <td>...</td>\n",
              "      <td>...</td>\n",
              "      <td>...</td>\n",
              "      <td>...</td>\n",
              "      <td>...</td>\n",
              "      <td>...</td>\n",
              "    </tr>\n",
              "    <tr>\n",
              "      <th>3719</th>\n",
              "      <td>1959</td>\n",
              "      <td>Doktor</td>\n",
              "      <td>Rencana Menikah</td>\n",
              "      <td>NaN</td>\n",
              "      <td>1.0</td>\n",
              "      <td>1.0</td>\n",
              "      <td>19.0</td>\n",
              "      <td>7985.0</td>\n",
              "      <td>33007.0</td>\n",
              "      <td>958.0</td>\n",
              "      <td>0.0</td>\n",
              "      <td>4.0</td>\n",
              "      <td>2.0</td>\n",
              "      <td>1.0</td>\n",
              "      <td>NaN</td>\n",
              "      <td>NaN</td>\n",
              "    </tr>\n",
              "    <tr>\n",
              "      <th>3747</th>\n",
              "      <td>1968</td>\n",
              "      <td>Sarjana</td>\n",
              "      <td>Sendiri</td>\n",
              "      <td>NaN</td>\n",
              "      <td>0.0</td>\n",
              "      <td>0.0</td>\n",
              "      <td>25.0</td>\n",
              "      <td>34958.0</td>\n",
              "      <td>906989.0</td>\n",
              "      <td>147607.0</td>\n",
              "      <td>66475.0</td>\n",
              "      <td>1.0</td>\n",
              "      <td>5.0</td>\n",
              "      <td>8.0</td>\n",
              "      <td>0.0</td>\n",
              "      <td>NaN</td>\n",
              "    </tr>\n",
              "    <tr>\n",
              "      <th>3766</th>\n",
              "      <td>1986</td>\n",
              "      <td>Magister</td>\n",
              "      <td>Cerai</td>\n",
              "      <td>NaN</td>\n",
              "      <td>0.0</td>\n",
              "      <td>0.0</td>\n",
              "      <td>38.0</td>\n",
              "      <td>10569.0</td>\n",
              "      <td>10478.0</td>\n",
              "      <td>10115.0</td>\n",
              "      <td>7728.0</td>\n",
              "      <td>2.0</td>\n",
              "      <td>3.0</td>\n",
              "      <td>1.0</td>\n",
              "      <td>0.0</td>\n",
              "      <td>NaN</td>\n",
              "    </tr>\n",
              "    <tr>\n",
              "      <th>3803</th>\n",
              "      <td>1969</td>\n",
              "      <td>Sarjana</td>\n",
              "      <td>Menikah</td>\n",
              "      <td>NaN</td>\n",
              "      <td>1.0</td>\n",
              "      <td>0.0</td>\n",
              "      <td>16.0</td>\n",
              "      <td>77055.0</td>\n",
              "      <td>362195.0</td>\n",
              "      <td>31759.0</td>\n",
              "      <td>29808.0</td>\n",
              "      <td>1.0</td>\n",
              "      <td>5.0</td>\n",
              "      <td>11.0</td>\n",
              "      <td>0.0</td>\n",
              "      <td>NaN</td>\n",
              "    </tr>\n",
              "    <tr>\n",
              "      <th>3804</th>\n",
              "      <td>1965</td>\n",
              "      <td>Magister</td>\n",
              "      <td>Menikah</td>\n",
              "      <td>NaN</td>\n",
              "      <td>0.0</td>\n",
              "      <td>0.0</td>\n",
              "      <td>93.0</td>\n",
              "      <td>204236.0</td>\n",
              "      <td>NaN</td>\n",
              "      <td>40104.0</td>\n",
              "      <td>138478.0</td>\n",
              "      <td>NaN</td>\n",
              "      <td>8.0</td>\n",
              "      <td>8.0</td>\n",
              "      <td>0.0</td>\n",
              "      <td>NaN</td>\n",
              "    </tr>\n",
              "  </tbody>\n",
              "</table>\n",
              "<p>190 rows × 16 columns</p>\n",
              "</div>"
            ],
            "text/plain": [
              "      tahun_kelahiran pendidikan status_pernikahan  pendapatan  \\\n",
              "0                1979    Sarjana   Rencana Menikah         NaN   \n",
              "23               1982        SMA   Rencana Menikah         NaN   \n",
              "53               1975     Doktor           Menikah         NaN   \n",
              "116              1957        SMA   Rencana Menikah         NaN   \n",
              "135              1976    Sarjana           Menikah         NaN   \n",
              "...               ...        ...               ...         ...   \n",
              "3719             1959     Doktor   Rencana Menikah         NaN   \n",
              "3747             1968    Sarjana           Sendiri         NaN   \n",
              "3766             1986   Magister             Cerai         NaN   \n",
              "3803             1969    Sarjana           Menikah         NaN   \n",
              "3804             1965   Magister           Menikah         NaN   \n",
              "\n",
              "      jumlah_anak_balita  jumlah_anak_remaja  terakhir_belanja  belanja_buah  \\\n",
              "0                    0.0                 1.0               NaN       50575.0   \n",
              "23                   1.0                 0.0              54.0        8742.0   \n",
              "53                   0.0                 0.0              65.0      180047.0   \n",
              "116                  0.0                 1.0              30.0       15143.0   \n",
              "135                  0.0                 NaN              66.0      115311.0   \n",
              "...                  ...                 ...               ...           ...   \n",
              "3719                 1.0                 1.0              19.0        7985.0   \n",
              "3747                 0.0                 0.0              25.0       34958.0   \n",
              "3766                 0.0                 0.0              38.0       10569.0   \n",
              "3803                 1.0                 0.0              16.0       77055.0   \n",
              "3804                 0.0                 0.0              93.0      204236.0   \n",
              "\n",
              "      belanja_daging  belanja_ikan  belanja_kue  pembelian_diskon  \\\n",
              "0           260967.0       50575.0      20230.0               2.0   \n",
              "23           26206.0        4231.0        836.0               3.0   \n",
              "53         1488928.0      145656.0     105196.0               1.0   \n",
              "116          61788.0        4104.0          0.0               4.0   \n",
              "135        1145018.0      226576.0     260967.0               2.0   \n",
              "...              ...           ...          ...               ...   \n",
              "3719         33007.0         958.0          0.0               4.0   \n",
              "3747        906989.0      147607.0      66475.0               1.0   \n",
              "3766         10478.0       10115.0       7728.0               2.0   \n",
              "3803        362195.0       31759.0      29808.0               1.0   \n",
              "3804             NaN       40104.0     138478.0               NaN   \n",
              "\n",
              "      pembelian_web  pembelian_toko  keluhan tanggal_menjadi_anggota  \n",
              "0               2.0             5.0      0.0              2014-05-05  \n",
              "23              2.0             2.0      0.0                     NaN  \n",
              "53              1.0             7.0      0.0                     NaN  \n",
              "116             5.0             8.0      0.0                     NaN  \n",
              "135             6.0             7.0      0.0              2014-05-14  \n",
              "...             ...             ...      ...                     ...  \n",
              "3719            2.0             1.0      NaN                     NaN  \n",
              "3747            5.0             8.0      0.0                     NaN  \n",
              "3766            3.0             1.0      0.0                     NaN  \n",
              "3803            5.0            11.0      0.0                     NaN  \n",
              "3804            8.0             8.0      0.0                     NaN  \n",
              "\n",
              "[190 rows x 16 columns]"
            ]
          },
          "execution_count": 445,
          "metadata": {},
          "output_type": "execute_result"
        }
      ],
      "source": [
        "nullPendapatan = trainFeatures[trainFeatures['pendapatan'].isnull()]\n",
        "nullPendapatan"
      ]
    },
    {
      "cell_type": "markdown",
      "metadata": {},
      "source": [
        "Yang dilakukan adalah menggunakan interpolasi untuk menutup setiap nilai NaN yang ada dengan titik terdekat data ke data lainnya secara linear."
      ]
    },
    {
      "cell_type": "code",
      "execution_count": 446,
      "metadata": {
        "id": "jyT87u3auQ5c"
      },
      "outputs": [],
      "source": [
        "# Data x pendapatan tidak null\n",
        "xKnown = trainFeatures.index[~trainFeatures['pendapatan'].isnull()]\n",
        "# Data y yang diketahui\n",
        "yKnown = trainFeatures.loc[xKnown, 'pendapatan']\n",
        "# Inisialisasi Cubic Spline\n",
        "spline = CubicSpline(xKnown, yKnown)\n",
        "# Memasang Indeks titik data yang akan diisi yaitu null\n",
        "fillIndices = trainFeatures.index[trainFeatures['pendapatan'].isnull()] \n",
        "# Eksekusi spline\n",
        "trainFeatures.loc[fillIndices, 'pendapatan'] = spline(fillIndices)\n",
        "\n",
        "#trainFeatures['pendapatan'].interpolate(method='linear', inplace=True)"
      ]
    },
    {
      "cell_type": "code",
      "execution_count": 447,
      "metadata": {
        "colab": {
          "base_uri": "https://localhost:8080/"
        },
        "id": "GmuRwwYyywOd",
        "outputId": "b0529ad7-0319-4c38-fdd3-540039772287"
      },
      "outputs": [
        {
          "data": {
            "text/plain": [
              "count    3.813000e+03\n",
              "mean     1.144286e+08\n",
              "std      4.287360e+07\n",
              "min      5.073000e+06\n",
              "25%      8.163900e+07\n",
              "50%      1.152222e+08\n",
              "75%      1.490045e+08\n",
              "max      3.328840e+08\n",
              "Name: pendapatan, dtype: float64"
            ]
          },
          "execution_count": 447,
          "metadata": {},
          "output_type": "execute_result"
        }
      ],
      "source": [
        "trainFeatures.head(20)"
      ]
    },
    {
      "cell_type": "markdown",
      "metadata": {},
      "source": [
        "Pada saat ini sudah tidak terdapat nilai NaN lagi pada kolom **pendapatan**, sehingga dapat dilanjutkan pada proses analisis selanjutnya."
      ]
    },
    {
      "cell_type": "markdown",
      "metadata": {},
      "source": [
        "## Kolom Jumlah Anak Balita"
      ]
    },
    {
      "cell_type": "markdown",
      "metadata": {},
      "source": [
        "### Cek Nilai Unique"
      ]
    },
    {
      "cell_type": "code",
      "execution_count": null,
      "metadata": {},
      "outputs": [],
      "source": [
        "trainFeatures['jumlah_anak_balita'].unique()"
      ]
    },
    {
      "cell_type": "markdown",
      "metadata": {},
      "source": [
        "Pada pengecekan nilai unique di atas, ditemukan nilai NaN yang perlu diganti dengan nilai lain."
      ]
    },
    {
      "cell_type": "markdown",
      "metadata": {},
      "source": [
        "### Hapus Nilai Null"
      ]
    },
    {
      "cell_type": "code",
      "execution_count": null,
      "metadata": {},
      "outputs": [],
      "source": [
        "trainFeatures['jumlah_anak_balita'].fillna(0, inplace=True)\n",
        "trainFeatures['jumlah_anak_balita'] = trainFeatures['jumlah_anak_balita'].astype(int)\n",
        "print(trainFeatures['jumlah_anak_balita'].dtype)"
      ]
    },
    {
      "cell_type": "code",
      "execution_count": null,
      "metadata": {},
      "outputs": [],
      "source": [
        "# Cek Nilai Unique Ulang\n",
        "trainFeatures['jumlah_anak_balita'].unique()"
      ]
    },
    {
      "cell_type": "markdown",
      "metadata": {},
      "source": [
        "Pada proses ini, langkah yang diambil adalah mengubah nilai NaN menjadi **0** dengan asumsi setiap nilai NaN diartikan baris data penduduk tersebut memiliki jumlah anak balita sebanyak **0**."
      ]
    },
    {
      "cell_type": "markdown",
      "metadata": {},
      "source": [
        "## Kolom Jumlah Anak Remaja"
      ]
    },
    {
      "cell_type": "markdown",
      "metadata": {},
      "source": [
        "### Cek Nilai Unique"
      ]
    },
    {
      "cell_type": "code",
      "execution_count": null,
      "metadata": {},
      "outputs": [],
      "source": [
        "trainFeatures['jumlah_anak_remaja'].unique()"
      ]
    },
    {
      "cell_type": "markdown",
      "metadata": {},
      "source": [
        "Sama seperti pada kasus kolom *jumlah anak balita*, terdapat nilai NaN pada kolom *jumlah anak remaja* yang perlu diubah dengan nilai lainnya."
      ]
    },
    {
      "cell_type": "markdown",
      "metadata": {},
      "source": [
        "### Hapus Nilai Null"
      ]
    },
    {
      "cell_type": "code",
      "execution_count": null,
      "metadata": {},
      "outputs": [],
      "source": [
        "trainFeatures['jumlah_anak_remaja'].fillna(0, inplace=True)\n",
        "trainFeatures['jumlah_anak_remaja'] = trainFeatures['jumlah_anak_remaja'].astype(int)\n",
        "print(trainFeatures['jumlah_anak_remaja'].dtype)"
      ]
    },
    {
      "cell_type": "code",
      "execution_count": null,
      "metadata": {},
      "outputs": [],
      "source": [
        "# Cek Nilai Unique Ulang\n",
        "trainFeatures['jumlah_anak_remaja'].unique()"
      ]
    },
    {
      "cell_type": "markdown",
      "metadata": {},
      "source": [
        "Hasil pada kolom *jumlah anak remaja* juga mirip dengan hasil kolom *jumlah anak balita*, yaitu dengan mengubah nilai NaN dengan nilai **0**. Sebagai asumsi bahwa nilai NaN berarti baris data penduduk tersebut tidak memiliki anak remaja."
      ]
    },
    {
      "cell_type": "markdown",
      "metadata": {},
      "source": [
        "## Kolom Terakhir Belanja"
      ]
    },
    {
      "cell_type": "markdown",
      "metadata": {},
      "source": [
        "### Cek Nilai Unique"
      ]
    },
    {
      "cell_type": "code",
      "execution_count": null,
      "metadata": {},
      "outputs": [],
      "source": [
        "trainFeatures['terakhir_belanja'].unique()"
      ]
    },
    {
      "cell_type": "markdown",
      "metadata": {},
      "source": [
        "Pada pengecekan nilai unique, hasilnya terdapat nilai NaN yang terkandung didalam kolom *terakhir belanja*. Maka perlu dilakukan pengecekan batas minimum dan maksimum data serta nilai statistik lainnya seperti rata-rata untuk mengubah nilai NaN ini dengan sajian nilai Unique yang lebih rapi."
      ]
    },
    {
      "cell_type": "markdown",
      "metadata": {},
      "source": [
        "### Cek Nilai Min dan Max"
      ]
    },
    {
      "cell_type": "code",
      "execution_count": null,
      "metadata": {},
      "outputs": [],
      "source": [
        "nilaiMax = trainFeatures.terakhir_belanja.max()\n",
        "nilaiMin = trainFeatures.terakhir_belanja.min()\n",
        "\n",
        "print('Nilai maksimal dari kolom terakhir belanja adalah', nilaiMax)\n",
        "print('Nilai minimal dari kolom terakhir belanja adalah', nilaiMin)"
      ]
    },
    {
      "cell_type": "markdown",
      "metadata": {},
      "source": [
        "Dikarenakan tidak adanya acuan data tambahan dari kolom *terakhir belanja*, maka langkah yang diambil adalah mengubah setiap nilai NaN menjadi nilai rata-rata."
      ]
    },
    {
      "cell_type": "markdown",
      "metadata": {},
      "source": [
        "### Ubah Nilai Null dengan Rata-Rata"
      ]
    },
    {
      "cell_type": "code",
      "execution_count": null,
      "metadata": {},
      "outputs": [],
      "source": [
        "rata2 = trainFeatures['terakhir_belanja'].mean()\n",
        "rata2"
      ]
    },
    {
      "cell_type": "markdown",
      "metadata": {},
      "source": [
        "Didapatkan nilai **47.23338824821526** yang perlu dibulatkan, untuk mengubah nilai NaN dengan nilai ini."
      ]
    },
    {
      "cell_type": "code",
      "execution_count": null,
      "metadata": {},
      "outputs": [],
      "source": [
        "trainFeatures['terakhir_belanja'] = trainFeatures['terakhir_belanja'].fillna(rata2)\n",
        "trainFeatures['terakhir_belanja'] = trainFeatures['terakhir_belanja'].astype(int)\n",
        "print(trainFeatures['terakhir_belanja'].dtype)"
      ]
    },
    {
      "cell_type": "markdown",
      "metadata": {},
      "source": [
        "Pembulatan nilai pada kolom *terakhir belanja* dilakukan dengan cara pengubahan tipe data dari float menjadi integer."
      ]
    },
    {
      "cell_type": "code",
      "execution_count": null,
      "metadata": {},
      "outputs": [],
      "source": [
        "# Cek Ulang Nilai Unique\n",
        "nilaiTerurut = np.sort(trainFeatures['terakhir_belanja'].unique())\n",
        "nilaiTerurut"
      ]
    },
    {
      "cell_type": "markdown",
      "metadata": {},
      "source": [
        "## Kolom Belanja Buah"
      ]
    },
    {
      "cell_type": "code",
      "execution_count": null,
      "metadata": {},
      "outputs": [],
      "source": [
        "trainFeatures['belanja_buah'].sample(5)"
      ]
    },
    {
      "cell_type": "code",
      "execution_count": null,
      "metadata": {},
      "outputs": [],
      "source": [
        "null_buah_rows = trainFeatures[trainFeatures['belanja_buah'].isnull()]\n",
        "\n",
        "# Menghitung nilai maksimum pendapatan dari baris dengan 'belanja_buah' null\n",
        "nilai_maks_pendapatan = null_buah_rows['pendapatan'].max()\n",
        "\n",
        "# Mengonversi nilai pendapatan menjadi persentase\n",
        "null_buah_rows['pendapatan_persen'] = (null_buah_rows['pendapatan'] / nilai_maks_pendapatan) * 100\n",
        "\n",
        "# Membuat line chart untuk kolom 'pendapatan_persen'\n",
        "plt.figure(figsize=(10, 6))\n",
        "plt.plot(null_buah_rows.index, null_buah_rows['pendapatan_persen'], label='Pendapatan (%)')\n",
        "plt.xlabel('Index Baris')\n",
        "plt.ylabel('Pendapatan (%)')\n",
        "plt.title('Persentase Pendapatan dari Baris dengan Nilai Null di Kolom \"belanja_buah\"')\n",
        "plt.legend()\n",
        "plt.grid(True)\n",
        "plt.xticks(rotation=45)\n",
        "plt.tight_layout()\n",
        "plt.show()"
      ]
    },
    {
      "cell_type": "code",
      "execution_count": null,
      "metadata": {},
      "outputs": [],
      "source": [
        "null_buah_rows['pendapatan'].mean()"
      ]
    },
    {
      "cell_type": "code",
      "execution_count": null,
      "metadata": {},
      "outputs": [],
      "source": [
        "null_buah_rows['pendapatan_persen'].mean()"
      ]
    },
    {
      "cell_type": "code",
      "execution_count": null,
      "metadata": {},
      "outputs": [],
      "source": [
        "print(trainFeatures['belanja_buah'].max())\n",
        "print(trainFeatures['belanja_buah'].mean())"
      ]
    },
    {
      "cell_type": "code",
      "execution_count": null,
      "metadata": {},
      "outputs": [],
      "source": [
        "top3 = trainFeatures['belanja_buah'].nlargest(3)  \n",
        "top3_max = trainFeatures.loc[trainFeatures['belanja_buah'].isin(top3)]  \n",
        "top3_max"
      ]
    },
    {
      "cell_type": "code",
      "execution_count": null,
      "metadata": {},
      "outputs": [],
      "source": [
        "quantile_25 = null_buah_rows['pendapatan'].quantile(0.25)\n",
        "quantile_50 = null_buah_rows['pendapatan'].quantile(0.50)  \n",
        "quantile_75 = null_buah_rows['pendapatan'].quantile(0.75)  \n",
        "\n",
        "# Interpolasi untuk menangani nilai yang hilang\n",
        "def interpolate_values(x, y, x_new):\n",
        "    f = interpolate.interp1d(x, y, fill_value=\"extrapolate\")\n",
        "    return f(x_new)\n",
        "\n",
        "# Isi nilai null pada 'belanja_buah' dengan interpolasi\n",
        "for batu, row in null_buah_rows.iterrows():\n",
        "    if pd.notnull(row['belanja_buah']):  \n",
        "        continue  \n",
        "    if row['pendapatan'] <= quantile_25:  \n",
        "        interpolated_value = interpolate_values(trainFeatures['pendapatan'], trainFeatures['belanja_buah'], row['pendapatan'])\n",
        "        trainFeatures.loc[batu, 'belanja_buah'] = interpolated_value\n",
        "    elif row['pendapatan'] <= quantile_50:  \n",
        "        trainFeatures.loc[batu, 'belanja_buah'] = trainFeatures['belanja_buah'].median()\n",
        "    elif row['pendapatan'] <= quantile_75:  \n",
        "        trainFeatures.loc[batu, 'belanja_buah'] = trainFeatures['belanja_buah'].mean()\n",
        "    else:\n",
        "        trainFeatures.loc[batu, 'belanja_buah'] = row['pendapatan'] * 0.01\n"
      ]
    },
    {
      "cell_type": "code",
      "execution_count": null,
      "metadata": {},
      "outputs": [],
      "source": [
        "trainFeatures['belanja_buah'].isnull().sum()"
      ]
    },
    {
      "cell_type": "code",
      "execution_count": null,
      "metadata": {},
      "outputs": [],
      "source": [
        "# Filter data dengan kondisi belanja_buah bernilai null\n",
        "data_belanja_buah_null = trainFeatures[trainFeatures['belanja_buah'].isnull()]\n",
        "\n",
        "# Cari nilai maksimum dari kolom pendapatan pada data yang sudah difilter\n",
        "nilai_maks_pendapatan_belanja_buah_null = data_belanja_buah_null['pendapatan'].max()\n",
        "\n",
        "print(\"Nilai maksimum pendapatan dengan belanja_buah null adalah:\", nilai_maks_pendapatan_belanja_buah_null)\n"
      ]
    },
    {
      "cell_type": "markdown",
      "metadata": {},
      "source": [
        "# Exploratory Data Analysis (EDA)"
      ]
    },
    {
      "cell_type": "markdown",
      "metadata": {},
      "source": [
        "## Analisis Outliers"
      ]
    },
    {
      "cell_type": "code",
      "execution_count": 449,
      "metadata": {},
      "outputs": [
        {
          "name": "stdout",
          "output_type": "stream",
          "text": [
            "Tidak ada outlier lagi.\n"
          ]
        }
      ],
      "source": [
        "while True:\n",
        "    Q1 = trainFeatures['pendapatan'].quantile(0.25)\n",
        "    Q3 = trainFeatures['pendapatan'].quantile(0.75)\n",
        "    IQR = Q3 - Q1\n",
        "\n",
        "    Upper_Fence = Q3 + 1.5 * IQR\n",
        "    Lower_Fence = Q1 - 1.5 * IQR\n",
        "\n",
        "    outliers = trainFeatures[(trainFeatures['pendapatan'] < Lower_Fence) | (trainFeatures['pendapatan'] > Upper_Fence)]['pendapatan']\n",
        "\n",
        "    if outliers.empty:\n",
        "        print(\"Tidak ada outlier lagi.\")\n",
        "        break\n",
        "    else:\n",
        "        trainFeatures = trainFeatures[(trainFeatures['pendapatan'] >= Lower_Fence) & (trainFeatures['pendapatan'] <= Upper_Fence)]"
      ]
    },
    {
      "cell_type": "code",
      "execution_count": 450,
      "metadata": {},
      "outputs": [
        {
          "data": {
            "image/png": "[encoded data removed]",
            "text/plain": [
              "<Figure size 1000x600 with 1 Axes>"
            ]
          },
          "metadata": {},
          "output_type": "display_data"
        }
      ],
      "source": [
        "plt.figure(figsize=(10, 6))\n",
        "plt.boxplot(trainFeatures['pendapatan'])\n",
        "plt.ylabel('Nilai Pendapatan')\n",
        "plt.title('Boxplot Pendapatan setelah Penanganan Outlier')\n",
        "plt.xticks([1], ['Pendapatan'])\n",
        "plt.show()"
      ]
    }
  ],
  "metadata": {
    "colab": {
      "provenance": []
    },
    "kernelspec": {
      "display_name": "Python 3",
      "name": "python3"
    },
    "language_info": {
      "codemirror_mode": {
        "name": "ipython",
        "version": 3
      },
      "file_extension": ".py",
      "mimetype": "text/x-python",
      "name": "python",
      "nbconvert_exporter": "python",
      "pygments_lexer": "ipython3",
      "version": "3.11.4"
    }
  },
  "nbformat": 4,
  "nbformat_minor": 0
}
