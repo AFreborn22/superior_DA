{
  "cells": [
    {
      "cell_type": "code",
      "execution_count": 390,
      "metadata": {
        "id": "2D7mxTB1mgCA"
      },
      "outputs": [],
      "source": [
        "import pandas as pd\n",
        "import numpy as np\n",
        "import  matplotlib.pyplot as plt\n",
        "import seaborn as sns\n",
        "\n",
        "from datetime import datetime\n",
        "from numpy.polynomial.polynomial import Polynomial\n",
        "from sklearn.ensemble import RandomForestRegressor"
      ]
    },
    {
      "cell_type": "markdown",
      "metadata": {},
      "source": [
        "# Pertanyaan Bisnis\n",
        "\n",
        "1. Bagaimana latar belakang demografis pada setiap pengguna?\n",
        "2. Bagaimana kesimpulan kebiasaan pengguna dalam berbelanja?\n",
        "3. Dari data-data yang sudah dikumpulkan, berapa banyak promosi yang efektif dilakukan untuk setiap pengguna? (Pertanyaan Target)"
      ]
    },
    {
      "cell_type": "markdown",
      "metadata": {},
      "source": [
        "# Data Wrangling"
      ]
    },
    {
      "cell_type": "markdown",
      "metadata": {},
      "source": [
        "## Import Data"
      ]
    },
    {
      "cell_type": "code",
      "execution_count": 391,
      "metadata": {
        "id": "bEo06P7Sm8sH"
      },
      "outputs": [],
      "source": [
        "trainFeatures = pd.read_csv('data/train_features.csv')\n",
        "testFeatures = pd.read_csv('data/test_features.csv')\n",
        "trainLabels = pd.read_csv('data/train_labels.csv')\n",
        "example = pd.read_csv('data/submission_format.csv')"
      ]
    },
    {
      "cell_type": "markdown",
      "metadata": {},
      "source": [
        "## Display Data"
      ]
    },
    {
      "cell_type": "markdown",
      "metadata": {},
      "source": [
        "### Data Train Features"
      ]
    },
    {
      "cell_type": "code",
      "execution_count": 392,
      "metadata": {
        "colab": {
          "base_uri": "https://localhost:8080/",
          "height": 226
        },
        "id": "mMKQlPZyoteI",
        "outputId": "b6cca7e9-3b28-48e3-8a91-9c112fedd5b6"
      },
      "outputs": [
        {
          "data": {
            "text/html": [
              "<div>\n",
              "<style scoped>\n",
              "    .dataframe tbody tr th:only-of-type {\n",
              "        vertical-align: middle;\n",
              "    }\n",
              "\n",
              "    .dataframe tbody tr th {\n",
              "        vertical-align: top;\n",
              "    }\n",
              "\n",
              "    .dataframe thead th {\n",
              "        text-align: right;\n",
              "    }\n",
              "</style>\n",
              "<table border=\"1\" class=\"dataframe\">\n",
              "  <thead>\n",
              "    <tr style=\"text-align: right;\">\n",
              "      <th></th>\n",
              "      <th>tahun_kelahiran</th>\n",
              "      <th>pendidikan</th>\n",
              "      <th>status_pernikahan</th>\n",
              "      <th>pendapatan</th>\n",
              "      <th>jumlah_anak_balita</th>\n",
              "      <th>jumlah_anak_remaja</th>\n",
              "      <th>terakhir_belanja</th>\n",
              "      <th>belanja_buah</th>\n",
              "      <th>belanja_daging</th>\n",
              "      <th>belanja_ikan</th>\n",
              "      <th>belanja_kue</th>\n",
              "      <th>pembelian_diskon</th>\n",
              "      <th>pembelian_web</th>\n",
              "      <th>pembelian_toko</th>\n",
              "      <th>keluhan</th>\n",
              "      <th>tanggal_menjadi_anggota</th>\n",
              "    </tr>\n",
              "  </thead>\n",
              "  <tbody>\n",
              "    <tr>\n",
              "      <th>0</th>\n",
              "      <td>1979</td>\n",
              "      <td>Sarjana</td>\n",
              "      <td>Rencana Menikah</td>\n",
              "      <td>NaN</td>\n",
              "      <td>0.0</td>\n",
              "      <td>1.0</td>\n",
              "      <td>NaN</td>\n",
              "      <td>50575.0</td>\n",
              "      <td>260967.0</td>\n",
              "      <td>50575.0</td>\n",
              "      <td>20230.0</td>\n",
              "      <td>2.0</td>\n",
              "      <td>2.0</td>\n",
              "      <td>5.0</td>\n",
              "      <td>0.0</td>\n",
              "      <td>2014-05-05</td>\n",
              "    </tr>\n",
              "    <tr>\n",
              "      <th>1</th>\n",
              "      <td>1950</td>\n",
              "      <td>Sarjana</td>\n",
              "      <td>Rencana Menikah</td>\n",
              "      <td>84063000.0</td>\n",
              "      <td>NaN</td>\n",
              "      <td>NaN</td>\n",
              "      <td>70.0</td>\n",
              "      <td>6069.0</td>\n",
              "      <td>44506.0</td>\n",
              "      <td>80920.0</td>\n",
              "      <td>20230.0</td>\n",
              "      <td>9.0</td>\n",
              "      <td>6.0</td>\n",
              "      <td>4.0</td>\n",
              "      <td>0.0</td>\n",
              "      <td>2013-03-17</td>\n",
              "    </tr>\n",
              "    <tr>\n",
              "      <th>2</th>\n",
              "      <td>1966</td>\n",
              "      <td>Sarjana</td>\n",
              "      <td>Menikah</td>\n",
              "      <td>127532564.0</td>\n",
              "      <td>0.0</td>\n",
              "      <td>0.0</td>\n",
              "      <td>45.0</td>\n",
              "      <td>117611.0</td>\n",
              "      <td>265460.0</td>\n",
              "      <td>96341.0</td>\n",
              "      <td>145573.0</td>\n",
              "      <td>1.0</td>\n",
              "      <td>1.0</td>\n",
              "      <td>7.0</td>\n",
              "      <td>0.0</td>\n",
              "      <td>NaN</td>\n",
              "    </tr>\n",
              "    <tr>\n",
              "      <th>3</th>\n",
              "      <td>1961</td>\n",
              "      <td>Magister</td>\n",
              "      <td>Rencana Menikah</td>\n",
              "      <td>165579620.0</td>\n",
              "      <td>0.0</td>\n",
              "      <td>0.0</td>\n",
              "      <td>90.0</td>\n",
              "      <td>206346.0</td>\n",
              "      <td>1613901.0</td>\n",
              "      <td>27725.0</td>\n",
              "      <td>125868.0</td>\n",
              "      <td>0.0</td>\n",
              "      <td>7.0</td>\n",
              "      <td>8.0</td>\n",
              "      <td>0.0</td>\n",
              "      <td>NaN</td>\n",
              "    </tr>\n",
              "    <tr>\n",
              "      <th>4</th>\n",
              "      <td>1970</td>\n",
              "      <td>Sarjana</td>\n",
              "      <td>Rencana Menikah</td>\n",
              "      <td>117703159.0</td>\n",
              "      <td>1.0</td>\n",
              "      <td>1.0</td>\n",
              "      <td>78.0</td>\n",
              "      <td>90563.0</td>\n",
              "      <td>311757.0</td>\n",
              "      <td>40358.0</td>\n",
              "      <td>33875.0</td>\n",
              "      <td>7.0</td>\n",
              "      <td>6.0</td>\n",
              "      <td>5.0</td>\n",
              "      <td>0.0</td>\n",
              "      <td>NaN</td>\n",
              "    </tr>\n",
              "  </tbody>\n",
              "</table>\n",
              "</div>"
            ],
            "text/plain": [
              "   tahun_kelahiran pendidikan status_pernikahan   pendapatan  \\\n",
              "0             1979    Sarjana   Rencana Menikah          NaN   \n",
              "1             1950    Sarjana   Rencana Menikah   84063000.0   \n",
              "2             1966    Sarjana           Menikah  127532564.0   \n",
              "3             1961   Magister   Rencana Menikah  165579620.0   \n",
              "4             1970    Sarjana   Rencana Menikah  117703159.0   \n",
              "\n",
              "   jumlah_anak_balita  jumlah_anak_remaja  terakhir_belanja  belanja_buah  \\\n",
              "0                 0.0                 1.0               NaN       50575.0   \n",
              "1                 NaN                 NaN              70.0        6069.0   \n",
              "2                 0.0                 0.0              45.0      117611.0   \n",
              "3                 0.0                 0.0              90.0      206346.0   \n",
              "4                 1.0                 1.0              78.0       90563.0   \n",
              "\n",
              "   belanja_daging  belanja_ikan  belanja_kue  pembelian_diskon  pembelian_web  \\\n",
              "0        260967.0       50575.0      20230.0               2.0            2.0   \n",
              "1         44506.0       80920.0      20230.0               9.0            6.0   \n",
              "2        265460.0       96341.0     145573.0               1.0            1.0   \n",
              "3       1613901.0       27725.0     125868.0               0.0            7.0   \n",
              "4        311757.0       40358.0      33875.0               7.0            6.0   \n",
              "\n",
              "   pembelian_toko  keluhan tanggal_menjadi_anggota  \n",
              "0             5.0      0.0              2014-05-05  \n",
              "1             4.0      0.0              2013-03-17  \n",
              "2             7.0      0.0                     NaN  \n",
              "3             8.0      0.0                     NaN  \n",
              "4             5.0      0.0                     NaN  "
            ]
          },
          "execution_count": 392,
          "metadata": {},
          "output_type": "execute_result"
        }
      ],
      "source": [
        "trainFeatures.head()"
      ]
    },
    {
      "cell_type": "code",
      "execution_count": 393,
      "metadata": {
        "colab": {
          "base_uri": "https://localhost:8080/"
        },
        "id": "PX_jsOen7hko",
        "outputId": "199b9b47-e232-41ea-922f-c99ab04c3f17"
      },
      "outputs": [
        {
          "data": {
            "text/plain": [
              "(3817, 16)"
            ]
          },
          "execution_count": 393,
          "metadata": {},
          "output_type": "execute_result"
        }
      ],
      "source": [
        "trainFeatures.shape"
      ]
    },
    {
      "cell_type": "markdown",
      "metadata": {},
      "source": [
        "### Data Train Labels"
      ]
    },
    {
      "cell_type": "code",
      "execution_count": 394,
      "metadata": {},
      "outputs": [
        {
          "data": {
            "text/html": [
              "<div>\n",
              "<style scoped>\n",
              "    .dataframe tbody tr th:only-of-type {\n",
              "        vertical-align: middle;\n",
              "    }\n",
              "\n",
              "    .dataframe tbody tr th {\n",
              "        vertical-align: top;\n",
              "    }\n",
              "\n",
              "    .dataframe thead th {\n",
              "        text-align: right;\n",
              "    }\n",
              "</style>\n",
              "<table border=\"1\" class=\"dataframe\">\n",
              "  <thead>\n",
              "    <tr style=\"text-align: right;\">\n",
              "      <th></th>\n",
              "      <th>jumlah_promosi</th>\n",
              "    </tr>\n",
              "  </thead>\n",
              "  <tbody>\n",
              "    <tr>\n",
              "      <th>0</th>\n",
              "      <td>2</td>\n",
              "    </tr>\n",
              "    <tr>\n",
              "      <th>1</th>\n",
              "      <td>0</td>\n",
              "    </tr>\n",
              "    <tr>\n",
              "      <th>2</th>\n",
              "      <td>1</td>\n",
              "    </tr>\n",
              "    <tr>\n",
              "      <th>3</th>\n",
              "      <td>4</td>\n",
              "    </tr>\n",
              "    <tr>\n",
              "      <th>4</th>\n",
              "      <td>4</td>\n",
              "    </tr>\n",
              "  </tbody>\n",
              "</table>\n",
              "</div>"
            ],
            "text/plain": [
              "   jumlah_promosi\n",
              "0               2\n",
              "1               0\n",
              "2               1\n",
              "3               4\n",
              "4               4"
            ]
          },
          "execution_count": 394,
          "metadata": {},
          "output_type": "execute_result"
        }
      ],
      "source": [
        "trainLabels.head()"
      ]
    },
    {
      "cell_type": "code",
      "execution_count": 395,
      "metadata": {},
      "outputs": [
        {
          "data": {
            "text/plain": [
              "(3817, 1)"
            ]
          },
          "execution_count": 395,
          "metadata": {},
          "output_type": "execute_result"
        }
      ],
      "source": [
        "trainLabels.shape"
      ]
    },
    {
      "cell_type": "markdown",
      "metadata": {},
      "source": [
        "### Data Test Features"
      ]
    },
    {
      "cell_type": "code",
      "execution_count": 396,
      "metadata": {
        "colab": {
          "base_uri": "https://localhost:8080/",
          "height": 226
        },
        "id": "av96Aqkgos7F",
        "outputId": "03050a5a-5de7-42fc-df79-cc00bb630477"
      },
      "outputs": [
        {
          "data": {
            "text/html": [
              "<div>\n",
              "<style scoped>\n",
              "    .dataframe tbody tr th:only-of-type {\n",
              "        vertical-align: middle;\n",
              "    }\n",
              "\n",
              "    .dataframe tbody tr th {\n",
              "        vertical-align: top;\n",
              "    }\n",
              "\n",
              "    .dataframe thead th {\n",
              "        text-align: right;\n",
              "    }\n",
              "</style>\n",
              "<table border=\"1\" class=\"dataframe\">\n",
              "  <thead>\n",
              "    <tr style=\"text-align: right;\">\n",
              "      <th></th>\n",
              "      <th>ID</th>\n",
              "      <th>tahun_kelahiran</th>\n",
              "      <th>pendidikan</th>\n",
              "      <th>status_pernikahan</th>\n",
              "      <th>pendapatan</th>\n",
              "      <th>jumlah_anak_balita</th>\n",
              "      <th>jumlah_anak_remaja</th>\n",
              "      <th>terakhir_belanja</th>\n",
              "      <th>belanja_buah</th>\n",
              "      <th>belanja_daging</th>\n",
              "      <th>belanja_ikan</th>\n",
              "      <th>belanja_kue</th>\n",
              "      <th>pembelian_diskon</th>\n",
              "      <th>pembelian_web</th>\n",
              "      <th>pembelian_toko</th>\n",
              "      <th>keluhan</th>\n",
              "      <th>tanggal_menjadi_anggota</th>\n",
              "    </tr>\n",
              "  </thead>\n",
              "  <tbody>\n",
              "    <tr>\n",
              "      <th>0</th>\n",
              "      <td>2241</td>\n",
              "      <td>1957</td>\n",
              "      <td>Sarjana</td>\n",
              "      <td>NaN</td>\n",
              "      <td>120660151.0</td>\n",
              "      <td>0.0</td>\n",
              "      <td>1.0</td>\n",
              "      <td>63.0</td>\n",
              "      <td>122277.0</td>\n",
              "      <td>541399.0</td>\n",
              "      <td>214192.0</td>\n",
              "      <td>84305.0</td>\n",
              "      <td>4.0</td>\n",
              "      <td>6.0</td>\n",
              "      <td>10.0</td>\n",
              "      <td>0.0</td>\n",
              "      <td>NaN</td>\n",
              "    </tr>\n",
              "    <tr>\n",
              "      <th>1</th>\n",
              "      <td>2274</td>\n",
              "      <td>1968</td>\n",
              "      <td>Doktor</td>\n",
              "      <td>Menikah</td>\n",
              "      <td>163551821.0</td>\n",
              "      <td>0.0</td>\n",
              "      <td>1.0</td>\n",
              "      <td>58.0</td>\n",
              "      <td>35761.0</td>\n",
              "      <td>353335.0</td>\n",
              "      <td>63365.0</td>\n",
              "      <td>41112.0</td>\n",
              "      <td>2.0</td>\n",
              "      <td>5.0</td>\n",
              "      <td>10.0</td>\n",
              "      <td>0.0</td>\n",
              "      <td>NaN</td>\n",
              "    </tr>\n",
              "    <tr>\n",
              "      <th>2</th>\n",
              "      <td>1107</td>\n",
              "      <td>1968</td>\n",
              "      <td>SMA</td>\n",
              "      <td>Menikah</td>\n",
              "      <td>29857000.0</td>\n",
              "      <td>0.0</td>\n",
              "      <td>0.0</td>\n",
              "      <td>34.0</td>\n",
              "      <td>8092.0</td>\n",
              "      <td>22253.0</td>\n",
              "      <td>30345.0</td>\n",
              "      <td>26299.0</td>\n",
              "      <td>2.0</td>\n",
              "      <td>0.0</td>\n",
              "      <td>5.0</td>\n",
              "      <td>0.0</td>\n",
              "      <td>2013-08-06</td>\n",
              "    </tr>\n",
              "    <tr>\n",
              "      <th>3</th>\n",
              "      <td>4478</td>\n",
              "      <td>1971</td>\n",
              "      <td>Doktor</td>\n",
              "      <td>Menikah</td>\n",
              "      <td>117949098.0</td>\n",
              "      <td>0.0</td>\n",
              "      <td>1.0</td>\n",
              "      <td>82.0</td>\n",
              "      <td>4872.0</td>\n",
              "      <td>126061.0</td>\n",
              "      <td>0.0</td>\n",
              "      <td>9745.0</td>\n",
              "      <td>3.0</td>\n",
              "      <td>5.0</td>\n",
              "      <td>7.0</td>\n",
              "      <td>0.0</td>\n",
              "      <td>NaN</td>\n",
              "    </tr>\n",
              "    <tr>\n",
              "      <th>4</th>\n",
              "      <td>5080</td>\n",
              "      <td>1974</td>\n",
              "      <td>Sarjana</td>\n",
              "      <td>Rencana Menikah</td>\n",
              "      <td>164761134.0</td>\n",
              "      <td>0.0</td>\n",
              "      <td>0.0</td>\n",
              "      <td>28.0</td>\n",
              "      <td>343208.0</td>\n",
              "      <td>1416462.0</td>\n",
              "      <td>236196.0</td>\n",
              "      <td>107776.0</td>\n",
              "      <td>0.0</td>\n",
              "      <td>1.0</td>\n",
              "      <td>8.0</td>\n",
              "      <td>0.0</td>\n",
              "      <td>NaN</td>\n",
              "    </tr>\n",
              "  </tbody>\n",
              "</table>\n",
              "</div>"
            ],
            "text/plain": [
              "     ID  tahun_kelahiran pendidikan status_pernikahan   pendapatan  \\\n",
              "0  2241             1957    Sarjana               NaN  120660151.0   \n",
              "1  2274             1968     Doktor           Menikah  163551821.0   \n",
              "2  1107             1968        SMA           Menikah   29857000.0   \n",
              "3  4478             1971     Doktor           Menikah  117949098.0   \n",
              "4  5080             1974    Sarjana   Rencana Menikah  164761134.0   \n",
              "\n",
              "   jumlah_anak_balita  jumlah_anak_remaja  terakhir_belanja  belanja_buah  \\\n",
              "0                 0.0                 1.0              63.0      122277.0   \n",
              "1                 0.0                 1.0              58.0       35761.0   \n",
              "2                 0.0                 0.0              34.0        8092.0   \n",
              "3                 0.0                 1.0              82.0        4872.0   \n",
              "4                 0.0                 0.0              28.0      343208.0   \n",
              "\n",
              "   belanja_daging  belanja_ikan  belanja_kue  pembelian_diskon  pembelian_web  \\\n",
              "0        541399.0      214192.0      84305.0               4.0            6.0   \n",
              "1        353335.0       63365.0      41112.0               2.0            5.0   \n",
              "2         22253.0       30345.0      26299.0               2.0            0.0   \n",
              "3        126061.0           0.0       9745.0               3.0            5.0   \n",
              "4       1416462.0      236196.0     107776.0               0.0            1.0   \n",
              "\n",
              "   pembelian_toko  keluhan tanggal_menjadi_anggota  \n",
              "0            10.0      0.0                     NaN  \n",
              "1            10.0      0.0                     NaN  \n",
              "2             5.0      0.0              2013-08-06  \n",
              "3             7.0      0.0                     NaN  \n",
              "4             8.0      0.0                     NaN  "
            ]
          },
          "execution_count": 396,
          "metadata": {},
          "output_type": "execute_result"
        }
      ],
      "source": [
        "testFeatures.head()"
      ]
    },
    {
      "cell_type": "code",
      "execution_count": 397,
      "metadata": {
        "colab": {
          "base_uri": "https://localhost:8080/",
          "height": 206
        },
        "id": "pWRc1BDlpUHx",
        "outputId": "1c2478c6-7b7d-498d-d22e-3d2cf904f341"
      },
      "outputs": [
        {
          "data": {
            "text/html": [
              "<div>\n",
              "<style scoped>\n",
              "    .dataframe tbody tr th:only-of-type {\n",
              "        vertical-align: middle;\n",
              "    }\n",
              "\n",
              "    .dataframe tbody tr th {\n",
              "        vertical-align: top;\n",
              "    }\n",
              "\n",
              "    .dataframe thead th {\n",
              "        text-align: right;\n",
              "    }\n",
              "</style>\n",
              "<table border=\"1\" class=\"dataframe\">\n",
              "  <thead>\n",
              "    <tr style=\"text-align: right;\">\n",
              "      <th></th>\n",
              "      <th>ID</th>\n",
              "      <th>jumlah_promosi</th>\n",
              "    </tr>\n",
              "  </thead>\n",
              "  <tbody>\n",
              "    <tr>\n",
              "      <th>0</th>\n",
              "      <td>2241</td>\n",
              "      <td>6</td>\n",
              "    </tr>\n",
              "    <tr>\n",
              "      <th>1</th>\n",
              "      <td>2274</td>\n",
              "      <td>6</td>\n",
              "    </tr>\n",
              "    <tr>\n",
              "      <th>2</th>\n",
              "      <td>1107</td>\n",
              "      <td>6</td>\n",
              "    </tr>\n",
              "    <tr>\n",
              "      <th>3</th>\n",
              "      <td>4478</td>\n",
              "      <td>6</td>\n",
              "    </tr>\n",
              "    <tr>\n",
              "      <th>4</th>\n",
              "      <td>5080</td>\n",
              "      <td>6</td>\n",
              "    </tr>\n",
              "  </tbody>\n",
              "</table>\n",
              "</div>"
            ],
            "text/plain": [
              "     ID  jumlah_promosi\n",
              "0  2241               6\n",
              "1  2274               6\n",
              "2  1107               6\n",
              "3  4478               6\n",
              "4  5080               6"
            ]
          },
          "execution_count": 397,
          "metadata": {},
          "output_type": "execute_result"
        }
      ],
      "source": [
        "example.head()"
      ]
    },
    {
      "cell_type": "markdown",
      "metadata": {},
      "source": [
        "## Concatenate Data Training\n",
        "\n",
        "Dari data training yang tersedia, perlu dilakukan penggabungan dari kedua data yaitu **Train Features** dan **Train Labels**."
      ]
    },
    {
      "cell_type": "code",
      "execution_count": 398,
      "metadata": {},
      "outputs": [],
      "source": [
        "dataTraining = pd.concat([trainFeatures, trainLabels], axis=1)"
      ]
    },
    {
      "cell_type": "code",
      "execution_count": 399,
      "metadata": {},
      "outputs": [
        {
          "name": "stdout",
          "output_type": "stream",
          "text": [
            "Banyak Data Training: 3817\n"
          ]
        },
        {
          "data": {
            "text/html": [
              "<div>\n",
              "<style scoped>\n",
              "    .dataframe tbody tr th:only-of-type {\n",
              "        vertical-align: middle;\n",
              "    }\n",
              "\n",
              "    .dataframe tbody tr th {\n",
              "        vertical-align: top;\n",
              "    }\n",
              "\n",
              "    .dataframe thead th {\n",
              "        text-align: right;\n",
              "    }\n",
              "</style>\n",
              "<table border=\"1\" class=\"dataframe\">\n",
              "  <thead>\n",
              "    <tr style=\"text-align: right;\">\n",
              "      <th></th>\n",
              "      <th>tahun_kelahiran</th>\n",
              "      <th>pendidikan</th>\n",
              "      <th>status_pernikahan</th>\n",
              "      <th>pendapatan</th>\n",
              "      <th>jumlah_anak_balita</th>\n",
              "      <th>jumlah_anak_remaja</th>\n",
              "      <th>terakhir_belanja</th>\n",
              "      <th>belanja_buah</th>\n",
              "      <th>belanja_daging</th>\n",
              "      <th>belanja_ikan</th>\n",
              "      <th>belanja_kue</th>\n",
              "      <th>pembelian_diskon</th>\n",
              "      <th>pembelian_web</th>\n",
              "      <th>pembelian_toko</th>\n",
              "      <th>keluhan</th>\n",
              "      <th>tanggal_menjadi_anggota</th>\n",
              "      <th>jumlah_promosi</th>\n",
              "    </tr>\n",
              "  </thead>\n",
              "  <tbody>\n",
              "    <tr>\n",
              "      <th>0</th>\n",
              "      <td>1979</td>\n",
              "      <td>Sarjana</td>\n",
              "      <td>Rencana Menikah</td>\n",
              "      <td>NaN</td>\n",
              "      <td>0.0</td>\n",
              "      <td>1.0</td>\n",
              "      <td>NaN</td>\n",
              "      <td>50575.0</td>\n",
              "      <td>260967.0</td>\n",
              "      <td>50575.0</td>\n",
              "      <td>20230.0</td>\n",
              "      <td>2.0</td>\n",
              "      <td>2.0</td>\n",
              "      <td>5.0</td>\n",
              "      <td>0.0</td>\n",
              "      <td>2014-05-05</td>\n",
              "      <td>2</td>\n",
              "    </tr>\n",
              "    <tr>\n",
              "      <th>1</th>\n",
              "      <td>1950</td>\n",
              "      <td>Sarjana</td>\n",
              "      <td>Rencana Menikah</td>\n",
              "      <td>84063000.0</td>\n",
              "      <td>NaN</td>\n",
              "      <td>NaN</td>\n",
              "      <td>70.0</td>\n",
              "      <td>6069.0</td>\n",
              "      <td>44506.0</td>\n",
              "      <td>80920.0</td>\n",
              "      <td>20230.0</td>\n",
              "      <td>9.0</td>\n",
              "      <td>6.0</td>\n",
              "      <td>4.0</td>\n",
              "      <td>0.0</td>\n",
              "      <td>2013-03-17</td>\n",
              "      <td>0</td>\n",
              "    </tr>\n",
              "    <tr>\n",
              "      <th>2</th>\n",
              "      <td>1966</td>\n",
              "      <td>Sarjana</td>\n",
              "      <td>Menikah</td>\n",
              "      <td>127532564.0</td>\n",
              "      <td>0.0</td>\n",
              "      <td>0.0</td>\n",
              "      <td>45.0</td>\n",
              "      <td>117611.0</td>\n",
              "      <td>265460.0</td>\n",
              "      <td>96341.0</td>\n",
              "      <td>145573.0</td>\n",
              "      <td>1.0</td>\n",
              "      <td>1.0</td>\n",
              "      <td>7.0</td>\n",
              "      <td>0.0</td>\n",
              "      <td>NaN</td>\n",
              "      <td>1</td>\n",
              "    </tr>\n",
              "    <tr>\n",
              "      <th>3</th>\n",
              "      <td>1961</td>\n",
              "      <td>Magister</td>\n",
              "      <td>Rencana Menikah</td>\n",
              "      <td>165579620.0</td>\n",
              "      <td>0.0</td>\n",
              "      <td>0.0</td>\n",
              "      <td>90.0</td>\n",
              "      <td>206346.0</td>\n",
              "      <td>1613901.0</td>\n",
              "      <td>27725.0</td>\n",
              "      <td>125868.0</td>\n",
              "      <td>0.0</td>\n",
              "      <td>7.0</td>\n",
              "      <td>8.0</td>\n",
              "      <td>0.0</td>\n",
              "      <td>NaN</td>\n",
              "      <td>4</td>\n",
              "    </tr>\n",
              "    <tr>\n",
              "      <th>4</th>\n",
              "      <td>1970</td>\n",
              "      <td>Sarjana</td>\n",
              "      <td>Rencana Menikah</td>\n",
              "      <td>117703159.0</td>\n",
              "      <td>1.0</td>\n",
              "      <td>1.0</td>\n",
              "      <td>78.0</td>\n",
              "      <td>90563.0</td>\n",
              "      <td>311757.0</td>\n",
              "      <td>40358.0</td>\n",
              "      <td>33875.0</td>\n",
              "      <td>7.0</td>\n",
              "      <td>6.0</td>\n",
              "      <td>5.0</td>\n",
              "      <td>0.0</td>\n",
              "      <td>NaN</td>\n",
              "      <td>4</td>\n",
              "    </tr>\n",
              "  </tbody>\n",
              "</table>\n",
              "</div>"
            ],
            "text/plain": [
              "   tahun_kelahiran pendidikan status_pernikahan   pendapatan  \\\n",
              "0             1979    Sarjana   Rencana Menikah          NaN   \n",
              "1             1950    Sarjana   Rencana Menikah   84063000.0   \n",
              "2             1966    Sarjana           Menikah  127532564.0   \n",
              "3             1961   Magister   Rencana Menikah  165579620.0   \n",
              "4             1970    Sarjana   Rencana Menikah  117703159.0   \n",
              "\n",
              "   jumlah_anak_balita  jumlah_anak_remaja  terakhir_belanja  belanja_buah  \\\n",
              "0                 0.0                 1.0               NaN       50575.0   \n",
              "1                 NaN                 NaN              70.0        6069.0   \n",
              "2                 0.0                 0.0              45.0      117611.0   \n",
              "3                 0.0                 0.0              90.0      206346.0   \n",
              "4                 1.0                 1.0              78.0       90563.0   \n",
              "\n",
              "   belanja_daging  belanja_ikan  belanja_kue  pembelian_diskon  pembelian_web  \\\n",
              "0        260967.0       50575.0      20230.0               2.0            2.0   \n",
              "1         44506.0       80920.0      20230.0               9.0            6.0   \n",
              "2        265460.0       96341.0     145573.0               1.0            1.0   \n",
              "3       1613901.0       27725.0     125868.0               0.0            7.0   \n",
              "4        311757.0       40358.0      33875.0               7.0            6.0   \n",
              "\n",
              "   pembelian_toko  keluhan tanggal_menjadi_anggota  jumlah_promosi  \n",
              "0             5.0      0.0              2014-05-05               2  \n",
              "1             4.0      0.0              2013-03-17               0  \n",
              "2             7.0      0.0                     NaN               1  \n",
              "3             8.0      0.0                     NaN               4  \n",
              "4             5.0      0.0                     NaN               4  "
            ]
          },
          "execution_count": 399,
          "metadata": {},
          "output_type": "execute_result"
        }
      ],
      "source": [
        "print(\"Banyak Data Training:\", dataTraining.shape[0])\n",
        "dataTraining.head()"
      ]
    },
    {
      "cell_type": "markdown",
      "metadata": {
        "id": "dkK_vAFruPiE"
      },
      "source": [
        "# Data Assessing"
      ]
    },
    {
      "cell_type": "markdown",
      "metadata": {
        "id": "Psp6W-2Lu32X"
      },
      "source": [
        "## Informasi Umum Data Training"
      ]
    },
    {
      "cell_type": "code",
      "execution_count": 400,
      "metadata": {
        "colab": {
          "base_uri": "https://localhost:8080/"
        },
        "id": "feTYV5VzM03a",
        "outputId": "6d39a225-aad1-47a6-c7a7-1803774902c2"
      },
      "outputs": [
        {
          "name": "stdout",
          "output_type": "stream",
          "text": [
            "<class 'pandas.core.frame.DataFrame'>\n",
            "RangeIndex: 3817 entries, 0 to 3816\n",
            "Data columns (total 17 columns):\n",
            " #   Column                   Non-Null Count  Dtype  \n",
            "---  ------                   --------------  -----  \n",
            " 0   tahun_kelahiran          3817 non-null   int64  \n",
            " 1   pendidikan               3628 non-null   object \n",
            " 2   status_pernikahan        3605 non-null   object \n",
            " 3   pendapatan               3627 non-null   float64\n",
            " 4   jumlah_anak_balita       3627 non-null   float64\n",
            " 5   jumlah_anak_remaja       3613 non-null   float64\n",
            " 6   terakhir_belanja         3645 non-null   float64\n",
            " 7   belanja_buah             3636 non-null   float64\n",
            " 8   belanja_daging           3639 non-null   float64\n",
            " 9   belanja_ikan             3624 non-null   float64\n",
            " 10  belanja_kue              3603 non-null   float64\n",
            " 11  pembelian_diskon         3639 non-null   float64\n",
            " 12  pembelian_web            3652 non-null   float64\n",
            " 13  pembelian_toko           3648 non-null   float64\n",
            " 14  keluhan                  3621 non-null   float64\n",
            " 15  tanggal_menjadi_anggota  1065 non-null   object \n",
            " 16  jumlah_promosi           3817 non-null   int64  \n",
            "dtypes: float64(12), int64(2), object(3)\n",
            "memory usage: 507.1+ KB\n"
          ]
        }
      ],
      "source": [
        "dataTraining.info()"
      ]
    },
    {
      "cell_type": "code",
      "execution_count": 401,
      "metadata": {
        "colab": {
          "base_uri": "https://localhost:8080/",
          "height": 320
        },
        "id": "z4DIuVNpdXo6",
        "outputId": "5f27646e-851a-4fde-85d7-6ffd77f9417a"
      },
      "outputs": [
        {
          "data": {
            "text/html": [
              "<div>\n",
              "<style scoped>\n",
              "    .dataframe tbody tr th:only-of-type {\n",
              "        vertical-align: middle;\n",
              "    }\n",
              "\n",
              "    .dataframe tbody tr th {\n",
              "        vertical-align: top;\n",
              "    }\n",
              "\n",
              "    .dataframe thead th {\n",
              "        text-align: right;\n",
              "    }\n",
              "</style>\n",
              "<table border=\"1\" class=\"dataframe\">\n",
              "  <thead>\n",
              "    <tr style=\"text-align: right;\">\n",
              "      <th></th>\n",
              "      <th>tahun_kelahiran</th>\n",
              "      <th>pendapatan</th>\n",
              "      <th>jumlah_anak_balita</th>\n",
              "      <th>jumlah_anak_remaja</th>\n",
              "      <th>terakhir_belanja</th>\n",
              "      <th>belanja_buah</th>\n",
              "      <th>belanja_daging</th>\n",
              "      <th>belanja_ikan</th>\n",
              "      <th>belanja_kue</th>\n",
              "      <th>pembelian_diskon</th>\n",
              "      <th>pembelian_web</th>\n",
              "      <th>pembelian_toko</th>\n",
              "      <th>keluhan</th>\n",
              "      <th>jumlah_promosi</th>\n",
              "    </tr>\n",
              "  </thead>\n",
              "  <tbody>\n",
              "    <tr>\n",
              "      <th>count</th>\n",
              "      <td>3817.000000</td>\n",
              "      <td>3.627000e+03</td>\n",
              "      <td>3627.000000</td>\n",
              "      <td>3613.000000</td>\n",
              "      <td>3645.000000</td>\n",
              "      <td>3636.000000</td>\n",
              "      <td>3.639000e+03</td>\n",
              "      <td>3624.000000</td>\n",
              "      <td>3603.000000</td>\n",
              "      <td>3639.000000</td>\n",
              "      <td>3652.000000</td>\n",
              "      <td>3648.000000</td>\n",
              "      <td>3621.000000</td>\n",
              "      <td>3817.000000</td>\n",
              "    </tr>\n",
              "    <tr>\n",
              "      <th>mean</th>\n",
              "      <td>1967.823946</td>\n",
              "      <td>1.144832e+08</td>\n",
              "      <td>0.293080</td>\n",
              "      <td>0.353723</td>\n",
              "      <td>47.231550</td>\n",
              "      <td>59804.239824</td>\n",
              "      <td>4.385748e+05</td>\n",
              "      <td>81428.997792</td>\n",
              "      <td>63377.970580</td>\n",
              "      <td>2.125584</td>\n",
              "      <td>4.436473</td>\n",
              "      <td>5.767818</td>\n",
              "      <td>0.004971</td>\n",
              "      <td>2.585800</td>\n",
              "    </tr>\n",
              "    <tr>\n",
              "      <th>std</th>\n",
              "      <td>11.768131</td>\n",
              "      <td>4.346042e+07</td>\n",
              "      <td>0.473063</td>\n",
              "      <td>0.493014</td>\n",
              "      <td>27.068512</td>\n",
              "      <td>74024.976109</td>\n",
              "      <td>5.120427e+05</td>\n",
              "      <td>99976.226855</td>\n",
              "      <td>79435.457282</td>\n",
              "      <td>2.100133</td>\n",
              "      <td>3.002522</td>\n",
              "      <td>3.210738</td>\n",
              "      <td>0.070340</td>\n",
              "      <td>2.101845</td>\n",
              "    </tr>\n",
              "    <tr>\n",
              "      <th>min</th>\n",
              "      <td>1899.000000</td>\n",
              "      <td>5.073000e+06</td>\n",
              "      <td>0.000000</td>\n",
              "      <td>0.000000</td>\n",
              "      <td>0.000000</td>\n",
              "      <td>0.000000</td>\n",
              "      <td>0.000000e+00</td>\n",
              "      <td>0.000000</td>\n",
              "      <td>0.000000</td>\n",
              "      <td>0.000000</td>\n",
              "      <td>0.000000</td>\n",
              "      <td>0.000000</td>\n",
              "      <td>0.000000</td>\n",
              "      <td>0.000000</td>\n",
              "    </tr>\n",
              "    <tr>\n",
              "      <th>25%</th>\n",
              "      <td>1959.000000</td>\n",
              "      <td>8.112512e+07</td>\n",
              "      <td>0.000000</td>\n",
              "      <td>0.000000</td>\n",
              "      <td>25.000000</td>\n",
              "      <td>7907.000000</td>\n",
              "      <td>4.947950e+04</td>\n",
              "      <td>10115.000000</td>\n",
              "      <td>7947.000000</td>\n",
              "      <td>0.000000</td>\n",
              "      <td>2.000000</td>\n",
              "      <td>3.000000</td>\n",
              "      <td>0.000000</td>\n",
              "      <td>0.000000</td>\n",
              "    </tr>\n",
              "    <tr>\n",
              "      <th>50%</th>\n",
              "      <td>1968.000000</td>\n",
              "      <td>1.156214e+08</td>\n",
              "      <td>0.000000</td>\n",
              "      <td>0.000000</td>\n",
              "      <td>47.000000</td>\n",
              "      <td>26456.000000</td>\n",
              "      <td>2.219930e+05</td>\n",
              "      <td>36054.500000</td>\n",
              "      <td>27795.000000</td>\n",
              "      <td>2.000000</td>\n",
              "      <td>4.000000</td>\n",
              "      <td>5.000000</td>\n",
              "      <td>0.000000</td>\n",
              "      <td>3.000000</td>\n",
              "    </tr>\n",
              "    <tr>\n",
              "      <th>75%</th>\n",
              "      <td>1976.000000</td>\n",
              "      <td>1.504960e+08</td>\n",
              "      <td>1.000000</td>\n",
              "      <td>1.000000</td>\n",
              "      <td>69.000000</td>\n",
              "      <td>86162.000000</td>\n",
              "      <td>6.863555e+05</td>\n",
              "      <td>121380.000000</td>\n",
              "      <td>89502.500000</td>\n",
              "      <td>3.000000</td>\n",
              "      <td>7.000000</td>\n",
              "      <td>8.000000</td>\n",
              "      <td>0.000000</td>\n",
              "      <td>4.000000</td>\n",
              "    </tr>\n",
              "    <tr>\n",
              "      <th>max</th>\n",
              "      <td>2000.000000</td>\n",
              "      <td>3.328840e+08</td>\n",
              "      <td>2.000000</td>\n",
              "      <td>2.000000</td>\n",
              "      <td>128.000000</td>\n",
              "      <td>396508.000000</td>\n",
              "      <td>3.489675e+06</td>\n",
              "      <td>621600.000000</td>\n",
              "      <td>542164.000000</td>\n",
              "      <td>20.000000</td>\n",
              "      <td>30.000000</td>\n",
              "      <td>17.000000</td>\n",
              "      <td>1.000000</td>\n",
              "      <td>6.000000</td>\n",
              "    </tr>\n",
              "  </tbody>\n",
              "</table>\n",
              "</div>"
            ],
            "text/plain": [
              "       tahun_kelahiran    pendapatan  jumlah_anak_balita  jumlah_anak_remaja  \\\n",
              "count      3817.000000  3.627000e+03         3627.000000         3613.000000   \n",
              "mean       1967.823946  1.144832e+08            0.293080            0.353723   \n",
              "std          11.768131  4.346042e+07            0.473063            0.493014   \n",
              "min        1899.000000  5.073000e+06            0.000000            0.000000   \n",
              "25%        1959.000000  8.112512e+07            0.000000            0.000000   \n",
              "50%        1968.000000  1.156214e+08            0.000000            0.000000   \n",
              "75%        1976.000000  1.504960e+08            1.000000            1.000000   \n",
              "max        2000.000000  3.328840e+08            2.000000            2.000000   \n",
              "\n",
              "       terakhir_belanja   belanja_buah  belanja_daging   belanja_ikan  \\\n",
              "count       3645.000000    3636.000000    3.639000e+03    3624.000000   \n",
              "mean          47.231550   59804.239824    4.385748e+05   81428.997792   \n",
              "std           27.068512   74024.976109    5.120427e+05   99976.226855   \n",
              "min            0.000000       0.000000    0.000000e+00       0.000000   \n",
              "25%           25.000000    7907.000000    4.947950e+04   10115.000000   \n",
              "50%           47.000000   26456.000000    2.219930e+05   36054.500000   \n",
              "75%           69.000000   86162.000000    6.863555e+05  121380.000000   \n",
              "max          128.000000  396508.000000    3.489675e+06  621600.000000   \n",
              "\n",
              "         belanja_kue  pembelian_diskon  pembelian_web  pembelian_toko  \\\n",
              "count    3603.000000       3639.000000    3652.000000     3648.000000   \n",
              "mean    63377.970580          2.125584       4.436473        5.767818   \n",
              "std     79435.457282          2.100133       3.002522        3.210738   \n",
              "min         0.000000          0.000000       0.000000        0.000000   \n",
              "25%      7947.000000          0.000000       2.000000        3.000000   \n",
              "50%     27795.000000          2.000000       4.000000        5.000000   \n",
              "75%     89502.500000          3.000000       7.000000        8.000000   \n",
              "max    542164.000000         20.000000      30.000000       17.000000   \n",
              "\n",
              "           keluhan  jumlah_promosi  \n",
              "count  3621.000000     3817.000000  \n",
              "mean      0.004971        2.585800  \n",
              "std       0.070340        2.101845  \n",
              "min       0.000000        0.000000  \n",
              "25%       0.000000        0.000000  \n",
              "50%       0.000000        3.000000  \n",
              "75%       0.000000        4.000000  \n",
              "max       1.000000        6.000000  "
            ]
          },
          "execution_count": 401,
          "metadata": {},
          "output_type": "execute_result"
        }
      ],
      "source": [
        "dataTraining.describe()"
      ]
    },
    {
      "cell_type": "markdown",
      "metadata": {
        "id": "1piJJr4eu8-R"
      },
      "source": [
        "## Cek Nilai Null Data Training"
      ]
    },
    {
      "cell_type": "code",
      "execution_count": 402,
      "metadata": {
        "colab": {
          "base_uri": "https://localhost:8080/"
        },
        "id": "L_9QDPvxddmr",
        "outputId": "7cc888d5-91b6-4bda-d3af-954e6ba86045"
      },
      "outputs": [
        {
          "data": {
            "text/plain": [
              "tahun_kelahiran               0\n",
              "pendidikan                  189\n",
              "status_pernikahan           212\n",
              "pendapatan                  190\n",
              "jumlah_anak_balita          190\n",
              "jumlah_anak_remaja          204\n",
              "terakhir_belanja            172\n",
              "belanja_buah                181\n",
              "belanja_daging              178\n",
              "belanja_ikan                193\n",
              "belanja_kue                 214\n",
              "pembelian_diskon            178\n",
              "pembelian_web               165\n",
              "pembelian_toko              169\n",
              "keluhan                     196\n",
              "tanggal_menjadi_anggota    2752\n",
              "jumlah_promosi                0\n",
              "dtype: int64"
            ]
          },
          "execution_count": 402,
          "metadata": {},
          "output_type": "execute_result"
        }
      ],
      "source": [
        "dataTraining.isnull().sum()"
      ]
    },
    {
      "cell_type": "markdown",
      "metadata": {
        "id": "Jq1rp2vrvFDp"
      },
      "source": [
        "## Cek Nilai Duplikat Dataset Train Features"
      ]
    },
    {
      "cell_type": "code",
      "execution_count": 403,
      "metadata": {
        "colab": {
          "base_uri": "https://localhost:8080/"
        },
        "id": "1n3lMmbAvRL-",
        "outputId": "43dd9afb-28a7-425e-f999-50cba6336a88"
      },
      "outputs": [
        {
          "data": {
            "text/plain": [
              "0"
            ]
          },
          "execution_count": 403,
          "metadata": {},
          "output_type": "execute_result"
        }
      ],
      "source": [
        "dataTraining.duplicated().sum()"
      ]
    },
    {
      "cell_type": "markdown",
      "metadata": {
        "id": "74ciVYpkv2Q3"
      },
      "source": [
        "# Data Cleaning"
      ]
    },
    {
      "cell_type": "markdown",
      "metadata": {
        "id": "iUo5NxV4v7XB"
      },
      "source": [
        "## Kolom Pendidikan"
      ]
    },
    {
      "cell_type": "code",
      "execution_count": 404,
      "metadata": {
        "colab": {
          "base_uri": "https://localhost:8080/"
        },
        "id": "L5Ii6sBSivmn",
        "outputId": "b35a14fc-6a7f-4cba-bf17-6be74d29c478"
      },
      "outputs": [
        {
          "data": {
            "text/plain": [
              "array(['Sarjana', 'Magister', 'SMA', 'SMP', 'Doktor', nan, '5'],\n",
              "      dtype=object)"
            ]
          },
          "execution_count": 404,
          "metadata": {},
          "output_type": "execute_result"
        }
      ],
      "source": [
        "# Cek Nilai Unique\n",
        "dataTraining['pendidikan'].unique()"
      ]
    },
    {
      "cell_type": "markdown",
      "metadata": {
        "id": "fR7L7DXOwZgX"
      },
      "source": [
        "Terdapat dua nilai salah yaitu nan dan '5'. Maka perlu dibersihkan pada dua nilai tersebut."
      ]
    },
    {
      "cell_type": "markdown",
      "metadata": {
        "id": "fETtVqmz9HRq"
      },
      "source": [
        "### Olah Data dengan Nilai Unique '5'"
      ]
    },
    {
      "cell_type": "code",
      "execution_count": 405,
      "metadata": {
        "colab": {
          "base_uri": "https://localhost:8080/",
          "height": 132
        },
        "id": "_biw-YdWkAMy",
        "outputId": "f841f601-52c7-472d-f452-a65849b7e8b6"
      },
      "outputs": [
        {
          "data": {
            "text/html": [
              "<div>\n",
              "<style scoped>\n",
              "    .dataframe tbody tr th:only-of-type {\n",
              "        vertical-align: middle;\n",
              "    }\n",
              "\n",
              "    .dataframe tbody tr th {\n",
              "        vertical-align: top;\n",
              "    }\n",
              "\n",
              "    .dataframe thead th {\n",
              "        text-align: right;\n",
              "    }\n",
              "</style>\n",
              "<table border=\"1\" class=\"dataframe\">\n",
              "  <thead>\n",
              "    <tr style=\"text-align: right;\">\n",
              "      <th></th>\n",
              "      <th>tahun_kelahiran</th>\n",
              "      <th>pendidikan</th>\n",
              "      <th>status_pernikahan</th>\n",
              "      <th>pendapatan</th>\n",
              "      <th>jumlah_anak_balita</th>\n",
              "      <th>jumlah_anak_remaja</th>\n",
              "      <th>terakhir_belanja</th>\n",
              "      <th>belanja_buah</th>\n",
              "      <th>belanja_daging</th>\n",
              "      <th>belanja_ikan</th>\n",
              "      <th>belanja_kue</th>\n",
              "      <th>pembelian_diskon</th>\n",
              "      <th>pembelian_web</th>\n",
              "      <th>pembelian_toko</th>\n",
              "      <th>keluhan</th>\n",
              "      <th>tanggal_menjadi_anggota</th>\n",
              "      <th>jumlah_promosi</th>\n",
              "    </tr>\n",
              "  </thead>\n",
              "  <tbody>\n",
              "    <tr>\n",
              "      <th>309</th>\n",
              "      <td>1958</td>\n",
              "      <td>5</td>\n",
              "      <td>Sendiri</td>\n",
              "      <td>64570844.0</td>\n",
              "      <td>1.0</td>\n",
              "      <td>1.0</td>\n",
              "      <td>7.0</td>\n",
              "      <td>4810.0</td>\n",
              "      <td>6113.0</td>\n",
              "      <td>4359.0</td>\n",
              "      <td>7597.0</td>\n",
              "      <td>3.0</td>\n",
              "      <td>1.0</td>\n",
              "      <td>4.0</td>\n",
              "      <td>0.0</td>\n",
              "      <td>NaN</td>\n",
              "      <td>0</td>\n",
              "    </tr>\n",
              "    <tr>\n",
              "      <th>1596</th>\n",
              "      <td>1977</td>\n",
              "      <td>5</td>\n",
              "      <td>Menikah</td>\n",
              "      <td>136702741.0</td>\n",
              "      <td>0.0</td>\n",
              "      <td>0.0</td>\n",
              "      <td>86.0</td>\n",
              "      <td>51072.0</td>\n",
              "      <td>1477175.0</td>\n",
              "      <td>211531.0</td>\n",
              "      <td>86926.0</td>\n",
              "      <td>3.0</td>\n",
              "      <td>3.0</td>\n",
              "      <td>13.0</td>\n",
              "      <td>0.0</td>\n",
              "      <td>NaN</td>\n",
              "      <td>0</td>\n",
              "    </tr>\n",
              "  </tbody>\n",
              "</table>\n",
              "</div>"
            ],
            "text/plain": [
              "      tahun_kelahiran pendidikan status_pernikahan   pendapatan  \\\n",
              "309              1958          5           Sendiri   64570844.0   \n",
              "1596             1977          5           Menikah  136702741.0   \n",
              "\n",
              "      jumlah_anak_balita  jumlah_anak_remaja  terakhir_belanja  belanja_buah  \\\n",
              "309                  1.0                 1.0               7.0        4810.0   \n",
              "1596                 0.0                 0.0              86.0       51072.0   \n",
              "\n",
              "      belanja_daging  belanja_ikan  belanja_kue  pembelian_diskon  \\\n",
              "309           6113.0        4359.0       7597.0               3.0   \n",
              "1596       1477175.0      211531.0      86926.0               3.0   \n",
              "\n",
              "      pembelian_web  pembelian_toko  keluhan tanggal_menjadi_anggota  \\\n",
              "309             1.0             4.0      0.0                     NaN   \n",
              "1596            3.0            13.0      0.0                     NaN   \n",
              "\n",
              "      jumlah_promosi  \n",
              "309                0  \n",
              "1596               0  "
            ]
          },
          "execution_count": 405,
          "metadata": {},
          "output_type": "execute_result"
        }
      ],
      "source": [
        "# Ambil contoh nilai pada kolom pendidikan dengan nilai '5'\n",
        "dataTraining[dataTraining['pendidikan'] == '5'].head()"
      ]
    },
    {
      "cell_type": "code",
      "execution_count": 406,
      "metadata": {
        "id": "TR8SH47equIy"
      },
      "outputs": [],
      "source": [
        "# Mengambil indeks data dengan nilai unique '5'\n",
        "dropPendidikan = dataTraining[dataTraining['pendidikan'] == '5'].index\n",
        "# Menghapus nilai dengan indeks tersebut\n",
        "dataTraining.drop(dropPendidikan, inplace=True)"
      ]
    },
    {
      "cell_type": "markdown",
      "metadata": {
        "id": "407u4fIXxP39"
      },
      "source": [
        "Saat ini nilai dengan inputan '5' sudah terhapus, karena hanya terdapat 2 data saja maka dapat dikatakan aman untuk dihapus.\n",
        "\n",
        "Selanjutnya yaitu menangani data dengan inputan nan. Untuk langkah yang diambil yaitu mengecek seberapa banyak nilai nan yang ada. Jika jumlah terbilang sedikit, langkah yang diambil adalah menghapus nilai tersebut (seperti pada inputan '5' sebelumnya). Namun, jika jumlahnya terbilang cukup banyak, maka langkah yang diambil yaitu mengubah setiap nilai nan menjadi nilai modus pada kolom **pendidikan**."
      ]
    },
    {
      "cell_type": "markdown",
      "metadata": {
        "id": "gKREKga39fxO"
      },
      "source": [
        "### Olah Data dengan Nilai Unique NaN"
      ]
    },
    {
      "cell_type": "code",
      "execution_count": 407,
      "metadata": {
        "colab": {
          "base_uri": "https://localhost:8080/",
          "height": 435
        },
        "id": "G9u__T4IyUTa",
        "outputId": "d210030f-e739-4c49-9672-d5e24de5917b"
      },
      "outputs": [
        {
          "name": "stdout",
          "output_type": "stream",
          "text": [
            "Banyak Data dengan inputan nan: 189 \n",
            "\n",
            "Dengan sample data sebagai berikut: \n"
          ]
        },
        {
          "data": {
            "text/html": [
              "<div>\n",
              "<style scoped>\n",
              "    .dataframe tbody tr th:only-of-type {\n",
              "        vertical-align: middle;\n",
              "    }\n",
              "\n",
              "    .dataframe tbody tr th {\n",
              "        vertical-align: top;\n",
              "    }\n",
              "\n",
              "    .dataframe thead th {\n",
              "        text-align: right;\n",
              "    }\n",
              "</style>\n",
              "<table border=\"1\" class=\"dataframe\">\n",
              "  <thead>\n",
              "    <tr style=\"text-align: right;\">\n",
              "      <th></th>\n",
              "      <th>tahun_kelahiran</th>\n",
              "      <th>pendidikan</th>\n",
              "      <th>status_pernikahan</th>\n",
              "      <th>pendapatan</th>\n",
              "      <th>jumlah_anak_balita</th>\n",
              "      <th>jumlah_anak_remaja</th>\n",
              "      <th>terakhir_belanja</th>\n",
              "      <th>belanja_buah</th>\n",
              "      <th>belanja_daging</th>\n",
              "      <th>belanja_ikan</th>\n",
              "      <th>belanja_kue</th>\n",
              "      <th>pembelian_diskon</th>\n",
              "      <th>pembelian_web</th>\n",
              "      <th>pembelian_toko</th>\n",
              "      <th>keluhan</th>\n",
              "      <th>tanggal_menjadi_anggota</th>\n",
              "      <th>jumlah_promosi</th>\n",
              "    </tr>\n",
              "  </thead>\n",
              "  <tbody>\n",
              "    <tr>\n",
              "      <th>1729</th>\n",
              "      <td>1959</td>\n",
              "      <td>NaN</td>\n",
              "      <td>Cerai</td>\n",
              "      <td>63588853.0</td>\n",
              "      <td>0.0</td>\n",
              "      <td>0.0</td>\n",
              "      <td>12.0</td>\n",
              "      <td>127871.0</td>\n",
              "      <td>447588.0</td>\n",
              "      <td>194711.0</td>\n",
              "      <td>175783.0</td>\n",
              "      <td>1.0</td>\n",
              "      <td>8.0</td>\n",
              "      <td>5.0</td>\n",
              "      <td>0.0</td>\n",
              "      <td>NaN</td>\n",
              "      <td>6</td>\n",
              "    </tr>\n",
              "    <tr>\n",
              "      <th>1673</th>\n",
              "      <td>1962</td>\n",
              "      <td>NaN</td>\n",
              "      <td>Menikah</td>\n",
              "      <td>146278242.0</td>\n",
              "      <td>0.0</td>\n",
              "      <td>1.0</td>\n",
              "      <td>4.0</td>\n",
              "      <td>17938.0</td>\n",
              "      <td>496627.0</td>\n",
              "      <td>NaN</td>\n",
              "      <td>NaN</td>\n",
              "      <td>0.0</td>\n",
              "      <td>4.0</td>\n",
              "      <td>6.0</td>\n",
              "      <td>0.0</td>\n",
              "      <td>NaN</td>\n",
              "      <td>1</td>\n",
              "    </tr>\n",
              "    <tr>\n",
              "      <th>606</th>\n",
              "      <td>1952</td>\n",
              "      <td>NaN</td>\n",
              "      <td>Sendiri</td>\n",
              "      <td>72796000.0</td>\n",
              "      <td>0.0</td>\n",
              "      <td>1.0</td>\n",
              "      <td>39.0</td>\n",
              "      <td>86989.0</td>\n",
              "      <td>252875.0</td>\n",
              "      <td>131495.0</td>\n",
              "      <td>105196.0</td>\n",
              "      <td>4.0</td>\n",
              "      <td>1.0</td>\n",
              "      <td>4.0</td>\n",
              "      <td>0.0</td>\n",
              "      <td>2013-02-02</td>\n",
              "      <td>1</td>\n",
              "    </tr>\n",
              "    <tr>\n",
              "      <th>1612</th>\n",
              "      <td>1981</td>\n",
              "      <td>NaN</td>\n",
              "      <td>Sendiri</td>\n",
              "      <td>133272000.0</td>\n",
              "      <td>0.0</td>\n",
              "      <td>1.0</td>\n",
              "      <td>74.0</td>\n",
              "      <td>82943.0</td>\n",
              "      <td>141610.0</td>\n",
              "      <td>NaN</td>\n",
              "      <td>72828.0</td>\n",
              "      <td>0.0</td>\n",
              "      <td>7.0</td>\n",
              "      <td>6.0</td>\n",
              "      <td>0.0</td>\n",
              "      <td>2014-01-05</td>\n",
              "      <td>0</td>\n",
              "    </tr>\n",
              "    <tr>\n",
              "      <th>539</th>\n",
              "      <td>1979</td>\n",
              "      <td>NaN</td>\n",
              "      <td>Rencana Menikah</td>\n",
              "      <td>53291000.0</td>\n",
              "      <td>1.0</td>\n",
              "      <td>0.0</td>\n",
              "      <td>3.0</td>\n",
              "      <td>12138.0</td>\n",
              "      <td>24276.0</td>\n",
              "      <td>8092.0</td>\n",
              "      <td>38437.0</td>\n",
              "      <td>4.0</td>\n",
              "      <td>0.0</td>\n",
              "      <td>3.0</td>\n",
              "      <td>0.0</td>\n",
              "      <td>2013-09-29</td>\n",
              "      <td>0</td>\n",
              "    </tr>\n",
              "    <tr>\n",
              "      <th>3801</th>\n",
              "      <td>1973</td>\n",
              "      <td>NaN</td>\n",
              "      <td>Sendiri</td>\n",
              "      <td>171296541.0</td>\n",
              "      <td>0.0</td>\n",
              "      <td>0.0</td>\n",
              "      <td>38.0</td>\n",
              "      <td>38261.0</td>\n",
              "      <td>661232.0</td>\n",
              "      <td>362908.0</td>\n",
              "      <td>51052.0</td>\n",
              "      <td>1.0</td>\n",
              "      <td>10.0</td>\n",
              "      <td>10.0</td>\n",
              "      <td>0.0</td>\n",
              "      <td>NaN</td>\n",
              "      <td>1</td>\n",
              "    </tr>\n",
              "    <tr>\n",
              "      <th>820</th>\n",
              "      <td>1964</td>\n",
              "      <td>NaN</td>\n",
              "      <td>Cerai</td>\n",
              "      <td>NaN</td>\n",
              "      <td>0.0</td>\n",
              "      <td>1.0</td>\n",
              "      <td>64.0</td>\n",
              "      <td>9519.0</td>\n",
              "      <td>398732.0</td>\n",
              "      <td>99344.0</td>\n",
              "      <td>76865.0</td>\n",
              "      <td>5.0</td>\n",
              "      <td>6.0</td>\n",
              "      <td>10.0</td>\n",
              "      <td>0.0</td>\n",
              "      <td>NaN</td>\n",
              "      <td>5</td>\n",
              "    </tr>\n",
              "    <tr>\n",
              "      <th>2255</th>\n",
              "      <td>1979</td>\n",
              "      <td>NaN</td>\n",
              "      <td>Sendiri</td>\n",
              "      <td>85099045.0</td>\n",
              "      <td>1.0</td>\n",
              "      <td>0.0</td>\n",
              "      <td>47.0</td>\n",
              "      <td>19550.0</td>\n",
              "      <td>116716.0</td>\n",
              "      <td>9878.0</td>\n",
              "      <td>30360.0</td>\n",
              "      <td>3.0</td>\n",
              "      <td>4.0</td>\n",
              "      <td>5.0</td>\n",
              "      <td>NaN</td>\n",
              "      <td>NaN</td>\n",
              "      <td>5</td>\n",
              "    </tr>\n",
              "    <tr>\n",
              "      <th>530</th>\n",
              "      <td>1963</td>\n",
              "      <td>NaN</td>\n",
              "      <td>Rencana Menikah</td>\n",
              "      <td>157450780.0</td>\n",
              "      <td>0.0</td>\n",
              "      <td>0.0</td>\n",
              "      <td>86.0</td>\n",
              "      <td>59787.0</td>\n",
              "      <td>834997.0</td>\n",
              "      <td>114063.0</td>\n",
              "      <td>68767.0</td>\n",
              "      <td>2.0</td>\n",
              "      <td>4.0</td>\n",
              "      <td>4.0</td>\n",
              "      <td>0.0</td>\n",
              "      <td>NaN</td>\n",
              "      <td>3</td>\n",
              "    </tr>\n",
              "    <tr>\n",
              "      <th>3503</th>\n",
              "      <td>1967</td>\n",
              "      <td>NaN</td>\n",
              "      <td>Menikah</td>\n",
              "      <td>109186233.0</td>\n",
              "      <td>1.0</td>\n",
              "      <td>NaN</td>\n",
              "      <td>20.0</td>\n",
              "      <td>15339.0</td>\n",
              "      <td>NaN</td>\n",
              "      <td>21830.0</td>\n",
              "      <td>7058.0</td>\n",
              "      <td>8.0</td>\n",
              "      <td>6.0</td>\n",
              "      <td>NaN</td>\n",
              "      <td>0.0</td>\n",
              "      <td>NaN</td>\n",
              "      <td>4</td>\n",
              "    </tr>\n",
              "  </tbody>\n",
              "</table>\n",
              "</div>"
            ],
            "text/plain": [
              "      tahun_kelahiran pendidikan status_pernikahan   pendapatan  \\\n",
              "1729             1959        NaN             Cerai   63588853.0   \n",
              "1673             1962        NaN           Menikah  146278242.0   \n",
              "606              1952        NaN           Sendiri   72796000.0   \n",
              "1612             1981        NaN           Sendiri  133272000.0   \n",
              "539              1979        NaN   Rencana Menikah   53291000.0   \n",
              "3801             1973        NaN           Sendiri  171296541.0   \n",
              "820              1964        NaN             Cerai          NaN   \n",
              "2255             1979        NaN           Sendiri   85099045.0   \n",
              "530              1963        NaN   Rencana Menikah  157450780.0   \n",
              "3503             1967        NaN           Menikah  109186233.0   \n",
              "\n",
              "      jumlah_anak_balita  jumlah_anak_remaja  terakhir_belanja  belanja_buah  \\\n",
              "1729                 0.0                 0.0              12.0      127871.0   \n",
              "1673                 0.0                 1.0               4.0       17938.0   \n",
              "606                  0.0                 1.0              39.0       86989.0   \n",
              "1612                 0.0                 1.0              74.0       82943.0   \n",
              "539                  1.0                 0.0               3.0       12138.0   \n",
              "3801                 0.0                 0.0              38.0       38261.0   \n",
              "820                  0.0                 1.0              64.0        9519.0   \n",
              "2255                 1.0                 0.0              47.0       19550.0   \n",
              "530                  0.0                 0.0              86.0       59787.0   \n",
              "3503                 1.0                 NaN              20.0       15339.0   \n",
              "\n",
              "      belanja_daging  belanja_ikan  belanja_kue  pembelian_diskon  \\\n",
              "1729        447588.0      194711.0     175783.0               1.0   \n",
              "1673        496627.0           NaN          NaN               0.0   \n",
              "606         252875.0      131495.0     105196.0               4.0   \n",
              "1612        141610.0           NaN      72828.0               0.0   \n",
              "539          24276.0        8092.0      38437.0               4.0   \n",
              "3801        661232.0      362908.0      51052.0               1.0   \n",
              "820         398732.0       99344.0      76865.0               5.0   \n",
              "2255        116716.0        9878.0      30360.0               3.0   \n",
              "530         834997.0      114063.0      68767.0               2.0   \n",
              "3503             NaN       21830.0       7058.0               8.0   \n",
              "\n",
              "      pembelian_web  pembelian_toko  keluhan tanggal_menjadi_anggota  \\\n",
              "1729            8.0             5.0      0.0                     NaN   \n",
              "1673            4.0             6.0      0.0                     NaN   \n",
              "606             1.0             4.0      0.0              2013-02-02   \n",
              "1612            7.0             6.0      0.0              2014-01-05   \n",
              "539             0.0             3.0      0.0              2013-09-29   \n",
              "3801           10.0            10.0      0.0                     NaN   \n",
              "820             6.0            10.0      0.0                     NaN   \n",
              "2255            4.0             5.0      NaN                     NaN   \n",
              "530             4.0             4.0      0.0                     NaN   \n",
              "3503            6.0             NaN      0.0                     NaN   \n",
              "\n",
              "      jumlah_promosi  \n",
              "1729               6  \n",
              "1673               1  \n",
              "606                1  \n",
              "1612               0  \n",
              "539                0  \n",
              "3801               1  \n",
              "820                5  \n",
              "2255               5  \n",
              "530                3  \n",
              "3503               4  "
            ]
          },
          "execution_count": 407,
          "metadata": {},
          "output_type": "execute_result"
        }
      ],
      "source": [
        "# Mengambil sample data dengan inputan nan\n",
        "dataNanPendidikan = dataTraining[dataTraining['pendidikan'].isnull()]\n",
        "\n",
        "# Mengecek Banyak Baris Data\n",
        "print('Banyak Data dengan inputan nan:', dataNanPendidikan.shape[0], '\\n')\n",
        "print('Dengan sample data sebagai berikut: ')\n",
        "dataNanPendidikan.sample(10)"
      ]
    },
    {
      "cell_type": "markdown",
      "metadata": {
        "id": "YjtiVdDAzLWv"
      },
      "source": [
        "Dikarenakan jumlah dari data nan cukup banyak, maka akan dilakukan pengubahan isi dengan data modus pada kolom **pendidikan**."
      ]
    },
    {
      "cell_type": "code",
      "execution_count": 408,
      "metadata": {
        "colab": {
          "base_uri": "https://localhost:8080/"
        },
        "id": "mH9PAQ4PkCgA",
        "outputId": "0f75da69-a62b-45e3-a724-af9fca5ba2b7"
      },
      "outputs": [
        {
          "name": "stdout",
          "output_type": "stream",
          "text": [
            "Nilai dengan modus terbanyak adalah Sarjana\n"
          ]
        }
      ],
      "source": [
        "# Mengambil jumlah isi terbanyak pada kolom pendidikan\n",
        "modePendidikan = dataTraining['pendidikan'].mode()[0]\n",
        "print('Nilai dengan modus terbanyak adalah', modePendidikan)"
      ]
    },
    {
      "cell_type": "code",
      "execution_count": 409,
      "metadata": {
        "id": "_KeArtf4re5S"
      },
      "outputs": [],
      "source": [
        "# Mengubah nilai nan menjadi nilai modus\n",
        "dataTraining['pendidikan'] = dataTraining['pendidikan'].fillna(modePendidikan)"
      ]
    },
    {
      "cell_type": "code",
      "execution_count": 410,
      "metadata": {
        "colab": {
          "base_uri": "https://localhost:8080/"
        },
        "id": "eFJ0YxDX5WZU",
        "outputId": "4219d5fe-6d66-4f01-a163-40e269e4b325"
      },
      "outputs": [
        {
          "data": {
            "text/plain": [
              "array(['Sarjana', 'Magister', 'SMA', 'SMP', 'Doktor'], dtype=object)"
            ]
          },
          "execution_count": 410,
          "metadata": {},
          "output_type": "execute_result"
        }
      ],
      "source": [
        "# Cek ulang nilai unique\n",
        "dataTraining['pendidikan'].unique()"
      ]
    },
    {
      "cell_type": "markdown",
      "metadata": {
        "id": "-3QumGrJ5mKU"
      },
      "source": [
        "Pada saat ini, kondisi kolom **pendidikan** sudah normal."
      ]
    },
    {
      "cell_type": "markdown",
      "metadata": {
        "id": "teUdIuuj6R5y"
      },
      "source": [
        "## Kolom Status Pernikahan"
      ]
    },
    {
      "cell_type": "code",
      "execution_count": 411,
      "metadata": {
        "colab": {
          "base_uri": "https://localhost:8080/"
        },
        "id": "zhKEJXMtsP-O",
        "outputId": "9f5e00a2-84d3-47fb-a8ae-5658b4cba8f5"
      },
      "outputs": [
        {
          "data": {
            "text/plain": [
              "array(['Rencana Menikah', 'Menikah', 'Sendiri', 'Cerai', nan,\n",
              "       'Cerai Mati', '5'], dtype=object)"
            ]
          },
          "execution_count": 411,
          "metadata": {},
          "output_type": "execute_result"
        }
      ],
      "source": [
        "# Cek Nilai Unique\n",
        "dataTraining['status_pernikahan'].unique()"
      ]
    },
    {
      "cell_type": "markdown",
      "metadata": {
        "id": "FqaG_Vjw6fft"
      },
      "source": [
        "Mirip dengan kolom Pendidikan, terdapat dua nilai tidak sesuai pada kolom **Status Pernikahan** yaitu '5' dan nan. Maka perlu dilakukan proses yang sama dengan kolom Pendidikan yaitu meninjau setiap invalid value yang ada untuk dilakukan langkah lebih lanjut."
      ]
    },
    {
      "cell_type": "markdown",
      "metadata": {
        "id": "GQ_PRzbK8DYq"
      },
      "source": [
        "### Olah Data dengan Nilai Unique '5'"
      ]
    },
    {
      "cell_type": "code",
      "execution_count": 412,
      "metadata": {
        "colab": {
          "base_uri": "https://localhost:8080/",
          "height": 100
        },
        "id": "SfD3wvS2secX",
        "outputId": "8e311b39-b7bb-4f09-ccb1-b95abf99b094"
      },
      "outputs": [
        {
          "data": {
            "text/html": [
              "<div>\n",
              "<style scoped>\n",
              "    .dataframe tbody tr th:only-of-type {\n",
              "        vertical-align: middle;\n",
              "    }\n",
              "\n",
              "    .dataframe tbody tr th {\n",
              "        vertical-align: top;\n",
              "    }\n",
              "\n",
              "    .dataframe thead th {\n",
              "        text-align: right;\n",
              "    }\n",
              "</style>\n",
              "<table border=\"1\" class=\"dataframe\">\n",
              "  <thead>\n",
              "    <tr style=\"text-align: right;\">\n",
              "      <th></th>\n",
              "      <th>tahun_kelahiran</th>\n",
              "      <th>pendidikan</th>\n",
              "      <th>status_pernikahan</th>\n",
              "      <th>pendapatan</th>\n",
              "      <th>jumlah_anak_balita</th>\n",
              "      <th>jumlah_anak_remaja</th>\n",
              "      <th>terakhir_belanja</th>\n",
              "      <th>belanja_buah</th>\n",
              "      <th>belanja_daging</th>\n",
              "      <th>belanja_ikan</th>\n",
              "      <th>belanja_kue</th>\n",
              "      <th>pembelian_diskon</th>\n",
              "      <th>pembelian_web</th>\n",
              "      <th>pembelian_toko</th>\n",
              "      <th>keluhan</th>\n",
              "      <th>tanggal_menjadi_anggota</th>\n",
              "      <th>jumlah_promosi</th>\n",
              "    </tr>\n",
              "  </thead>\n",
              "  <tbody>\n",
              "    <tr>\n",
              "      <th>522</th>\n",
              "      <td>1944</td>\n",
              "      <td>Doktor</td>\n",
              "      <td>5</td>\n",
              "      <td>113851181.0</td>\n",
              "      <td>1.0</td>\n",
              "      <td>0.0</td>\n",
              "      <td>42.0</td>\n",
              "      <td>14161.0</td>\n",
              "      <td>27044.0</td>\n",
              "      <td>NaN</td>\n",
              "      <td>7791.0</td>\n",
              "      <td>1.0</td>\n",
              "      <td>0.0</td>\n",
              "      <td>0.0</td>\n",
              "      <td>0.0</td>\n",
              "      <td>NaN</td>\n",
              "      <td>0</td>\n",
              "    </tr>\n",
              "  </tbody>\n",
              "</table>\n",
              "</div>"
            ],
            "text/plain": [
              "     tahun_kelahiran pendidikan status_pernikahan   pendapatan  \\\n",
              "522             1944     Doktor                 5  113851181.0   \n",
              "\n",
              "     jumlah_anak_balita  jumlah_anak_remaja  terakhir_belanja  belanja_buah  \\\n",
              "522                 1.0                 0.0              42.0       14161.0   \n",
              "\n",
              "     belanja_daging  belanja_ikan  belanja_kue  pembelian_diskon  \\\n",
              "522         27044.0           NaN       7791.0               1.0   \n",
              "\n",
              "     pembelian_web  pembelian_toko  keluhan tanggal_menjadi_anggota  \\\n",
              "522            0.0             0.0      0.0                     NaN   \n",
              "\n",
              "     jumlah_promosi  \n",
              "522               0  "
            ]
          },
          "execution_count": 412,
          "metadata": {},
          "output_type": "execute_result"
        }
      ],
      "source": [
        "# Mengambil sample data dengan nilai unique '5'\n",
        "dataTraining[dataTraining['status_pernikahan'] == '5']"
      ]
    },
    {
      "cell_type": "markdown",
      "metadata": {
        "id": "ZRWQD7hZ7Ktq"
      },
      "source": [
        "Dikarenakan hanya terdapat satu nilai saja dengan value '5', maka dapat dihapus saja karena tidak terlalu berpengaruh terhadap keseluruhan data."
      ]
    },
    {
      "cell_type": "code",
      "execution_count": 413,
      "metadata": {
        "id": "aHpuBdSYtVgq"
      },
      "outputs": [],
      "source": [
        "# Mengambil data dengan nilai unique '5'\n",
        "dropStatusNikah = dataTraining[dataTraining['status_pernikahan'] == '5'].index\n",
        "# Menghapus data\n",
        "dataTraining.drop(dropStatusNikah, inplace=True)"
      ]
    },
    {
      "cell_type": "markdown",
      "metadata": {
        "id": "SdmFGK8X8KdZ"
      },
      "source": [
        "\n",
        "### Olah Data dengan Nilai Unique NaN"
      ]
    },
    {
      "cell_type": "code",
      "execution_count": 414,
      "metadata": {
        "colab": {
          "base_uri": "https://localhost:8080/",
          "height": 435
        },
        "id": "rluuHrfF7-6W",
        "outputId": "a363f983-5ca0-4f8f-8bcd-a7da034e7729"
      },
      "outputs": [
        {
          "name": "stdout",
          "output_type": "stream",
          "text": [
            "Banyak Data dengan inputan nan: 212 \n",
            "\n",
            "Dengan sample data sebagai berikut: \n"
          ]
        },
        {
          "data": {
            "text/html": [
              "<div>\n",
              "<style scoped>\n",
              "    .dataframe tbody tr th:only-of-type {\n",
              "        vertical-align: middle;\n",
              "    }\n",
              "\n",
              "    .dataframe tbody tr th {\n",
              "        vertical-align: top;\n",
              "    }\n",
              "\n",
              "    .dataframe thead th {\n",
              "        text-align: right;\n",
              "    }\n",
              "</style>\n",
              "<table border=\"1\" class=\"dataframe\">\n",
              "  <thead>\n",
              "    <tr style=\"text-align: right;\">\n",
              "      <th></th>\n",
              "      <th>tahun_kelahiran</th>\n",
              "      <th>pendidikan</th>\n",
              "      <th>status_pernikahan</th>\n",
              "      <th>pendapatan</th>\n",
              "      <th>jumlah_anak_balita</th>\n",
              "      <th>jumlah_anak_remaja</th>\n",
              "      <th>terakhir_belanja</th>\n",
              "      <th>belanja_buah</th>\n",
              "      <th>belanja_daging</th>\n",
              "      <th>belanja_ikan</th>\n",
              "      <th>belanja_kue</th>\n",
              "      <th>pembelian_diskon</th>\n",
              "      <th>pembelian_web</th>\n",
              "      <th>pembelian_toko</th>\n",
              "      <th>keluhan</th>\n",
              "      <th>tanggal_menjadi_anggota</th>\n",
              "      <th>jumlah_promosi</th>\n",
              "    </tr>\n",
              "  </thead>\n",
              "  <tbody>\n",
              "    <tr>\n",
              "      <th>1678</th>\n",
              "      <td>1970</td>\n",
              "      <td>Magister</td>\n",
              "      <td>NaN</td>\n",
              "      <td>105401102.0</td>\n",
              "      <td>1.0</td>\n",
              "      <td>1.0</td>\n",
              "      <td>90.0</td>\n",
              "      <td>12979.0</td>\n",
              "      <td>185391.0</td>\n",
              "      <td>77.0</td>\n",
              "      <td>39239.0</td>\n",
              "      <td>8.0</td>\n",
              "      <td>5.0</td>\n",
              "      <td>4.0</td>\n",
              "      <td>NaN</td>\n",
              "      <td>NaN</td>\n",
              "      <td>0</td>\n",
              "    </tr>\n",
              "    <tr>\n",
              "      <th>2846</th>\n",
              "      <td>1962</td>\n",
              "      <td>Magister</td>\n",
              "      <td>NaN</td>\n",
              "      <td>NaN</td>\n",
              "      <td>1.0</td>\n",
              "      <td>0.0</td>\n",
              "      <td>23.0</td>\n",
              "      <td>6492.0</td>\n",
              "      <td>NaN</td>\n",
              "      <td>8872.0</td>\n",
              "      <td>5758.0</td>\n",
              "      <td>3.0</td>\n",
              "      <td>1.0</td>\n",
              "      <td>2.0</td>\n",
              "      <td>0.0</td>\n",
              "      <td>NaN</td>\n",
              "      <td>2</td>\n",
              "    </tr>\n",
              "    <tr>\n",
              "      <th>2628</th>\n",
              "      <td>1971</td>\n",
              "      <td>Sarjana</td>\n",
              "      <td>NaN</td>\n",
              "      <td>40422480.0</td>\n",
              "      <td>1.0</td>\n",
              "      <td>0.0</td>\n",
              "      <td>NaN</td>\n",
              "      <td>4481.0</td>\n",
              "      <td>24834.0</td>\n",
              "      <td>7345.0</td>\n",
              "      <td>11173.0</td>\n",
              "      <td>1.0</td>\n",
              "      <td>1.0</td>\n",
              "      <td>1.0</td>\n",
              "      <td>0.0</td>\n",
              "      <td>NaN</td>\n",
              "      <td>2</td>\n",
              "    </tr>\n",
              "    <tr>\n",
              "      <th>436</th>\n",
              "      <td>1984</td>\n",
              "      <td>Magister</td>\n",
              "      <td>NaN</td>\n",
              "      <td>179846869.0</td>\n",
              "      <td>0.0</td>\n",
              "      <td>0.0</td>\n",
              "      <td>74.0</td>\n",
              "      <td>133063.0</td>\n",
              "      <td>1522397.0</td>\n",
              "      <td>147379.0</td>\n",
              "      <td>300253.0</td>\n",
              "      <td>1.0</td>\n",
              "      <td>6.0</td>\n",
              "      <td>13.0</td>\n",
              "      <td>0.0</td>\n",
              "      <td>NaN</td>\n",
              "      <td>1</td>\n",
              "    </tr>\n",
              "    <tr>\n",
              "      <th>213</th>\n",
              "      <td>1968</td>\n",
              "      <td>Sarjana</td>\n",
              "      <td>NaN</td>\n",
              "      <td>37056875.0</td>\n",
              "      <td>0.0</td>\n",
              "      <td>0.0</td>\n",
              "      <td>94.0</td>\n",
              "      <td>8515.0</td>\n",
              "      <td>58048.0</td>\n",
              "      <td>40070.0</td>\n",
              "      <td>24309.0</td>\n",
              "      <td>4.0</td>\n",
              "      <td>0.0</td>\n",
              "      <td>5.0</td>\n",
              "      <td>0.0</td>\n",
              "      <td>NaN</td>\n",
              "      <td>0</td>\n",
              "    </tr>\n",
              "    <tr>\n",
              "      <th>1053</th>\n",
              "      <td>1982</td>\n",
              "      <td>Sarjana</td>\n",
              "      <td>NaN</td>\n",
              "      <td>51698177.0</td>\n",
              "      <td>1.0</td>\n",
              "      <td>0.0</td>\n",
              "      <td>26.0</td>\n",
              "      <td>14970.0</td>\n",
              "      <td>106813.0</td>\n",
              "      <td>NaN</td>\n",
              "      <td>11652.0</td>\n",
              "      <td>1.0</td>\n",
              "      <td>0.0</td>\n",
              "      <td>3.0</td>\n",
              "      <td>0.0</td>\n",
              "      <td>NaN</td>\n",
              "      <td>6</td>\n",
              "    </tr>\n",
              "    <tr>\n",
              "      <th>2814</th>\n",
              "      <td>1956</td>\n",
              "      <td>Doktor</td>\n",
              "      <td>NaN</td>\n",
              "      <td>126553504.0</td>\n",
              "      <td>0.0</td>\n",
              "      <td>1.0</td>\n",
              "      <td>40.0</td>\n",
              "      <td>180819.0</td>\n",
              "      <td>214223.0</td>\n",
              "      <td>28050.0</td>\n",
              "      <td>28914.0</td>\n",
              "      <td>6.0</td>\n",
              "      <td>6.0</td>\n",
              "      <td>4.0</td>\n",
              "      <td>NaN</td>\n",
              "      <td>NaN</td>\n",
              "      <td>0</td>\n",
              "    </tr>\n",
              "    <tr>\n",
              "      <th>604</th>\n",
              "      <td>1968</td>\n",
              "      <td>SMA</td>\n",
              "      <td>NaN</td>\n",
              "      <td>98320764.0</td>\n",
              "      <td>1.0</td>\n",
              "      <td>1.0</td>\n",
              "      <td>77.0</td>\n",
              "      <td>5392.0</td>\n",
              "      <td>80264.0</td>\n",
              "      <td>8768.0</td>\n",
              "      <td>10115.0</td>\n",
              "      <td>6.0</td>\n",
              "      <td>3.0</td>\n",
              "      <td>2.0</td>\n",
              "      <td>0.0</td>\n",
              "      <td>NaN</td>\n",
              "      <td>0</td>\n",
              "    </tr>\n",
              "    <tr>\n",
              "      <th>1977</th>\n",
              "      <td>1958</td>\n",
              "      <td>Doktor</td>\n",
              "      <td>NaN</td>\n",
              "      <td>103214165.0</td>\n",
              "      <td>1.0</td>\n",
              "      <td>1.0</td>\n",
              "      <td>24.0</td>\n",
              "      <td>315.0</td>\n",
              "      <td>5886.0</td>\n",
              "      <td>11375.0</td>\n",
              "      <td>0.0</td>\n",
              "      <td>0.0</td>\n",
              "      <td>0.0</td>\n",
              "      <td>1.0</td>\n",
              "      <td>0.0</td>\n",
              "      <td>NaN</td>\n",
              "      <td>0</td>\n",
              "    </tr>\n",
              "    <tr>\n",
              "      <th>3464</th>\n",
              "      <td>1955</td>\n",
              "      <td>Sarjana</td>\n",
              "      <td>NaN</td>\n",
              "      <td>97821165.0</td>\n",
              "      <td>0.0</td>\n",
              "      <td>1.0</td>\n",
              "      <td>61.0</td>\n",
              "      <td>6610.0</td>\n",
              "      <td>13546.0</td>\n",
              "      <td>2708.0</td>\n",
              "      <td>1173.0</td>\n",
              "      <td>1.0</td>\n",
              "      <td>0.0</td>\n",
              "      <td>3.0</td>\n",
              "      <td>0.0</td>\n",
              "      <td>NaN</td>\n",
              "      <td>4</td>\n",
              "    </tr>\n",
              "  </tbody>\n",
              "</table>\n",
              "</div>"
            ],
            "text/plain": [
              "      tahun_kelahiran pendidikan status_pernikahan   pendapatan  \\\n",
              "1678             1970   Magister               NaN  105401102.0   \n",
              "2846             1962   Magister               NaN          NaN   \n",
              "2628             1971    Sarjana               NaN   40422480.0   \n",
              "436              1984   Magister               NaN  179846869.0   \n",
              "213              1968    Sarjana               NaN   37056875.0   \n",
              "1053             1982    Sarjana               NaN   51698177.0   \n",
              "2814             1956     Doktor               NaN  126553504.0   \n",
              "604              1968        SMA               NaN   98320764.0   \n",
              "1977             1958     Doktor               NaN  103214165.0   \n",
              "3464             1955    Sarjana               NaN   97821165.0   \n",
              "\n",
              "      jumlah_anak_balita  jumlah_anak_remaja  terakhir_belanja  belanja_buah  \\\n",
              "1678                 1.0                 1.0              90.0       12979.0   \n",
              "2846                 1.0                 0.0              23.0        6492.0   \n",
              "2628                 1.0                 0.0               NaN        4481.0   \n",
              "436                  0.0                 0.0              74.0      133063.0   \n",
              "213                  0.0                 0.0              94.0        8515.0   \n",
              "1053                 1.0                 0.0              26.0       14970.0   \n",
              "2814                 0.0                 1.0              40.0      180819.0   \n",
              "604                  1.0                 1.0              77.0        5392.0   \n",
              "1977                 1.0                 1.0              24.0         315.0   \n",
              "3464                 0.0                 1.0              61.0        6610.0   \n",
              "\n",
              "      belanja_daging  belanja_ikan  belanja_kue  pembelian_diskon  \\\n",
              "1678        185391.0          77.0      39239.0               8.0   \n",
              "2846             NaN        8872.0       5758.0               3.0   \n",
              "2628         24834.0        7345.0      11173.0               1.0   \n",
              "436        1522397.0      147379.0     300253.0               1.0   \n",
              "213          58048.0       40070.0      24309.0               4.0   \n",
              "1053        106813.0           NaN      11652.0               1.0   \n",
              "2814        214223.0       28050.0      28914.0               6.0   \n",
              "604          80264.0        8768.0      10115.0               6.0   \n",
              "1977          5886.0       11375.0          0.0               0.0   \n",
              "3464         13546.0        2708.0       1173.0               1.0   \n",
              "\n",
              "      pembelian_web  pembelian_toko  keluhan tanggal_menjadi_anggota  \\\n",
              "1678            5.0             4.0      NaN                     NaN   \n",
              "2846            1.0             2.0      0.0                     NaN   \n",
              "2628            1.0             1.0      0.0                     NaN   \n",
              "436             6.0            13.0      0.0                     NaN   \n",
              "213             0.0             5.0      0.0                     NaN   \n",
              "1053            0.0             3.0      0.0                     NaN   \n",
              "2814            6.0             4.0      NaN                     NaN   \n",
              "604             3.0             2.0      0.0                     NaN   \n",
              "1977            0.0             1.0      0.0                     NaN   \n",
              "3464            0.0             3.0      0.0                     NaN   \n",
              "\n",
              "      jumlah_promosi  \n",
              "1678               0  \n",
              "2846               2  \n",
              "2628               2  \n",
              "436                1  \n",
              "213                0  \n",
              "1053               6  \n",
              "2814               0  \n",
              "604                0  \n",
              "1977               0  \n",
              "3464               4  "
            ]
          },
          "execution_count": 414,
          "metadata": {},
          "output_type": "execute_result"
        }
      ],
      "source": [
        "# Mengambil sample data dengan inputan nan\n",
        "dataNanPernikahan = dataTraining[dataTraining['status_pernikahan'].isnull()]\n",
        "\n",
        "# Mengecek Banyak Baris Data\n",
        "print('Banyak Data dengan inputan nan:', dataNanPernikahan.shape[0], '\\n')\n",
        "print('Dengan sample data sebagai berikut: ')\n",
        "dataNanPernikahan.sample(10)"
      ]
    },
    {
      "cell_type": "markdown",
      "metadata": {
        "id": "0u4wcG9W9QDb"
      },
      "source": [
        "Dikarenakan jumlah dari data nan cukup banyak, maka akan dilakukan pengubahan isi data nan dengan analisis lebih lanjut pada kolom-kolom yang berpotensi memiliki korelasi dengan kolom **status pernikahan**. \n",
        "\n",
        "Yaitu dengan melihat kolom **jumlah anak balita** dan **jumlah anak remaja** dengan asumsi jika memiliki nilai lebih dari 0 dari kedua kolom tersebut, maka akan diubah menjadi \"Menikah\"."
      ]
    },
    {
      "cell_type": "code",
      "execution_count": 415,
      "metadata": {
        "colab": {
          "base_uri": "https://localhost:8080/",
          "height": 35
        },
        "id": "TEKrzHFDtj0s",
        "outputId": "67f69d26-c8fb-434a-bdc2-db2d232af2c5"
      },
      "outputs": [],
      "source": [
        "# Ubah NaN menjadi String Terlebih Dahulu\n",
        "dataTraining['status_pernikahan'].fillna('kosong', inplace=True)\n",
        "\n",
        "# Buat Fungsi\n",
        "def ubahPernikahan(row):\n",
        "    if row['status_pernikahan'] == 'kosong':\n",
        "        if row['jumlah_anak_balita'] > 0 or row['jumlah_anak_remaja'] > 0:\n",
        "            return 'Menikah'\n",
        "        else:\n",
        "            return 'Sendiri'\n",
        "    else:\n",
        "        return row['status_pernikahan']\n",
        "\n",
        "dataTraining['status_pernikahan'] = dataTraining.apply(ubahPernikahan, axis=1)"
      ]
    },
    {
      "cell_type": "code",
      "execution_count": 416,
      "metadata": {},
      "outputs": [
        {
          "data": {
            "text/plain": [
              "array(['Rencana Menikah', 'Menikah', 'Sendiri', 'Cerai', 'Cerai Mati'],\n",
              "      dtype=object)"
            ]
          },
          "execution_count": 416,
          "metadata": {},
          "output_type": "execute_result"
        }
      ],
      "source": [
        "dataTraining['status_pernikahan'].unique()"
      ]
    },
    {
      "cell_type": "markdown",
      "metadata": {},
      "source": [
        "Saat ini nilai unique pada kolom **status pernikahan** sudah normal dan tidak ada nilai nan."
      ]
    },
    {
      "cell_type": "markdown",
      "metadata": {},
      "source": [
        "## Kolom Pendapatan"
      ]
    },
    {
      "cell_type": "code",
      "execution_count": 417,
      "metadata": {},
      "outputs": [
        {
          "data": {
            "text/plain": [
              "1796    114211326.0\n",
              "2054    191378000.0\n",
              "3133    115036000.0\n",
              "967     131765371.0\n",
              "3545     96700000.0\n",
              "Name: pendapatan, dtype: float64"
            ]
          },
          "execution_count": 417,
          "metadata": {},
          "output_type": "execute_result"
        }
      ],
      "source": [
        "dataTraining.pendapatan.sample(5)"
      ]
    },
    {
      "cell_type": "markdown",
      "metadata": {},
      "source": [
        "### Cek Nilai Statistik "
      ]
    },
    {
      "cell_type": "code",
      "execution_count": 418,
      "metadata": {
        "colab": {
          "base_uri": "https://localhost:8080/"
        },
        "id": "FODbWMiTy760",
        "outputId": "417a5dfb-6f53-42c9-f7b3-2760993b97e7"
      },
      "outputs": [
        {
          "data": {
            "text/html": [
              "<div>\n",
              "<style scoped>\n",
              "    .dataframe tbody tr th:only-of-type {\n",
              "        vertical-align: middle;\n",
              "    }\n",
              "\n",
              "    .dataframe tbody tr th {\n",
              "        vertical-align: top;\n",
              "    }\n",
              "\n",
              "    .dataframe thead th {\n",
              "        text-align: right;\n",
              "    }\n",
              "</style>\n",
              "<table border=\"1\" class=\"dataframe\">\n",
              "  <thead>\n",
              "    <tr style=\"text-align: right;\">\n",
              "      <th></th>\n",
              "      <th>tahun_kelahiran</th>\n",
              "      <th>pendapatan</th>\n",
              "      <th>jumlah_anak_balita</th>\n",
              "      <th>jumlah_anak_remaja</th>\n",
              "      <th>terakhir_belanja</th>\n",
              "      <th>belanja_buah</th>\n",
              "      <th>belanja_daging</th>\n",
              "      <th>belanja_ikan</th>\n",
              "      <th>belanja_kue</th>\n",
              "      <th>pembelian_diskon</th>\n",
              "      <th>pembelian_web</th>\n",
              "      <th>pembelian_toko</th>\n",
              "      <th>keluhan</th>\n",
              "      <th>jumlah_promosi</th>\n",
              "    </tr>\n",
              "  </thead>\n",
              "  <tbody>\n",
              "    <tr>\n",
              "      <th>count</th>\n",
              "      <td>3814.000000</td>\n",
              "      <td>3.624000e+03</td>\n",
              "      <td>3624.000000</td>\n",
              "      <td>3610.000000</td>\n",
              "      <td>3642.000000</td>\n",
              "      <td>3633.000000</td>\n",
              "      <td>3.636000e+03</td>\n",
              "      <td>3622.000000</td>\n",
              "      <td>3600.000000</td>\n",
              "      <td>3636.000000</td>\n",
              "      <td>3649.000000</td>\n",
              "      <td>3645.000000</td>\n",
              "      <td>3618.000000</td>\n",
              "      <td>3814.000000</td>\n",
              "    </tr>\n",
              "    <tr>\n",
              "      <th>mean</th>\n",
              "      <td>1967.830362</td>\n",
              "      <td>1.144910e+08</td>\n",
              "      <td>0.292770</td>\n",
              "      <td>0.353740</td>\n",
              "      <td>47.233388</td>\n",
              "      <td>59834.344344</td>\n",
              "      <td>4.385213e+05</td>\n",
              "      <td>81414.356157</td>\n",
              "      <td>63402.365000</td>\n",
              "      <td>2.125413</td>\n",
              "      <td>4.439024</td>\n",
              "      <td>5.767901</td>\n",
              "      <td>0.004975</td>\n",
              "      <td>2.587834</td>\n",
              "    </tr>\n",
              "    <tr>\n",
              "      <th>std</th>\n",
              "      <td>11.764420</td>\n",
              "      <td>4.346894e+07</td>\n",
              "      <td>0.472942</td>\n",
              "      <td>0.493031</td>\n",
              "      <td>27.063687</td>\n",
              "      <td>74045.898408</td>\n",
              "      <td>5.118685e+05</td>\n",
              "      <td>99972.253724</td>\n",
              "      <td>79456.742289</td>\n",
              "      <td>2.100816</td>\n",
              "      <td>3.002223</td>\n",
              "      <td>3.208269</td>\n",
              "      <td>0.070369</td>\n",
              "      <td>2.101420</td>\n",
              "    </tr>\n",
              "    <tr>\n",
              "      <th>min</th>\n",
              "      <td>1899.000000</td>\n",
              "      <td>5.073000e+06</td>\n",
              "      <td>0.000000</td>\n",
              "      <td>0.000000</td>\n",
              "      <td>0.000000</td>\n",
              "      <td>0.000000</td>\n",
              "      <td>0.000000e+00</td>\n",
              "      <td>0.000000</td>\n",
              "      <td>0.000000</td>\n",
              "      <td>0.000000</td>\n",
              "      <td>0.000000</td>\n",
              "      <td>0.000000</td>\n",
              "      <td>0.000000</td>\n",
              "      <td>0.000000</td>\n",
              "    </tr>\n",
              "    <tr>\n",
              "      <th>25%</th>\n",
              "      <td>1959.000000</td>\n",
              "      <td>8.112568e+07</td>\n",
              "      <td>0.000000</td>\n",
              "      <td>0.000000</td>\n",
              "      <td>25.000000</td>\n",
              "      <td>7908.000000</td>\n",
              "      <td>4.955925e+04</td>\n",
              "      <td>10115.000000</td>\n",
              "      <td>7953.250000</td>\n",
              "      <td>0.000000</td>\n",
              "      <td>2.000000</td>\n",
              "      <td>3.000000</td>\n",
              "      <td>0.000000</td>\n",
              "      <td>0.000000</td>\n",
              "    </tr>\n",
              "    <tr>\n",
              "      <th>50%</th>\n",
              "      <td>1968.000000</td>\n",
              "      <td>1.156252e+08</td>\n",
              "      <td>0.000000</td>\n",
              "      <td>0.000000</td>\n",
              "      <td>47.000000</td>\n",
              "      <td>26465.000000</td>\n",
              "      <td>2.221065e+05</td>\n",
              "      <td>36054.500000</td>\n",
              "      <td>27804.500000</td>\n",
              "      <td>2.000000</td>\n",
              "      <td>4.000000</td>\n",
              "      <td>5.000000</td>\n",
              "      <td>0.000000</td>\n",
              "      <td>3.000000</td>\n",
              "    </tr>\n",
              "    <tr>\n",
              "      <th>75%</th>\n",
              "      <td>1976.000000</td>\n",
              "      <td>1.505037e+08</td>\n",
              "      <td>1.000000</td>\n",
              "      <td>1.000000</td>\n",
              "      <td>69.000000</td>\n",
              "      <td>86201.000000</td>\n",
              "      <td>6.860762e+05</td>\n",
              "      <td>121309.500000</td>\n",
              "      <td>89677.000000</td>\n",
              "      <td>3.000000</td>\n",
              "      <td>7.000000</td>\n",
              "      <td>8.000000</td>\n",
              "      <td>0.000000</td>\n",
              "      <td>4.000000</td>\n",
              "    </tr>\n",
              "    <tr>\n",
              "      <th>max</th>\n",
              "      <td>2000.000000</td>\n",
              "      <td>3.328840e+08</td>\n",
              "      <td>2.000000</td>\n",
              "      <td>2.000000</td>\n",
              "      <td>128.000000</td>\n",
              "      <td>396508.000000</td>\n",
              "      <td>3.489675e+06</td>\n",
              "      <td>621600.000000</td>\n",
              "      <td>542164.000000</td>\n",
              "      <td>20.000000</td>\n",
              "      <td>30.000000</td>\n",
              "      <td>17.000000</td>\n",
              "      <td>1.000000</td>\n",
              "      <td>6.000000</td>\n",
              "    </tr>\n",
              "  </tbody>\n",
              "</table>\n",
              "</div>"
            ],
            "text/plain": [
              "       tahun_kelahiran    pendapatan  jumlah_anak_balita  jumlah_anak_remaja  \\\n",
              "count      3814.000000  3.624000e+03         3624.000000         3610.000000   \n",
              "mean       1967.830362  1.144910e+08            0.292770            0.353740   \n",
              "std          11.764420  4.346894e+07            0.472942            0.493031   \n",
              "min        1899.000000  5.073000e+06            0.000000            0.000000   \n",
              "25%        1959.000000  8.112568e+07            0.000000            0.000000   \n",
              "50%        1968.000000  1.156252e+08            0.000000            0.000000   \n",
              "75%        1976.000000  1.505037e+08            1.000000            1.000000   \n",
              "max        2000.000000  3.328840e+08            2.000000            2.000000   \n",
              "\n",
              "       terakhir_belanja   belanja_buah  belanja_daging   belanja_ikan  \\\n",
              "count       3642.000000    3633.000000    3.636000e+03    3622.000000   \n",
              "mean          47.233388   59834.344344    4.385213e+05   81414.356157   \n",
              "std           27.063687   74045.898408    5.118685e+05   99972.253724   \n",
              "min            0.000000       0.000000    0.000000e+00       0.000000   \n",
              "25%           25.000000    7908.000000    4.955925e+04   10115.000000   \n",
              "50%           47.000000   26465.000000    2.221065e+05   36054.500000   \n",
              "75%           69.000000   86201.000000    6.860762e+05  121309.500000   \n",
              "max          128.000000  396508.000000    3.489675e+06  621600.000000   \n",
              "\n",
              "         belanja_kue  pembelian_diskon  pembelian_web  pembelian_toko  \\\n",
              "count    3600.000000       3636.000000    3649.000000     3645.000000   \n",
              "mean    63402.365000          2.125413       4.439024        5.767901   \n",
              "std     79456.742289          2.100816       3.002223        3.208269   \n",
              "min         0.000000          0.000000       0.000000        0.000000   \n",
              "25%      7953.250000          0.000000       2.000000        3.000000   \n",
              "50%     27804.500000          2.000000       4.000000        5.000000   \n",
              "75%     89677.000000          3.000000       7.000000        8.000000   \n",
              "max    542164.000000         20.000000      30.000000       17.000000   \n",
              "\n",
              "           keluhan  jumlah_promosi  \n",
              "count  3618.000000     3814.000000  \n",
              "mean      0.004975        2.587834  \n",
              "std       0.070369        2.101420  \n",
              "min       0.000000        0.000000  \n",
              "25%       0.000000        0.000000  \n",
              "50%       0.000000        3.000000  \n",
              "75%       0.000000        4.000000  \n",
              "max       1.000000        6.000000  "
            ]
          },
          "execution_count": 418,
          "metadata": {},
          "output_type": "execute_result"
        }
      ],
      "source": [
        "dataTraining.describe()"
      ]
    },
    {
      "cell_type": "markdown",
      "metadata": {},
      "source": [
        "### Pengecekan Nilai Null\n",
        "\n",
        "Dari hasil analisis sebelumnya, terlihat bahwa terdapat nilai null pada kolom ini."
      ]
    },
    {
      "cell_type": "code",
      "execution_count": 419,
      "metadata": {},
      "outputs": [
        {
          "data": {
            "text/html": [
              "<div>\n",
              "<style scoped>\n",
              "    .dataframe tbody tr th:only-of-type {\n",
              "        vertical-align: middle;\n",
              "    }\n",
              "\n",
              "    .dataframe tbody tr th {\n",
              "        vertical-align: top;\n",
              "    }\n",
              "\n",
              "    .dataframe thead th {\n",
              "        text-align: right;\n",
              "    }\n",
              "</style>\n",
              "<table border=\"1\" class=\"dataframe\">\n",
              "  <thead>\n",
              "    <tr style=\"text-align: right;\">\n",
              "      <th></th>\n",
              "      <th>tahun_kelahiran</th>\n",
              "      <th>pendidikan</th>\n",
              "      <th>status_pernikahan</th>\n",
              "      <th>pendapatan</th>\n",
              "      <th>jumlah_anak_balita</th>\n",
              "      <th>jumlah_anak_remaja</th>\n",
              "      <th>terakhir_belanja</th>\n",
              "      <th>belanja_buah</th>\n",
              "      <th>belanja_daging</th>\n",
              "      <th>belanja_ikan</th>\n",
              "      <th>belanja_kue</th>\n",
              "      <th>pembelian_diskon</th>\n",
              "      <th>pembelian_web</th>\n",
              "      <th>pembelian_toko</th>\n",
              "      <th>keluhan</th>\n",
              "      <th>tanggal_menjadi_anggota</th>\n",
              "      <th>jumlah_promosi</th>\n",
              "    </tr>\n",
              "  </thead>\n",
              "  <tbody>\n",
              "    <tr>\n",
              "      <th>0</th>\n",
              "      <td>1979</td>\n",
              "      <td>Sarjana</td>\n",
              "      <td>Rencana Menikah</td>\n",
              "      <td>NaN</td>\n",
              "      <td>0.0</td>\n",
              "      <td>1.0</td>\n",
              "      <td>NaN</td>\n",
              "      <td>50575.0</td>\n",
              "      <td>260967.0</td>\n",
              "      <td>50575.0</td>\n",
              "      <td>20230.0</td>\n",
              "      <td>2.0</td>\n",
              "      <td>2.0</td>\n",
              "      <td>5.0</td>\n",
              "      <td>0.0</td>\n",
              "      <td>2014-05-05</td>\n",
              "      <td>2</td>\n",
              "    </tr>\n",
              "    <tr>\n",
              "      <th>23</th>\n",
              "      <td>1982</td>\n",
              "      <td>SMA</td>\n",
              "      <td>Rencana Menikah</td>\n",
              "      <td>NaN</td>\n",
              "      <td>1.0</td>\n",
              "      <td>0.0</td>\n",
              "      <td>54.0</td>\n",
              "      <td>8742.0</td>\n",
              "      <td>26206.0</td>\n",
              "      <td>4231.0</td>\n",
              "      <td>836.0</td>\n",
              "      <td>3.0</td>\n",
              "      <td>2.0</td>\n",
              "      <td>2.0</td>\n",
              "      <td>0.0</td>\n",
              "      <td>NaN</td>\n",
              "      <td>6</td>\n",
              "    </tr>\n",
              "    <tr>\n",
              "      <th>53</th>\n",
              "      <td>1975</td>\n",
              "      <td>Doktor</td>\n",
              "      <td>Menikah</td>\n",
              "      <td>NaN</td>\n",
              "      <td>0.0</td>\n",
              "      <td>0.0</td>\n",
              "      <td>65.0</td>\n",
              "      <td>180047.0</td>\n",
              "      <td>1488928.0</td>\n",
              "      <td>145656.0</td>\n",
              "      <td>105196.0</td>\n",
              "      <td>1.0</td>\n",
              "      <td>1.0</td>\n",
              "      <td>7.0</td>\n",
              "      <td>0.0</td>\n",
              "      <td>NaN</td>\n",
              "      <td>0</td>\n",
              "    </tr>\n",
              "    <tr>\n",
              "      <th>116</th>\n",
              "      <td>1957</td>\n",
              "      <td>SMA</td>\n",
              "      <td>Rencana Menikah</td>\n",
              "      <td>NaN</td>\n",
              "      <td>0.0</td>\n",
              "      <td>1.0</td>\n",
              "      <td>30.0</td>\n",
              "      <td>15143.0</td>\n",
              "      <td>61788.0</td>\n",
              "      <td>4104.0</td>\n",
              "      <td>0.0</td>\n",
              "      <td>4.0</td>\n",
              "      <td>5.0</td>\n",
              "      <td>8.0</td>\n",
              "      <td>0.0</td>\n",
              "      <td>NaN</td>\n",
              "      <td>5</td>\n",
              "    </tr>\n",
              "    <tr>\n",
              "      <th>135</th>\n",
              "      <td>1976</td>\n",
              "      <td>Sarjana</td>\n",
              "      <td>Menikah</td>\n",
              "      <td>NaN</td>\n",
              "      <td>0.0</td>\n",
              "      <td>NaN</td>\n",
              "      <td>66.0</td>\n",
              "      <td>115311.0</td>\n",
              "      <td>1145018.0</td>\n",
              "      <td>226576.0</td>\n",
              "      <td>260967.0</td>\n",
              "      <td>2.0</td>\n",
              "      <td>6.0</td>\n",
              "      <td>7.0</td>\n",
              "      <td>0.0</td>\n",
              "      <td>2014-05-14</td>\n",
              "      <td>5</td>\n",
              "    </tr>\n",
              "    <tr>\n",
              "      <th>141</th>\n",
              "      <td>1963</td>\n",
              "      <td>Sarjana</td>\n",
              "      <td>Sendiri</td>\n",
              "      <td>NaN</td>\n",
              "      <td>0.0</td>\n",
              "      <td>1.0</td>\n",
              "      <td>14.0</td>\n",
              "      <td>15436.0</td>\n",
              "      <td>112814.0</td>\n",
              "      <td>NaN</td>\n",
              "      <td>20120.0</td>\n",
              "      <td>0.0</td>\n",
              "      <td>8.0</td>\n",
              "      <td>5.0</td>\n",
              "      <td>0.0</td>\n",
              "      <td>NaN</td>\n",
              "      <td>4</td>\n",
              "    </tr>\n",
              "    <tr>\n",
              "      <th>145</th>\n",
              "      <td>1967</td>\n",
              "      <td>Sarjana</td>\n",
              "      <td>Rencana Menikah</td>\n",
              "      <td>NaN</td>\n",
              "      <td>1.0</td>\n",
              "      <td>1.0</td>\n",
              "      <td>22.0</td>\n",
              "      <td>4046.0</td>\n",
              "      <td>12138.0</td>\n",
              "      <td>0.0</td>\n",
              "      <td>0.0</td>\n",
              "      <td>2.0</td>\n",
              "      <td>1.0</td>\n",
              "      <td>NaN</td>\n",
              "      <td>0.0</td>\n",
              "      <td>2012-12-10</td>\n",
              "      <td>1</td>\n",
              "    </tr>\n",
              "    <tr>\n",
              "      <th>150</th>\n",
              "      <td>1972</td>\n",
              "      <td>Magister</td>\n",
              "      <td>Rencana Menikah</td>\n",
              "      <td>NaN</td>\n",
              "      <td>0.0</td>\n",
              "      <td>1.0</td>\n",
              "      <td>85.0</td>\n",
              "      <td>55231.0</td>\n",
              "      <td>475405.0</td>\n",
              "      <td>36006.0</td>\n",
              "      <td>NaN</td>\n",
              "      <td>1.0</td>\n",
              "      <td>10.0</td>\n",
              "      <td>4.0</td>\n",
              "      <td>0.0</td>\n",
              "      <td>NaN</td>\n",
              "      <td>5</td>\n",
              "    </tr>\n",
              "    <tr>\n",
              "      <th>180</th>\n",
              "      <td>1980</td>\n",
              "      <td>Sarjana</td>\n",
              "      <td>Rencana Menikah</td>\n",
              "      <td>NaN</td>\n",
              "      <td>0.0</td>\n",
              "      <td>0.0</td>\n",
              "      <td>7.0</td>\n",
              "      <td>NaN</td>\n",
              "      <td>36475.0</td>\n",
              "      <td>22978.0</td>\n",
              "      <td>34337.0</td>\n",
              "      <td>1.0</td>\n",
              "      <td>3.0</td>\n",
              "      <td>0.0</td>\n",
              "      <td>0.0</td>\n",
              "      <td>NaN</td>\n",
              "      <td>5</td>\n",
              "    </tr>\n",
              "    <tr>\n",
              "      <th>190</th>\n",
              "      <td>1981</td>\n",
              "      <td>Doktor</td>\n",
              "      <td>Rencana Menikah</td>\n",
              "      <td>NaN</td>\n",
              "      <td>1.0</td>\n",
              "      <td>0.0</td>\n",
              "      <td>61.0</td>\n",
              "      <td>2023.0</td>\n",
              "      <td>105196.0</td>\n",
              "      <td>0.0</td>\n",
              "      <td>12138.0</td>\n",
              "      <td>1.0</td>\n",
              "      <td>7.0</td>\n",
              "      <td>4.0</td>\n",
              "      <td>0.0</td>\n",
              "      <td>2013-02-10</td>\n",
              "      <td>0</td>\n",
              "    </tr>\n",
              "  </tbody>\n",
              "</table>\n",
              "</div>"
            ],
            "text/plain": [
              "     tahun_kelahiran pendidikan status_pernikahan  pendapatan  \\\n",
              "0               1979    Sarjana   Rencana Menikah         NaN   \n",
              "23              1982        SMA   Rencana Menikah         NaN   \n",
              "53              1975     Doktor           Menikah         NaN   \n",
              "116             1957        SMA   Rencana Menikah         NaN   \n",
              "135             1976    Sarjana           Menikah         NaN   \n",
              "141             1963    Sarjana           Sendiri         NaN   \n",
              "145             1967    Sarjana   Rencana Menikah         NaN   \n",
              "150             1972   Magister   Rencana Menikah         NaN   \n",
              "180             1980    Sarjana   Rencana Menikah         NaN   \n",
              "190             1981     Doktor   Rencana Menikah         NaN   \n",
              "\n",
              "     jumlah_anak_balita  jumlah_anak_remaja  terakhir_belanja  belanja_buah  \\\n",
              "0                   0.0                 1.0               NaN       50575.0   \n",
              "23                  1.0                 0.0              54.0        8742.0   \n",
              "53                  0.0                 0.0              65.0      180047.0   \n",
              "116                 0.0                 1.0              30.0       15143.0   \n",
              "135                 0.0                 NaN              66.0      115311.0   \n",
              "141                 0.0                 1.0              14.0       15436.0   \n",
              "145                 1.0                 1.0              22.0        4046.0   \n",
              "150                 0.0                 1.0              85.0       55231.0   \n",
              "180                 0.0                 0.0               7.0           NaN   \n",
              "190                 1.0                 0.0              61.0        2023.0   \n",
              "\n",
              "     belanja_daging  belanja_ikan  belanja_kue  pembelian_diskon  \\\n",
              "0          260967.0       50575.0      20230.0               2.0   \n",
              "23          26206.0        4231.0        836.0               3.0   \n",
              "53        1488928.0      145656.0     105196.0               1.0   \n",
              "116         61788.0        4104.0          0.0               4.0   \n",
              "135       1145018.0      226576.0     260967.0               2.0   \n",
              "141        112814.0           NaN      20120.0               0.0   \n",
              "145         12138.0           0.0          0.0               2.0   \n",
              "150        475405.0       36006.0          NaN               1.0   \n",
              "180         36475.0       22978.0      34337.0               1.0   \n",
              "190        105196.0           0.0      12138.0               1.0   \n",
              "\n",
              "     pembelian_web  pembelian_toko  keluhan tanggal_menjadi_anggota  \\\n",
              "0              2.0             5.0      0.0              2014-05-05   \n",
              "23             2.0             2.0      0.0                     NaN   \n",
              "53             1.0             7.0      0.0                     NaN   \n",
              "116            5.0             8.0      0.0                     NaN   \n",
              "135            6.0             7.0      0.0              2014-05-14   \n",
              "141            8.0             5.0      0.0                     NaN   \n",
              "145            1.0             NaN      0.0              2012-12-10   \n",
              "150           10.0             4.0      0.0                     NaN   \n",
              "180            3.0             0.0      0.0                     NaN   \n",
              "190            7.0             4.0      0.0              2013-02-10   \n",
              "\n",
              "     jumlah_promosi  \n",
              "0                 2  \n",
              "23                6  \n",
              "53                0  \n",
              "116               5  \n",
              "135               5  \n",
              "141               4  \n",
              "145               1  \n",
              "150               5  \n",
              "180               5  \n",
              "190               0  "
            ]
          },
          "execution_count": 419,
          "metadata": {},
          "output_type": "execute_result"
        }
      ],
      "source": [
        "nullPendapatan = dataTraining[dataTraining['pendapatan'].isnull()]\n",
        "nullPendapatan.head(10)"
      ]
    },
    {
      "cell_type": "code",
      "execution_count": 420,
      "metadata": {},
      "outputs": [
        {
          "data": {
            "text/html": [
              "<div>\n",
              "<style scoped>\n",
              "    .dataframe tbody tr th:only-of-type {\n",
              "        vertical-align: middle;\n",
              "    }\n",
              "\n",
              "    .dataframe tbody tr th {\n",
              "        vertical-align: top;\n",
              "    }\n",
              "\n",
              "    .dataframe thead th {\n",
              "        text-align: right;\n",
              "    }\n",
              "</style>\n",
              "<table border=\"1\" class=\"dataframe\">\n",
              "  <thead>\n",
              "    <tr style=\"text-align: right;\">\n",
              "      <th></th>\n",
              "      <th>tahun_kelahiran</th>\n",
              "      <th>pendidikan</th>\n",
              "      <th>status_pernikahan</th>\n",
              "      <th>pendapatan</th>\n",
              "      <th>jumlah_anak_balita</th>\n",
              "      <th>jumlah_anak_remaja</th>\n",
              "      <th>terakhir_belanja</th>\n",
              "      <th>belanja_buah</th>\n",
              "      <th>belanja_daging</th>\n",
              "      <th>belanja_ikan</th>\n",
              "      <th>belanja_kue</th>\n",
              "      <th>pembelian_diskon</th>\n",
              "      <th>pembelian_web</th>\n",
              "      <th>pembelian_toko</th>\n",
              "      <th>keluhan</th>\n",
              "      <th>tanggal_menjadi_anggota</th>\n",
              "      <th>jumlah_promosi</th>\n",
              "    </tr>\n",
              "  </thead>\n",
              "  <tbody>\n",
              "    <tr>\n",
              "      <th>2513</th>\n",
              "      <td>1956</td>\n",
              "      <td>Magister</td>\n",
              "      <td>Rencana Menikah</td>\n",
              "      <td>117227688.0</td>\n",
              "      <td>0.0</td>\n",
              "      <td>1.0</td>\n",
              "      <td>69.0</td>\n",
              "      <td>3246.0</td>\n",
              "      <td>129372.0</td>\n",
              "      <td>2446.0</td>\n",
              "      <td>22391.0</td>\n",
              "      <td>1.0</td>\n",
              "      <td>4.0</td>\n",
              "      <td>11.0</td>\n",
              "      <td>0.0</td>\n",
              "      <td>NaN</td>\n",
              "      <td>3</td>\n",
              "    </tr>\n",
              "    <tr>\n",
              "      <th>598</th>\n",
              "      <td>1977</td>\n",
              "      <td>Sarjana</td>\n",
              "      <td>Rencana Menikah</td>\n",
              "      <td>78250460.0</td>\n",
              "      <td>1.0</td>\n",
              "      <td>0.0</td>\n",
              "      <td>12.0</td>\n",
              "      <td>1583.0</td>\n",
              "      <td>28516.0</td>\n",
              "      <td>316.0</td>\n",
              "      <td>0.0</td>\n",
              "      <td>1.0</td>\n",
              "      <td>3.0</td>\n",
              "      <td>2.0</td>\n",
              "      <td>0.0</td>\n",
              "      <td>NaN</td>\n",
              "      <td>5</td>\n",
              "    </tr>\n",
              "    <tr>\n",
              "      <th>1112</th>\n",
              "      <td>1966</td>\n",
              "      <td>Sarjana</td>\n",
              "      <td>Rencana Menikah</td>\n",
              "      <td>138651000.0</td>\n",
              "      <td>0.0</td>\n",
              "      <td>0.0</td>\n",
              "      <td>89.0</td>\n",
              "      <td>66759.0</td>\n",
              "      <td>877982.0</td>\n",
              "      <td>46529.0</td>\n",
              "      <td>54621.0</td>\n",
              "      <td>0.0</td>\n",
              "      <td>0.0</td>\n",
              "      <td>7.0</td>\n",
              "      <td>0.0</td>\n",
              "      <td>2013-12-22</td>\n",
              "      <td>0</td>\n",
              "    </tr>\n",
              "    <tr>\n",
              "      <th>1519</th>\n",
              "      <td>1973</td>\n",
              "      <td>Sarjana</td>\n",
              "      <td>Sendiri</td>\n",
              "      <td>59436000.0</td>\n",
              "      <td>1.0</td>\n",
              "      <td>0.0</td>\n",
              "      <td>33.0</td>\n",
              "      <td>0.0</td>\n",
              "      <td>34391.0</td>\n",
              "      <td>2023.0</td>\n",
              "      <td>0.0</td>\n",
              "      <td>1.0</td>\n",
              "      <td>0.0</td>\n",
              "      <td>3.0</td>\n",
              "      <td>0.0</td>\n",
              "      <td>2014-01-30</td>\n",
              "      <td>1</td>\n",
              "    </tr>\n",
              "    <tr>\n",
              "      <th>1769</th>\n",
              "      <td>1980</td>\n",
              "      <td>Magister</td>\n",
              "      <td>Rencana Menikah</td>\n",
              "      <td>65454205.0</td>\n",
              "      <td>1.0</td>\n",
              "      <td>0.0</td>\n",
              "      <td>NaN</td>\n",
              "      <td>NaN</td>\n",
              "      <td>24041.0</td>\n",
              "      <td>10255.0</td>\n",
              "      <td>10068.0</td>\n",
              "      <td>2.0</td>\n",
              "      <td>1.0</td>\n",
              "      <td>0.0</td>\n",
              "      <td>0.0</td>\n",
              "      <td>NaN</td>\n",
              "      <td>2</td>\n",
              "    </tr>\n",
              "    <tr>\n",
              "      <th>1899</th>\n",
              "      <td>1960</td>\n",
              "      <td>Sarjana</td>\n",
              "      <td>Sendiri</td>\n",
              "      <td>161244000.0</td>\n",
              "      <td>0.0</td>\n",
              "      <td>NaN</td>\n",
              "      <td>49.0</td>\n",
              "      <td>176001.0</td>\n",
              "      <td>805154.0</td>\n",
              "      <td>416738.0</td>\n",
              "      <td>165886.0</td>\n",
              "      <td>2.0</td>\n",
              "      <td>0.0</td>\n",
              "      <td>10.0</td>\n",
              "      <td>0.0</td>\n",
              "      <td>2014-06-25</td>\n",
              "      <td>4</td>\n",
              "    </tr>\n",
              "    <tr>\n",
              "      <th>926</th>\n",
              "      <td>1968</td>\n",
              "      <td>Sarjana</td>\n",
              "      <td>Rencana Menikah</td>\n",
              "      <td>120678000.0</td>\n",
              "      <td>0.0</td>\n",
              "      <td>1.0</td>\n",
              "      <td>51.0</td>\n",
              "      <td>14161.0</td>\n",
              "      <td>224553.0</td>\n",
              "      <td>78897.0</td>\n",
              "      <td>52598.0</td>\n",
              "      <td>5.0</td>\n",
              "      <td>10.0</td>\n",
              "      <td>13.0</td>\n",
              "      <td>0.0</td>\n",
              "      <td>2013-06-24</td>\n",
              "      <td>5</td>\n",
              "    </tr>\n",
              "    <tr>\n",
              "      <th>1061</th>\n",
              "      <td>1953</td>\n",
              "      <td>Magister</td>\n",
              "      <td>Menikah</td>\n",
              "      <td>105679000.0</td>\n",
              "      <td>1.0</td>\n",
              "      <td>1.0</td>\n",
              "      <td>58.0</td>\n",
              "      <td>0.0</td>\n",
              "      <td>42483.0</td>\n",
              "      <td>0.0</td>\n",
              "      <td>0.0</td>\n",
              "      <td>4.0</td>\n",
              "      <td>1.0</td>\n",
              "      <td>4.0</td>\n",
              "      <td>0.0</td>\n",
              "      <td>2014-06-06</td>\n",
              "      <td>0</td>\n",
              "    </tr>\n",
              "    <tr>\n",
              "      <th>313</th>\n",
              "      <td>1965</td>\n",
              "      <td>Doktor</td>\n",
              "      <td>Menikah</td>\n",
              "      <td>61353363.0</td>\n",
              "      <td>1.0</td>\n",
              "      <td>1.0</td>\n",
              "      <td>23.0</td>\n",
              "      <td>738.0</td>\n",
              "      <td>8762.0</td>\n",
              "      <td>2148.0</td>\n",
              "      <td>3614.0</td>\n",
              "      <td>0.0</td>\n",
              "      <td>4.0</td>\n",
              "      <td>0.0</td>\n",
              "      <td>0.0</td>\n",
              "      <td>NaN</td>\n",
              "      <td>0</td>\n",
              "    </tr>\n",
              "    <tr>\n",
              "      <th>1925</th>\n",
              "      <td>1958</td>\n",
              "      <td>Sarjana</td>\n",
              "      <td>Rencana Menikah</td>\n",
              "      <td>96055886.0</td>\n",
              "      <td>0.0</td>\n",
              "      <td>1.0</td>\n",
              "      <td>47.0</td>\n",
              "      <td>12730.0</td>\n",
              "      <td>94102.0</td>\n",
              "      <td>44707.0</td>\n",
              "      <td>36071.0</td>\n",
              "      <td>3.0</td>\n",
              "      <td>3.0</td>\n",
              "      <td>NaN</td>\n",
              "      <td>0.0</td>\n",
              "      <td>NaN</td>\n",
              "      <td>1</td>\n",
              "    </tr>\n",
              "  </tbody>\n",
              "</table>\n",
              "</div>"
            ],
            "text/plain": [
              "      tahun_kelahiran pendidikan status_pernikahan   pendapatan  \\\n",
              "2513             1956   Magister   Rencana Menikah  117227688.0   \n",
              "598              1977    Sarjana   Rencana Menikah   78250460.0   \n",
              "1112             1966    Sarjana   Rencana Menikah  138651000.0   \n",
              "1519             1973    Sarjana           Sendiri   59436000.0   \n",
              "1769             1980   Magister   Rencana Menikah   65454205.0   \n",
              "1899             1960    Sarjana           Sendiri  161244000.0   \n",
              "926              1968    Sarjana   Rencana Menikah  120678000.0   \n",
              "1061             1953   Magister           Menikah  105679000.0   \n",
              "313              1965     Doktor           Menikah   61353363.0   \n",
              "1925             1958    Sarjana   Rencana Menikah   96055886.0   \n",
              "\n",
              "      jumlah_anak_balita  jumlah_anak_remaja  terakhir_belanja  belanja_buah  \\\n",
              "2513                 0.0                 1.0              69.0        3246.0   \n",
              "598                  1.0                 0.0              12.0        1583.0   \n",
              "1112                 0.0                 0.0              89.0       66759.0   \n",
              "1519                 1.0                 0.0              33.0           0.0   \n",
              "1769                 1.0                 0.0               NaN           NaN   \n",
              "1899                 0.0                 NaN              49.0      176001.0   \n",
              "926                  0.0                 1.0              51.0       14161.0   \n",
              "1061                 1.0                 1.0              58.0           0.0   \n",
              "313                  1.0                 1.0              23.0         738.0   \n",
              "1925                 0.0                 1.0              47.0       12730.0   \n",
              "\n",
              "      belanja_daging  belanja_ikan  belanja_kue  pembelian_diskon  \\\n",
              "2513        129372.0        2446.0      22391.0               1.0   \n",
              "598          28516.0         316.0          0.0               1.0   \n",
              "1112        877982.0       46529.0      54621.0               0.0   \n",
              "1519         34391.0        2023.0          0.0               1.0   \n",
              "1769         24041.0       10255.0      10068.0               2.0   \n",
              "1899        805154.0      416738.0     165886.0               2.0   \n",
              "926         224553.0       78897.0      52598.0               5.0   \n",
              "1061         42483.0           0.0          0.0               4.0   \n",
              "313           8762.0        2148.0       3614.0               0.0   \n",
              "1925         94102.0       44707.0      36071.0               3.0   \n",
              "\n",
              "      pembelian_web  pembelian_toko  keluhan tanggal_menjadi_anggota  \\\n",
              "2513            4.0            11.0      0.0                     NaN   \n",
              "598             3.0             2.0      0.0                     NaN   \n",
              "1112            0.0             7.0      0.0              2013-12-22   \n",
              "1519            0.0             3.0      0.0              2014-01-30   \n",
              "1769            1.0             0.0      0.0                     NaN   \n",
              "1899            0.0            10.0      0.0              2014-06-25   \n",
              "926            10.0            13.0      0.0              2013-06-24   \n",
              "1061            1.0             4.0      0.0              2014-06-06   \n",
              "313             4.0             0.0      0.0                     NaN   \n",
              "1925            3.0             NaN      0.0                     NaN   \n",
              "\n",
              "      jumlah_promosi  \n",
              "2513               3  \n",
              "598                5  \n",
              "1112               0  \n",
              "1519               1  \n",
              "1769               2  \n",
              "1899               4  \n",
              "926                5  \n",
              "1061               0  \n",
              "313                0  \n",
              "1925               1  "
            ]
          },
          "execution_count": 420,
          "metadata": {},
          "output_type": "execute_result"
        }
      ],
      "source": [
        "dataTraining.sample(10)"
      ]
    },
    {
      "cell_type": "markdown",
      "metadata": {},
      "source": [
        "Yang dilakukan adalah menggunakan interpolasi polinomial untuk menutup setiap nilai NaN yang ada dengan titik terdekat data ke data lainnya secara linear."
      ]
    },
    {
      "cell_type": "code",
      "execution_count": 421,
      "metadata": {
        "id": "jyT87u3auQ5c"
      },
      "outputs": [],
      "source": [
        "# Data x dan y yang tidak null\n",
        "x_known = dataTraining.index[~dataTraining['pendapatan'].isnull()]\n",
        "y_known = dataTraining.loc[x_known, 'pendapatan']\n",
        "\n",
        "# Buat objek interpolasi polinomial orde rendah (misalnya, orde 2)\n",
        "poly_interp = Polynomial.fit(x_known, y_known, deg=2)\n",
        "\n",
        "# Memasang indeks titik data yang akan diisi (NaN)\n",
        "fill_indices = dataTraining.index[dataTraining['pendapatan'].isnull()]\n",
        "\n",
        "# Isi nilai-nilai NaN dengan hasil interpolasi polinomial\n",
        "dataTraining.loc[fill_indices, 'pendapatan'] = poly_interp(fill_indices)\n"
      ]
    },
    {
      "cell_type": "markdown",
      "metadata": {},
      "source": [
        "Pada saat ini sudah tidak terdapat nilai NaN lagi pada kolom **pendapatan**, sehingga dapat dilanjutkan pada proses analisis selanjutnya."
      ]
    },
    {
      "cell_type": "code",
      "execution_count": 422,
      "metadata": {},
      "outputs": [
        {
          "data": {
            "text/plain": [
              "count    3.814000e+03\n",
              "mean     1.144903e+08\n",
              "std      4.237225e+07\n",
              "min      5.073000e+06\n",
              "25%      8.263290e+07\n",
              "50%      1.145857e+08\n",
              "75%      1.479561e+08\n",
              "max      3.328840e+08\n",
              "Name: pendapatan, dtype: float64"
            ]
          },
          "execution_count": 422,
          "metadata": {},
          "output_type": "execute_result"
        }
      ],
      "source": [
        "# Tampilan statistik kolom pendapatan\n",
        "dataTraining.pendapatan.describe()"
      ]
    },
    {
      "cell_type": "markdown",
      "metadata": {},
      "source": [
        "## Kolom Jumlah Anak Balita"
      ]
    },
    {
      "cell_type": "markdown",
      "metadata": {},
      "source": [
        "### Cek Nilai Unique"
      ]
    },
    {
      "cell_type": "code",
      "execution_count": 423,
      "metadata": {},
      "outputs": [
        {
          "data": {
            "text/plain": [
              "array([ 0., nan,  1.,  2.])"
            ]
          },
          "execution_count": 423,
          "metadata": {},
          "output_type": "execute_result"
        }
      ],
      "source": [
        "dataTraining['jumlah_anak_balita'].unique()"
      ]
    },
    {
      "cell_type": "markdown",
      "metadata": {},
      "source": [
        "Pada pengecekan nilai unique di atas, ditemukan nilai NaN yang perlu diganti dengan nilai lain."
      ]
    },
    {
      "cell_type": "markdown",
      "metadata": {},
      "source": [
        "### Hapus Nilai Null"
      ]
    },
    {
      "cell_type": "code",
      "execution_count": 424,
      "metadata": {},
      "outputs": [
        {
          "name": "stdout",
          "output_type": "stream",
          "text": [
            "int32\n"
          ]
        }
      ],
      "source": [
        "dataTraining['jumlah_anak_balita'].fillna(0, inplace=True)\n",
        "dataTraining['jumlah_anak_balita'] = dataTraining['jumlah_anak_balita'].astype(int)\n",
        "print(dataTraining['jumlah_anak_balita'].dtype)"
      ]
    },
    {
      "cell_type": "code",
      "execution_count": 425,
      "metadata": {},
      "outputs": [
        {
          "data": {
            "text/plain": [
              "array([0, 1, 2])"
            ]
          },
          "execution_count": 425,
          "metadata": {},
          "output_type": "execute_result"
        }
      ],
      "source": [
        "# Cek Nilai Unique Ulang\n",
        "dataTraining['jumlah_anak_balita'].unique()"
      ]
    },
    {
      "cell_type": "markdown",
      "metadata": {},
      "source": [
        "Pada proses ini, langkah yang diambil adalah mengubah nilai NaN menjadi **0** dengan asumsi setiap nilai NaN diartikan baris data penduduk tersebut memiliki jumlah anak balita sebanyak **0**."
      ]
    },
    {
      "cell_type": "markdown",
      "metadata": {},
      "source": [
        "## Kolom Jumlah Anak Remaja"
      ]
    },
    {
      "cell_type": "markdown",
      "metadata": {},
      "source": [
        "### Cek Nilai Unique"
      ]
    },
    {
      "cell_type": "code",
      "execution_count": 426,
      "metadata": {},
      "outputs": [
        {
          "data": {
            "text/plain": [
              "array([ 1., nan,  0.,  2.])"
            ]
          },
          "execution_count": 426,
          "metadata": {},
          "output_type": "execute_result"
        }
      ],
      "source": [
        "dataTraining['jumlah_anak_remaja'].unique()"
      ]
    },
    {
      "cell_type": "markdown",
      "metadata": {},
      "source": [
        "Sama seperti pada kasus kolom *jumlah anak balita*, terdapat nilai NaN pada kolom *jumlah anak remaja* yang perlu diubah dengan nilai lainnya."
      ]
    },
    {
      "cell_type": "markdown",
      "metadata": {},
      "source": [
        "### Hapus Nilai Null"
      ]
    },
    {
      "cell_type": "code",
      "execution_count": 427,
      "metadata": {},
      "outputs": [
        {
          "name": "stdout",
          "output_type": "stream",
          "text": [
            "int32\n"
          ]
        }
      ],
      "source": [
        "dataTraining['jumlah_anak_remaja'].fillna(0, inplace=True)\n",
        "dataTraining['jumlah_anak_remaja'] = dataTraining['jumlah_anak_remaja'].astype(int)\n",
        "print(dataTraining['jumlah_anak_remaja'].dtype)"
      ]
    },
    {
      "cell_type": "code",
      "execution_count": 428,
      "metadata": {},
      "outputs": [
        {
          "data": {
            "text/plain": [
              "array([1, 0, 2])"
            ]
          },
          "execution_count": 428,
          "metadata": {},
          "output_type": "execute_result"
        }
      ],
      "source": [
        "# Cek Nilai Unique Ulang\n",
        "dataTraining['jumlah_anak_remaja'].unique()"
      ]
    },
    {
      "cell_type": "markdown",
      "metadata": {},
      "source": [
        "Hasil pada kolom *jumlah anak remaja* juga mirip dengan hasil kolom *jumlah anak balita*, yaitu dengan mengubah nilai NaN dengan nilai **0**. Sebagai asumsi bahwa nilai NaN berarti baris data penduduk tersebut tidak memiliki anak remaja."
      ]
    },
    {
      "cell_type": "markdown",
      "metadata": {},
      "source": [
        "## Kolom Terakhir Belanja"
      ]
    },
    {
      "cell_type": "markdown",
      "metadata": {},
      "source": [
        "### Cek Nilai Unique"
      ]
    },
    {
      "cell_type": "code",
      "execution_count": 429,
      "metadata": {},
      "outputs": [
        {
          "data": {
            "text/plain": [
              "array([ nan,  70.,  45.,  90.,  78.,   9.,  96.,  21.,  26.,  67.,  59.,\n",
              "        57.,   5.,  65.,  61.,  25.,  16.,   0.,  50.,  69.,  84.,  56.,\n",
              "        54.,  17.,  51.,  29.,  73.,  60.,  87.,  62.,  41.,  35.,   3.,\n",
              "        36.,  58.,  64.,  55.,  12.,  19.,  30.,  28.,  11., 114.,   4.,\n",
              "        76.,  85.,  15.,  80.,  81.,  37.,  47.,  18.,  20.,   6.,  77.,\n",
              "        22.,  32.,  75.,  43.,  31.,  23.,  44.,  66.,  68.,  79.,  99.,\n",
              "        39.,  46.,  33.,  27.,   8.,  14., 100.,  91.,  49.,  92.,  52.,\n",
              "         7.,  48.,  82.,  72.,  89.,  34.,  63.,  94.,  86.,  74.,  53.,\n",
              "        13.,  71.,  83.,  38.,   1.,  97.,  88.,  93.,  40.,   2.,  24.,\n",
              "       105.,  10., 102.,  42., 103.,  95., 101., 106., 128.,  98., 104.,\n",
              "       108., 122., 112., 124.])"
            ]
          },
          "execution_count": 429,
          "metadata": {},
          "output_type": "execute_result"
        }
      ],
      "source": [
        "dataTraining['terakhir_belanja'].unique()"
      ]
    },
    {
      "cell_type": "markdown",
      "metadata": {},
      "source": [
        "Pada pengecekan nilai unique, hasilnya terdapat nilai NaN yang terkandung didalam kolom *terakhir belanja*. Maka perlu dilakukan pengecekan batas minimum dan maksimum data serta nilai statistik lainnya seperti rata-rata untuk mengubah nilai NaN ini dengan sajian nilai Unique yang lebih rapi."
      ]
    },
    {
      "cell_type": "markdown",
      "metadata": {},
      "source": [
        "### Cek Nilai Min dan Max"
      ]
    },
    {
      "cell_type": "code",
      "execution_count": 430,
      "metadata": {},
      "outputs": [
        {
          "name": "stdout",
          "output_type": "stream",
          "text": [
            "Nilai maksimal dari kolom terakhir belanja adalah 128.0\n",
            "Nilai minimal dari kolom terakhir belanja adalah 0.0\n"
          ]
        }
      ],
      "source": [
        "nilaiMax = dataTraining.terakhir_belanja.max()\n",
        "nilaiMin = dataTraining.terakhir_belanja.min()\n",
        "\n",
        "print('Nilai maksimal dari kolom terakhir belanja adalah', nilaiMax)\n",
        "print('Nilai minimal dari kolom terakhir belanja adalah', nilaiMin)"
      ]
    },
    {
      "cell_type": "markdown",
      "metadata": {},
      "source": [
        "Dikarenakan tidak adanya acuan data tambahan dari kolom *terakhir belanja*, maka langkah yang diambil adalah mengubah setiap nilai NaN menjadi nilai rata-rata."
      ]
    },
    {
      "cell_type": "markdown",
      "metadata": {},
      "source": [
        "### Ubah Nilai Null dengan Rata-Rata"
      ]
    },
    {
      "cell_type": "code",
      "execution_count": 431,
      "metadata": {},
      "outputs": [
        {
          "data": {
            "text/plain": [
              "47.23338824821526"
            ]
          },
          "execution_count": 431,
          "metadata": {},
          "output_type": "execute_result"
        }
      ],
      "source": [
        "rata2 = dataTraining['terakhir_belanja'].mean()\n",
        "rata2"
      ]
    },
    {
      "cell_type": "markdown",
      "metadata": {},
      "source": [
        "Didapatkan nilai **47.23338824821526** yang perlu dibulatkan, untuk mengubah nilai NaN dengan nilai ini."
      ]
    },
    {
      "cell_type": "code",
      "execution_count": 432,
      "metadata": {},
      "outputs": [
        {
          "name": "stdout",
          "output_type": "stream",
          "text": [
            "int32\n"
          ]
        }
      ],
      "source": [
        "dataTraining['terakhir_belanja'] = dataTraining['terakhir_belanja'].fillna(rata2)\n",
        "dataTraining['terakhir_belanja'] = dataTraining['terakhir_belanja'].astype(int)\n",
        "print(dataTraining['terakhir_belanja'].dtype)"
      ]
    },
    {
      "cell_type": "markdown",
      "metadata": {},
      "source": [
        "Pembulatan nilai pada kolom *terakhir belanja* dilakukan dengan cara pengubahan tipe data dari float menjadi integer."
      ]
    },
    {
      "cell_type": "code",
      "execution_count": 433,
      "metadata": {},
      "outputs": [
        {
          "data": {
            "text/plain": [
              "array([  0,   1,   2,   3,   4,   5,   6,   7,   8,   9,  10,  11,  12,\n",
              "        13,  14,  15,  16,  17,  18,  19,  20,  21,  22,  23,  24,  25,\n",
              "        26,  27,  28,  29,  30,  31,  32,  33,  34,  35,  36,  37,  38,\n",
              "        39,  40,  41,  42,  43,  44,  45,  46,  47,  48,  49,  50,  51,\n",
              "        52,  53,  54,  55,  56,  57,  58,  59,  60,  61,  62,  63,  64,\n",
              "        65,  66,  67,  68,  69,  70,  71,  72,  73,  74,  75,  76,  77,\n",
              "        78,  79,  80,  81,  82,  83,  84,  85,  86,  87,  88,  89,  90,\n",
              "        91,  92,  93,  94,  95,  96,  97,  98,  99, 100, 101, 102, 103,\n",
              "       104, 105, 106, 108, 112, 114, 122, 124, 128])"
            ]
          },
          "execution_count": 433,
          "metadata": {},
          "output_type": "execute_result"
        }
      ],
      "source": [
        "# Cek Ulang Nilai Unique\n",
        "nilaiTerurut = np.sort(dataTraining['terakhir_belanja'].unique())\n",
        "nilaiTerurut"
      ]
    },
    {
      "cell_type": "markdown",
      "metadata": {},
      "source": [
        "## Kolom Belanja Buah\n",
        "\n",
        "Pada kolom **belanja buah**, juga masih terdapat nilai NaN yang harus dipenuhi. Untuk langkah yang diambil yaitu mengisi dengan mempertimbangkan kolom lain yang secara logis masih memiliki hubungan dengan kolom **belanja_buah**. Hal ini bertujuan agar pengisian data bervariasi tetapi masih memiliki alasan yang masuk jelas. Kolom yang dipilih adalah **pendapatan**."
      ]
    },
    {
      "cell_type": "code",
      "execution_count": 434,
      "metadata": {},
      "outputs": [
        {
          "data": {
            "text/html": [
              "<div>\n",
              "<style scoped>\n",
              "    .dataframe tbody tr th:only-of-type {\n",
              "        vertical-align: middle;\n",
              "    }\n",
              "\n",
              "    .dataframe tbody tr th {\n",
              "        vertical-align: top;\n",
              "    }\n",
              "\n",
              "    .dataframe thead th {\n",
              "        text-align: right;\n",
              "    }\n",
              "</style>\n",
              "<table border=\"1\" class=\"dataframe\">\n",
              "  <thead>\n",
              "    <tr style=\"text-align: right;\">\n",
              "      <th></th>\n",
              "      <th>tahun_kelahiran</th>\n",
              "      <th>pendidikan</th>\n",
              "      <th>status_pernikahan</th>\n",
              "      <th>pendapatan</th>\n",
              "      <th>jumlah_anak_balita</th>\n",
              "      <th>jumlah_anak_remaja</th>\n",
              "      <th>terakhir_belanja</th>\n",
              "      <th>belanja_buah</th>\n",
              "      <th>belanja_daging</th>\n",
              "      <th>belanja_ikan</th>\n",
              "      <th>belanja_kue</th>\n",
              "      <th>pembelian_diskon</th>\n",
              "      <th>pembelian_web</th>\n",
              "      <th>pembelian_toko</th>\n",
              "      <th>keluhan</th>\n",
              "      <th>tanggal_menjadi_anggota</th>\n",
              "      <th>jumlah_promosi</th>\n",
              "    </tr>\n",
              "  </thead>\n",
              "  <tbody>\n",
              "    <tr>\n",
              "      <th>0</th>\n",
              "      <td>1979</td>\n",
              "      <td>Sarjana</td>\n",
              "      <td>Rencana Menikah</td>\n",
              "      <td>1.138377e+08</td>\n",
              "      <td>0</td>\n",
              "      <td>1</td>\n",
              "      <td>47</td>\n",
              "      <td>50575.0</td>\n",
              "      <td>260967.0</td>\n",
              "      <td>50575.0</td>\n",
              "      <td>20230.0</td>\n",
              "      <td>2.0</td>\n",
              "      <td>2.0</td>\n",
              "      <td>5.0</td>\n",
              "      <td>0.0</td>\n",
              "      <td>2014-05-05</td>\n",
              "      <td>2</td>\n",
              "    </tr>\n",
              "    <tr>\n",
              "      <th>1</th>\n",
              "      <td>1950</td>\n",
              "      <td>Sarjana</td>\n",
              "      <td>Rencana Menikah</td>\n",
              "      <td>8.406300e+07</td>\n",
              "      <td>0</td>\n",
              "      <td>0</td>\n",
              "      <td>70</td>\n",
              "      <td>6069.0</td>\n",
              "      <td>44506.0</td>\n",
              "      <td>80920.0</td>\n",
              "      <td>20230.0</td>\n",
              "      <td>9.0</td>\n",
              "      <td>6.0</td>\n",
              "      <td>4.0</td>\n",
              "      <td>0.0</td>\n",
              "      <td>2013-03-17</td>\n",
              "      <td>0</td>\n",
              "    </tr>\n",
              "    <tr>\n",
              "      <th>2</th>\n",
              "      <td>1966</td>\n",
              "      <td>Sarjana</td>\n",
              "      <td>Menikah</td>\n",
              "      <td>1.275326e+08</td>\n",
              "      <td>0</td>\n",
              "      <td>0</td>\n",
              "      <td>45</td>\n",
              "      <td>117611.0</td>\n",
              "      <td>265460.0</td>\n",
              "      <td>96341.0</td>\n",
              "      <td>145573.0</td>\n",
              "      <td>1.0</td>\n",
              "      <td>1.0</td>\n",
              "      <td>7.0</td>\n",
              "      <td>0.0</td>\n",
              "      <td>NaN</td>\n",
              "      <td>1</td>\n",
              "    </tr>\n",
              "    <tr>\n",
              "      <th>3</th>\n",
              "      <td>1961</td>\n",
              "      <td>Magister</td>\n",
              "      <td>Rencana Menikah</td>\n",
              "      <td>1.655796e+08</td>\n",
              "      <td>0</td>\n",
              "      <td>0</td>\n",
              "      <td>90</td>\n",
              "      <td>206346.0</td>\n",
              "      <td>1613901.0</td>\n",
              "      <td>27725.0</td>\n",
              "      <td>125868.0</td>\n",
              "      <td>0.0</td>\n",
              "      <td>7.0</td>\n",
              "      <td>8.0</td>\n",
              "      <td>0.0</td>\n",
              "      <td>NaN</td>\n",
              "      <td>4</td>\n",
              "    </tr>\n",
              "    <tr>\n",
              "      <th>4</th>\n",
              "      <td>1970</td>\n",
              "      <td>Sarjana</td>\n",
              "      <td>Rencana Menikah</td>\n",
              "      <td>1.177032e+08</td>\n",
              "      <td>1</td>\n",
              "      <td>1</td>\n",
              "      <td>78</td>\n",
              "      <td>90563.0</td>\n",
              "      <td>311757.0</td>\n",
              "      <td>40358.0</td>\n",
              "      <td>33875.0</td>\n",
              "      <td>7.0</td>\n",
              "      <td>6.0</td>\n",
              "      <td>5.0</td>\n",
              "      <td>0.0</td>\n",
              "      <td>NaN</td>\n",
              "      <td>4</td>\n",
              "    </tr>\n",
              "  </tbody>\n",
              "</table>\n",
              "</div>"
            ],
            "text/plain": [
              "   tahun_kelahiran pendidikan status_pernikahan    pendapatan  \\\n",
              "0             1979    Sarjana   Rencana Menikah  1.138377e+08   \n",
              "1             1950    Sarjana   Rencana Menikah  8.406300e+07   \n",
              "2             1966    Sarjana           Menikah  1.275326e+08   \n",
              "3             1961   Magister   Rencana Menikah  1.655796e+08   \n",
              "4             1970    Sarjana   Rencana Menikah  1.177032e+08   \n",
              "\n",
              "   jumlah_anak_balita  jumlah_anak_remaja  terakhir_belanja  belanja_buah  \\\n",
              "0                   0                   1                47       50575.0   \n",
              "1                   0                   0                70        6069.0   \n",
              "2                   0                   0                45      117611.0   \n",
              "3                   0                   0                90      206346.0   \n",
              "4                   1                   1                78       90563.0   \n",
              "\n",
              "   belanja_daging  belanja_ikan  belanja_kue  pembelian_diskon  pembelian_web  \\\n",
              "0        260967.0       50575.0      20230.0               2.0            2.0   \n",
              "1         44506.0       80920.0      20230.0               9.0            6.0   \n",
              "2        265460.0       96341.0     145573.0               1.0            1.0   \n",
              "3       1613901.0       27725.0     125868.0               0.0            7.0   \n",
              "4        311757.0       40358.0      33875.0               7.0            6.0   \n",
              "\n",
              "   pembelian_toko  keluhan tanggal_menjadi_anggota  jumlah_promosi  \n",
              "0             5.0      0.0              2014-05-05               2  \n",
              "1             4.0      0.0              2013-03-17               0  \n",
              "2             7.0      0.0                     NaN               1  \n",
              "3             8.0      0.0                     NaN               4  \n",
              "4             5.0      0.0                     NaN               4  "
            ]
          },
          "execution_count": 434,
          "metadata": {},
          "output_type": "execute_result"
        }
      ],
      "source": [
        "dataTraining.head()"
      ]
    },
    {
      "cell_type": "code",
      "execution_count": 435,
      "metadata": {},
      "outputs": [
        {
          "data": {
            "text/plain": [
              "181"
            ]
          },
          "execution_count": 435,
          "metadata": {},
          "output_type": "execute_result"
        }
      ],
      "source": [
        "dataTraining.belanja_buah.isna().sum()"
      ]
    },
    {
      "cell_type": "markdown",
      "metadata": {},
      "source": [
        "### Pengisian Nilai NaN\n",
        "\n",
        "Pengisian nilai NaN dilakukan dengan cara mengambil sampel nilai pendapatan pada kolom **pendapatan** berdasarkan segmentasi pendapatan pada kolom **segmen_pendapatan**. Setelah itu, dilakukan prediksi yang hasilnya akan dimasukkan sebagai pengganti nilai NaN. \n",
        "\n",
        "Untuk fitur x diambil dari kolom **pendapatan** (non null) dan fitur y diambil dari kolom **belanja buah** hanya nilai yang non null saja. Prediksi dilakukan menggunakan *Random Forest*."
      ]
    },
    {
      "cell_type": "code",
      "execution_count": 436,
      "metadata": {},
      "outputs": [],
      "source": [
        "# Data x dan y yang tidak null\n",
        "x_known = dataTraining.index[~dataTraining['belanja_buah'].isnull()]\n",
        "y_known = dataTraining.loc[x_known, 'belanja_buah']\n",
        "\n",
        "# Buat objek interpolasi polinomial orde rendah (misalnya, orde 2)\n",
        "poly_interp = Polynomial.fit(x_known, y_known, deg=2)\n",
        "\n",
        "# Memasang indeks titik data yang akan diisi (NaN)\n",
        "fill_indices = dataTraining.index[dataTraining['belanja_buah'].isnull()]\n",
        "\n",
        "# Isi nilai-nilai NaN dengan hasil interpolasi polinomial\n",
        "dataTraining.loc[fill_indices, 'belanja_buah'] = poly_interp(fill_indices)"
      ]
    },
    {
      "cell_type": "code",
      "execution_count": 437,
      "metadata": {},
      "outputs": [
        {
          "data": {
            "text/plain": [
              "0"
            ]
          },
          "execution_count": 437,
          "metadata": {},
          "output_type": "execute_result"
        }
      ],
      "source": [
        "dataTraining.belanja_buah.isna().sum()"
      ]
    },
    {
      "cell_type": "markdown",
      "metadata": {},
      "source": [
        "## Kolom Belanja Daging"
      ]
    },
    {
      "cell_type": "code",
      "execution_count": 438,
      "metadata": {},
      "outputs": [],
      "source": [
        "# Data x dan y yang tidak null\n",
        "x_known = dataTraining.index[~dataTraining['belanja_daging'].isnull()]\n",
        "y_known = dataTraining.loc[x_known, 'belanja_daging']\n",
        "\n",
        "# Buat objek interpolasi polinomial orde rendah (misalnya, orde 2)\n",
        "poly_interp = Polynomial.fit(x_known, y_known, deg=2)\n",
        "\n",
        "# Memasang indeks titik data yang akan diisi (NaN)\n",
        "fill_indices = dataTraining.index[dataTraining['belanja_daging'].isnull()]\n",
        "\n",
        "# Isi nilai-nilai NaN dengan hasil interpolasi polinomial\n",
        "dataTraining.loc[fill_indices, 'belanja_daging'] = poly_interp(fill_indices)"
      ]
    },
    {
      "cell_type": "code",
      "execution_count": 439,
      "metadata": {},
      "outputs": [
        {
          "data": {
            "text/plain": [
              "0"
            ]
          },
          "execution_count": 439,
          "metadata": {},
          "output_type": "execute_result"
        }
      ],
      "source": [
        "dataTraining.belanja_daging.isna().sum()"
      ]
    },
    {
      "cell_type": "markdown",
      "metadata": {},
      "source": [
        "## Kolom Belanja Ikan"
      ]
    },
    {
      "cell_type": "code",
      "execution_count": 440,
      "metadata": {},
      "outputs": [],
      "source": [
        "# Data x dan y yang tidak null\n",
        "x_known = dataTraining.index[~dataTraining['belanja_buah'].isnull()]\n",
        "y_known = dataTraining.loc[x_known, 'belanja_buah']\n",
        "\n",
        "# Buat objek interpolasi polinomial orde rendah (misalnya, orde 2)\n",
        "poly_interp = Polynomial.fit(x_known, y_known, deg=2)\n",
        "\n",
        "# Memasang indeks titik data yang akan diisi (NaN)\n",
        "fill_indices = dataTraining.index[dataTraining['belanja_buah'].isnull()]\n",
        "\n",
        "# Isi nilai-nilai NaN dengan hasil interpolasi polinomial\n",
        "dataTraining.loc[fill_indices, 'belanja_buah'] = poly_interp(fill_indices)"
      ]
    },
    {
      "cell_type": "code",
      "execution_count": 441,
      "metadata": {},
      "outputs": [
        {
          "data": {
            "text/plain": [
              "193"
            ]
          },
          "execution_count": 441,
          "metadata": {},
          "output_type": "execute_result"
        }
      ],
      "source": [
        "trainFeatures.belanja_ikan.isna().sum()"
      ]
    },
    {
      "cell_type": "markdown",
      "metadata": {},
      "source": [
        "## Kolom Belanja Kue"
      ]
    },
    {
      "cell_type": "code",
      "execution_count": 442,
      "metadata": {},
      "outputs": [],
      "source": [
        "# Data x dan y yang tidak null\n",
        "x_known = dataTraining.index[~dataTraining['belanja_kue'].isnull()]\n",
        "y_known = dataTraining.loc[x_known, 'belanja_kue']\n",
        "\n",
        "# Buat objek interpolasi polinomial orde rendah (misalnya, orde 2)\n",
        "poly_interp = Polynomial.fit(x_known, y_known, deg=2)\n",
        "\n",
        "# Memasang indeks titik data yang akan diisi (NaN)\n",
        "fill_indices = dataTraining.index[dataTraining['belanja_kue'].isnull()]\n",
        "\n",
        "# Isi nilai-nilai NaN dengan hasil interpolasi polinomial\n",
        "dataTraining.loc[fill_indices, 'belanja_kue'] = poly_interp(fill_indices)"
      ]
    },
    {
      "cell_type": "code",
      "execution_count": 443,
      "metadata": {},
      "outputs": [
        {
          "data": {
            "text/plain": [
              "192"
            ]
          },
          "execution_count": 443,
          "metadata": {},
          "output_type": "execute_result"
        }
      ],
      "source": [
        "dataTraining.belanja_ikan.isna().sum()"
      ]
    },
    {
      "cell_type": "markdown",
      "metadata": {},
      "source": [
        "## Kolom Pembelian Diskon"
      ]
    },
    {
      "cell_type": "code",
      "execution_count": 444,
      "metadata": {},
      "outputs": [
        {
          "data": {
            "text/plain": [
              "178"
            ]
          },
          "execution_count": 444,
          "metadata": {},
          "output_type": "execute_result"
        }
      ],
      "source": [
        "dataTraining.pembelian_diskon.isna().sum()"
      ]
    },
    {
      "cell_type": "code",
      "execution_count": 445,
      "metadata": {},
      "outputs": [
        {
          "data": {
            "text/plain": [
              "count    3636.000000\n",
              "mean        2.125413\n",
              "std         2.100816\n",
              "min         0.000000\n",
              "25%         0.000000\n",
              "50%         2.000000\n",
              "75%         3.000000\n",
              "max        20.000000\n",
              "Name: pembelian_diskon, dtype: float64"
            ]
          },
          "execution_count": 445,
          "metadata": {},
          "output_type": "execute_result"
        }
      ],
      "source": [
        "dataTraining.pembelian_diskon.describe()"
      ]
    },
    {
      "cell_type": "code",
      "execution_count": 446,
      "metadata": {},
      "outputs": [
        {
          "data": {
            "text/html": [
              "<div>\n",
              "<style scoped>\n",
              "    .dataframe tbody tr th:only-of-type {\n",
              "        vertical-align: middle;\n",
              "    }\n",
              "\n",
              "    .dataframe tbody tr th {\n",
              "        vertical-align: top;\n",
              "    }\n",
              "\n",
              "    .dataframe thead th {\n",
              "        text-align: right;\n",
              "    }\n",
              "</style>\n",
              "<table border=\"1\" class=\"dataframe\">\n",
              "  <thead>\n",
              "    <tr style=\"text-align: right;\">\n",
              "      <th></th>\n",
              "      <th>tahun_kelahiran</th>\n",
              "      <th>pendidikan</th>\n",
              "      <th>status_pernikahan</th>\n",
              "      <th>pendapatan</th>\n",
              "      <th>jumlah_anak_balita</th>\n",
              "      <th>jumlah_anak_remaja</th>\n",
              "      <th>terakhir_belanja</th>\n",
              "      <th>belanja_buah</th>\n",
              "      <th>belanja_daging</th>\n",
              "      <th>belanja_ikan</th>\n",
              "      <th>belanja_kue</th>\n",
              "      <th>pembelian_diskon</th>\n",
              "      <th>pembelian_web</th>\n",
              "      <th>pembelian_toko</th>\n",
              "      <th>keluhan</th>\n",
              "      <th>tanggal_menjadi_anggota</th>\n",
              "      <th>jumlah_promosi</th>\n",
              "      <th>segmentasi_pendapatan</th>\n",
              "    </tr>\n",
              "  </thead>\n",
              "  <tbody>\n",
              "    <tr>\n",
              "      <th>0</th>\n",
              "      <td>1979</td>\n",
              "      <td>Sarjana</td>\n",
              "      <td>Rencana Menikah</td>\n",
              "      <td>1.138377e+08</td>\n",
              "      <td>0</td>\n",
              "      <td>1</td>\n",
              "      <td>47</td>\n",
              "      <td>50575.0</td>\n",
              "      <td>260967.0</td>\n",
              "      <td>50575.0</td>\n",
              "      <td>20230.000000</td>\n",
              "      <td>2.0</td>\n",
              "      <td>2.0</td>\n",
              "      <td>5.0</td>\n",
              "      <td>0.0</td>\n",
              "      <td>2014-05-05</td>\n",
              "      <td>2</td>\n",
              "      <td>Sedang</td>\n",
              "    </tr>\n",
              "    <tr>\n",
              "      <th>1</th>\n",
              "      <td>1950</td>\n",
              "      <td>Sarjana</td>\n",
              "      <td>Rencana Menikah</td>\n",
              "      <td>8.406300e+07</td>\n",
              "      <td>0</td>\n",
              "      <td>0</td>\n",
              "      <td>70</td>\n",
              "      <td>6069.0</td>\n",
              "      <td>44506.0</td>\n",
              "      <td>80920.0</td>\n",
              "      <td>20230.000000</td>\n",
              "      <td>9.0</td>\n",
              "      <td>6.0</td>\n",
              "      <td>4.0</td>\n",
              "      <td>0.0</td>\n",
              "      <td>2013-03-17</td>\n",
              "      <td>0</td>\n",
              "      <td>Sedang</td>\n",
              "    </tr>\n",
              "    <tr>\n",
              "      <th>2</th>\n",
              "      <td>1966</td>\n",
              "      <td>Sarjana</td>\n",
              "      <td>Menikah</td>\n",
              "      <td>1.275326e+08</td>\n",
              "      <td>0</td>\n",
              "      <td>0</td>\n",
              "      <td>45</td>\n",
              "      <td>117611.0</td>\n",
              "      <td>265460.0</td>\n",
              "      <td>96341.0</td>\n",
              "      <td>145573.000000</td>\n",
              "      <td>1.0</td>\n",
              "      <td>1.0</td>\n",
              "      <td>7.0</td>\n",
              "      <td>0.0</td>\n",
              "      <td>NaN</td>\n",
              "      <td>1</td>\n",
              "      <td>Tinggi</td>\n",
              "    </tr>\n",
              "    <tr>\n",
              "      <th>3</th>\n",
              "      <td>1961</td>\n",
              "      <td>Magister</td>\n",
              "      <td>Rencana Menikah</td>\n",
              "      <td>1.655796e+08</td>\n",
              "      <td>0</td>\n",
              "      <td>0</td>\n",
              "      <td>90</td>\n",
              "      <td>206346.0</td>\n",
              "      <td>1613901.0</td>\n",
              "      <td>27725.0</td>\n",
              "      <td>125868.000000</td>\n",
              "      <td>0.0</td>\n",
              "      <td>7.0</td>\n",
              "      <td>8.0</td>\n",
              "      <td>0.0</td>\n",
              "      <td>NaN</td>\n",
              "      <td>4</td>\n",
              "      <td>Sangat Tinggi</td>\n",
              "    </tr>\n",
              "    <tr>\n",
              "      <th>4</th>\n",
              "      <td>1970</td>\n",
              "      <td>Sarjana</td>\n",
              "      <td>Rencana Menikah</td>\n",
              "      <td>1.177032e+08</td>\n",
              "      <td>1</td>\n",
              "      <td>1</td>\n",
              "      <td>78</td>\n",
              "      <td>90563.0</td>\n",
              "      <td>311757.0</td>\n",
              "      <td>40358.0</td>\n",
              "      <td>33875.000000</td>\n",
              "      <td>7.0</td>\n",
              "      <td>6.0</td>\n",
              "      <td>5.0</td>\n",
              "      <td>0.0</td>\n",
              "      <td>NaN</td>\n",
              "      <td>4</td>\n",
              "      <td>Tinggi</td>\n",
              "    </tr>\n",
              "    <tr>\n",
              "      <th>...</th>\n",
              "      <td>...</td>\n",
              "      <td>...</td>\n",
              "      <td>...</td>\n",
              "      <td>...</td>\n",
              "      <td>...</td>\n",
              "      <td>...</td>\n",
              "      <td>...</td>\n",
              "      <td>...</td>\n",
              "      <td>...</td>\n",
              "      <td>...</td>\n",
              "      <td>...</td>\n",
              "      <td>...</td>\n",
              "      <td>...</td>\n",
              "      <td>...</td>\n",
              "      <td>...</td>\n",
              "      <td>...</td>\n",
              "      <td>...</td>\n",
              "      <td>...</td>\n",
              "    </tr>\n",
              "    <tr>\n",
              "      <th>3812</th>\n",
              "      <td>1955</td>\n",
              "      <td>Magister</td>\n",
              "      <td>Menikah</td>\n",
              "      <td>7.819947e+07</td>\n",
              "      <td>0</td>\n",
              "      <td>0</td>\n",
              "      <td>33</td>\n",
              "      <td>6069.0</td>\n",
              "      <td>25977.0</td>\n",
              "      <td>3856.0</td>\n",
              "      <td>5784.000000</td>\n",
              "      <td>5.0</td>\n",
              "      <td>1.0</td>\n",
              "      <td>0.0</td>\n",
              "      <td>0.0</td>\n",
              "      <td>NaN</td>\n",
              "      <td>5</td>\n",
              "      <td>Rendah</td>\n",
              "    </tr>\n",
              "    <tr>\n",
              "      <th>3813</th>\n",
              "      <td>1947</td>\n",
              "      <td>Doktor</td>\n",
              "      <td>Rencana Menikah</td>\n",
              "      <td>1.093060e+08</td>\n",
              "      <td>0</td>\n",
              "      <td>1</td>\n",
              "      <td>44</td>\n",
              "      <td>0.0</td>\n",
              "      <td>50575.0</td>\n",
              "      <td>NaN</td>\n",
              "      <td>0.000000</td>\n",
              "      <td>3.0</td>\n",
              "      <td>6.0</td>\n",
              "      <td>3.0</td>\n",
              "      <td>0.0</td>\n",
              "      <td>2014-06-09</td>\n",
              "      <td>1</td>\n",
              "      <td>Sedang</td>\n",
              "    </tr>\n",
              "    <tr>\n",
              "      <th>3814</th>\n",
              "      <td>1974</td>\n",
              "      <td>Magister</td>\n",
              "      <td>Menikah</td>\n",
              "      <td>1.046210e+08</td>\n",
              "      <td>0</td>\n",
              "      <td>2</td>\n",
              "      <td>68</td>\n",
              "      <td>2023.0</td>\n",
              "      <td>62713.0</td>\n",
              "      <td>8092.0</td>\n",
              "      <td>0.000000</td>\n",
              "      <td>7.0</td>\n",
              "      <td>5.0</td>\n",
              "      <td>7.0</td>\n",
              "      <td>0.0</td>\n",
              "      <td>2013-11-07</td>\n",
              "      <td>0</td>\n",
              "      <td>Sedang</td>\n",
              "    </tr>\n",
              "    <tr>\n",
              "      <th>3815</th>\n",
              "      <td>1957</td>\n",
              "      <td>SMA</td>\n",
              "      <td>Rencana Menikah</td>\n",
              "      <td>1.108500e+08</td>\n",
              "      <td>1</td>\n",
              "      <td>1</td>\n",
              "      <td>67</td>\n",
              "      <td>18207.0</td>\n",
              "      <td>70805.0</td>\n",
              "      <td>24276.0</td>\n",
              "      <td>59520.858872</td>\n",
              "      <td>4.0</td>\n",
              "      <td>5.0</td>\n",
              "      <td>4.0</td>\n",
              "      <td>0.0</td>\n",
              "      <td>2013-06-30</td>\n",
              "      <td>0</td>\n",
              "      <td>Sedang</td>\n",
              "    </tr>\n",
              "    <tr>\n",
              "      <th>3816</th>\n",
              "      <td>1961</td>\n",
              "      <td>Sarjana</td>\n",
              "      <td>Menikah</td>\n",
              "      <td>1.305120e+08</td>\n",
              "      <td>0</td>\n",
              "      <td>0</td>\n",
              "      <td>70</td>\n",
              "      <td>329749.0</td>\n",
              "      <td>600831.0</td>\n",
              "      <td>420784.0</td>\n",
              "      <td>161840.000000</td>\n",
              "      <td>3.0</td>\n",
              "      <td>7.0</td>\n",
              "      <td>15.0</td>\n",
              "      <td>0.0</td>\n",
              "      <td>2014-01-25</td>\n",
              "      <td>0</td>\n",
              "      <td>Tinggi</td>\n",
              "    </tr>\n",
              "  </tbody>\n",
              "</table>\n",
              "<p>3814 rows × 18 columns</p>\n",
              "</div>"
            ],
            "text/plain": [
              "      tahun_kelahiran pendidikan status_pernikahan    pendapatan  \\\n",
              "0                1979    Sarjana   Rencana Menikah  1.138377e+08   \n",
              "1                1950    Sarjana   Rencana Menikah  8.406300e+07   \n",
              "2                1966    Sarjana           Menikah  1.275326e+08   \n",
              "3                1961   Magister   Rencana Menikah  1.655796e+08   \n",
              "4                1970    Sarjana   Rencana Menikah  1.177032e+08   \n",
              "...               ...        ...               ...           ...   \n",
              "3812             1955   Magister           Menikah  7.819947e+07   \n",
              "3813             1947     Doktor   Rencana Menikah  1.093060e+08   \n",
              "3814             1974   Magister           Menikah  1.046210e+08   \n",
              "3815             1957        SMA   Rencana Menikah  1.108500e+08   \n",
              "3816             1961    Sarjana           Menikah  1.305120e+08   \n",
              "\n",
              "      jumlah_anak_balita  jumlah_anak_remaja  terakhir_belanja  belanja_buah  \\\n",
              "0                      0                   1                47       50575.0   \n",
              "1                      0                   0                70        6069.0   \n",
              "2                      0                   0                45      117611.0   \n",
              "3                      0                   0                90      206346.0   \n",
              "4                      1                   1                78       90563.0   \n",
              "...                  ...                 ...               ...           ...   \n",
              "3812                   0                   0                33        6069.0   \n",
              "3813                   0                   1                44           0.0   \n",
              "3814                   0                   2                68        2023.0   \n",
              "3815                   1                   1                67       18207.0   \n",
              "3816                   0                   0                70      329749.0   \n",
              "\n",
              "      belanja_daging  belanja_ikan    belanja_kue  pembelian_diskon  \\\n",
              "0           260967.0       50575.0   20230.000000               2.0   \n",
              "1            44506.0       80920.0   20230.000000               9.0   \n",
              "2           265460.0       96341.0  145573.000000               1.0   \n",
              "3          1613901.0       27725.0  125868.000000               0.0   \n",
              "4           311757.0       40358.0   33875.000000               7.0   \n",
              "...              ...           ...            ...               ...   \n",
              "3812         25977.0        3856.0    5784.000000               5.0   \n",
              "3813         50575.0           NaN       0.000000               3.0   \n",
              "3814         62713.0        8092.0       0.000000               7.0   \n",
              "3815         70805.0       24276.0   59520.858872               4.0   \n",
              "3816        600831.0      420784.0  161840.000000               3.0   \n",
              "\n",
              "      pembelian_web  pembelian_toko  keluhan tanggal_menjadi_anggota  \\\n",
              "0               2.0             5.0      0.0              2014-05-05   \n",
              "1               6.0             4.0      0.0              2013-03-17   \n",
              "2               1.0             7.0      0.0                     NaN   \n",
              "3               7.0             8.0      0.0                     NaN   \n",
              "4               6.0             5.0      0.0                     NaN   \n",
              "...             ...             ...      ...                     ...   \n",
              "3812            1.0             0.0      0.0                     NaN   \n",
              "3813            6.0             3.0      0.0              2014-06-09   \n",
              "3814            5.0             7.0      0.0              2013-11-07   \n",
              "3815            5.0             4.0      0.0              2013-06-30   \n",
              "3816            7.0            15.0      0.0              2014-01-25   \n",
              "\n",
              "      jumlah_promosi segmentasi_pendapatan  \n",
              "0                  2                Sedang  \n",
              "1                  0                Sedang  \n",
              "2                  1                Tinggi  \n",
              "3                  4         Sangat Tinggi  \n",
              "4                  4                Tinggi  \n",
              "...              ...                   ...  \n",
              "3812               5                Rendah  \n",
              "3813               1                Sedang  \n",
              "3814               0                Sedang  \n",
              "3815               0                Sedang  \n",
              "3816               0                Tinggi  \n",
              "\n",
              "[3814 rows x 18 columns]"
            ]
          },
          "execution_count": 446,
          "metadata": {},
          "output_type": "execute_result"
        }
      ],
      "source": [
        "kuartilPendapatan = dataTraining['pendapatan'].quantile([0.25, 0.5, 0.75])\n",
        "\n",
        "dataTraining['segmentasi_pendapatan'] = pd.cut(dataTraining['pendapatan'], \n",
        "                                                bins=[0, kuartilPendapatan.iloc[0], kuartilPendapatan.iloc[1], \n",
        "                                                      kuartilPendapatan.iloc[2], dataTraining['pendapatan'].max()],\n",
        "                                                labels=['Rendah', 'Sedang', 'Tinggi', 'Sangat Tinggi'])\n",
        "\n",
        "dataTraining"
      ]
    },
    {
      "cell_type": "code",
      "execution_count": 447,
      "metadata": {},
      "outputs": [],
      "source": [
        "for segmen in dataTraining['segmentasi_pendapatan'].unique():\n",
        "    # Filter DataFrame berdasarkan segmen pendapatan\n",
        "    df_segmen = dataTraining[dataTraining['segmentasi_pendapatan'] == segmen]\n",
        "    \n",
        "    # Mengambil nilai modus dari kolom 'pembelian_diskon' pada segmen saat ini\n",
        "    mayorSegmen = df_segmen['pembelian_diskon'].mean()\n",
        "\n",
        "    # Mengisi nilai null di kolom 'pembelian_diskon' berdasarkan segmentasi pendapatan dengan nilai modus\n",
        "    dataTraining.loc[dataTraining['segmentasi_pendapatan'] == segmen, 'pembelian_diskon'] = dataTraining.loc[dataTraining['segmentasi_pendapatan'] == segmen, 'pembelian_diskon'].fillna(mayorSegmen)"
      ]
    },
    {
      "cell_type": "code",
      "execution_count": 448,
      "metadata": {},
      "outputs": [
        {
          "data": {
            "text/plain": [
              "0"
            ]
          },
          "execution_count": 448,
          "metadata": {},
          "output_type": "execute_result"
        }
      ],
      "source": [
        "dataTraining.pembelian_diskon.isna().sum()"
      ]
    },
    {
      "cell_type": "code",
      "execution_count": 449,
      "metadata": {},
      "outputs": [
        {
          "data": {
            "text/plain": [
              "151"
            ]
          },
          "execution_count": 449,
          "metadata": {},
          "output_type": "execute_result"
        }
      ],
      "source": [
        "Q1 = dataTraining['pembelian_diskon'].quantile(0.25)\n",
        "Q3 = dataTraining['pembelian_diskon'].quantile(0.75)\n",
        "IQR = Q3 - Q1\n",
        "\n",
        "Upper_Fence = Q3 + 1.5 * IQR\n",
        "Lower_Fence = Q1 - 1.5 * IQR\n",
        "\n",
        "outliers = dataTraining[(dataTraining['pembelian_diskon'] < Lower_Fence) | (dataTraining['pembelian_diskon'] > Upper_Fence)]['pembelian_diskon']\n",
        "len(outliers)\n"
      ]
    },
    {
      "cell_type": "code",
      "execution_count": 450,
      "metadata": {},
      "outputs": [
        {
          "data": {
            "image/png": "[encoded data removed]",
            "text/plain": [
              "<Figure size 640x480 with 1 Axes>"
            ]
          },
          "metadata": {},
          "output_type": "display_data"
        }
      ],
      "source": [
        "plt.boxplot(dataTraining['pembelian_diskon'], vert=False)\n",
        "plt.xlabel('Belanja Buah')\n",
        "plt.ylabel('Jumlah')\n",
        "plt.title('Diagram Boxplot pembelian_diskon')\n",
        "plt.show()"
      ]
    },
    {
      "cell_type": "code",
      "execution_count": 451,
      "metadata": {},
      "outputs": [
        {
          "data": {
            "text/plain": [
              "Text(0.5, 1.0, 'Histogram pembelian_diskon')"
            ]
          },
          "execution_count": 451,
          "metadata": {},
          "output_type": "execute_result"
        },
        {
          "data": {
            "image/png": "[encoded data removed]",
            "text/plain": [
              "<Figure size 640x480 with 1 Axes>"
            ]
          },
          "metadata": {},
          "output_type": "display_data"
        }
      ],
      "source": [
        "# Plot histogram\n",
        "plt.hist(dataTraining['pembelian_diskon'], bins=10, color='skyblue', edgecolor='black')\n",
        "\n",
        "# Label sumbu dan judul\n",
        "plt.xlabel('pembelian_diskon')\n",
        "plt.ylabel('Frekuensi')\n",
        "plt.title('Histogram pembelian_diskon')"
      ]
    },
    {
      "cell_type": "markdown",
      "metadata": {},
      "source": [
        "Saat ini kolom **belanja buah** sudah tidak ada nilai null lagi"
      ]
    },
    {
      "cell_type": "markdown",
      "metadata": {},
      "source": [
        "## Kolom Pembelian Web"
      ]
    },
    {
      "cell_type": "code",
      "execution_count": 452,
      "metadata": {},
      "outputs": [],
      "source": [
        "for segmen in dataTraining['segmentasi_pendapatan'].unique():\n",
        "    # Filter DataFrame berdasarkan segmen pendapatan\n",
        "    df_segmen = dataTraining[dataTraining['segmentasi_pendapatan'] == segmen]\n",
        "    \n",
        "    # Mengambil nilai modus dari kolom 'pembelian_diskon' pada segmen saat ini\n",
        "    mayorSegmen = df_segmen['pembelian_web'].mean()\n",
        "\n",
        "    # Mengisi nilai null di kolom 'pembelian_diskon' berdasarkan segmentasi pendapatan dengan nilai modus\n",
        "    dataTraining.loc[dataTraining['segmentasi_pendapatan'] == segmen, 'pembelian_web'] = dataTraining.loc[dataTraining['segmentasi_pendapatan'] == segmen, 'pembelian_web'].fillna(mayorSegmen)"
      ]
    },
    {
      "cell_type": "code",
      "execution_count": 453,
      "metadata": {},
      "outputs": [
        {
          "data": {
            "text/plain": [
              "23"
            ]
          },
          "execution_count": 453,
          "metadata": {},
          "output_type": "execute_result"
        }
      ],
      "source": [
        "Q1 = dataTraining['pembelian_web'].quantile(0.25)\n",
        "Q3 = dataTraining['pembelian_web'].quantile(0.75)\n",
        "IQR = Q3 - Q1\n",
        "\n",
        "Upper_Fence = Q3 + 1.5 * IQR\n",
        "Lower_Fence = Q1 - 1.5 * IQR\n",
        "\n",
        "outliers = dataTraining[(dataTraining['pembelian_web'] < Lower_Fence) | (dataTraining['pembelian_web'] > Upper_Fence)]['pembelian_web']\n",
        "len(outliers)"
      ]
    },
    {
      "cell_type": "code",
      "execution_count": 454,
      "metadata": {},
      "outputs": [
        {
          "data": {
            "image/png": "[encoded data removed]",
            "text/plain": [
              "<Figure size 640x480 with 1 Axes>"
            ]
          },
          "metadata": {},
          "output_type": "display_data"
        }
      ],
      "source": [
        "plt.boxplot(dataTraining['pembelian_web'], vert=False)\n",
        "plt.xlabel('Belanja Buah')\n",
        "plt.ylabel('Jumlah')\n",
        "plt.title('Diagram Boxplot pembelian_diskon')\n",
        "plt.show()"
      ]
    },
    {
      "cell_type": "code",
      "execution_count": 455,
      "metadata": {},
      "outputs": [
        {
          "data": {
            "text/plain": [
              "Text(0.5, 1.0, 'Histogram pembelian_diskon')"
            ]
          },
          "execution_count": 455,
          "metadata": {},
          "output_type": "execute_result"
        },
        {
          "data": {
            "image/png": "[encoded data removed]",
            "text/plain": [
              "<Figure size 640x480 with 1 Axes>"
            ]
          },
          "metadata": {},
          "output_type": "display_data"
        }
      ],
      "source": [
        "# Plot histogram\n",
        "plt.hist(dataTraining['pembelian_web'], bins=10, color='skyblue', edgecolor='black')\n",
        "\n",
        "# Label sumbu dan judul\n",
        "plt.xlabel('pembelian_diskon')\n",
        "plt.ylabel('Frekuensi')\n",
        "plt.title('Histogram pembelian_diskon')"
      ]
    },
    {
      "cell_type": "markdown",
      "metadata": {},
      "source": [
        "## Kolom Pembelian Toko"
      ]
    },
    {
      "cell_type": "code",
      "execution_count": 456,
      "metadata": {},
      "outputs": [],
      "source": [
        "for segmen in dataTraining['segmentasi_pendapatan'].unique():\n",
        "    # Filter DataFrame berdasarkan segmen pendapatan\n",
        "    df_segmen = dataTraining[dataTraining['segmentasi_pendapatan'] == segmen]\n",
        "    \n",
        "    # Mengambil nilai modus dari kolom 'pembelian_diskon' pada segmen saat ini\n",
        "    mayorSegmen = df_segmen['pembelian_toko'].mean()\n",
        "\n",
        "    # Mengisi nilai null di kolom 'pembelian_diskon' berdasarkan segmentasi pendapatan dengan nilai modus\n",
        "    dataTraining.loc[dataTraining['segmentasi_pendapatan'] == segmen, 'pembelian_toko'] = dataTraining.loc[dataTraining['segmentasi_pendapatan'] == segmen, 'pembelian_toko'].fillna(mayorSegmen)"
      ]
    },
    {
      "cell_type": "code",
      "execution_count": 457,
      "metadata": {},
      "outputs": [
        {
          "data": {
            "text/plain": [
              "2"
            ]
          },
          "execution_count": 457,
          "metadata": {},
          "output_type": "execute_result"
        }
      ],
      "source": [
        "Q1 = dataTraining['pembelian_toko'].quantile(0.25)\n",
        "Q3 = dataTraining['pembelian_toko'].quantile(0.75)\n",
        "IQR = Q3 - Q1\n",
        "\n",
        "Upper_Fence = Q3 + 1.5 * IQR\n",
        "Lower_Fence = Q1 - 1.5 * IQR\n",
        "\n",
        "outliers = dataTraining[(dataTraining['pembelian_toko'] < Lower_Fence) | (dataTraining['pembelian_toko'] > Upper_Fence)]['pembelian_toko']\n",
        "len(outliers)"
      ]
    },
    {
      "cell_type": "code",
      "execution_count": 458,
      "metadata": {},
      "outputs": [
        {
          "data": {
            "image/png": "[encoded data removed]",
            "text/plain": [
              "<Figure size 640x480 with 1 Axes>"
            ]
          },
          "metadata": {},
          "output_type": "display_data"
        }
      ],
      "source": [
        "plt.boxplot(dataTraining['pembelian_toko'], vert=False)\n",
        "plt.xlabel('Belanja Buah')\n",
        "plt.ylabel('Jumlah')\n",
        "plt.title('Diagram Boxplot pembelian_diskon')\n",
        "plt.show()"
      ]
    },
    {
      "cell_type": "code",
      "execution_count": 459,
      "metadata": {},
      "outputs": [
        {
          "data": {
            "text/plain": [
              "Text(0.5, 1.0, 'Histogram pembelian_diskon')"
            ]
          },
          "execution_count": 459,
          "metadata": {},
          "output_type": "execute_result"
        },
        {
          "data": {
            "image/png": "[encoded data removed]",
            "text/plain": [
              "<Figure size 640x480 with 1 Axes>"
            ]
          },
          "metadata": {},
          "output_type": "display_data"
        }
      ],
      "source": [
        "# Plot histogram\n",
        "plt.hist(dataTraining['pembelian_toko'], bins=10, color='skyblue', edgecolor='black')\n",
        "\n",
        "# Label sumbu dan judul\n",
        "plt.xlabel('pembelian_diskon')\n",
        "plt.ylabel('Frekuensi')\n",
        "plt.title('Histogram pembelian_diskon')"
      ]
    },
    {
      "cell_type": "markdown",
      "metadata": {},
      "source": [
        "## Kolom Keluhan"
      ]
    },
    {
      "cell_type": "code",
      "execution_count": 460,
      "metadata": {},
      "outputs": [
        {
          "data": {
            "text/plain": [
              "196"
            ]
          },
          "execution_count": 460,
          "metadata": {},
          "output_type": "execute_result"
        }
      ],
      "source": [
        "dataTraining.keluhan.isna().sum()"
      ]
    },
    {
      "cell_type": "code",
      "execution_count": 461,
      "metadata": {},
      "outputs": [],
      "source": [
        "dataTraining['keluhan'].fillna(0, inplace=True)"
      ]
    },
    {
      "cell_type": "code",
      "execution_count": 462,
      "metadata": {},
      "outputs": [
        {
          "data": {
            "text/plain": [
              "0"
            ]
          },
          "execution_count": 462,
          "metadata": {},
          "output_type": "execute_result"
        }
      ],
      "source": [
        "dataTraining.keluhan.isna().sum()"
      ]
    },
    {
      "cell_type": "markdown",
      "metadata": {},
      "source": [
        "## Kolom Tanggal Menjadi Anggota"
      ]
    },
    {
      "cell_type": "code",
      "execution_count": 463,
      "metadata": {},
      "outputs": [
        {
          "data": {
            "text/plain": [
              "2749"
            ]
          },
          "execution_count": 463,
          "metadata": {},
          "output_type": "execute_result"
        }
      ],
      "source": [
        "dataTraining.tanggal_menjadi_anggota.isna().sum()"
      ]
    },
    {
      "cell_type": "code",
      "execution_count": 464,
      "metadata": {},
      "outputs": [],
      "source": [
        "dataTraining['tanggal_menjadi_anggota'].fillna(\"Unknown\", inplace=True)"
      ]
    },
    {
      "cell_type": "code",
      "execution_count": 465,
      "metadata": {},
      "outputs": [
        {
          "data": {
            "text/plain": [
              "0"
            ]
          },
          "execution_count": 465,
          "metadata": {},
          "output_type": "execute_result"
        }
      ],
      "source": [
        "dataTraining.tanggal_menjadi_anggota.isna().sum()"
      ]
    },
    {
      "cell_type": "code",
      "execution_count": 466,
      "metadata": {},
      "outputs": [
        {
          "data": {
            "text/html": [
              "<div>\n",
              "<style scoped>\n",
              "    .dataframe tbody tr th:only-of-type {\n",
              "        vertical-align: middle;\n",
              "    }\n",
              "\n",
              "    .dataframe tbody tr th {\n",
              "        vertical-align: top;\n",
              "    }\n",
              "\n",
              "    .dataframe thead th {\n",
              "        text-align: right;\n",
              "    }\n",
              "</style>\n",
              "<table border=\"1\" class=\"dataframe\">\n",
              "  <thead>\n",
              "    <tr style=\"text-align: right;\">\n",
              "      <th></th>\n",
              "      <th>tahun_kelahiran</th>\n",
              "      <th>pendidikan</th>\n",
              "      <th>status_pernikahan</th>\n",
              "      <th>pendapatan</th>\n",
              "      <th>jumlah_anak_balita</th>\n",
              "      <th>jumlah_anak_remaja</th>\n",
              "      <th>terakhir_belanja</th>\n",
              "      <th>belanja_buah</th>\n",
              "      <th>belanja_daging</th>\n",
              "      <th>belanja_ikan</th>\n",
              "      <th>belanja_kue</th>\n",
              "      <th>pembelian_diskon</th>\n",
              "      <th>pembelian_web</th>\n",
              "      <th>pembelian_toko</th>\n",
              "      <th>keluhan</th>\n",
              "      <th>tanggal_menjadi_anggota</th>\n",
              "      <th>jumlah_promosi</th>\n",
              "      <th>segmentasi_pendapatan</th>\n",
              "    </tr>\n",
              "  </thead>\n",
              "  <tbody>\n",
              "    <tr>\n",
              "      <th>0</th>\n",
              "      <td>1979</td>\n",
              "      <td>Sarjana</td>\n",
              "      <td>Rencana Menikah</td>\n",
              "      <td>113837734.0</td>\n",
              "      <td>0</td>\n",
              "      <td>1</td>\n",
              "      <td>47</td>\n",
              "      <td>50575.0</td>\n",
              "      <td>260967.0</td>\n",
              "      <td>50575.0</td>\n",
              "      <td>20230.0</td>\n",
              "      <td>2.0</td>\n",
              "      <td>2.0</td>\n",
              "      <td>5.0</td>\n",
              "      <td>0.0</td>\n",
              "      <td>2014-05-05</td>\n",
              "      <td>2</td>\n",
              "      <td>Sedang</td>\n",
              "    </tr>\n",
              "    <tr>\n",
              "      <th>1</th>\n",
              "      <td>1950</td>\n",
              "      <td>Sarjana</td>\n",
              "      <td>Rencana Menikah</td>\n",
              "      <td>84063000.0</td>\n",
              "      <td>0</td>\n",
              "      <td>0</td>\n",
              "      <td>70</td>\n",
              "      <td>6069.0</td>\n",
              "      <td>44506.0</td>\n",
              "      <td>80920.0</td>\n",
              "      <td>20230.0</td>\n",
              "      <td>9.0</td>\n",
              "      <td>6.0</td>\n",
              "      <td>4.0</td>\n",
              "      <td>0.0</td>\n",
              "      <td>2013-03-17</td>\n",
              "      <td>0</td>\n",
              "      <td>Sedang</td>\n",
              "    </tr>\n",
              "    <tr>\n",
              "      <th>2</th>\n",
              "      <td>1966</td>\n",
              "      <td>Sarjana</td>\n",
              "      <td>Menikah</td>\n",
              "      <td>127532564.0</td>\n",
              "      <td>0</td>\n",
              "      <td>0</td>\n",
              "      <td>45</td>\n",
              "      <td>117611.0</td>\n",
              "      <td>265460.0</td>\n",
              "      <td>96341.0</td>\n",
              "      <td>145573.0</td>\n",
              "      <td>1.0</td>\n",
              "      <td>1.0</td>\n",
              "      <td>7.0</td>\n",
              "      <td>0.0</td>\n",
              "      <td>Unknown</td>\n",
              "      <td>1</td>\n",
              "      <td>Tinggi</td>\n",
              "    </tr>\n",
              "    <tr>\n",
              "      <th>3</th>\n",
              "      <td>1961</td>\n",
              "      <td>Magister</td>\n",
              "      <td>Rencana Menikah</td>\n",
              "      <td>165579620.0</td>\n",
              "      <td>0</td>\n",
              "      <td>0</td>\n",
              "      <td>90</td>\n",
              "      <td>206346.0</td>\n",
              "      <td>1613901.0</td>\n",
              "      <td>27725.0</td>\n",
              "      <td>125868.0</td>\n",
              "      <td>0.0</td>\n",
              "      <td>7.0</td>\n",
              "      <td>8.0</td>\n",
              "      <td>0.0</td>\n",
              "      <td>Unknown</td>\n",
              "      <td>4</td>\n",
              "      <td>Sangat Tinggi</td>\n",
              "    </tr>\n",
              "    <tr>\n",
              "      <th>4</th>\n",
              "      <td>1970</td>\n",
              "      <td>Sarjana</td>\n",
              "      <td>Rencana Menikah</td>\n",
              "      <td>117703159.0</td>\n",
              "      <td>1</td>\n",
              "      <td>1</td>\n",
              "      <td>78</td>\n",
              "      <td>90563.0</td>\n",
              "      <td>311757.0</td>\n",
              "      <td>40358.0</td>\n",
              "      <td>33875.0</td>\n",
              "      <td>7.0</td>\n",
              "      <td>6.0</td>\n",
              "      <td>5.0</td>\n",
              "      <td>0.0</td>\n",
              "      <td>Unknown</td>\n",
              "      <td>4</td>\n",
              "      <td>Tinggi</td>\n",
              "    </tr>\n",
              "  </tbody>\n",
              "</table>\n",
              "</div>"
            ],
            "text/plain": [
              "   tahun_kelahiran pendidikan status_pernikahan   pendapatan  \\\n",
              "0             1979    Sarjana   Rencana Menikah  113837734.0   \n",
              "1             1950    Sarjana   Rencana Menikah   84063000.0   \n",
              "2             1966    Sarjana           Menikah  127532564.0   \n",
              "3             1961   Magister   Rencana Menikah  165579620.0   \n",
              "4             1970    Sarjana   Rencana Menikah  117703159.0   \n",
              "\n",
              "   jumlah_anak_balita  jumlah_anak_remaja  terakhir_belanja  belanja_buah  \\\n",
              "0                   0                   1                47       50575.0   \n",
              "1                   0                   0                70        6069.0   \n",
              "2                   0                   0                45      117611.0   \n",
              "3                   0                   0                90      206346.0   \n",
              "4                   1                   1                78       90563.0   \n",
              "\n",
              "   belanja_daging  belanja_ikan  belanja_kue  pembelian_diskon  pembelian_web  \\\n",
              "0        260967.0       50575.0      20230.0               2.0            2.0   \n",
              "1         44506.0       80920.0      20230.0               9.0            6.0   \n",
              "2        265460.0       96341.0     145573.0               1.0            1.0   \n",
              "3       1613901.0       27725.0     125868.0               0.0            7.0   \n",
              "4        311757.0       40358.0      33875.0               7.0            6.0   \n",
              "\n",
              "   pembelian_toko  keluhan tanggal_menjadi_anggota  jumlah_promosi  \\\n",
              "0             5.0      0.0              2014-05-05               2   \n",
              "1             4.0      0.0              2013-03-17               0   \n",
              "2             7.0      0.0                 Unknown               1   \n",
              "3             8.0      0.0                 Unknown               4   \n",
              "4             5.0      0.0                 Unknown               4   \n",
              "\n",
              "  segmentasi_pendapatan  \n",
              "0                Sedang  \n",
              "1                Sedang  \n",
              "2                Tinggi  \n",
              "3         Sangat Tinggi  \n",
              "4                Tinggi  "
            ]
          },
          "execution_count": 466,
          "metadata": {},
          "output_type": "execute_result"
        }
      ],
      "source": [
        "dataTraining = round(dataTraining)\n",
        "dataTraining.head()"
      ]
    },
    {
      "cell_type": "markdown",
      "metadata": {},
      "source": [
        "## Kolom Segmentasi Pendapatan"
      ]
    },
    {
      "cell_type": "code",
      "execution_count": 467,
      "metadata": {},
      "outputs": [
        {
          "data": {
            "text/plain": [
              "0"
            ]
          },
          "execution_count": 467,
          "metadata": {},
          "output_type": "execute_result"
        }
      ],
      "source": [
        "dataTraining.segmentasi_pendapatan.isna().sum()"
      ]
    },
    {
      "cell_type": "markdown",
      "metadata": {},
      "source": [
        "Sebab tidak terdapat nilai NaN, maka tidak perlu adanya penghapusan nilai outliers di kolom ini."
      ]
    },
    {
      "cell_type": "markdown",
      "metadata": {},
      "source": [
        "## Kolom Jumlah Promosi"
      ]
    },
    {
      "cell_type": "code",
      "execution_count": 468,
      "metadata": {},
      "outputs": [
        {
          "data": {
            "text/plain": [
              "0"
            ]
          },
          "execution_count": 468,
          "metadata": {},
          "output_type": "execute_result"
        }
      ],
      "source": [
        "dataTraining.jumlah_promosi.isna().sum()"
      ]
    },
    {
      "cell_type": "markdown",
      "metadata": {},
      "source": [
        "Sebab tidak terdapat nilai NaN, maka tidak perlu adanya penghapusan nilai outliers di kolom ini."
      ]
    },
    {
      "cell_type": "markdown",
      "metadata": {},
      "source": [
        "# Exploratory Data Analysis (EDA)"
      ]
    },
    {
      "cell_type": "markdown",
      "metadata": {},
      "source": [
        "## Pertanyaan Analisis\n",
        "Dari pertanyaan-pertanyaan bisnis yang sudah didefinisikan, berikut adalah pertanyaan-pertanyaan guna menganalisis setiap pertanyaan bisnis yang ada:\n",
        "\n",
        "1. Rentang usia berapa saja pengguna yang terdata pada dataset?\n",
        "2. Berapa porsi berdasarkan pendidikan terakhir pengguna?\n",
        "3. Status pernikahan apa saja pengguna yang terdata pada dataset?\n",
        "4. Berapa rata-rata pengguna yang sudah memiliki anak dan berapa jumlah rata-rata anak yang dimiliki?\n",
        "5. Berapa rata-rata pendapatan dari segmentasi pendapatan yang ada?\n",
        "6. Dari segmentasi pendapatan, bagaimana analisis statistik setiap pembelian yang dilakukan?\n",
        "7. Bagaimana distribusi pendaftaran anggota dari hasil analisis statistik dan demografis yang sudah dilakukan?\n",
        "8. Bagaimana kesimpulan jumlah promosi yang sudah dilakukan pada setiap pengguna untuk dilakukan promosi ke pengguna baru?"
      ]
    },
    {
      "cell_type": "markdown",
      "metadata": {},
      "source": [
        "## Analisis Outliers\n",
        "\n",
        "Sebelum melakukan analisis lebih lanjut, dilakukan analisis outliers untuk menghilangkan nilai-nilai diluar rentang yang dapat mempengaruhi hasil dari analisis."
      ]
    },
    {
      "cell_type": "markdown",
      "metadata": {},
      "source": [
        "### Cek Nilai Outliers dengan Box Plot"
      ]
    },
    {
      "cell_type": "code",
      "execution_count": 469,
      "metadata": {},
      "outputs": [
        {
          "data": {
            "image/png": "[encoded data removed]",
            "text/plain": [
              "<Figure size 1200x2000 with 14 Axes>"
            ]
          },
          "metadata": {},
          "output_type": "display_data"
        }
      ],
      "source": [
        "numFeatures = dataTraining.select_dtypes(include='number').columns\n",
        "\n",
        "# Tentukan ukuran kanvas subplot\n",
        "numPlots = len(numFeatures)\n",
        "numRows = numPlots // 2 + numPlots % 2  # Hitung jumlah baris\n",
        "fig, axes = plt.subplots(nrows=numRows, ncols=2, figsize=(12, 20), \n",
        "                         gridspec_kw={'height_ratios': [1]*numRows})  # Set tinggi setiap baris sama\n",
        "\n",
        "# Looping melalui kolom numerik\n",
        "for i, column in enumerate(numFeatures):\n",
        "    row = i // 2\n",
        "    col = i % 2\n",
        "    sns.boxplot(x=dataTraining[column], ax=axes[row, col])\n",
        "    axes[row, col].set_title(column)\n",
        "\n",
        "# Menghapus subplot yang tidak digunakan jika jumlah kolom ganjil\n",
        "if numPlots % 2 != 0:\n",
        "    fig.delaxes(axes[numRows-1, 1])\n",
        "\n",
        "plt.tight_layout()\n",
        "plt.show()"
      ]
    },
    {
      "cell_type": "markdown",
      "metadata": {},
      "source": [
        "Dari hasil analisis banyak outliers di atas, terlihat bahwa ada beberapa kolom yang masih terdapat nilai outliers yang perlu ditangani. Namun juga perlu adanya seleksi lagi kolom-kolom yang perlu ditangani dan juga yang tidak. \n",
        "\n",
        "Untuk kolom yang tidak perlu yaitu kolom-kolom numerik dengan nilai terbilang sedikit variasinya."
      ]
    },
    {
      "cell_type": "code",
      "execution_count": 470,
      "metadata": {},
      "outputs": [],
      "source": [
        "ignoredColumn = ['keluhan', 'jumlah_anak_balita', 'jumlah_anak_remaja', 'tahun_kelahiran']\n",
        "interpolateColumn = ['belanja_buah', 'belanja_ikan', 'belanja_daging', 'belanja_kue']\n",
        "\n",
        "# Fungsi untuk menghapus outlier menggunakan pendekatan IQR\n",
        "def replace_outliers_with_interpolation(df):\n",
        "    cleaned_data = df.copy()  # Salin dataframe asli untuk dimodifikasi\n",
        "    \n",
        "    # Loop melalui setiap kolom numerik\n",
        "    for column in df.select_dtypes(include='number').columns:\n",
        "        if column not in ignoredColumn:  # Lewati kolom yang diabaikan\n",
        "            Q1 = df[column].quantile(0.25)\n",
        "            Q3 = df[column].quantile(0.75)\n",
        "            IQR = Q3 - Q1\n",
        "            lower_bound = Q1 - 1.5 * IQR\n",
        "            upper_bound = Q3 + 1.5 * IQR\n",
        "            \n",
        "            if column in interpolateColumn:\n",
        "                # Interpolasi nilai outliers\n",
        "                outliers = df[(df[column] < lower_bound) | (df[column] > upper_bound)]\n",
        "                interpolated_values = (outliers[column] - lower_bound) / (upper_bound - lower_bound) * (Q3 - Q1) + Q1\n",
        "                cleaned_data.loc[outliers.index, column] = interpolated_values\n",
        "            cleaned_data[column] = cleaned_data[column].apply(lambda x: lower_bound if x < lower_bound else (upper_bound if x > upper_bound else x))\n",
        "    return cleaned_data\n",
        "\n",
        "# Hapus outlier menggunakan pendekatan IQR untuk setiap kolom (kecuali yang diabaikan)\n",
        "cleanedTraining = replace_outliers_with_interpolation(dataTraining)"
      ]
    },
    {
      "cell_type": "code",
      "execution_count": 471,
      "metadata": {},
      "outputs": [
        {
          "data": {
            "text/plain": [
              "3814"
            ]
          },
          "execution_count": 471,
          "metadata": {},
          "output_type": "execute_result"
        }
      ],
      "source": [
        "cleanedTraining.shape[0]"
      ]
    },
    {
      "cell_type": "code",
      "execution_count": 472,
      "metadata": {},
      "outputs": [
        {
          "data": {
            "image/png": "[encoded data removed]",
            "text/plain": [
              "<Figure size 1200x2000 with 14 Axes>"
            ]
          },
          "metadata": {},
          "output_type": "display_data"
        }
      ],
      "source": [
        "numFeatures = cleanedTraining.select_dtypes(include='number').columns\n",
        "\n",
        "# Tentukan ukuran kanvas subplot\n",
        "numPlots = len(numFeatures)\n",
        "numRows = numPlots // 2 + numPlots % 2  # Hitung jumlah baris\n",
        "fig, axes = plt.subplots(nrows=numRows, ncols=2, figsize=(12, 20), \n",
        "                         gridspec_kw={'height_ratios': [1]*numRows})  # Set tinggi setiap baris sama\n",
        "\n",
        "# Looping melalui kolom numerik\n",
        "for i, column in enumerate(numFeatures):\n",
        "    row = i // 2\n",
        "    col = i % 2\n",
        "    sns.boxplot(x=cleanedTraining[column], ax=axes[row, col])\n",
        "    axes[row, col].set_title(column)\n",
        "\n",
        "# Menghapus subplot yang tidak digunakan jika jumlah kolom ganjil\n",
        "if numPlots % 2 != 0:\n",
        "    fig.delaxes(axes[numRows-1, 1])\n",
        "\n",
        "plt.tight_layout()\n",
        "plt.show()"
      ]
    },
    {
      "cell_type": "code",
      "execution_count": 473,
      "metadata": {},
      "outputs": [
        {
          "data": {
            "text/html": [
              "<div>\n",
              "<style scoped>\n",
              "    .dataframe tbody tr th:only-of-type {\n",
              "        vertical-align: middle;\n",
              "    }\n",
              "\n",
              "    .dataframe tbody tr th {\n",
              "        vertical-align: top;\n",
              "    }\n",
              "\n",
              "    .dataframe thead th {\n",
              "        text-align: right;\n",
              "    }\n",
              "</style>\n",
              "<table border=\"1\" class=\"dataframe\">\n",
              "  <thead>\n",
              "    <tr style=\"text-align: right;\">\n",
              "      <th></th>\n",
              "      <th>tahun_kelahiran</th>\n",
              "      <th>pendidikan</th>\n",
              "      <th>status_pernikahan</th>\n",
              "      <th>pendapatan</th>\n",
              "      <th>jumlah_anak_balita</th>\n",
              "      <th>jumlah_anak_remaja</th>\n",
              "      <th>terakhir_belanja</th>\n",
              "      <th>belanja_buah</th>\n",
              "      <th>belanja_daging</th>\n",
              "      <th>belanja_ikan</th>\n",
              "      <th>belanja_kue</th>\n",
              "      <th>pembelian_diskon</th>\n",
              "      <th>pembelian_web</th>\n",
              "      <th>pembelian_toko</th>\n",
              "      <th>keluhan</th>\n",
              "      <th>tanggal_menjadi_anggota</th>\n",
              "      <th>jumlah_promosi</th>\n",
              "      <th>segmentasi_pendapatan</th>\n",
              "    </tr>\n",
              "  </thead>\n",
              "  <tbody>\n",
              "    <tr>\n",
              "      <th>1104</th>\n",
              "      <td>1988</td>\n",
              "      <td>Magister</td>\n",
              "      <td>Sendiri</td>\n",
              "      <td>191773904.0</td>\n",
              "      <td>0</td>\n",
              "      <td>0</td>\n",
              "      <td>31</td>\n",
              "      <td>94660.71875</td>\n",
              "      <td>7.185256e+05</td>\n",
              "      <td>195355.0</td>\n",
              "      <td>106749.625</td>\n",
              "      <td>0.0</td>\n",
              "      <td>6.0</td>\n",
              "      <td>10.0</td>\n",
              "      <td>0.0</td>\n",
              "      <td>Unknown</td>\n",
              "      <td>5</td>\n",
              "      <td>Sangat Tinggi</td>\n",
              "    </tr>\n",
              "    <tr>\n",
              "      <th>377</th>\n",
              "      <td>1967</td>\n",
              "      <td>Sarjana</td>\n",
              "      <td>Menikah</td>\n",
              "      <td>128273000.0</td>\n",
              "      <td>0</td>\n",
              "      <td>1</td>\n",
              "      <td>28</td>\n",
              "      <td>0.00000</td>\n",
              "      <td>2.144380e+05</td>\n",
              "      <td>48552.0</td>\n",
              "      <td>22253.000</td>\n",
              "      <td>1.0</td>\n",
              "      <td>9.0</td>\n",
              "      <td>9.0</td>\n",
              "      <td>0.0</td>\n",
              "      <td>2013-07-31</td>\n",
              "      <td>0</td>\n",
              "      <td>Tinggi</td>\n",
              "    </tr>\n",
              "    <tr>\n",
              "      <th>3765</th>\n",
              "      <td>1980</td>\n",
              "      <td>Sarjana</td>\n",
              "      <td>Menikah</td>\n",
              "      <td>77998366.0</td>\n",
              "      <td>0</td>\n",
              "      <td>0</td>\n",
              "      <td>10</td>\n",
              "      <td>3485.00000</td>\n",
              "      <td>2.513700e+04</td>\n",
              "      <td>13943.0</td>\n",
              "      <td>20915.000</td>\n",
              "      <td>1.0</td>\n",
              "      <td>3.0</td>\n",
              "      <td>1.0</td>\n",
              "      <td>0.0</td>\n",
              "      <td>Unknown</td>\n",
              "      <td>5</td>\n",
              "      <td>Rendah</td>\n",
              "    </tr>\n",
              "    <tr>\n",
              "      <th>2575</th>\n",
              "      <td>1974</td>\n",
              "      <td>Sarjana</td>\n",
              "      <td>Sendiri</td>\n",
              "      <td>79146799.0</td>\n",
              "      <td>1</td>\n",
              "      <td>0</td>\n",
              "      <td>8</td>\n",
              "      <td>0.00000</td>\n",
              "      <td>1.015050e+05</td>\n",
              "      <td>11444.0</td>\n",
              "      <td>16349.000</td>\n",
              "      <td>1.0</td>\n",
              "      <td>3.0</td>\n",
              "      <td>0.0</td>\n",
              "      <td>0.0</td>\n",
              "      <td>Unknown</td>\n",
              "      <td>5</td>\n",
              "      <td>Rendah</td>\n",
              "    </tr>\n",
              "    <tr>\n",
              "      <th>2025</th>\n",
              "      <td>1981</td>\n",
              "      <td>Sarjana</td>\n",
              "      <td>Menikah</td>\n",
              "      <td>77980810.0</td>\n",
              "      <td>0</td>\n",
              "      <td>0</td>\n",
              "      <td>9</td>\n",
              "      <td>5030.00000</td>\n",
              "      <td>2.462200e+04</td>\n",
              "      <td>20120.0</td>\n",
              "      <td>30181.000</td>\n",
              "      <td>1.0</td>\n",
              "      <td>3.0</td>\n",
              "      <td>0.0</td>\n",
              "      <td>0.0</td>\n",
              "      <td>Unknown</td>\n",
              "      <td>5</td>\n",
              "      <td>Rendah</td>\n",
              "    </tr>\n",
              "    <tr>\n",
              "      <th>2029</th>\n",
              "      <td>1968</td>\n",
              "      <td>SMA</td>\n",
              "      <td>Rencana Menikah</td>\n",
              "      <td>29653405.0</td>\n",
              "      <td>1</td>\n",
              "      <td>0</td>\n",
              "      <td>75</td>\n",
              "      <td>5162.00000</td>\n",
              "      <td>1.485700e+04</td>\n",
              "      <td>10357.0</td>\n",
              "      <td>9030.000</td>\n",
              "      <td>2.0</td>\n",
              "      <td>3.0</td>\n",
              "      <td>3.0</td>\n",
              "      <td>0.0</td>\n",
              "      <td>Unknown</td>\n",
              "      <td>2</td>\n",
              "      <td>Rendah</td>\n",
              "    </tr>\n",
              "    <tr>\n",
              "      <th>3185</th>\n",
              "      <td>1968</td>\n",
              "      <td>Magister</td>\n",
              "      <td>Sendiri</td>\n",
              "      <td>192413980.0</td>\n",
              "      <td>0</td>\n",
              "      <td>0</td>\n",
              "      <td>52</td>\n",
              "      <td>177339.00000</td>\n",
              "      <td>6.766401e+05</td>\n",
              "      <td>156627.0</td>\n",
              "      <td>165261.000</td>\n",
              "      <td>0.0</td>\n",
              "      <td>6.0</td>\n",
              "      <td>8.0</td>\n",
              "      <td>0.0</td>\n",
              "      <td>Unknown</td>\n",
              "      <td>5</td>\n",
              "      <td>Sangat Tinggi</td>\n",
              "    </tr>\n",
              "    <tr>\n",
              "      <th>1065</th>\n",
              "      <td>1950</td>\n",
              "      <td>Magister</td>\n",
              "      <td>Sendiri</td>\n",
              "      <td>108738092.0</td>\n",
              "      <td>0</td>\n",
              "      <td>1</td>\n",
              "      <td>17</td>\n",
              "      <td>11658.00000</td>\n",
              "      <td>8.702900e+04</td>\n",
              "      <td>16655.0</td>\n",
              "      <td>2997.000</td>\n",
              "      <td>6.0</td>\n",
              "      <td>8.0</td>\n",
              "      <td>6.0</td>\n",
              "      <td>0.0</td>\n",
              "      <td>Unknown</td>\n",
              "      <td>4</td>\n",
              "      <td>Sedang</td>\n",
              "    </tr>\n",
              "    <tr>\n",
              "      <th>1922</th>\n",
              "      <td>1972</td>\n",
              "      <td>SMA</td>\n",
              "      <td>Menikah</td>\n",
              "      <td>60421541.0</td>\n",
              "      <td>1</td>\n",
              "      <td>0</td>\n",
              "      <td>50</td>\n",
              "      <td>7912.00000</td>\n",
              "      <td>3.456000e+04</td>\n",
              "      <td>24646.0</td>\n",
              "      <td>0.000</td>\n",
              "      <td>1.0</td>\n",
              "      <td>0.0</td>\n",
              "      <td>3.0</td>\n",
              "      <td>0.0</td>\n",
              "      <td>Unknown</td>\n",
              "      <td>2</td>\n",
              "      <td>Rendah</td>\n",
              "    </tr>\n",
              "    <tr>\n",
              "      <th>3744</th>\n",
              "      <td>1908</td>\n",
              "      <td>Magister</td>\n",
              "      <td>Sendiri</td>\n",
              "      <td>170181233.0</td>\n",
              "      <td>0</td>\n",
              "      <td>0</td>\n",
              "      <td>42</td>\n",
              "      <td>100916.71875</td>\n",
              "      <td>1.148977e+06</td>\n",
              "      <td>188210.0</td>\n",
              "      <td>59823.000</td>\n",
              "      <td>3.0</td>\n",
              "      <td>4.0</td>\n",
              "      <td>4.0</td>\n",
              "      <td>0.0</td>\n",
              "      <td>Unknown</td>\n",
              "      <td>3</td>\n",
              "      <td>Sangat Tinggi</td>\n",
              "    </tr>\n",
              "  </tbody>\n",
              "</table>\n",
              "</div>"
            ],
            "text/plain": [
              "      tahun_kelahiran pendidikan status_pernikahan   pendapatan  \\\n",
              "1104             1988   Magister           Sendiri  191773904.0   \n",
              "377              1967    Sarjana           Menikah  128273000.0   \n",
              "3765             1980    Sarjana           Menikah   77998366.0   \n",
              "2575             1974    Sarjana           Sendiri   79146799.0   \n",
              "2025             1981    Sarjana           Menikah   77980810.0   \n",
              "2029             1968        SMA   Rencana Menikah   29653405.0   \n",
              "3185             1968   Magister           Sendiri  192413980.0   \n",
              "1065             1950   Magister           Sendiri  108738092.0   \n",
              "1922             1972        SMA           Menikah   60421541.0   \n",
              "3744             1908   Magister           Sendiri  170181233.0   \n",
              "\n",
              "      jumlah_anak_balita  jumlah_anak_remaja  terakhir_belanja  belanja_buah  \\\n",
              "1104                   0                   0                31   94660.71875   \n",
              "377                    0                   1                28       0.00000   \n",
              "3765                   0                   0                10    3485.00000   \n",
              "2575                   1                   0                 8       0.00000   \n",
              "2025                   0                   0                 9    5030.00000   \n",
              "2029                   1                   0                75    5162.00000   \n",
              "3185                   0                   0                52  177339.00000   \n",
              "1065                   0                   1                17   11658.00000   \n",
              "1922                   1                   0                50    7912.00000   \n",
              "3744                   0                   0                42  100916.71875   \n",
              "\n",
              "      belanja_daging  belanja_ikan  belanja_kue  pembelian_diskon  \\\n",
              "1104    7.185256e+05      195355.0   106749.625               0.0   \n",
              "377     2.144380e+05       48552.0    22253.000               1.0   \n",
              "3765    2.513700e+04       13943.0    20915.000               1.0   \n",
              "2575    1.015050e+05       11444.0    16349.000               1.0   \n",
              "2025    2.462200e+04       20120.0    30181.000               1.0   \n",
              "2029    1.485700e+04       10357.0     9030.000               2.0   \n",
              "3185    6.766401e+05      156627.0   165261.000               0.0   \n",
              "1065    8.702900e+04       16655.0     2997.000               6.0   \n",
              "1922    3.456000e+04       24646.0        0.000               1.0   \n",
              "3744    1.148977e+06      188210.0    59823.000               3.0   \n",
              "\n",
              "      pembelian_web  pembelian_toko  keluhan tanggal_menjadi_anggota  \\\n",
              "1104            6.0            10.0      0.0                 Unknown   \n",
              "377             9.0             9.0      0.0              2013-07-31   \n",
              "3765            3.0             1.0      0.0                 Unknown   \n",
              "2575            3.0             0.0      0.0                 Unknown   \n",
              "2025            3.0             0.0      0.0                 Unknown   \n",
              "2029            3.0             3.0      0.0                 Unknown   \n",
              "3185            6.0             8.0      0.0                 Unknown   \n",
              "1065            8.0             6.0      0.0                 Unknown   \n",
              "1922            0.0             3.0      0.0                 Unknown   \n",
              "3744            4.0             4.0      0.0                 Unknown   \n",
              "\n",
              "      jumlah_promosi segmentasi_pendapatan  \n",
              "1104               5         Sangat Tinggi  \n",
              "377                0                Tinggi  \n",
              "3765               5                Rendah  \n",
              "2575               5                Rendah  \n",
              "2025               5                Rendah  \n",
              "2029               2                Rendah  \n",
              "3185               5         Sangat Tinggi  \n",
              "1065               4                Sedang  \n",
              "1922               2                Rendah  \n",
              "3744               3         Sangat Tinggi  "
            ]
          },
          "execution_count": 473,
          "metadata": {},
          "output_type": "execute_result"
        }
      ],
      "source": [
        "cleanedTraining.sample(10)"
      ]
    },
    {
      "cell_type": "markdown",
      "metadata": {},
      "source": [
        "Setelah dilakukan proses penghapusan outliers, saat ini sudah tidak ada outliers pada setiap kolom di data training."
      ]
    },
    {
      "cell_type": "markdown",
      "metadata": {},
      "source": [
        "## Jawab Pertanyaan Analisis dan Univariate Analysis\n",
        "\n",
        "Pada sesi ini, menjawab pertanyaan analisis dengan berbagai langkah analisis disertai dengan Univariate Analysis"
      ]
    },
    {
      "cell_type": "markdown",
      "metadata": {},
      "source": [
        "### Pertanyaan 1\n",
        "\n",
        "Pada pertanyaan 1, perlu melakukan analisa pada kolom **Tahun Kelahiran** untuk mengetahui usia berapa saja setiap pengguna yang terdata pada dataset."
      ]
    },
    {
      "cell_type": "code",
      "execution_count": 474,
      "metadata": {},
      "outputs": [],
      "source": [
        "# Mengambil nilai tahun sekarang\n",
        "yearNow = datetime.now().year\n",
        "# Mengurangi tahun kelahiran dengan tahun sekarang, masukkan dalam kolom baru\n",
        "cleanedTraining['usia'] = yearNow - cleanedTraining['tahun_kelahiran']"
      ]
    },
    {
      "cell_type": "markdown",
      "metadata": {},
      "source": [
        "Setelah mendapatkan angka usia pada setiap pengguna, selanjutnya adalah membuat rentang usia."
      ]
    },
    {
      "cell_type": "code",
      "execution_count": 475,
      "metadata": {},
      "outputs": [],
      "source": [
        "# Membuat batas rentang usia\n",
        "limitAges = [24, 30, 70, float('inf')]\n",
        "\n",
        "# Membuat label rentang usia\n",
        "labelAges = ['Remaja', 'Dewasa', 'Lanjut Usia']\n",
        "\n",
        "# Membuat kolom baru rentang usia\n",
        "cleanedTraining['rentang_usia'] = pd.cut(cleanedTraining['usia'], bins=limitAges, labels=labelAges)"
      ]
    },
    {
      "cell_type": "markdown",
      "metadata": {},
      "source": [
        "Setelah dilakukan pembuatan rentang usia, maka perlu dilakukan proses validasi pada nilai-nilai yang ada dan berkaitan dengan pertanyaan 1."
      ]
    },
    {
      "cell_type": "code",
      "execution_count": 476,
      "metadata": {},
      "outputs": [
        {
          "name": "stdout",
          "output_type": "stream",
          "text": [
            "Usia paling muda adalah 24\n",
            "Usia paling tua adalah 125\n"
          ]
        }
      ],
      "source": [
        "print('Usia paling muda adalah', cleanedTraining.usia.min())\n",
        "print('Usia paling tua adalah', cleanedTraining.usia.max())"
      ]
    },
    {
      "cell_type": "markdown",
      "metadata": {},
      "source": [
        "Disini terdeteksi terdapat ketidaktepatan pada data yang sudah ada, yaitu adanya usia yang tidak logis. Maka perlu dilakukan analisis lebih lanjut pada data kolom Tahun **Kelahiran**, **Usia**, dan **Rentang Usia**."
      ]
    },
    {
      "cell_type": "code",
      "execution_count": 477,
      "metadata": {},
      "outputs": [
        {
          "name": "stdout",
          "output_type": "stream",
          "text": [
            "[ 71  72  73  74  75  76  77  78  79  80  81  82  83  84  92  95  99 100\n",
            " 102 104 106 108 110 112 115 116 122 124 125]\n",
            "Banyak data di atas batas maksimal 16\n"
          ]
        }
      ],
      "source": [
        "# Grouping berdasarkan rentang usia\n",
        "grpAgeRange = cleanedTraining[cleanedTraining['rentang_usia'] == 'Lanjut Usia']\n",
        "\n",
        "# Mengurutkan setiap nilai unik di kolom usia untuk menentukan batas maksimal usia\n",
        "print(np.sort(grpAgeRange['usia'].unique()))\n",
        "\n",
        "# Menampilkan banyak data di atas batas maksimal\n",
        "print(\"Banyak data di atas batas maksimal\", len(cleanedTraining[cleanedTraining['usia'] > 84]))"
      ]
    },
    {
      "cell_type": "markdown",
      "metadata": {},
      "source": [
        "Dari hasil analisis di atas, dari penentuan batas maksimal usia lansia adalah **84** dengan banyak data di atas batas maksimal (Invalid Value) adalah **16**. Maka dapat dilakukan penghapusan data di atas batas maksimal."
      ]
    },
    {
      "cell_type": "code",
      "execution_count": 479,
      "metadata": {},
      "outputs": [],
      "source": [
        "cleanedTraining = cleanedTraining[cleanedTraining['usia'] <= 84]"
      ]
    },
    {
      "cell_type": "markdown",
      "metadata": {},
      "source": [
        "Setelah dilakukan pembersihan, dapat disimpulkan rentang usia berdasarkan usia pengguna adalah sebagai berikut:"
      ]
    },
    {
      "cell_type": "code",
      "execution_count": 494,
      "metadata": {},
      "outputs": [
        {
          "name": "stdout",
          "output_type": "stream",
          "text": [
            "Pada rentang usia Remaja yaitu usia 25-30, terdapat 22 pengguna.\n",
            "Pada rentang usia Dewasa yaitu usia 31-70, terdapat 3367 pengguna.\n",
            "Pada rentang usia Lanjut Usia yaitu usia 71-84, terdapat 408 pengguna.\n"
          ]
        },
        {
          "name": "stderr",
          "output_type": "stream",
          "text": [
            "C:\\Users\\legion\\AppData\\Local\\Temp\\ipykernel_42552\\3430756595.py:1: FutureWarning: The default of observed=False is deprecated and will be changed to True in a future version of pandas. Pass observed=False to retain current behavior or observed=True to adopt the future default and silence this warning.\n",
            "  grpAges = cleanedTraining.groupby('rentang_usia').agg({\n"
          ]
        }
      ],
      "source": [
        "grpAges = cleanedTraining.groupby('rentang_usia').agg({\n",
        "    'usia': ['count', 'min', 'max']\n",
        "})\n",
        "\n",
        "for rentang, nilai in grpAges.iterrows():\n",
        "    print(f\"Pada rentang usia {rentang} yaitu usia {nilai['usia']['min']}-{nilai['usia']['max']}, terdapat {nilai['usia']['count']} pengguna.\")"
      ]
    },
    {
      "cell_type": "code",
      "execution_count": 499,
      "metadata": {},
      "outputs": [
        {
          "data": {
            "image/png": "[encoded data removed]",
            "text/plain": [
              "<Figure size 1300x600 with 1 Axes>"
            ]
          },
          "metadata": {},
          "output_type": "display_data"
        }
      ],
      "source": [
        "# Plotting bar chart\n",
        "plt.figure(figsize=(13, 6))\n",
        "bars = grpAges['usia', 'count'].plot(kind='barh')\n",
        "plt.xlabel('Jumlah Pengguna')\n",
        "plt.ylabel('Rentang Usia')\n",
        "plt.title('Jumlah Pengguna berdasarkan Rentang Usia')\n",
        "plt.legend().remove()  # Menghapus legend\n",
        "\n",
        "# Menambahkan persentase pada setiap bar\n",
        "for bar in bars.patches:\n",
        "    plt.text(bar.get_width(), bar.get_y() + bar.get_height() / 2,\n",
        "             f'{bar.get_width() / sum(grpAges[\"usia\", \"count\"]) * 100:.2f}%',\n",
        "             va='center')\n",
        "\n",
        "plt.show()"
      ]
    }
  ],
  "metadata": {
    "colab": {
      "provenance": []
    },
    "kernelspec": {
      "display_name": "Python 3",
      "name": "python3"
    },
    "language_info": {
      "codemirror_mode": {
        "name": "ipython",
        "version": 3
      },
      "file_extension": ".py",
      "mimetype": "text/x-python",
      "name": "python",
      "nbconvert_exporter": "python",
      "pygments_lexer": "ipython3",
      "version": "3.11.5"
    }
  },
  "nbformat": 4,
  "nbformat_minor": 0
}
