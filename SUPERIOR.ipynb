{
  "cells": [
    {
      "cell_type": "code",
      "execution_count": null,
      "metadata": {
        "id": "2D7mxTB1mgCA"
      },
      "outputs": [],
      "source": [
        "import pandas as pd\n",
        "import numpy as np\n",
        "import  matplotlib.pyplot as plt\n",
        "import seaborn as sns\n",
        "import scipy.stats\n",
        "\n",
        "\n",
        "from datetime import datetime\n",
        "from numpy.polynomial.polynomial import Polynomial\n",
        "from sklearn.preprocessing import LabelEncoder\n",
        "from sklearn.ensemble import RandomForestRegressor\n",
        "from sklearn.preprocessing import StandardScaler"
      ]
    },
    {
      "cell_type": "markdown",
      "metadata": {},
      "source": [
        "# Pertanyaan Bisnis\n",
        "\n",
        "1. Bagaimana latar belakang demografis pada setiap pengguna?\n",
        "2. Bagaimana kesimpulan kebiasaan pengguna dalam berbelanja?\n",
        "3. Dari data-data yang sudah dikumpulkan, berapa banyak promosi yang efektif dilakukan untuk setiap pengguna? (Pertanyaan Target)"
      ]
    },
    {
      "cell_type": "markdown",
      "metadata": {},
      "source": [
        "# Data Wrangling"
      ]
    },
    {
      "cell_type": "markdown",
      "metadata": {},
      "source": [
        "## Import Data"
      ]
    },
    {
      "cell_type": "code",
      "execution_count": null,
      "metadata": {
        "id": "bEo06P7Sm8sH"
      },
      "outputs": [],
      "source": [
        "trainFeatures = pd.read_csv('data/train_features.csv')\n",
        "testFeatures = pd.read_csv('data/test_features.csv')\n",
        "trainLabels = pd.read_csv('data/train_labels.csv')\n",
        "example = pd.read_csv('data/submission_format.csv')"
      ]
    },
    {
      "cell_type": "markdown",
      "metadata": {},
      "source": [
        "## Display Data"
      ]
    },
    {
      "cell_type": "markdown",
      "metadata": {},
      "source": [
        "### Data Train Features"
      ]
    },
    {
      "cell_type": "code",
      "execution_count": null,
      "metadata": {
        "colab": {
          "base_uri": "https://localhost:8080/",
          "height": 226
        },
        "id": "mMKQlPZyoteI",
        "outputId": "b6cca7e9-3b28-48e3-8a91-9c112fedd5b6"
      },
      "outputs": [],
      "source": [
        "trainFeatures.head()"
      ]
    },
    {
      "cell_type": "code",
      "execution_count": null,
      "metadata": {
        "colab": {
          "base_uri": "https://localhost:8080/"
        },
        "id": "PX_jsOen7hko",
        "outputId": "199b9b47-e232-41ea-922f-c99ab04c3f17"
      },
      "outputs": [],
      "source": [
        "trainFeatures.shape"
      ]
    },
    {
      "cell_type": "markdown",
      "metadata": {},
      "source": [
        "### Data Train Labels"
      ]
    },
    {
      "cell_type": "code",
      "execution_count": null,
      "metadata": {},
      "outputs": [],
      "source": [
        "trainLabels.head()"
      ]
    },
    {
      "cell_type": "code",
      "execution_count": null,
      "metadata": {},
      "outputs": [],
      "source": [
        "trainLabels.shape"
      ]
    },
    {
      "cell_type": "markdown",
      "metadata": {},
      "source": [
        "### Data Test Features"
      ]
    },
    {
      "cell_type": "code",
      "execution_count": null,
      "metadata": {
        "colab": {
          "base_uri": "https://localhost:8080/",
          "height": 226
        },
        "id": "av96Aqkgos7F",
        "outputId": "03050a5a-5de7-42fc-df79-cc00bb630477"
      },
      "outputs": [],
      "source": [
        "testFeatures.head()"
      ]
    },
    {
      "cell_type": "code",
      "execution_count": null,
      "metadata": {
        "colab": {
          "base_uri": "https://localhost:8080/",
          "height": 206
        },
        "id": "pWRc1BDlpUHx",
        "outputId": "1c2478c6-7b7d-498d-d22e-3d2cf904f341"
      },
      "outputs": [],
      "source": [
        "example.head()"
      ]
    },
    {
      "cell_type": "markdown",
      "metadata": {},
      "source": [
        "## Concatenate Data Training\n",
        "\n",
        "Dari data training yang tersedia, perlu dilakukan penggabungan dari kedua data yaitu **Train Features** dan **Train Labels**."
      ]
    },
    {
      "cell_type": "code",
      "execution_count": null,
      "metadata": {},
      "outputs": [],
      "source": [
        "dataTraining = pd.concat([trainFeatures, trainLabels], axis=1)"
      ]
    },
    {
      "cell_type": "code",
      "execution_count": null,
      "metadata": {},
      "outputs": [],
      "source": [
        "print(\"Banyak Data Training:\", dataTraining.shape[0])\n",
        "dataTraining.head()"
      ]
    },
    {
      "cell_type": "markdown",
      "metadata": {
        "id": "dkK_vAFruPiE"
      },
      "source": [
        "# Data Assessing"
      ]
    },
    {
      "cell_type": "markdown",
      "metadata": {},
      "source": [
        "## Data Training"
      ]
    },
    {
      "cell_type": "markdown",
      "metadata": {
        "id": "Psp6W-2Lu32X"
      },
      "source": [
        "### Informasi Umum "
      ]
    },
    {
      "cell_type": "code",
      "execution_count": null,
      "metadata": {
        "colab": {
          "base_uri": "https://localhost:8080/"
        },
        "id": "feTYV5VzM03a",
        "outputId": "6d39a225-aad1-47a6-c7a7-1803774902c2"
      },
      "outputs": [],
      "source": [
        "dataTraining.info()"
      ]
    },
    {
      "cell_type": "code",
      "execution_count": null,
      "metadata": {
        "colab": {
          "base_uri": "https://localhost:8080/",
          "height": 320
        },
        "id": "z4DIuVNpdXo6",
        "outputId": "5f27646e-851a-4fde-85d7-6ffd77f9417a"
      },
      "outputs": [],
      "source": [
        "dataTraining.describe()"
      ]
    },
    {
      "cell_type": "markdown",
      "metadata": {
        "id": "1piJJr4eu8-R"
      },
      "source": [
        "### Cek Nilai Null "
      ]
    },
    {
      "cell_type": "code",
      "execution_count": null,
      "metadata": {
        "colab": {
          "base_uri": "https://localhost:8080/"
        },
        "id": "L_9QDPvxddmr",
        "outputId": "7cc888d5-91b6-4bda-d3af-954e6ba86045"
      },
      "outputs": [],
      "source": [
        "dataTraining.isnull().sum()"
      ]
    },
    {
      "cell_type": "markdown",
      "metadata": {
        "id": "Jq1rp2vrvFDp"
      },
      "source": [
        "### Cek Nilai Duplikat"
      ]
    },
    {
      "cell_type": "code",
      "execution_count": null,
      "metadata": {
        "colab": {
          "base_uri": "https://localhost:8080/"
        },
        "id": "1n3lMmbAvRL-",
        "outputId": "43dd9afb-28a7-425e-f999-50cba6336a88"
      },
      "outputs": [],
      "source": [
        "dataTraining.duplicated().sum()"
      ]
    },
    {
      "cell_type": "markdown",
      "metadata": {},
      "source": [
        "## Data Testing"
      ]
    },
    {
      "cell_type": "markdown",
      "metadata": {},
      "source": [
        "### Informasi Umum"
      ]
    },
    {
      "cell_type": "code",
      "execution_count": null,
      "metadata": {},
      "outputs": [],
      "source": [
        "testFeatures.info()"
      ]
    },
    {
      "cell_type": "code",
      "execution_count": null,
      "metadata": {},
      "outputs": [],
      "source": [
        "testFeatures.describe()"
      ]
    },
    {
      "cell_type": "markdown",
      "metadata": {},
      "source": [
        "### Cek Nilai Null"
      ]
    },
    {
      "cell_type": "code",
      "execution_count": null,
      "metadata": {},
      "outputs": [],
      "source": [
        "testFeatures.isna().sum()"
      ]
    },
    {
      "cell_type": "markdown",
      "metadata": {},
      "source": [
        "### Cek Nilai Duplikat"
      ]
    },
    {
      "cell_type": "code",
      "execution_count": null,
      "metadata": {},
      "outputs": [],
      "source": [
        "testFeatures.duplicated().sum()"
      ]
    },
    {
      "cell_type": "markdown",
      "metadata": {
        "id": "74ciVYpkv2Q3"
      },
      "source": [
        "# Data Cleaning"
      ]
    },
    {
      "cell_type": "markdown",
      "metadata": {
        "id": "iUo5NxV4v7XB"
      },
      "source": [
        "### Kolom Pendidikan"
      ]
    },
    {
      "cell_type": "code",
      "execution_count": null,
      "metadata": {
        "colab": {
          "base_uri": "https://localhost:8080/"
        },
        "id": "L5Ii6sBSivmn",
        "outputId": "b35a14fc-6a7f-4cba-bf17-6be74d29c478"
      },
      "outputs": [],
      "source": [
        "# Cek Nilai Unique Data Training\n",
        "print(dataTraining['pendidikan'].unique())\n",
        "# Cek Nilai Unique Data Testing\n",
        "print(testFeatures['pendidikan'].unique())"
      ]
    },
    {
      "cell_type": "markdown",
      "metadata": {
        "id": "fR7L7DXOwZgX"
      },
      "source": [
        "Terdapat dua nilai salah yaitu nan dan '5'. Maka perlu dibersihkan pada dua nilai tersebut."
      ]
    },
    {
      "cell_type": "markdown",
      "metadata": {
        "id": "fETtVqmz9HRq"
      },
      "source": [
        "### Olah Data dengan Nilai Unique '5'"
      ]
    },
    {
      "cell_type": "code",
      "execution_count": null,
      "metadata": {
        "colab": {
          "base_uri": "https://localhost:8080/",
          "height": 132
        },
        "id": "_biw-YdWkAMy",
        "outputId": "f841f601-52c7-472d-f452-a65849b7e8b6"
      },
      "outputs": [],
      "source": [
        "# Ambil contoh nilai pada kolom pendidikan dengan nilai '5' Data Training\n",
        "dataTraining[dataTraining['pendidikan'] == '5'].head()"
      ]
    },
    {
      "cell_type": "code",
      "execution_count": null,
      "metadata": {},
      "outputs": [],
      "source": [
        "# Ambil contoh nilai pada kolom pendidikan dengan nilai '5' Data Training\n",
        "testFeatures[testFeatures['pendidikan'] == '5'].head()"
      ]
    },
    {
      "cell_type": "code",
      "execution_count": null,
      "metadata": {
        "id": "TR8SH47equIy"
      },
      "outputs": [],
      "source": [
        "# Data Training\n",
        "# Mengambil indeks data dengan nilai unique '5'\n",
        "dropPendidikanTrain = dataTraining[dataTraining['pendidikan'] == '5'].index\n",
        "# Menghapus nilai dengan indeks tersebut\n",
        "dataTraining.drop(dropPendidikanTrain, inplace=True)\n",
        "\n",
        "# Data Testing\n",
        "# Mengambil indeks data dengan nilai unique '5'\n",
        "dropPendidikanTest = testFeatures[testFeatures['pendidikan'] == '5'].index\n",
        "# Menghapus nilai dengan indeks tersebut\n",
        "testFeatures.drop(dropPendidikanTest, inplace=True)"
      ]
    },
    {
      "cell_type": "markdown",
      "metadata": {
        "id": "407u4fIXxP39"
      },
      "source": [
        "Saat ini nilai dengan inputan '5' sudah terhapus, karena hanya terdapat 2 data saja maka dapat dikatakan aman untuk dihapus.\n",
        "\n",
        "Selanjutnya yaitu menangani data dengan inputan nan. Untuk langkah yang diambil yaitu mengecek seberapa banyak nilai nan yang ada. Jika jumlah terbilang sedikit, langkah yang diambil adalah menghapus nilai tersebut (seperti pada inputan '5' sebelumnya). Namun, jika jumlahnya terbilang cukup banyak, maka langkah yang diambil yaitu mengubah setiap nilai nan menjadi nilai modus pada kolom **pendidikan**."
      ]
    },
    {
      "cell_type": "markdown",
      "metadata": {
        "id": "gKREKga39fxO"
      },
      "source": [
        "### Olah Data dengan Nilai Unique NaN"
      ]
    },
    {
      "cell_type": "code",
      "execution_count": null,
      "metadata": {
        "colab": {
          "base_uri": "https://localhost:8080/",
          "height": 435
        },
        "id": "G9u__T4IyUTa",
        "outputId": "d210030f-e739-4c49-9672-d5e24de5917b"
      },
      "outputs": [],
      "source": [
        "# Data Training\n",
        "# Mengambil sample data dengan inputan nan\n",
        "dataNanPendidikanTrain = dataTraining[dataTraining['pendidikan'].isnull()]\n",
        "\n",
        "# Mengecek Banyak Baris Data\n",
        "print('Banyak Data dengan inputan nan:', dataNanPendidikanTrain.shape[0], '\\n')\n",
        "print('Dengan sample data sebagai berikut: ')\n",
        "dataNanPendidikanTrain.sample(10)"
      ]
    },
    {
      "cell_type": "code",
      "execution_count": null,
      "metadata": {},
      "outputs": [],
      "source": [
        "# Data Testing\n",
        "# Mengambil sample data dengan inputan nan\n",
        "dataNanPendidikanTest = testFeatures[testFeatures['pendidikan'].isnull()]\n",
        "\n",
        "# Mengecek Banyak Baris Data\n",
        "print('Banyak Data dengan inputan nan:', dataNanPendidikanTest.shape[0], '\\n')\n",
        "print('Dengan sample data sebagai berikut: ')\n",
        "dataNanPendidikanTest.sample(10)"
      ]
    },
    {
      "cell_type": "markdown",
      "metadata": {
        "id": "YjtiVdDAzLWv"
      },
      "source": [
        "Dikarenakan jumlah dari data nan cukup banyak, maka akan dilakukan pengubahan isi dengan data modus pada kolom **pendidikan**."
      ]
    },
    {
      "cell_type": "code",
      "execution_count": null,
      "metadata": {
        "colab": {
          "base_uri": "https://localhost:8080/"
        },
        "id": "mH9PAQ4PkCgA",
        "outputId": "0f75da69-a62b-45e3-a724-af9fca5ba2b7"
      },
      "outputs": [],
      "source": [
        "# Data Training\n",
        "# Mengambil jumlah isi terbanyak pada kolom pendidikan\n",
        "modePendidikanTrain = dataTraining['pendidikan'].mode()[0]\n",
        "print('Nilai dengan modus terbanyak adalah', modePendidikanTrain)\n",
        "# Mengubah nilai nan menjadi nilai modus\n",
        "dataTraining['pendidikan'] = dataTraining['pendidikan'].fillna(modePendidikanTrain)\n",
        "\n",
        "# Data Testing\n",
        "modePendidikanTest = testFeatures['pendidikan'].mode()[0]\n",
        "print('Nilai dengan modus terbanyak adalah', modePendidikanTest)\n",
        "# Mengubah nilai nan menjadi nilai modus\n",
        "testFeatures['pendidikan'] = testFeatures['pendidikan'].fillna(modePendidikanTest)"
      ]
    },
    {
      "cell_type": "code",
      "execution_count": null,
      "metadata": {
        "colab": {
          "base_uri": "https://localhost:8080/"
        },
        "id": "eFJ0YxDX5WZU",
        "outputId": "4219d5fe-6d66-4f01-a163-40e269e4b325"
      },
      "outputs": [],
      "source": [
        "# Data Train\n",
        "# Cek ulang nilai unique\n",
        "print(dataTraining['pendidikan'].unique())\n",
        "\n",
        "# Data Test\n",
        "# Cek ulang nilai unique\n",
        "print(testFeatures['pendidikan'].unique())"
      ]
    },
    {
      "cell_type": "markdown",
      "metadata": {
        "id": "-3QumGrJ5mKU"
      },
      "source": [
        "Pada saat ini, kondisi kolom **pendidikan** sudah normal."
      ]
    },
    {
      "cell_type": "markdown",
      "metadata": {
        "id": "teUdIuuj6R5y"
      },
      "source": [
        "## Kolom Status Pernikahan"
      ]
    },
    {
      "cell_type": "code",
      "execution_count": null,
      "metadata": {
        "colab": {
          "base_uri": "https://localhost:8080/"
        },
        "id": "zhKEJXMtsP-O",
        "outputId": "9f5e00a2-84d3-47fb-a8ae-5658b4cba8f5"
      },
      "outputs": [],
      "source": [
        "# Data Training\n",
        "# Cek Nilai Unique\n",
        "print(dataTraining['status_pernikahan'].unique())\n",
        "\n",
        "# Data Training\n",
        "# Cek Nilai Unique\n",
        "print(testFeatures['status_pernikahan'].unique())"
      ]
    },
    {
      "cell_type": "markdown",
      "metadata": {
        "id": "FqaG_Vjw6fft"
      },
      "source": [
        "Mirip dengan kolom Pendidikan, terdapat dua nilai tidak sesuai pada kolom **Status Pernikahan** yaitu '5' dan nan. Maka perlu dilakukan proses yang sama dengan kolom Pendidikan yaitu meninjau setiap invalid value yang ada untuk dilakukan langkah lebih lanjut."
      ]
    },
    {
      "cell_type": "markdown",
      "metadata": {
        "id": "GQ_PRzbK8DYq"
      },
      "source": [
        "### Olah Data dengan Nilai Unique '5'"
      ]
    },
    {
      "cell_type": "code",
      "execution_count": null,
      "metadata": {
        "colab": {
          "base_uri": "https://localhost:8080/",
          "height": 100
        },
        "id": "SfD3wvS2secX",
        "outputId": "8e311b39-b7bb-4f09-ccb1-b95abf99b094"
      },
      "outputs": [],
      "source": [
        "# Data Training\n",
        "# Mengambil panjang data dengan nilai unique '5'\n",
        "print(dataTraining[dataTraining['status_pernikahan'] == '5'].shape)\n",
        "\n",
        "# Data Training\n",
        "# Mengambil panjang data dengan nilai unique '5'\n",
        "print(testFeatures[testFeatures['status_pernikahan'] == '5'].shape)"
      ]
    },
    {
      "cell_type": "markdown",
      "metadata": {
        "id": "ZRWQD7hZ7Ktq"
      },
      "source": [
        "Dikarenakan hanya terdapat satu nilai saja dengan value '5', maka dapat dihapus saja karena tidak terlalu berpengaruh terhadap keseluruhan data."
      ]
    },
    {
      "cell_type": "code",
      "execution_count": null,
      "metadata": {
        "id": "aHpuBdSYtVgq"
      },
      "outputs": [],
      "source": [
        "# Data Training\n",
        "# Mengambil data dengan nilai unique '5'\n",
        "dropStatusNikahTrain = dataTraining[dataTraining['status_pernikahan'] == '5'].index\n",
        "# Menghapus data\n",
        "dataTraining.drop(dropStatusNikahTrain, inplace=True)\n",
        "\n",
        "# Data Testing\n",
        "# Mengambil data dengan nilai unique '5'\n",
        "dropStatusNikahTest = testFeatures[testFeatures['status_pernikahan'] == '5'].index\n",
        "# Menghapus data\n",
        "testFeatures.drop(dropStatusNikahTest, inplace=True)"
      ]
    },
    {
      "cell_type": "markdown",
      "metadata": {
        "id": "SdmFGK8X8KdZ"
      },
      "source": [
        "\n",
        "### Olah Data dengan Nilai Unique NaN"
      ]
    },
    {
      "cell_type": "code",
      "execution_count": null,
      "metadata": {
        "colab": {
          "base_uri": "https://localhost:8080/",
          "height": 435
        },
        "id": "rluuHrfF7-6W",
        "outputId": "a363f983-5ca0-4f8f-8bcd-a7da034e7729"
      },
      "outputs": [],
      "source": [
        "# Data Training\n",
        "# Mengambil sample data dengan inputan nan\n",
        "dataNanPernikahanTrain = dataTraining[dataTraining['status_pernikahan'].isnull()]\n",
        "\n",
        "# Mengecek Banyak Baris Data\n",
        "print('Banyak Data dengan inputan nan:', dataNanPernikahanTrain.shape[0], '\\n')\n",
        "\n",
        "# Data Testing\n",
        "# Mengambil sample data dengan inputan nan\n",
        "dataNanPernikahanTest = testFeatures[testFeatures['status_pernikahan'].isnull()]\n",
        "\n",
        "# Mengecek Banyak Baris Data\n",
        "print('Banyak Data dengan inputan nan:', dataNanPernikahanTest.shape[0], '\\n')"
      ]
    },
    {
      "cell_type": "markdown",
      "metadata": {
        "id": "0u4wcG9W9QDb"
      },
      "source": [
        "Dikarenakan jumlah dari data nan cukup banyak, maka akan dilakukan pengubahan isi data nan dengan analisis lebih lanjut pada kolom-kolom yang berpotensi memiliki korelasi dengan kolom **status pernikahan**. \n",
        "\n",
        "Yaitu dengan melihat kolom **jumlah anak balita** dan **jumlah anak remaja** dengan asumsi jika memiliki nilai lebih dari 0 dari kedua kolom tersebut, maka akan diubah menjadi \"Menikah\"."
      ]
    },
    {
      "cell_type": "code",
      "execution_count": null,
      "metadata": {
        "colab": {
          "base_uri": "https://localhost:8080/",
          "height": 35
        },
        "id": "TEKrzHFDtj0s",
        "outputId": "67f69d26-c8fb-434a-bdc2-db2d232af2c5"
      },
      "outputs": [],
      "source": [
        "# Isi Data Train dan Test\n",
        "listDf = [dataTraining, testFeatures]\n",
        "\n",
        "# Buat Fungsi\n",
        "def ubahPernikahan(row):\n",
        "    if row['status_pernikahan'] == 'kosong':\n",
        "        if row['jumlah_anak_balita'] > 0 or row['jumlah_anak_remaja'] > 0:\n",
        "            return 'Menikah'\n",
        "        else:\n",
        "            return 'Sendiri'\n",
        "    else:\n",
        "        return row['status_pernikahan']\n",
        "    \n",
        "for list in listDf:\n",
        "    # Ubah NaN menjadi String Terlebih Dahulu\n",
        "    list['status_pernikahan'].fillna('kosong', inplace=True)\n",
        "\n",
        "    list['status_pernikahan'] = list.apply(ubahPernikahan, axis=1)"
      ]
    },
    {
      "cell_type": "code",
      "execution_count": null,
      "metadata": {},
      "outputs": [],
      "source": [
        "# Data Training\n",
        "print(dataTraining['status_pernikahan'].unique())\n",
        "\n",
        "# Data Testing\n",
        "print(testFeatures['status_pernikahan'].unique())"
      ]
    },
    {
      "cell_type": "markdown",
      "metadata": {},
      "source": [
        "Saat ini nilai unique pada kolom **status pernikahan** sudah normal dan tidak ada nilai nan."
      ]
    },
    {
      "cell_type": "markdown",
      "metadata": {},
      "source": [
        "## Kolom Pendapatan"
      ]
    },
    {
      "cell_type": "code",
      "execution_count": null,
      "metadata": {},
      "outputs": [],
      "source": [
        "listDf = [dataTraining, testFeatures]"
      ]
    },
    {
      "cell_type": "markdown",
      "metadata": {},
      "source": [
        "### Cek Nilai Statistik "
      ]
    },
    {
      "cell_type": "code",
      "execution_count": null,
      "metadata": {
        "colab": {
          "base_uri": "https://localhost:8080/"
        },
        "id": "FODbWMiTy760",
        "outputId": "417a5dfb-6f53-42c9-f7b3-2760993b97e7"
      },
      "outputs": [],
      "source": [
        "# Data Training\n",
        "listDf[0].describe()"
      ]
    },
    {
      "cell_type": "code",
      "execution_count": null,
      "metadata": {},
      "outputs": [],
      "source": [
        "# Data Testing\n",
        "listDf[1].describe()"
      ]
    },
    {
      "cell_type": "markdown",
      "metadata": {},
      "source": [
        "### Pengecekan Nilai Null\n",
        "\n",
        "Dari hasil analisis sebelumnya, terlihat bahwa terdapat nilai null pada kolom ini."
      ]
    },
    {
      "cell_type": "code",
      "execution_count": null,
      "metadata": {},
      "outputs": [],
      "source": [
        "# Data Training\n",
        "nullPendapatanTrain = listDf[0][listDf[0]['pendapatan'].isnull()]\n",
        "nullPendapatanTrain.head(10)"
      ]
    },
    {
      "cell_type": "code",
      "execution_count": null,
      "metadata": {},
      "outputs": [],
      "source": [
        "# Data Testing\n",
        "nullPendapatanTest = listDf[1][listDf[1]['pendapatan'].isnull()]\n",
        "nullPendapatanTest.head(10)"
      ]
    },
    {
      "cell_type": "markdown",
      "metadata": {},
      "source": [
        "Yang dilakukan adalah menggunakan interpolasi polinomial untuk menutup setiap nilai NaN yang ada dengan titik terdekat data ke data lainnya menggunakan garis polinomial berorde 2."
      ]
    },
    {
      "cell_type": "code",
      "execution_count": null,
      "metadata": {
        "id": "jyT87u3auQ5c"
      },
      "outputs": [],
      "source": [
        "for data in listDf:\n",
        "    # Data x dan y yang tidak null\n",
        "    x_known = data.index[~data['pendapatan'].isnull()]\n",
        "    y_known = data.loc[x_known, 'pendapatan']\n",
        "\n",
        "    # Buat objek interpolasi polinomial orde rendah (misalnya, orde 2)\n",
        "    poly_interp = Polynomial.fit(x_known, y_known, deg=2)\n",
        "\n",
        "    # Memasang indeks titik data yang akan diisi (NaN)\n",
        "    fill_indices = data.index[data['pendapatan'].isnull()]\n",
        "\n",
        "    # Isi nilai-nilai NaN dengan hasil interpolasi polinomial\n",
        "    data.loc[fill_indices, 'pendapatan'] = poly_interp(fill_indices)\n"
      ]
    },
    {
      "cell_type": "code",
      "execution_count": null,
      "metadata": {},
      "outputs": [],
      "source": [
        "# Data Training\n",
        "print(listDf[0]['pendapatan'].isna().sum())\n",
        "\n",
        "# Data Testing\n",
        "print(listDf[1]['pendapatan'].isna().sum())"
      ]
    },
    {
      "cell_type": "markdown",
      "metadata": {},
      "source": [
        "Pada saat ini sudah tidak terdapat nilai NaN lagi pada kolom **pendapatan**, sehingga dapat dilanjutkan pada proses analisis selanjutnya."
      ]
    },
    {
      "cell_type": "markdown",
      "metadata": {},
      "source": [
        "## Kolom Jumlah Anak Balita"
      ]
    },
    {
      "cell_type": "markdown",
      "metadata": {},
      "source": [
        "### Cek Nilai Unique"
      ]
    },
    {
      "cell_type": "code",
      "execution_count": null,
      "metadata": {},
      "outputs": [],
      "source": [
        "# Data Training\n",
        "print(listDf[0]['jumlah_anak_balita'].unique())\n",
        "\n",
        "# Data Test\n",
        "print(listDf[1]['jumlah_anak_balita'].unique())"
      ]
    },
    {
      "cell_type": "markdown",
      "metadata": {},
      "source": [
        "Pada pengecekan nilai unique di atas, ditemukan nilai NaN yang perlu diganti dengan nilai lain."
      ]
    },
    {
      "cell_type": "markdown",
      "metadata": {},
      "source": [
        "### Hapus Nilai Null"
      ]
    },
    {
      "cell_type": "code",
      "execution_count": null,
      "metadata": {},
      "outputs": [],
      "source": [
        "for data in listDf:\n",
        "    data['jumlah_anak_balita'].fillna(0, inplace=True)\n",
        "    data['jumlah_anak_balita'] = data['jumlah_anak_balita'].astype(int)\n",
        "    print(data['jumlah_anak_balita'].dtype)"
      ]
    },
    {
      "cell_type": "code",
      "execution_count": null,
      "metadata": {},
      "outputs": [],
      "source": [
        "# Data Training\n",
        "print(listDf[0]['jumlah_anak_balita'].unique())\n",
        "\n",
        "# Data Test\n",
        "print(listDf[1]['jumlah_anak_balita'].unique())"
      ]
    },
    {
      "cell_type": "markdown",
      "metadata": {},
      "source": [
        "Pada proses ini, langkah yang diambil adalah mengubah nilai NaN menjadi **0** dengan asumsi setiap nilai NaN diartikan baris data penduduk tersebut memiliki jumlah anak balita sebanyak **0**."
      ]
    },
    {
      "cell_type": "markdown",
      "metadata": {},
      "source": [
        "## Kolom Jumlah Anak Remaja"
      ]
    },
    {
      "cell_type": "markdown",
      "metadata": {},
      "source": [
        "### Cek Nilai Unique"
      ]
    },
    {
      "cell_type": "code",
      "execution_count": null,
      "metadata": {},
      "outputs": [],
      "source": [
        "# Data Training\n",
        "print(listDf[0]['jumlah_anak_remaja'].unique())\n",
        "\n",
        "# Data Test\n",
        "print(listDf[1]['jumlah_anak_remaja'].unique())"
      ]
    },
    {
      "cell_type": "markdown",
      "metadata": {},
      "source": [
        "Sama seperti pada kasus kolom *jumlah anak balita*, terdapat nilai NaN pada kolom *jumlah anak remaja* yang perlu diubah dengan nilai lainnya."
      ]
    },
    {
      "cell_type": "markdown",
      "metadata": {},
      "source": [
        "### Hapus Nilai Null"
      ]
    },
    {
      "cell_type": "code",
      "execution_count": null,
      "metadata": {},
      "outputs": [],
      "source": [
        "for data in listDf:\n",
        "    data['jumlah_anak_remaja'].fillna(0, inplace=True)\n",
        "    data['jumlah_anak_remaja'] = data['jumlah_anak_balita'].astype(int)\n",
        "    print(data['jumlah_anak_remaja'].dtype)"
      ]
    },
    {
      "cell_type": "code",
      "execution_count": null,
      "metadata": {},
      "outputs": [],
      "source": [
        "# Data Training\n",
        "print(listDf[0]['jumlah_anak_remaja'].unique())\n",
        "\n",
        "# Data Test\n",
        "print(listDf[1]['jumlah_anak_remaja'].unique())"
      ]
    },
    {
      "cell_type": "markdown",
      "metadata": {},
      "source": [
        "Hasil pada kolom *jumlah anak remaja* juga mirip dengan hasil kolom *jumlah anak balita*, yaitu dengan mengubah nilai NaN dengan nilai **0**. Sebagai asumsi bahwa nilai NaN berarti baris data penduduk tersebut tidak memiliki anak remaja."
      ]
    },
    {
      "cell_type": "markdown",
      "metadata": {},
      "source": [
        "## Kolom Terakhir Belanja"
      ]
    },
    {
      "cell_type": "markdown",
      "metadata": {},
      "source": [
        "### Cek Nilai Unique"
      ]
    },
    {
      "cell_type": "code",
      "execution_count": null,
      "metadata": {},
      "outputs": [],
      "source": [
        "# Data Training\n",
        "listDf[0]['terakhir_belanja'].unique()"
      ]
    },
    {
      "cell_type": "code",
      "execution_count": null,
      "metadata": {},
      "outputs": [],
      "source": [
        "# Data Testing\n",
        "listDf[1]['terakhir_belanja'].unique()"
      ]
    },
    {
      "cell_type": "markdown",
      "metadata": {},
      "source": [
        "Pada pengecekan nilai unique, hasilnya terdapat nilai NaN yang terkandung didalam kolom *terakhir belanja*. Maka perlu dilakukan pengecekan batas minimum dan maksimum data serta nilai statistik lainnya seperti rata-rata untuk mengubah nilai NaN ini dengan sajian nilai Unique yang lebih rapi."
      ]
    },
    {
      "cell_type": "markdown",
      "metadata": {},
      "source": [
        "### Cek Nilai Min dan Max"
      ]
    },
    {
      "cell_type": "code",
      "execution_count": null,
      "metadata": {},
      "outputs": [],
      "source": [
        "for i, data in enumerate(listDf):\n",
        "    nilaiMax = round(data.terakhir_belanja.max())\n",
        "    nilaiMin = round(data.terakhir_belanja.min())\n",
        "\n",
        "    if i == 0:\n",
        "        namaDf = 'training'\n",
        "    else:\n",
        "        namaDf = 'testing'\n",
        "    print(f'Nilai maksimal dari dataset {namaDf} kolom terakhir belanja adalah {nilaiMax}')\n",
        "    print(f'Nilai minimal dari dataset {namaDf} kolom terakhir belanja adalah {nilaiMin}')\n",
        "    print()"
      ]
    },
    {
      "cell_type": "markdown",
      "metadata": {},
      "source": [
        "Dikarenakan tidak adanya acuan data tambahan dari kolom *terakhir belanja*, maka langkah yang diambil adalah mengubah setiap nilai NaN menjadi nilai rata-rata."
      ]
    },
    {
      "cell_type": "markdown",
      "metadata": {},
      "source": [
        "### Ubah Nilai Null dengan Rata-Rata"
      ]
    },
    {
      "cell_type": "code",
      "execution_count": null,
      "metadata": {},
      "outputs": [],
      "source": [
        "for i, data in enumerate(listDf):\n",
        "    # mengambil nilai mean setiap dataset\n",
        "    mean = data['terakhir_belanja'].mean()\n",
        "    \n",
        "    if i == 0:\n",
        "        namaDf = 'training'\n",
        "    else:\n",
        "        namaDf = 'testing'\n",
        "    \n",
        "    # Menampilkan angka mean\n",
        "    print(f'Nilai rata-rata dataset {namaDf} adalah {mean}')\n",
        "    \n",
        "    # Eksekusi pengisian nilai NaN dengan nilai mean\n",
        "    data['terakhir_belanja'] = data['terakhir_belanja'].fillna(mean)\n",
        "    data['terakhir_belanja'] = data['terakhir_belanja'].astype(int)\n",
        "    print(data['terakhir_belanja'].dtype)   "
      ]
    },
    {
      "cell_type": "markdown",
      "metadata": {},
      "source": [
        "Setelah dilakukan pengisian nilai nan dengan nilai rata-rata (mean), selanjutnya dilakukan pengecekan ulang pada setiap nilai yang ada"
      ]
    },
    {
      "cell_type": "code",
      "execution_count": null,
      "metadata": {},
      "outputs": [],
      "source": [
        "for i, data in enumerate(listDf):\n",
        "    # Mengurutkan nilai unique\n",
        "    nilaiTerurut = np.sort(data['terakhir_belanja'].unique())\n",
        "    \n",
        "    if i == 0:\n",
        "        namaDf = 'training'\n",
        "    else:\n",
        "        namaDf = 'testing'\n",
        "    \n",
        "    # Tampilkan nilai unique terurut\n",
        "    print(f'Dataset {namaDf}:')\n",
        "    print(nilaiTerurut)\n",
        "    print()"
      ]
    },
    {
      "cell_type": "markdown",
      "metadata": {},
      "source": [
        "## Kolom Belanja\n",
        "\n",
        "Pada kolom **Belanja**, juga masih terdapat nilai NaN yang harus dipenuhi. Untuk langkah yang diambil yaitu mengisi dengan menggunakan nilai-nilai dari hasil prediksi menggunakan metode **Polynomial**.\n",
        "\n",
        "Hal ini dimaksudkan mengisi nilai-nilai NaN dengan nilai-nilai hasil prediksi menggunakan garis polynomial, lalu mengambil nilai yang bersinggungan atau berdekatan dengan nilai yang bersebelahan."
      ]
    },
    {
      "cell_type": "markdown",
      "metadata": {},
      "source": [
        "### Eksekusi Polynomial Pengisian Nilai Null"
      ]
    },
    {
      "cell_type": "code",
      "execution_count": null,
      "metadata": {},
      "outputs": [],
      "source": [
        "# Mendefinisikan nama-nama kolom\n",
        "kolBelanja = ['belanja_buah', 'belanja_daging', 'belanja_ikan', 'belanja_kue']"
      ]
    },
    {
      "cell_type": "code",
      "execution_count": null,
      "metadata": {},
      "outputs": [],
      "source": [
        "for i, data in enumerate(listDf):\n",
        "    # Kondisi untuk nama dataset yang ditampilkan\n",
        "    if i == 0:\n",
        "        namaDf = 'training'\n",
        "    else:\n",
        "        namaDf = 'testing'\n",
        "    # Menampilkan nama dataset \n",
        "    print(f'Banyak data yang masih null pada dataset {namaDf}: ')\n",
        "    \n",
        "    for col in kolBelanja:\n",
        "        # Data x dan y yang tidak null\n",
        "        x_known = data.index[~data[col].isnull()]\n",
        "        y_known = data.loc[x_known, col]\n",
        "\n",
        "        # Buat objek interpolasi polinomial orde rendah (misalnya, orde 2)\n",
        "        poly_interp = Polynomial.fit(x_known, y_known, deg=2)\n",
        "\n",
        "        # Memasang indeks titik data yang akan diisi (NaN)\n",
        "        fill_indices = data.index[data[col].isnull()]\n",
        "\n",
        "        # Isi nilai-nilai NaN dengan hasil interpolasi polinomial\n",
        "        data.loc[fill_indices, col] = poly_interp(fill_indices)\n",
        "        # Membuat kondisi untuk nama kolom yang ditampilkan\n",
        "        if col == 'belanja_buah':\n",
        "            colName = 'Belanja Buah'\n",
        "        elif col == 'belanja_daging':\n",
        "            colName = 'Belanja Daging'\n",
        "        elif col == 'belanja_ikan':\n",
        "            colName = 'Belanja Ikan'\n",
        "        else:\n",
        "            colName = 'Belanja Kue'\n",
        "        # Menampilkan nama kolom dan jumlah nilai nullnya\n",
        "        print(f'{colName}: {data[col].isna().sum()}')\n",
        "    print()"
      ]
    },
    {
      "cell_type": "markdown",
      "metadata": {},
      "source": [
        "Dari hasil eksekusi di atas, sudah **tidak ditemukan nilai null** baik di Dataset Training maupun Dataset Testing di setiap kolom belanja."
      ]
    },
    {
      "cell_type": "markdown",
      "metadata": {},
      "source": [
        "## Kolom Pembelian Diskon\n",
        "\n",
        "Pada kolom **Pembelian Diskon**, dilakukan pengisian nilai NaN dengan nilai mean pada setiap segmentasi pendapatan yang diambil dari kolom **Pendapatan**. Namun sebelum dieksekusi, perlu menyiapkan kolom baru bernama **Segmentasi Pendapatan** yang berisi nilai segmentasi pendapatan, diambil dari angka kuartil di kolom **Pendapatan**."
      ]
    },
    {
      "cell_type": "code",
      "execution_count": null,
      "metadata": {},
      "outputs": [],
      "source": [
        "# Buat label segmentasi\n",
        "labelSegment = ['Rendah', 'Sedang', 'Tinggi', 'Sangat Tinggi']\n",
        "\n",
        "for data in listDf:\n",
        "      # Mengambil nilai kuartil pendapatan\n",
        "      kuartilPendapatan = data['pendapatan'].quantile([0.25, 0.5, 0.75])\n",
        "      # Membuat kolom segmentasi pendapatna\n",
        "      data['segmentasi_pendapatan'] = pd.cut(data['pendapatan'], \n",
        "                                                      bins=[0, kuartilPendapatan.iloc[0], kuartilPendapatan.iloc[1], \n",
        "                                                            kuartilPendapatan.iloc[2], data['pendapatan'].max()],\n",
        "                                                      labels=labelSegment)\n",
        "      \n",
        "      for segmen in data['segmentasi_pendapatan'].unique():\n",
        "            # Filter DataFrame berdasarkan segmen pendapatan\n",
        "            df_segmen = data[data['segmentasi_pendapatan'] == segmen]\n",
        "            \n",
        "            # Mengambil nilai mean dari kolom 'pembelian_diskon' pada segmen saat ini\n",
        "            mayorSegmen = df_segmen['pembelian_diskon'].mean()\n",
        "\n",
        "            # Mengisi nilai null di kolom 'pembelian_diskon' berdasarkan segmentasi pendapatan dengan nilai modus\n",
        "            data.loc[data['segmentasi_pendapatan'] == segmen, 'pembelian_diskon'] = data.loc[data['segmentasi_pendapatan'] == segmen, 'pembelian_diskon'].fillna(mayorSegmen)"
      ]
    },
    {
      "cell_type": "code",
      "execution_count": null,
      "metadata": {},
      "outputs": [],
      "source": [
        "# Cek banyak nilai null\n",
        "# Data Training\n",
        "print(dataTraining.pembelian_diskon.isna().sum())\n",
        "# Data Training\n",
        "print(testFeatures.pembelian_diskon.isna().sum())"
      ]
    },
    {
      "cell_type": "markdown",
      "metadata": {},
      "source": [
        "Setelah dilakukan proses pengisian nilai NaN dengan nilai mean, terlihat bahwa sudah tidak ada nilai null baik di **Data Training** dan **Data Testing** di **Kolom Pembelian Diskon**."
      ]
    },
    {
      "cell_type": "markdown",
      "metadata": {},
      "source": [
        "## Kolom Pembelian Web\n",
        "\n",
        "Pada kolom **Pembelian Web**, untuk mengisi nilai NaN akan dilakukan dengan cara yang sama ketika mengisi nilai NaN di kolom **Pembelian Diskon**. Hanya saja tidak ada proses pembuatan kolom **Segmentasi Pendapatan**. Berikut adalah kode eksekusinya:"
      ]
    },
    {
      "cell_type": "code",
      "execution_count": null,
      "metadata": {},
      "outputs": [],
      "source": [
        "for data in listDf:\n",
        "      for segmen in data['segmentasi_pendapatan'].unique():\n",
        "            # Filter DataFrame berdasarkan segmen pendapatan\n",
        "            df_segmen = data[data['segmentasi_pendapatan'] == segmen]\n",
        "            \n",
        "            # Mengambil nilai mean dari kolom 'pembelian_diskon' pada segmen saat ini\n",
        "            mayorSegmen = df_segmen['pembelian_web'].mean()\n",
        "\n",
        "            # Mengisi nilai null di kolom 'pembelian_diskon' berdasarkan segmentasi pendapatan dengan nilai modus\n",
        "            data.loc[data['segmentasi_pendapatan'] == segmen, 'pembelian_web'] = data.loc[data['segmentasi_pendapatan'] == segmen, 'pembelian_web'].fillna(mayorSegmen)"
      ]
    },
    {
      "cell_type": "code",
      "execution_count": null,
      "metadata": {},
      "outputs": [],
      "source": [
        "# Cek banyak nilai null\n",
        "# Data Training\n",
        "print(dataTraining.pembelian_web.isna().sum())\n",
        "# Data Training\n",
        "print(testFeatures.pembelian_web.isna().sum())"
      ]
    },
    {
      "cell_type": "markdown",
      "metadata": {},
      "source": [
        "Setelah dilakukan proses pengisian nilai NaN dengan nilai mean, terlihat bahwa sudah tidak ada nilai null baik di **Data Training** dan **Data Testing** di **Kolom Pembelian Web**."
      ]
    },
    {
      "cell_type": "markdown",
      "metadata": {},
      "source": [
        "## Kolom Pembelian Toko\n",
        "\n",
        "Pada kolom **Pembelian Web**, untuk mengisi nilai NaN akan dilakukan dengan cara yang sama ketika mengisi nilai NaN di kolom **Pembelian Diskon** dan **Pembelian Web**. Hanya saja tidak ada proses pembuatan kolom **Segmentasi Pendapatan**. Berikut adalah kode eksekusinya:"
      ]
    },
    {
      "cell_type": "code",
      "execution_count": null,
      "metadata": {},
      "outputs": [],
      "source": [
        "for data in listDf:\n",
        "      for segmen in data['segmentasi_pendapatan'].unique():\n",
        "            # Filter DataFrame berdasarkan segmen pendapatan\n",
        "            df_segmen = data[data['segmentasi_pendapatan'] == segmen]\n",
        "            \n",
        "            # Mengambil nilai mean dari kolom 'pembelian_diskon' pada segmen saat ini\n",
        "            mayorSegmen = df_segmen['pembelian_toko'].mean()\n",
        "\n",
        "            # Mengisi nilai null di kolom 'pembelian_diskon' berdasarkan segmentasi pendapatan dengan nilai modus\n",
        "            data.loc[data['segmentasi_pendapatan'] == segmen, 'pembelian_toko'] = data.loc[data['segmentasi_pendapatan'] == segmen, 'pembelian_toko'].fillna(mayorSegmen)"
      ]
    },
    {
      "cell_type": "code",
      "execution_count": null,
      "metadata": {},
      "outputs": [],
      "source": [
        "# Cek banyak nilai null\n",
        "# Data Training\n",
        "print(dataTraining.pembelian_toko.isna().sum())\n",
        "# Data Training\n",
        "print(testFeatures.pembelian_toko.isna().sum())"
      ]
    },
    {
      "cell_type": "markdown",
      "metadata": {},
      "source": [
        "Setelah dilakukan proses pengisian nilai NaN dengan nilai mean, terlihat bahwa sudah tidak ada nilai null baik di **Data Training** dan **Data Testing** di **Kolom Pembelian Toko**."
      ]
    },
    {
      "cell_type": "markdown",
      "metadata": {},
      "source": [
        "## Kolom Keluhan\n",
        "\n",
        "Pada kolom **Keluhan**, dilakukan pengisian nilai NaN dengan menggunakan angka 0. Hal ini mengasumsikan bahwa nilai NaN berarti pelanggan tersebut tidak memiliki keluhan pada proses jual beli."
      ]
    },
    {
      "cell_type": "code",
      "execution_count": null,
      "metadata": {},
      "outputs": [],
      "source": [
        "for data in listDf:\n",
        "    # Mengisi dengan angka 0 setiap dataset\n",
        "    data['keluhan'].fillna(0, inplace=True)"
      ]
    },
    {
      "cell_type": "code",
      "execution_count": null,
      "metadata": {},
      "outputs": [],
      "source": [
        "# Cek banyak nilai null\n",
        "# Data Training\n",
        "print(dataTraining.keluhan.isna().sum())\n",
        "# Data Training\n",
        "print(testFeatures.keluhan.isna().sum())"
      ]
    },
    {
      "cell_type": "markdown",
      "metadata": {},
      "source": [
        "## Kolom Tanggal Menjadi Anggota\n",
        "\n",
        "Pada kolom **Tanggal Menjadi Anggota**, pengisian nilai NaN dengan teks \"Unknown\". Dengan asumsi bahwa pelanggan belum menjadi anggota."
      ]
    },
    {
      "cell_type": "code",
      "execution_count": null,
      "metadata": {},
      "outputs": [],
      "source": [
        "for data in listDf:\n",
        "    data['tanggal_menjadi_anggota'].fillna(\"Unknown\", inplace=True)"
      ]
    },
    {
      "cell_type": "code",
      "execution_count": null,
      "metadata": {},
      "outputs": [],
      "source": [
        "# Cek banyak nilai null\n",
        "# Data Training\n",
        "print(dataTraining.tanggal_menjadi_anggota.isna().sum())\n",
        "# Data Training\n",
        "print(testFeatures.tanggal_menjadi_anggota.isna().sum())"
      ]
    },
    {
      "cell_type": "markdown",
      "metadata": {},
      "source": [
        "## Kolom Segmentasi Pendapatan"
      ]
    },
    {
      "cell_type": "code",
      "execution_count": null,
      "metadata": {},
      "outputs": [],
      "source": [
        "# Cek banyak nilai null\n",
        "# Data Training\n",
        "print(dataTraining.segmentasi_pendapatan.isna().sum())\n",
        "# Data Training\n",
        "print(testFeatures.segmentasi_pendapatan.isna().sum())"
      ]
    },
    {
      "cell_type": "markdown",
      "metadata": {},
      "source": [
        "Sebab tidak terdapat nilai NaN, maka tidak perlu adanya penghapusan nilai NaN di kolom ini."
      ]
    },
    {
      "cell_type": "markdown",
      "metadata": {},
      "source": [
        "## Pembulatan Dataset\n",
        "\n",
        "Langkah ini dilakukan agar data numerik pada setiap dataset menjadi bulat."
      ]
    },
    {
      "cell_type": "code",
      "execution_count": null,
      "metadata": {},
      "outputs": [],
      "source": [
        "# Membulatkan dataset (kolom numerik)\n",
        "for data in listDf:\n",
        "    data = round(data)"
      ]
    },
    {
      "cell_type": "markdown",
      "metadata": {},
      "source": [
        "### Data Training"
      ]
    },
    {
      "cell_type": "code",
      "execution_count": null,
      "metadata": {},
      "outputs": [],
      "source": [
        "dataTraining.head()"
      ]
    },
    {
      "cell_type": "markdown",
      "metadata": {},
      "source": [
        "### Data Testing"
      ]
    },
    {
      "cell_type": "code",
      "execution_count": null,
      "metadata": {},
      "outputs": [],
      "source": [
        "dataTesting = testFeatures.copy()\n",
        "dataTesting.head()"
      ]
    },
    {
      "cell_type": "markdown",
      "metadata": {},
      "source": [
        "# Exploratory Data Analysis (EDA)"
      ]
    },
    {
      "cell_type": "markdown",
      "metadata": {},
      "source": [
        "## Analisis Invalid Value"
      ]
    },
    {
      "cell_type": "markdown",
      "metadata": {},
      "source": [
        "## Pertanyaan Analisis\n",
        "Dari pertanyaan-pertanyaan bisnis yang sudah didefinisikan, berikut adalah pertanyaan-pertanyaan guna menganalisis setiap pertanyaan bisnis yang ada:\n",
        "\n",
        "1. Rentang usia berapa saja pelanggan yang terdata pada dataset?\n",
        "2. Berapa porsi berdasarkan pendidikan terakhir pelanggan?\n",
        "3. Status pernikahan apa saja pelanggan yang terdata pada dataset?\n",
        "4. Berapa rata-rata pelanggan yang sudah memiliki anak dan berapa jumlah rata-rata anak yang dimiliki?\n",
        "5. Berapa rata-rata pendapatan dari segmentasi pendapatan yang ada?\n",
        "6. Dari segmentasi pendapatan, bagaimana analisis kebiasaan pelanggan dalam belanja?\n",
        "7. Bagaimana hubungan keluhan pelanggan berdasarkan cara pembelian yang dilakukan?\n",
        "8. Bagaimana distribusi pendaftaran anggota dari hasil analisis statistik dan demografis yang sudah dilakukan?\n",
        "9. Bagaimana hubungan antara kepemilikan anak dan status pernikahan terhadap belanja?"
      ]
    },
    {
      "cell_type": "markdown",
      "metadata": {},
      "source": [
        "## Analisis Outliers\n",
        "\n",
        "Sebelum melakukan analisis lebih lanjut, dilakukan analisis outliers untuk menghilangkan nilai-nilai diluar rentang yang dapat mempengaruhi hasil dari analisis."
      ]
    },
    {
      "cell_type": "markdown",
      "metadata": {},
      "source": [
        "### Cek Nilai Outliers dengan Box Plot"
      ]
    },
    {
      "cell_type": "code",
      "execution_count": null,
      "metadata": {},
      "outputs": [],
      "source": [
        "# Data Training\n",
        "numFeatures = dataTraining.select_dtypes(include='number').columns\n",
        "\n",
        "# Tentukan ukuran kanvas subplot\n",
        "numPlots = len(numFeatures)\n",
        "numRows = numPlots // 2 + numPlots % 2  # Hitung jumlah baris\n",
        "fig, axes = plt.subplots(nrows=numRows, ncols=2, figsize=(12, 20), \n",
        "                         gridspec_kw={'height_ratios': [1]*numRows})  # Set tinggi setiap baris sama\n",
        "\n",
        "# Looping melalui kolom numerik\n",
        "for i, column in enumerate(numFeatures):\n",
        "    row = i // 2\n",
        "    col = i % 2\n",
        "    sns.boxplot(x=dataTraining[column], ax=axes[row, col])\n",
        "    axes[row, col].set_title(column)\n",
        "\n",
        "# Menghapus subplot yang tidak digunakan jika jumlah kolom ganjil\n",
        "if numPlots % 2 != 0:\n",
        "    fig.delaxes(axes[numRows-1, 1])\n",
        "\n",
        "plt.tight_layout()\n",
        "plt.show()"
      ]
    },
    {
      "cell_type": "code",
      "execution_count": null,
      "metadata": {},
      "outputs": [],
      "source": [
        "# Data Testing\n",
        "numFeatures = dataTesting.select_dtypes(include='number').columns\n",
        "\n",
        "# Tentukan ukuran kanvas subplot\n",
        "numPlots = len(numFeatures)\n",
        "numRows = numPlots // 2 + numPlots % 2  # Hitung jumlah baris\n",
        "fig, axes = plt.subplots(nrows=numRows, ncols=2, figsize=(12, 20), \n",
        "                         gridspec_kw={'height_ratios': [1]*numRows})  # Set tinggi setiap baris sama\n",
        "\n",
        "# Looping melalui kolom numerik\n",
        "for i, column in enumerate(numFeatures):\n",
        "    row = i // 2\n",
        "    col = i % 2\n",
        "    sns.boxplot(x=dataTesting[column], ax=axes[row, col])\n",
        "    axes[row, col].set_title(column)\n",
        "\n",
        "# Menghapus subplot yang tidak digunakan jika jumlah kolom ganjil\n",
        "if numPlots % 2 != 0:\n",
        "    fig.delaxes(axes[numRows-1, 1])\n",
        "\n",
        "plt.tight_layout()\n",
        "plt.show()"
      ]
    },
    {
      "cell_type": "markdown",
      "metadata": {},
      "source": [
        "Dari hasil analisis banyak outliers di atas, terlihat bahwa ada beberapa kolom yang masih terdapat nilai outliers yang perlu ditangani. Namun juga perlu adanya seleksi lagi kolom-kolom yang perlu ditangani dan juga yang tidak. \n",
        "\n",
        "Untuk kolom yang tidak perlu yaitu kolom-kolom numerik dengan nilai terbilang sedikit variasi nilainya."
      ]
    },
    {
      "cell_type": "markdown",
      "metadata": {},
      "source": [
        "### Hapus Nilai Outliers"
      ]
    },
    {
      "cell_type": "code",
      "execution_count": null,
      "metadata": {},
      "outputs": [],
      "source": [
        "# Data Training\n",
        "\n",
        "ignoredColumn = ['keluhan', 'jumlah_anak_balita', 'jumlah_anak_remaja', 'tahun_kelahiran']\n",
        "interpolateColumn = ['belanja_buah', 'belanja_ikan', 'belanja_daging', 'belanja_kue']\n",
        "\n",
        "# Fungsi untuk menghapus outlier menggunakan pendekatan IQR\n",
        "def replace_outliers_with_interpolation(df):\n",
        "    cleaned_data = df.copy()  # Salin dataframe asli untuk dimodifikasi\n",
        "    \n",
        "    # Loop melalui setiap kolom numerik\n",
        "    for column in df.select_dtypes(include='number').columns:\n",
        "        if column not in ignoredColumn:  # Lewati kolom yang diabaikan\n",
        "            Q1 = df[column].quantile(0.25)\n",
        "            Q3 = df[column].quantile(0.75)\n",
        "            IQR = Q3 - Q1\n",
        "            lower_bound = Q1 - 1.5 * IQR\n",
        "            upper_bound = Q3 + 1.5 * IQR\n",
        "            \n",
        "            if column in interpolateColumn:\n",
        "                # Interpolasi nilai outliers\n",
        "                outliers = df[(df[column] < lower_bound) | (df[column] > upper_bound)]\n",
        "                interpolated_values = (outliers[column] - lower_bound) / (upper_bound - lower_bound) * (Q3 - Q1) + Q1\n",
        "                cleaned_data.loc[outliers.index, column] = interpolated_values\n",
        "            cleaned_data[column] = cleaned_data[column].apply(lambda x: lower_bound if x < lower_bound else (upper_bound if x > upper_bound else x))\n",
        "    return cleaned_data\n",
        "\n",
        "# Hapus outlier menggunakan pendekatan IQR untuk setiap kolom (kecuali yang diabaikan)\n",
        "cleanedTraining = replace_outliers_with_interpolation(dataTraining)"
      ]
    },
    {
      "cell_type": "code",
      "execution_count": null,
      "metadata": {},
      "outputs": [],
      "source": [
        "# Data Testing\n",
        "\n",
        "ignoredColumn = ['keluhan', 'jumlah_anak_balita', 'jumlah_anak_remaja', 'tahun_kelahiran', 'ID']\n",
        "interpolateColumn = ['belanja_buah', 'belanja_ikan', 'belanja_daging', 'belanja_kue']\n",
        "\n",
        "# Fungsi untuk menghapus outlier menggunakan pendekatan IQR\n",
        "def replace_outliers_with_interpolation(df):\n",
        "    cleaned_data = df.copy()  # Salin dataframe asli untuk dimodifikasi\n",
        "    \n",
        "    # Loop melalui setiap kolom numerik\n",
        "    for column in df.select_dtypes(include='number').columns:\n",
        "        if column not in ignoredColumn:  # Lewati kolom yang diabaikan\n",
        "            Q1 = df[column].quantile(0.25)\n",
        "            Q3 = df[column].quantile(0.75)\n",
        "            IQR = Q3 - Q1\n",
        "            lower_bound = Q1 - 1.5 * IQR\n",
        "            upper_bound = Q3 + 1.5 * IQR\n",
        "            \n",
        "            if column in interpolateColumn:\n",
        "                # Interpolasi nilai outliers\n",
        "                outliers = df[(df[column] < lower_bound) | (df[column] > upper_bound)]\n",
        "                interpolated_values = (outliers[column] - lower_bound) / (upper_bound - lower_bound) * (Q3 - Q1) + Q1\n",
        "                cleaned_data.loc[outliers.index, column] = interpolated_values\n",
        "            cleaned_data[column] = cleaned_data[column].apply(lambda x: lower_bound if x < lower_bound else (upper_bound if x > upper_bound else x))\n",
        "    return cleaned_data\n",
        "\n",
        "# Hapus outlier menggunakan pendekatan IQR untuk setiap kolom (kecuali yang diabaikan)\n",
        "cleanedTesting = replace_outliers_with_interpolation(dataTesting)"
      ]
    },
    {
      "cell_type": "markdown",
      "metadata": {},
      "source": [
        "### Cek Ulang Nilai Outliers"
      ]
    },
    {
      "cell_type": "code",
      "execution_count": null,
      "metadata": {},
      "outputs": [],
      "source": [
        "# Data Training\n",
        "\n",
        "numFeatures = cleanedTraining.select_dtypes(include='number').columns\n",
        "\n",
        "# Tentukan ukuran kanvas subplot\n",
        "numPlots = len(numFeatures)\n",
        "numRows = numPlots // 2 + numPlots % 2  # Hitung jumlah baris\n",
        "fig, axes = plt.subplots(nrows=numRows, ncols=2, figsize=(12, 20), \n",
        "                         gridspec_kw={'height_ratios': [1]*numRows})  # Set tinggi setiap baris sama\n",
        "\n",
        "# Looping melalui kolom numerik\n",
        "for i, column in enumerate(numFeatures):\n",
        "    row = i // 2\n",
        "    col = i % 2\n",
        "    sns.boxplot(x=cleanedTraining[column], ax=axes[row, col])\n",
        "    axes[row, col].set_title(column)\n",
        "\n",
        "# Menghapus subplot yang tidak digunakan jika jumlah kolom ganjil\n",
        "if numPlots % 2 != 0:\n",
        "    fig.delaxes(axes[numRows-1, 1])\n",
        "\n",
        "plt.tight_layout()\n",
        "plt.show()"
      ]
    },
    {
      "cell_type": "code",
      "execution_count": null,
      "metadata": {},
      "outputs": [],
      "source": [
        "# Data Testing\n",
        "\n",
        "numFeatures = cleanedTesting.select_dtypes(include='number').columns\n",
        "\n",
        "# Tentukan ukuran kanvas subplot\n",
        "numPlots = len(numFeatures)\n",
        "numRows = numPlots // 2 + numPlots % 2  # Hitung jumlah baris\n",
        "fig, axes = plt.subplots(nrows=numRows, ncols=2, figsize=(12, 20), \n",
        "                         gridspec_kw={'height_ratios': [1]*numRows})  # Set tinggi setiap baris sama\n",
        "\n",
        "# Looping melalui kolom numerik\n",
        "for i, column in enumerate(numFeatures):\n",
        "    row = i // 2\n",
        "    col = i % 2\n",
        "    sns.boxplot(x=cleanedTesting[column], ax=axes[row, col])\n",
        "    axes[row, col].set_title(column)\n",
        "\n",
        "# Menghapus subplot yang tidak digunakan jika jumlah kolom ganjil\n",
        "if numPlots % 2 != 0:\n",
        "    fig.delaxes(axes[numRows-1, 1])\n",
        "\n",
        "plt.tight_layout()\n",
        "plt.show()"
      ]
    },
    {
      "cell_type": "markdown",
      "metadata": {},
      "source": [
        "Setelah dilakukan proses penghapusan outliers, saat ini sudah tidak ada outliers pada setiap kolom di data training."
      ]
    },
    {
      "cell_type": "markdown",
      "metadata": {},
      "source": [
        "## Jawab Pertanyaan Analisis, dan Analisis Invalid Value Lanjut\n",
        "\n",
        "Pada sesi ini, menjawab pertanyaan analisis dengan berbagai langkah analisis disertai dengan Analisis Invalid Value Lanjut. Untuk proses analisis yang digunakan hanyalah dataset **Training**. Sebab terdapat perbedaan pola dataset."
      ]
    },
    {
      "cell_type": "markdown",
      "metadata": {},
      "source": [
        "### Pertanyaan 1\n",
        "\n",
        "Pada pertanyaan 1, perlu melakukan analisa pada kolom **Tahun Kelahiran** untuk mengetahui usia berapa saja setiap pengguna yang terdata pada dataset."
      ]
    },
    {
      "cell_type": "code",
      "execution_count": null,
      "metadata": {},
      "outputs": [],
      "source": [
        "# Mengambil nilai tahun sekarang\n",
        "yearNow = datetime.now().year\n",
        "# Mengurangi tahun kelahiran dengan tahun sekarang, masukkan dalam kolom baru\n",
        "# Data Training\n",
        "cleanedTraining['usia'] = yearNow - cleanedTraining['tahun_kelahiran']\n",
        "# Data Training\n",
        "cleanedTesting['usia'] = yearNow - cleanedTesting['tahun_kelahiran']"
      ]
    },
    {
      "cell_type": "markdown",
      "metadata": {},
      "source": [
        "Setelah mendapatkan angka usia pada setiap pengguna, selanjutnya adalah membuat rentang usia."
      ]
    },
    {
      "cell_type": "code",
      "execution_count": null,
      "metadata": {},
      "outputs": [],
      "source": [
        "# Membuat batas rentang usia\n",
        "limitAges = [0, 30, 70, float('inf')]\n",
        "\n",
        "# Membuat label rentang usia\n",
        "labelAges = ['Remaja', 'Dewasa', 'Lanjut Usia']\n",
        "\n",
        "# Membuat kolom baru rentang usia\n",
        "# Data Training\n",
        "cleanedTraining['rentang_usia'] = pd.cut(cleanedTraining['usia'], bins=limitAges, labels=labelAges)\n",
        "# Data Testing\n",
        "cleanedTesting['rentang_usia'] = pd.cut(cleanedTesting['usia'], bins=limitAges, labels=labelAges)"
      ]
    },
    {
      "cell_type": "markdown",
      "metadata": {},
      "source": [
        "Setelah dilakukan pembuatan rentang usia, maka perlu dilakukan proses validasi pada nilai-nilai yang ada dan berkaitan dengan pertanyaan 1."
      ]
    },
    {
      "cell_type": "code",
      "execution_count": null,
      "metadata": {},
      "outputs": [],
      "source": [
        "print('Usia paling muda adalah', cleanedTraining.usia.min())\n",
        "print('Usia paling tua adalah', cleanedTraining.usia.max())"
      ]
    },
    {
      "cell_type": "markdown",
      "metadata": {},
      "source": [
        "Disini terdeteksi terdapat ketidaktepatan pada data yang sudah ada, yaitu adanya usia yang tidak logis. Maka perlu dilakukan analisis lebih lanjut pada data kolom Tahun **Kelahiran**, **Usia**, dan **Rentang Usia**."
      ]
    },
    {
      "cell_type": "code",
      "execution_count": null,
      "metadata": {},
      "outputs": [],
      "source": [
        "# Grouping berdasarkan rentang usia\n",
        "grpAgeRange = cleanedTraining[cleanedTraining['rentang_usia'] == 'Lanjut Usia']\n",
        "\n",
        "# Mengurutkan setiap nilai unik di kolom usia untuk menentukan batas maksimal usia\n",
        "print(np.sort(grpAgeRange['usia'].unique()))\n",
        "\n",
        "# Menampilkan banyak data di atas batas maksimal\n",
        "print(\"Banyak data di atas batas maksimal\", len(cleanedTraining[cleanedTraining['usia'] > 84]))"
      ]
    },
    {
      "cell_type": "markdown",
      "metadata": {},
      "source": [
        "Dari hasil analisis di atas, dari penentuan batas maksimal usia lansia adalah **84** dengan banyak data di atas batas maksimal (Invalid Value) adalah **16**. Maka dapat dilakukan penghapusan data di atas batas maksimal."
      ]
    },
    {
      "cell_type": "code",
      "execution_count": null,
      "metadata": {},
      "outputs": [],
      "source": [
        "cleanedTraining = cleanedTraining[cleanedTraining['usia'] <= 84]"
      ]
    },
    {
      "cell_type": "markdown",
      "metadata": {},
      "source": [
        "Setelah dilakukan pembersihan, dapat disimpulkan rentang usia berdasarkan usia pengguna adalah sebagai berikut:"
      ]
    },
    {
      "cell_type": "code",
      "execution_count": null,
      "metadata": {},
      "outputs": [],
      "source": [
        "grpAges = cleanedTraining.groupby('rentang_usia').agg({\n",
        "    'usia': ['count', 'min', 'max']\n",
        "})\n",
        "\n",
        "for rentang, nilai in grpAges.iterrows():\n",
        "    print(f\"Pada rentang usia {rentang} yaitu usia {nilai['usia']['min']}-{nilai['usia']['max']}, terdapat {nilai['usia']['count']} pengguna.\")"
      ]
    },
    {
      "cell_type": "code",
      "execution_count": null,
      "metadata": {},
      "outputs": [],
      "source": [
        "# Plotting bar chart\n",
        "plt.figure(figsize=(13, 6))\n",
        "bars = grpAges['usia', 'count'].plot(kind='barh')\n",
        "plt.xlabel('Jumlah Pengguna')\n",
        "plt.ylabel('Rentang Usia')\n",
        "plt.title('Jumlah Pengguna berdasarkan Rentang Usia')\n",
        "plt.legend().remove()  # Menghapus legend\n",
        "\n",
        "# Menambahkan persentase pada setiap bar\n",
        "for bar in bars.patches:\n",
        "    plt.text(bar.get_width(), bar.get_y() + bar.get_height() / 2,\n",
        "             f'{bar.get_width() / sum(grpAges[\"usia\", \"count\"]) * 100:.2f}%',\n",
        "             va='center')\n",
        "\n",
        "plt.show()"
      ]
    },
    {
      "cell_type": "markdown",
      "metadata": {},
      "source": [
        "Dari hasil visualisasi data pada analisis univarian di atas dapat disimpulkan bahwa pengguna terbanyak yang terdata adalah golongan rentang usia **Dewasa**."
      ]
    },
    {
      "cell_type": "markdown",
      "metadata": {},
      "source": [
        "### Pertanyaan 2\n",
        "\n",
        "Pada sesi ini akan menjawab pertanyaan 2, dengan menganalisa nilai-nilai yang ada di kolom **Pendidikan**. Tujuannya yaitu untuk mengetahui banyak porsi presentase setiap jenis pendidikan terakhir."
      ]
    },
    {
      "cell_type": "code",
      "execution_count": null,
      "metadata": {},
      "outputs": [],
      "source": [
        "# Nilai unique kolom pendidikan\n",
        "cleanedTraining.pendidikan.unique()"
      ]
    },
    {
      "cell_type": "code",
      "execution_count": null,
      "metadata": {},
      "outputs": [],
      "source": [
        "count = cleanedTraining['pendidikan'].value_counts()\n",
        "df = pd.DataFrame({\n",
        "    'Jumlah sampel':count, \n",
        "})\n",
        "print(df)\n",
        "\n",
        "# Plotting bar chart vertikal\n",
        "plt.figure(figsize=(13, 6))\n",
        "bars = count.plot(kind='bar', rot=0)\n",
        "plt.xlabel('Pendidikan Terakhir')\n",
        "plt.ylabel('Jumlah Pengguna')\n",
        "plt.title('Jumlah Pengguna berdasarkan Pendidikan Terakhir')\n",
        "plt.legend().remove()  # Menghapus legend\n",
        "\n",
        "# Menambahkan persentase pada setiap bar\n",
        "for bar in bars.patches:\n",
        "    plt.text(bar.get_x() + bar.get_width() / 2, bar.get_height(),\n",
        "             f'{bar.get_height() / sum(count) * 100:.2f}%',\n",
        "             ha='center', va='bottom')\n",
        "\n",
        "plt.show()"
      ]
    },
    {
      "cell_type": "markdown",
      "metadata": {},
      "source": [
        "Dari hasil visualisasi data pada analisis univarian di atas dapat disimpulkan bahwa pengguna mayoritas memiliki pendidikan terakhir **Sarjana**."
      ]
    },
    {
      "cell_type": "markdown",
      "metadata": {},
      "source": [
        "### Pertanyaan 3\n",
        "\n",
        "Pada sesi ini akan dilakukan analisis latar belakang pengguna berdasarkan status pernikahan"
      ]
    },
    {
      "cell_type": "code",
      "execution_count": null,
      "metadata": {},
      "outputs": [],
      "source": [
        "# Nilai unique status pernikahan\n",
        "cleanedTraining.status_pernikahan.unique()"
      ]
    },
    {
      "cell_type": "code",
      "execution_count": null,
      "metadata": {},
      "outputs": [],
      "source": [
        "count = cleanedTraining['status_pernikahan'].value_counts()\n",
        "df = pd.DataFrame({\n",
        "    'Jumlah sampel':count, \n",
        "})\n",
        "print(df)\n",
        "\n",
        "# Plotting bar chart vertikal\n",
        "plt.figure(figsize=(13, 6))\n",
        "bars = count.plot(kind='bar', rot=0)\n",
        "plt.xlabel('Status Pernikahan')\n",
        "plt.ylabel('Jumlah Pengguna')\n",
        "plt.title('Jumlah Pengguna Berdasarkan Status Pernikahan')\n",
        "plt.legend().remove()  # Menghapus legend\n",
        "\n",
        "# Menambahkan persentase pada setiap bar\n",
        "for bar in bars.patches:\n",
        "    plt.text(bar.get_x() + bar.get_width() / 2, bar.get_height(),\n",
        "             f'{bar.get_height() / sum(count) * 100:.2f}%',\n",
        "             ha='center', va='bottom')\n",
        "\n",
        "plt.show()"
      ]
    },
    {
      "cell_type": "markdown",
      "metadata": {},
      "source": [
        "Dari hasil visualisasi data pada analisis univarian di atas dapat disimpulkan bahwa pengguna mayoritas memiliki status pernikahan **Rencana Menikah**, yang berbeda tipis dengan status pernikahan **Menikah**."
      ]
    },
    {
      "cell_type": "markdown",
      "metadata": {},
      "source": [
        "### Pertanyaan 4\n",
        "\n",
        "Pada sesi ini akan dilakukan analisis latar belakang pengguna berdasarkan kepemilikan anak, dengan menganalisis kolom **Jumlah Anak Balita** dan **Jumlah Anak Remaja**"
      ]
    },
    {
      "cell_type": "code",
      "execution_count": null,
      "metadata": {},
      "outputs": [],
      "source": [
        "# Buat Kolom Baru, yaitu memiliki anak\n",
        "def haveChildFunct(df):\n",
        "    for index, row in df.iterrows():\n",
        "        # Kondisi penentuan nilai kepemilikan anak\n",
        "        if row['jumlah_anak_balita'] > 0 or row['jumlah_anak_remaja'] > 0:\n",
        "            df.at[index, 'memiliki_anak'] = 'Memiliki'\n",
        "        else:\n",
        "            df.at[index, 'memiliki_anak'] = 'Tidak Memiliki'\n",
        "\n",
        "# Data Training\n",
        "haveChildFunct(cleanedTraining)\n",
        "\n",
        "# Data Training\n",
        "haveChildFunct(cleanedTesting)"
      ]
    },
    {
      "cell_type": "markdown",
      "metadata": {},
      "source": [
        "Saat ini dataframe utama sudah memiliki kolom kepemilikan anak. Selanjutnya adalah melakukan agregasi data untuk memvalidasi data yang ada."
      ]
    },
    {
      "cell_type": "code",
      "execution_count": null,
      "metadata": {},
      "outputs": [],
      "source": [
        "# Hitung jumlah anak berdasarkan status pernikahan (validasi)\n",
        "countWed = cleanedTraining.groupby(['status_pernikahan', 'memiliki_anak'])['memiliki_anak'].count()\n",
        "countWed"
      ]
    },
    {
      "cell_type": "markdown",
      "metadata": {},
      "source": [
        "Pada hasil di atas, nampaknya terdapat kesalahan data yaitu pada kategori **Sendiri** dan **Rencana Menikah** yang tercatat **memiliki anak**. Untuk menghindari mispersepsi, penanganan akan dilakukan pada dataset dengan cara mengubah nilai kepemilikan anak, serta menjalankan proses pengisian kolom **Memiliki Anak** secara ulang."
      ]
    },
    {
      "cell_type": "code",
      "execution_count": null,
      "metadata": {},
      "outputs": [],
      "source": [
        "# Filter DataFrame untuk status pernikahan \"Sendiri\"\n",
        "beforeMarried = cleanedTraining[(cleanedTraining['status_pernikahan'] == 'Sendiri') | (cleanedTraining['status_pernikahan'] == 'Rencana Menikah')]\n",
        "\n",
        "# Ubah nilai kolom 'jumlah_anak_balita', 'jumlah_anak_remaja', dan 'memiliki_anak' untuk baris-baris tersebut\n",
        "cleanedTraining.loc[beforeMarried.index, 'jumlah_anak_balita'] = 0\n",
        "cleanedTraining.loc[beforeMarried.index, 'jumlah_anak_remaja'] = 0\n",
        "cleanedTraining.loc[beforeMarried.index, 'memiliki_anak'] = 'Tidak Memiliki'\n"
      ]
    },
    {
      "cell_type": "code",
      "execution_count": null,
      "metadata": {},
      "outputs": [],
      "source": [
        "# Cek ulang Nilai Count\n",
        "# Hitung jumlah anak berdasarkan status pernikahan (validasi)\n",
        "sendiriRow = cleanedTraining[(cleanedTraining['status_pernikahan'] == 'Rencana Menikah') & (cleanedTraining['memiliki_anak'] == 'Memiliki')]\n",
        "sendiriRow.shape[0]"
      ]
    },
    {
      "cell_type": "markdown",
      "metadata": {},
      "source": [
        "Setelah dipastikan sudah tidak ada nilai invalid yang ada, maka selanjutnya dilakukan proses visualisasi data."
      ]
    },
    {
      "cell_type": "code",
      "execution_count": null,
      "metadata": {},
      "outputs": [],
      "source": [
        "# Hitung jumlah masing-masing nilai unik dalam kolom 'memiliki_anak'\n",
        "count = cleanedTraining['memiliki_anak'].value_counts()\n",
        "\n",
        "# Plotting pie chart\n",
        "plt.figure(figsize=(8, 6))\n",
        "labels = count.index\n",
        "sizes = count.values\n",
        "plt.pie(sizes, labels=labels, autopct='%1.1f%%', startangle=140)\n",
        "plt.axis('equal')\n",
        "plt.title('Jumlah Pengguna berdasarkan Kepemilikan Anak')\n",
        "plt.show()"
      ]
    },
    {
      "cell_type": "markdown",
      "metadata": {},
      "source": [
        "Terlihat bahwa mayoritas pengguna sudah memiliki anak, Selanjutnya adalah mencari rata-rata banyak anak yang dimiliki oleh pengguna yang memiliki anak."
      ]
    },
    {
      "cell_type": "code",
      "execution_count": null,
      "metadata": {},
      "outputs": [],
      "source": [
        "# Seleksi data yang memiliki anak\n",
        "haveChild = cleanedTraining[cleanedTraining['memiliki_anak'] == 'Memiliki']\n",
        "\n",
        "# Penghitungan rata-rata anak remaja yang dimiliki\n",
        "teenageChild = haveChild['jumlah_anak_remaja'].mean()\n",
        "\n",
        "# Penghitungan rata-rata anak balita yang dimiliki\n",
        "babyChild = haveChild['jumlah_anak_balita'].mean()\n",
        "\n",
        "# Penghitungan rata-rata anak yang dimiliki\n",
        "meanChild = (haveChild['jumlah_anak_balita'] + haveChild['jumlah_anak_remaja']).mean()\n",
        "\n",
        "print('Rata-rata anak remaja yang dimiliki setiap pengguna yang memiliki anak adalah', round(teenageChild), \"anak.\")\n",
        "print('Rata-rata anak balita yang dimiliki setiap pengguna yang memiliki anak adalah', round(babyChild), \"anak.\")\n",
        "print('Rata-rata anak yang dimiliki setiap pengguna yang memiliki anak adalah', round(meanChild), \"anak.\")"
      ]
    },
    {
      "cell_type": "markdown",
      "metadata": {},
      "source": [
        "Kesimpulan dari hasil analisis di atas bahwa rata-rata anak yang dimiliki oleh pengguna yang memiliki anak balita maupun remaja adalah **1**. Namun, untuk keseluruhan rata-rata adalah **2**."
      ]
    },
    {
      "cell_type": "markdown",
      "metadata": {},
      "source": [
        "### Pertanyaan 5\n",
        "\n",
        "Pada sesi ini akan dilakukan analisis pendapatan pengguna berdasarkan segmentasi pendapatan, dengan menganalisis kolom **Pendapatan** dan **Segmentasi Pendapatan**"
      ]
    },
    {
      "cell_type": "code",
      "execution_count": null,
      "metadata": {},
      "outputs": [],
      "source": [
        "# Grouping berdasarkan segmentasi pendapatan\n",
        "grpBySegment = cleanedTraining.groupby('segmentasi_pendapatan')['pendapatan'].mean()\n",
        "\n",
        "# Membulatkan hingga format puluhan juta\n",
        "grpBySegment = round(grpBySegment / 1000000, 1)\n"
      ]
    },
    {
      "cell_type": "markdown",
      "metadata": {},
      "source": [
        "Setelah mendapatkan nilai rata-rata pada setiap segmentasi, berikut adalah hasil visualisasi data beserta nilai aktualnya:"
      ]
    },
    {
      "cell_type": "code",
      "execution_count": null,
      "metadata": {},
      "outputs": [],
      "source": [
        "# Plotting bar chart vertikal\n",
        "plt.figure(figsize=(13, 6))\n",
        "bars = grpBySegment.plot(kind='bar', rot=0)\n",
        "plt.xlabel('Segmentasi Pendapatan')\n",
        "plt.ylabel('Pendapatan (Juta)')\n",
        "plt.title('Pendapatan Rata-rata Berdasarkan Segmentasi Pendapatan')\n",
        "plt.legend().remove()  # Menghapus legend\n",
        "\n",
        "# Menambahkan nilai aktual pada setiap bar\n",
        "for bar, nilai in zip(bars.patches, grpBySegment):\n",
        "    plt.text(bar.get_x() + bar.get_width() / 2, bar.get_height(),\n",
        "             f'{nilai} Juta',\n",
        "             ha='center', va='bottom')\n",
        "\n",
        "plt.show()"
      ]
    },
    {
      "cell_type": "markdown",
      "metadata": {},
      "source": [
        "Kesimpulan dari hasil analisis di atas, dapat disimpulkan bahwa rata-rata pendapatan tertinggi adalah lapisan segmentasi **Sangat Tinggi** dengan nilai **167 Juta**."
      ]
    },
    {
      "cell_type": "markdown",
      "metadata": {},
      "source": [
        "### Pertanyaan 6\n",
        "\n",
        "Pada sesi ini akan dilakukan proses analisis statistik pembelian pengguna berdasarkan pendapatan. Kolom yang dilakukan analisis yaitu Kolom **Segmentasi Pendapatan**, **Pendapatan**, kolom-kolom pembelanjaan, dan **Pembelian Diskon**."
      ]
    },
    {
      "cell_type": "code",
      "execution_count": null,
      "metadata": {},
      "outputs": [],
      "source": [
        "# Mengambil kolom-kolom yang digunakan\n",
        "# Data Training\n",
        "buyingDfTrain = cleanedTraining[['segmentasi_pendapatan','pendapatan', 'belanja_buah', \n",
        "                            'belanja_daging', 'belanja_ikan', 'belanja_kue', \n",
        "                            'pembelian_diskon']]\n",
        "# Data Testing\n",
        "buyingDfTesting = cleanedTesting[['segmentasi_pendapatan','pendapatan', 'belanja_buah', \n",
        "                            'belanja_daging', 'belanja_ikan', 'belanja_kue', \n",
        "                            'pembelian_diskon']]"
      ]
    },
    {
      "cell_type": "code",
      "execution_count": null,
      "metadata": {},
      "outputs": [],
      "source": [
        "# Mengambil angka kuartil setiap segmen pendapatan\n",
        "# Grouping berdasarkan segmentasi\n",
        "# Data Training\n",
        "grpBySegment = buyingDfTrain.groupby('segmentasi_pendapatan')['pendapatan']\n",
        "# Hitung angka kuartil\n",
        "quartiles = grpBySegment.quantile([0.25, 0.5, 1])\n",
        "# Mengubah menjadi dataframe\n",
        "quartilesDf = pd.DataFrame(round(quartiles))\n",
        "\n",
        "# Data Testing\n",
        "grpBySegmentTest = buyingDfTesting.groupby('segmentasi_pendapatan')['pendapatan']\n",
        "# Hitung angka kuartil\n",
        "quartilesTest = grpBySegmentTest.quantile([0.25, 0.5, 1])\n",
        "# Mengubah menjadi dataframe\n",
        "quartilesDfTest = pd.DataFrame(round(quartilesTest))\n",
        "\n",
        "quartilesDf"
      ]
    },
    {
      "cell_type": "markdown",
      "metadata": {},
      "source": [
        "Setelah mengetahui nilai di setiap kuartil segmentasi, maka selanjutnya membuat label untuk membuat sub segmentasi pada setiap kuartil yang ada. Hal ini bertujuan untuk mengetahui kebiasaan pengguna dalam berbelanja berdasarkan rentang pendapatannya."
      ]
    },
    {
      "cell_type": "code",
      "execution_count": null,
      "metadata": {},
      "outputs": [],
      "source": [
        "# Membuat sub-segmentasi berdasarkan kuartil per segmentasi pendapatan\n",
        "# Buat dictionary kuartil\n",
        "# Data Training\n",
        "quartilesDict = {\n",
        "    'Rendah': {'25%': quartilesDf.loc['Rendah', 0.25][0], '50%': quartilesDf.loc['Rendah', 0.50][0], '100%': quartilesDf.loc['Rendah', 1.0][0]},\n",
        "    'Sedang': {'25%': quartilesDf.loc['Sedang', 0.25][0], '50%': quartilesDf.loc['Sedang', 0.50][0], '100%': quartilesDf.loc['Sedang', 1.0][0]},\n",
        "    'Tinggi': {'25%': quartilesDf.loc['Tinggi', 0.25][0], '50%': quartilesDf.loc['Tinggi', 0.50][0], '100%': quartilesDf.loc['Tinggi', 1.0][0]},\n",
        "    'Sangat Tinggi': {'25%': quartilesDf.loc['Sangat Tinggi', 0.25][0], '50%': quartilesDf.loc['Sangat Tinggi', 0.50][0], \n",
        "                      '100%': quartilesDf.loc['Sangat Tinggi', 1.0][0]}\n",
        "}\n",
        "\n",
        "# Data Testing\n",
        "quartilesDictTest = {\n",
        "    'Rendah': {'25%': quartilesDfTest.loc['Rendah', 0.25][0], '50%': quartilesDfTest.loc['Rendah', 0.50][0], '100%': quartilesDfTest.loc['Rendah', 1.0][0]},\n",
        "    'Sedang': {'25%': quartilesDfTest.loc['Sedang', 0.25][0], '50%': quartilesDfTest.loc['Sedang', 0.50][0], '100%': quartilesDfTest.loc['Sedang', 1.0][0]},\n",
        "    'Tinggi': {'25%': quartilesDfTest.loc['Tinggi', 0.25][0], '50%': quartilesDfTest.loc['Tinggi', 0.50][0], '100%': quartilesDfTest.loc['Tinggi', 1.0][0]},\n",
        "    'Sangat Tinggi': {'25%': quartilesDfTest.loc['Sangat Tinggi', 0.25][0], '50%': quartilesDfTest.loc['Sangat Tinggi', 0.50][0], \n",
        "                      '100%': quartilesDfTest.loc['Sangat Tinggi', 1.0][0]}\n",
        "}\n",
        "# Buat fungsi transformasi sub-segmentasi\n",
        "def subSegment(row, dictionary):\n",
        "    if row['pendapatan'] <= dictionary[row['segmentasi_pendapatan']]['25%']:\n",
        "        return 'Bawah'\n",
        "    elif row['pendapatan'] > dictionary[row['segmentasi_pendapatan']]['25%'] and row['pendapatan'] <= dictionary[row['segmentasi_pendapatan']]['50%']:\n",
        "        return 'Menengah'\n",
        "    elif row['pendapatan'] > dictionary[row['segmentasi_pendapatan']]['50%'] and row['pendapatan'] <= dictionary[row['segmentasi_pendapatan']]['100%']:\n",
        "        return 'Atas'\n",
        "    else :\n",
        "        return 'Menengah'"
      ]
    },
    {
      "cell_type": "code",
      "execution_count": null,
      "metadata": {},
      "outputs": [],
      "source": [
        "# Aplikasikan fungsi ke dataframe\n",
        "# Data Training\n",
        "buyingDfTrain['sub_segmentasi'] = buyingDfTrain.apply(lambda row: subSegment(row, quartilesDict), axis=1)\n",
        "# Data Testing\n",
        "buyingDfTesting['sub_segmentasi'] = buyingDfTesting.apply(lambda row: subSegment(row, quartilesDictTest), axis=1)"
      ]
    },
    {
      "cell_type": "markdown",
      "metadata": {},
      "source": [
        "Setelah membuat sub segmentasi, maka selanjutnya adalah melihat hubungan sub segmentasi dengan belanja yang dilakukan."
      ]
    },
    {
      "cell_type": "code",
      "execution_count": null,
      "metadata": {},
      "outputs": [],
      "source": [
        "# Membuat list kolom belanja\n",
        "kolomBelanja = ['belanja_buah', 'belanja_daging', 'belanja_ikan', 'belanja_kue']\n",
        "\n",
        "# Membuat dictionary untuk menyimpan nilai mean dan std\n",
        "nilai_statistik = {}\n",
        "\n",
        "# Loop untuk setiap segmentasi pendapatan\n",
        "for segmen in buyingDfTrain['segmentasi_pendapatan'].unique():\n",
        "    # Loop untuk setiap sub-segmentasi\n",
        "    for subsegmen in buyingDfTrain['sub_segmentasi'].unique():\n",
        "        # Membuat kunci untuk dictionary\n",
        "        kunci = f\"{segmen}-{subsegmen}\"\n",
        "        \n",
        "        # Membuat kondisi untuk filtering data\n",
        "        kondisi = (buyingDfTrain['segmentasi_pendapatan'] == segmen) & (buyingDfTrain['sub_segmentasi'] == subsegmen)\n",
        "        \n",
        "        # Membuat dictionary untuk menyimpan nilai mean dan std dari setiap kolom belanja\n",
        "        nilai_statistik[kunci] = {}\n",
        "        for kolom in kolomBelanja:\n",
        "            # Menghitung mean dan std\n",
        "            mean = buyingDfTrain[kondisi][kolom].mean()\n",
        "            std = buyingDfTrain[kondisi][kolom].std()\n",
        "            # Menyimpan nilai mean dan std ke dalam dictionary\n",
        "            nilai_statistik[kunci][f\"mean_{kolom}\"] = mean\n",
        "            nilai_statistik[kunci][f\"std_{kolom}\"] = std\n"
      ]
    },
    {
      "cell_type": "code",
      "execution_count": null,
      "metadata": {},
      "outputs": [],
      "source": [
        "# Membuat list segmentasi pendapatan dan sub-segmentasi\n",
        "segmentasi_pendapatan = ['Rendah', 'Sedang', 'Tinggi', 'Sangat Tinggi']\n",
        "sub_segmentasi = ['Bawah', 'Menengah', 'Atas']\n",
        "\n",
        "# Buat Fungsi Plot \n",
        "def plotStats(data, colBuying, incomeSegment, subSegment, stats):\n",
        "    # Mengatur lebar bar\n",
        "    bar_width = 0.2\n",
        "\n",
        "    # Membuat posisi untuk setiap segmentasi pendapatan dan sub-segmentasi\n",
        "    index = np.arange(len(incomeSegment))\n",
        "    index_sub = [index - bar_width, index, index + bar_width]\n",
        "\n",
        "    # Membuat bar chart\n",
        "    plt.figure(figsize=(10, 6))\n",
        "\n",
        "    # Loop untuk setiap sub-segmentasi\n",
        "    for i, subsegmen in enumerate(subSegment):\n",
        "        # Membuat bar untuk setiap segmentasi pendapatan\n",
        "        plt.bar(index_sub[i], [data[f'{pendapatan}-{subsegmen}'][f'{stats}_{colBuying}'] for pendapatan in incomeSegment], \n",
        "                bar_width, label=subsegmen)\n",
        "\n",
        "    # Mengatur label pada sumbu x\n",
        "    plt.xticks(index, incomeSegment)\n",
        "\n",
        "    # Mengatur label pada sumbu y\n",
        "    plt.ylabel(stats)\n",
        "\n",
        "    if stats == 'mean':\n",
        "        statsTitle = 'Rata-Rata'\n",
        "    else:\n",
        "        statsTitle = 'Standar Deviasi'\n",
        "    # Menambahkan judul\n",
        "    plt.title(f'{statsTitle} {colBuying} Berdasarkan Segmentasi Pendapatan dan Sub-Segmentasi')\n",
        "\n",
        "    # Menambahkan legenda\n",
        "    plt.legend()\n",
        "\n",
        "    # Menampilkan plot\n",
        "    plt.show()"
      ]
    },
    {
      "cell_type": "markdown",
      "metadata": {},
      "source": [
        "Setelah mendapatkan setiap nilai statistik yang dibutuhkan yaitu standar deviasi dan rata-rata, untuk mengetahui pola datanya perlu dilakukan visualisasi data. Berikut adalah visualisasinya:"
      ]
    },
    {
      "cell_type": "markdown",
      "metadata": {},
      "source": [
        "1. Kolom Belanja Buah"
      ]
    },
    {
      "cell_type": "code",
      "execution_count": null,
      "metadata": {},
      "outputs": [],
      "source": [
        "# Kolom Belanja Buah (Mean)\n",
        "jenis_kolom_belanja = 'belanja_buah'\n",
        "jenis_statistik = 'mean'\n",
        "# Plot\n",
        "plotStats(nilai_statistik, jenis_kolom_belanja, segmentasi_pendapatan, sub_segmentasi, jenis_statistik)"
      ]
    },
    {
      "cell_type": "code",
      "execution_count": null,
      "metadata": {},
      "outputs": [],
      "source": [
        "# Kolom Belanja Buah (Std)\n",
        "jenis_kolom_belanja = 'belanja_buah'\n",
        "jenis_statistik = 'std'\n",
        "# Plot\n",
        "plotStats(nilai_statistik, jenis_kolom_belanja, segmentasi_pendapatan, sub_segmentasi, jenis_statistik)\n"
      ]
    },
    {
      "cell_type": "markdown",
      "metadata": {},
      "source": [
        "Dari hasil visualisasi data di atas, dapat ditarik kesimpulan bahwa pembelian paling dominan dilakukan pada segmentasi dan sub-segmentasi:\n",
        "- Segmentasi **Sangat Tinggi** sub-segmentasi **Bawah**.\n",
        "- Segmentasi **Tinggi** sub-segmentasi **Atas**\n",
        "- Segmentasi **Tinggi** sub-segmentasi **Bawah**\n",
        "- Segmentasi **Sangat Tinggi** sub-segmentasi **Atas**\n",
        "- Segmentasi **Sangat Tinggi** sub-segmentasi **Menengah**"
      ]
    },
    {
      "cell_type": "markdown",
      "metadata": {},
      "source": [
        "2. Kolom Belanja Daging"
      ]
    },
    {
      "cell_type": "code",
      "execution_count": null,
      "metadata": {},
      "outputs": [],
      "source": [
        "# Kolom Belanja Daging (Mean)\n",
        "jenis_kolom_belanja = 'belanja_daging'\n",
        "jenis_statistik = 'mean'\n",
        "# Plot\n",
        "plotStats(nilai_statistik, jenis_kolom_belanja, segmentasi_pendapatan, sub_segmentasi, jenis_statistik)\n"
      ]
    },
    {
      "cell_type": "code",
      "execution_count": null,
      "metadata": {},
      "outputs": [],
      "source": [
        "# Kolom Belanja Daging (Std)\n",
        "jenis_kolom_belanja = 'belanja_daging'\n",
        "jenis_statistik = 'std'\n",
        "# Plot\n",
        "plotStats(nilai_statistik, jenis_kolom_belanja, segmentasi_pendapatan, sub_segmentasi, jenis_statistik)\n"
      ]
    },
    {
      "cell_type": "markdown",
      "metadata": {},
      "source": [
        "Dari hasil visualisasi data di atas, dapat ditarik kesimpulan bahwa pembelian paling dominan dilakukan pada segmentasi dan sub-segmentasi:\n",
        "- Segmentasi **Sangat Tinggi** sub-segmentasi **Menengah**.\n",
        "- Segmentasi **Sangat Tinggi** sub-segmentasi **Atas**\n",
        "- Segmentasi **Tinggi** sub-segmentasi **Atas**\n",
        "- Segmentasi **Sangat Tinggi** sub-segmentasi **Bawah**\n",
        "- Segmentasi **Tinggi** sub-segmentasi **Bawah**"
      ]
    },
    {
      "cell_type": "markdown",
      "metadata": {},
      "source": [
        "3. Kolom Belanja Ikan"
      ]
    },
    {
      "cell_type": "code",
      "execution_count": null,
      "metadata": {},
      "outputs": [],
      "source": [
        "# Kolom Belanja Ikan (Mean)\n",
        "jenis_kolom_belanja = 'belanja_ikan'\n",
        "jenis_statistik = 'mean'\n",
        "# Plot\n",
        "plotStats(nilai_statistik, jenis_kolom_belanja, segmentasi_pendapatan, sub_segmentasi, jenis_statistik)\n"
      ]
    },
    {
      "cell_type": "code",
      "execution_count": null,
      "metadata": {},
      "outputs": [],
      "source": [
        "# Kolom Belanja Ikan (Std)\n",
        "jenis_kolom_belanja = 'belanja_ikan'\n",
        "jenis_statistik = 'std'\n",
        "# Plot\n",
        "plotStats(nilai_statistik, jenis_kolom_belanja, segmentasi_pendapatan, sub_segmentasi, jenis_statistik)\n"
      ]
    },
    {
      "cell_type": "markdown",
      "metadata": {},
      "source": [
        "Dari hasil visualisasi data di atas, dapat ditarik kesimpulan bahwa pembelian paling dominan dilakukan pada segmentasi dan sub-segmentasi:\n",
        "- Segmentasi **Sangat Tinggi** sub-segmentasi **Bawah**.\n",
        "- Segmentasi **Sangat Tinggi** sub-segmentasi **Atas**\n",
        "- Segmentasi **Tinggi** sub-segmentasi **Atas**\n",
        "- Segmentasi **Tinggi** sub-segmentasi **Bawah**\n",
        "- Segmentasi **Sangat Tinggi** sub-segmentasi **Menengah**"
      ]
    },
    {
      "cell_type": "markdown",
      "metadata": {},
      "source": [
        "4. Kolom Belanja Kue"
      ]
    },
    {
      "cell_type": "code",
      "execution_count": null,
      "metadata": {},
      "outputs": [],
      "source": [
        "# Kolom Belanja Kue (Mean)\n",
        "jenis_kolom_belanja = 'belanja_kue'\n",
        "jenis_statistik = 'mean'\n",
        "# Plot\n",
        "plotStats(nilai_statistik, jenis_kolom_belanja, segmentasi_pendapatan, sub_segmentasi, jenis_statistik)\n"
      ]
    },
    {
      "cell_type": "code",
      "execution_count": null,
      "metadata": {},
      "outputs": [],
      "source": [
        "# Kolom Belanja Kue (Std)\n",
        "jenis_kolom_belanja = 'belanja_kue'\n",
        "jenis_statistik = 'std'\n",
        "# Plot\n",
        "plotStats(nilai_statistik, jenis_kolom_belanja, segmentasi_pendapatan, sub_segmentasi, jenis_statistik)\n"
      ]
    },
    {
      "cell_type": "markdown",
      "metadata": {},
      "source": [
        "Dari hasil visualisasi data di atas, dapat ditarik kesimpulan bahwa pembelian paling dominan dilakukan pada segmentasi dan sub-segmentasi:\n",
        "- Segmentasi **Sangat Tinggi** sub-segmentasi **Atas**\n",
        "- Segmentasi **Sangat Tinggi** sub-segmentasi **Bawah**.\n",
        "- Segmentasi **Sangat Tinggi** sub-segmentasi **Menengah**\n",
        "- Segmentasi **Tinggi** sub-segmentasi **Atas**\n",
        "- Segmentasi **Tinggi** sub-segmentasi **Menengah**"
      ]
    },
    {
      "cell_type": "markdown",
      "metadata": {},
      "source": [
        "Dari analisis di atas dapat ditarik kesimpulan bahwa:\n",
        "\n",
        "- Rata-rata pengeluaran pengguna untuk berbelanja relatif terhadap pendapatan mereka, ditandai juga dengan standar deviasi yang tidak terlalu jauh. Maka variasi data yang ada tidak begitu menyebar. \n",
        "- Rata-rata pengeluaran terbanyak terdapat pada **sub-segmentasi Atas** disusul **sub-segmentasi Rendah** pada **segmentasi pendapatan Sangat Tinggi**. Dengan range pendapatan **165 - 245 Juta** dan **148 - 155 Juta**.\n",
        "- Terdapat segmentasi-segmentasi pendapatan yang memiliki potensi untuk berbelanja, dilihat dari standar deviasi yang menjanjikan. Berdasarkan urutan tertinggi yaitu:\n",
        "  1. Segmentasi pendapatan **Tinggi** dengan sub-segmentasi **Atas**. Pada range pendapatan **131 - 147 Juta**.\n",
        "  2. Segmentasi pendapatan **Tinggi** dengan sub-segmentasi **Bawah**. Pada range pendapatan **114 - 121 Juta**.\n",
        "  3. Setiap sub-segmentasi di segmentasi pendapatan **Sedang**.\n",
        "  \n",
        "  Pada golongan-golongan ini, perlu untuk dilakukan promosi lebih agar mendorong pengguna untuk melakukan perbelanjaan.\n",
        "\n",
        "- Pada segmentasi pendapatan **Rendah**, pengeluaran untuk belanja paling rendah. \n",
        "\n",
        "Selanjutnya adalah menganalisa pembelian dengan parameter diskon, untuk mengetahui bagaimana kebiasaan pengguna dalam berbelanja. Apakah ketika sedang diskon atau tidak, serta mengetahui segmentasi mana saja yang dominan berbelanja ketika sedang ada diskon."
      ]
    },
    {
      "cell_type": "code",
      "execution_count": null,
      "metadata": {},
      "outputs": [],
      "source": [
        "# Mengambil kolom yang relevan untuk dataframe baru\n",
        "buyOnDiscDf = buyingDfTrain[['segmentasi_pendapatan', 'sub_segmentasi', 'pembelian_diskon']]\n",
        "buyOnDiscDf.head()"
      ]
    },
    {
      "cell_type": "code",
      "execution_count": null,
      "metadata": {},
      "outputs": [],
      "source": [
        "nilaiDiskon = {}\n",
        "kolomDiskon = 'pembelian_diskon'\n",
        "# Loop untuk setiap segmentasi pendapatan\n",
        "for segmen in buyOnDiscDf['segmentasi_pendapatan'].unique():\n",
        "    # Loop untuk setiap sub-segmentasi\n",
        "    for subsegmen in buyOnDiscDf['sub_segmentasi'].unique():\n",
        "        # Membuat kunci untuk dictionary\n",
        "        kunci = f\"{segmen}-{subsegmen}\"\n",
        "        \n",
        "        # Membuat kondisi untuk filtering data\n",
        "        kondisi = (buyOnDiscDf['segmentasi_pendapatan'] == segmen) & (buyOnDiscDf['sub_segmentasi'] == subsegmen)\n",
        "        \n",
        "        # Membuat dictionary untuk menyimpan nilai mean dan std dari setiap kolom belanja\n",
        "        nilaiDiskon[kunci] = {}\n",
        "\n",
        "        # Menghitung mean dan std\n",
        "        mean = buyOnDiscDf[kondisi][kolomDiskon].mean()\n",
        "        std = buyOnDiscDf[kondisi][kolomDiskon].std()\n",
        "        # Menyimpan nilai mean dan std ke dalam dictionary\n",
        "        nilaiDiskon[kunci][f\"mean_{kolomDiskon}\"] = mean\n",
        "        nilaiDiskon[kunci][f\"std_{kolomDiskon}\"] = std"
      ]
    },
    {
      "cell_type": "markdown",
      "metadata": {},
      "source": [
        "Setelah mengambil nilai statistik (mean dan std) pada kolom **Pembelian Diskon** berdasarkan segmentasi dan sub-segmentasi pendapatan, selanjutnya melakukan visualisasi data."
      ]
    },
    {
      "cell_type": "code",
      "execution_count": null,
      "metadata": {},
      "outputs": [],
      "source": [
        "jenis_kolom_belanja = 'pembelian_diskon'\n",
        "jenis_statistik = 'mean'\n",
        "# Plot\n",
        "plotStats(nilaiDiskon, jenis_kolom_belanja, segmentasi_pendapatan, sub_segmentasi, jenis_statistik)"
      ]
    },
    {
      "cell_type": "code",
      "execution_count": null,
      "metadata": {},
      "outputs": [],
      "source": [
        "jenis_kolom_belanja = 'pembelian_diskon'\n",
        "jenis_statistik = 'std'\n",
        "# Plot\n",
        "plotStats(nilaiDiskon, jenis_kolom_belanja, segmentasi_pendapatan, sub_segmentasi, jenis_statistik)"
      ]
    },
    {
      "cell_type": "markdown",
      "metadata": {},
      "source": [
        "Dari hasil analisa pembelian berdasarkan diskon di atas, dapat disimpulkan bahwa:\n",
        "\n",
        "- Rata-rata pembelian ketika diskon terbanyak terdapat pada segmentasi pendapatan **Sedang** dengan sub-segmentasi **Bawah** dan **Atas** dengan range pendapatan **82 - 93 Juta** dan **101 - 114 Juta**.\n",
        "\n",
        "Terdapat beberapa segmentasi dan sub-segmentasi yang berpotensi berbelanja ketika diskon berurutan yaitu:\n",
        "\n",
        "- Segmentasi pendapatan **Tinggi** dengan sub-segmentasi **Menengah** dan **Bawah**, dengan range pendapatan **122 - 131 Juta** dan **114 - 121 Juta**.\n",
        "- Segmentasi pendapatan **Rendah** dengan sub-segmentasi **Bawah** dan **Atas**, dengan range pendapatan **5 - 46 Juta** dan **62 - 82 Juta**.\n",
        "\n",
        "Maka langkah selanjutnya yaitu memberikan promosi diskon dengan frekuensi dari yang tertinggi ke terendah berdasarkan urutan hasil analisis di atas. Yaitu dimulai dari rata-rata tertinggi, dilanjutkan dengan pengguna berpotensi. Serta jalur promosi yang paling diunggulkan, apakah secara luring atau daring."
      ]
    },
    {
      "cell_type": "markdown",
      "metadata": {},
      "source": [
        "### Pertanyaan 7\n",
        "\n",
        "Pada sesi ini akan dilakukan analisis **keluhan pengguna** ketika berbelanja dengan cara **daring (Pembelian Web)** maupun **luring (Pembelian Toko)**. Maka kolom yang digunakan adalah kolom **Segmentasi Pendapatan**, **Sub Segmentasi**, **Pembelian Web**, **Pembelian Toko**, dan **Keluhan**. "
      ]
    },
    {
      "cell_type": "code",
      "execution_count": null,
      "metadata": {},
      "outputs": [],
      "source": [
        "# Menggabungkan data buying dengan data cleaned training\n",
        "# Data Training\n",
        "cleanedTraining['sub_segmentasi'] = buyingDfTrain['sub_segmentasi']\n",
        "# Data Testing\n",
        "cleanedTesting['sub_segmentasi'] = buyingDfTesting['sub_segmentasi']\n",
        "\n",
        "# Mengambil kolom yang diperlukan\n",
        "worriedBuyDf = cleanedTraining[['segmentasi_pendapatan', 'sub_segmentasi', 'pembelian_web', 'pembelian_toko', 'keluhan']]\n",
        "worriedBuyDf.head()"
      ]
    },
    {
      "cell_type": "code",
      "execution_count": null,
      "metadata": {},
      "outputs": [],
      "source": [
        "# Mengambil data pengguna yang memiliki keluhan\n",
        "withWorryDf = worriedBuyDf[worriedBuyDf['keluhan'] == 1]\n",
        "# Mengambil data pengguna yang tidak memiliki keluhan\n",
        "withNoWorryDf = worriedBuyDf[worriedBuyDf['keluhan'] == 0]\n",
        "\n",
        "# Menampilkan banyak pengguna yang memiliki keluhan\n",
        "print('Banyak pengguna yang memiliki keluhan ketika berbelanja adalah sebanyak', withWorryDf.shape[0], 'pengguna.')\n",
        "# Menampilkan banyak pengguna yang tidak memiliki keluhan\n",
        "print('Banyak pengguna yang tidak memiliki keluhan ketika berbelanja adalah sebanyak', withNoWorryDf.shape[0] - withWorryDf.shape[0], 'pengguna.')\n"
      ]
    },
    {
      "cell_type": "code",
      "execution_count": null,
      "metadata": {},
      "outputs": [],
      "source": [
        "# Rata-rata pembelian dengan cara daring (web)\n",
        "meanWeb = withWorryDf.pembelian_web.mean()\n",
        "# Rata-rata pembelian dengan cara luring (toko)\n",
        "meanMarket = withWorryDf.pembelian_toko.mean()\n",
        "\n",
        "if meanWeb < meanMarket:\n",
        "    print('Keluhan ada pada saat pembelian di toko (luring)')\n",
        "else:\n",
        "    print('Keluhan ada pada saat pembelian di web (daring)')"
      ]
    },
    {
      "cell_type": "markdown",
      "metadata": {},
      "source": [
        "Dari hasil analisis di atas, dapat disimpulkan bahwa keluhan berada pada **Toko**. Pengguna yang memiliki keluhan cenderung berbelanja di **Web**. Selanjutnya adalah membandingkan dengan data pengguna yang tidak memiliki keluhan."
      ]
    },
    {
      "cell_type": "code",
      "execution_count": null,
      "metadata": {},
      "outputs": [],
      "source": [
        "# Rata-rata pembelian dengan cara daring (web)\n",
        "webNoWorry = withNoWorryDf.pembelian_web.mean()\n",
        "# Rata-rata pembelian dengan cara luring (toko)\n",
        "marketNoWorry = withNoWorryDf.pembelian_toko.mean()\n",
        "\n",
        "print('Pengguna Tanpa Keluhan')\n",
        "print('Pembelian Web:', round(webNoWorry))\n",
        "print('Pembelian Toko:', round(marketNoWorry))\n",
        "print()\n",
        "print('Pengguna Dengan Keluhan')\n",
        "print('Pembelian Web:', round(meanWeb))\n",
        "print('Pembelian Toko:', round(meanMarket))"
      ]
    },
    {
      "cell_type": "markdown",
      "metadata": {},
      "source": [
        "Dari hasil perbandingan di atas dapat disimpulkan bahwa **pembelian dengan toko terdapat masalah pada pengguna-pengguna tertentu**. Pengguna cenderung berbelanja di **Web** yang dinilai lebih efektif.\n",
        "\n",
        "Maka selanjutnya dapat menstrategikan untuk menggalakkan promosi baik dari segi diskon maupun barang **di Web** dengan proporsi lebih, daripada di **Toko**."
      ]
    },
    {
      "cell_type": "markdown",
      "metadata": {},
      "source": [
        "### Pertanyaan 8\n",
        "\n",
        "Pada sesi ini akan dilakukan analisis distribusi pendaftaran anggota pada setiap pengguna berdasarkan analisis statistik dan demografis yang sudah dilakukan. Kolom yang digunakan adalah kolom **Tanggal Menjadi Anggota**, **Rentang Usia**, **Segmentasi Pendapatan**, dan **Sub-Segmentasi Pendapatan**"
      ]
    },
    {
      "cell_type": "code",
      "execution_count": null,
      "metadata": {},
      "outputs": [],
      "source": [
        "# Ambil data dengan kolom yang digunakan\n",
        "memberDf = cleanedTraining[['segmentasi_pendapatan', 'sub_segmentasi', 'rentang_usia', 'tanggal_menjadi_anggota']]\n",
        "memberDf.head()"
      ]
    },
    {
      "cell_type": "code",
      "execution_count": null,
      "metadata": {},
      "outputs": [],
      "source": [
        "# Ambil data pengguna yang sudah menjadi member\n",
        "nowMemberDf = memberDf[memberDf['tanggal_menjadi_anggota'] != 'Unknown']\n",
        "nowMemberDf.head()"
      ]
    },
    {
      "cell_type": "code",
      "execution_count": null,
      "metadata": {},
      "outputs": [],
      "source": [
        "# Menampilkan rentang usia yang menjadi anggota\n",
        "print('Rentang-rentang usia anggota:', ', '.join(nowMemberDf.rentang_usia.unique()))\n",
        "\n",
        "# Menampilkan segmentasi dan sub-segmentasi yang ada\n",
        "print('Dengan daftar segmentasi dan sub-segmentasi pendapatan sebagai berikut:\\n')\n",
        "for segmen in nowMemberDf.segmentasi_pendapatan.unique():\n",
        "    for sub in nowMemberDf.sub_segmentasi.unique():\n",
        "        print(f'{segmen}-{sub}')\n",
        "    print()"
      ]
    },
    {
      "cell_type": "markdown",
      "metadata": {},
      "source": [
        "Sebab lapisan segmentasi yang ada cukup luas dan mencakup keseluruhan, maka analisis akan dipersempit pada segmentasi pendapatan dan rentang usia saja."
      ]
    },
    {
      "cell_type": "code",
      "execution_count": null,
      "metadata": {},
      "outputs": [],
      "source": [
        "# Membuat subplot dengan format 1 baris 2 kolom\n",
        "plt.figure(figsize=(15, 6))\n",
        "\n",
        "# Plotting pie chart untuk segmentasi pendapatan\n",
        "plt.subplot(1, 2, 1)\n",
        "countSegment = nowMemberDf['segmentasi_pendapatan'].value_counts()\n",
        "labels = countSegment.index\n",
        "sizes = countSegment.values\n",
        "plt.pie(sizes, labels=labels, autopct='%1.1f%%', startangle=140)\n",
        "plt.axis('equal')\n",
        "plt.title('Rasio Anggota berdasarkan Segmentasi Pendapatan Pengguna')\n",
        "\n",
        "# Plotting bar chart untuk rentang usia\n",
        "plt.subplot(1, 2, 2)\n",
        "countAge = nowMemberDf['rentang_usia'].value_counts()\n",
        "rot = 0\n",
        "countAge.plot(kind='bar', title='Jumlah Kolom', rot=rot)\n",
        "\n",
        "# Mengubah judul sumbu x dan y\n",
        "plt.xlabel('Rentang Usia')  # Judul sumbu x\n",
        "plt.ylabel('Jumlah Data')  # Judul sumbu y\n",
        "plt.title('Jumlah Anggota berdasarkan Rentang Usia')  # Judul plot\n",
        "\n",
        "# Menampilkan plot\n",
        "plt.tight_layout()\n",
        "plt.show()\n"
      ]
    },
    {
      "cell_type": "markdown",
      "metadata": {},
      "source": [
        "Dari hasil visualisasi rasio keanggotaan berdasarkan segmentasi pendapatan di atas, dapat disimpulkan bahwa mayoritas pengguna yang sudah menjadi anggota adalah pengguna dengan rentang usia **Dewasa** dan dengan segmentasi pendapatan **Rendah**. Yang notabene rentang usia **Dewasa** sudah berpenghasilan.\n",
        "\n",
        "Hal ini berhubungan dengan adanya keuntungan lebih ketika menjadi anggota, yaitu seperti mendapatkan diskon dan lain-lain."
      ]
    },
    {
      "cell_type": "markdown",
      "metadata": {},
      "source": [
        "### Pertanyaan 9\n",
        "\n"
      ]
    },
    {
      "cell_type": "code",
      "execution_count": null,
      "metadata": {},
      "outputs": [],
      "source": [
        "# Membuat list kolom belanja\n",
        "kolomBelanja = ['belanja_buah', 'belanja_daging', 'belanja_ikan', 'belanja_kue']\n",
        "\n",
        "# Membuat dictionary untuk menyimpan nilai mean dan std\n",
        "nilai_statistik = {}\n",
        "\n",
        "# Loop untuk setiap segmentasi pendapatan\n",
        "for status in cleanedTraining['status_pernikahan'].unique():\n",
        "    # Loop untuk setiap sub-segmentasi\n",
        "    for child in cleanedTraining['memiliki_anak'].unique():\n",
        "        # Membuat kunci untuk dictionary\n",
        "        kunci = f\"{status}-{child}\"\n",
        "        \n",
        "        # Membuat kondisi untuk filtering data\n",
        "        kondisi = (cleanedTraining['status_pernikahan'] == status) & (cleanedTraining['memiliki_anak'] == child)\n",
        "        \n",
        "        # Membuat dictionary untuk menyimpan nilai mean dan std dari setiap kolom belanja\n",
        "        nilai_statistik[kunci] = {}\n",
        "        for kolom in kolomBelanja:\n",
        "            # Menghitung mean dan std\n",
        "            mean = buyingDfTrain[kondisi][kolom].mean()\n",
        "            std = buyingDfTrain[kondisi][kolom].std()\n",
        "            # Menyimpan nilai mean dan std ke dalam dictionary\n",
        "            nilai_statistik[kunci][f\"mean_{kolom}\"] = mean\n",
        "            nilai_statistik[kunci][f\"std_{kolom}\"] = std"
      ]
    },
    {
      "cell_type": "markdown",
      "metadata": {},
      "source": [
        "**1. Belanja Buah**"
      ]
    },
    {
      "cell_type": "code",
      "execution_count": null,
      "metadata": {},
      "outputs": [],
      "source": [
        "# Membuat list status pernikahan dan memiliki anak\n",
        "status_pernikahan = cleanedTraining['status_pernikahan'].unique().tolist()\n",
        "memiliki_anak = ['Memiliki', 'Tidak Memiliki']\n",
        "\n",
        "jenis_kolom_belanja = 'belanja_buah'\n",
        "jenis_statistik = 'mean'\n",
        "\n",
        "# Plot\n",
        "plotStats(nilai_statistik, jenis_kolom_belanja, status_pernikahan, memiliki_anak, jenis_statistik)"
      ]
    },
    {
      "cell_type": "code",
      "execution_count": null,
      "metadata": {},
      "outputs": [],
      "source": [
        "jenis_kolom_belanja = 'belanja_buah'\n",
        "jenis_statistik = 'std'\n",
        "\n",
        "# Plot\n",
        "plotStats(nilai_statistik, jenis_kolom_belanja, status_pernikahan, memiliki_anak, jenis_statistik)"
      ]
    },
    {
      "cell_type": "markdown",
      "metadata": {},
      "source": [
        "**2. Belanja Daging**"
      ]
    },
    {
      "cell_type": "code",
      "execution_count": null,
      "metadata": {},
      "outputs": [],
      "source": [
        "jenis_kolom_belanja = 'belanja_daging'\n",
        "jenis_statistik = 'mean'\n",
        "\n",
        "# Plot\n",
        "plotStats(nilai_statistik, jenis_kolom_belanja, status_pernikahan, memiliki_anak, jenis_statistik)"
      ]
    },
    {
      "cell_type": "code",
      "execution_count": null,
      "metadata": {},
      "outputs": [],
      "source": [
        "jenis_kolom_belanja = 'belanja_daging'\n",
        "jenis_statistik = 'std'\n",
        "\n",
        "# Plot\n",
        "plotStats(nilai_statistik, jenis_kolom_belanja, status_pernikahan, memiliki_anak, jenis_statistik)"
      ]
    },
    {
      "cell_type": "markdown",
      "metadata": {},
      "source": [
        "**3. Belanja Ikan**"
      ]
    },
    {
      "cell_type": "code",
      "execution_count": null,
      "metadata": {},
      "outputs": [],
      "source": [
        "jenis_kolom_belanja = 'belanja_ikan'\n",
        "jenis_statistik = 'mean'\n",
        "\n",
        "# Plot\n",
        "plotStats(nilai_statistik, jenis_kolom_belanja, status_pernikahan, memiliki_anak, jenis_statistik)"
      ]
    },
    {
      "cell_type": "code",
      "execution_count": null,
      "metadata": {},
      "outputs": [],
      "source": [
        "jenis_kolom_belanja = 'belanja_ikan'\n",
        "jenis_statistik = 'std'\n",
        "\n",
        "# Plot\n",
        "plotStats(nilai_statistik, jenis_kolom_belanja, status_pernikahan, memiliki_anak, jenis_statistik)"
      ]
    },
    {
      "cell_type": "markdown",
      "metadata": {},
      "source": [
        "**4. Belanja Kue**"
      ]
    },
    {
      "cell_type": "code",
      "execution_count": null,
      "metadata": {},
      "outputs": [],
      "source": [
        "jenis_kolom_belanja = 'belanja_kue'\n",
        "jenis_statistik = 'mean'\n",
        "\n",
        "# Plot\n",
        "plotStats(nilai_statistik, jenis_kolom_belanja, status_pernikahan, memiliki_anak, jenis_statistik)"
      ]
    },
    {
      "cell_type": "code",
      "execution_count": null,
      "metadata": {},
      "outputs": [],
      "source": [
        "jenis_kolom_belanja = 'belanja_kue'\n",
        "jenis_statistik = 'std'\n",
        "\n",
        "# Plot\n",
        "plotStats(nilai_statistik, jenis_kolom_belanja, status_pernikahan, memiliki_anak, jenis_statistik)"
      ]
    },
    {
      "cell_type": "markdown",
      "metadata": {},
      "source": [
        "Dari hasil analisis di atas, terdapat potensi penjualan terhadap pembelian pelanggan yang **Tidak Memiliki Anak**. Dengan rincian sebagai berikut:\n",
        "\n",
        "- Pembelian **Belanja Buah**, dominan kategori status pernikahan secara berurutan yaitu **Menikah** dan **Cerai**.\n",
        "- Pembelian **Belanja Daging**, dominan kategori status pernikahan secara berurutan yaitu **Cerai Mati** dan **Rencana Menikah**.\n",
        "- Pembelian **Belanja Ikan**, sedikit berbeda karena perbedaan nilai mean dan std yang cukup signifikan, maka dominan kategori status pernikahan secara berurutan yaitu **Rencana Menikah** dan **Sendiri**. Karena pertimbangan nilai std yang lebih seimbang.\n",
        "- Pembelian **Belanja Kue**, dominan kategori status pernikahan secara berurutan yaitu **Sendiri** dan **Cerai**.\n",
        "\n",
        "Selanjutnya dapat dilakukan promosi lebih pada kategori-kategori di atas, pada setiap kategori belanja yang ada."
      ]
    },
    {
      "cell_type": "markdown",
      "metadata": {},
      "source": [
        "## Feature Extraction\n",
        "\n",
        "Sesi ini dilakukan analisis hubungan nilai statistik dan demografis pengguna dengan banyak promosi yang sudah dilakukan sebelumnya. Tujuan dari analisis ini adalah untuk memberikan *insight* agar promosi yang dilakukan selanjutnya dapat dilaksanakan secara maksimal. Pada sesi ini diperlukan proses-proses yang dilakukan yaitu **Ekstraksi Fitur** untuk memaksimalkan fitur-fitur yang digunakan ke dalam model. \n"
      ]
    },
    {
      "cell_type": "code",
      "execution_count": null,
      "metadata": {},
      "outputs": [],
      "source": [
        "cleanedTraining.info()"
      ]
    },
    {
      "cell_type": "markdown",
      "metadata": {},
      "source": [
        "Dari setiap kolom yang ditampilkan, dan hasil dari analisis dari pertanyaan-pertanyaan sebelumnya. Maka pada sesi ini akan menjelaskan menggunakan analisis statistik deskriptif untuk membuat strategi dalam memaksimalkan data, yang nantinya akan dilakukan proses prediksi.\n",
        "\n",
        "Disini kami menggunakan beberapa variabel untuk melakukan iterasi dalam melakukan analisis, yaitu:\n",
        "\n",
        "1. Segmentasi Pendapatan\n",
        "2. Kepemilikan Anak\n",
        "3. Rentang Usia\n",
        "4. Keluhan\n",
        "5. Tanggal Menjadi Anggota\n",
        "\n",
        "Serta variabel target sebagai berikut:\n",
        "\n",
        "1. Belanja (Buah, Daging, Ikan, dan Kue)\n",
        "2. Pembelian Diskon\n",
        "3. Platform Pembelian (Web dan Toko)"
      ]
    },
    {
      "cell_type": "markdown",
      "metadata": {},
      "source": [
        "### Pendapatan dengan Belanja"
      ]
    },
    {
      "cell_type": "code",
      "execution_count": null,
      "metadata": {},
      "outputs": [],
      "source": [
        "def stuffPromote(df):\n",
        "    # Looping tiap baris data\n",
        "    for index, row in df.iterrows():\n",
        "        # Kondisi tiap kolom belanja\n",
        "        if row['segmentasi_pendapatan'] == 'Sangat Tinggi' and row['sub_segmentasi'] == 'Bawah':\n",
        "            # Belanja Buah\n",
        "            df.at[index, 'promosi_buah'] = 5\n",
        "            # Belanja Daging\n",
        "            df.at[index, 'promosi_daging'] = 2\n",
        "            # Belanja Ikan\n",
        "            df.at[index, 'promosi_ikan'] = 5\n",
        "            # Belanja Kue\n",
        "            df.at[index, 'promosi_kue'] = 4\n",
        "        elif row['segmentasi_pendapatan'] == 'Tinggi' and row['sub_segmentasi'] == 'Atas':\n",
        "            # Belanja Buah\n",
        "            df.at[index, 'promosi_buah'] = 4\n",
        "            # Belanja Daging\n",
        "            df.at[index, 'promosi_daging'] = 3\n",
        "            # Belanja Ikan\n",
        "            df.at[index, 'promosi_ikan'] = 3\n",
        "            # Belanja Kue\n",
        "            df.at[index, 'promosi_kue'] = 2\n",
        "        elif row['segmentasi_pendapatan'] == 'Tinggi' and row['sub_segmentasi'] == 'Bawah':\n",
        "            # Belanja Buah\n",
        "            df.at[index, 'promosi_buah'] = 3\n",
        "            # Belanja Daging\n",
        "            df.at[index, 'promosi_daging'] = 1\n",
        "            # Belanja Ikan\n",
        "            df.at[index, 'promosi_ikan'] = 2\n",
        "            # Belanja Kue\n",
        "            df.at[index, 'promosi_kue'] = 0\n",
        "        elif row['segmentasi_pendapatan'] == 'Sangat Tinggi' and row['sub_segmentasi'] == 'Atas':\n",
        "            # Belanja Buah\n",
        "            df.at[index, 'promosi_buah'] = 2\n",
        "            # Belanja Daging\n",
        "            df.at[index, 'promosi_ikan'] = 4\n",
        "            # Belanja Ikan\n",
        "            df.at[index, 'promosi_daging'] = 4\n",
        "            # Belanja Kue\n",
        "            df.at[index, 'promosi_kue'] = 5\n",
        "        elif row['segmentasi_pendapatan'] == 'Sangat Tinggi' and row['sub_segmentasi'] == 'Menengah':\n",
        "            # Belanja Buah\n",
        "            df.at[index, 'promosi_buah'] = 1\n",
        "            # Belanja Daging\n",
        "            df.at[index, 'promosi_daging'] = 5\n",
        "            # Belanja Ikan\n",
        "            df.at[index, 'promosi_ikan'] = 1\n",
        "            # Belanja Kue\n",
        "            df.at[index, 'promosi_kue'] = 3\n",
        "        elif row['segmentasi_pendapatan'] == 'Tinggi' and row['sub_segmentasi'] == 'Menengah':\n",
        "            # Belanja Buah\n",
        "            df.at[index, 'promosi_buah'] = 0\n",
        "            # Belanja Daging\n",
        "            df.at[index, 'promosi_daging'] = 0\n",
        "            # Belanja Ikan\n",
        "            df.at[index, 'promosi_ikan'] = 0\n",
        "            # Belanja Kue\n",
        "            df.at[index, 'promosi_kue'] = 1\n",
        "        else:\n",
        "            # Belanja Buah\n",
        "            df.at[index, 'promosi_buah'] = 0\n",
        "            # Belanja Daging\n",
        "            df.at[index, 'promosi_daging'] = 0\n",
        "            # Belanja Ikan\n",
        "            df.at[index, 'promosi_ikan'] = 0\n",
        "            # Belanja Kue\n",
        "            df.at[index, 'promosi_kue'] = 0"
      ]
    },
    {
      "cell_type": "code",
      "execution_count": null,
      "metadata": {},
      "outputs": [],
      "source": [
        "# Data Training\n",
        "stuffPromote(cleanedTraining)\n",
        "# Data Testing\n",
        "stuffPromote(cleanedTesting)"
      ]
    },
    {
      "cell_type": "markdown",
      "metadata": {},
      "source": [
        "### Keluhan"
      ]
    },
    {
      "cell_type": "code",
      "execution_count": null,
      "metadata": {},
      "outputs": [],
      "source": [
        "def complaints(df):\n",
        "    # Looping tiap baris data\n",
        "    for index, row in df.iterrows():\n",
        "        # Cek keluhan\n",
        "        if row['keluhan'] == 1:\n",
        "            if row['pembelian_toko'] > row['pembelian_web']:\n",
        "                df.at[index, 'prior_platform_promosi'] = 0\n",
        "            else:\n",
        "                df.at[index, 'prior_platform_promosi'] = 1\n",
        "        else:\n",
        "            df.at[index, 'prior_platform_promosi'] = 1"
      ]
    },
    {
      "cell_type": "code",
      "execution_count": null,
      "metadata": {},
      "outputs": [],
      "source": [
        "# Data Training\n",
        "complaints(cleanedTraining)\n",
        "# Data Testing\n",
        "complaints(cleanedTesting)"
      ]
    },
    {
      "cell_type": "markdown",
      "metadata": {},
      "source": [
        "### Kepemilikan Anak"
      ]
    },
    {
      "cell_type": "code",
      "execution_count": null,
      "metadata": {},
      "outputs": [],
      "source": [
        "# List kolom promosi\n",
        "kolomPromosi = ['promosi_buah', 'promosi_daging', 'promosi_ikan', 'promosi_kue']\n",
        "\n",
        "def marriedAndChild(df):\n",
        "    # Looping tiap baris data\n",
        "    for index, row in df.iterrows():\n",
        "        # Cek apakah memiliki anak\n",
        "        if row['memiliki_anak'] == 'Tidak Memiliki':\n",
        "            # Looping isi list kolom promosi\n",
        "            for col in kolomPromosi:\n",
        "                if row['status_pernikahan'] == 'Menikah' and col == 'promosi_buah':\n",
        "                    df.at[index, col] += 1\n",
        "                elif row['status_pernikahan'] == 'Cerai' and col == 'promosi_buah':\n",
        "                    df.at[index, col] += 0.5\n",
        "                elif row['status_pernikahan'] == 'Cerai Mati' and col == 'promosi_daging':\n",
        "                    df.at[index, col] += 1\n",
        "                elif row['status_pernikahan'] == 'Rencana Menikah' and col == 'promosi_daging':\n",
        "                    df.at[index, col] += 0.5\n",
        "                elif row['status_pernikahan'] == 'Rencana Menikah' and col == 'promosi_ikan':\n",
        "                    df.at[index, col] += 1\n",
        "                elif row['status_pernikahan'] == 'Sendiri' and col == 'promosi_ikan':\n",
        "                    df.at[index, col] += 0.5\n",
        "                if row['status_pernikahan'] == 'Sendiri' and col == 'promosi_ikan':\n",
        "                    df.at[index, col] += 1\n",
        "                elif row['status_pernikahan'] == 'Cerai' and col == 'promosi_ikan':\n",
        "                    df.at[index, col] += 0.5\n",
        "                else:\n",
        "                    df.at[index, col] += 0"
      ]
    },
    {
      "cell_type": "code",
      "execution_count": null,
      "metadata": {},
      "outputs": [],
      "source": [
        "# Data Training\n",
        "marriedAndChild(cleanedTraining)\n",
        "# Data Testing\n",
        "marriedAndChild(cleanedTesting)"
      ]
    },
    {
      "cell_type": "markdown",
      "metadata": {},
      "source": [
        "# Data Preparation"
      ]
    },
    {
      "cell_type": "code",
      "execution_count": null,
      "metadata": {},
      "outputs": [],
      "source": [
        "nonNumeric = cleanedTraining.select_dtypes(exclude=['number']).columns\n",
        "print(nonNumeric)"
      ]
    },
    {
      "cell_type": "code",
      "execution_count": null,
      "metadata": {},
      "outputs": [],
      "source": [
        "cleanedTraining['pendidikan'].unique()"
      ]
    },
    {
      "cell_type": "code",
      "execution_count": null,
      "metadata": {},
      "outputs": [],
      "source": [
        "def transformPernikahan(row):\n",
        "    if row['pendidikan'] == \"Sarjana\" :\n",
        "        return 0\n",
        "    elif row['pendidikan'] == \"Magister\" :\n",
        "        return 1\n",
        "    elif row['pendidikan'] == \"SMA\" :\n",
        "        return 2\n",
        "    elif row['pendidikan'] == \"SMP\" :\n",
        "        return 3\n",
        "    elif row['pendidikan'] == \"Doktor\" :\n",
        "        return 4\n",
        "\n",
        "cleanedTraining['pendidikan'] = cleanedTraining.apply(transformPernikahan, axis=1).astype(int)"
      ]
    },
    {
      "cell_type": "code",
      "execution_count": null,
      "metadata": {},
      "outputs": [],
      "source": [
        "cleanedTraining['status_pernikahan'].unique()"
      ]
    },
    {
      "cell_type": "code",
      "execution_count": null,
      "metadata": {},
      "outputs": [],
      "source": [
        "def transformPernikahan(row):\n",
        "    if row['status_pernikahan'] == \"Rencana Menikah\" :\n",
        "        return 0\n",
        "    elif row['status_pernikahan'] == \"Menikah\" :\n",
        "        return 1\n",
        "    elif row['status_pernikahan'] == \"Sendiri\" :\n",
        "        return 2\n",
        "    elif row['status_pernikahan'] == \"Cerai\" :\n",
        "        return 3\n",
        "    elif row['status_pernikahan'] == \"Cerai Mati\" :\n",
        "        return 4\n",
        "\n",
        "cleanedTraining['status_pernikahan'] = cleanedTraining.apply(transformPernikahan, axis=1).astype(int)"
      ]
    },
    {
      "cell_type": "code",
      "execution_count": null,
      "metadata": {},
      "outputs": [],
      "source": [
        "def transformKeanggotaan(value):\n",
        "    if value == 'Unknown':\n",
        "        return 0\n",
        "    else:\n",
        "        return 1\n",
        "\n",
        "cleanedTraining['tanggal_menjadi_anggota'] = cleanedTraining['tanggal_menjadi_anggota'].apply(transformKeanggotaan).astype(int)\n"
      ]
    },
    {
      "cell_type": "code",
      "execution_count": null,
      "metadata": {},
      "outputs": [],
      "source": [
        "cleanedTraining.sample(3)"
      ]
    },
    {
      "cell_type": "code",
      "execution_count": null,
      "metadata": {},
      "outputs": [],
      "source": [
        "cleanedTraining['segmentasi_pendapatan'].unique()"
      ]
    },
    {
      "cell_type": "code",
      "execution_count": null,
      "metadata": {},
      "outputs": [],
      "source": [
        "def transformSegementasi(row):\n",
        "    if row['segmentasi_pendapatan'] == \"Rendah\" :\n",
        "        return 0\n",
        "    elif row['segmentasi_pendapatan'] == \"Sedang\" :\n",
        "        return 1\n",
        "    elif row['segmentasi_pendapatan'] == \"Tinggi\" :\n",
        "        return 2\n",
        "    elif row['segmentasi_pendapatan'] == \"Sangat Tinggi\" :\n",
        "        return 3\n",
        "\n",
        "cleanedTraining['segmentasi_pendapatan'] = cleanedTraining.apply(transformSegementasi, axis=1).astype(int)"
      ]
    },
    {
      "cell_type": "code",
      "execution_count": null,
      "metadata": {},
      "outputs": [],
      "source": [
        "cleanedTraining['rentang_usia'].unique()"
      ]
    },
    {
      "cell_type": "code",
      "execution_count": null,
      "metadata": {},
      "outputs": [],
      "source": [
        "def transformUsia(row):\n",
        "    if row['rentang_usia'] == \"Remaja\" :\n",
        "        return 0\n",
        "    elif row['rentang_usia'] == \"Dewasa\" :\n",
        "        return 1\n",
        "    elif row['rentang_usia'] == \"Lanjut Usia\" :\n",
        "        return 2\n",
        "\n",
        "cleanedTraining['rentang_usia'] = cleanedTraining.apply(transformUsia, axis=1).astype(int)"
      ]
    },
    {
      "cell_type": "code",
      "execution_count": null,
      "metadata": {},
      "outputs": [],
      "source": [
        "cleanedTraining['memiliki_anak'].unique()"
      ]
    },
    {
      "cell_type": "code",
      "execution_count": null,
      "metadata": {},
      "outputs": [],
      "source": [
        "def transformAnak(value):\n",
        "    if value == 'Tidak Memiliki':\n",
        "        return 0\n",
        "    else:\n",
        "        return 1\n",
        "\n",
        "cleanedTraining['memiliki_anak'] = cleanedTraining['memiliki_anak'].apply(transformAnak).astype(int)\n"
      ]
    },
    {
      "cell_type": "code",
      "execution_count": null,
      "metadata": {},
      "outputs": [],
      "source": [
        "cleanedTraining['sub_segmentasi'].unique()"
      ]
    },
    {
      "cell_type": "code",
      "execution_count": null,
      "metadata": {},
      "outputs": [],
      "source": [
        "def transformSubsegmen(row):\n",
        "    if row['sub_segmentasi'] == \"Bawah\" :\n",
        "        return 0\n",
        "    elif row['sub_segmentasi'] == \"Menengah\" :\n",
        "        return 1\n",
        "    elif row['sub_segmentasi'] == \"Atas\" :\n",
        "        return 2\n",
        "\n",
        "cleanedTraining['sub_segmentasi'] = cleanedTraining.apply(transformSubsegmen, axis=1).astype(int)"
      ]
    },
    {
      "cell_type": "markdown",
      "metadata": {},
      "source": [
        "# Skenario tambahan untuk Data Test"
      ]
    },
    {
      "cell_type": "markdown",
      "metadata": {},
      "source": [
        "### Cek Null"
      ]
    },
    {
      "cell_type": "code",
      "execution_count": null,
      "metadata": {},
      "outputs": [],
      "source": [
        "cleanedTesting.head()"
      ]
    },
    {
      "cell_type": "code",
      "execution_count": null,
      "metadata": {},
      "outputs": [],
      "source": [
        "cleanedTesting.shape"
      ]
    },
    {
      "cell_type": "code",
      "execution_count": null,
      "metadata": {},
      "outputs": [],
      "source": [
        "cleanedTesting.info()"
      ]
    },
    {
      "cell_type": "code",
      "execution_count": null,
      "metadata": {},
      "outputs": [],
      "source": [
        "cleanedTesting.describe()"
      ]
    },
    {
      "cell_type": "code",
      "execution_count": null,
      "metadata": {},
      "outputs": [],
      "source": [
        "cleanedTesting.isnull().sum()"
      ]
    },
    {
      "cell_type": "code",
      "execution_count": null,
      "metadata": {},
      "outputs": [],
      "source": [
        "nonNumeric = cleanedTesting.select_dtypes(exclude=['number']).columns\n",
        "print(nonNumeric)"
      ]
    },
    {
      "cell_type": "code",
      "execution_count": null,
      "metadata": {},
      "outputs": [],
      "source": [
        "cleanedTesting['pendidikan'] = cleanedTesting.apply(transformPernikahan, axis=1).astype(int)\n",
        "cleanedTesting['status_pernikahan'] = cleanedTesting.apply(transformPernikahan, axis=1).astype(int)\n",
        "cleanedTesting['tanggal_menjadi_anggota'] = cleanedTesting['tanggal_menjadi_anggota'].apply(transformKeanggotaan).astype(int)\n",
        "cleanedTesting['segmentasi_pendapatan'] = cleanedTesting.apply(transformSegementasi, axis=1).astype(int)\n",
        "cleanedTesting['rentang_usia'] = cleanedTesting.apply(transformUsia, axis=1).astype(int)\n",
        "cleanedTesting['memiliki_anak'] = cleanedTesting['memiliki_anak'].apply(transformAnak).astype(int)\n",
        "cleanedTesting['sub_segmentasi'] = cleanedTesting.apply(transformSubsegmen, axis=1).astype(int)"
      ]
    },
    {
      "cell_type": "code",
      "execution_count": null,
      "metadata": {},
      "outputs": [],
      "source": [
        "cleanedTesting['is_train'] = False\n",
        "cleanedTraining['is_train'] = True"
      ]
    },
    {
      "cell_type": "code",
      "execution_count": null,
      "metadata": {},
      "outputs": [],
      "source": [
        "penanda1 = cleanedTraining['is_train']\n",
        "penanda2 = cleanedTesting['is_train']\n",
        "penanda3 = cleanedTesting['ID']\n",
        "cleanedTraining.drop(columns=['is_train'], inplace=True)\n",
        "cleanedTesting.drop(columns=['is_train'], inplace=True)\n",
        "cleanedTesting.drop(columns=['ID'], inplace=True)"
      ]
    },
    {
      "cell_type": "code",
      "execution_count": null,
      "metadata": {},
      "outputs": [],
      "source": [
        "cleanedTesting['jumlah_promosi'] = pd.Series(dtype=int)"
      ]
    },
    {
      "cell_type": "code",
      "execution_count": null,
      "metadata": {},
      "outputs": [],
      "source": [
        "cleanedTraining['jumlah_promosi'].unique()"
      ]
    },
    {
      "cell_type": "code",
      "execution_count": null,
      "metadata": {},
      "outputs": [],
      "source": [
        "from sklearn.ensemble import RandomForestClassifier\n",
        "from sklearn.model_selection import train_test_split\n",
        "from sklearn.preprocessing import LabelEncoder, StandardScaler\n",
        "from sklearn.metrics import accuracy_score\n",
        "from sklearn.metrics import precision_recall_fscore_support"
      ]
    },
    {
      "cell_type": "code",
      "execution_count": null,
      "metadata": {},
      "outputs": [],
      "source": [
        "X_train = cleanedTraining.drop(columns=['jumlah_promosi'])\n",
        "y_train = cleanedTraining['jumlah_promosi']\n",
        "X_test = cleanedTesting.drop(columns=['jumlah_promosi'])\n",
        "\n",
        "# Encode categorical data\n",
        "label_encoder = LabelEncoder()\n",
        "X_train_encoded = X_train.copy()\n",
        "X_test_encoded = X_test.copy()\n",
        "categorical_cols = ['pendidikan', 'status_pernikahan', 'keluhan', 'tanggal_menjadi_anggota', 'segmentasi_pendapatan', 'rentang_usia', 'memiliki_anak', 'sub_segmentasi', 'promosi_buah', 'promosi_daging', 'promosi_ikan', 'promosi_kue', 'prior_platform_promosi']\n",
        "for col in categorical_cols:\n",
        "    X_train_encoded[col] = label_encoder.fit_transform(X_train[col])\n",
        "    X_test_encoded[col] = label_encoder.transform(X_test[col])\n",
        "\n",
        "# normalisasi datanya\n",
        "scaler = StandardScaler()\n",
        "X_train_scaled = scaler.fit_transform(X_train_encoded)\n",
        "X_test_scaled = scaler.transform(X_test_encoded)\n",
        "\n",
        "#nilai asli\n",
        "y_true = y_train.copy()\n",
        "\n",
        "# Train model\n",
        "model = RandomForestClassifier()\n",
        "model.fit(X_train_scaled, y_train)\n",
        "\n",
        "# Prediksi ke data testing\n",
        "y_pred = model.predict(X_test_scaled)"
      ]
    },
    {
      "cell_type": "code",
      "execution_count": null,
      "metadata": {},
      "outputs": [],
      "source": [
        "y_pred"
      ]
    },
    {
      "cell_type": "code",
      "execution_count": null,
      "metadata": {},
      "outputs": [],
      "source": [
        "from sklearn.model_selection import cross_val_score\n",
        "\n",
        "# Hitung skor validasi silang (cross-validation score)\n",
        "scores = cross_val_score(model, X_train_scaled, y_train, cv=5, scoring='accuracy')  # Ganti 'accuracy' dengan metrik evaluasi yang sesuai\n",
        "\n",
        "# Tampilkan skor validasi silang\n",
        "print(f'Cross-Validation Scores: {scores}')\n",
        "print(f'Average Cross-Validation Score: {scores.mean()}')"
      ]
    },
    {
      "cell_type": "code",
      "execution_count": null,
      "metadata": {},
      "outputs": [],
      "source": [
        "hasil_prediksi = pd.DataFrame({'ID': penanda3, 'jumlah_promosi': y_pred})\n",
        "\n",
        "# Tampilkan hasil prediksi\n",
        "print(hasil_prediksi)"
      ]
    },
    {
      "cell_type": "code",
      "execution_count": null,
      "metadata": {},
      "outputs": [],
      "source": [
        "# Simpan DataFrame hasil_prediksi ke dalam file CSV\n",
        "hasil_prediksi.to_csv('test_labels.csv', index=False)\n"
      ]
    },
    {
      "cell_type": "code",
      "execution_count": null,
      "metadata": {},
      "outputs": [],
      "source": [
        "# gabungan = pd.concat([cleanedTesting, cleanedTraining], ignore_index=True)"
      ]
    },
    {
      "cell_type": "code",
      "execution_count": null,
      "metadata": {},
      "outputs": [],
      "source": [
        "# gabungan.sample()"
      ]
    },
    {
      "cell_type": "code",
      "execution_count": null,
      "metadata": {},
      "outputs": [],
      "source": [
        "# penanda = gabungan['is_train']\n",
        "# gabungan.drop(columns=['is_train'], inplace=True)"
      ]
    },
    {
      "cell_type": "code",
      "execution_count": null,
      "metadata": {},
      "outputs": [],
      "source": [
        "# gabungan.isnull().sum()"
      ]
    },
    {
      "cell_type": "code",
      "execution_count": null,
      "metadata": {},
      "outputs": [],
      "source": [
        "# StandardScaler = StandardScaler()\n",
        "\n",
        "# dataNormalisasi = StandardScaler.fit_transform(gabungan)\n",
        "# dataNormalisasi"
      ]
    },
    {
      "cell_type": "code",
      "execution_count": null,
      "metadata": {},
      "outputs": [],
      "source": [
        "# z_scores = np.abs(dataNormalisasi - np.mean(dataNormalisasi, axis=0)) / np.std(dataNormalisasi, axis=0)\n",
        "# threshold = 23  \n",
        "\n",
        "# # Dapatkan indeks baris yang mengandung outlier\n",
        "# outlier_indices = np.where(z_scores > threshold)\n",
        "\n",
        "# # Hapus baris yang mengandung outlier dari dataNormalisasi\n",
        "# gabungan = np.delete(dataNormalisasi, outlier_indices[0], axis=0)\n",
        "# print(gabungan)"
      ]
    },
    {
      "cell_type": "code",
      "execution_count": null,
      "metadata": {},
      "outputs": [],
      "source": []
    }
  ],
  "metadata": {
    "colab": {
      "provenance": []
    },
    "kernelspec": {
      "display_name": "Python 3",
      "name": "python3"
    },
    "language_info": {
      "codemirror_mode": {
        "name": "ipython",
        "version": 3
      },
      "file_extension": ".py",
      "mimetype": "text/x-python",
      "name": "python",
      "nbconvert_exporter": "python",
      "pygments_lexer": "ipython3",
      "version": "3.11.4"
    }
  },
  "nbformat": 4,
  "nbformat_minor": 0
}
